{
 "metadata": {
  "language_info": {
   "codemirror_mode": {
    "name": "ipython",
    "version": 3
   },
   "file_extension": ".py",
   "mimetype": "text/x-python",
   "name": "python",
   "nbconvert_exporter": "python",
   "pygments_lexer": "ipython3",
   "version": "3.8.5-final"
  },
  "orig_nbformat": 2,
  "kernelspec": {
   "name": "python3",
   "display_name": "Python 3.8.5 64-bit ('base': conda)",
   "metadata": {
    "interpreter": {
     "hash": "39a3f6769e595a50e593a296d8b0c78e5171348aaba449e974344d6732d07a14"
    }
   }
  }
 },
 "nbformat": 4,
 "nbformat_minor": 2,
 "cells": [
  {
   "cell_type": "code",
   "execution_count": 31,
   "metadata": {},
   "outputs": [
    {
     "output_type": "stream",
     "name": "stdout",
     "text": [
      "['1', '2', '4', '5', '7', '8']\n\n\n['4', '1', '7', '7', '2', '5', '2', '8', '4', '1']\n['4', '7', '7', '2', '5', '2', '8', '4', '1']\n\n['4', '7', '7', '2', '5', '2', '8', '4']\n['4', '7', '7', '5', '2', '8', '4']\n\n"
     ]
    },
    {
     "output_type": "execute_result",
     "data": {
      "text/plain": [
       "['4', '7', '7', '5', '8', '4']"
      ]
     },
     "metadata": {},
     "execution_count": 31
    }
   ],
   "source": [
    "#210404_Greedy_큰수만들기\n",
    "num=\"4177252841\"\n",
    "k=4\n",
    "def solution(num,k):\n",
    "    ans=list(num)\n",
    "    nums = sorted(set(num))\n",
    "    print(nums)\n",
    "    print()\n",
    "    for i,v in enumerate(nums):\n",
    "        print()\n",
    "        \n",
    "        if len(ans)+4 == len(num):\n",
    "            break\n",
    "        while v in ans and len(num)-len(ans) < 4:\n",
    "            print(ans)\n",
    "            ans.remove(v)\n",
    "            \n",
    "        \n",
    "\n",
    "\n",
    "    return ans\n",
    "solution(num,k)\n",
    "\n"
   ]
  }
 ]
}