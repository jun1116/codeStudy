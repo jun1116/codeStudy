{
 "cells": [
  {
   "cell_type": "code",
   "execution_count": 3,
   "metadata": {},
   "outputs": [
    {
     "name": "stdout",
     "output_type": "stream",
     "text": [
      "end\n",
      "[8]\n"
     ]
    }
   ],
   "source": [
    "answers = [1,2,3,4,5,1,2,3]\n",
    "\n",
    "answer = []\n",
    "\n",
    "first = [1,2,3,4,5]\n",
    "second = [2,1,2,3,2,4,2,5]\n",
    "thrid = [ 3,3,1,1,2,2,4,4,5,5]\n",
    "\n",
    "one = 0\n",
    "two = 0\n",
    "three = 0\n",
    "\n",
    "for i in range( 0 , len( answers ) ):\n",
    "\n",
    "    f = first[ i % 5 ]\n",
    "    s = second[ i % 8 ]\n",
    "    t = thrid[ i % 10 ]\n",
    "\n",
    "\n",
    "    if f == answers[i]:\n",
    "        one = one +1\n",
    "    if s == answers[i]:\n",
    "        two = two +1\n",
    "    if t == answers[i]:\n",
    "        three = three +1\n",
    "\n",
    "sol = [one,two,three]\n",
    "final = []\n",
    "\n",
    "flag = True\n",
    "\n",
    "for i in range(0,2):\n",
    "\n",
    "    sol_1 = max( sol )\n",
    "    sol_2 = sol.index( sol_1 )\n",
    "\n",
    "    final.append( sol[ sol_2 ] )\n",
    "\n",
    "    sol[sol_2] = 0\n",
    "\n",
    "for i in range( 0 , 1):\n",
    "\n",
    "    if final[i] != final[i+1]:\n",
    "        print('end')\n",
    "        answer.append( final[0] )\n",
    "        break\n",
    "\n",
    "    else:\n",
    "        print('go')\n",
    "        answer.append( final[i] )\n",
    "\n",
    "        if final[1] == final[2]:\n",
    "            answer.append( final[2] )\n",
    "\n",
    "print(answer)\n"
   ]
  }
 ],
 "metadata": {
  "kernelspec": {
   "display_name": "Python 3",
   "language": "python",
   "name": "python3"
  },
  "language_info": {
   "codemirror_mode": {
    "name": "ipython",
    "version": 3
   },
   "file_extension": ".py",
   "mimetype": "text/x-python",
   "name": "python",
   "nbconvert_exporter": "python",
   "pygments_lexer": "ipython3",
   "version": "3.7.6"
  }
 },
 "nbformat": 4,
 "nbformat_minor": 4
}
