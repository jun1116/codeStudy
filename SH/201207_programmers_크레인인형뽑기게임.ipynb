{
 "cells": [
  {
   "cell_type": "code",
   "execution_count": 22,
   "metadata": {},
   "outputs": [],
   "source": [
    "def solution( board , moves ):\n",
    "    \n",
    "    answer = 0\n",
    "    \n",
    "    insert = [0]\n",
    "    count = 0 \n",
    "    dolls = 0\n",
    "    \n",
    "    for i in range( 0 , len(moves) ):\n",
    "        \n",
    "        mo = moves[i] - 1\n",
    "        \n",
    "        for j in range(0 , len(board[mo]) ):\n",
    "            \n",
    "            if board[j][mo] != 0:\n",
    "                \n",
    "                dolls = board[j][mo]\n",
    "                board[j][mo] = 0\n",
    "                \n",
    "                if insert[-1] == dolls:\n",
    "                    count = count + 2 \n",
    "                    insert.pop()\n",
    "                else:\n",
    "                    insert.append( dolls )\n",
    "                \n",
    "#                 print('doll : ', dolls )\n",
    "                \n",
    "                break\n",
    "                       \n",
    "#         print(board)\n",
    "            \n",
    "    answer = count \n",
    "    print( answer)\n",
    "    \n",
    "    return answer"
   ]
  },
  {
   "cell_type": "code",
   "execution_count": 23,
   "metadata": {},
   "outputs": [
    {
     "name": "stdout",
     "output_type": "stream",
     "text": [
      "4\n"
     ]
    },
    {
     "data": {
      "text/plain": [
       "4"
      ]
     },
     "execution_count": 23,
     "metadata": {},
     "output_type": "execute_result"
    }
   ],
   "source": [
    "solution( [[0, 0, 0, 0, 0], [0, 0, 1, 0, 3], [0, 2, 5, 0, 1], [4, 2, 4, 4, 2], [3, 5, 1, 3, 1]], [1, 5, 3, 5, 1, 2, 1, 4] )"
   ]
  }
 ],
 "metadata": {
  "kernelspec": {
   "display_name": "Python 3",
   "language": "python",
   "name": "python3"
  },
  "language_info": {
   "codemirror_mode": {
    "name": "ipython",
    "version": 3
   },
   "file_extension": ".py",
   "mimetype": "text/x-python",
   "name": "python",
   "nbconvert_exporter": "python",
   "pygments_lexer": "ipython3",
   "version": "3.7.6"
  }
 },
 "nbformat": 4,
 "nbformat_minor": 4
}
