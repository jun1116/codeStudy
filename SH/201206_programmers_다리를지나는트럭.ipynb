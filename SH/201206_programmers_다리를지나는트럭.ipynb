{
 "cells": [
  {
   "cell_type": "code",
   "execution_count": 112,
   "metadata": {},
   "outputs": [],
   "source": [
    "def solution(bridge_length, weight, truck_weights):\n",
    "    answer = 0\n",
    "    \n",
    "    on_bridge = []\n",
    "    \n",
    "    sec = 0\n",
    "    now_weight = 0\n",
    "    truck_count = 0\n",
    "    \n",
    "    truck_where = []\n",
    "    \n",
    "    while True:\n",
    "        \n",
    "        sec = sec + 1\n",
    "        \n",
    "        if truck_count < len(truck_weights) and now_weight + truck_weights[ truck_count ] <= weight :\n",
    "            \n",
    "            on_bridge.append( [ truck_count , truck_weights[ truck_count ] , 1 ] )\n",
    "            now_weight = now_weight + truck_weights[ truck_count ]\n",
    "            truck_count = truck_count + 1\n",
    "        \n",
    "        print( 'sec : ' , sec )\n",
    "        print( 'on_bridge : ' ,on_bridge )\n",
    "        print(' now_weight : ' , now_weight )\n",
    "        print( ' on_bridge_count : ' ,len( on_bridge ) )\n",
    "        print()\n",
    "        \n",
    "        out_truck = []\n",
    "        \n",
    "        for i in range( 0 , len(on_bridge) ):\n",
    "\n",
    "            on_bridge[i] = [ on_bridge[i][0] , on_bridge[i][1] , on_bridge[i][2] + 1 ] # index , 무게 , 거리\n",
    "\n",
    "            if on_bridge[i][2] > bridge_length:\n",
    "\n",
    "                now_weight = now_weight - on_bridge[i][1]\n",
    "                out_truck.append( i )\n",
    "                \n",
    "        if len(out_truck) != 0:\n",
    "            for i in range( 0 , len( out_truck ) ):\n",
    "                on_bridge.pop( out_truck[i] )\n",
    "                \n",
    "        \n",
    "        if truck_count == len( truck_weights ) and len( on_bridge ) == 0:\n",
    "            print(' total time : ', sec+1)\n",
    "            break\n",
    "        \n",
    "#         print( 'truck_count : ',truck_count)\n",
    "    \n",
    "    return answer"
   ]
  },
  {
   "cell_type": "code",
   "execution_count": 113,
   "metadata": {},
   "outputs": [
    {
     "name": "stdout",
     "output_type": "stream",
     "text": [
      "sec :  1\n",
      "on_bridge :  [[0, 7, 1]]\n",
      " now_weight :  7\n",
      " on_bridge_count :  1\n",
      "\n",
      "sec :  2\n",
      "on_bridge :  [[0, 7, 2]]\n",
      " now_weight :  7\n",
      " on_bridge_count :  1\n",
      "\n",
      "sec :  3\n",
      "on_bridge :  [[1, 4, 1]]\n",
      " now_weight :  4\n",
      " on_bridge_count :  1\n",
      "\n",
      "sec :  4\n",
      "on_bridge :  [[1, 4, 2], [2, 5, 1]]\n",
      " now_weight :  9\n",
      " on_bridge_count :  2\n",
      "\n",
      "sec :  5\n",
      "on_bridge :  [[2, 5, 2]]\n",
      " now_weight :  5\n",
      " on_bridge_count :  1\n",
      "\n",
      "sec :  6\n",
      "on_bridge :  [[3, 6, 1]]\n",
      " now_weight :  6\n",
      " on_bridge_count :  1\n",
      "\n",
      "sec :  7\n",
      "on_bridge :  [[3, 6, 2]]\n",
      " now_weight :  6\n",
      " on_bridge_count :  1\n",
      "\n",
      " total time :  8\n"
     ]
    },
    {
     "data": {
      "text/plain": [
       "0"
      ]
     },
     "execution_count": 113,
     "metadata": {},
     "output_type": "execute_result"
    }
   ],
   "source": [
    "solution( 2, 10, [7, 4, 5, 6] )"
   ]
  }
 ],
 "metadata": {
  "kernelspec": {
   "display_name": "Python 3",
   "language": "python",
   "name": "python3"
  },
  "language_info": {
   "codemirror_mode": {
    "name": "ipython",
    "version": 3
   },
   "file_extension": ".py",
   "mimetype": "text/x-python",
   "name": "python",
   "nbconvert_exporter": "python",
   "pygments_lexer": "ipython3",
   "version": "3.7.6"
  }
 },
 "nbformat": 4,
 "nbformat_minor": 4
}
