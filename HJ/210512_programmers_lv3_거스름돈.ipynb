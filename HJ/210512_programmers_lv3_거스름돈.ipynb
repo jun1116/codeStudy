{
 "metadata": {
  "language_info": {
   "codemirror_mode": {
    "name": "ipython",
    "version": 3
   },
   "file_extension": ".py",
   "mimetype": "text/x-python",
   "name": "python",
   "nbconvert_exporter": "python",
   "pygments_lexer": "ipython3",
   "version": "3.8.5"
  },
  "orig_nbformat": 2,
  "kernelspec": {
   "name": "python385jvsc74a57bd039a3f6769e595a50e593a296d8b0c78e5171348aaba449e974344d6732d07a14",
   "display_name": "Python 3.8.5 64-bit ('base': conda)"
  }
 },
 "nbformat": 4,
 "nbformat_minor": 2,
 "cells": [
  {
   "cell_type": "code",
   "execution_count": 1,
   "source": [
    "n=5\n",
    "money=[1,2,5]\n",
    "def solution(n=n,money=money):\n",
    "    global answer\n",
    "    answer=0\n",
    "    money.sort()\n",
    "\n",
    "    def tracking(change, moneys):\n",
    "        global answer\n",
    "        if moneys:\n",
    "            moneys=moneys[:]\n",
    "            howmany = change//moneys[-1]\n",
    "            now = moneys.pop()\n",
    "            \n",
    "            \n",
    "            # print(f'change : {change}, now : {now}, 몇개사용가능? : {howmany}')\n",
    "            for i in range(howmany+1):\n",
    "                if change-(now*i)==0:\n",
    "                    # print(f'{now}원 {i}개 사용')\n",
    "                    answer+=1\n",
    "                else:\n",
    "                    # print(f\"Recursive : change : {change}, {now}원 {i}개 사용\")\n",
    "                    tracking(change-(now*i), moneys)\n",
    "        \n",
    "        if change==0 and len(moneys)==0:\n",
    "            # print('도달')\n",
    "            answer+=1\n",
    "\n",
    "    \n",
    "    tracking(n,money)\n",
    "\n",
    "    return answer\n",
    "\n",
    "solution(n,money)"
   ],
   "outputs": [
    {
     "output_type": "execute_result",
     "data": {
      "text/plain": [
       "4"
      ]
     },
     "metadata": {},
     "execution_count": 1
    }
   ],
   "metadata": {}
  },
  {
   "cell_type": "code",
   "execution_count": null,
   "source": [],
   "outputs": [],
   "metadata": {}
  },
  {
   "cell_type": "markdown",
   "source": [
    "# 공부하자코드"
   ],
   "metadata": {}
  },
  {
   "cell_type": "code",
   "execution_count": null,
   "source": [],
   "outputs": [],
   "metadata": {}
  },
  {
   "cell_type": "code",
   "execution_count": 7,
   "source": [
    "def solution(n, money):\n",
    "    dp = [1]+[0]*n\n",
    "    for coin in money:\n",
    "        for price in range(coin,n+1):\n",
    "            if price>=coin:\n",
    "                dp[price] += dp[price-coin]\n",
    "    return dp\n",
    "\n",
    "solution(8,[1,3,5])"
   ],
   "outputs": [
    {
     "output_type": "execute_result",
     "data": {
      "text/plain": [
       "[1, 1, 1, 2, 2, 3, 4, 4, 5]"
      ]
     },
     "metadata": {},
     "execution_count": 7
    }
   ],
   "metadata": {}
  }
 ]
}