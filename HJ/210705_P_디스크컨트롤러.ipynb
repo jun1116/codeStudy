{
 "cells": [
  {
   "cell_type": "code",
   "execution_count": 5,
   "metadata": {},
   "outputs": [
    {
     "name": "stdout",
     "output_type": "stream",
     "text": [
      "남은 jobsdeque([[20, 6]])\t 현재 HEAP:[[9, 1]], \t\t현재 cnt : 3\t\t현재 waited:3\n",
      "남은 jobsdeque([[20, 6]])\t 현재 HEAP:[], \t\t현재 cnt : 12\t\t현재 waited:14\n",
      "남은 jobsdeque([[20, 6]])\t 현재 HEAP:[], \t\t현재 cnt : 13\t\t현재 waited:14\n",
      "남은 jobsdeque([[20, 6]])\t 현재 HEAP:[], \t\t현재 cnt : 14\t\t현재 waited:14\n",
      "남은 jobsdeque([[20, 6]])\t 현재 HEAP:[], \t\t현재 cnt : 15\t\t현재 waited:14\n",
      "남은 jobsdeque([[20, 6]])\t 현재 HEAP:[], \t\t현재 cnt : 16\t\t현재 waited:14\n",
      "남은 jobsdeque([[20, 6]])\t 현재 HEAP:[], \t\t현재 cnt : 17\t\t현재 waited:14\n",
      "남은 jobsdeque([[20, 6]])\t 현재 HEAP:[], \t\t현재 cnt : 18\t\t현재 waited:14\n",
      "남은 jobsdeque([[20, 6]])\t 현재 HEAP:[], \t\t현재 cnt : 19\t\t현재 waited:14\n",
      "남은 jobsdeque([])\t 현재 HEAP:[[6, 20]], \t\t현재 cnt : 20\t\t현재 waited:14\n",
      "남은 jobsdeque([])\t 현재 HEAP:[], \t\t현재 cnt : 26\t\t현재 waited:20\n"
     ]
    },
    {
     "data": {
      "text/plain": [
       "6"
      ]
     },
     "execution_count": 5,
     "metadata": {},
     "output_type": "execute_result"
    }
   ],
   "source": [
    "from heapq import *\n",
    "from collections import deque\n",
    "def solution(jobs):\n",
    "    jobs = deque(sorted(jobs, key=(lambda x: (x[0],x[1]))))\n",
    "    waited=0\n",
    "    n=0\n",
    "    cnt=jobs[0][0] # 첫 작업 도착시간으로 세팅\n",
    "    a,b = jobs.popleft()\n",
    "    hq=[[b,a]]\n",
    "    while hq or jobs:\n",
    "        if hq:\n",
    "            n+=1 # job개수카운트\n",
    "            jobtime,come = heappop(hq) # 작업시간 , 도착시간\n",
    "            cnt += jobtime \n",
    "            waited+=(cnt-come)\n",
    "        else:\n",
    "            cnt+=1\n",
    "        while jobs:\n",
    "            if jobs[0][0]<=cnt:\n",
    "                nextjob = jobs.popleft()\n",
    "                heappush(hq, [nextjob[1], nextjob[0]])\n",
    "            else:\n",
    "                break\n",
    "        \n",
    "        print(f'남은 jobs{jobs}\\t 현재 HEAP:{hq}, \\t\\t현재 cnt : {cnt}\\t\\t현재 waited:{waited}')\n",
    "    return waited//n\n",
    "\n",
    "# jobs=[[24, 10], [28, 39], [43, 20], [37, 5], [47, 22], [20, 47], [15, 34], [15, 2], [35, 43], [26, 1]]\n",
    "jobs=[[0,3],[1,9],[20,6]]\n",
    "solution(jobs)"
   ]
  }
 ],
 "metadata": {
  "interpreter": {
   "hash": "fadc0cf148511e913432907e7552089c1c0a3aee5ad75d70a741eb25cd3cd508"
  },
  "kernelspec": {
   "display_name": "Python 3.8.0 64-bit ('codestates': conda)",
   "name": "python3"
  },
  "language_info": {
   "codemirror_mode": {
    "name": "ipython",
    "version": 3
   },
   "file_extension": ".py",
   "mimetype": "text/x-python",
   "name": "python",
   "nbconvert_exporter": "python",
   "pygments_lexer": "ipython3",
   "version": "3.8.0"
  },
  "orig_nbformat": 4
 },
 "nbformat": 4,
 "nbformat_minor": 2
}