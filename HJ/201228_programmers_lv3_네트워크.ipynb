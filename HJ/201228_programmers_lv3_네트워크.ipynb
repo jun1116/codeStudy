{
 "cells": [
  {
   "cell_type": "code",
   "execution_count": 5,
   "metadata": {
    "ExecuteTime": {
     "end_time": "2020-12-28T11:25:53.701788Z",
     "start_time": "2020-12-28T11:25:53.691787Z"
    }
   },
   "outputs": [
    {
     "data": {
      "text/plain": [
       "2"
      ]
     },
     "execution_count": 5,
     "metadata": {},
     "output_type": "execute_result"
    }
   ],
   "source": [
    "computers=[[1, 1, 0], [1, 1, 0], [0, 0, 1]]\t\n",
    "def solution(n, computers):\n",
    "    answer = 0\n",
    "    visited=[]\n",
    "    for i,v in enumerate(computers):\n",
    "        if i in visited:continue\n",
    "        else:\n",
    "            visited.extend(DFS_Net(computers,i))\n",
    "            answer+=1\n",
    "    return answer\n",
    "\n",
    "def DFS_Net(computers,start):\n",
    "    visited=[]\n",
    "    stack=[i for i,v in enumerate(computers[start]) if v!=0]\n",
    "\n",
    "    while stack:\n",
    "        now=stack.pop()\n",
    "        if now in visited:continue\n",
    "        visited.append(now)\n",
    "        stack.extend([i for i,v in enumerate(computers[now]) if v !=0])\n",
    "    \n",
    "    return visited\n",
    "    \n",
    "    \n",
    "solution(3,computers)"
   ]
  },
  {
   "cell_type": "code",
   "execution_count": null,
   "metadata": {},
   "outputs": [],
   "source": []
  },
  {
   "cell_type": "markdown",
   "metadata": {},
   "source": [
    "#### 공부해볼만한 코드"
   ]
  },
  {
   "cell_type": "code",
   "execution_count": 10,
   "metadata": {
    "ExecuteTime": {
     "end_time": "2020-12-28T11:30:22.151332Z",
     "start_time": "2020-12-28T11:30:22.143762Z"
    }
   },
   "outputs": [
    {
     "name": "stdout",
     "output_type": "stream",
     "text": [
      "[0, 1, 2]\n",
      "[0, 1, 2]\n",
      "[1, 1, 2]\n",
      "[1, 1, 2]\n",
      "[1, 1, 2]\n",
      "[1, 1, 2]\n",
      "[1, 1, 2]\n",
      "[1, 1, 2]\n"
     ]
    },
    {
     "data": {
      "text/plain": [
       "2"
      ]
     },
     "execution_count": 10,
     "metadata": {},
     "output_type": "execute_result"
    }
   ],
   "source": [
    "def solution(n, computers):\n",
    "    temp = []\n",
    "    for i in range(n):\n",
    "        temp.append(i)\n",
    "    for i in range(n):\n",
    "        for j in range(n):\n",
    "            print(i,j , computers[i][j])\n",
    "            if computers[i][j]:\n",
    "                for k in range(n):\n",
    "                    if temp[k] == temp[i]:\n",
    "                        print(temp)\n",
    "                        temp[k] = temp[j]\n",
    "    return len(set(temp))\n",
    "solution(3,computers)"
   ]
  },
  {
   "cell_type": "markdown",
   "metadata": {},
   "source": []
  },
  {
   "cell_type": "code",
   "execution_count": null,
   "metadata": {},
   "outputs": [],
   "source": [
    "def solution(n, computers):\n",
    "    answer = 0\n",
    "    visited = [0 for i in range(n)]\n",
    "    def dfs(computers, visited, start):\n",
    "        stack = [start]\n",
    "        while stack:\n",
    "            j = stack.pop()\n",
    "            if visited[j] == 0:\n",
    "                visited[j] = 1\n",
    "            # for i in range(len(computers)-1, -1, -1):\n",
    "            for i in range(0, len(computers)):\n",
    "                if computers[j][i] ==1 and visited[i] == 0:\n",
    "                    stack.append(i)\n",
    "    i=0\n",
    "    while 0 in visited:\n",
    "        if visited[i] ==0:\n",
    "            dfs(computers, visited, i)\n",
    "            answer +=1\n",
    "        i+=1\n",
    "    return answer"
   ]
  },
  {
   "cell_type": "markdown",
   "metadata": {},
   "source": []
  }
 ],
 "metadata": {
  "kernelspec": {
   "display_name": "Python 3",
   "language": "python",
   "name": "python3"
  },
  "language_info": {
   "codemirror_mode": {
    "name": "ipython",
    "version": 3
   },
   "file_extension": ".py",
   "mimetype": "text/x-python",
   "name": "python",
   "nbconvert_exporter": "python",
   "pygments_lexer": "ipython3",
   "version": "3.8.5"
  },
  "toc": {
   "base_numbering": 1,
   "nav_menu": {},
   "number_sections": true,
   "sideBar": true,
   "skip_h1_title": false,
   "title_cell": "Table of Contents",
   "title_sidebar": "Contents",
   "toc_cell": false,
   "toc_position": {},
   "toc_section_display": true,
   "toc_window_display": false
  }
 },
 "nbformat": 4,
 "nbformat_minor": 4
}
