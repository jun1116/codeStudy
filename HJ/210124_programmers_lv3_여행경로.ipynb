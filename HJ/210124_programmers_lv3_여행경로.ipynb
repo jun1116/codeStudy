{
 "cells": [
  {
   "cell_type": "code",
   "execution_count": 26,
   "metadata": {},
   "outputs": [
    {
     "output_type": "execute_result",
     "data": {
      "text/plain": [
       "['ICN', 'ATL', 'ICN', 'SFO', 'ATL', 'SFO']"
      ]
     },
     "metadata": {},
     "execution_count": 26
    }
   ],
   "source": [
    "def solution(tickets):\n",
    "    answer = []\n",
    "    dic=mkgraph(tickets)\n",
    "    answer = DFS(dic)\n",
    "    return answer\n",
    "\n",
    "\n",
    "def DFS(graph):\n",
    "    order=['ICN']\n",
    "    visited=['ICN']\n",
    "    stack=sorted(graph['ICN'],reverse=True)\n",
    "    while stack:\n",
    "#         print(visited, stack)\n",
    "        now=stack.pop()\n",
    "#         print('NOW -> ',now )\n",
    "        order.append(now)\n",
    "        if now in visited : continue\n",
    "        else:\n",
    "            visited.append(now)\n",
    "            tmp=graph.get(now)\n",
    "            if tmp:\n",
    "                stack.extend(sorted(tmp,reverse=True))\n",
    "            else:break\n",
    "    return order\n",
    "\n",
    "def mkgraph(tickets):\n",
    "    dic=dict()\n",
    "    for f,t in tickets:\n",
    "        now=dic.get(f)\n",
    "        if now:\n",
    "            now.append(t)\n",
    "        else:\n",
    "            dic[f]=[t]\n",
    "    return dic\n",
    "# tickets=[[\"ICN\", \"JFK\"], [\"HND\", \"IAD\"], [\"JFK\", \"HND\"]]\n",
    "tickets=[[\"ICN\", \"SFO\"], [\"ICN\", \"ATL\"], [\"SFO\", \"ATL\"], [\"ATL\", \"ICN\"], [\"ATL\", \"SFO\"]]\n",
    "# solution([[\"ICN\", \"JFK\"], [\"HND\", \"IAD\"], [\"JFK\", \"HND\"]])\n",
    "solution([[\"ICN\", \"SFO\"], [\"ICN\", \"ATL\"], [\"SFO\", \"ATL\"], [\"ATL\", \"ICN\"], [\"ATL\", \"SFO\"]])\n",
    "# mkgraph(tickets)"
   ]
  },
  {
   "cell_type": "code",
   "execution_count": 24,
   "metadata": {
    "tags": []
   },
   "outputs": [
    {
     "output_type": "stream",
     "name": "stdout",
     "text": [
      "['ICN', 'ATL', 'SFO', 'ICN', 'SFO', 'ATL']\n"
     ]
    }
   ],
   "source": [
    "def BFS(graph, start='ICN'):\n",
    "    visited=[start]\n",
    "    order=[start]\n",
    "    que=sorted(graph[start])\n",
    "    while que:\n",
    "        now=que.pop(0)\n",
    "        order.append(now)\n",
    "        if now in visited:continue\n",
    "        visited.append(now)\n",
    "        tmp=graph.get(now)\n",
    "        if tmp:\n",
    "            que.extend(sorted(tmp))\n",
    "        # else: break\n",
    "    print(order)\n",
    "    # print(visited)\n",
    "\n",
    "\n",
    "BFS(mkgraph(tickets))"
   ]
  },
  {
   "cell_type": "code",
   "execution_count": null,
   "metadata": {},
   "outputs": [],
   "source": []
  },
  {
   "cell_type": "code",
   "execution_count": null,
   "metadata": {},
   "outputs": [],
   "source": []
  },
  {
   "cell_type": "code",
   "execution_count": null,
   "metadata": {},
   "outputs": [],
   "source": []
  },
  {
   "cell_type": "code",
   "execution_count": null,
   "metadata": {},
   "outputs": [],
   "source": []
  },
  {
   "cell_type": "code",
   "execution_count": null,
   "metadata": {},
   "outputs": [],
   "source": []
  },
  {
   "cell_type": "code",
   "execution_count": null,
   "metadata": {},
   "outputs": [],
   "source": []
  },
  {
   "cell_type": "markdown",
   "metadata": {},
   "source": [
    "#### 공부해볼만한 코드"
   ]
  },
  {
   "cell_type": "code",
   "execution_count": null,
   "metadata": {},
   "outputs": [],
   "source": []
  },
  {
   "cell_type": "code",
   "execution_count": null,
   "metadata": {},
   "outputs": [],
   "source": []
  },
  {
   "cell_type": "code",
   "execution_count": null,
   "metadata": {},
   "outputs": [],
   "source": []
  }
 ],
 "metadata": {
  "kernelspec": {
   "display_name": "Python 3",
   "language": "python",
   "name": "python3"
  },
  "language_info": {
   "codemirror_mode": {
    "name": "ipython",
    "version": 3
   },
   "file_extension": ".py",
   "mimetype": "text/x-python",
   "name": "python",
   "nbconvert_exporter": "python",
   "pygments_lexer": "ipython3",
   "version": "3.8.3-final"
  },
  "toc": {
   "base_numbering": 1,
   "nav_menu": {},
   "number_sections": true,
   "sideBar": true,
   "skip_h1_title": false,
   "title_cell": "Table of Contents",
   "title_sidebar": "Contents",
   "toc_cell": false,
   "toc_position": {},
   "toc_section_display": true,
   "toc_window_display": false
  }
 },
 "nbformat": 4,
 "nbformat_minor": 4
}