{
 "metadata": {
  "language_info": {
   "codemirror_mode": {
    "name": "ipython",
    "version": 3
   },
   "file_extension": ".py",
   "mimetype": "text/x-python",
   "name": "python",
   "nbconvert_exporter": "python",
   "pygments_lexer": "ipython3",
   "version": "3.8.5"
  },
  "orig_nbformat": 4,
  "kernelspec": {
   "name": "python3",
   "display_name": "Python 3.8.5 64-bit ('base': conda)"
  },
  "interpreter": {
   "hash": "39a3f6769e595a50e593a296d8b0c78e5171348aaba449e974344d6732d07a14"
  }
 },
 "nbformat": 4,
 "nbformat_minor": 2,
 "cells": [
  {
   "cell_type": "code",
   "execution_count": 1,
   "metadata": {},
   "outputs": [
    {
     "output_type": "execute_result",
     "data": {
      "text/plain": [
       "4"
      ]
     },
     "metadata": {},
     "execution_count": 1
    }
   ],
   "source": [
    "from itertools import combinations\n",
    "def solution(nums):\n",
    "    def mknum(n):\n",
    "        arr=[i for i in range(n+1)]\n",
    "        \n",
    "        for i in range(2,(n//2)+1):\n",
    "            # print(arr)\n",
    "            if arr[i]<2: continue\n",
    "            else:\n",
    "                cnt=2\n",
    "                while i*cnt < len(arr):\n",
    "                    # print(i*cnt)\n",
    "                    arr[i*cnt]=0\n",
    "                    cnt+=1\n",
    "        return [i for i in arr[2:] if i!=0]\n",
    "    \n",
    "    arr=mknum(max(nums)*3)\n",
    "    numlist=list(map(lambda x : sum(x), list(combinations(nums,3))))\n",
    "    answer=0\n",
    "    for n in numlist:\n",
    "        if n in arr:\n",
    "            answer+=1\n",
    "\n",
    "    return answer\n",
    "solution([1,2,7,6,4])"
   ]
  }
 ]
}