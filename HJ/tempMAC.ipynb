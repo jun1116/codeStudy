{
 "metadata": {
  "language_info": {
   "codemirror_mode": {
    "name": "ipython",
    "version": 3
   },
   "file_extension": ".py",
   "mimetype": "text/x-python",
   "name": "python",
   "nbconvert_exporter": "python",
   "pygments_lexer": "ipython3",
   "version": "3.8.5"
  },
  "orig_nbformat": 4,
  "kernelspec": {
   "name": "python3",
   "display_name": "Python 3.8.5 64-bit ('base': conda)"
  },
  "interpreter": {
   "hash": "39a3f6769e595a50e593a296d8b0c78e5171348aaba449e974344d6732d07a14"
  }
 },
 "nbformat": 4,
 "nbformat_minor": 2,
 "cells": [
  {
   "cell_type": "code",
   "execution_count": 5,
   "metadata": {},
   "outputs": [
    {
     "output_type": "execute_result",
     "data": {
      "text/plain": [
       "2"
      ]
     },
     "metadata": {},
     "execution_count": 5
    }
   ],
   "source": [
    "# 이코테 DP 219p.\n",
    "def solution(n):\n",
    "    d=[0]*30000\n",
    "    for i in range(2,n+1):\n",
    "        d[i] = d[i-1]+1\n",
    "        if i%5==0:\n",
    "            d[i] = min(d[i], d[i//5]+1)\n",
    "        if i%3==0:\n",
    "            d[i] = min(d[i], d[i//3]+1)\n",
    "        if i%2==0:\n",
    "            d[i] = min(d[i], d[i//2]+1)\n",
    "    return d[n]\n",
    "solution(10)\n"
   ]
  },
  {
   "cell_type": "code",
   "execution_count": 7,
   "metadata": {},
   "outputs": [
    {
     "output_type": "execute_result",
     "data": {
      "text/plain": [
       "8"
      ]
     },
     "metadata": {},
     "execution_count": 7
    }
   ],
   "source": [
    "# 이코테 DP 220p\n",
    "def solution(arr):\n",
    "    dp=[0]*len(arr)\n",
    "    dp[0] = arr[0]\n",
    "    dp[1] = max(arr[0], arr[1])\n",
    "    for i in range(2,len(arr)):\n",
    "        dp[i] = max(dp[i-1], dp[i-2]+arr[i])\n",
    "    return dp[-1]\n",
    "solution([1,3,1,5])"
   ]
  },
  {
   "cell_type": "code",
   "execution_count": 33,
   "metadata": {},
   "outputs": [
    {
     "output_type": "stream",
     "name": "stdout",
     "text": [
      "2\n3\n5\n7\n"
     ]
    },
    {
     "output_type": "execute_result",
     "data": {
      "text/plain": [
       "[0, 10000, 1, 1, 2, 1, 2, 1, 2, 2, 2, 3, 2, 3]"
      ]
     },
     "metadata": {},
     "execution_count": 33
    }
   ],
   "source": [
    "def solution(coins, m):\n",
    "    dp=[10000]*(m+1)\n",
    "    coins = sorted(coins)\n",
    "    dp[0]=0\n",
    "    for coin in coins:\n",
    "        print(coin)\n",
    "        for j in range(coin,m+1):\n",
    "            # if dp[j-coin]<10000:\n",
    "            dp[j] = min(dp[j], dp[j-coin]+1)\n",
    "        \n",
    "    return dp\n",
    "\n",
    "solution([2,3,5,7],13)"
   ]
  },
  {
   "cell_type": "code",
   "execution_count": 1,
   "metadata": {},
   "outputs": [],
   "source": [
    "# 마이다스 1\n",
    "N,mine=9,[ [1, 1], [1, 7], [2, 7], [3, 6], [4, 1], [4, 4], [4, 8], [8, 4], [8, 5], [9, 6] ]#[[-1, 1, 0, 0, 0, 2,-1, 2, 0],[ 1, 1, 0, 0, 1, 3,-1, 2, 0],[ 1, 1, 1, 1, 2,-1, 3, 2, 1],[-1, 1, 1,-1, 2, 1, 2,-1, 1],[ 1, 1, 1, 1, 1, 0, 1, 1, 1],[ 0, 0, 0, 0, 0, 0, 0, 0, 0],[ 0, 0, 1, 2, 2, 1, 0, 0, 0],[ 0, 0, 1,-1,-1, 2, 1, 0, 0],[ 0, 0, 1, 2, 3,-1, 1, 0, 0]]"
   ]
  },
  {
   "cell_type": "code",
   "execution_count": 11,
   "metadata": {},
   "outputs": [
    {
     "output_type": "execute_result",
     "data": {
      "text/plain": [
       "[[-1, 1, 0, 0, 0, 2, -1, 2, 0],\n",
       " [1, 1, 0, 0, 1, 3, -1, 2, 0],\n",
       " [1, 1, 1, 1, 2, -1, 3, 2, 1],\n",
       " [-1, 1, 1, -1, 2, 1, 2, -1, 1],\n",
       " [1, 1, 1, 1, 1, 0, 1, 1, 1],\n",
       " [0, 0, 0, 0, 0, 0, 0, 0, 0],\n",
       " [0, 0, 1, 2, 2, 1, 0, 0, 0],\n",
       " [0, 0, 1, -1, -1, 2, 1, 0, 0],\n",
       " [0, 0, 1, 2, 3, -1, 1, 0, 0]]"
      ]
     },
     "metadata": {},
     "execution_count": 11
    }
   ],
   "source": [
    "def solution(N,mine):\n",
    "    mat = [[0 for j in range(N)] for i in range(N)]\n",
    "    for x,y in mine:\n",
    "        mat[x-1][y-1] = -1\n",
    "    # 왼쪽 위 (10시방향) 부터 시계방향으로 체크체크\n",
    "    dx=[-1,-1,-1,0,1,1,1,0] # 1,2,3 4,5,6 7,8,9 \n",
    "    dy=[-1,0,1,1,1,0,-1,-1]\n",
    "    \n",
    "    for x in range(N):\n",
    "        for y in range(N):\n",
    "            if mat[x][y]==-1:\n",
    "                continue\n",
    "            cnt=0\n",
    "            # print(x,y)\n",
    "            for d in range(8):\n",
    "                nx,ny = x+dx[d], y+dy[d]\n",
    "                if nx<0 or ny<0 or nx>=N or ny>=N: continue\n",
    "                if mat[nx][ny]==-1: cnt+=1\n",
    "\n",
    "            mat[x][y] = cnt\n",
    "    return mat\n",
    "\n",
    "solution(N,mine)"
   ]
  },
  {
   "cell_type": "code",
   "execution_count": 20,
   "metadata": {},
   "outputs": [],
   "source": [
    "# 2번\n",
    "# n\tv1\tv2\tnum\tamount\tanswer\n",
    "n,v1,v2,num,amount=10,[1, 10, 6, 5, 6, 9],[3, 7, 2, 8, 7, 3],[3, 4, 5, 1, 8, 7, 9, 2],[10, 5, 6, -6, -8, 2, -2, 5]#2\n",
    "# n,v1,v2,num,amount=10,[8, 4, 4, 1],[1, 10, 9, 4],[2, 5, 8, 6, 4, 1, 3, 10, 7, 4],[3, -1, 3, 3, 1, -2, -4, 1, 2, -5]#2\n",
    "# n,v1,v2,num,amount=4,[1, 3],[2, 4],[2, 2],[1, -2]#3\n",
    "# n,v1,v2,num,amount=6,[1, 5, 3, 6, 2],[5, 4, 6, 2, 3],[1, 5, 4, 3, 6, 2],[3, 6, -2, 2, 2, 2]#1"
   ]
  },
  {
   "cell_type": "code",
   "execution_count": 113,
   "metadata": {},
   "outputs": [
    {
     "output_type": "stream",
     "name": "stdout",
     "text": [
      "{1: 2, 2: 7, 4: 5, 5: -2}\n"
     ]
    },
    {
     "output_type": "execute_result",
     "data": {
      "text/plain": [
       "2"
      ]
     },
     "metadata": {},
     "execution_count": 113
    }
   ],
   "source": [
    "def find(x):\n",
    "    global leader\n",
    "    if leader[x] == x:\n",
    "        return x\n",
    "    else:\n",
    "        leader[x] = find(leader[x])\n",
    "        return leader[x]\n",
    "\n",
    "def union(x,y):\n",
    "    global leader\n",
    "    x = find(x)\n",
    "    y = find(y)\n",
    "    if x==y: return\n",
    "    leader[max(x,y)] = min(x,y)\n",
    "\n",
    "def solution(n, v1, v2, num, amount):\n",
    "    global leader\n",
    "    leader = [i for i in range(n+1)] # 초기값 자기자신이 리더로 세팅, 계산의 편의를 위해 N+1만큼\n",
    "    for x,y in zip(v1,v2):# 합집합연산시행\n",
    "        union(x,y)   \n",
    "    for i in range(n+1): # union연산 순서에 따라, 나중에 입력된 학생의 경우 경로축소가 적용되지 않는 경우를 대비\n",
    "        find(i)\n",
    "    total = {i :0 for i in set(leader[1:])} # 세팅완료\n",
    "    \n",
    "    \n",
    "    for n,am in zip(num, amount): # 점수매겨주기 자기팀 리더의 점수로 찾아가서 계산떄려버리기\n",
    "        total[leader[n]] += am\n",
    "    \n",
    "    print(total)\n",
    "    \n",
    "    score = -int(1e9) # 음수의 점수를 갖고있는경우도 있으므로\n",
    "    team=int(1e9) # 리더번호는 같다면 작은순이므로\n",
    "    \n",
    "    for tot in total:\n",
    "        if total[tot]>score:\n",
    "            if total[tot]==score:\n",
    "                team = min(tot,team)\n",
    "            else:\n",
    "                team = tot\n",
    "            score = total[tot]\n",
    "    return team\n",
    "# Union-find알고리즘을 생각했고, 각각의 부모는 자기 팀 리더학생으로 세팅\n",
    "# \n",
    "n,v1,v2,num,amount=10,[1, 10, 6, 5, 6, 9],[3, 7, 2, 8, 7, 3],[3, 4, 5, 1, 8, 7, 9, 2],[10, 5, 6, -6, -8, 2, -2, 5]#2\n",
    "# n,v1,v2,num,amount=6,[1, 5, 3, 6, 2],[5, 4, 6, 2, 3],[1, 5, 4, 3, 6, 2],[3, 6, -2, 2, 2, 2]#1\n",
    "# n,v1,v2,num,amount=4,[1, 3],[2, 4],[2, 2],[1, -2]#3\n",
    "\n",
    "solution(n, v1, v2, num, amount)"
   ]
  },
  {
   "cell_type": "code",
   "execution_count": null,
   "metadata": {},
   "outputs": [],
   "source": []
  },
  {
   "cell_type": "code",
   "execution_count": 112,
   "metadata": {},
   "outputs": [
    {
     "output_type": "execute_result",
     "data": {
      "text/plain": [
       "4"
      ]
     },
     "metadata": {},
     "execution_count": 112
    }
   ],
   "source": [
    "# 3번\n",
    "# N\tK\tT\tanswer\n",
    "N,K,T=4,4,[[1,3],[1,1],[2,3],[3,4]] #4\n",
    "# N,K,T=6,4,[ [1,3],[3,4],[2,4],[2,4],[2,3],[1,2] ] #4\n",
    "\n",
    "# 아이디어 : 그날그날, 가장 남은 가능일수가 적은 학생들 위주로 처리한다면, 매 순간의 최선의 선택일 것이다.\n",
    "\n",
    "from heapq import *\n",
    "def solution(N,K,T):\n",
    "    answer = 0\n",
    "    days = [[] for i in range(K+1)] # 계산의 편의를 위해 1일을 더 넣음\n",
    "\n",
    "    for i,t in enumerate(T):\n",
    "        for day in range(t[0],t[1]+1): # 학생의 상담가능일들에 대하여\n",
    "            heappush(days[day], [t[1]-day,i]) # 남은 상담가능일을 계산하여 heap으로 학생번호와 함께 넣어줌\n",
    "    # print(days)\n",
    "    checked=[] # 상담받은 학생인지 체크\n",
    "    for day in days[1:]:\n",
    "        while day:\n",
    "            _, student = heappop(day)\n",
    "            if student in checked: # 이미 상담받은 학생인가? -> 넘어가기\n",
    "                continue\n",
    "            else: # 새롭게 상담을 받는 학생 -> 상담 & answer+=1\n",
    "                checked.append(student) \n",
    "                answer+=1\n",
    "                break\n",
    "    return answer\n",
    "solution(N,K,T)"
   ]
  },
  {
   "cell_type": "code",
   "execution_count": null,
   "metadata": {},
   "outputs": [],
   "source": []
  }
 ]
}