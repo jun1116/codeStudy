{
 "metadata": {
  "language_info": {
   "codemirror_mode": {
    "name": "ipython",
    "version": 3
   },
   "file_extension": ".py",
   "mimetype": "text/x-python",
   "name": "python",
   "nbconvert_exporter": "python",
   "pygments_lexer": "ipython3",
   "version": "3.9.4"
  },
  "orig_nbformat": 4,
  "kernelspec": {
   "name": "python3",
   "display_name": "Python 3.9.4 64-bit ('base': conda)"
  },
  "interpreter": {
   "hash": "cb21448086e1b039f0143f4b6f3949a0ab18b782485cd082e49e693fdc0e34f1"
  }
 },
 "nbformat": 4,
 "nbformat_minor": 2,
 "cells": [
  {
   "cell_type": "code",
   "execution_count": 5,
   "metadata": {},
   "outputs": [
    {
     "output_type": "execute_result",
     "data": {
      "text/plain": [
       "2"
      ]
     },
     "metadata": {},
     "execution_count": 5
    }
   ],
   "source": [
    "# 이코테 DP 219p.\n",
    "def solution(n):\n",
    "    d=[0]*30000\n",
    "    for i in range(2,n+1):\n",
    "        d[i] = d[i-1]+1\n",
    "        if i%5==0:\n",
    "            d[i] = min(d[i], d[i//5]+1)\n",
    "        if i%3==0:\n",
    "            d[i] = min(d[i], d[i//3]+1)\n",
    "        if i%2==0:\n",
    "            d[i] = min(d[i], d[i//2]+1)\n",
    "    return d[n]\n",
    "solution(10)\n"
   ]
  },
  {
   "cell_type": "code",
   "execution_count": 7,
   "metadata": {},
   "outputs": [
    {
     "output_type": "execute_result",
     "data": {
      "text/plain": [
       "8"
      ]
     },
     "metadata": {},
     "execution_count": 7
    }
   ],
   "source": [
    "# 이코테 DP 220p\n",
    "def solution(arr):\n",
    "    dp=[0]*len(arr)\n",
    "    dp[0] = arr[0]\n",
    "    dp[1] = max(arr[0], arr[1])\n",
    "    for i in range(2,len(arr)):\n",
    "        dp[i] = max(dp[i-1], dp[i-2]+arr[i])\n",
    "    return dp[-1]\n",
    "solution([1,3,1,5])"
   ]
  },
  {
   "cell_type": "code",
   "execution_count": 33,
   "metadata": {},
   "outputs": [
    {
     "output_type": "stream",
     "name": "stdout",
     "text": [
      "2\n3\n5\n7\n"
     ]
    },
    {
     "output_type": "execute_result",
     "data": {
      "text/plain": [
       "[0, 10000, 1, 1, 2, 1, 2, 1, 2, 2, 2, 3, 2, 3]"
      ]
     },
     "metadata": {},
     "execution_count": 33
    }
   ],
   "source": [
    "def solution(coins, m):\n",
    "    dp=[10000]*(m+1)\n",
    "    coins = sorted(coins)\n",
    "    dp[0]=0\n",
    "    for coin in coins:\n",
    "        print(coin)\n",
    "        for j in range(coin,m+1):\n",
    "            # if dp[j-coin]<10000:\n",
    "            dp[j] = min(dp[j], dp[j-coin]+1)\n",
    "        \n",
    "    return dp\n",
    "\n",
    "solution([2,3,5,7],13)"
   ]
  },
  {
   "cell_type": "code",
   "execution_count": null,
   "metadata": {},
   "outputs": [],
   "source": []
  },
  {
   "cell_type": "code",
   "execution_count": null,
   "metadata": {},
   "outputs": [],
   "source": []
  },
  {
   "cell_type": "code",
   "execution_count": null,
   "metadata": {},
   "outputs": [],
   "source": []
  }
 ]
}