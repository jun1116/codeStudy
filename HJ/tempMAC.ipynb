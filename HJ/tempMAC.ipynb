{
 "cells": [
  {
   "cell_type": "code",
   "execution_count": 16,
   "metadata": {},
   "outputs": [
    {
     "data": {
      "text/plain": [
       "2"
      ]
     },
     "execution_count": 16,
     "metadata": {},
     "output_type": "execute_result"
    }
   ],
   "source": [
    "# 이코테 DP 219p.\n",
    "def solution(n):\n",
    "    d=[0]*30000\n",
    "    for i in range(2,n+1):\n",
    "        d[i] = d[i-1]+1\n",
    "        if i%5==0:\n",
    "            d[i] = min(d[i], d[i//5]+1)\n",
    "        if i%3==0:\n",
    "            d[i] = min(d[i], d[i//3]+1)\n",
    "        if i%2==0:\n",
    "            d[i] = min(d[i], d[i//2]+1)\n",
    "    return d[n]\n",
    "solution(10)\n"
   ]
  },
  {
   "cell_type": "code",
   "execution_count": 7,
   "metadata": {},
   "outputs": [
    {
     "data": {
      "text/plain": [
       "8"
      ]
     },
     "execution_count": 7,
     "metadata": {},
     "output_type": "execute_result"
    }
   ],
   "source": [
    "# 이코테 DP 220p\n",
    "def solution(arr):\n",
    "    dp=[0]*len(arr)\n",
    "    dp[0] = arr[0]\n",
    "    dp[1] = max(arr[0], arr[1])\n",
    "    for i in range(2,len(arr)):\n",
    "        dp[i] = max(dp[i-1], dp[i-2]+arr[i])\n",
    "    return dp[-1]\n",
    "solution([1,3,1,5])"
   ]
  },
  {
   "cell_type": "code",
   "execution_count": 33,
   "metadata": {},
   "outputs": [
    {
     "name": "stdout",
     "output_type": "stream",
     "text": [
      "2\n",
      "3\n",
      "5\n",
      "7\n"
     ]
    },
    {
     "data": {
      "text/plain": [
       "[0, 10000, 1, 1, 2, 1, 2, 1, 2, 2, 2, 3, 2, 3]"
      ]
     },
     "execution_count": 33,
     "metadata": {},
     "output_type": "execute_result"
    }
   ],
   "source": [
    "def solution(coins, m):\n",
    "    dp=[10000]*(m+1)\n",
    "    coins = sorted(coins)\n",
    "    dp[0]=0\n",
    "    for coin in coins:\n",
    "        print(coin)\n",
    "        for j in range(coin,m+1):\n",
    "            # if dp[j-coin]<10000:\n",
    "            dp[j] = min(dp[j], dp[j-coin]+1)\n",
    "        \n",
    "    return dp\n",
    "\n",
    "solution([2,3,5,7],13)"
   ]
  },
  {
   "cell_type": "code",
   "execution_count": 1,
   "metadata": {},
   "outputs": [],
   "source": [
    "# 마이다스 1\n",
    "N,mine=9,[ [1, 1], [1, 7], [2, 7], [3, 6], [4, 1], [4, 4], [4, 8], [8, 4], [8, 5], [9, 6] ]#[[-1, 1, 0, 0, 0, 2,-1, 2, 0],[ 1, 1, 0, 0, 1, 3,-1, 2, 0],[ 1, 1, 1, 1, 2,-1, 3, 2, 1],[-1, 1, 1,-1, 2, 1, 2,-1, 1],[ 1, 1, 1, 1, 1, 0, 1, 1, 1],[ 0, 0, 0, 0, 0, 0, 0, 0, 0],[ 0, 0, 1, 2, 2, 1, 0, 0, 0],[ 0, 0, 1,-1,-1, 2, 1, 0, 0],[ 0, 0, 1, 2, 3,-1, 1, 0, 0]]"
   ]
  },
  {
   "cell_type": "code",
   "execution_count": 11,
   "metadata": {},
   "outputs": [
    {
     "data": {
      "text/plain": [
       "[[-1, 1, 0, 0, 0, 2, -1, 2, 0],\n",
       " [1, 1, 0, 0, 1, 3, -1, 2, 0],\n",
       " [1, 1, 1, 1, 2, -1, 3, 2, 1],\n",
       " [-1, 1, 1, -1, 2, 1, 2, -1, 1],\n",
       " [1, 1, 1, 1, 1, 0, 1, 1, 1],\n",
       " [0, 0, 0, 0, 0, 0, 0, 0, 0],\n",
       " [0, 0, 1, 2, 2, 1, 0, 0, 0],\n",
       " [0, 0, 1, -1, -1, 2, 1, 0, 0],\n",
       " [0, 0, 1, 2, 3, -1, 1, 0, 0]]"
      ]
     },
     "execution_count": 11,
     "metadata": {},
     "output_type": "execute_result"
    }
   ],
   "source": [
    "def solution(N,mine):\n",
    "    mat = [[0 for j in range(N)] for i in range(N)]\n",
    "    for x,y in mine:\n",
    "        mat[x-1][y-1] = -1\n",
    "    # 왼쪽 위 (10시방향) 부터 시계방향으로 체크체크\n",
    "    dx=[-1,-1,-1,0,1,1,1,0] # 1,2,3 4,5,6 7,8,9 \n",
    "    dy=[-1,0,1,1,1,0,-1,-1]\n",
    "    \n",
    "    for x in range(N):\n",
    "        for y in range(N):\n",
    "            if mat[x][y]==-1:\n",
    "                continue\n",
    "            cnt=0\n",
    "            # print(x,y)\n",
    "            for d in range(8):\n",
    "                nx,ny = x+dx[d], y+dy[d]\n",
    "                if nx<0 or ny<0 or nx>=N or ny>=N: continue\n",
    "                if mat[nx][ny]==-1: cnt+=1\n",
    "\n",
    "            mat[x][y] = cnt\n",
    "    return mat\n",
    "\n",
    "solution(N,mine)"
   ]
  },
  {
   "cell_type": "code",
   "execution_count": 20,
   "metadata": {},
   "outputs": [],
   "source": [
    "# 2번\n",
    "# n\tv1\tv2\tnum\tamount\tanswer\n",
    "n,v1,v2,num,amount=10,[1, 10, 6, 5, 6, 9],[3, 7, 2, 8, 7, 3],[3, 4, 5, 1, 8, 7, 9, 2],[10, 5, 6, -6, -8, 2, -2, 5]#2\n",
    "# n,v1,v2,num,amount=10,[8, 4, 4, 1],[1, 10, 9, 4],[2, 5, 8, 6, 4, 1, 3, 10, 7, 4],[3, -1, 3, 3, 1, -2, -4, 1, 2, -5]#2\n",
    "# n,v1,v2,num,amount=4,[1, 3],[2, 4],[2, 2],[1, -2]#3\n",
    "# n,v1,v2,num,amount=6,[1, 5, 3, 6, 2],[5, 4, 6, 2, 3],[1, 5, 4, 3, 6, 2],[3, 6, -2, 2, 2, 2]#1"
   ]
  },
  {
   "cell_type": "code",
   "execution_count": 113,
   "metadata": {},
   "outputs": [
    {
     "name": "stdout",
     "output_type": "stream",
     "text": [
      "{1: 2, 2: 7, 4: 5, 5: -2}\n"
     ]
    },
    {
     "data": {
      "text/plain": [
       "2"
      ]
     },
     "execution_count": 113,
     "metadata": {},
     "output_type": "execute_result"
    }
   ],
   "source": [
    "def find(x):\n",
    "    global leader\n",
    "    if leader[x] == x:\n",
    "        return x\n",
    "    else:\n",
    "        leader[x] = find(leader[x])\n",
    "        return leader[x]\n",
    "\n",
    "def union(x,y):\n",
    "    global leader\n",
    "    x = find(x)\n",
    "    y = find(y)\n",
    "    if x==y: return\n",
    "    leader[max(x,y)] = min(x,y)\n",
    "\n",
    "def solution(n, v1, v2, num, amount):\n",
    "    global leader\n",
    "    leader = [i for i in range(n+1)] # 초기값 자기자신이 리더로 세팅, 계산의 편의를 위해 N+1만큼\n",
    "    for x,y in zip(v1,v2):# 합집합연산시행\n",
    "        union(x,y)   \n",
    "    for i in range(n+1): # union연산 순서에 따라, 나중에 입력된 학생의 경우 경로축소가 적용되지 않는 경우를 대비\n",
    "        find(i)\n",
    "    total = {i :0 for i in set(leader[1:])} # 세팅완료\n",
    "    \n",
    "    \n",
    "    for n,am in zip(num, amount): # 점수매겨주기 자기팀 리더의 점수로 찾아가서 계산떄려버리기\n",
    "        total[leader[n]] += am\n",
    "    \n",
    "    print(total)\n",
    "    \n",
    "    score = -int(1e9) # 음수의 점수를 갖고있는경우도 있으므로\n",
    "    team=int(1e9) # 리더번호는 같다면 작은순이므로\n",
    "    \n",
    "    for tot in total:\n",
    "        if total[tot]>score:\n",
    "            if total[tot]==score:\n",
    "                team = min(tot,team)\n",
    "            else:\n",
    "                team = tot\n",
    "            score = total[tot]\n",
    "    return team\n",
    "# Union-find알고리즘을 생각했고, 각각의 부모는 자기 팀 리더학생으로 세팅\n",
    "# \n",
    "n,v1,v2,num,amount=10,[1, 10, 6, 5, 6, 9],[3, 7, 2, 8, 7, 3],[3, 4, 5, 1, 8, 7, 9, 2],[10, 5, 6, -6, -8, 2, -2, 5]#2\n",
    "# n,v1,v2,num,amount=6,[1, 5, 3, 6, 2],[5, 4, 6, 2, 3],[1, 5, 4, 3, 6, 2],[3, 6, -2, 2, 2, 2]#1\n",
    "# n,v1,v2,num,amount=4,[1, 3],[2, 4],[2, 2],[1, -2]#3\n",
    "\n",
    "solution(n, v1, v2, num, amount)"
   ]
  },
  {
   "cell_type": "code",
   "execution_count": null,
   "metadata": {},
   "outputs": [],
   "source": []
  },
  {
   "cell_type": "code",
   "execution_count": 112,
   "metadata": {},
   "outputs": [
    {
     "data": {
      "text/plain": [
       "4"
      ]
     },
     "execution_count": 112,
     "metadata": {},
     "output_type": "execute_result"
    }
   ],
   "source": [
    "# 3번\n",
    "# N\tK\tT\tanswer\n",
    "N,K,T=4,4,[[1,3],[1,1],[2,3],[3,4]] #4\n",
    "# N,K,T=6,4,[ [1,3],[3,4],[2,4],[2,4],[2,3],[1,2] ] #4\n",
    "\n",
    "# 아이디어 : 그날그날, 가장 남은 가능일수가 적은 학생들 위주로 처리한다면, 매 순간의 최선의 선택일 것이다.\n",
    "\n",
    "from heapq import *\n",
    "def solution(N,K,T):\n",
    "    answer = 0\n",
    "    days = [[] for i in range(K+1)] # 계산의 편의를 위해 1일을 더 넣음\n",
    "\n",
    "    for i,t in enumerate(T):\n",
    "        for day in range(t[0],t[1]+1): # 학생의 상담가능일들에 대하여\n",
    "            heappush(days[day], [t[1]-day,i]) # 남은 상담가능일을 계산하여 heap으로 학생번호와 함께 넣어줌\n",
    "    # print(days)\n",
    "    checked=[] # 상담받은 학생인지 체크\n",
    "    for day in days[1:]:\n",
    "        while day:\n",
    "            _, student = heappop(day)\n",
    "            if student in checked: # 이미 상담받은 학생인가? -> 넘어가기\n",
    "                continue\n",
    "            else: # 새롭게 상담을 받는 학생 -> 상담 & answer+=1\n",
    "                checked.append(student) \n",
    "                answer+=1\n",
    "                break\n",
    "    return answer\n",
    "solution(N,K,T)"
   ]
  },
  {
   "cell_type": "code",
   "execution_count": 25,
   "metadata": {},
   "outputs": [
    {
     "name": "stdout",
     "output_type": "stream",
     "text": [
      "1 2\n"
     ]
    }
   ],
   "source": [
    "# 이코테 문자열뒤집기 - 313페이지\n",
    "# 1을 0으로 또는 0을 1으로 해서 모든 숫자를 같게 만들기 (0,1로만 이루어짐), \n",
    "# 한 카운트는 한번에 연속된 하나이상의 숫자를 잡고 모두 뒤집는것... 이때 카운트 수 return하기\n",
    "def solution(s):\n",
    "    def flip(ss, n):\n",
    "        cnt=0\n",
    "        s=ss[:]\n",
    "        l,r=0,0\n",
    "        while r < len(s):\n",
    "            if s[r]==n:\n",
    "                print(l,r,s[r],'Go')\n",
    "                r+=1\n",
    "                l+=1\n",
    "            else:\n",
    "                while r<len(s) and s[r]!=n:\n",
    "                    r+=1\n",
    "                print(l,r,'Cnt++')\n",
    "                cnt+=1\n",
    "                l=r\n",
    "        return cnt\n",
    "    answer=0\n",
    "    count = min(flip(s, '0'), flip(s,'1'))\n",
    "    return count\n",
    "\n",
    "def solution(s):\n",
    "    cnt0=0\n",
    "    cnt1=0\n",
    "    if s[0]=='1':\n",
    "        cnt0+=1\n",
    "    else:\n",
    "        cnt1+=1\n",
    "    for i in range(len(s)-1):\n",
    "        if s[i] != s[i+1]:\n",
    "            if s[i+1]=='1': cnt0+=1\n",
    "            else:cnt1+=1\n",
    "    print(cnt0, cnt1)\n",
    "\n",
    "s='0001100'\n",
    "solution(s)\n",
    "\n"
   ]
  },
  {
   "cell_type": "code",
   "execution_count": 69,
   "metadata": {},
   "outputs": [
    {
     "data": {
      "text/plain": [
       "8"
      ]
     },
     "execution_count": 69,
     "metadata": {},
     "output_type": "execute_result"
    }
   ],
   "source": [
    "# 만들 수 없는 금액 314p\n",
    "# coins들로 만들 수 없는 최소 금액 찾기\n",
    "def solution(coins):\n",
    "    coins = sorted(coins)\n",
    "    cnt=1\n",
    "    for i in coins:\n",
    "        if i>cnt:\n",
    "            break\n",
    "        cnt+=i\n",
    "    return cnt\n",
    "coins=[3,2,1,1,9]\n",
    "solution(coins)"
   ]
  },
  {
   "cell_type": "code",
   "execution_count": 74,
   "metadata": {},
   "outputs": [
    {
     "name": "stdout",
     "output_type": "stream",
     "text": [
      "{1: 1, 3: 2, 2: 2}\n"
     ]
    }
   ],
   "source": [
    "# 볼링공고르기 (315)\n",
    "# m:볼링공의 최대 무게\n",
    "# balls : 볼링공들 , 서로 무게가 다른 볼링공을 고르는 경우의수\n",
    "def solution(balls):\n",
    "    answer=0\n",
    "    for i in range(len(balls)):\n",
    "        for j in range(len(balls)):\n",
    "            if balls[i]!=balls[j] and i!=j:\n",
    "                answer+=1\n",
    "    return answer//2\n",
    "def solution(balls):\n",
    "    answer=0\n",
    "    balldic={}\n",
    "    for i in balls:\n",
    "        if i in balldic:\n",
    "            balldic[i]+=1\n",
    "        else:\n",
    "            balldic[i]=1\n",
    "    print(balldic)\n",
    "    \n",
    "\n",
    "m,balls=3,[1,3,2,3,2]\n",
    "# m,balls=5,[1,5,4,3,2,4,5,2]\n",
    "solution(balls)"
   ]
  },
  {
   "cell_type": "code",
   "execution_count": null,
   "metadata": {},
   "outputs": [],
   "source": []
  },
  {
   "cell_type": "code",
   "execution_count": 27,
   "metadata": {},
   "outputs": [
    {
     "name": "stdout",
     "output_type": "stream",
     "text": [
      "{'XY': 2, 'XZ': 1, 'YZ': 1, 'XW': 1, 'WY': 1, 'WX': 1, 'WA': 1, 'XA': 1} 2 ['XY']\n",
      "{'XYZ': 1, 'XWY': 1, 'WXA': 1} 2 []\n",
      "{} 2 []\n"
     ]
    },
    {
     "data": {
      "text/plain": [
       "['XY']"
      ]
     },
     "execution_count": 27,
     "metadata": {},
     "output_type": "execute_result"
    }
   ],
   "source": [
    "# orders, course = [\"ABCFG\", \"AC\", \"CDE\", \"ACDE\", \"BCFG\", \"ACDEH\"],[2,3,4]#[\"AC\", \"ACDE\", \"BCFG\", \"CDE\"]\n",
    "# orders, course = [\"ABCDE\", \"AB\", \"CD\", \"ADE\", \"XYZ\", \"XYZ\", \"ACD\"],[2,3,5]#[\"ACD\", \"AD\", \"ADE\", \"CD\", \"XYZ\"]\n",
    "orders, course = [\"XYZ\", \"XWY\", \"WXA\"],[2,3,4]#[\"WX\", \"XY\"]\n",
    "from itertools import combinations\n",
    "def solution(orders, course):\n",
    "    answer=[]\n",
    "    for cnt in course:\n",
    "        cntdic={}\n",
    "        maxi=2\n",
    "        maxc=[]\n",
    "        for order in orders:\n",
    "            # print(order,cnt)\n",
    "            a=[''.join(i) for i in list(combinations(order,cnt))]\n",
    "            for i in a:\n",
    "                if i in cntdic:\n",
    "                    cntdic[i]+=1\n",
    "                    if cntdic[i]>maxi:\n",
    "                        maxi=cntdic[i]\n",
    "                        maxc=[i]\n",
    "                    elif cntdic[i]==maxi:\n",
    "                        maxc.append(i)\n",
    "\n",
    "                else:\n",
    "                    cntdic[i]=1\n",
    "        print(cntdic, maxi, maxc)\n",
    "        answer.extend(maxc)\n",
    "    return sorted(answer)\n",
    "solution(orders, course)"
   ]
  },
  {
   "cell_type": "code",
   "execution_count": 22,
   "metadata": {},
   "outputs": [
    {
     "name": "stdout",
     "output_type": "stream",
     "text": [
      "100 45.5\n",
      "90 81.25\n",
      "100 97.2\n",
      "88 81.6\n",
      "77 67.8\n"
     ]
    },
    {
     "data": {
      "text/plain": [
       "'FBABD'"
      ]
     },
     "execution_count": 22,
     "metadata": {},
     "output_type": "execute_result"
    }
   ],
   "source": [
    "scores=[[100,90,98,88,65],[50,45,99,85,77],[47,88,95,80,67],[61,57,100,80,65],[24,90,94,75,65]]\n",
    "# scores=[[70,49,90],[68,50,38],[73,31,100]]\t\n",
    "def solution(scores=scores):\n",
    "    answer=''\n",
    "    n=len(scores)\n",
    "    for i in range(n):\n",
    "        tmp=[]\n",
    "        pscore=0\n",
    "        for j in range(n):\n",
    "            tmp.append(scores[j][i])\n",
    "        tmpmax=max(tmp)\n",
    "        tmpmin=min(tmp)\n",
    "        if scores[i][i] == tmpmax and len(list(filter(lambda x : x==tmpmax, tmp)))==1:\n",
    "            pscore=(sum(tmp)-tmpmax)/(n-1)\n",
    "        elif scores[i][i] == tmpmin and len(list(filter(lambda x : x==tmpmin, tmp)))==1:\n",
    "            pscore=(sum(tmp)-tmpmin)/(n-1)\n",
    "        else:\n",
    "            pscore=sum(tmp)/n\n",
    "        if pscore>=90:\n",
    "            answer+='A'\n",
    "        elif pscore>=80:\n",
    "            answer+='B'\n",
    "        elif pscore>=70:\n",
    "            answer+='C'\n",
    "        elif pscore>=50:\n",
    "            answer+='D'\n",
    "        else:\n",
    "            answer+='F'\n",
    "    return answer\n",
    "        # if scores[i][i]==max(scores[i][:]):\n",
    "        #     print( (sum(scores[i][:])-scores[i][i])/(n-1) )\n",
    "        # else:\n",
    "        #     print( sum(scores[i][:]) / n )\n",
    "\n",
    "\n",
    "\n",
    "\n",
    "solution()\n"
   ]
  },
  {
   "cell_type": "code",
   "execution_count": 26,
   "metadata": {},
   "outputs": [
    {
     "data": {
      "text/plain": [
       "[(100, 50, 47, 61, 24),\n",
       " (90, 45, 88, 57, 90),\n",
       " (98, 99, 95, 100, 94),\n",
       " (88, 85, 80, 80, 75),\n",
       " (65, 77, 67, 65, 65)]"
      ]
     },
     "execution_count": 26,
     "metadata": {},
     "output_type": "execute_result"
    }
   ],
   "source": [
    "list(zip(*scores))"
   ]
  },
  {
   "cell_type": "code",
   "execution_count": 42,
   "metadata": {},
   "outputs": [
    {
     "data": {
      "text/plain": [
       "[(1, 1), (0, 0), (0, 1), (0, 0)]"
      ]
     },
     "execution_count": 42,
     "metadata": {},
     "output_type": "execute_result"
    }
   ],
   "source": [
    "tmp=[[1,0,0,0],[1,0,1,0]]\n",
    "list(zip(*tmp))"
   ]
  },
  {
   "cell_type": "code",
   "execution_count": 43,
   "metadata": {},
   "outputs": [
    {
     "ename": "SyntaxError",
     "evalue": "invalid syntax (<ipython-input-43-f86953a90ee0>, line 11)",
     "output_type": "error",
     "traceback": [
      "\u001b[0;36m  File \u001b[0;32m\"<ipython-input-43-f86953a90ee0>\"\u001b[0;36m, line \u001b[0;32m11\u001b[0m\n\u001b[0;31m    for j in range(len(mat))\u001b[0m\n\u001b[0m                            ^\u001b[0m\n\u001b[0;31mSyntaxError\u001b[0m\u001b[0;31m:\u001b[0m invalid syntax\n"
     ]
    }
   ],
   "source": [
    "\n",
    "\n",
    "\n"
   ]
  },
  {
   "cell_type": "code",
   "execution_count": 77,
   "metadata": {},
   "outputs": [
    {
     "name": "stdout",
     "output_type": "stream",
     "text": [
      "{1: [[2, 2], [4, 1], [3, 5]], 2: [[3, 3], [4, 2]], 4: [[3, 3], [5, 1]], 3: [[2, 3], [6, 5]], 6: [], 5: [[3, 1], [6, 2]]}\n"
     ]
    },
    {
     "data": {
      "text/plain": [
       "({1: 0, 2: 2, 4: 1, 3: 3, 6: 4, 5: 2}, {1: 1, 2: 1, 4: 1, 3: 5, 6: 5, 5: 4})"
      ]
     },
     "execution_count": 77,
     "metadata": {},
     "output_type": "execute_result"
    }
   ],
   "source": [
    "from heapq import *\n",
    "costs=[[1,2,2],[1,4,1],[1,3,5],[2,3,3],[2,4,2],[3,2,3],[3,6,5],[4,3,3],[4,5,1],[5,3,1],[5,6,2]]\n",
    "def solution(costs):\n",
    "    graph={}\n",
    "    for f,t,c in costs: ## from,to,cost\n",
    "        if graph.get(f):\n",
    "            graph[f].append([t,c])\n",
    "        else:\n",
    "            graph[f]=[[t,c]]\n",
    "        if graph.get(t):\n",
    "            pass\n",
    "        else:\n",
    "            graph[t]=[]\n",
    "    print(graph)\n",
    "    return dijkstra(graph,1)\n",
    "    \n",
    "def dijkstra(graph,start):\n",
    "    pq=[[0,start]]\n",
    "    parent={i:None for i in graph}\n",
    "    distances={i:float('inf') for i in graph}\n",
    "    parent[start]=start\n",
    "    distances[start]=0\n",
    "    while pq:\n",
    "        dist,now = heappop(pq)\n",
    "        if dist>distances[now]:\n",
    "            continue\n",
    "        for to,cost in graph[now]:\n",
    "            new_dist=dist+cost\n",
    "            if new_dist<distances[to]:\n",
    "                distances[to]=new_dist\n",
    "                parent[to]=now\n",
    "                heappush(pq,[new_dist,to])\n",
    "    return distances,parent\n",
    "\n",
    "solution(costs)\n"
   ]
  },
  {
   "cell_type": "code",
   "execution_count": 37,
   "metadata": {},
   "outputs": [
    {
     "data": {
      "text/plain": [
       "'PORTAL'"
      ]
     },
     "execution_count": 37,
     "metadata": {},
     "output_type": "execute_result"
    }
   ],
   "source": [
    "# table=[\"SI JAVA JAVASCRIPT SQL PYTHON C#\", \"CONTENTS JAVASCRIPT JAVA PYTHON SQL C++\", \"HARDWARE C C++ PYTHON JAVA JAVASCRIPT\", \"PORTAL JAVA JAVASCRIPT PYTHON KOTLIN PHP\", \"GAME C++ C# JAVASCRIPT C JAVA\"]\n",
    "# languages=[\"PYTHON\", \"C++\", \"SQL\"]\n",
    "# preference=[7, 5, 5]#,\"HARDWARE\"\n",
    "table, languages,preference,result=[\"SI JAVA JAVASCRIPT SQL PYTHON C#\", \"CONTENTS JAVASCRIPT JAVA PYTHON SQL C++\", \"HARDWARE C C++ PYTHON JAVA JAVASCRIPT\", \"PORTAL JAVA JAVASCRIPT PYTHON KOTLIN PHP\", \"GAME C++ C# JAVASCRIPT C JAVA\"],[\"JAVA\", \"JAVASCRIPT\"],[7, 5],\"PORTAL\"\n",
    "def solution(table, languages, preference):\n",
    "    scores=[]\n",
    "    for tab in table:\n",
    "        ts=tab.split()\n",
    "        tmpdic={ v:5-i for i,v in enumerate(ts[1:]) }    \n",
    "        score = sum(list(map(lambda x : tmpdic.get(x[0],0)*x[1], zip(languages,preference))))\n",
    "        scores.append([score,ts[0]])\n",
    "    scores = sorted(scores, key=lambda x : (x[0],-ord(x[1][0])), reverse=True)[0][1]\n",
    "    return scores\n",
    "\n",
    "solution(table,languages,preference)"
   ]
  },
  {
   "cell_type": "markdown",
   "metadata": {},
   "source": [
    "A\n",
    "AA\n",
    "AE\n",
    "AI\n",
    "AO\n",
    "AU\n",
    "E\n",
    "EA\n",
    "EE\n",
    "EI\n",
    "EO\n",
    "EU\n",
    "I,,,,O,,,,U\n",
    "(((5+1)*5+1)*5+1)*5+1"
   ]
  },
  {
   "cell_type": "code",
   "execution_count": 90,
   "metadata": {},
   "outputs": [
    {
     "data": {
      "text/plain": [
       "314"
      ]
     },
     "execution_count": 90,
     "metadata": {},
     "output_type": "execute_result"
    }
   ],
   "source": [
    "#  word\t    result\n",
    "# \"AAAAE\"\t6\n",
    "# \"AAAE\"\t10\n",
    "# \"I\"\t    1563\n",
    "# \"EIO\"\t    1189\n",
    "def solution(word):\n",
    "    ans=len(word)\n",
    "    wdic={'A':0,'E':1,'I':2,'O':3,'U':4}\n",
    "    fnc=(((5+1)*5+1)*5+1)*5+1\n",
    "    for i in word:\n",
    "        ans += fnc * wdic[i]\n",
    "        fnc = (fnc-1)//5\n",
    "    return ans\n",
    "\n",
    "\n",
    "solution(\"AI\")\n",
    "\n"
   ]
  },
  {
   "cell_type": "code",
   "execution_count": 109,
   "metadata": {},
   "outputs": [
    {
     "data": {
      "text/plain": [
       "[[0.6666666666666666, 2, 75, 3],\n",
       " [0.6666666666666666, 0, 120, 4],\n",
       " [0.3333333333333333, 1, 50, 1],\n",
       " [0.3333333333333333, 0, 82, 2]]"
      ]
     },
     "execution_count": 109,
     "metadata": {},
     "output_type": "execute_result"
    }
   ],
   "source": [
    "weights=[50,82,75,120]\n",
    "head2head=[\"NLWL\",\"WNLL\",\"LWNW\",\"WWLN\"]\n",
    "def solution(weights, head2head):\n",
    "    # cnt=len(head2head)-1\n",
    "    boxer=[]\n",
    "    for i,hh in enumerate(head2head):\n",
    "        cnt=0\n",
    "        per=0\n",
    "        heavy=0 # weights[i]\n",
    "        for j,h in enumerate(hh):\n",
    "            if h=='W':\n",
    "                per+=1\n",
    "                if weights[i]<weights[j]:\n",
    "                    heavy+=1\n",
    "            elif h == 'N':continue\n",
    "            cnt+=1\n",
    "\n",
    "        per/=cnt\n",
    "        boxer.append([per,heavy,weights[i],i+1])\n",
    "    return sorted(boxer, key=(lambda x : (-x[0],-x[1],-x[2])))\n",
    "    # return boxer\n",
    "\n",
    "\n",
    "solution(weights, head2head)    \n",
    "\n",
    "\n"
   ]
  },
  {
   "cell_type": "code",
   "execution_count": 70,
   "metadata": {},
   "outputs": [
    {
     "name": "stdout",
     "output_type": "stream",
     "text": [
      "-27 3 [[-13, 2], [-6, 0], [-9, 1]]\n",
      "-14 3 [[-13, 2], [-6, 0], [-9, 1]]\n",
      "-13 2 [[-9, 1], [-6, 0], [-1, 3]]\n"
     ]
    },
    {
     "data": {
      "text/plain": [
       "[[-9, 1], [-7, 2], [-1, 3], [-6, 0]]"
      ]
     },
     "execution_count": 70,
     "metadata": {},
     "output_type": "execute_result"
    }
   ],
   "source": [
    "# k : 나눌 그룹 수, num:각시험장 응시자수배열, links: 시험장연결상태2차원\n",
    "# from collections import defaultdict\n",
    "from heapq import *\n",
    "\n",
    "def solution(k,num,links):\n",
    "    weights=[]\n",
    "    temp=[]\n",
    "    for i,link in enumerate(links):\n",
    "        wet=num[i]\n",
    "        stack=link[:]\n",
    "        while stack:\n",
    "            now=stack.pop()\n",
    "            if now==-1:\n",
    "                continue\n",
    "            else:\n",
    "                wet+=num[now]\n",
    "                stack.extend(links[now])\n",
    "        heappush(weights,[-wet,i])\n",
    "        temp.append(wet)\n",
    "    temp.append(0)\n",
    "\n",
    "    for i in range(k-1):\n",
    "        wt , now = heappop(weights)\n",
    "        print(wt,now,weights)\n",
    "        maxs=[]\n",
    "        for ch in links[now]:\n",
    "            if ch==-1:\n",
    "                continue\n",
    "            else:\n",
    "                maxs.append(temp[ch])\n",
    "        new_weight = wt+max(maxs)\n",
    "        # new_weight = wt + max(list(map(lambda x : temp[x], links[now])))\n",
    "        heappush(weights,[new_weight,now])\n",
    "    \n",
    "    return weights\n",
    "    return -weights[0][0]\n",
    "\n",
    "\n",
    "\n",
    "\n",
    "k=3\n",
    "num=[12, 30, 1, 8, 8, 6, 20, 7, 5, 10, 4, 1]\n",
    "links=[[-1, -1], [-1, -1], [-1, -1], [-1, -1], [8, 5], [2, 10], [3, 0], [6, 1], [11, -1], [7, 4], [-1, -1], [-1, -1]]#40\n",
    "# solution(k,num,links)\n",
    "# solution(1,[6, 9, 7, 5],[[-1, -1], [-1, -1], [-1, 0], [2, 1]])\n",
    "# solution(2,[6, 9, 7, 5],[[-1, -1], [-1, -1], [-1, 0], [2, 1]])\n",
    "solution(4,[6, 9, 7, 5],[[-1, -1], [-1, -1], [-1, 0], [2, 1]])"
   ]
  },
  {
   "cell_type": "code",
   "execution_count": 68,
   "metadata": {},
   "outputs": [
    {
     "data": {
      "text/plain": [
       "[2, 3, 4]"
      ]
     },
     "execution_count": 68,
     "metadata": {},
     "output_type": "execute_result"
    }
   ],
   "source": [
    "list(filter(lambda x: x, list(map(lambda x : x+1 if x>0 else None, [1,2,3,0]))))"
   ]
  },
  {
   "cell_type": "code",
   "execution_count": 20,
   "metadata": {},
   "outputs": [
    {
     "data": {
      "text/plain": [
       "[2, 2, 0, 2]"
      ]
     },
     "execution_count": 20,
     "metadata": {},
     "output_type": "execute_result"
    }
   ],
   "source": [
    "#프로그래머스 위클리 7주차\n",
    "# from collections import OrderedDict\n",
    "enter=[1,4,2,3]\n",
    "leave=[2,1,4,3]\n",
    "\n",
    "def solution(enter, leave):\n",
    "    answer=[0]*len(enter)\n",
    "    room=[]\n",
    "    idx=0\n",
    "    for lev in leave:\n",
    "        while lev not in room:\n",
    "            room.append(enter[idx])\n",
    "            idx+=1\n",
    "        room.remove(lev)\n",
    "        for inroom in room:\n",
    "            answer[inroom-1]+=1\n",
    "        answer[lev-1]+=len(room)\n",
    "\n",
    "    return answer\n",
    "\n",
    "solution(enter, leave)"
   ]
  },
  {
   "cell_type": "code",
   "execution_count": null,
   "metadata": {},
   "outputs": [],
   "source": []
  },
  {
   "cell_type": "code",
   "execution_count": 77,
   "metadata": {},
   "outputs": [
    {
     "data": {
      "text/plain": [
       "[1, 0, 1, 1, 1, 0]"
      ]
     },
     "execution_count": 77,
     "metadata": {},
     "output_type": "execute_result"
    }
   ],
   "source": [
    "places=[[\"POOOP\", \"OXXOX\", \"OPXPX\", \"OOXOX\", \"POXXP\"], [\"POOPX\", \"OXPXP\", \"PXXXO\", \"OXXXO\", \"OOOPP\"], [\"PXOPX\", \"OXOXP\", \"OXPXX\", \"OXXXP\", \"POOXX\"], [\"OOOXX\", \"XOOOX\", \"OOOXX\", \"OXOOX\", \"OOOOO\"], [\"PXPXP\", \"XPXPX\", \"PXPXP\", \"XPXPX\", \"PXPXP\"],[\"OOPOO\", \"OPOOO\", \"OOOOO\", \"OOOOO\", \"OOOOO\"]]\n",
    "\n",
    "# places=[[\"OOOOO\", \"OOOOO\", \"OOPOO\", \"OOOOO\", \"OOOOO\"]]\n",
    "# X:파티션, O:공석 , P:응시자\n",
    "def solution(places):\n",
    "    ans=[]\n",
    "    global dx, dy\n",
    "    dx=[0,0,1,-1]\n",
    "    dy=[1,-1,0,0]\n",
    "    for place in places:\n",
    "        ans.append(check(place))\n",
    "    return ans\n",
    "def check(place):\n",
    "    for i in range(5):\n",
    "        for j in range(5):\n",
    "            if place[i][j]=='P':\n",
    "                try:\n",
    "                    assert isManhatton(place,[i,j],[i,j+1])\n",
    "                    assert isManhatton(place,[i,j],[i+1,j])\n",
    "                    assert isManhatton(place,[i,j],[i,j-1])\n",
    "                    assert isManhatton(place,[i,j],[i-1,j])\n",
    "                except:\n",
    "                    return 0\n",
    "            else: continue\n",
    "    return 1\n",
    "def isManhatton(place, fr,to):# fr : 어디서왔는지 , to : 동서남북 중 어디서 3방향체크할지\n",
    "    global dx, dy\n",
    "    x,y=to\n",
    "    #to check\n",
    "    if x<0 or x>=5 or y<0 or y>=5: return True #가장자리라면? 검사ㄴㄴ\n",
    "    else:\n",
    "        if place[x][y]=='X': return True\n",
    "        elif place[x][y]=='P':return False\n",
    "\n",
    "        #to 부터 3방향 체크\n",
    "        else:\n",
    "            for i in range(4):\n",
    "                nx = x+dx[i]\n",
    "                if nx<0 or nx>=5 : continue\n",
    "\n",
    "                ny = y+dy[i]\n",
    "                if ny<0 or ny>=5 : continue\n",
    "                if [nx,ny]==fr: continue\n",
    "\n",
    "                if place[nx][ny]=='P':\n",
    "                    return False\n",
    "        return True\n",
    "\n",
    "\n",
    "# places=[[\"OOOOO\"\n",
    "#         ,\"OOOOO\"\n",
    "#         ,\"OOPOO\"\n",
    "#         ,\"OOOOO\"\n",
    "#         ,\"OOOOO\"]]\n",
    "solution(places)\n"
   ]
  },
  {
   "cell_type": "code",
   "execution_count": 3,
   "metadata": {},
   "outputs": [
    {
     "name": "stdout",
     "output_type": "stream",
     "text": [
      "0\n",
      "1\n",
      "2\n"
     ]
    }
   ],
   "source": []
  },
  {
   "cell_type": "code",
   "execution_count": 8,
   "metadata": {},
   "outputs": [
    {
     "data": {
      "text/plain": [
       "3"
      ]
     },
     "execution_count": 8,
     "metadata": {},
     "output_type": "execute_result"
    }
   ],
   "source": [
    "#음료수얼려먹기\n",
    "ices=[[0,0,0,1,0],[0,0,0,1,1],[1,1,1,1,1],[0,0,0,0,0]]#구멍 : 0, 칸막이 : 1 -> 얼음 몇개 만들수있는가?\n",
    "def solution(ices):\n",
    "    def dfs(ices,i,j):\n",
    "        visited=[]\n",
    "        stack=[[i,j]]\n",
    "        while stack:\n",
    "            x,y=stack.pop()\n",
    "            if [x,y] in visited or ices[x][y]==1 : continue\n",
    "            ices[x][y]=1\n",
    "            visited.append([x,y])\n",
    "            for k in range(4):\n",
    "                nx,ny=x+dx[k], y+dy[k]\n",
    "                if nx<0 or nx>=n or ny<0 or ny>=m: continue\n",
    "                stack.append([nx,ny])\n",
    "\n",
    "\n",
    "    global dx,dy,n,m\n",
    "    dx=[0,0,1,-1]\n",
    "    dy=[1,-1,0,0]\n",
    "    n=len(ices)\n",
    "    m=len(ices[0])\n",
    "    answer=0\n",
    "    # print(n,m)\n",
    "    # dfs(ices,0,0,answer)\n",
    "    for i in range(n):\n",
    "        for j in range(m):\n",
    "            if ices[i][j]==0:\n",
    "                dfs(ices,i,j)\n",
    "                answer+=1\n",
    "    return answer\n",
    "\n",
    "solution(ices)\n"
   ]
  },
  {
   "cell_type": "code",
   "execution_count": 20,
   "metadata": {},
   "outputs": [
    {
     "name": "stdout",
     "output_type": "stream",
     "text": [
      "0 0\n",
      "0 4\n",
      "3 0\n"
     ]
    },
    {
     "data": {
      "text/plain": [
       "3"
      ]
     },
     "execution_count": 20,
     "metadata": {},
     "output_type": "execute_result"
    }
   ],
   "source": [
    "#음료수얼려먹기2\n",
    "def solution(ices):\n",
    "    def dfs(ices,i,j):\n",
    "        if i<0 or i>=n or j<0 or j>=m: return False\n",
    "        if ices[i][j]==0:\n",
    "            ices[i][j]=1\n",
    "            dfs(ices,i+1,j)\n",
    "            dfs(ices,i-1,j)\n",
    "            dfs(ices,i,j+1)\n",
    "            dfs(ices,i,j-1)\n",
    "            return True\n",
    "        return False\n",
    "\n",
    "    n=len(ices)\n",
    "    m=len(ices[0])\n",
    "    answer=0\n",
    "    for i in range(n):\n",
    "        for j in range(m):\n",
    "            # print(i,j)\n",
    "            if dfs(ices,i,j):\n",
    "                print(i,j)\n",
    "                answer+=1\n",
    "    return answer\n",
    "ices=[[0,0,0,1,0],[0,0,0,1,1],[1,1,1,1,1],[0,0,0,0,0]]#구멍 : 0, 칸막이 : 1 -> 얼음 몇개 만들수있는가?\n",
    "solution(ices)\n",
    "    "
   ]
  },
  {
   "cell_type": "code",
   "execution_count": 47,
   "metadata": {},
   "outputs": [
    {
     "data": {
      "text/plain": [
       "False"
      ]
     },
     "execution_count": 47,
     "metadata": {},
     "output_type": "execute_result"
    }
   ],
   "source": [
    "float('INF')<0"
   ]
  },
  {
   "cell_type": "code",
   "execution_count": 82,
   "metadata": {},
   "outputs": [
    {
     "name": "stdout",
     "output_type": "stream",
     "text": [
      "{'hit': ['hot'], 'cog': ['dog', 'log'], 'hot': ['hit', 'dot', 'lot'], 'dot': ['hot', 'dog', 'lot'], 'dog': ['cog', 'dot', 'log'], 'lot': ['hot', 'dot', 'log'], 'log': ['cog', 'dog', 'lot']}\n",
      "{'hit': 0, 'cog': 4, 'hot': 1, 'dot': 2, 'dog': 3, 'lot': 2, 'log': 3}\n",
      "{'hit': 'hit', 'cog': 'dog', 'hot': 'hit', 'dot': 'hot', 'dog': 'dot', 'lot': 'hot', 'log': 'lot'}\n"
     ]
    },
    {
     "data": {
      "text/plain": [
       "4"
      ]
     },
     "execution_count": 82,
     "metadata": {},
     "output_type": "execute_result"
    }
   ],
   "source": [
    "from heapq import *\n",
    "# begin\ttarget\twords\treturn\n",
    "# begin,target,words= \"hit\", \"cog\", [\"hot\", \"dot\", \"dog\", \"lot\", \"log\", \"cog\"] #4\n",
    "begin,target,words=\"hit\",\"cog\",[\"hot\", \"dot\", \"dog\", \"lot\", \"log\"] #0\n",
    "def solution(begin,target,words):\n",
    "    def getDiffCnt(w1,w2):\n",
    "        return len(list(filter(lambda x:x[0]!=x[1] ,zip(w1,w2))))\n",
    "    def mktree(begin,target,words):\n",
    "        dic={begin:[],target:[]}\n",
    "        for word in words:\n",
    "            dic[word]=[]\n",
    "        for k in dic:\n",
    "            dic[k].extend([i for i in dic.keys() if getDiffCnt(i,k)==1])\n",
    "        return dic\n",
    "    def dijkstra(graph,start):\n",
    "        dist={i:float('inf') for i in graph.keys()}\n",
    "        prnt={i:0 for i in graph.keys()}\n",
    "        visited=[]\n",
    "        hq=[[0,start,start]]\n",
    "        while hq:\n",
    "            d,now,pnt = heappop(hq)\n",
    "            if now in visited: continue\n",
    "            visited.append(now)\n",
    "            dist[now]=d\n",
    "            prnt[now]=pnt\n",
    "            for i in graph[now]:\n",
    "                newdist=d+1\n",
    "                if newdist<dist[i]:\n",
    "                    heappush(hq,[newdist,i,now])\n",
    "        return dist,prnt\n",
    "    # if target not in words : return 0\n",
    "    graph=mktree(begin,target,words)\n",
    "    print(graph)\n",
    "    dists,parent= dijkstra(graph,begin)\n",
    "    print(dists)\n",
    "    print(parent)\n",
    "\n",
    "\n",
    "\n",
    "    return dists.get(target)\n",
    "\n",
    "    \n",
    "        \n",
    "\n",
    "solution(begin,target,words)"
   ]
  },
  {
   "cell_type": "code",
   "execution_count": null,
   "metadata": {},
   "outputs": [],
   "source": []
  },
  {
   "cell_type": "code",
   "execution_count": 9,
   "metadata": {},
   "outputs": [
    {
     "name": "stdout",
     "output_type": "stream",
     "text": [
      "[[8, 15], [5, 15], [7, 14], [3, 12], [7, 10]]\n"
     ]
    },
    {
     "data": {
      "text/plain": [
       "120"
      ]
     },
     "execution_count": 9,
     "metadata": {},
     "output_type": "execute_result"
    }
   ],
   "source": [
    "# sizes=[[60, 50], [30, 70], [60, 30], [80, 40]]\t\n",
    "sizes=[[10, 7], [12, 3], [8, 15], [14, 7], [5, 15]]\t\n",
    "def solution(sizes=sizes):\n",
    "    sizes=[sorted(i) for i in sizes]\n",
    "    sizes=sorted(sizes, key=lambda x :x[1], reverse=True)\n",
    "    x=sizes[0][1]\n",
    "    print(sizes)\n",
    "    y=0\n",
    "    for i in sizes:\n",
    "        y = max(y, i[0])\n",
    "    return x*y\n",
    "solution()\n"
   ]
  },
  {
   "cell_type": "code",
   "execution_count": 38,
   "metadata": {},
   "outputs": [
    {
     "data": {
      "text/plain": [
       "1"
      ]
     },
     "execution_count": 38,
     "metadata": {},
     "output_type": "execute_result"
    }
   ],
   "source": [
    "# n,wires=9,[[1,3],[2,3],[3,4],[4,5],[4,6],[4,7],[7,8],[7,9]] #3\n",
    "n,wires=7,[[1,2],[2,7],[3,7],[3,4],[4,5],[6,7]] #1\n",
    "def solution(n,wires):\n",
    "    # global parent\n",
    "    tree=edgeToTree(wires)\n",
    "    rootCnt,answer=dfscnt(tree,wires[0][0]),int(1e9)\n",
    "    for node in tree:\n",
    "        answer = min(answer, abs(rootCnt-2*dfscnt(tree,node)))\n",
    "    return answer\n",
    "\n",
    "def edgeToTree(edges):\n",
    "    graph={i+1:[] for i in range(len(edges)+1)}\n",
    "    for a,b in edges:\n",
    "        graph[a].append(b)\n",
    "        graph[b].append(a)    \n",
    "    tree={}\n",
    "    visited=[]\n",
    "    stack=[edges[0][0]]\n",
    "    while stack:\n",
    "        now=stack.pop()\n",
    "        if now in visited:continue\n",
    "        visited.append(now)\n",
    "        tree[now]=[i for i in graph[now] if i not in visited]\n",
    "        stack.extend(graph.get(now))\n",
    "    return tree\n",
    "\n",
    "def dfscnt(tree,start):\n",
    "    cnt=0\n",
    "    visited=[]\n",
    "    stack=[start]\n",
    "    while stack:\n",
    "        now=stack.pop()\n",
    "        if now in visited:continue\n",
    "        cnt+=1\n",
    "        visited.append(now)\n",
    "        stack.extend(tree[now])\n",
    "    return cnt\n",
    "\n",
    "\n",
    "solution(n,wires)"
   ]
  },
  {
   "cell_type": "code",
   "execution_count": null,
   "metadata": {},
   "outputs": [],
   "source": []
  },
  {
   "cell_type": "code",
   "execution_count": 29,
   "metadata": {},
   "outputs": [
    {
     "name": "stdout",
     "output_type": "stream",
     "text": [
      "98\n",
      "bird99\n"
     ]
    },
    {
     "data": {
      "text/plain": [
       "'bird100'"
      ]
     },
     "execution_count": 29,
     "metadata": {},
     "output_type": "execute_result"
    }
   ],
   "source": [
    "# registered_list=[\"cow\", \"cow1\", \"cow2\", \"cow3\", \"cow4\", \"cow9\", \"cow8\", \"cow7\", \"cow6\", \"cow5\"]\n",
    "# new_id='cow'\n",
    "registered_list=[\"bird99\", \"bird98\", \"bird101\", \"gotoxy\"]\t\n",
    "new_id='bird98'\n",
    "def solution(registered_list, new_id):\n",
    "    if new_id not in registered_list:\n",
    "        return new_id\n",
    "    \n",
    "    s,n='',''\n",
    "    for i in range(len(new_id)):\n",
    "        if new_id[i].isdigit():\n",
    "            n+=new_id[i]\n",
    "        else:\n",
    "            s+=new_id[i]\n",
    "    n = int(n) if len(n)>0 else 1\n",
    "    if n==0:\n",
    "        new_id = s+'1'\n",
    "    else:\n",
    "        new_id = s+str(n+1)\n",
    "        \n",
    "    while isInCheck(registered_list, new_id):\n",
    "        new_id=s+str(n)\n",
    "        n+=1\n",
    "    \n",
    "    return new_id\n",
    "\n",
    "\n",
    "\n",
    "def isInCheck(registered_list, new_id):\n",
    "    if new_id in registered_list:\n",
    "        return True\n",
    "    else:\n",
    "        return False\n",
    "    \n",
    "    \n",
    "\n",
    "\n",
    "\n",
    "solution(registered_list, new_id)\n"
   ]
  },
  {
   "cell_type": "code",
   "execution_count": 87,
   "metadata": {},
   "outputs": [
    {
     "name": "stdout",
     "output_type": "stream",
     "text": [
      "{2, 3, 6, 9, 10, 16, 17, 21, 23, 24, 27, 28, 30} 4\n",
      "1 10 10\n",
      "15 24 10\n",
      "19 28 10\n",
      "20 30 11\n"
     ]
    },
    {
     "data": {
      "text/plain": [
       "11"
      ]
     },
     "execution_count": 87,
     "metadata": {},
     "output_type": "execute_result"
    }
   ],
   "source": [
    "leave,day,holidays = 4,\"FRI\",[6, 21, 23, 27, 28]\n",
    "# leave,day,holidays =3,\"SUN\",[2, 6, 17, 29]\n",
    "# leave,day,holidays =30,\"MON\",[1, 2, 3, 4, 28, 29, 30]\n",
    "def solution(leave,day,holidays):\n",
    "    hdic={'MON':0, 'TUE':1, 'WED':2, 'THU':3, 'FRI':4, 'SAT':5, 'SUN':6}\n",
    "    tmp=list(map(lambda x: x-hdic[day],[-1,0,6,7,13,14,20,21,27,28,34,35]))\n",
    "    tmp=list(filter(lambda x:x>0 and x<31, tmp))\n",
    "    holi=set(tmp+holidays)\n",
    "    print(holi, leave)\n",
    "\n",
    "    maxlen=0\n",
    "    for i in range(1,31):\n",
    "        tmplen=leave\n",
    "        j=i #if i not in holi else i+1\n",
    "        while tmplen>0 and j<30:\n",
    "            j+=1\n",
    "            if j not in holi:\n",
    "                tmplen-=1\n",
    "        while j+1 in holi:\n",
    "            j+=1\n",
    "        # print(i,j)\n",
    "        if maxlen<=j-i+1:\n",
    "            maxlen=j-i+1\n",
    "            print(i,j,maxlen)\n",
    "    return maxlen\n",
    "\n",
    "\n",
    "solution(leave,day,holidays)\n",
    "    "
   ]
  },
  {
   "cell_type": "markdown",
   "metadata": {},
   "source": [
    "제한사항\n",
    "macaron의 세로(행) 길이는 1 이상 100 이하이며, 가로(열) 길이는 2입니다.\n",
    "macaron의 각 행에는 마카롱을 떨어뜨린 정보가 [떨어뜨린 위치, 마카롱의 색] 형태로 담겨있습니다.\n",
    "마카롱을 떨어뜨린 위치는 1 이상 6 이하인 자연수입니다.\n",
    "마카롱의 색은 1 이상 9 이하인 자연수 형태로 표현하며, 같은 색상의 마카롱은 같은 숫자로 표현합니다.\n",
    "마카롱이 보드 밖으로 나가도록 하거나, 마카롱이 최대 높이까지 쌓인 줄에 다시 마카롱을 떨어뜨리는 경우는 없습니다.\n",
    "정답은 길이가 6인 문자열 6개를 return 해주세요.\n",
    "return 하는 배열의 첫 번째 원소는 게임 보드의 가장 윗 열을 나타내며, 이후 가장 아래 열까지 순서대로 넣으면 됩니다.\n",
    "게임 보드에서 빈칸은 0, 마카롱이 채워진 칸은 해당 마카롱의 색을 나타내는 자연수를 채우면 됩니다.\n",
    "macaron\tresult\n",
    "[[1,1],[2,1],[1,2],[3,3],[6,4],[3,1],[3,3],[3,3],[3,4],[2,1]]\t[\"000000\",\"000000\",\"000000\",\"000000\",\"000000\",\"204004\"]\n",
    "[[1,1],[1,2],[1,4],[2,1],[2,2],[2,3],[3,4],[3,1],[3,2],[3,3],[3,4],[4,4],[4,3],[5,4],[6,1]]\t[\"000000\",\"000000\",\"000000\",\"000000\",\"000000\",\"404001\"]\n"
   ]
  },
  {
   "cell_type": "code",
   "execution_count": 88,
   "metadata": {},
   "outputs": [
    {
     "name": "stdout",
     "output_type": "stream",
     "text": [
      "[[0, 0, 0, 0, 0, 0], [0, 0, 0, 0, 0, 0], [0, 0, 0, 0, 0, 0], [0, 0, 0, 0, 0, 0], [0, 0, 0, 0, 0, 0], [0, 0, 0, 0, 0, 0]]\n"
     ]
    }
   ],
   "source": [
    "\n",
    "macaron=[[1,1],[2,1],[1,2],[3,3],[6,4],[3,1],[3,3],[3,3],[3,4],[2,1]]#[\"000000\",\"000000\",\"000000\",\"000000\",\"000000\",\"204004\"]\n",
    "def solution(macaron):\n",
    "    mat=[[0]*6]*6\n",
    "    for mac in macaron:\n",
    "        #\n",
    "    print(mat)\n",
    "def boom(mat,x,y):\n",
    "    dx=[1,0,-1,0]\n",
    "    dy=[0,1,0,-1]\n",
    "    # for i in range(4):\n",
    "    #     nx=\n",
    "def putMacaron(mat, maca):\n",
    "    pass\n",
    "\n",
    "\n",
    "\n",
    "\n",
    "solution(macaron)"
   ]
  },
  {
   "cell_type": "code",
   "execution_count": 14,
   "metadata": {},
   "outputs": [],
   "source": [
    "from itertools import combinations\n",
    "st='''20\n",
    "7\n",
    "23\n",
    "19\n",
    "10\n",
    "15\n",
    "25\n",
    "8\n",
    "13\n",
    "'''\n",
    "def solution(st):\n",
    "    nums=[]\n",
    "    for line in st.split('\\n')[:-1]:\n",
    "        nums.append(int(line))\n",
    "    \n",
    "\n",
    "    for i in combinations(nums,7):\n",
    "        if sum(i)<100:\n",
    "            return sorted(i)\n",
    "    \n",
    "\n",
    "nums=[]\n",
    "data = list(map(int, input().split('\\n')))\n",
    "for i in combinations(data,7):\n",
    "    if sum(i)<100:\n",
    "        for k in sorted(i):\n",
    "            print(k)\n",
    "        break\n"
   ]
  },
  {
   "cell_type": "code",
   "execution_count": 37,
   "metadata": {},
   "outputs": [
    {
     "data": {
      "text/plain": [
       "8"
      ]
     },
     "execution_count": 37,
     "metadata": {},
     "output_type": "execute_result"
    }
   ],
   "source": [
    "bridge_length,weight,truck_weights=2,10,[7,4,5,6]#8\n",
    "# bridge_length,weight,truck_weights= 100,100,[10]#\t101\n",
    "# bridge_length,weight,truck_weights= 100,100,[10,10,10,10,10,10,10,10,10,10]\t#110\n",
    "def solution(bridge_length, weight, truck_weights):\n",
    "    time=1\n",
    "    trucks=truck_weights[::-1]\n",
    "    que=[[trucks.pop(),bridge_length]]\n",
    "    while que:\n",
    "        for i in range(len(que)):\n",
    "            que[i][1]-=1\n",
    "        if que[0][1]==0:\n",
    "            que=que[1:]\n",
    "        if trucks:\n",
    "            if sum([i[0] for i in que])+trucks[0] <= weight:\n",
    "                que.append([trucks.pop(),bridge_length])\n",
    "        time+=1\n",
    "    return time\n",
    "solution(bridge_length, weight, truck_weights)\n"
   ]
  },
  {
   "cell_type": "code",
   "execution_count": 56,
   "metadata": {},
   "outputs": [
    {
     "name": "stdout",
     "output_type": "stream",
     "text": [
      "deque([7, 0], maxlen=2) 1 [6, 5, 4]\n",
      "deque([0, 7], maxlen=2) 2 [6, 5, 4]\n",
      "deque([4, 0], maxlen=2) 3 [6, 5]\n",
      "deque([5, 4], maxlen=2) 4 [6]\n",
      "deque([0, 5], maxlen=2) 5 [6]\n",
      "deque([6, 0], maxlen=2) 6 []\n"
     ]
    },
    {
     "data": {
      "text/plain": [
       "8"
      ]
     },
     "execution_count": 56,
     "metadata": {},
     "output_type": "execute_result"
    }
   ],
   "source": [
    "from collections import deque\n",
    "# bridge_length,weight,truck_weights=2,10,[7,4,5,6]#8\n",
    "def solution(bridge_length, weight, truck_weights):\n",
    "    bridge = deque([0 for _ in range(bridge_length)],maxlen=bridge_length)\n",
    "    trucks=truck_weights[::-1]\n",
    "    time=0\n",
    "    onb=0\n",
    "    while trucks:\n",
    "        time+=1\n",
    "        onb-=bridge.pop()\n",
    "        if onb+trucks[-1] > weight:\n",
    "            bridge.appendleft(0)\n",
    "        else:\n",
    "            now=trucks.pop()\n",
    "            bridge.appendleft(now)\n",
    "            onb+=now\n",
    "        print(bridge, time, trucks)\n",
    "    return time+bridge_length\n",
    "        \n",
    "solution(bridge_length, weight, truck_weights)"
   ]
  },
  {
   "cell_type": "code",
   "execution_count": null,
   "metadata": {},
   "outputs": [],
   "source": [
    "\n",
    "def solution(bridge_length, weight, truck_weights):\n",
    "    answer = 0\n",
    "    ##트럭리스트 뒤집기\n",
    "    trucks=[i for i in truck_weights[::-1]]\n",
    "\n",
    "    queue=[trucks.pop()]\n",
    "    time=1\n",
    "    truckTimes=[bridge_length]\n",
    "\n",
    "    #무한루프\n",
    "    while queue != []:\n",
    "        time+=1\n",
    "        for i,v in enumerate(truckTimes):\n",
    "            truckTimes[i]=v-1\n",
    "\n",
    "        try:\n",
    "            if truckTimes[0]==0: #트럭 끝 도달?\n",
    "                queue=queue[1:]\n",
    "                truckTimes=truckTimes[1:]\n",
    "\n",
    "            now=trucks.pop() #현재 차량은? \n",
    "            if weight>=sum(queue)+now: #진입가능? \n",
    "                queue.append(now) \n",
    "                truckTimes.append(bridge_length) \n",
    "            else : trucks.append(now) #진입불가\n",
    "        except:\n",
    "            continue\n",
    "    return time"
   ]
  },
  {
   "cell_type": "code",
   "execution_count": 45,
   "metadata": {},
   "outputs": [
    {
     "data": {
      "text/plain": [
       "9534330"
      ]
     },
     "execution_count": 45,
     "metadata": {},
     "output_type": "execute_result"
    }
   ],
   "source": [
    "# numbers=[6,10,2]\n",
    "numbers=[3,30,34,5,9]\n",
    "from itertools import combinations,permutations\n",
    "def solution(numbers):\n",
    "    return sorted(list(map(lambda x : int(\"\".join(x)), permutations([str(i) for i in numbers],len(numbers)))))[-1]\n",
    "solution(numbers)"
   ]
  },
  {
   "cell_type": "code",
   "execution_count": 55,
   "metadata": {},
   "outputs": [
    {
     "name": "stdout",
     "output_type": "stream",
     "text": [
      "['301', '78', '34', '30', '9', '5', '3']\n",
      "[]\n",
      "['78', '34', '30', '9', '5', '3']\n",
      "['5', '34', '30', '3']\n",
      "['30', '34']\n",
      "[]\n",
      "['34']\n",
      "['3']\n",
      "['9']\n",
      "['301', '30', '34', '5', '3', '78', '9']\n"
     ]
    }
   ],
   "source": [
    "numbers=[78,3,30,301,34,5,9]\n",
    "def solution(numbers): \n",
    "    stnums=[str(i) for i in sorted(numbers,reverse=True)]\n",
    "    # stnums=sorted([str(i) for i in numbers],reverse=True,key=lambda x : x[0])\n",
    "    print(qsort(stnums))\n",
    "\n",
    "# solution(numbers)\n",
    "def qsort(items):\n",
    "    print(items)\n",
    "    if len(items)<=1:return items\n",
    "    l,r=0,len(items)-1\n",
    "    while l<r:\n",
    "        while strsort(items[0],items[l]) and l<r : l+=1\n",
    "        while strsort(items[r],items[0]) and l<r : r-=1\n",
    "        items[l],items[r]=items[r],items[l]\n",
    "    items[0], items[l-1] = items[l-1], items[0]\n",
    "    return qsort(items[:l-1])+[items[l-1]]+qsort(items[l:])\n",
    "\n",
    "def strsort(a,b): # a가 더  크면 1,,,, 아면 0\n",
    "    if int(a+b) >= int(b+a):return 1\n",
    "    else: return 0\n",
    "    # alen=len(a)\n",
    "    # blen=len(b)\n",
    "    # if a[0]!=b[0] or alen==blen:\n",
    "    #     return 1 if a>=b else 0\n",
    "    # else:\n",
    "    #     mlen=max(alen,blen)\n",
    "    #     if a.ljust(mlen,a[0]) >=  b.ljust(mlen,b[0]):return 1\n",
    "    #     else: return 0\n",
    "\n",
    "# sorted(['3','34','32','30'], key=strsort)\n",
    "# qsort(['5','8','3','6','4','9'])\n",
    "solution(numbers)\n",
    "# qsort([5,1,8,3,6,4,9])\n",
    "# strsort('30','301')\n",
    "\n"
   ]
  }
 ],
 "metadata": {
  "interpreter": {
   "hash": "f86c90f853a261887a9584a1188fabbe37e796e7f9becfe056678541a1e00140"
  },
  "kernelspec": {
   "display_name": "Python 3",
   "language": "python",
   "name": "python3"
  },
  "language_info": {
   "codemirror_mode": {
    "name": "ipython",
    "version": 3
   },
   "file_extension": ".py",
   "mimetype": "text/x-python",
   "name": "python",
   "nbconvert_exporter": "python",
   "pygments_lexer": "ipython3",
   "version": "3.8.5"
  }
 },
 "nbformat": 4,
 "nbformat_minor": 2
}
