{
 "cells": [
  {
   "cell_type": "code",
   "execution_count": 89,
   "metadata": {
    "ExecuteTime": {
     "end_time": "2020-12-13T12:28:47.302883Z",
     "start_time": "2020-12-13T12:28:47.288396Z"
    }
   },
   "outputs": [
    {
     "data": {
      "text/plain": [
       "3:10:32.809"
      ]
     },
     "execution_count": 89,
     "metadata": {},
     "output_type": "execute_result"
    }
   ],
   "source": [
    "lines=\" 2016-09-15 03:10:33.020 0.211s \"\n",
    "tmp=Time()\n",
    "tmp.setTime(lines.split()[1:])\n",
    "tmp.getStartTime()"
   ]
  },
  {
   "cell_type": "code",
   "execution_count": 12,
   "metadata": {
    "ExecuteTime": {
     "end_time": "2020-12-13T13:22:25.702589Z",
     "start_time": "2020-12-13T13:22:25.684576Z"
    }
   },
   "outputs": [
    {
     "name": "stdout",
     "output_type": "stream",
     "text": [
      "15\n",
      "15\n"
     ]
    }
   ],
   "source": [
    "for i in lines:\n",
    "#     print(i.split()[1:])\n",
    "    t=i.split()[0].split('-')[-1]\n",
    "    "
   ]
  },
  {
   "cell_type": "code",
   "execution_count": 10,
   "metadata": {
    "ExecuteTime": {
     "end_time": "2020-12-13T13:11:07.273401Z",
     "start_time": "2020-12-13T13:11:07.260551Z"
    }
   },
   "outputs": [
    {
     "name": "stdout",
     "output_type": "stream",
     "text": [
      "[1:0:2.002, 1:0:5.001] [1:0:4.001, 1:0:7.0]\n"
     ]
    }
   ],
   "source": [
    "lines=['2016-09-15 01:00:04.001 2.0s','2016-09-15 01:00:07.000 2s']\n",
    "starts=[]\n",
    "ends=[]\n",
    "for i in lines:\n",
    "#     print(i.split()[1:])\n",
    "    i.split()[0].split('-')[-1]\n",
    "    tmp=Time()\n",
    "    tmp.setTime(i.split()[1:])\n",
    "    ends.append(tmp)\n",
    "    \n",
    "ends=sorted(ends, key=lambda x:(x.hour,x.minute,x.second))\n",
    "for i in ends:\n",
    "    starts.append(i.getStartTime())\n",
    "print(starts,ends)\n"
   ]
  },
  {
   "cell_type": "code",
   "execution_count": 111,
   "metadata": {
    "ExecuteTime": {
     "end_time": "2020-12-13T12:38:28.449846Z",
     "start_time": "2020-12-13T12:38:28.438367Z"
    }
   },
   "outputs": [
    {
     "data": {
      "text/plain": [
       "1:0:5.002"
      ]
     },
     "execution_count": 111,
     "metadata": {},
     "output_type": "execute_result"
    }
   ],
   "source": [
    "tmp=ends[0]\n",
    "tmp.second+=1\n",
    "tmp"
   ]
  },
  {
   "cell_type": "code",
   "execution_count": 11,
   "metadata": {
    "ExecuteTime": {
     "end_time": "2020-12-13T13:11:08.406651Z",
     "start_time": "2020-12-13T13:11:08.387576Z"
    }
   },
   "outputs": [
    {
     "name": "stdout",
     "output_type": "stream",
     "text": [
      "1:0:4.001\n",
      "--- 1:0:2.002 --- 1:0:4.001\n",
      "--- 1:0:5.001 --- 1:0:7.0\n",
      "1:0:7.0\n",
      "--- 1:0:2.002 --- 1:0:4.001\n",
      "--- 1:0:5.001 --- 1:0:7.0\n"
     ]
    },
    {
     "data": {
      "text/plain": [
       "1"
      ]
     },
     "execution_count": 11,
     "metadata": {},
     "output_type": "execute_result"
    }
   ],
   "source": [
    "max=0\n",
    "for end in ends:\n",
    "    count=1\n",
    "    print(end)\n",
    "    for i,v in enumerate(starts):\n",
    "        print('---',v,'---',ends[i])\n",
    "        tmp=end.getsecAfter()# 끝나고 1초 뒤\n",
    "        if v < tmp and end < ends[i]:#끝나고 1초 이전에 시작했고, 아직안끝난것\n",
    "            count+=1\n",
    "            \n",
    "            \n",
    "#         and ends[i] < tmp : count+=1\n",
    "    if count>max:\n",
    "        max=count\n",
    "    \n",
    "max"
   ]
  },
  {
   "cell_type": "code",
   "execution_count": 3,
   "metadata": {
    "ExecuteTime": {
     "end_time": "2020-12-13T10:59:07.895002Z",
     "start_time": "2020-12-13T10:59:07.888501Z"
    }
   },
   "outputs": [
    {
     "data": {
      "text/plain": [
       "['2016-09-15', '01:00:04.001', '2.0s']"
      ]
     },
     "execution_count": 3,
     "metadata": {},
     "output_type": "execute_result"
    }
   ],
   "source": [
    "s=lines[0].split()[1]\n",
    "t=lines[0].split()[2]"
   ]
  },
  {
   "cell_type": "code",
   "execution_count": 22,
   "metadata": {
    "ExecuteTime": {
     "end_time": "2020-12-13T11:11:10.444923Z",
     "start_time": "2020-12-13T11:11:10.439406Z"
    }
   },
   "outputs": [
    {
     "name": "stdout",
     "output_type": "stream",
     "text": [
      "2.001\n",
      "5.0\n"
     ]
    }
   ],
   "source": [
    "for line in lines:\n",
    "    a=float(line.split()[2].split('s')[0])\n",
    "    b=float(line.split()[1].split(':')[-1])\n",
    "    print(round(b-a,3))\n"
   ]
  },
  {
   "cell_type": "code",
   "execution_count": 1,
   "metadata": {
    "ExecuteTime": {
     "end_time": "2020-12-13T13:05:46.799826Z",
     "start_time": "2020-12-13T13:05:46.788318Z"
    }
   },
   "outputs": [],
   "source": [
    "class Time():\n",
    "    def __init__(self):\n",
    "        self.hour=None\n",
    "        self.minute=None\n",
    "        self.second=None\n",
    "        self.startGap=None\n",
    "    def setTime(self, text):\n",
    "        tmp=text[0].split(':')\n",
    "        self.hour=int(tmp[0])\n",
    "        self.minute=int(tmp[1])\n",
    "        self.second=float(tmp[2])\n",
    "        self.startGap=float(text[1].split('s')[0])\n",
    "#             self.startGap=\n",
    "    def __eq__(self, other):\n",
    "        return self.second+self.minute*60+self.hour*3600 == other.second+other.minute*60+other.hour*3600 \n",
    "    def __lt__(self, other):\n",
    "        return self.second+self.minute*60+self.hour*3600 < other.second+other.minute*60+other.hour*3600 \n",
    "    \n",
    "    def getsecAfter(self):\n",
    "        tmp=Time()\n",
    "        tmp.hour=self.hour\n",
    "        tmp.minute=self.minute\n",
    "        tmp.second=round(self.second+1,3)\n",
    "        if tmp.second>=60:\n",
    "            tmp.second=tmp.second%60\n",
    "            tmp.minute+=1\n",
    "        if tmp.minute>=60:\n",
    "            tmp.minute=tmp.minute%60\n",
    "            tmp.hour+=1\n",
    "        if tmp.hour>=24:\n",
    "            tmp.hour=23\n",
    "            tmp.minute=59\n",
    "            tmp.second=59.999\n",
    "        return tmp\n",
    "    \n",
    "    def getStartTime(self):\n",
    "        tmp=Time()\n",
    "        tmp.hour=self.hour\n",
    "        tmp.minute=self.minute\n",
    "        tmp.second=round(self.second-self.startGap+0.001,3)\n",
    "        if tmp.second<0:\n",
    "            tmp.second+=60\n",
    "            tmp.minute-=1\n",
    "        if tmp.minute<0:\n",
    "            tmp.minute+=60\n",
    "            tmp.hour-=1\n",
    "        if tmp.hour<0:\n",
    "            tmp.hour=0\n",
    "            tmp.minute=0\n",
    "            tmp.second=0\n",
    "        return tmp\n",
    "    \n",
    "    def getStartTimefromtxt(self,millisec):\n",
    "        if type(millisec)==type(0.1):\n",
    "            mil=millisec\n",
    "        else:\n",
    "            mil=float(millisec.split('s')[0])\n",
    "        tmp=Time()\n",
    "        tmp.hour=self.hour\n",
    "        tmp.minute=self.minute\n",
    "        tmp.second=round(self.second-mil,3)\n",
    "        if tmp.second<0:\n",
    "            tmp.second+=60\n",
    "            tmp.minute-=1\n",
    "        if tmp.minute<0:\n",
    "            tmp.minute+=60\n",
    "            tmp.hour-=1\n",
    "        if tmp.hour<0:\n",
    "            tmp.hour=0\n",
    "            tmp.minute=0\n",
    "            tmp.second=0\n",
    "        return tmp\n",
    "    \n",
    "    def __repr__(self):\n",
    "        return f'{self.hour}:{self.minute}:{self.second}'\n"
   ]
  },
  {
   "cell_type": "markdown",
   "metadata": {},
   "source": []
  },
  {
   "cell_type": "code",
   "execution_count": null,
   "metadata": {},
   "outputs": [],
   "source": []
  },
  {
   "cell_type": "code",
   "execution_count": null,
   "metadata": {},
   "outputs": [],
   "source": []
  },
  {
   "cell_type": "code",
   "execution_count": null,
   "metadata": {},
   "outputs": [],
   "source": []
  },
  {
   "cell_type": "code",
   "execution_count": null,
   "metadata": {},
   "outputs": [],
   "source": []
  },
  {
   "cell_type": "code",
   "execution_count": null,
   "metadata": {},
   "outputs": [],
   "source": []
  },
  {
   "cell_type": "markdown",
   "metadata": {},
   "source": [
    "# 제출\n",
    "https://inspirit941.tistory.com/entry/Python-%ED%94%84%EB%A1%9C%EA%B7%B8%EB%9E%98%EB%A8%B8%EC%8A%A4-2018-%EC%B9%B4%EC%B9%B4%EC%98%A4-Recruit-%EC%B6%94%EC%84%9D-%ED%8A%B8%EB%9E%98%ED%94%BD\n",
    "이거 공부해보기"
   ]
  },
  {
   "cell_type": "code",
   "execution_count": null,
   "metadata": {},
   "outputs": [],
   "source": [
    "def solution(lines):\n",
    "    answer = 0\n",
    "    starts=[]\n",
    "    ends=[]\n",
    "    for i in lines:\n",
    "        if int(i.split()[0].split('-')[-1])!=15:continue\n",
    "        tmp=Time()\n",
    "        tmp.setTime(i.split()[1:])\n",
    "        ends.append(tmp)\n",
    "    ends=sorted(ends, key=lambda x:(x.hour,x.minute,x.second))\n",
    "    for i in ends:\n",
    "        starts.append(i.getStartTime())\n",
    "    for end in ends:\n",
    "        count=1\n",
    "        for i,v in enumerate(starts):\n",
    "            tmp=end.getsecAfter()# 끝나고 1초 뒤\n",
    "            if v < tmp and end < ends[i]:#끝나고 1초 이전에 시작했고, \n",
    "                count+=1\n",
    "\n",
    "        if count>answer:\n",
    "            answer=count\n",
    "        \n",
    "    return answer\n",
    "\n",
    "class Time():\n",
    "    def __init__(self):\n",
    "        self.hour=None\n",
    "        self.minute=None\n",
    "        self.second=None\n",
    "        self.startGap=None\n",
    "    def setTime(self, text):\n",
    "        tmp=text[0].split(':')\n",
    "        self.hour=int(tmp[0])\n",
    "        self.minute=int(tmp[1])\n",
    "        self.second=float(tmp[2])\n",
    "        self.startGap=float(text[1].split('s')[0])\n",
    "#             self.startGap=\n",
    "    def __eq__(self, other):\n",
    "        return self.second+self.minute*60+self.hour*3600 == other.second+other.minute*60+other.hour*3600 \n",
    "    def __lt__(self, other):\n",
    "        return self.second+self.minute*60+self.hour*3600 < other.second+other.minute*60+other.hour*3600 \n",
    "    \n",
    "    def getsecAfter(self):\n",
    "        tmp=Time()\n",
    "        tmp.hour=self.hour\n",
    "        tmp.minute=self.minute\n",
    "        tmp.second=round(self.second+1,3)\n",
    "        if tmp.second>=60:\n",
    "            tmp.second=tmp.second%60\n",
    "            tmp.minute+=1\n",
    "        if tmp.minute>=60:\n",
    "            tmp.minute=tmp.minute%60\n",
    "            tmp.hour+=1\n",
    "        if tmp.hour>=24:\n",
    "            tmp.hour=23\n",
    "            tmp.minute=59\n",
    "            tmp.second=59.999\n",
    "        return tmp\n",
    "    \n",
    "    def getStartTime(self):\n",
    "        tmp=Time()\n",
    "        tmp.hour=self.hour\n",
    "        tmp.minute=self.minute\n",
    "        tmp.second=round(self.second-self.startGap+0.001,3)\n",
    "        if tmp.second<0:\n",
    "            tmp.second+=60\n",
    "            tmp.minute-=1\n",
    "        if tmp.minute<0:\n",
    "            tmp.minute+=60\n",
    "            tmp.hour-=1\n",
    "        if tmp.hour<0:\n",
    "            tmp.hour=0\n",
    "            tmp.minute=0\n",
    "            tmp.second=0\n",
    "        return tmp\n",
    "    \n",
    "    def getStartTimefromtxt(self,millisec):\n",
    "        if type(millisec)==type(0.1):\n",
    "            mil=millisec\n",
    "        else:\n",
    "            mil=float(millisec.split('s')[0])\n",
    "        tmp=Time()\n",
    "        tmp.hour=self.hour\n",
    "        tmp.minute=self.minute\n",
    "        tmp.second=round(self.second-mil,3)\n",
    "        if tmp.second<0:\n",
    "            tmp.second+=60\n",
    "            tmp.minute-=1\n",
    "        if tmp.minute<0:\n",
    "            tmp.minute+=60\n",
    "            tmp.hour-=1\n",
    "        if tmp.hour<0:\n",
    "            tmp.hour=0\n",
    "            tmp.minute=0\n",
    "            tmp.second=0\n",
    "        return tmp\n",
    "    \n",
    "    def __repr__(self):\n",
    "        return f'{self.hour}:{self.minute}:{self.second}'"
   ]
  }
 ],
 "metadata": {
  "kernelspec": {
   "display_name": "Python 3",
   "language": "python",
   "name": "python3"
  },
  "language_info": {
   "codemirror_mode": {
    "name": "ipython",
    "version": 3
   },
   "file_extension": ".py",
   "mimetype": "text/x-python",
   "name": "python",
   "nbconvert_exporter": "python",
   "pygments_lexer": "ipython3",
   "version": "3.8.5"
  },
  "toc": {
   "base_numbering": 1,
   "nav_menu": {},
   "number_sections": true,
   "sideBar": true,
   "skip_h1_title": false,
   "title_cell": "Table of Contents",
   "title_sidebar": "Contents",
   "toc_cell": false,
   "toc_position": {},
   "toc_section_display": true,
   "toc_window_display": false
  }
 },
 "nbformat": 4,
 "nbformat_minor": 4
}
