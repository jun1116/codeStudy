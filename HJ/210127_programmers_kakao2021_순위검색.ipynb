{
 "cells": [
  {
   "cell_type": "code",
   "execution_count": 1,
   "metadata": {},
   "outputs": [],
   "source": [
    "info=[\"java backend junior pizza 150\",\n",
    "\"python frontend senior chicken 210\",\n",
    "\"python frontend senior chicken 150\",\n",
    "\"cpp backend senior pizza 260\",\n",
    "\"java backend junior chicken 80\",\n",
    "\"python backend senior chicken 50\"]\n",
    "query=[\"java and backend and junior and pizza 100\",\n",
    "\"python and frontend and senior and chicken 200\",\n",
    "\"cpp and - and senior and pizza 250\",\n",
    "\"- and backend and senior and - 150\",\n",
    "\"- and - and - and chicken 100\",\n",
    "\"- and - and - and - 150\"]"
   ]
  },
  {
   "cell_type": "code",
   "execution_count": 2,
   "metadata": {},
   "outputs": [
    {
     "output_type": "execute_result",
     "data": {
      "text/plain": [
       "[1, 1, 1, 1, 2, 4]"
      ]
     },
     "metadata": {},
     "execution_count": 2
    }
   ],
   "source": [
    "import pandas as pd\n",
    "def solution(info, query):\n",
    "    answer = []\n",
    "    tmp=[]\n",
    "    for i in info:\n",
    "        tmp.append(i.split())\n",
    "    cols=['lang','fb','juse','food','score']\n",
    "    df =  pd.DataFrame(tmp, columns=cols)\n",
    "    df['score'] = df.loc[:,'score'].apply(lambda x : int(x))\n",
    "    for i in query:\n",
    "        tmp=i.replace('and','').split()\n",
    "        # print(tmp)\n",
    "        que=\"\"\n",
    "        for j,v in enumerate(tmp):\n",
    "            if v=='-':continue\n",
    "            if j != 0 and len(que)!=0: \n",
    "                if j==len(tmp)-1: que+=f' and {cols[j]}>={v}'\n",
    "                else: que+=f' and {cols[j]}==\"{v}\"'\n",
    "            else: \n",
    "                if j==len(tmp)-1: que+=f' {cols[j]}>={v}'\n",
    "                else: que+=f' {cols[j]}==\"{v}\"'\n",
    "        # print(que)\n",
    "        answer.append(df.query(que).lang.count())\n",
    "\n",
    "    return answer\n",
    "solution(info,query)"
   ]
  },
  {
   "cell_type": "code",
   "execution_count": 3,
   "metadata": {},
   "outputs": [
    {
     "output_type": "execute_result",
     "data": {
      "text/plain": [
       "[1, 1, 1, 1, 2, 4]"
      ]
     },
     "metadata": {},
     "execution_count": 3
    }
   ],
   "source": [
    "def solution(info,query):\n",
    "    cols=['lang','fb','juse','food','score']\n",
    "    answer=[]\n",
    "    dic={}\n",
    "    for i in info:\n",
    "        for j,v in enumerate(i.split()):\n",
    "            now = dic.get(cols[j])\n",
    "            if now : now.append(v)\n",
    "            else: \n",
    "                dic[cols[j]]=[v]\n",
    "    for i in query:\n",
    "        que=i.replace('and','').split() #쿼리 리스트\n",
    "        idxs=[i for i in range(len(info))] #인덱스 번호 저장\n",
    "        for j,q in enumerate(que):  #쿼리 단어시작\n",
    "            if q=='-':continue \n",
    "            if idxs: # 쿼리가 안끝났는데 아직 확인해야할 인덱스가 남아있다면\n",
    "                removelist=[]\n",
    "                for idx in idxs:\n",
    "                    if j==len(que)-1: #점수인것\n",
    "                        if int(q)>int(dic[cols[j]][idx]):\n",
    "                            removelist.append(idx)\n",
    "                    elif q!=dic[cols[j]][idx]: #조건인것\n",
    "                        removelist.append(idx)\n",
    "                for rem in  removelist:\n",
    "                    idxs.remove(rem)\n",
    "        \n",
    "        answer.append(len(idxs))\n",
    "        \n",
    "    return answer\n",
    "solution(info,query)"
   ]
  },
  {
   "cell_type": "code",
   "execution_count": null,
   "metadata": {},
   "outputs": [],
   "source": []
  },
  {
   "cell_type": "code",
   "execution_count": null,
   "metadata": {},
   "outputs": [],
   "source": []
  },
  {
   "cell_type": "code",
   "execution_count": null,
   "metadata": {},
   "outputs": [],
   "source": []
  },
  {
   "cell_type": "markdown",
   "metadata": {},
   "source": [
    "#### 공부해볼만한 코드"
   ]
  },
  {
   "cell_type": "code",
   "execution_count": null,
   "metadata": {},
   "outputs": [],
   "source": []
  },
  {
   "cell_type": "code",
   "execution_count": null,
   "metadata": {},
   "outputs": [],
   "source": []
  },
  {
   "cell_type": "code",
   "execution_count": null,
   "metadata": {},
   "outputs": [],
   "source": []
  }
 ],
 "metadata": {
  "kernelspec": {
   "display_name": "Python 3",
   "language": "python",
   "name": "python3"
  },
  "language_info": {
   "codemirror_mode": {
    "name": "ipython",
    "version": 3
   },
   "file_extension": ".py",
   "mimetype": "text/x-python",
   "name": "python",
   "nbconvert_exporter": "python",
   "pygments_lexer": "ipython3",
   "version": "3.8.3-final"
  },
  "toc": {
   "base_numbering": 1,
   "nav_menu": {},
   "number_sections": true,
   "sideBar": true,
   "skip_h1_title": false,
   "title_cell": "Table of Contents",
   "title_sidebar": "Contents",
   "toc_cell": false,
   "toc_position": {},
   "toc_section_display": true,
   "toc_window_display": false
  }
 },
 "nbformat": 4,
 "nbformat_minor": 4
}