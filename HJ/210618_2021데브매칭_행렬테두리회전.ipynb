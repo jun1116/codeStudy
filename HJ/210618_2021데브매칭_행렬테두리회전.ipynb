{
 "metadata": {
  "language_info": {
   "codemirror_mode": {
    "name": "ipython",
    "version": 3
   },
   "file_extension": ".py",
   "mimetype": "text/x-python",
   "name": "python",
   "nbconvert_exporter": "python",
   "pygments_lexer": "ipython3",
   "version": "3.8.5"
  },
  "orig_nbformat": 4,
  "kernelspec": {
   "name": "python3",
   "display_name": "Python 3.8.5 64-bit ('base': conda)"
  },
  "interpreter": {
   "hash": "39a3f6769e595a50e593a296d8b0c78e5171348aaba449e974344d6732d07a14"
  }
 },
 "nbformat": 4,
 "nbformat_minor": 2,
 "cells": [
  {
   "cell_type": "code",
   "execution_count": 1,
   "metadata": {},
   "outputs": [
    {
     "output_type": "stream",
     "name": "stdout",
     "text": [
      "0 0 1 1\n[4, 1, 3]\n[5, 2, 6]\n[7, 8, 9]\n1\n0 1 1 2\n[4, 2, 1]\n[5, 6, 3]\n[7, 8, 9]\n1\n1 0 2 1\n[4, 2, 1]\n[7, 5, 3]\n[8, 6, 9]\n5\n1 1 2 2\n[4, 2, 1]\n[7, 6, 5]\n[8, 9, 3]\n3\n"
     ]
    },
    {
     "output_type": "execute_result",
     "data": {
      "text/plain": [
       "[1, 1, 5, 3]"
      ]
     },
     "metadata": {},
     "execution_count": 1
    }
   ],
   "source": [
    "#2021 Dev-matching웹백 행렬테두리 회전하기\n",
    "# rows,columns,queries\tresult\n",
    "# rows,columns,queries=6,6,[[2,2,5,4],[3,3,6,6],[5,1,6,3]]#\t[8, 10, 25]\n",
    "rows,columns,queries=3,3,[[1,1,2,2],[1,2,2,3],[2,1,3,2],[2,2,3,3]]#\t[1, 1, 5, 3]\n",
    "# rows,columns,queries=100,97,[[1,1,100,97]]#\t[1]\n",
    "def mprint(mat):\n",
    "    for m in mat:\n",
    "        print(m)\n",
    "\n",
    "def solution(rows,columns,queries):\n",
    "    mat=[[1+j+(columns*i) for j in range(columns)] for i in range(rows)]\n",
    "    # mprint(mat);print()\n",
    "    answer=[]\n",
    "    for query in queries:\n",
    "        mat,miner=rot(mat,query)\n",
    "        answer.append(miner)\n",
    "        mprint(mat)\n",
    "        print(miner)\n",
    "    return answer\n",
    "\n",
    "def rot(mat,q):\n",
    "    x1,y1=q[0]-1,q[1]-1\n",
    "    x2,y2=q[2]-1,q[3]-1\n",
    "    print(x1,y1,x2,y2)\n",
    "    tmp=mat[x1][y1]\n",
    "    rt=0\n",
    "    dx=[1,0,-1,0]\n",
    "    dy=[0,1,0,-1]\n",
    "    x,y=x1,y1\n",
    "    miner=mat[x1][y1]\n",
    "    while True:\n",
    "        nx,ny=x+dx[rt], y+dy[rt]\n",
    "        if rt==0 and nx==x2 and ny<y2:\n",
    "            rt=1\n",
    "        elif rt==1 and nx==x2 and ny==y2:\n",
    "            rt=2\n",
    "        elif rt==2 and nx==x1:\n",
    "            rt=3\n",
    "        elif rt==3 and ny==y1:\n",
    "            mat[x][y] = tmp\n",
    "            break\n",
    "        miner = min(miner,mat[nx][ny])\n",
    "        mat[x][y]=mat[nx][ny]\n",
    "        x=nx\n",
    "        y=ny\n",
    "    return mat, miner\n",
    "solution(rows,columns,queries)"
   ]
  }
 ]
}