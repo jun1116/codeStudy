{
 "cells": [
  {
   "cell_type": "code",
   "execution_count": 31,
   "metadata": {
    "ExecuteTime": {
     "end_time": "2020-12-06T11:20:14.153187Z",
     "start_time": "2020-12-06T11:20:14.139440Z"
    }
   },
   "outputs": [
    {
     "data": {
      "text/plain": [
       "5"
      ]
     },
     "execution_count": 31,
     "metadata": {},
     "output_type": "execute_result"
    }
   ],
   "source": [
    "board = [[0,0,0,0,0],[0,0,1,0,3],[0,2,5,0,1],[4,2,4,4,2],[3,5,1,3,1]]\t\n",
    "moves= [1,5,3,5,1,2,1,4]\t\n",
    "len(board)"
   ]
  },
  {
   "cell_type": "code",
   "execution_count": null,
   "metadata": {},
   "outputs": [],
   "source": [
    "[[0,0,0,0,0],\n",
    " [0,0,1,0,3],\n",
    " [0,2,5,0,1],\n",
    " [4,2,4,4,2],\n",
    " [3,5,1,3,1]]"
   ]
  },
  {
   "cell_type": "code",
   "execution_count": null,
   "metadata": {},
   "outputs": [],
   "source": [
    "count=0\n",
    "now=0\n",
    "stack=[]\n",
    "\n",
    "# def instack():\n",
    "if stack[-1]==now:\n",
    "    stack.pop()\n",
    "    count+=2\n",
    "    \n"
   ]
  },
  {
   "cell_type": "code",
   "execution_count": 29,
   "metadata": {
    "ExecuteTime": {
     "end_time": "2020-12-06T11:19:22.710853Z",
     "start_time": "2020-12-06T11:19:22.699851Z"
    }
   },
   "outputs": [
    {
     "name": "stdout",
     "output_type": "stream",
     "text": [
      "0 0 0\n",
      "0 1 0\n",
      "0 2 0\n",
      "0 3 4\n",
      "잡았다\n",
      "스택에 넣는다 :    4\n",
      "4 0 0\n",
      "4 1 3\n",
      "잡았다\n",
      "스택에 넣는다 :    3\n",
      "2 0 0\n",
      "2 1 1\n",
      "잡았다\n",
      "스택에 넣는다 :    1\n",
      "4 0 0\n",
      "4 1 0\n",
      "4 2 1\n",
      "잡았다\n",
      "스택에서폭파 :    0\n",
      "0 0 0\n",
      "0 1 0\n",
      "0 2 0\n",
      "0 3 0\n",
      "0 4 3\n",
      "잡았다\n",
      "스택에서폭파 :    0\n",
      "1 0 0\n",
      "1 1 0\n",
      "1 2 2\n",
      "잡았다\n",
      "스택에 넣는다 :    2\n",
      "0 0 0\n",
      "0 1 0\n",
      "0 2 0\n",
      "0 3 0\n",
      "0 4 0\n",
      "3 0 0\n",
      "3 1 0\n",
      "3 2 0\n",
      "3 3 4\n",
      "잡았다\n",
      "스택에 넣는다 :    4\n"
     ]
    },
    {
     "data": {
      "text/plain": [
       "4"
      ]
     },
     "execution_count": 29,
     "metadata": {},
     "output_type": "execute_result"
    }
   ],
   "source": [
    "board = [[0,0,0,0,0],[0,0,1,0,3],[0,2,5,0,1],[4,2,4,4,2],[3,5,1,3,1]]\t\n",
    "moves= [1,5,3,5,1,2,1,4]\t\n",
    "count=0\n",
    "stack=[]\n",
    "for i in moves:# i는 열번호가 됨\n",
    "    크레인위치=i-1\n",
    "    for j in range(len(board)): # j는 행번호가됨\n",
    "        높이=j\n",
    "        if board[높이][크레인위치]==0:continue\n",
    "        else:\n",
    "            try:\n",
    "                if stack[-1]==board[높이][크레인위치]:\n",
    "                    board[높이][크레인위치]=0\n",
    "                    stack.pop()\n",
    "                    count+=2\n",
    "                else:\n",
    "                    stack.append(board[높이][크레인위치])\n",
    "                    board[높이][크레인위치]=0\n",
    "                break\n",
    "            except:\n",
    "                stack.append(board[높이][크레인위치])\n",
    "                board[높이][크레인위치]=0\n",
    "                break\n",
    "\n",
    "count\n",
    "            \n",
    "        "
   ]
  },
  {
   "cell_type": "code",
   "execution_count": 32,
   "metadata": {
    "ExecuteTime": {
     "end_time": "2020-12-06T11:20:16.475321Z",
     "start_time": "2020-12-06T11:20:16.458728Z"
    }
   },
   "outputs": [
    {
     "data": {
      "text/plain": [
       "[[0, 0, 0, 0, 0],\n",
       " [0, 0, 1, 0, 3],\n",
       " [0, 2, 5, 0, 1],\n",
       " [4, 2, 4, 4, 2],\n",
       " [3, 5, 1, 3, 1]]"
      ]
     },
     "execution_count": 32,
     "metadata": {},
     "output_type": "execute_result"
    }
   ],
   "source": [
    "board"
   ]
  }
 ],
 "metadata": {
  "kernelspec": {
   "display_name": "Python 3",
   "language": "python",
   "name": "python3"
  },
  "language_info": {
   "codemirror_mode": {
    "name": "ipython",
    "version": 3
   },
   "file_extension": ".py",
   "mimetype": "text/x-python",
   "name": "python",
   "nbconvert_exporter": "python",
   "pygments_lexer": "ipython3",
   "version": "3.8.5"
  },
  "toc": {
   "base_numbering": 1,
   "nav_menu": {},
   "number_sections": true,
   "sideBar": true,
   "skip_h1_title": false,
   "title_cell": "Table of Contents",
   "title_sidebar": "Contents",
   "toc_cell": false,
   "toc_position": {},
   "toc_section_display": true,
   "toc_window_display": false
  }
 },
 "nbformat": 4,
 "nbformat_minor": 4
}
