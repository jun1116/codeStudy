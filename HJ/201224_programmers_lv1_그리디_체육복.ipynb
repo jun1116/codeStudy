{
 "cells": [
  {
   "cell_type": "code",
   "execution_count": 34,
   "metadata": {
    "ExecuteTime": {
     "end_time": "2020-12-24T17:15:12.508489Z",
     "start_time": "2020-12-24T17:15:12.490484Z"
    }
   },
   "outputs": [
    {
     "name": "stdout",
     "output_type": "stream",
     "text": [
      "[2, 1, 0]\n"
     ]
    },
    {
     "data": {
      "text/plain": [
       "2"
      ]
     },
     "execution_count": 34,
     "metadata": {},
     "output_type": "execute_result"
    }
   ],
   "source": [
    "def solution(n,lost,reserve):\n",
    "    answer=0\n",
    "    \n",
    "    \n",
    "    stu=[1 for _ in range(n)]\n",
    "    \n",
    "    \n",
    "    for i in range(n): # 0,1,2,3,4\n",
    "        if reserve and i+1 in reserve:\n",
    "            stu[i]+=1\n",
    "        if lost and i+1 in lost:\n",
    "            stu[i]-=1\n",
    "#     print(stu)\n",
    "    for i in range(n): # 0,1,2,3,4        \n",
    "        if stu[i]<1:\n",
    "            if i==0 :\n",
    "                if stu[i+1]>1: #처음녀석\n",
    "#                     print(f'{i}번녀석은 {i+1}번에게 빌린다')\n",
    "                    stu[i+1]-=1\n",
    "                    stu[i]+=1\n",
    "            elif i==n-1 :\n",
    "                if stu[i-1]>1: #마지막녀석\n",
    "#                     print(f'{i}번녀석은 {i-1}번에게 빌린다')\n",
    "                    stu[i-1]-=1\n",
    "                    stu[i]+=1\n",
    "            else: #그외\n",
    "                if stu[i-1]>1:\n",
    "#                     print(f'{i}번녀석은 {i-1}번에게 빌린다')\n",
    "                    stu[i-1]-=1\n",
    "                    stu[i]+=1\n",
    "                elif stu[i+1]>1:\n",
    "#                     print(f'{i}번녀석은 {i+1}번에게 빌린다')\n",
    "                    stu[i+1]-=1\n",
    "                    stu[i]+=1\n",
    "    for i in range(n): # 0,1,2,3,4        \n",
    "        if stu[i]>0:\n",
    "            answer+=1\n",
    "            \n",
    "    \n",
    "    \n",
    "            \n",
    "#     print (stu)\n",
    "    return answer\n",
    "\n",
    "\n",
    "n=3\n",
    "lost=[3]\n",
    "reserve=[1]\n",
    "solution(n,lost,reserve)"
   ]
  },
  {
   "cell_type": "code",
   "execution_count": null,
   "metadata": {},
   "outputs": [],
   "source": []
  },
  {
   "cell_type": "code",
   "execution_count": null,
   "metadata": {},
   "outputs": [],
   "source": []
  },
  {
   "cell_type": "code",
   "execution_count": null,
   "metadata": {},
   "outputs": [],
   "source": []
  },
  {
   "cell_type": "code",
   "execution_count": null,
   "metadata": {},
   "outputs": [],
   "source": []
  },
  {
   "cell_type": "markdown",
   "metadata": {},
   "source": [
    "#### 배울만한 풀이 "
   ]
  },
  {
   "cell_type": "code",
   "execution_count": null,
   "metadata": {},
   "outputs": [],
   "source": [
    "def solution(n, lost, reserve):\n",
    "    answer = 0\n",
    "    for i in range(1, n+1):\n",
    "        if i not in lost: #안 잃어버린 학생\n",
    "            answer += 1\n",
    "        else:\n",
    "            if i in reserve: #잃어버렸지만 여분도 있는 학생\n",
    "                answer += 1\n",
    "                reserve.remove(i)\n",
    "                lost.remove(i)\n",
    "\n",
    "    for i in lost: #잃어버리고 여분도 없어서 빌려야 하는 학생\n",
    "        if i-1 in reserve:\n",
    "            answer += 1\n",
    "            reserve.remove(i-1)\n",
    "\n",
    "        elif i+1 in reserve:\n",
    "            answer +=1\n",
    "            reserve.remove(i+1)\n",
    "\n",
    "    return answer"
   ]
  },
  {
   "cell_type": "code",
   "execution_count": null,
   "metadata": {},
   "outputs": [],
   "source": [
    "def solution(n, lost, reserve):\n",
    "    _reserve = [r for r in reserve if r not in lost]\n",
    "    _lost = [l for l in lost if l not in reserve]\n",
    "    for r in _reserve:\n",
    "        f = r - 1\n",
    "        b = r + 1\n",
    "        if f in _lost:\n",
    "            _lost.remove(f)\n",
    "        elif b in _lost:\n",
    "            _lost.remove(b)\n",
    "    return n - len(_lost)"
   ]
  }
 ],
 "metadata": {
  "kernelspec": {
   "display_name": "Python 3",
   "language": "python",
   "name": "python3"
  },
  "language_info": {
   "codemirror_mode": {
    "name": "ipython",
    "version": 3
   },
   "file_extension": ".py",
   "mimetype": "text/x-python",
   "name": "python",
   "nbconvert_exporter": "python",
   "pygments_lexer": "ipython3",
   "version": "3.8.5"
  },
  "toc": {
   "base_numbering": 1,
   "nav_menu": {},
   "number_sections": true,
   "sideBar": true,
   "skip_h1_title": false,
   "title_cell": "Table of Contents",
   "title_sidebar": "Contents",
   "toc_cell": false,
   "toc_position": {},
   "toc_section_display": true,
   "toc_window_display": false
  }
 },
 "nbformat": 4,
 "nbformat_minor": 4
}
