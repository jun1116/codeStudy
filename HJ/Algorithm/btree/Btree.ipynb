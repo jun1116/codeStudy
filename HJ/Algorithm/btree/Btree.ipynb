{
 "cells": [
  {
   "cell_type": "code",
   "execution_count": 6,
   "metadata": {},
   "outputs": [
    {
     "data": {
      "text/plain": [
       "[0, 1, 2]"
      ]
     },
     "execution_count": 6,
     "metadata": {},
     "output_type": "execute_result"
    }
   ],
   "source": [
    "a=[0,1,2,3,4,5]\n",
    "a[:3]"
   ]
  },
  {
   "cell_type": "code",
   "execution_count": 42,
   "metadata": {},
   "outputs": [
    {
     "name": "stdout",
     "output_type": "stream",
     "text": [
      "Start\n",
      "[1, 11] []\n",
      "[2, 11] [[1, 11]]\n",
      "[3, 11] [[1, 11], [2, 11]]\n",
      "[4, 11] [[1, 11], [2, 11], [3, 11]]\n",
      "0\n"
     ]
    },
    {
     "ename": "TypeError",
     "evalue": "'<' not supported between instances of 'int' and 'list'",
     "output_type": "error",
     "traceback": [
      "\u001b[0;31m---------------------------------------------------------------------------\u001b[0m",
      "\u001b[0;31mTypeError\u001b[0m                                 Traceback (most recent call last)",
      "\u001b[0;32m<ipython-input-42-d9263dd701b7>\u001b[0m in \u001b[0;36m<module>\u001b[0;34m\u001b[0m\n\u001b[1;32m    106\u001b[0m \u001b[0mbt\u001b[0m\u001b[0;34m.\u001b[0m\u001b[0minsert_node\u001b[0m\u001b[0;34m(\u001b[0m\u001b[0mbt\u001b[0m\u001b[0;34m.\u001b[0m\u001b[0mroot\u001b[0m\u001b[0;34m,\u001b[0m\u001b[0;34m[\u001b[0m\u001b[0;36m2\u001b[0m\u001b[0;34m,\u001b[0m\u001b[0;36m11\u001b[0m\u001b[0;34m]\u001b[0m\u001b[0;34m)\u001b[0m\u001b[0;34m\u001b[0m\u001b[0;34m\u001b[0m\u001b[0m\n\u001b[1;32m    107\u001b[0m \u001b[0mbt\u001b[0m\u001b[0;34m.\u001b[0m\u001b[0minsert_node\u001b[0m\u001b[0;34m(\u001b[0m\u001b[0mbt\u001b[0m\u001b[0;34m.\u001b[0m\u001b[0mroot\u001b[0m\u001b[0;34m,\u001b[0m\u001b[0;34m[\u001b[0m\u001b[0;36m3\u001b[0m\u001b[0;34m,\u001b[0m\u001b[0;36m11\u001b[0m\u001b[0;34m]\u001b[0m\u001b[0;34m)\u001b[0m\u001b[0;34m\u001b[0m\u001b[0;34m\u001b[0m\u001b[0m\n\u001b[0;32m--> 108\u001b[0;31m \u001b[0mbt\u001b[0m\u001b[0;34m.\u001b[0m\u001b[0minsert_node\u001b[0m\u001b[0;34m(\u001b[0m\u001b[0mbt\u001b[0m\u001b[0;34m.\u001b[0m\u001b[0mroot\u001b[0m\u001b[0;34m,\u001b[0m\u001b[0;34m[\u001b[0m\u001b[0;36m4\u001b[0m\u001b[0;34m,\u001b[0m\u001b[0;36m11\u001b[0m\u001b[0;34m]\u001b[0m\u001b[0;34m)\u001b[0m\u001b[0;34m\u001b[0m\u001b[0;34m\u001b[0m\u001b[0m\n\u001b[0m",
      "\u001b[0;32m<ipython-input-42-d9263dd701b7>\u001b[0m in \u001b[0;36minsert_node\u001b[0;34m(self, node, key)\u001b[0m\n\u001b[1;32m     44\u001b[0m                 \u001b[0mprint\u001b[0m\u001b[0;34m(\u001b[0m\u001b[0;34mf\"Duplicates key {key}\"\u001b[0m\u001b[0;34m)\u001b[0m\u001b[0;34m\u001b[0m\u001b[0;34m\u001b[0m\u001b[0m\n\u001b[1;32m     45\u001b[0m                 \u001b[0;32mreturn\u001b[0m \u001b[0mnode\u001b[0m\u001b[0;34m,\u001b[0m \u001b[0;32mNone\u001b[0m\u001b[0;34m\u001b[0m\u001b[0;34m\u001b[0m\u001b[0m\n\u001b[0;32m---> 46\u001b[0;31m             \u001b[0;32melif\u001b[0m \u001b[0mkey\u001b[0m\u001b[0;34m[\u001b[0m\u001b[0;36m0\u001b[0m\u001b[0;34m]\u001b[0m\u001b[0;34m<\u001b[0m\u001b[0mnode\u001b[0m\u001b[0;34m.\u001b[0m\u001b[0mkeys\u001b[0m\u001b[0;34m[\u001b[0m\u001b[0mpos\u001b[0m\u001b[0;34m]\u001b[0m\u001b[0;34m:\u001b[0m \u001b[0;32mbreak\u001b[0m\u001b[0;34m\u001b[0m\u001b[0;34m\u001b[0m\u001b[0m\n\u001b[0m\u001b[1;32m     47\u001b[0m             \u001b[0mpos\u001b[0m\u001b[0;34m+=\u001b[0m\u001b[0;36m1\u001b[0m\u001b[0;34m\u001b[0m\u001b[0;34m\u001b[0m\u001b[0m\n\u001b[1;32m     48\u001b[0m         \u001b[0;31m# Position 찾기 완료\u001b[0m\u001b[0;34m\u001b[0m\u001b[0;34m\u001b[0m\u001b[0;34m\u001b[0m\u001b[0m\n",
      "\u001b[0;31mTypeError\u001b[0m: '<' not supported between instances of 'int' and 'list'"
     ]
    }
   ],
   "source": [
    "import random\n",
    "# Node\n",
    "class Node:\n",
    "    def __init__(self, isleaf=False):\n",
    "        self.isleaf=isleaf\n",
    "        self.keys=[]\n",
    "        self.child=[]\n",
    "    def __repr__(self):\n",
    "        return f'{self.keys}'\n",
    "\n",
    "class BTree:\n",
    "    def __init__(self, m):\n",
    "        self.m=m #차수 -> m개의 child를 가질 수 있음\n",
    "        self.root=Node(True)\n",
    "        # self.root=None\n",
    "\n",
    "    def printTree(self, node ,level=0):\n",
    "        print(f'level {level} , length : {len(node.keys)} ', end=\" : \")\n",
    "        for i in node.keys: \n",
    "            print(i[0],end=\" \")\n",
    "        level+=1\n",
    "        if len(node.child)>0:\n",
    "            for i in node.child: \n",
    "                self.printTree(i, level)\n",
    "        \n",
    "    def splitNode(self,p_pos,p_node,node):\n",
    "        pass\n",
    "\n",
    "    # k : Key \n",
    "    # def insert_node(self,p_pos,p_node,node,key):\n",
    "    def insert_node(self,node,key):\n",
    "        \"\"\" 데이터 추가하는것, Root부터 시작해서 내려가도록 Trigger가 발동되며, \n",
    "        현재의 노드(node)가 leaf가 아닐경우, 재귀적으로 child를 내려감. \n",
    "        리프에서의 삽입이 이뤄지고나면, 그대로 자기자신만 반환하고, \n",
    "        Leaf에서의 삽입이 OverFlow가 일어날경우 중간key와 자기자신을 반환\n",
    "        삽입을 하고난 이후, 반환되는 key가 있다면, 해당 child에서 OverFlow가 난것이므로, 관련연산 진행\n",
    "        \"\"\"\n",
    "        print(key,node)\n",
    "        pos=0\n",
    "        while pos < len(node.keys)-2:\n",
    "            print(pos)\n",
    "            if key[0]==node.keys[pos]:\n",
    "                #Duplicate\n",
    "                print(f\"Duplicates key {key}\")\n",
    "                return node, None \n",
    "            elif key[0]<node.keys[pos]: break\n",
    "            pos+=1\n",
    "        # Position 찾기 완료\n",
    "        # print(pos)\n",
    "        if node.isleaf: # Leaf라면?? -> Leaf에서의 삽입 로직\n",
    "            i=len(node.keys)-1\n",
    "            node.keys.append([1e9,None])\n",
    "            while i>=0 and key[0]<node.keys[i][0]:\n",
    "                node.keys[i+1]=node.keys[i]\n",
    "                i-=1\n",
    "            node.keys[i+1]=key\n",
    "            if len(node.keys) >= self.m : # 오버플로 발생?\n",
    "                return node, node.keys[(self.m//2)]\n",
    "            else: return node, None\n",
    "        else: #Leaf가 아니라면?\n",
    "            node.child[pos], child_mid_value = self.insert_node(node.child[pos],key)\n",
    "            if child_mid_value: # Child에서 OverFlow발생 -> 자기에 추가시켜줘야해\n",
    "                # Parent로 올라가\n",
    "                temp=node.keys[pos:]\n",
    "                node.keys[pos+1:] = temp\n",
    "                # node.keys[pos] = node.child.keys[child_mid_value]\n",
    "                node.keys[pos] = child_mid_value\n",
    "                node.child[pos+2:] = node.child[pos+1:]\n",
    "                \n",
    "                # child split\n",
    "                c_node=node.child[pos]\n",
    "                temp = Node(c_node.isleaf) # 오른쪽으로 추가될 노드\n",
    "                temp.keys = c_node.keys[self.m//2+1:] ## m//2는 부모로 올라갔으므로\n",
    "                c_node.keys=c_node.keys[:self.m//2]\n",
    "                \n",
    "                ## Child 의 child까지 정리\n",
    "                node.child[pos+1] = temp\n",
    "                if not c_node.isleaf:\n",
    "                    temp.child = c_node.child[self.m//2+1:]\n",
    "                    c_node.child = c_node.child[:self.m//2+1]\n",
    "            \n",
    "            if len(node.keys) >= self.m : # 오버플로 발생?\n",
    "                return node, node.keys[(self.m//2)]\n",
    "            else:# Child Overflow X \n",
    "                return node , None\n",
    "            \n",
    "            # 자기자신 OverFlow?\n",
    "            # if len(node.keys) == self.m:\n",
    "            #     node = splitNode(p_pos,p_node,node)\n",
    "                \n",
    "                \n",
    "\n",
    "        \n",
    "\n",
    "# if __name__==\"__main__\":\n",
    "print(\"Start\")\n",
    "bt = BTree(3)\n",
    "kvs = [[1,11],[7,77],[5,55],[6,66],[4,44],[3,33],[2,22],[23,9]]\n",
    "# for i in random.shuffle([i for i in range(10)]): \n",
    "\n",
    "# rand=random.randint(1,50)\n",
    "# for i in kvs:\n",
    "#     bt.insert_node(bt.root,i)\n",
    "# bt.printTree(bt.root)\n",
    "bt.insert_node(bt.root,[1,11])\n",
    "bt.insert_node(bt.root,[2,11])\n",
    "bt.insert_node(bt.root,[3,11])\n",
    "bt.insert_node(bt.root,[4,11])\n"
   ]
  },
  {
   "cell_type": "code",
   "execution_count": 39,
   "metadata": {},
   "outputs": [
    {
     "data": {
      "text/plain": [
       "[[1, 11], [2, 11], [3, 11]]"
      ]
     },
     "execution_count": 39,
     "metadata": {},
     "output_type": "execute_result"
    }
   ],
   "source": [
    "bt.root"
   ]
  },
  {
   "cell_type": "code",
   "execution_count": null,
   "metadata": {},
   "outputs": [],
   "source": []
  }
 ],
 "metadata": {
  "interpreter": {
   "hash": "b401f62587db1a7874286fb40c5403ef69a9bf2071ebafdef659cb253034d932"
  },
  "kernelspec": {
   "display_name": "Python 3.8.3 64-bit ('base': conda)",
   "language": "python",
   "name": "python3"
  },
  "language_info": {
   "codemirror_mode": {
    "name": "ipython",
    "version": 3
   },
   "file_extension": ".py",
   "mimetype": "text/x-python",
   "name": "python",
   "nbconvert_exporter": "python",
   "pygments_lexer": "ipython3",
   "version": "3.8.5"
  },
  "orig_nbformat": 4
 },
 "nbformat": 4,
 "nbformat_minor": 2
}
