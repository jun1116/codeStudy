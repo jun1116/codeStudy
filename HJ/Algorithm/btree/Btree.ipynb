{
 "cells": [
  {
   "cell_type": "code",
   "execution_count": 31,
   "metadata": {},
   "outputs": [
    {
     "name": "stdout",
     "output_type": "stream",
     "text": [
      "Start\n",
      "level 0 , length : 1  : 2 level 1 , length : 2  : 0 1 level 1 , length : 2  : 3 4 "
     ]
    }
   ],
   "source": [
    "# Node\n",
    "class Node:\n",
    "    def __init__(self, isleaf=False):\n",
    "        self.isleaf=isleaf\n",
    "        self.keys=[]\n",
    "        self.child=[]\n",
    "    def __repr__(self):\n",
    "        return f'{self.keys}'\n",
    "\n",
    "class BTree:\n",
    "    def __init__(self, m):\n",
    "        self.m=m #차수\n",
    "        self.root=None\n",
    "        # self.root=Node(True)\n",
    "\n",
    "    def printTree(self, node ,level=0):\n",
    "        print(f'level {level} , length : {len(node.keys)} ', end=\" : \")\n",
    "        for i in node.keys: \n",
    "            print(i[0],end=\" \")\n",
    "        level+=1\n",
    "        if len(node.child)>0:\n",
    "            for i in node.child: \n",
    "                self.printTree(i, level)\n",
    "        \n",
    "    # k : Key \n",
    "    def insert(self,k):\n",
    "        root=self.root\n",
    "        if root:\n",
    "            self.insert_non_full(root,k)\n",
    "        else:\n",
    "            if len(root.keys) >= self.m-1:\n",
    "                new_root=Node(False)\n",
    "                i = len(root.keys)-1\n",
    "                root.append([None,None])\n",
    "                while i>=0 and k[0]<root.keys[i][0]:\n",
    "                    root.keys[i+1] = root.keys[i]\n",
    "                    i-=1\n",
    "                root.keys[i+1]=k\n",
    "                \n",
    "                \n",
    "\n",
    "        # if len(root.keys) == (2*self.m)-1 : #Maximum number of key\n",
    "        #     temp=Node()\n",
    "        #     self.root=temp\n",
    "        #     temp.child.insert(0,root)\n",
    "        #     self.split_child(temp,0)\n",
    "        #     self.insert_non_full(temp,k)\n",
    "        # else: # Enough Num of key\n",
    "        #     self.insert_non_full(root,k)\n",
    "\n",
    "    def insert_non_full(self, node, k):\n",
    "        \"\"\" \n",
    "        Insert Key k at a not-full node \n",
    "        K : [key, value]\n",
    "        \"\"\"\n",
    "        i = len(node.keys)-1\n",
    "        if node.isleaf: \n",
    "            # 리프노드\n",
    "            node.keys.append([None,None])\n",
    "            while i>=0 and k[0] < node.keys[i][0]:\n",
    "                #한칸씩 뒤로 밀기 (i는 끝에서부터 하나씩 작아직)\n",
    "                node.keys[i+1]=node.keys[i]\n",
    "                i-=1\n",
    "            #while문이 끝날땐, k의 값이 node.keys[i][0]보다 큰상태 또는 -1일테니 그 바로 뒤에 삽입\n",
    "            node.keys[i+1]=k\n",
    "        else: # Leaf가 아닌노드\n",
    "            while i>=0 and k[0]<node.keys[i][0]:\n",
    "                i-=1\n",
    "            i+=1\n",
    "            #위와 동일하게 위치찾기.\n",
    "            #만약 해당 자식의 키수가 m개 초과시 -> 스플릿\n",
    "            # if len(node.child[i].keys)==(2*self.m)-1:\n",
    "            if len(node.child[i].keys)>=self.m:\n",
    "                self.split_child(node,i)\n",
    "                if k[0] > node.keys[i][0]:\n",
    "                    i+=1\n",
    "                self.insert_non_full(node.child[i],k)\n",
    "    \n",
    "    # Split Child\n",
    "    def split_child(self, node, i):\n",
    "        m = self.m\n",
    "        node_child = node.child[i]\n",
    "        temp = Node(node_child.isleaf)\n",
    "        node.child.insert(i+1, temp)\n",
    "        node.keys.insert(i,node_child.keys[m-1])\n",
    "        temp.keys = node_child.keys[m:(2*m)-1]\n",
    "        node_child.keys = node_child.keys[:m-1]\n",
    "\n",
    "        if not node_child.isleaf:\n",
    "            temp.child=node_child.child[m:2*m]\n",
    "            node_child.child = node_child.child[:m-1]\n",
    "\n",
    "\n",
    "# if __name__==\"__main__\":\n",
    "print(\"Start\")\n",
    "bt = BTree(3)\n",
    "# kvs = [[1,11],[7,77],[5,55],[6,66],[4,44],[3,33],[2,22],[23,9]]\n",
    "for i in range(10): bt.insert([i,i*2])\n",
    "bt.printTree(bt.root)\n"
   ]
  },
  {
   "cell_type": "code",
   "execution_count": 21,
   "metadata": {},
   "outputs": [
    {
     "data": {
      "text/plain": [
       "[[[1, 11], [4, 44]], [[6, 66], [7, 77]]]"
      ]
     },
     "execution_count": 21,
     "metadata": {},
     "output_type": "execute_result"
    }
   ],
   "source": [
    "bt.root.child"
   ]
  },
  {
   "cell_type": "code",
   "execution_count": null,
   "metadata": {},
   "outputs": [],
   "source": []
  }
 ],
 "metadata": {
  "interpreter": {
   "hash": "b401f62587db1a7874286fb40c5403ef69a9bf2071ebafdef659cb253034d932"
  },
  "kernelspec": {
   "display_name": "Python 3.8.3 64-bit ('base': conda)",
   "language": "python",
   "name": "python3"
  },
  "language_info": {
   "codemirror_mode": {
    "name": "ipython",
    "version": 3
   },
   "file_extension": ".py",
   "mimetype": "text/x-python",
   "name": "python",
   "nbconvert_exporter": "python",
   "pygments_lexer": "ipython3",
   "version": "3.8.3"
  },
  "orig_nbformat": 4
 },
 "nbformat": 4,
 "nbformat_minor": 2
}
