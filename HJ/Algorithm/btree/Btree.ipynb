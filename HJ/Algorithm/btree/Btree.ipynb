{
 "cells": [
  {
   "cell_type": "code",
   "execution_count": 9,
   "metadata": {},
   "outputs": [
    {
     "name": "stdout",
     "output_type": "stream",
     "text": [
      "Start\n",
      "level 0 , length : 1 : [5, 55], level 1 , length : 2 : [1, 11], [4, 44], level 1 , length : 2 : [6, 66], [7, 77], "
     ]
    }
   ],
   "source": [
    "# Node\n",
    "class Node:\n",
    "    def __init__(self, isleaf=False):\n",
    "        self.isleaf=isleaf\n",
    "        self.keys=[]\n",
    "        self.child=[]\n",
    "    def __repr__(self):\n",
    "        return self.keys\n",
    "\n",
    "class BTree:\n",
    "    def __init__(self, m):\n",
    "        self.m=m #차수\n",
    "        self.root=Node(True)\n",
    "\n",
    "    def printTree(self, node ,level=0):\n",
    "        print(f'level {level} , length : {len(node.keys)}', end=\" : \")\n",
    "        for i in node.keys: print(i,end=\", \")\n",
    "        level+=1\n",
    "        if len(node.child)>0:\n",
    "            for i in node.child: self.printTree(i, level)\n",
    "        \n",
    "    # k : Key \n",
    "    def insert(self,k):\n",
    "        root=self.root\n",
    "        if len(root.keys)==(2*self.m)-1 : #Maximum number of key\n",
    "            temp=Node()\n",
    "            self.root=temp\n",
    "            temp.child.insert(0,root)\n",
    "            self.split_child(temp,0)\n",
    "            self.insert_non_full(temp,k)\n",
    "        else: # Enough Num of key\n",
    "            self.insert_non_full(root,k)\n",
    "\n",
    "    def insert_non_full(self, node, k):\n",
    "        \"\"\" \n",
    "        Insert Key k at a not-full node \n",
    "        K : [key, value]\n",
    "        \"\"\"\n",
    "        i = len(node.keys)-1\n",
    "        if node.isleaf: \n",
    "            # 리프노드\n",
    "            node.keys.append((None,None))\n",
    "            while i>=0 and k[0] < node.keys[i][0]:\n",
    "                #한칸씩 뒤로 밀기 (i는 끝에서부터 하나씩 작아직)\n",
    "                node.keys[i+1]=node.keys[i]\n",
    "                i-=1\n",
    "            #while문이 끝날땐, k의 값이 node.keys[i][0]보다 큰상태 또는 -1일테니 그 바로 뒤에 삽입\n",
    "            node.keys[i+1]=k\n",
    "        else: # Leaf가 아닌노드\n",
    "            while i>=0 and k[0]<node.keys[i][0]:\n",
    "                i-=1\n",
    "            i+=1\n",
    "            #위와 동일하게 위치찾기.\n",
    "            #만약 해당 자식의 키수가 \n",
    "            if len(node.child[i].keys)==(2*self.m)-1:\n",
    "                self.split_child(node,i)\n",
    "                if k[0] > node.keys[i][0]:\n",
    "                    i+=1\n",
    "                self.insert_non_full(node.child[i],k)\n",
    "    \n",
    "    # Split Child\n",
    "    def split_child(self, node, i):\n",
    "        m = self.m\n",
    "        node_child = node.child[i]\n",
    "        temp = Node(node_child.isleaf)\n",
    "        node.child.insert(i+1, temp)\n",
    "        node.keys.insert(i,node_child.keys[m-1])\n",
    "        temp.keys = node_child.keys[m:(2*m)-1]\n",
    "        node_child.keys = node_child.keys[:m-1]\n",
    "\n",
    "        if not node_child.isleaf:\n",
    "            temp.child=node_child.child[m:2*m]\n",
    "            node_child.child = node_child.child[:m-1]\n",
    "\n",
    "\n",
    "# if __name__==\"__main__\":\n",
    "print(\"Start\")\n",
    "bt = BTree(3)\n",
    "kvs = [[1,11],[7,77],[5,55],[6,66],[4,44],[3,33],[2,22]]\n",
    "for i in kvs: bt.insert(i)\n",
    "bt.printTree(bt.root)\n"
   ]
  },
  {
   "cell_type": "code",
   "execution_count": 10,
   "metadata": {},
   "outputs": [
    {
     "ename": "TypeError",
     "evalue": "__repr__() takes 0 positional arguments but 1 was given",
     "output_type": "error",
     "traceback": [
      "\u001b[1;31m---------------------------------------------------------------------------\u001b[0m",
      "\u001b[1;31mTypeError\u001b[0m                                 Traceback (most recent call last)",
      "\u001b[1;32m~\\anaconda3\\lib\\site-packages\\IPython\\core\\formatters.py\u001b[0m in \u001b[0;36m__call__\u001b[1;34m(self, obj)\u001b[0m\n\u001b[0;32m    700\u001b[0m                 \u001b[0mtype_pprinters\u001b[0m\u001b[1;33m=\u001b[0m\u001b[0mself\u001b[0m\u001b[1;33m.\u001b[0m\u001b[0mtype_printers\u001b[0m\u001b[1;33m,\u001b[0m\u001b[1;33m\u001b[0m\u001b[1;33m\u001b[0m\u001b[0m\n\u001b[0;32m    701\u001b[0m                 deferred_pprinters=self.deferred_printers)\n\u001b[1;32m--> 702\u001b[1;33m             \u001b[0mprinter\u001b[0m\u001b[1;33m.\u001b[0m\u001b[0mpretty\u001b[0m\u001b[1;33m(\u001b[0m\u001b[0mobj\u001b[0m\u001b[1;33m)\u001b[0m\u001b[1;33m\u001b[0m\u001b[1;33m\u001b[0m\u001b[0m\n\u001b[0m\u001b[0;32m    703\u001b[0m             \u001b[0mprinter\u001b[0m\u001b[1;33m.\u001b[0m\u001b[0mflush\u001b[0m\u001b[1;33m(\u001b[0m\u001b[1;33m)\u001b[0m\u001b[1;33m\u001b[0m\u001b[1;33m\u001b[0m\u001b[0m\n\u001b[0;32m    704\u001b[0m             \u001b[1;32mreturn\u001b[0m \u001b[0mstream\u001b[0m\u001b[1;33m.\u001b[0m\u001b[0mgetvalue\u001b[0m\u001b[1;33m(\u001b[0m\u001b[1;33m)\u001b[0m\u001b[1;33m\u001b[0m\u001b[1;33m\u001b[0m\u001b[0m\n",
      "\u001b[1;32m~\\anaconda3\\lib\\site-packages\\IPython\\lib\\pretty.py\u001b[0m in \u001b[0;36mpretty\u001b[1;34m(self, obj)\u001b[0m\n\u001b[0;32m    392\u001b[0m                         \u001b[1;32mif\u001b[0m \u001b[0mcls\u001b[0m \u001b[1;32mis\u001b[0m \u001b[1;32mnot\u001b[0m \u001b[0mobject\u001b[0m\u001b[0;31m \u001b[0m\u001b[0;31m\\\u001b[0m\u001b[1;33m\u001b[0m\u001b[1;33m\u001b[0m\u001b[0m\n\u001b[0;32m    393\u001b[0m                                 \u001b[1;32mand\u001b[0m \u001b[0mcallable\u001b[0m\u001b[1;33m(\u001b[0m\u001b[0mcls\u001b[0m\u001b[1;33m.\u001b[0m\u001b[0m__dict__\u001b[0m\u001b[1;33m.\u001b[0m\u001b[0mget\u001b[0m\u001b[1;33m(\u001b[0m\u001b[1;34m'__repr__'\u001b[0m\u001b[1;33m)\u001b[0m\u001b[1;33m)\u001b[0m\u001b[1;33m:\u001b[0m\u001b[1;33m\u001b[0m\u001b[1;33m\u001b[0m\u001b[0m\n\u001b[1;32m--> 394\u001b[1;33m                             \u001b[1;32mreturn\u001b[0m \u001b[0m_repr_pprint\u001b[0m\u001b[1;33m(\u001b[0m\u001b[0mobj\u001b[0m\u001b[1;33m,\u001b[0m \u001b[0mself\u001b[0m\u001b[1;33m,\u001b[0m \u001b[0mcycle\u001b[0m\u001b[1;33m)\u001b[0m\u001b[1;33m\u001b[0m\u001b[1;33m\u001b[0m\u001b[0m\n\u001b[0m\u001b[0;32m    395\u001b[0m \u001b[1;33m\u001b[0m\u001b[0m\n\u001b[0;32m    396\u001b[0m             \u001b[1;32mreturn\u001b[0m \u001b[0m_default_pprint\u001b[0m\u001b[1;33m(\u001b[0m\u001b[0mobj\u001b[0m\u001b[1;33m,\u001b[0m \u001b[0mself\u001b[0m\u001b[1;33m,\u001b[0m \u001b[0mcycle\u001b[0m\u001b[1;33m)\u001b[0m\u001b[1;33m\u001b[0m\u001b[1;33m\u001b[0m\u001b[0m\n",
      "\u001b[1;32m~\\anaconda3\\lib\\site-packages\\IPython\\lib\\pretty.py\u001b[0m in \u001b[0;36m_repr_pprint\u001b[1;34m(obj, p, cycle)\u001b[0m\n\u001b[0;32m    698\u001b[0m     \u001b[1;34m\"\"\"A pprint that just redirects to the normal repr function.\"\"\"\u001b[0m\u001b[1;33m\u001b[0m\u001b[1;33m\u001b[0m\u001b[0m\n\u001b[0;32m    699\u001b[0m     \u001b[1;31m# Find newlines and replace them with p.break_()\u001b[0m\u001b[1;33m\u001b[0m\u001b[1;33m\u001b[0m\u001b[1;33m\u001b[0m\u001b[0m\n\u001b[1;32m--> 700\u001b[1;33m     \u001b[0moutput\u001b[0m \u001b[1;33m=\u001b[0m \u001b[0mrepr\u001b[0m\u001b[1;33m(\u001b[0m\u001b[0mobj\u001b[0m\u001b[1;33m)\u001b[0m\u001b[1;33m\u001b[0m\u001b[1;33m\u001b[0m\u001b[0m\n\u001b[0m\u001b[0;32m    701\u001b[0m     \u001b[0mlines\u001b[0m \u001b[1;33m=\u001b[0m \u001b[0moutput\u001b[0m\u001b[1;33m.\u001b[0m\u001b[0msplitlines\u001b[0m\u001b[1;33m(\u001b[0m\u001b[1;33m)\u001b[0m\u001b[1;33m\u001b[0m\u001b[1;33m\u001b[0m\u001b[0m\n\u001b[0;32m    702\u001b[0m     \u001b[1;32mwith\u001b[0m \u001b[0mp\u001b[0m\u001b[1;33m.\u001b[0m\u001b[0mgroup\u001b[0m\u001b[1;33m(\u001b[0m\u001b[1;33m)\u001b[0m\u001b[1;33m:\u001b[0m\u001b[1;33m\u001b[0m\u001b[1;33m\u001b[0m\u001b[0m\n",
      "\u001b[1;31mTypeError\u001b[0m: __repr__() takes 0 positional arguments but 1 was given"
     ]
    }
   ],
   "source": [
    "bt.root"
   ]
  }
 ],
 "metadata": {
  "interpreter": {
   "hash": "b401f62587db1a7874286fb40c5403ef69a9bf2071ebafdef659cb253034d932"
  },
  "kernelspec": {
   "display_name": "Python 3.8.3 64-bit ('base': conda)",
   "language": "python",
   "name": "python3"
  },
  "language_info": {
   "codemirror_mode": {
    "name": "ipython",
    "version": 3
   },
   "file_extension": ".py",
   "mimetype": "text/x-python",
   "name": "python",
   "nbconvert_exporter": "python",
   "pygments_lexer": "ipython3",
   "version": "3.8.3"
  },
  "orig_nbformat": 4
 },
 "nbformat": 4,
 "nbformat_minor": 2
}
