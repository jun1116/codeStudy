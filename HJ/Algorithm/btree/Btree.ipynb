{
 "cells": [
  {
   "cell_type": "code",
   "execution_count": 6,
   "metadata": {},
   "outputs": [
    {
     "data": {
      "text/plain": [
       "[0, 1, 2]"
      ]
     },
     "execution_count": 6,
     "metadata": {},
     "output_type": "execute_result"
    }
   ],
   "source": [
    "a=[0,1,2,3,4,5]\n",
    "a[:3]"
   ]
  },
  {
   "cell_type": "code",
   "execution_count": 133,
   "metadata": {},
   "outputs": [],
   "source": [
    "class Node:\n",
    "    def __init__(self, isleaf=False):\n",
    "        self.isleaf=isleaf\n",
    "        self.keys=[]\n",
    "        self.child=[]\n",
    "    def __repr__(self):\n",
    "        return f'k:{self.keys}'\n",
    "    def split(self):\n",
    "        length = len(self.keys)\n",
    "        temp = Node(self.isleaf)\n",
    "        mid = self.keys[length//2]\n",
    "        temp.keys = self.keys[length//2+1:]\n",
    "        self.keys = self.keys[:length//2]\n",
    "        if self.child:\n",
    "            temp.child = self.child[length//2+1:]\n",
    "            self.child = self.child[:length//2+1]\n",
    "        return self,mid,temp\n",
    "        \n",
    "# nn=Node()\n",
    "# nn.keys=[10,20,30,40,50]\n",
    "# nn.child=[[1,2],[12,13],[22,23],[33,39],[45,49],[55,60]]\n",
    "# ll,mid,rr=nn.split()\n",
    "# ll,ll.child , rr, rr.child"
   ]
  },
  {
   "cell_type": "code",
   "execution_count": 231,
   "metadata": {},
   "outputs": [
    {
     "name": "stdout",
     "output_type": "stream",
     "text": [
      "Start\n",
      "[10, 11]  Node :  k:[] 0\n",
      "[15, 11]  Node :  k:[[10, 11]] 1\n",
      "[18, 11]  Node :  k:[[10, 11], [15, 11]] 2\n",
      "[30, 11]  Node :  k:[[15, 11]] 1\n",
      "[30, 11]  Node :  k:[[18, 11]] 1\n",
      "[20, 11]  Node :  k:[[15, 11]] 1\n",
      "[20, 11]  Node :  k:[[18, 11], [30, 11]] 1\n",
      "[40, 11]  Node :  k:[[15, 11], [20, 11]] 2\n",
      "[40, 11]  Node :  k:[[30, 11]] 1\n",
      "[50, 11]  Node :  k:[[15, 11], [20, 11]] 2\n",
      "[50, 11]  Node :  k:[[30, 11], [40, 11]] 2\n",
      "[60, 11]  Node :  k:[[20, 11]] 1\n",
      "[60, 11]  Node :  k:[[40, 11]] 1\n",
      "[60, 11]  Node :  k:[[50, 11]] 1\n",
      "[70, 11]  Node :  k:[[20, 11]] 1\n",
      "[70, 11]  Node :  k:[[40, 11]] 1\n",
      "[70, 11]  Node :  k:[[50, 11], [60, 11]] 2\n",
      "[80, 11]  Node :  k:[[20, 11]] 1\n",
      "[80, 11]  Node :  k:[[40, 11], [60, 11]] 2\n",
      "[80, 11]  Node :  k:[[70, 11]] 1\n",
      "[90, 11]  Node :  k:[[20, 11]] 1\n",
      "[90, 11]  Node :  k:[[40, 11], [60, 11]] 2\n",
      "[90, 11]  Node :  k:[[70, 11], [80, 11]] 2\n",
      "[85, 11]  Node :  k:[[20, 11], [60, 11]] 2\n",
      "[85, 11]  Node :  k:[[80, 11]] 1\n",
      "[85, 11]  Node :  k:[[90, 11]] 0\n",
      "[75, 11]  Node :  k:[[20, 11], [60, 11]] 2\n",
      "[75, 11]  Node :  k:[[80, 11]] 0\n",
      "[75, 11]  Node :  k:[[70, 11]] 1\n",
      "[77, 11]  Node :  k:[[20, 11], [60, 11]] 2\n",
      "[77, 11]  Node :  k:[[80, 11]] 0\n",
      "[77, 11]  Node :  k:[[70, 11], [75, 11]] 2\n"
     ]
    },
    {
     "data": {
      "text/plain": [
       "k:[[20, 11], [60, 11]]"
      ]
     },
     "execution_count": 231,
     "metadata": {},
     "output_type": "execute_result"
    }
   ],
   "source": [
    "import random\n",
    "\n",
    "class BTree:\n",
    "    def __init__(self, m):\n",
    "        self.m=m #차수 -> m개의 child를 가질 수 있음\n",
    "        self.root=Node(True)\n",
    "        # self.root.isleaf = 'root'\n",
    "        # self.root=None\n",
    "\n",
    "    def printTree(self, node ,level=0):\n",
    "        print(f'level {level} , length : {len(node.keys)} ', end=\" : \")\n",
    "        for i in node.keys: \n",
    "            print(i[0],end=\" \")\n",
    "        level+=1\n",
    "        if len(node.child)>0:\n",
    "            for i in node.child: \n",
    "                self.printTree(i, level)\n",
    "        \n",
    "    def splitNode(self,p_pos,p_node,node):\n",
    "        pass\n",
    "\n",
    "    # k : Key \n",
    "    # def insert_node(self,p_pos,p_node,node,key):\n",
    "    def insert_node(self,node,key):\n",
    "        \"\"\" 데이터 추가하는것, Root부터 시작해서 내려가도록 Trigger가 발동되며, \n",
    "        현재의 노드(node)가 leaf가 아닐경우, 재귀적으로 child를 내려감. \n",
    "        리프에서의 삽입이 이뤄지고나면, 그대로 자기자신만 반환하고, \n",
    "        Leaf에서의 삽입이 OverFlow가 일어날경우 중간key와 자기자신을 반환\n",
    "        삽입을 하고난 이후, 반환되는 key가 있다면, 해당 child에서 OverFlow가 난것이므로, 관련연산 진행\n",
    "        \"\"\"\n",
    "        pos=0\n",
    "        while pos < len(node.keys):\n",
    "            # print(pos)\n",
    "            if key[0]==node.keys[pos][0]:\n",
    "                #Duplicate\n",
    "                print(f\"Duplicates key {key}\")\n",
    "                return node, None \n",
    "            elif key[0]<node.keys[pos][0]: break\n",
    "            pos+=1\n",
    "        print(key,\" Node : \",node , pos)\n",
    "        \n",
    "        # Position 찾기 완료\n",
    "        if node.isleaf==True : # Leaf라면?? -> Leaf에서의 삽입 로직\n",
    "            i=len(node.keys)-1\n",
    "            node.keys.append([1e9,None])\n",
    "            while i>=0 and key[0]<node.keys[i][0]:\n",
    "                node.keys[i+1]=node.keys[i]\n",
    "                i-=1\n",
    "            node.keys[i+1]=key\n",
    "            if len(node.keys) >= self.m : # 오버플로 발생?\n",
    "                if node == self.root:\n",
    "                    # print(\"Root OverFlow\")\n",
    "                    ll,mid,rr=node.split()\n",
    "                    self.root=Node(False)\n",
    "                    self.root.keys.append(mid)\n",
    "                    self.root.child.append(ll)\n",
    "                    self.root.child.append(rr)\n",
    "                    return self.root, None\n",
    "                else:\n",
    "                    # print(\"Leaf OVERFLOW\",node)\n",
    "                    return node, node.keys[(self.m//2)]\n",
    "\n",
    "            else: return node, None\n",
    "        # elif node.isleaf == False: #Leaf가 아니라면?\n",
    "        else: #Leaf가 아니라면?\n",
    "            node.child[pos], child_mid_kv = self.insert_node(node.child[pos],key)\n",
    "            if child_mid_kv: # Child에서 OverFlow발생 -> 자기에 추가시켜줘야해\n",
    "                ll,mid,rr=node.child[pos].split()\n",
    "\n",
    "                i=len(node.keys)-1\n",
    "                node.keys.append([1e9,None])\n",
    "                node.child.append([])\n",
    "                while i>=0 and mid[0] < node.keys[i][0]:\n",
    "                    node.keys[i+1]=node.keys[i]\n",
    "                    node.child[i+2]=node.child[i+1]\n",
    "                    i-=1\n",
    "                node.keys[i+1]=mid\n",
    "                # i=len(node.child)-1\n",
    "                node.child[i+2]=rr\n",
    "                if len(node.keys) >= self.m : # 오버플로 발생?\n",
    "                    if node == self.root:\n",
    "                        # print(\"Root OverFlow\")\n",
    "                        ll,mid,rr=node.split()\n",
    "                        self.root=Node(False)\n",
    "                        self.root.keys.append(mid)\n",
    "                        self.root.child.append(ll)\n",
    "                        self.root.child.append(rr)\n",
    "                        return self.root, None\n",
    "                if len(node.keys)>=self.m:\n",
    "                    return node, node.keys[(self.m//2)]\n",
    "            return node, None\n",
    "            \n",
    "\n",
    "\n",
    "\n",
    "\n",
    "            #     # Parent로 올라가\n",
    "            #     temp=node.keys[pos:]\n",
    "            #     node.keys[pos+1:] = temp\n",
    "            #     # node.keys[pos] = node.child.keys[child_mid_kv]\n",
    "            #     node.keys[pos] = child_mid_kv\n",
    "            #     node.child[pos+2:] = node.child[pos+1:]\n",
    "                \n",
    "            #     # child split\n",
    "            #     c_node=node.child[pos]\n",
    "            #     temp = Node(c_node.isleaf) # 오른쪽으로 추가될 노드\n",
    "            #     temp.keys = c_node.keys[self.m//2+1:] ## m//2는 부모로 올라갔으므로\n",
    "            #     c_node.keys=c_node.keys[:self.m//2]\n",
    "                \n",
    "            #     ## Child 의 child까지 정리\n",
    "            #     node.child[pos+1] = temp\n",
    "            #     if not c_node.isleaf:\n",
    "            #         temp.child = c_node.child[self.m//2+1:]\n",
    "            #         c_node.child = c_node.child[:self.m//2+1]\n",
    "            \n",
    "            # if len(node.keys) >= self.m : # 오버플로 발생?\n",
    "            #     print('overflow check')\n",
    "            #     return node, node.keys[(self.m//2)]\n",
    "            # else:# Child Overflow X \n",
    "            #     return node , None\n",
    "            \n",
    "            # 자기자신 OverFlow?\n",
    "            # if len(node.keys) == self.m:\n",
    "            #     node = splitNode(p_pos,p_node,node)\n",
    "                \n",
    "                \n",
    "\n",
    "        \n",
    "\n",
    "# if __name__==\"__main__\":\n",
    "print(\"Start\")\n",
    "# kvs = [[1,11],[7,77],[5,55],[6,66],[4,44],[3,33],[2,22],[23,9]]\n",
    "\n",
    "bt = BTree(3)\n",
    "bt.insert_node(bt.root,[10,11])\n",
    "bt.insert_node(bt.root,[15,11])\n",
    "bt.insert_node(bt.root,[18,11])\n",
    "bt.insert_node(bt.root,[30,11])\n",
    "bt.insert_node(bt.root,[20,11])  \n",
    "bt.insert_node(bt.root,[40,11])\n",
    "bt.insert_node(bt.root,[50,11])\n",
    "bt.insert_node(bt.root,[60,11])\n",
    "bt.insert_node(bt.root,[70,11])\n",
    "bt.insert_node(bt.root,[80,11])\n",
    "bt.insert_node(bt.root,[90,11])\n",
    "bt.insert_node(bt.root,[85,11])\n",
    "bt.insert_node(bt.root,[75,11])\n",
    "bt.insert_node(bt.root,[77,11])\n",
    "bt.root"
   ]
  },
  {
   "cell_type": "code",
   "execution_count": 232,
   "metadata": {},
   "outputs": [
    {
     "data": {
      "text/plain": [
       "(k:[[20, 11], [60, 11]],\n",
       " '---',\n",
       " [k:[[15, 11]], k:[[40, 11]], k:[[75, 11], [80, 11]]])"
      ]
     },
     "execution_count": 232,
     "metadata": {},
     "output_type": "execute_result"
    }
   ],
   "source": [
    "bt.root,'---', bt.root.child"
   ]
  },
  {
   "cell_type": "code",
   "execution_count": 233,
   "metadata": {},
   "outputs": [
    {
     "data": {
      "text/plain": [
       "([k:[[10, 11]], k:[[18, 11]]], [k:[[30, 11]], k:[[50, 11]]])"
      ]
     },
     "execution_count": 233,
     "metadata": {},
     "output_type": "execute_result"
    }
   ],
   "source": [
    "bt.root.child[0].child , bt.root.child[1].child"
   ]
  },
  {
   "cell_type": "code",
   "execution_count": 251,
   "metadata": {},
   "outputs": [
    {
     "data": {
      "text/plain": [
       "[]"
      ]
     },
     "execution_count": 251,
     "metadata": {},
     "output_type": "execute_result"
    }
   ],
   "source": [
    "# bt.root.child[0].child[1].child"
   ]
  }
 ],
 "metadata": {
  "interpreter": {
   "hash": "b401f62587db1a7874286fb40c5403ef69a9bf2071ebafdef659cb253034d932"
  },
  "kernelspec": {
   "display_name": "Python 3.8.3 64-bit ('base': conda)",
   "language": "python",
   "name": "python3"
  },
  "language_info": {
   "codemirror_mode": {
    "name": "ipython",
    "version": 3
   },
   "file_extension": ".py",
   "mimetype": "text/x-python",
   "name": "python",
   "nbconvert_exporter": "python",
   "pygments_lexer": "ipython3",
   "version": "3.8.5"
  },
  "orig_nbformat": 4
 },
 "nbformat": 4,
 "nbformat_minor": 2
}
