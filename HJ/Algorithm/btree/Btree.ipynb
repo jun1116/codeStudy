{
 "cells": [
  {
   "cell_type": "code",
   "execution_count": 2,
   "metadata": {},
   "outputs": [
    {
     "name": "stdout",
     "output_type": "stream",
     "text": [
      "Start\n"
     ]
    },
    {
     "data": {
      "text/plain": [
       "46"
      ]
     },
     "execution_count": 2,
     "metadata": {},
     "output_type": "execute_result"
    }
   ],
   "source": [
    "import random\n",
    "# Node\n",
    "class Node:\n",
    "    def __init__(self, isleaf=False):\n",
    "        self.isleaf=isleaf\n",
    "        self.keys=[]\n",
    "        self.child=[]\n",
    "    def __repr__(self):\n",
    "        return f'{self.keys}'\n",
    "\n",
    "class BTree:\n",
    "    def __init__(self, m):\n",
    "        self.m=m #차수 -> m개의 child를 가질 수 있음\n",
    "        self.root=Node(True)\n",
    "        # self.root=None\n",
    "\n",
    "    def printTree(self, node ,level=0):\n",
    "        print(f'level {level} , length : {len(node.keys)} ', end=\" : \")\n",
    "        for i in node.keys: \n",
    "            print(i[0],end=\" \")\n",
    "        level+=1\n",
    "        if len(node.child)>0:\n",
    "            for i in node.child: \n",
    "                self.printTree(i, level)\n",
    "        \n",
    "    def splitNode(self,p_pos,p_node,node):\n",
    "        pass\n",
    "\n",
    "    # k : Key \n",
    "    def insert_node(self,p_pos,p_node,node,key):\n",
    "        \"\"\" 데이터 추가하는것, Root부터 시작해서 내려가도록 Trigger가 발동되며, \n",
    "        현재의 노드(node)가 leaf가 아닐경우, 재귀적으로 child를 내려감. \n",
    "        리프에서의 삽입이 이뤄지고나면, 그대로 자기자신만 반환하고, \n",
    "        Leaf에서의 삽입이 OverFlow가 일어날경우 중간key와 자기자신을 반환\n",
    "        삽입을 하고난 이후, 반환되는 key가 있다면, 해당 child에서 OverFlow가 난것이므로, 관련연산 진행\n",
    "        \"\"\"\n",
    "        pos=0\n",
    "        while pos < len(node.keys):\n",
    "            if key[0]==node.keys[pos]:\n",
    "                #Duplicate\n",
    "                print(f\"Duplicates key {key}\")\n",
    "                return node, None \n",
    "            elif key[0]<node.keys[pos]: break\n",
    "            pos+=1\n",
    "        # Position 찾기 완료\n",
    "        if node.isleaf: # Leaf라면?? -> Leaf에서의 삽입 로직\n",
    "            temp = node.keys[pos:]\n",
    "            node.keys[pos+1:] = temp\n",
    "            node.keys[pos] = key\n",
    "            if len(node.keys) >= self.m : # 오버플로 발생?\n",
    "                return node, node.keys[(self.m//2)+1]\n",
    "            else: return node, None\n",
    "        else: #Leaf가 아니라면?\n",
    "            node.child[pos], child_mid_key = self.insert_node(pos,node,node.child[pos],key)\n",
    "            if child_mid_key: # Child에서 OverFlow발생\n",
    "               # Parent로 올라가\n",
    "                temp=node.keys[pos:]\n",
    "                node.keys[pos+1:] = temp\n",
    "                # node.keys[pos] = node.child.keys[child_mid_key]\n",
    "                node.keys[pos] = child_mid_key\n",
    "                node.child[pos+2:] = node.child[pos+1:]\n",
    "                \n",
    "                # child split\n",
    "                c_node=node.child[pos]\n",
    "                temp = Node(c_node.isleaf) # 오른쪽으로 추가될 노드\n",
    "                temp.keys=c_node.keys[m//2+1:]\n",
    "                c_node.keys=c_node.keys[:m//2+1]\n",
    "                #TODO : 확인필요\n",
    "                node.child[pos+1] = temp\n",
    "                if not c_node.isleaf:\n",
    "                    temp.child = c_node.child[m//2]\n",
    "\n",
    "            else:# Overflow X \n",
    "                pass\n",
    "            \n",
    "            # 자기자신 OverFlow?\n",
    "            if len(node.keys) == self.m:\n",
    "                node = splitNode(p_pos,p_node,node)\n",
    "                \n",
    "                \n",
    "\n",
    "        \n",
    "    # def insert_non_full(self, node, k):\n",
    "    #     \"\"\" \n",
    "    #     Insert Key k at a not-full node \n",
    "    #     K : [key, value]\n",
    "    #     \"\"\"\n",
    "    #     i = len(node.keys)-1\n",
    "    #     if node.isleaf: \n",
    "    #         # 리프노드\n",
    "    #         node.keys.append([None,None])\n",
    "    #         while i>=0 and k[0] < node.keys[i][0]:\n",
    "    #             #한칸씩 뒤로 밀기 (i는 끝에서부터 하나씩 작아직)\n",
    "    #             node.keys[i+1]=node.keys[i]\n",
    "    #             i-=1\n",
    "    #         #while문이 끝날땐, k의 값이 node.keys[i][0]보다 큰상태 또는 -1일테니 그 바로 뒤에 삽입\n",
    "    #         node.keys[i+1]=k\n",
    "    #     else: # Leaf가 아닌노드\n",
    "    #         while i>=0 and k[0]<node.keys[i][0]:\n",
    "    #             i-=1\n",
    "    #         i+=1\n",
    "    #         #위와 동일하게 위치찾기.\n",
    "    #         #만약 해당 자식의 키수가 m개 초과시 -> 스플릿\n",
    "    #         # if len(node.child[i].keys)==(2*self.m)-1:\n",
    "    #         if len(node.child[i].keys)>=self.m:\n",
    "    #             self.split_child(node,i)\n",
    "    #             if k[0] > node.keys[i][0]:\n",
    "    #                 i+=1\n",
    "    #             self.insert_non_full(node.child[i],k)\n",
    "    \n",
    "    # # Split Child\n",
    "    # def split_child(self, node, i):\n",
    "    #     m = self.m\n",
    "    #     node_child = node.child[i]\n",
    "    #     temp = Node(node_child.isleaf)\n",
    "    #     node.child.insert(i+1, temp)\n",
    "    #     node.keys.insert(i,node_child.keys[m-1])\n",
    "    #     temp.keys = node_child.keys[m:(2*m)-1]\n",
    "    #     node_child.keys = node_child.keys[:m-1]\n",
    "\n",
    "    #     if not node_child.isleaf:\n",
    "    #         temp.child=node_child.child[m:2*m]\n",
    "    #         node_child.child = node_child.child[:m-1]\n",
    "\n",
    "\n",
    "# if __name__==\"__main__\":\n",
    "print(\"Start\")\n",
    "bt = BTree(3)\n",
    "# kvs = [[1,11],[7,77],[5,55],[6,66],[4,44],[3,33],[2,22],[23,9]]\n",
    "# for i in random.shuffle([i for i in range(10)]): \n",
    "\n",
    "rand=random.randint(1,50)\n",
    "#     bt.insert([i,i*2])\n",
    "# bt.printTree(bt.root)\n"
   ]
  },
  {
   "cell_type": "code",
   "execution_count": 21,
   "metadata": {},
   "outputs": [
    {
     "data": {
      "text/plain": [
       "[[[1, 11], [4, 44]], [[6, 66], [7, 77]]]"
      ]
     },
     "execution_count": 21,
     "metadata": {},
     "output_type": "execute_result"
    }
   ],
   "source": [
    "bt.root.child"
   ]
  },
  {
   "cell_type": "code",
   "execution_count": null,
   "metadata": {},
   "outputs": [],
   "source": []
  }
 ],
 "metadata": {
  "interpreter": {
   "hash": "b401f62587db1a7874286fb40c5403ef69a9bf2071ebafdef659cb253034d932"
  },
  "kernelspec": {
   "display_name": "Python 3.8.3 64-bit ('base': conda)",
   "language": "python",
   "name": "python3"
  },
  "language_info": {
   "codemirror_mode": {
    "name": "ipython",
    "version": 3
   },
   "file_extension": ".py",
   "mimetype": "text/x-python",
   "name": "python",
   "nbconvert_exporter": "python",
   "pygments_lexer": "ipython3",
   "version": "3.8.5"
  },
  "orig_nbformat": 4
 },
 "nbformat": 4,
 "nbformat_minor": 2
}
