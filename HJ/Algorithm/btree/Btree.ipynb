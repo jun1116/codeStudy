{
 "cells": [
  {
   "cell_type": "code",
   "execution_count": 6,
   "metadata": {},
   "outputs": [
    {
     "data": {
      "text/plain": [
       "[0, 1, 2]"
      ]
     },
     "execution_count": 6,
     "metadata": {},
     "output_type": "execute_result"
    }
   ],
   "source": [
    "a=[0,1,2,3,4,5]\n",
    "a[:3]"
   ]
  },
  {
   "cell_type": "code",
   "execution_count": 2,
   "metadata": {},
   "outputs": [],
   "source": [
    "class Node:\n",
    "    def __init__(self, isleaf=False):\n",
    "        self.isleaf=isleaf\n",
    "        self.keys=[]\n",
    "        self.child=[]\n",
    "    def __repr__(self):\n",
    "        return f'k:{self.keys}'\n",
    "    def split(self):\n",
    "        length = len(self.keys)\n",
    "        temp = Node(self.isleaf)\n",
    "        mid = self.keys[length//2]\n",
    "        temp.keys = self.keys[length//2+1:]\n",
    "        self.keys = self.keys[:length//2]\n",
    "        if self.child:\n",
    "            temp.child = self.child[length//2+1:]\n",
    "            self.child = self.child[:length//2+1]\n",
    "        return self,mid,temp\n",
    "        \n",
    "# nn=Node()\n",
    "# nn.keys=[10,20,30,40,50]\n",
    "# nn.child=[[1,2],[12,13],[22,23],[33,39],[45,49],[55,60]]\n",
    "# ll,mid,rr=nn.split()\n",
    "# ll,ll.child , rr, rr.child"
   ]
  },
  {
   "cell_type": "code",
   "execution_count": 47,
   "metadata": {},
   "outputs": [
    {
     "name": "stdout",
     "output_type": "stream",
     "text": [
      "Start\n"
     ]
    },
    {
     "data": {
      "text/plain": [
       "k:[[20, 20], [60, 66]]"
      ]
     },
     "execution_count": 47,
     "metadata": {},
     "output_type": "execute_result"
    }
   ],
   "source": [
    "import random\n",
    "\n",
    "class BTree:\n",
    "    def __init__(self, m):\n",
    "        self.m=m #차수 -> m개의 child를 가질 수 있음\n",
    "        self.root=Node(True)\n",
    "        # self.root.isleaf = 'root'\n",
    "        # self.root=None\n",
    "\n",
    "    def printTree(self, node ,level=0):\n",
    "        print(f'level {level} , length : {len(node.keys)} ', end=\" : \")\n",
    "        for i in node.keys: \n",
    "            print(i[0],end=\" \")\n",
    "        level+=1\n",
    "        if len(node.child)>0:\n",
    "            for i in node.child: \n",
    "                self.printTree(i, level)\n",
    "\n",
    "    # k : Key \n",
    "    # def insert_node(self,p_pos,p_node,node,key):\n",
    "    def insert_node(self,node,key):\n",
    "        \"\"\" 데이터 추가하는것, Root부터 시작해서 내려가도록 Trigger가 발동되며, \n",
    "        현재의 노드(node)가 leaf가 아닐경우, 재귀적으로 child를 내려감. \n",
    "        리프에서의 삽입이 이뤄지고나면, 그대로 자기자신만 반환하고, \n",
    "        Leaf에서의 삽입이 OverFlow가 일어날경우 중간key와 자기자신을 반환\n",
    "        삽입을 하고난 이후, 반환되는 key가 있다면, 해당 child에서 OverFlow가 난것이므로, 관련연산 진행\n",
    "        \"\"\"\n",
    "        pos=0\n",
    "        while pos < len(node.keys):\n",
    "            # print(pos)\n",
    "            if key[0]==node.keys[pos][0]:\n",
    "                #Duplicate\n",
    "                print(f\"Duplicates key {key}\")\n",
    "                return node, None \n",
    "            elif key[0]<node.keys[pos][0]: break\n",
    "            pos+=1\n",
    "        # print(key,\" Node : \",node , pos)\n",
    "        \n",
    "        # Position 찾기 완료\n",
    "        if node.isleaf==True : # Leaf라면?? -> Leaf에서의 삽입 로직\n",
    "            i=len(node.keys)-1\n",
    "            node.keys.append([1e9,None])\n",
    "            while i>=0 and key[0]<node.keys[i][0]:\n",
    "                node.keys[i+1]=node.keys[i]\n",
    "                i-=1\n",
    "            node.keys[i+1]=key\n",
    "            if len(node.keys) >= self.m : # 오버플로 발생?\n",
    "                if node == self.root:\n",
    "                    # print(\"Root OverFlow\")\n",
    "                    ll,mid,rr=node.split()\n",
    "                    self.root=Node(False)\n",
    "                    self.root.keys.append(mid)\n",
    "                    self.root.child.append(ll)\n",
    "                    self.root.child.append(rr)\n",
    "                    return self.root, None\n",
    "                else:\n",
    "                    # print(\"Leaf OVERFLOW\",node)\n",
    "                    return node, node.keys[(self.m//2)]\n",
    "\n",
    "            else: return node, None\n",
    "        # elif node.isleaf == False: #Leaf가 아니라면?\n",
    "        else: #Leaf가 아니라면?\n",
    "            node.child[pos], child_mid_kv = self.insert_node(node.child[pos],key)\n",
    "            if child_mid_kv: # Child에서 OverFlow발생 -> 자기에 추가시켜줘야해\n",
    "                ll,mid,rr=node.child[pos].split()\n",
    "\n",
    "                i=len(node.keys)-1\n",
    "                node.keys.append([1e9,None])\n",
    "                node.child.append([])\n",
    "                while i>=0 and mid[0] < node.keys[i][0]:\n",
    "                    node.keys[i+1]=node.keys[i]\n",
    "                    node.child[i+2]=node.child[i+1]\n",
    "                    i-=1\n",
    "                node.keys[i+1]=mid\n",
    "                # i=len(node.child)-1\n",
    "                node.child[i+2]=rr\n",
    "                if len(node.keys) >= self.m : # 오버플로 발생?\n",
    "                    if node == self.root:\n",
    "                        # print(\"Root OverFlow\")\n",
    "                        ll,mid,rr=node.split()\n",
    "                        self.root=Node(False)\n",
    "                        self.root.keys.append(mid)\n",
    "                        self.root.child.append(ll)\n",
    "                        self.root.child.append(rr)\n",
    "                        return self.root, None\n",
    "                if len(node.keys)>=self.m:\n",
    "                    return node, node.keys[(self.m//2)]\n",
    "            return node, None\n",
    "                \n",
    "    def search_key(self,node,key):\n",
    "        # print(node)\n",
    "        pos=0\n",
    "        while pos < len(node.keys):\n",
    "            if key[0] == node.keys[pos][0]:\n",
    "                print(f'Find! key : {node.keys[pos]}')\n",
    "                return node, key\n",
    "            elif key[0] < node.keys[pos][0] : break\n",
    "            else:\n",
    "                pos+=1\n",
    "        print(node, pos)1\n",
    "        if node.child:\n",
    "            return self.search_key(node.child[pos],key)\n",
    "        else : return f\"NOT FOUND {key}\"\n",
    "\n",
    "    def print_tree(self,node):\n",
    "        pass\n",
    "\n",
    "\n",
    "# if __name__==\"__main__\":\n",
    "print(\"Start\")\n",
    "# kvs = [[1,11],[7,77],[5,55],[6,66],[4,44],[3,33],[2,22],[23,9]]\n",
    "\n",
    "bt = BTree(3)\n",
    "bt.insert_node(bt.root,[10,10])\n",
    "bt.insert_node(bt.root,[15,15])\n",
    "bt.insert_node(bt.root,[18,18])\n",
    "bt.insert_node(bt.root,[30,30])\n",
    "bt.insert_node(bt.root,[20,20])  \n",
    "bt.insert_node(bt.root,[40,40])\n",
    "bt.insert_node(bt.root,[50,55])\n",
    "bt.insert_node(bt.root,[60,66])\n",
    "bt.insert_node(bt.root,[70,77])\n",
    "bt.insert_node(bt.root,[80,88])\n",
    "bt.insert_node(bt.root,[90,99])\n",
    "bt.insert_node(bt.root,[85,85])\n",
    "bt.insert_node(bt.root,[75,75])\n",
    "bt.insert_node(bt.root,[77,77])\n",
    "bt.root"
   ]
  },
  {
   "cell_type": "code",
   "execution_count": 51,
   "metadata": {},
   "outputs": [
    {
     "name": "stdout",
     "output_type": "stream",
     "text": [
      "k:[[20, 20], [60, 66]] 1\n",
      "Find! key : [40, 40]\n"
     ]
    },
    {
     "data": {
      "text/plain": [
       "(k:[[40, 40]], [40, None])"
      ]
     },
     "execution_count": 51,
     "metadata": {},
     "output_type": "execute_result"
    }
   ],
   "source": [
    "bt.search_key(bt.root, [40,None])"
   ]
  },
  {
   "cell_type": "code",
   "execution_count": 13,
   "metadata": {},
   "outputs": [
    {
     "data": {
      "text/plain": [
       "(k:[[20, 11], [60, 11]],\n",
       " '---',\n",
       " [k:[[15, 11]], k:[[40, 11]], k:[[75, 11], [80, 11]]])"
      ]
     },
     "execution_count": 13,
     "metadata": {},
     "output_type": "execute_result"
    }
   ],
   "source": [
    "bt.root,'---', bt.root.child"
   ]
  },
  {
   "cell_type": "code",
   "execution_count": 233,
   "metadata": {},
   "outputs": [
    {
     "data": {
      "text/plain": [
       "([k:[[10, 11]], k:[[18, 11]]], [k:[[30, 11]], k:[[50, 11]]])"
      ]
     },
     "execution_count": 233,
     "metadata": {},
     "output_type": "execute_result"
    }
   ],
   "source": [
    "bt.root.child[0].child , bt.root.child[1].child"
   ]
  },
  {
   "cell_type": "code",
   "execution_count": 258,
   "metadata": {},
   "outputs": [
    {
     "name": "stdout",
     "output_type": "stream",
     "text": [
      "Duplicates key [50, 11]\n"
     ]
    },
    {
     "data": {
      "text/plain": [
       "(k:[[20, 11], [60, 11]], None)"
      ]
     },
     "execution_count": 258,
     "metadata": {},
     "output_type": "execute_result"
    }
   ],
   "source": [
    "bt.insert_node(bt.root,[50,11])"
   ]
  }
 ],
 "metadata": {
  "interpreter": {
   "hash": "b401f62587db1a7874286fb40c5403ef69a9bf2071ebafdef659cb253034d932"
  },
  "kernelspec": {
   "display_name": "Python 3.8.3 64-bit ('base': conda)",
   "language": "python",
   "name": "python3"
  },
  "language_info": {
   "codemirror_mode": {
    "name": "ipython",
    "version": 3
   },
   "file_extension": ".py",
   "mimetype": "text/x-python",
   "name": "python",
   "nbconvert_exporter": "python",
   "pygments_lexer": "ipython3",
   "version": "3.8.5"
  },
  "orig_nbformat": 4
 },
 "nbformat": 4,
 "nbformat_minor": 2
}
