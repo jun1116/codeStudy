{
 "cells": [
  {
   "cell_type": "code",
   "execution_count": 1,
   "metadata": {},
   "outputs": [
    {
     "data": {
      "text/plain": [
       "[0, 1, 2]"
      ]
     },
     "execution_count": 1,
     "metadata": {},
     "output_type": "execute_result"
    }
   ],
   "source": [
    "a=[0,1,2,3,4,5]\n",
    "a[:3]"
   ]
  },
  {
   "cell_type": "code",
   "execution_count": 2,
   "metadata": {},
   "outputs": [
    {
     "data": {
      "text/plain": [
       "1"
      ]
     },
     "execution_count": 2,
     "metadata": {},
     "output_type": "execute_result"
    }
   ],
   "source": [
    "1"
   ]
  },
  {
   "cell_type": "code",
   "execution_count": 1,
   "metadata": {},
   "outputs": [],
   "source": [
    "class Node:\n",
    "    def __init__(self, isleaf=False):\n",
    "        self.isleaf=isleaf\n",
    "        self.keys=[]\n",
    "        self.child=[]\n",
    "    def __repr__(self):\n",
    "        return f'k:{self.keys}'\n",
    "    def split(self):\n",
    "        length = len(self.keys)\n",
    "        temp = Node(self.isleaf)\n",
    "        mid = self.keys[length//2]\n",
    "        temp.keys = self.keys[length//2+1:]\n",
    "        self.keys = self.keys[:length//2]\n",
    "        if self.child:\n",
    "            temp.child = self.child[length//2+1:]\n",
    "            self.child = self.child[:length//2+1]\n",
    "        return self,mid,temp\n",
    "        \n",
    "# nn=Node()\n",
    "# nn.keys=[10,20,30,40,50]\n",
    "# nn.child=[[1,2],[12,13],[22,23],[33,39],[45,49],[55,60]]\n",
    "# ll,mid,rr=nn.split()\n",
    "# ll,ll.child , rr, rr.child"
   ]
  },
  {
   "cell_type": "code",
   "execution_count": 2,
   "metadata": {},
   "outputs": [],
   "source": [
    "import random\n",
    "\n",
    "class BTree:\n",
    "    def __init__(self, m):\n",
    "        self.m=m #차수 -> m개의 child를 가질 수 있음\n",
    "        self.root=Node(True)\n",
    "        # self.root.isleaf = 'root'\n",
    "        # self.root=None\n",
    "\n",
    "    # k : Key \n",
    "    # def insert_node(self,p_pos,p_node,node,key):\n",
    "    def insert_node(self,node,key):\n",
    "        \"\"\" 데이터 추가하는것, Root부터 시작해서 내려가도록 Trigger가 발동되며, \n",
    "        현재의 노드(node)가 leaf가 아닐경우, 재귀적으로 child를 내려감. \n",
    "        리프에서의 삽입이 이뤄지고나면, 그대로 자기자신만 반환하고, \n",
    "        Leaf에서의 삽입이 OverFlow가 일어날경우 중간key와 자기자신을 반환\n",
    "        삽입을 하고난 이후, 반환되는 key가 있다면, 해당 child에서 OverFlow가 난것이므로, 관련연산 진행\n",
    "        \"\"\"\n",
    "        pos=0\n",
    "        while pos < len(node.keys):\n",
    "            # print(pos)\n",
    "            if key[0]==node.keys[pos][0]:\n",
    "                #Duplicate\n",
    "                print(f\"Duplicates key {key}\")\n",
    "                return node, None \n",
    "            elif key[0]<node.keys[pos][0]: break\n",
    "            pos+=1\n",
    "        # print(key,\" Node : \",node , pos)\n",
    "        \n",
    "        # Position 찾기 완료\n",
    "        if node.isleaf==True : # Leaf라면?? -> Leaf에서의 삽입 로직\n",
    "            i=len(node.keys)-1\n",
    "            node.keys.append([1e9,None])\n",
    "            while i>=0 and key[0]<node.keys[i][0]:\n",
    "                node.keys[i+1]=node.keys[i]\n",
    "                i-=1\n",
    "            node.keys[i+1]=key\n",
    "            if len(node.keys) >= self.m : # 오버플로 발생?\n",
    "                if node == self.root:\n",
    "                    # print(\"Root OverFlow\")\n",
    "                    ll,mid,rr=node.split()\n",
    "                    self.root=Node(False)\n",
    "                    self.root.keys.append(mid)\n",
    "                    self.root.child.append(ll)\n",
    "                    self.root.child.append(rr)\n",
    "                    return self.root, None\n",
    "                else:\n",
    "                    # print(\"Leaf OVERFLOW\",node)\n",
    "                    return node, node.keys[(self.m//2)]\n",
    "\n",
    "            else: return node, None\n",
    "        # elif node.isleaf == False: #Leaf가 아니라면?\n",
    "        else: #Leaf가 아니라면?\n",
    "            node.child[pos], child_mid_kv = self.insert_node(node.child[pos],key)\n",
    "            if child_mid_kv: # Child에서 OverFlow발생 -> 자기에 추가시켜줘야해\n",
    "                ll,mid,rr=node.child[pos].split()\n",
    "\n",
    "                i=len(node.keys)-1\n",
    "                node.keys.append([1e9,None])\n",
    "                node.child.append([])\n",
    "                while i>=0 and mid[0] < node.keys[i][0]:\n",
    "                    node.keys[i+1]=node.keys[i]\n",
    "                    node.child[i+2]=node.child[i+1]\n",
    "                    i-=1\n",
    "                node.keys[i+1]=mid\n",
    "                # i=len(node.child)-1\n",
    "                node.child[i+2]=rr\n",
    "                if len(node.keys) >= self.m : # 오버플로 발생?\n",
    "                    if node == self.root:\n",
    "                        # print(\"Root OverFlow\")\n",
    "                        ll,mid,rr=node.split()\n",
    "                        self.root=Node(False)\n",
    "                        self.root.keys.append(mid)\n",
    "                        self.root.child.append(ll)\n",
    "                        self.root.child.append(rr)\n",
    "                        return self.root, None\n",
    "                if len(node.keys)>=self.m:\n",
    "                    return node, node.keys[(self.m//2)]\n",
    "            return node, None\n",
    "\n",
    "    # def search_key_with_Parent(self,p_node,node,key):\n",
    "    #     \"\"\" Find Key \n",
    "    #     IF FIND : RETURN [Node, Key]\n",
    "    #     else : RETURN [None, None] \"\"\"\n",
    "    #     # print(node)\n",
    "    #     pos=0\n",
    "    #     while pos < len(node.keys):\n",
    "    #         if key[0] == node.keys[pos][0]:\n",
    "    #             # print(f'Find! key : {node.keys[pos]}')\n",
    "    #             return p_node, node, key\n",
    "    #         elif key[0] < node.keys[pos][0] : break\n",
    "    #         else:\n",
    "    #             pos+=1\n",
    "    #     # print(node, pos)\n",
    "    #     if node.child:\n",
    "    #         return self.search_key(node, node.child[pos],key)\n",
    "    #     else : \n",
    "    #         return None, None, None\n",
    "    def search_key(self,node,key):\n",
    "        \"\"\" Find Key \n",
    "        IF FIND : RETURN [Node, Key]\n",
    "        else : RETURN [None, None] \"\"\"\n",
    "        # print(node)\n",
    "        pos=0\n",
    "        while pos < len(node.keys):\n",
    "            if key[0] == node.keys[pos][0]:\n",
    "                # print(f'Find! key : {node.keys[pos]}')\n",
    "                return node, key\n",
    "            elif key[0] < node.keys[pos][0] : break\n",
    "            else:\n",
    "                pos+=1\n",
    "        # print(node, pos)\n",
    "        if node.child:\n",
    "            return self.search_key(node.child[pos],key)\n",
    "        else : \n",
    "            return None, None\n",
    "            # return f\"NOT FOUND {key}\"\n",
    "\n",
    "    def print_inorder(self,node):\n",
    "        if node.child:\n",
    "            for i in range(len(node.keys)):\n",
    "                self.print_inorder(node.child[i])\n",
    "                print(node.keys[i])\n",
    "            self.print_inorder(node.child[-1])\n",
    "        else:\n",
    "            for i in node.keys:\n",
    "                print(i)\n",
    "            # print(node.keys)\n",
    "    \n",
    "    def delete(self,node,key):\n",
    "        pos = 0\n",
    "        while pos<len(node.keys) and key[0] > node.keys[pos][0]:\n",
    "            pos+=1\n",
    "        if node.isleaf==True : # Leaf 에서 키를 찾든 못찾든\n",
    "            if pos<len(node.keys) and key[0]==node.keys[pos][0]:\n",
    "                node.keys.pop(pos)\n",
    "                return \"DELETE FROM LEAF COMPLETED\" # 삭제연산완료표시\n",
    "            else \n",
    "                return \"NOT FOUND\" # 리프까지 갔는데 못찾음\n",
    "        else: # Leaf가 아닌 경우\n",
    "            if pos < len(node.keys):\n",
    "                if key[0]==node.keys[pos][0]:\n",
    "                    # 리프가 아닌데 찾은경우\n",
    "                    pass ## TODO : Internal Node Deletion Process\n",
    "                else: # 리프가 아닌데 키값도 아닌데 pos는찾은경우 => 아래로 내려가자\n",
    "                    self.delete(node.child[pos],key)\n",
    "            \n",
    "            # if len(node.child[pos].keys)\n",
    "                \n",
    "\n",
    "\n",
    "\n",
    "# if __name__==\"__main__\":\n",
    "# print(\"Start\")\n",
    "# kvs = [[1,11],[7,77],[5,55],[6,66],[4,44],[3,33],[2,22],[23,9]]\n"
   ]
  },
  {
   "cell_type": "markdown",
   "metadata": {},
   "source": [
    "      20  ,  40\n",
    "10,15   25,30   50"
   ]
  },
  {
   "cell_type": "code",
   "execution_count": null,
   "metadata": {},
   "outputs": [],
   "source": []
  },
  {
   "cell_type": "code",
   "execution_count": 3,
   "metadata": {},
   "outputs": [
    {
     "name": "stdout",
     "output_type": "stream",
     "text": [
      "[1, 10]\n",
      "[2, 20]\n",
      "[3, 30]\n",
      "[4, 40]\n",
      "[5, 50]\n",
      "[6, 60]\n",
      "[7, 70]\n",
      "[8, 80]\n",
      "[9, 90]\n",
      "[10, 100]\n",
      "[11, 110]\n",
      "[12, 120]\n",
      "[13, 130]\n",
      "[14, 140]\n",
      "[15, 150]\n",
      "[16, 160]\n",
      "[17, 170]\n",
      "[18, 180]\n",
      "[19, 190]\n",
      "[20, 200]\n",
      "[21, 210]\n",
      "[22, 220]\n",
      "[23, 230]\n",
      "[24, 240]\n",
      "[25, 250]\n",
      "[26, 260]\n",
      "[27, 270]\n",
      "[28, 280]\n",
      "[29, 290]\n",
      "[30, 300]\n",
      "[31, 310]\n",
      "[32, 320]\n",
      "[33, 330]\n",
      "[34, 340]\n",
      "[35, 350]\n",
      "[36, 360]\n",
      "[37, 370]\n",
      "[38, 380]\n",
      "[39, 390]\n",
      "[40, 400]\n",
      "[41, 410]\n",
      "[42, 420]\n",
      "[43, 430]\n",
      "[44, 440]\n",
      "[45, 450]\n",
      "[46, 460]\n",
      "[47, 470]\n",
      "[48, 480]\n",
      "[49, 490]\n"
     ]
    }
   ],
   "source": [
    "bt = BTree(5)\n",
    "for i in range(1,50):\n",
    "    bt.insert_node(bt.root, [i,i*10])\n",
    "# bt.insert_node(bt.root,[100,2])\n",
    "bt.print_inorder(bt.root)"
   ]
  },
  {
   "cell_type": "code",
   "execution_count": 14,
   "metadata": {},
   "outputs": [
    {
     "data": {
      "text/plain": [
       "4"
      ]
     },
     "execution_count": 14,
     "metadata": {},
     "output_type": "execute_result"
    }
   ],
   "source": [
    "bt.delete(bt.root,[37,0])"
   ]
  },
  {
   "cell_type": "code",
   "execution_count": 5,
   "metadata": {},
   "outputs": [
    {
     "data": {
      "text/plain": [
       "(k:[[9, 90], [18, 180], [27, 270], [36, 360]],\n",
       " '---',\n",
       " [k:[[3, 30], [6, 60]],\n",
       "  k:[[12, 120], [15, 150]],\n",
       "  k:[[21, 210], [24, 240]],\n",
       "  k:[[30, 300], [33, 330]],\n",
       "  k:[[39, 390], [42, 420], [45, 450]]])"
      ]
     },
     "execution_count": 5,
     "metadata": {},
     "output_type": "execute_result"
    }
   ],
   "source": [
    "bt.root,'---', bt.root.child"
   ]
  },
  {
   "cell_type": "code",
   "execution_count": 107,
   "metadata": {},
   "outputs": [
    {
     "data": {
      "text/plain": [
       "([k:[[3, 30], [6, 60]], k:[[12, 120], [15, 150]], k:[[21, 210], [24, 240]]],\n",
       " [k:[[30, 300], [33, 330]],\n",
       "  k:[[39, 390], [42, 420]],\n",
       "  k:[[48, 480], [51, 510]]])"
      ]
     },
     "execution_count": 107,
     "metadata": {},
     "output_type": "execute_result"
    }
   ],
   "source": [
    "bt.root.child[0].child , bt.root.child[1].child"
   ]
  },
  {
   "cell_type": "code",
   "execution_count": 123,
   "metadata": {},
   "outputs": [
    {
     "name": "stdout",
     "output_type": "stream",
     "text": [
      "Find! key : [8, 80]\n"
     ]
    },
    {
     "data": {
      "text/plain": [
       "True"
      ]
     },
     "execution_count": 123,
     "metadata": {},
     "output_type": "execute_result"
    }
   ],
   "source": [
    "bt.search_key(bt.root,[8,None])[0].isleaf\n"
   ]
  }
 ],
 "metadata": {
  "interpreter": {
   "hash": "b401f62587db1a7874286fb40c5403ef69a9bf2071ebafdef659cb253034d932"
  },
  "kernelspec": {
   "display_name": "Python 3.8.3 64-bit ('base': conda)",
   "language": "python",
   "name": "python3"
  },
  "language_info": {
   "codemirror_mode": {
    "name": "ipython",
    "version": 3
   },
   "file_extension": ".py",
   "mimetype": "text/x-python",
   "name": "python",
   "nbconvert_exporter": "python",
   "pygments_lexer": "ipython3",
   "version": "3.8.3"
  },
  "orig_nbformat": 4
 },
 "nbformat": 4,
 "nbformat_minor": 2
}
