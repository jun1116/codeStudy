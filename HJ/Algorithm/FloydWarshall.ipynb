{
 "metadata": {
  "language_info": {
   "codemirror_mode": {
    "name": "ipython",
    "version": 3
   },
   "file_extension": ".py",
   "mimetype": "text/x-python",
   "name": "python",
   "nbconvert_exporter": "python",
   "pygments_lexer": "ipython3",
   "version": "3.8.5"
  },
  "orig_nbformat": 2,
  "kernelspec": {
   "name": "python385jvsc74a57bd039a3f6769e595a50e593a296d8b0c78e5171348aaba449e974344d6732d07a14",
   "display_name": "Python 3.8.5 64-bit ('base': conda)"
  }
 },
 "nbformat": 4,
 "nbformat_minor": 2,
 "cells": [
  {
   "cell_type": "code",
   "execution_count": 1,
   "metadata": {},
   "outputs": [],
   "source": [
    "fares = [[4, 1, 10], [3, 5, 24], [5, 6, 2], [3, 1, 41], [5, 1, 24], [4, 6, 50], [2, 4, 66], [2, 3, 22], [1, 6, 25]]"
   ]
  },
  {
   "cell_type": "code",
   "execution_count": 23,
   "metadata": {},
   "outputs": [
    {
     "output_type": "execute_result",
     "data": {
      "text/plain": [
       "[[0, inf, 41, 10, 24, 25],\n",
       " [inf, 0, 22, 66, inf, inf],\n",
       " [41, 22, 0, inf, 24, inf],\n",
       " [10, 66, inf, 0, inf, 50],\n",
       " [24, inf, 24, inf, 0, 2],\n",
       " [25, inf, inf, 50, 2, 0]]"
      ]
     },
     "metadata": {},
     "execution_count": 23
    }
   ],
   "source": [
    "def mkmat(fares):\n",
    "    from math import inf\n",
    "    nodes = set()\n",
    "    for i in fares:\n",
    "        nodes.add(i[0])\n",
    "        nodes.add(i[1])\n",
    "    mat = [[inf if i!=j else 0 for i in range(len(nodes))] for j in range(len(nodes))]\n",
    "    for fr,to,wt in fares:\n",
    "        mat[fr-1][to-1] = wt\n",
    "        mat[to-1][fr-1] = wt\n",
    "    return mat\n",
    "mat = mkmat(fares)\n",
    "mat"
   ]
  },
  {
   "cell_type": "code",
   "execution_count": 25,
   "metadata": {},
   "outputs": [
    {
     "output_type": "execute_result",
     "data": {
      "text/plain": [
       "[[0, 63, 41, 10, 24, 25],\n",
       " [63, 0, 22, 66, 46, 48],\n",
       " [41, 22, 0, 51, 24, 26],\n",
       " [10, 66, 51, 0, 34, 35],\n",
       " [24, 46, 24, 34, 0, 2],\n",
       " [25, 48, 26, 35, 2, 0]]"
      ]
     },
     "metadata": {},
     "execution_count": 25
    }
   ],
   "source": [
    "def floydWashall(fares):\n",
    "    mat = mkmat(fares)\n",
    "    for k in range(len(mat)):\n",
    "        for i in range(len(mat)):\n",
    "            for j in range(len(mat)):\n",
    "                if mat[i][j] > mat[i][k] + mat[k][j]:\n",
    "                    mat[i][j] = mat[i][k] + mat[k][j]\n",
    "    return mat\n",
    "\n",
    "floydWashall(fares)\n"
   ]
  },
  {
   "cell_type": "code",
   "execution_count": null,
   "metadata": {},
   "outputs": [],
   "source": []
  },
  {
   "cell_type": "code",
   "execution_count": 26,
   "metadata": {},
   "outputs": [
    {
     "output_type": "execute_result",
     "data": {
      "text/plain": [
       "83"
      ]
     },
     "metadata": {},
     "execution_count": 26
    }
   ],
   "source": [
    "a=6;b=2;s=4\n",
    "\n",
    "mat = floydWashall(fares)\n",
    "for i in range(len(mat)):\n",
    "    minv = min(inf, mat[s-1][i] + mat[i][a-1] + mat[i][b-1])\n",
    "minv\n"
   ]
  }
 ]
}