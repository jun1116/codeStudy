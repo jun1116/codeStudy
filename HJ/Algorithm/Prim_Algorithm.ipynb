{
 "metadata": {
  "language_info": {
   "codemirror_mode": {
    "name": "ipython",
    "version": 3
   },
   "file_extension": ".py",
   "mimetype": "text/x-python",
   "name": "python",
   "nbconvert_exporter": "python",
   "pygments_lexer": "ipython3",
   "version": "3.8.5"
  },
  "orig_nbformat": 2,
  "kernelspec": {
   "name": "python385jvsc74a57bd039a3f6769e595a50e593a296d8b0c78e5171348aaba449e974344d6732d07a14",
   "display_name": "Python 3.8.5 64-bit ('base': conda)"
  }
 },
 "nbformat": 4,
 "nbformat_minor": 2,
 "cells": [
  {
   "cell_type": "code",
   "execution_count": 1,
   "metadata": {},
   "outputs": [
    {
     "output_type": "stream",
     "name": "stdout",
     "text": [
      "defaultdict(<class 'list'>, {'A': [(7, 'A', 'B'), (5, 'A', 'D')], 'B': [(7, 'B', 'A'), (8, 'B', 'C'), (9, 'B', 'D'), (7, 'B', 'E')], 'D': [(5, 'D', 'A'), (9, 'D', 'B'), (15, 'D', 'E'), (6, 'D', 'F')], 'C': [(8, 'C', 'B'), (5, 'C', 'E')], 'E': [(7, 'E', 'B'), (5, 'E', 'C'), (15, 'E', 'D'), (8, 'E', 'F'), (9, 'E', 'G')], 'F': [(6, 'F', 'D'), (8, 'F', 'E'), (11, 'F', 'G')], 'G': [(9, 'G', 'E'), (11, 'G', 'F')]})\n\n First Candidated :  [(5, 'A', 'D'), (7, 'A', 'B')]\nConnected :  {'A'}\nNow pop : 5 A D\nConnected :  {'D', 'A'}\nNow pop : 6 D F\nConnected :  {'D', 'F', 'A'}\nNow pop : 7 A B\nConnected :  {'D', 'F', 'A', 'B'}\nNow pop : 7 B E\nConnected :  {'A', 'E', 'F', 'D', 'B'}\nNow pop : 5 E C\nConnected :  {'A', 'E', 'F', 'C', 'D', 'B'}\nNow pop : 8 B C\n이미 connected 8 B C\nConnected :  {'A', 'E', 'F', 'C', 'D', 'B'}\nNow pop : 8 F E\n이미 connected 8 F E\nConnected :  {'A', 'E', 'F', 'C', 'D', 'B'}\nNow pop : 9 D B\n이미 connected 9 D B\nConnected :  {'A', 'E', 'F', 'C', 'D', 'B'}\nNow pop : 9 E G\n"
     ]
    },
    {
     "output_type": "execute_result",
     "data": {
      "text/plain": [
       "[(5, 'A', 'D'),\n",
       " (6, 'D', 'F'),\n",
       " (7, 'A', 'B'),\n",
       " (7, 'B', 'E'),\n",
       " (5, 'E', 'C'),\n",
       " (9, 'E', 'G')]"
      ]
     },
     "metadata": {},
     "execution_count": 1
    }
   ],
   "source": [
    "from collections import defaultdict\n",
    "from heapq import *\n",
    "edges = [\n",
    "    (7, 'A', 'B'), (5, 'A', 'D'),\n",
    "    (8, 'B', 'C'), (9, 'B', 'D'), (7, 'B', 'E'),\n",
    "    (5, 'C', 'E'),\n",
    "    (15, 'D', 'E'), (6, 'D', 'F'),\n",
    "    (8, 'E', 'F'), (9, 'E', 'G'),\n",
    "    (11, 'F', 'G')\n",
    "]\n",
    "\n",
    "def prim(first_node, edges):\n",
    "    mst=[]\n",
    "    ## make graph\n",
    "    graph = defaultdict(list)\n",
    "    for wt, f,t in edges:\n",
    "        graph[f].append((wt,f,t))\n",
    "        graph[t].append((wt,t,f))\n",
    "    print(graph)\n",
    "\n",
    "    # 연결된 노드 확인\n",
    "    connected = set(first_node)\n",
    "\n",
    "    # 후보엣지들 with heap\n",
    "    candidated_edge = [i for i in graph[first_node]]\n",
    "    \n",
    "    heapify(candidated_edge) #현재까지 보이는 엣지 중 가장 싼거 찾기위한 heapify\n",
    "    \n",
    "    print('\\n First Candidated : ',candidated_edge)\n",
    "    \n",
    "    while len(mst)<len(graph)-1:\n",
    "        wt, fr,to = heappop(candidated_edge)\n",
    "        print('Connected : ',connected)\n",
    "        print('Now pop :',wt,fr,to)\n",
    "        \n",
    "        if to not in connected: #이미 연결된 상태라면 PASS\n",
    "            connected.add(to)\n",
    "            mst.append((wt, fr,to))\n",
    "\n",
    "            for edge in graph[to]: ## 노드연결과 동시에 새로운 엣지들 추가\n",
    "                if edge[2] not in connected: #여기서 edge[2]는 새로 발견하게된 노드를 가리킴\n",
    "                    heappush(candidated_edge, edge)\n",
    "        else:\n",
    "            print('이미 connected',wt,fr,to)\n",
    "    \n",
    "    return mst\n",
    "\n",
    "prim('A',edges)"
   ]
  },
  {
   "cell_type": "code",
   "execution_count": 19,
   "metadata": {},
   "outputs": [
    {
     "output_type": "stream",
     "name": "stdout",
     "text": [
      "find min node\n아직방문하지않은 v :  0\nfind min node\n아직방문하지않은 v :  1\ni : 5, \t v : 1\ndistance[i] : 10, \t distance[v] : 29\nv change\nfind min node\n아직방문하지않은 v :  1\ni : 4, \t v : 1\ndistance[i] : 27, \t distance[v] : 29\nv change\nfind min node\n아직방문하지않은 v :  1\ni : 3, \t v : 1\ndistance[i] : 22, \t distance[v] : 29\nv change\nfind min node\n아직방문하지않은 v :  1\ni : 2, \t v : 1\ndistance[i] : 12, \t distance[v] : 29\nv change\nfind min node\n아직방문하지않은 v :  1\nfind min node\n아직방문하지않은 v :  6\n[True, True, True, True, True, True, True]\n[0, 16, 12, 22, 27, 10, 15]\n"
     ]
    }
   ],
   "source": [
    "# 프림 알고리즘\n",
    "from heapq import *\n",
    "\n",
    "INF = 999\n",
    "adj_mat = [[0, 29, INF, INF, INF, 10, INF],\n",
    "           [29, 0, 16, INF, INF, INF, 15],\n",
    "           [INF, 16, 0, 12, INF, INF, INF],\n",
    "           [INF, INF, 12, 0, 22, INF, 18],\n",
    "           [INF, INF, INF, 22, 0, 27, 25],\n",
    "           [10, INF, INF, INF, 27, 0, INF],\n",
    "           [INF, 15, INF, 18, 25, INF, 0]]\n",
    "def prim(start, mat):\n",
    "    node_num = len(mat)\n",
    "    visited = [False for i in range(len(mat))]\n",
    "    distances = [INF for i in range(len(mat))]\n",
    "\n",
    "    def get_min_node(node_num):\n",
    "        print('find min node')\n",
    "        for i in range(node_num):\n",
    "            if not visited[i]:\n",
    "                v = i\n",
    "                break\n",
    "        print('아직방문하지않은 v : ',v)\n",
    "        for i in range(node_num):\n",
    "            if not visited[i] and distances[i] < distances[v]:\n",
    "                print(f\"i : {i}, \\t v : {v}\")\n",
    "                print(f\"distance[i] : {distances[i]}, \\t distance[v] : {distances[v]}\")\n",
    "                v=i\n",
    "                print('v change')\n",
    "        return v\n",
    "    \n",
    "    distances[start] = 0\n",
    "    for i in range(node_num):\n",
    "        node = get_min_node(node_num)\n",
    "        visited[node] = True\n",
    "\n",
    "        for j in range(node_num):\n",
    "            if mat[node][j] != INF:\n",
    "                if not visited[j] and mat[node][j] < distances[j]:\n",
    "                    distances[j] = mat[node][j]\n",
    "    print(visited)\n",
    "    print(distances)\n",
    "\n",
    "\n",
    "prim(0,adj_mat)"
   ]
  },
  {
   "cell_type": "code",
   "execution_count": null,
   "metadata": {},
   "outputs": [],
   "source": []
  },
  {
   "cell_type": "code",
   "execution_count": null,
   "metadata": {},
   "outputs": [],
   "source": []
  },
  {
   "cell_type": "code",
   "execution_count": null,
   "metadata": {},
   "outputs": [],
   "source": []
  }
 ]
}