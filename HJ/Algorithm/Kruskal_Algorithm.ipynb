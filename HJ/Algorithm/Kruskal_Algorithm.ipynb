{
 "metadata": {
  "language_info": {
   "codemirror_mode": {
    "name": "ipython",
    "version": 3
   },
   "file_extension": ".py",
   "mimetype": "text/x-python",
   "name": "python",
   "nbconvert_exporter": "python",
   "pygments_lexer": "ipython3",
   "version": "3.8.5"
  },
  "orig_nbformat": 2,
  "kernelspec": {
   "name": "python385jvsc74a57bd039a3f6769e595a50e593a296d8b0c78e5171348aaba449e974344d6732d07a14",
   "display_name": "Python 3.8.5 64-bit ('base': conda)"
  }
 },
 "nbformat": 4,
 "nbformat_minor": 2,
 "cells": [
  {
   "cell_type": "code",
   "execution_count": 1,
   "metadata": {},
   "outputs": [
    {
     "output_type": "stream",
     "name": "stdout",
     "text": [
      "MST :  [(4, 5), (5, 6), (3, 5), (1, 3), (2, 4)]\nCOST :  20\n"
     ]
    }
   ],
   "source": [
    "graph=[(1,2,13),(1,3,5),(2,4,9),(3,4,15),(3,5,3),(4,5,1),(4,6,7),(5,6,2)]\n",
    "\n",
    "graph.sort(key = lambda x: x[2])\n",
    "\n",
    "mst = []\n",
    "n = 6\n",
    "p=[i for i in range(0,n+1)]\n",
    "\n",
    "def find(u):\n",
    "    if u != p[u]:\n",
    "        p[u] = find(p[u])\n",
    "    return p[u]\n",
    "def union(u,v):\n",
    "    r1 = find(u)\n",
    "    r2 = find(v)\n",
    "    p[r2] = p[r1]\n",
    "\n",
    "tree_edges = 0 # 간선 개수\n",
    "mst_cost = 0   # 가중치 합\n",
    "\n",
    "while tree_edges < n-1:\n",
    "    u,v,wt = graph.pop(0)\n",
    "    if find(u) != find (v):\n",
    "        union(u,v)\n",
    "        mst.append((u,v))\n",
    "        mst_cost += wt\n",
    "        tree_edges += 1\n",
    "print('MST : ', mst)\n",
    "print('COST : ', mst_cost)"
   ]
  }
 ]
}