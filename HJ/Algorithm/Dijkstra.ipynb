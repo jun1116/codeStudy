{
 "metadata": {
  "language_info": {
   "codemirror_mode": {
    "name": "ipython",
    "version": 3
   },
   "file_extension": ".py",
   "mimetype": "text/x-python",
   "name": "python",
   "nbconvert_exporter": "python",
   "pygments_lexer": "ipython3",
   "version": "3.9.4"
  },
  "orig_nbformat": 4,
  "kernelspec": {
   "name": "python3",
   "display_name": "Python 3.9.4 64-bit ('base': conda)"
  },
  "interpreter": {
   "hash": "cb21448086e1b039f0143f4b6f3949a0ab18b782485cd082e49e693fdc0e34f1"
  }
 },
 "nbformat": 4,
 "nbformat_minor": 2,
 "cells": [
  {
   "cell_type": "code",
   "execution_count": 5,
   "metadata": {},
   "outputs": [
    {
     "output_type": "execute_result",
     "data": {
      "text/plain": [
       "[1000000000, 0, 2, 3, 1, 2, 4]"
      ]
     },
     "metadata": {},
     "execution_count": 5
    }
   ],
   "source": [
    "def dijkstra(graph,start):\n",
    "    import heapq\n",
    "    INF=int(1e9)\n",
    "    distance=[INF]*(len(graph)+1)\n",
    "\n",
    "    q=[]\n",
    "    heapq.heappush(q, (0,start))\n",
    "    distance[start] = 0\n",
    "    while q:\n",
    "        dist,now = heapq.heappop(q)\n",
    "        if distance[now] < dist:\n",
    "            continue\n",
    "        for i in graph[now]:\n",
    "            cost = dist+i[1]\n",
    "            if cost<distance[i[0]]:\n",
    "                distance[i[0]] = cost\n",
    "                heapq.heappush(q, (cost,i[0]))\n",
    "    return distance\n",
    "\n",
    "def mkgraph(ss):\n",
    "    from collections import defaultdict\n",
    "    dic=defaultdict(list)\n",
    "    for fr,to,cost in ss:\n",
    "        dic[fr].append([to,cost])\n",
    "        dic[to]\n",
    "    return dic\n",
    "costs=[\n",
    "    [1,2,2],[1,4,1],[1,3,5],[2,3,3],[2,4,2],[3,2,3],[3,6,5],[4,3,3],[4,5,1],[5,3,1],[5,6,2]\n",
    "]\n",
    "dijkstra(mkgraph(costs),1)"
   ]
  },
  {
   "cell_type": "code",
   "execution_count": null,
   "metadata": {},
   "outputs": [],
   "source": [
    "from heapq import *\n",
    "def dijkstra(graph,start):\n",
    "    INF = int(1e9)\n",
    "    distances={i : INF for i in graph}\n",
    "    frt={i:0 for i in graph}\n",
    "    distances[start]=0\n",
    "    frt[start]=start\n",
    "    q = [[0,start]]\n",
    "    while q:\n",
    "        dist,now = heappop(q)\n",
    "        for node,n_dist in graph[now]:\n",
    "            new_dist = dist+n_dist\n",
    "            if new_dist<distances[node]:\n",
    "                distances[node] = new_dist\n",
    "                frt[node] = now\n",
    "                heappush(q, [new_dist,node])\n",
    "    return distances, frt\n",
    "\n",
    "def getRoute(frtable,st,fr):\n",
    "    tmp=[]\n",
    "    while st!=fr:\n",
    "        tmp.append(fr)\n",
    "        fr=frtable[fr]\n",
    "    ans=[st,]\n",
    "    while tmp:\n",
    "        ans.append(tmp.pop())\n",
    "    return ans\n",
    "\n",
    "graph = mkgraph(costs)\n",
    "dist, frtable = dijkstra(graph,1)\n",
    "getRoute(frtable,1,5)"
   ]
  }
 ]
}