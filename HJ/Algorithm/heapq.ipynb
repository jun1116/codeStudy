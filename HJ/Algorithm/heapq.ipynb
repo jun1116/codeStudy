{
    "cells": [
        {
            "cell_type": "code",
            "execution_count": null,
            "source": [
                "# 공식문서 heapq 구현\n",
                "def heappush(heap,item):\n",
                "    heap.append(item)\n",
                "    _siftdown(heap,0,len(heap)-1)\n",
                "def heappop(heap):\n",
                "    lastelt=heap.pop()\n",
                "    if heap:\n",
                "        returnitem=heap[0]\n",
                "        heap[0]=lastelt\n",
                "        _siftup(heap,0)\n",
                "        return returnitem\n",
                "    return lastelt\n",
                "def heapify(x):\n",
                "    n=len(x)\n",
                "    for i in reversed(range(n//2)):\n",
                "        _siftup(x,i)\n",
                "\n",
                "def _siftdown(heap,startpos,pos):\n",
                "    newitem=heap[pos]\n",
                "    while pos > startpos:\n",
                "        parentpos = (pos-1)>>1\n",
                "        parent=heap[parentpos]\n",
                "        if newitem < parent:\n",
                "            heap[pos] = parent\n",
                "            pos = parentpos\n",
                "            continue\n",
                "        break\n",
                "    heap[pos]=newitem\n",
                "\n",
                "def _siftup(heap,pos):\n",
                "    endpos=len(heap)\n",
                "    startpos = pos\n",
                "    newitem=heap[pos]\n",
                "    childpos=2*pos + 1\n",
                "    while childpos < endpos:\n",
                "        rightpos=childpos+1\n",
                "        if rightpos < endpos and not heap[childpos]<heap[rightpos]:\n",
                "            childpos = rightpos\n",
                "        heap[pos] = heap[childpos]\n",
                "        pos=childpos\n",
                "        childpos=2*pos+1\n",
                "    heap[pos]=newitem\n",
                "    _siftdown(heap,startpos,pos)\n"
            ],
            "outputs": [],
            "metadata": {}
        },
        {
            "cell_type": "code",
            "execution_count": null,
            "source": [],
            "outputs": [],
            "metadata": {}
        },
        {
            "cell_type": "code",
            "execution_count": null,
            "source": [],
            "outputs": [],
            "metadata": {}
        },
        {
            "cell_type": "markdown",
            "source": [
                "# Max Heap\n",
                "https://velog.io/@seanlion/pythonmaxheap"
            ],
            "metadata": {}
        },
        {
            "cell_type": "code",
            "execution_count": 11,
            "source": [
                "class Element:\n",
                "    def __init__(self,key):\n",
                "        self.__key=key\n",
                "    @property\n",
                "    def key(self):\n",
                "        return self.__key\n",
                "    @key.setter\n",
                "    def key(self,k):\n",
                "        self.__key=k\n",
                "\n",
                "class MaxHeap:\n",
                "    MAX=20\n",
                "    def __init__(self,size):\n",
                "        self.__heapsize=0\n",
                "        self.__container=[None for _ in range(size)]\n",
                "        MAX = size\n",
                "    \n",
                "    def __get_parent_idx(self,cur): return cur//2\n",
                "    def __get_left_child_idx(self,cur): return cur*2\n",
                "    def __get_right_child_idx(self,cur): return (cur*2)+1\n",
                "    def is_empty(self): return True if self.__heapsize==0 else False\n",
                "    def is_full(self): return True if self.__heapsize>= MaxHeap.MAX else False\n",
                "    \n",
                "    def push(self,key):\n",
                "        if self.is_full(): return\n",
                "        self.__heapsize+=1\n",
                "        self.__container[self.__heapsize] = Element(key)\n",
                "\n",
                "        cur = self.__heapsize # last idx\n",
                "        par = self.__get_parent_idx(cur) # parent for last idx\n",
                "\n",
                "        while cur != 1: # to root\n",
                "            if self.__container[par].key < self.__container[cur].key:\n",
                "                # 부모보다 자식이 더 크면 : swap\n",
                "                self.__container[par].key , self.__container[cur].key = \\\n",
                "                    self.__container[cur].key, self.__container[par].key\n",
                "                \n",
                "                # while문을 통해 위로 계속 진행\n",
                "                cur = par\n",
                "                par = par//2 \n",
                "            else:\n",
                "                break\n",
                "\n",
                "    def __get_bigger_child_idx(self,cur):\n",
                "        #자식노드가 힙사이즈보다 크다? : 자식이 없으니까 None\n",
                "        if cur*2 > self.__heapsize: return None\n",
                "        # 왼쪽자식노드가 힙사이즈와 같다? : 그녀석이 마지막노드니까 그대로 반환\n",
                "        elif cur*2 == self.__heapsize: return cur*2\n",
                "        else: # 자식두마리 다있으니 둘다 비교\n",
                "            if self.__container[cur*2].key > self.__container[cur*2+1].key: return cur*2\n",
                "            else: return cur*2 + 1\n",
                "    def pop(self):\n",
                "        if self.is_empty(): return\n",
                "        ret = self.__container[1].key # Root Idx할당 (Max)\n",
                "        temp=self.__container[self.__heapsize] # Last Idx 를 루트로 올려서 실행하기위해\n",
                "        \n",
                "        cur_idx=1\n",
                "        bigger_child_idx=self.__get_bigger_child_idx(cur_idx)\n",
                "\n",
                "        while bigger_child_idx and temp.key < self.__container[bigger_child_idx].key:\n",
                "            #자식노드존재 and 자식노드값이 부모노드보다 크거나 같아질떄까지(MaxHeap)\n",
                "            self.__container[cur_idx] = self.__container[bigger_child_idx]\n",
                "            cur_idx=bigger_child_idx\n",
                "            bigger_child_idx=self.__get_bigger_child_idx(cur_idx)\n",
                "        \n",
                "        #자식노드에 원래 부모노드값 너어주기\n",
                "        self.__container[cur_idx] = temp\n",
                "\n",
                "        self.__heapsize-=1 # 사이즈 하나 감소\n",
                "        return ret\n",
                "    \n",
                "    def dump(self):\n",
                "        if self.is_empty(): return \"HEAP EMPTH\"\n",
                "        else:\n",
                "            for i in range(1, self.__heapsize+1):\n",
                "                print(self.__container[i].key, end=' ')\n",
                "            print()\n",
                "        \n",
                "# MaxHeap(10)"
            ],
            "outputs": [],
            "metadata": {}
        },
        {
            "cell_type": "code",
            "execution_count": 13,
            "source": [
                "mhq = MaxHeap(20)\n",
                "for i in [1,8,294,55,24,929,33,2,66]:\n",
                "    mhq.push(i)\n",
                "mhq.dump()\n",
                "mhq.pop()"
            ],
            "outputs": [
                {
                    "output_type": "stream",
                    "name": "stdout",
                    "text": [
                        "929 66 294 55 24 8 33 1 2 \n"
                    ]
                },
                {
                    "output_type": "execute_result",
                    "data": {
                        "text/plain": [
                            "929"
                        ]
                    },
                    "metadata": {},
                    "execution_count": 13
                }
            ],
            "metadata": {}
        },
        {
            "cell_type": "code",
            "execution_count": 14,
            "source": [
                "mhq.pop()"
            ],
            "outputs": [
                {
                    "output_type": "execute_result",
                    "data": {
                        "text/plain": [
                            "294"
                        ]
                    },
                    "metadata": {},
                    "execution_count": 14
                }
            ],
            "metadata": {}
        },
        {
            "cell_type": "code",
            "execution_count": 15,
            "source": [
                "mhq.pop()"
            ],
            "outputs": [
                {
                    "output_type": "execute_result",
                    "data": {
                        "text/plain": [
                            "66"
                        ]
                    },
                    "metadata": {},
                    "execution_count": 15
                }
            ],
            "metadata": {}
        },
        {
            "cell_type": "code",
            "execution_count": 16,
            "source": [
                "mhq.pop()"
            ],
            "outputs": [
                {
                    "output_type": "execute_result",
                    "data": {
                        "text/plain": [
                            "55"
                        ]
                    },
                    "metadata": {},
                    "execution_count": 16
                }
            ],
            "metadata": {}
        },
        {
            "cell_type": "code",
            "execution_count": null,
            "source": [],
            "outputs": [],
            "metadata": {}
        }
    ],
    "metadata": {
        "orig_nbformat": 4,
        "language_info": {
            "name": "python"
        }
    },
    "nbformat": 4,
    "nbformat_minor": 2
}