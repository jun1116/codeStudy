{
 "cells": [
  {
   "cell_type": "code",
   "execution_count": null,
   "metadata": {},
   "outputs": [],
   "source": []
  },
  {
   "cell_type": "code",
   "execution_count": null,
   "metadata": {},
   "outputs": [],
   "source": []
  },
  {
   "cell_type": "code",
   "execution_count": null,
   "metadata": {},
   "outputs": [],
   "source": [
    "# Reducer\n",
    "current_word=None\n",
    "current_count=0\n",
    "word=None\n",
    "\n",
    "# Input\n",
    "for line in lines:\n",
    "    # Remove Space\n",
    "    line = line.strip()\n",
    "\n",
    "    # Parse the input\n",
    "    word,count = line.split('\\t',1)\n",
    "\n",
    "    # Convert count to int\n",
    "    try:\n",
    "        count=int(count)\n",
    "    except ValueError:\n",
    "        continue\n",
    "    \n",
    "    # 더해주는 작업\n",
    "    if current_word==word:\n",
    "        current_count+=count\n",
    "    else:\n",
    "        if current_word:\n",
    "            print(f'{current_word},{current_count}')\n",
    "        current_count=count\n",
    "        current_word=word\n",
    "\n",
    "if current_word==word:\n",
    "    print(f'{current_word},{current_count}')"
   ]
  }
 ],
 "metadata": {
  "language_info": {
   "name": "python",
   "nbconvert_exporter": "python"
  },
  "orig_nbformat": 4
 },
 "nbformat": 4,
 "nbformat_minor": 2
}