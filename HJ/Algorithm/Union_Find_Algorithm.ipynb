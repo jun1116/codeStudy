{
 "metadata": {
  "language_info": {
   "codemirror_mode": {
    "name": "ipython",
    "version": 3
   },
   "file_extension": ".py",
   "mimetype": "text/x-python",
   "name": "python",
   "nbconvert_exporter": "python",
   "pygments_lexer": "ipython3",
   "version": "3.8.5"
  },
  "orig_nbformat": 2,
  "kernelspec": {
   "name": "python3",
   "display_name": "Python 3.8.5 64-bit ('base': conda)"
  },
  "interpreter": {
   "hash": "39a3f6769e595a50e593a296d8b0c78e5171348aaba449e974344d6732d07a14"
  }
 },
 "nbformat": 4,
 "nbformat_minor": 2,
 "cells": [
  {
   "cell_type": "code",
   "execution_count": 3,
   "metadata": {},
   "outputs": [
    {
     "output_type": "stream",
     "name": "stdout",
     "text": [
      "[0, 1, 2, 3, 4, 5, 6, 7, 8, 9]\n"
     ]
    },
    {
     "output_type": "execute_result",
     "data": {
      "text/plain": [
       "[0, 1, 2, 2, 2, 2, 2, 2, 2, 8]"
      ]
     },
     "metadata": {},
     "execution_count": 3
    }
   ],
   "source": [
    "MAX_SIZE = 10\n",
    "\n",
    "parent = [i for i in range(MAX_SIZE)] #각자 자신의 부모를 가리킴\n",
    "# rank = [0 for i in range(MAX_SIZE)] # 각자 자신의 높이를 나타냄\n",
    "\n",
    "def find(x):\n",
    "    if parent[x] == x:\n",
    "        return x\n",
    "    else:\n",
    "        return find(parent[x])\n",
    "        # # 경로 압축 (Path Compression) \n",
    "        # parent[x] = find(parent[x])\n",
    "        # return parent[x]\n",
    "\n",
    "def union(x,y):\n",
    "    x = find(x)\n",
    "    y = find(y)\n",
    "    if x==y: return\n",
    "    parent[max(x,y)] = min(x,y)\n",
    "    # if rank[x] < rank[y]: # union by rank\n",
    "    #     parent[x] = y\n",
    "    # else:\n",
    "    #     parent[y] = x\n",
    "    # if rank[x]==rank[y]:\n",
    "    #     rank[x]+=1\n",
    "\n",
    "print(parent)\n",
    "union(2,3)\n",
    "union(3,4)\n",
    "union(4,5)\n",
    "union(5,6)\n",
    "union(8,9)\n",
    "union(6,7)\n",
    "union(8,2)\n",
    "parent \n",
    "\n"
   ]
  },
  {
   "cell_type": "code",
   "execution_count": null,
   "metadata": {},
   "outputs": [],
   "source": []
  }
 ]
}