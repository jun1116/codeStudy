{
 "cells": [
  {
   "cell_type": "code",
   "execution_count": 1,
   "source": [
    "from collections import deque\n",
    "# Topology Sort (위상정렬)\n",
    "\n",
    "nodes, edges = 7,[[1,2],[1,5],[2,3],[2,6],[3,4],[4,7],[5,6],[6,4]]\n",
    "def Topology_Sort(nodes,edges):\n",
    "    # 진입차수별 소팅, 매 iter마다 진입차수 0 인 노드 꺼내기\n",
    "    result = [] # 진행결과\n",
    "    graph={i:[] for i in range(nodes+1)} # 실제 그래프로 사용할 부분\n",
    "    indegree = [0 for i in range(nodes+1)] # 진입차수를 기록\n",
    "    q = deque() # Queue로 사용\n",
    "    for edge in edges: # 그래프, 진입차수 초기화\n",
    "        indegree[edge[1]]+=1 \n",
    "        graph[edge[0]].append(edge[1])\n",
    "    for i in range(1,nodes+1): # 진입차수 0인것 queue에 추가\n",
    "        if indegree[i]==0:\n",
    "            q.append(i)\n",
    "    \n",
    "    while q: \n",
    "        # 매 순간 q에서 뽑아서, 결과에 붙이고, \n",
    "        now = q.popleft()\n",
    "        result.append(now)\n",
    "\n",
    "        # now에서 진입하는 녀석 graph[now] 들 차수 1 감소,  \n",
    "        # 그녀석의 진입차수가 0이 되었다면 q에 추가\n",
    "        for i in graph[now]:\n",
    "            indegree[i]-=1\n",
    "            if indegree[i]==0: q.append(i)\n",
    "\n",
    "    print(result)\n",
    "    return indegree, graph\n",
    "\n",
    "\n",
    "Topology_Sort(nodes,edges)\n"
   ],
   "outputs": [
    {
     "output_type": "stream",
     "name": "stdout",
     "text": [
      "[1, 2, 5, 3, 6, 4, 7]\n"
     ]
    },
    {
     "output_type": "execute_result",
     "data": {
      "text/plain": [
       "([0, 0, 0, 0, 0, 0, 0, 0],\n",
       " {0: [], 1: [2, 5], 2: [3, 6], 3: [4], 4: [7], 5: [6], 6: [4], 7: []})"
      ]
     },
     "metadata": {},
     "execution_count": 1
    }
   ],
   "metadata": {}
  }
 ],
 "metadata": {
  "interpreter": {
   "hash": "cb21448086e1b039f0143f4b6f3949a0ab18b782485cd082e49e693fdc0e34f1"
  },
  "kernelspec": {
   "name": "python3",
   "display_name": "Python 3.9.4 64-bit ('base': conda)"
  },
  "language_info": {
   "name": "python",
   "version": "3.9.4",
   "mimetype": "text/x-python",
   "codemirror_mode": {
    "name": "ipython",
    "version": 3
   },
   "pygments_lexer": "ipython3",
   "nbconvert_exporter": "python",
   "file_extension": ".py"
  },
  "orig_nbformat": 4
 },
 "nbformat": 4,
 "nbformat_minor": 2
}