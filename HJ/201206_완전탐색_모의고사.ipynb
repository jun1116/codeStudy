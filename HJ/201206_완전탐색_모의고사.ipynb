{
 "cells": [
  {
   "cell_type": "code",
   "execution_count": null,
   "metadata": {},
   "outputs": [],
   "source": []
  },
  {
   "cell_type": "code",
   "execution_count": 2,
   "metadata": {
    "ExecuteTime": {
     "end_time": "2020-12-06T11:46:36.903794Z",
     "start_time": "2020-12-06T11:46:36.897386Z"
    }
   },
   "outputs": [],
   "source": [
    "# 총 30번까지 문제\n",
    "first=[1,2,3,4,5]\n",
    "second=[2,1,2,3,2,4,2,5]\n",
    "third=[3,3,1,1,2,2,4,4,5,5]"
   ]
  },
  {
   "cell_type": "code",
   "execution_count": 4,
   "metadata": {
    "ExecuteTime": {
     "end_time": "2020-12-06T11:47:30.738651Z",
     "start_time": "2020-12-06T11:47:30.728939Z"
    }
   },
   "outputs": [
    {
     "name": "stdout",
     "output_type": "stream",
     "text": [
      "5 0 0\n"
     ]
    }
   ],
   "source": [
    "def solution(answers):\n",
    "    answer = []\n",
    "    first=[1,2,3,4,5]\n",
    "    second=[2,1,2,3,2,4,2,5]\n",
    "    third=[3,3,1,1,2,2,4,4,5,5]\n",
    "    score=[0,0,0]\n",
    "    for i in range(len(answers)):\n",
    "        if first[i%len(first)]==answers[i]:\n",
    "            score[0]+=1\n",
    "        if second[i%len(second)]==answers[i]:\n",
    "            score[1]+=1\n",
    "        if third[i%len(third)]==answers[i]:\n",
    "            score[2]+=1\n",
    "    \n",
    "    maxP=max(score)\n",
    "    for i,v in enumerate(score):\n",
    "        if v==maxP:answer.append(i+1)\n",
    "    \n",
    "    return answer"
   ]
  }
 ],
 "metadata": {
  "kernelspec": {
   "display_name": "Python 3",
   "language": "python",
   "name": "python3"
  },
  "language_info": {
   "codemirror_mode": {
    "name": "ipython",
    "version": 3
   },
   "file_extension": ".py",
   "mimetype": "text/x-python",
   "name": "python",
   "nbconvert_exporter": "python",
   "pygments_lexer": "ipython3",
   "version": "3.8.5"
  },
  "toc": {
   "base_numbering": 1,
   "nav_menu": {},
   "number_sections": true,
   "sideBar": true,
   "skip_h1_title": false,
   "title_cell": "Table of Contents",
   "title_sidebar": "Contents",
   "toc_cell": false,
   "toc_position": {},
   "toc_section_display": true,
   "toc_window_display": false
  }
 },
 "nbformat": 4,
 "nbformat_minor": 4
}
