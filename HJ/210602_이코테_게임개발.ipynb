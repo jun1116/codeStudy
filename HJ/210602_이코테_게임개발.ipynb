{
 "metadata": {
  "language_info": {
   "codemirror_mode": {
    "name": "ipython",
    "version": 3
   },
   "file_extension": ".py",
   "mimetype": "text/x-python",
   "name": "python",
   "nbconvert_exporter": "python",
   "pygments_lexer": "ipython3",
   "version": "3.8.5"
  },
  "orig_nbformat": 2,
  "kernelspec": {
   "name": "python385jvsc74a57bd066725da8cd7a014ad20077260537a77858d60878c0d94adc7d9ed308e4bb2094",
   "display_name": "Python 3.8.5 64-bit ('codestates': conda)"
  },
  "metadata": {
   "interpreter": {
    "hash": "66725da8cd7a014ad20077260537a77858d60878c0d94adc7d9ed308e4bb2094"
   }
  }
 },
 "nbformat": 4,
 "nbformat_minor": 2,
 "cells": [
  {
   "cell_type": "code",
   "execution_count": 3,
   "metadata": {},
   "outputs": [
    {
     "output_type": "error",
     "ename": "KeyboardInterrupt",
     "evalue": "",
     "traceback": [
      "\u001b[0;31m---------------------------------------------------------------------------\u001b[0m",
      "\u001b[0;31mKeyboardInterrupt\u001b[0m                         Traceback (most recent call last)",
      "\u001b[0;32m<ipython-input-3-a439acbc615d>\u001b[0m in \u001b[0;36m<module>\u001b[0;34m\u001b[0m\n\u001b[1;32m     22\u001b[0m \u001b[0mturn_time\u001b[0m \u001b[0;34m=\u001b[0m \u001b[0;36m0\u001b[0m\u001b[0;34m\u001b[0m\u001b[0;34m\u001b[0m\u001b[0m\n\u001b[1;32m     23\u001b[0m \u001b[0;32mwhile\u001b[0m \u001b[0;32mTrue\u001b[0m\u001b[0;34m:\u001b[0m\u001b[0;34m\u001b[0m\u001b[0;34m\u001b[0m\u001b[0m\n\u001b[0;32m---> 24\u001b[0;31m     \u001b[0mturn_left\u001b[0m\u001b[0;34m(\u001b[0m\u001b[0;34m)\u001b[0m\u001b[0;34m\u001b[0m\u001b[0;34m\u001b[0m\u001b[0m\n\u001b[0m\u001b[1;32m     25\u001b[0m     \u001b[0mnx\u001b[0m\u001b[0;34m=\u001b[0m \u001b[0mx\u001b[0m\u001b[0;34m+\u001b[0m\u001b[0mdx\u001b[0m\u001b[0;34m[\u001b[0m\u001b[0mdirection\u001b[0m\u001b[0;34m]\u001b[0m\u001b[0;34m\u001b[0m\u001b[0;34m\u001b[0m\u001b[0m\n\u001b[1;32m     26\u001b[0m     \u001b[0mny\u001b[0m\u001b[0;34m=\u001b[0m \u001b[0my\u001b[0m\u001b[0;34m+\u001b[0m\u001b[0mdy\u001b[0m\u001b[0;34m[\u001b[0m\u001b[0mdirection\u001b[0m\u001b[0;34m]\u001b[0m\u001b[0;34m\u001b[0m\u001b[0;34m\u001b[0m\u001b[0m\n",
      "\u001b[0;32m<ipython-input-3-a439acbc615d>\u001b[0m in \u001b[0;36mturn_left\u001b[0;34m()\u001b[0m\n\u001b[1;32m     16\u001b[0m     \u001b[0;32mglobal\u001b[0m \u001b[0mdirection\u001b[0m\u001b[0;34m\u001b[0m\u001b[0;34m\u001b[0m\u001b[0m\n\u001b[1;32m     17\u001b[0m     \u001b[0mdirection\u001b[0m \u001b[0;34m-=\u001b[0m\u001b[0;36m1\u001b[0m\u001b[0;34m\u001b[0m\u001b[0;34m\u001b[0m\u001b[0m\n\u001b[0;32m---> 18\u001b[0;31m     \u001b[0;32mif\u001b[0m \u001b[0mdirection\u001b[0m\u001b[0;34m==\u001b[0m\u001b[0;34m-\u001b[0m\u001b[0;36m1\u001b[0m\u001b[0;34m:\u001b[0m\u001b[0;34m\u001b[0m\u001b[0;34m\u001b[0m\u001b[0m\n\u001b[0m\u001b[1;32m     19\u001b[0m         \u001b[0mdirection\u001b[0m \u001b[0;34m=\u001b[0m \u001b[0;36m3\u001b[0m\u001b[0;34m\u001b[0m\u001b[0;34m\u001b[0m\u001b[0m\n\u001b[1;32m     20\u001b[0m \u001b[0;34m\u001b[0m\u001b[0m\n",
      "\u001b[0;31mKeyboardInterrupt\u001b[0m: "
     ]
    }
   ],
   "source": [
    "n=4\n",
    "x,y, direction = 1,1,0 # 0북,1동, 2남, 3서\n",
    "arr=[\n",
    "    [1,1,1,1],\n",
    "    [1,0,0,1],\n",
    "    [1,1,0,1],\n",
    "    [1,1,1,1]] # 1:바다, 0:육지\n",
    "\n",
    "d = [[0]*n for _ in range(n)]\n",
    "d[x][y]=1\n",
    "#   북 동 남 서\n",
    "dx=[-1,0,1,0]\n",
    "dy=[0, 1,0,-1]\n",
    "\n",
    "def turn_left():\n",
    "    global direction\n",
    "    direction -=1\n",
    "    if direction==-1:\n",
    "        direction = 3\n",
    "\n",
    "count = 1\n",
    "turn_time = 0\n",
    "while True:\n",
    "    turn_left()\n",
    "    nx= x+dx[direction]\n",
    "    ny= y+dy[direction]\n",
    "    if d[nx][ny]==0 and arr[nx][ny]==0:\n",
    "        d[nx][ny]==1\n",
    "        x=nx\n",
    "        y=ny\n",
    "        count+=1\n",
    "        turn_time=0\n",
    "        continue\n",
    "    else:\n",
    "        turn_time-=1\n",
    "    #네 방향 모두 갈 수 없는 경우 \n",
    "    if turn_time==4:\n",
    "        nx=x-dx[direction]\n",
    "        ny=y-dy[direction]\n",
    "\n",
    "        if arr[nx][ny]==0:\n",
    "            x,y = nx,ny\n",
    "        else:\n",
    "            break\n",
    "        turn_time=0\n",
    "\n",
    "    \n",
    " \n",
    "\n"
   ]
  }
 ]
}