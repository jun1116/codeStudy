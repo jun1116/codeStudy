{
 "metadata": {
  "language_info": {
   "codemirror_mode": {
    "name": "ipython",
    "version": 3
   },
   "file_extension": ".py",
   "mimetype": "text/x-python",
   "name": "python",
   "nbconvert_exporter": "python",
   "pygments_lexer": "ipython3",
   "version": "3.8.5"
  },
  "orig_nbformat": 4,
  "kernelspec": {
   "name": "python3",
   "display_name": "Python 3.8.5 64-bit ('base': conda)"
  },
  "interpreter": {
   "hash": "39a3f6769e595a50e593a296d8b0c78e5171348aaba449e974344d6732d07a14"
  }
 },
 "nbformat": 4,
 "nbformat_minor": 2,
 "cells": [
  {
   "cell_type": "code",
   "execution_count": 1,
   "metadata": {},
   "outputs": [
    {
     "output_type": "stream",
     "name": "stdout",
     "text": [
      "defaultdict(<class 'list'>, {'fr.d.': ['frodo', 'fradi'], '.rodo': ['frodo', 'crodo'], '......': ['abc123', 'frodoc', 'abc123', 'frodoc']})\n{'fr.d.': 1, '.rodo': 1, '......': 2}\n"
     ]
    },
    {
     "output_type": "execute_result",
     "data": {
      "text/plain": [
       "1"
      ]
     },
     "metadata": {},
     "execution_count": 1
    }
   ],
   "source": [
    "import re\n",
    "from collections import defaultdict\n",
    "import itertools\n",
    "def solution(user_id, banned_id):\n",
    "    answer = 1\n",
    "    bands=list(map(lambda x:x.replace('*','.'), banned_id))\n",
    "    tmpdic=defaultdict(list)\n",
    "    diccnt={}\n",
    "    for band in bands:\n",
    "        comp = re.compile(band)\n",
    "        for user in user_id:\n",
    "            if comp.match(user) and len(band)==len(user):\n",
    "                tmpdic[band].append(user)\n",
    "        if diccnt.get(band): diccnt[band]+=1\n",
    "        else: diccnt[band]=1\n",
    "    \n",
    "    print(tmpdic)\n",
    "    print(diccnt)\n",
    "    for key in tmpdic.keys():\n",
    "        list(itertools.combinations(tmpdic[key], diccnt[key]))\n",
    "        \n",
    "\n",
    "    return answer\n",
    "\n",
    "# user_id, banned_id=[\"frodo\", \"fradi\", \"crodo\", \"abc123\", \"frodoc\"],[\"fr*d*\", \"abc1**\"]\t#2\n",
    "# user_id, banned_id=[\"frodo\", \"fradi\", \"crodo\", \"abc123\", \"frodoc\"],[\"*rodo\", \"*rodo\", \"******\"]\t#2\n",
    "user_id, banned_id=[\"frodo\", \"fradi\", \"crodo\", \"abc123\", \"frodoc\"],[\"fr*d*\", \"*rodo\", \"******\", \"******\"]\t#3\n",
    "solution(user_id,banned_id)"
   ]
  },
  {
   "cell_type": "code",
   "execution_count": null,
   "metadata": {},
   "outputs": [],
   "source": []
  },
  {
   "cell_type": "code",
   "execution_count": 2,
   "metadata": {},
   "outputs": [
    {
     "output_type": "execute_result",
     "data": {
      "text/plain": [
       "2"
      ]
     },
     "metadata": {},
     "execution_count": 2
    }
   ],
   "source": [
    "import re\n",
    "import itertools\n",
    "def solution(user_id, banned_id):\n",
    "    # answer = 0\n",
    "    permu = list(itertools.permutations(user_id, len(banned_id)))\n",
    "    bands=list(map(lambda x:x.replace('*','.'), banned_id))\n",
    "    comps=[]\n",
    "    for band in bands:\n",
    "        comps.append([len(band),re.compile(band)])\n",
    "    tmp=[]\n",
    "    for perm in permu:\n",
    "        if check(comps,perm):\n",
    "            perm = set(perm)\n",
    "            if set(perm) not in tmp:\n",
    "                tmp.append(perm)\n",
    "    # print(tmp)\n",
    "    return len(tmp)\n",
    "def check(comps,perm):\n",
    "    for comp, user in zip(comps,perm):\n",
    "        if comp[1].match(user)==None or comp[0]!=len(user):\n",
    "            return False\n",
    "    return True\n",
    "\n",
    "user_id, banned_id=[\"frodo\", \"fradi\", \"crodo\", \"abc123\", \"frodoc\"],[\"fr*d*\", \"abc1**\"]\t#2\n",
    "# user_id, banned_id=[\"frodo\", \"fradi\", \"crodo\", \"abc123\", \"frodoc\"],[\"*rodo\", \"*rodo\", \"******\"]\t#2\n",
    "# user_id, banned_id=[\"frodo\", \"fradi\", \"crodo\", \"abc123\", \"frodoc\"],[\"fr*d*\", \"*rodo\", \"******\", \"******\"]\t#3\n",
    "solution(user_id,banned_id)"
   ]
  },
  {
   "cell_type": "code",
   "execution_count": null,
   "metadata": {},
   "outputs": [],
   "source": []
  }
 ]
}