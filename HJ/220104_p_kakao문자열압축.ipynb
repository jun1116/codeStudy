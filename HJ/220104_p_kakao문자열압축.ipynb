{
    "cells": [
        {
            "cell_type": "code",
            "execution_count": null,
            "source": [
                "# from collections import deque\n",
                "def solution(s):\n",
                "    answer=1e9\n",
                "    for spt in range(1,len(s)//2+1):\n",
                "        answer=min(answer,len(mktar(s,spt)))\n",
                "    return answer\n",
                "\n",
                "def mktar(st,how):\n",
                "    ans=''\n",
                "    tmp=st[:how];cnt=1\n",
                "    for i in range(how,len(st),how):\n",
                "        if tmp!=st[i:i+how]:\n",
                "            ans+=str(cnt) if cnt>1 else \"\"\n",
                "            ans+=tmp\n",
                "            tmp=st[i:i+how]\n",
                "            cnt=1\n",
                "        else:\n",
                "            cnt+=1\n",
                "    ans+=str(cnt) if cnt>1 else \"\"\n",
                "    ans+=tmp\n",
                "    return ans\n",
                "\n",
                "def mktar_v2(st,how):\n",
                "    ans=''\n",
                "    cnt=1\n",
                "    fr=0\n",
                "    end=how\n",
                "    while end<len(st)-how+1:\n",
                "        if st[fr:end]==st[end:end+how]:\n",
                "            cnt+=1\n",
                "            fr+=how\n",
                "            end+=how\n",
                "        else:\n",
                "            ans+='' if cnt==1 else str(cnt)\n",
                "            ans+=st[fr:end-how+1]\n",
                "            fr+=1\n",
                "            end+=1\n",
                "            cnt=1\n",
                "    ans+='' if cnt==1 else str(cnt)\n",
                "    ans+=st[fr:end]\n",
                "    return ans\n",
                "            \n",
                "        \n",
                "    pass\n",
                "# ss='abcabcabcabcdededededede'\n",
                "# ss='xababcdcdababcdcd'\n",
                "ss='aabbaccc'\n",
                "print(len(ss))\n",
                "solution(ss)"
            ],
            "outputs": [],
            "metadata": {}
        },
        {
            "cell_type": "code",
            "execution_count": 1,
            "source": [
                "def compress(text, tok_len):\n",
                "    words = [text[i:i+tok_len] for i in range(0, len(text), tok_len)]\n",
                "    res = []\n",
                "    cur_word = words[0]\n",
                "    cur_cnt = 1\n",
                "    for a, b in zip(words, words[1:] + ['']):\n",
                "        if a == b:\n",
                "            cur_cnt += 1\n",
                "        else:\n",
                "            res.append([cur_word, cur_cnt])\n",
                "            cur_word = b\n",
                "            cur_cnt = 1\n",
                "    return sum(len(word) + (len(str(cnt)) if cnt > 1 else 0) for word, cnt in res)\n",
                "\n",
                "def solution(text):\n",
                "    return min(compress(text, tok_len) for tok_len in list(range(1, int(len(text)/2) + 1)) + [len(text)])\n",
                "\n",
                "a = [\n",
                "    \"aabbaccc\",\n",
                "    \"ababcdcdababcdcd\",\n",
                "    \"abcabcdede\",\n",
                "    \"abcabcabcabcdededededede\",\n",
                "    \"xababcdcdababcdcd\",\n",
                "\n",
                "    'aaaaaa',\n",
                "]\n",
                "\n",
                "for x in a:\n",
                "    print(solution(x))"
            ],
            "outputs": [
                {
                    "output_type": "stream",
                    "name": "stdout",
                    "text": [
                        "7\n",
                        "9\n",
                        "8\n",
                        "14\n",
                        "17\n",
                        "2\n"
                    ]
                }
            ],
            "metadata": {}
        }
    ],
    "metadata": {
        "orig_nbformat": 4,
        "language_info": {
            "name": "python",
            "version": "3.8.0",
            "mimetype": "text/x-python",
            "codemirror_mode": {
                "name": "ipython",
                "version": 3
            },
            "pygments_lexer": "ipython3",
            "nbconvert_exporter": "python",
            "file_extension": ".py"
        },
        "kernelspec": {
            "name": "python3",
            "display_name": "Python 3.8.0 64-bit ('codestates': conda)"
        },
        "interpreter": {
            "hash": "fadc0cf148511e913432907e7552089c1c0a3aee5ad75d70a741eb25cd3cd508"
        }
    },
    "nbformat": 4,
    "nbformat_minor": 2
}