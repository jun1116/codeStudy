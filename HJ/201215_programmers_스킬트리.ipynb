{
 "cells": [
  {
   "cell_type": "code",
   "execution_count": null,
   "metadata": {},
   "outputs": [],
   "source": [
    "skill='CBD'\n",
    "skill_tree='AQWDERCB'\n",
    "for i in [\"BACDE\", \"CBADF\", \"AECB\", \"BDA\",'AQWER','POI']:\n",
    "    print(check(skill,i))\n",
    "    \n",
    "def check(skill,skill_tree):\n",
    "    tmp=[]\n",
    "    for sk in skill:\n",
    "        tmp.append(skill_tree.find(sk))\n",
    "    \n",
    "    \n",
    "    if(set(tmp)=={-1}):return 1\n",
    "    \n",
    "    if tmp[0]==-1:return 0 #맨 첫번째가 없으면 그냥 0으로 리턴해버림 -> 첫스킬이 있어야 이후도있음\n",
    "    else:\n",
    "        while True: #맨 끝에 없는녀석들 버리기\n",
    "            if tmp[-1]== -1:\n",
    "                tmp=tmp[:-1]\n",
    "            else:\n",
    "                break\n",
    "#         print(tmp)\n",
    "        for i,v in enumerate(tmp):\n",
    "            for j,vv in enumerate(tmp[i+1:]):\n",
    "#                 print(i,v,j,vv)\n",
    "                if v<vv:continue #작아 ->넘어가\n",
    "                else: #커?\n",
    "#                     print(i,v,j,vv)\n",
    "                    if j < len(tmp[i:])-1 or tmp[j+1]!=-1:return 0\n",
    "                    else : continue            \n",
    "        return 1\n",
    "\n",
    "def check2(skill,skill_tree):                   \n",
    "    sklist=''\n",
    "    for sk in skill:\n",
    "        if sk in skill_tree:\n",
    "            sklist+=sk\n",
    "    if skill[0:len(sklist)]==sklist:\n",
    "        return 1\n",
    "    else:\n",
    "        return 0"
   ]
  }
 ],
 "metadata": {
  "kernelspec": {
   "display_name": "Python 3",
   "language": "python",
   "name": "python3"
  },
  "language_info": {
   "codemirror_mode": {
    "name": "ipython",
    "version": 3
   },
   "file_extension": ".py",
   "mimetype": "text/x-python",
   "name": "python",
   "nbconvert_exporter": "python",
   "pygments_lexer": "ipython3",
   "version": "3.8.5"
  },
  "toc": {
   "base_numbering": 1,
   "nav_menu": {},
   "number_sections": true,
   "sideBar": true,
   "skip_h1_title": false,
   "title_cell": "Table of Contents",
   "title_sidebar": "Contents",
   "toc_cell": false,
   "toc_position": {},
   "toc_section_display": true,
   "toc_window_display": false
  }
 },
 "nbformat": 4,
 "nbformat_minor": 4
}
