{
 "cells": [
  {
   "cell_type": "code",
   "execution_count": 50,
   "metadata": {
    "ExecuteTime": {
     "end_time": "2020-12-17T14:52:52.002546Z",
     "start_time": "2020-12-17T14:52:51.989536Z"
    }
   },
   "outputs": [],
   "source": [
    "people=[20,50,50,70,20]\n",
    "limit=120"
   ]
  },
  {
   "cell_type": "code",
   "execution_count": 51,
   "metadata": {
    "ExecuteTime": {
     "end_time": "2020-12-17T14:52:53.147174Z",
     "start_time": "2020-12-17T14:52:53.142172Z"
    }
   },
   "outputs": [
    {
     "name": "stdout",
     "output_type": "stream",
     "text": [
      "[70, 50, 50, 20, 20]\n",
      "70\n",
      "50\n",
      "[50, 20, 20]\n",
      "50\n",
      "20\n",
      "20\n"
     ]
    },
    {
     "data": {
      "text/plain": [
       "2"
      ]
     },
     "execution_count": 51,
     "metadata": {},
     "output_type": "execute_result"
    }
   ],
   "source": [
    "def solution(people,limit):\n",
    "    answer=0  \n",
    "    peo=sorted(people,reverse=True)\n",
    "    while peo:\n",
    "        now=peo.pop(0)\n",
    "        checkother(peo,limit-now)\n",
    "        answer+=1\n",
    "    return answer\n",
    "solution(people,limit)"
   ]
  },
  {
   "cell_type": "code",
   "execution_count": 34,
   "metadata": {
    "ExecuteTime": {
     "end_time": "2020-12-17T14:44:33.197874Z",
     "start_time": "2020-12-17T14:44:33.191872Z"
    }
   },
   "outputs": [],
   "source": [
    "def checkother(peo,limit):\n",
    "    if peo!=[]:\n",
    "        for i,v in enumerate(peo):\n",
    "            if v<=limit:\n",
    "                print(peo.pop(i))\n",
    "                return checkother(peo,limit-v)\n",
    "    else:\n",
    "        return\n",
    "        \n",
    "        \n",
    "                "
   ]
  },
  {
   "cell_type": "code",
   "execution_count": 40,
   "metadata": {
    "ExecuteTime": {
     "end_time": "2020-12-17T14:47:09.628780Z",
     "start_time": "2020-12-17T14:47:09.615256Z"
    }
   },
   "outputs": [],
   "source": [
    "import sys\n",
    "sys.setrecursionlimit"
   ]
  },
  {
   "cell_type": "code",
   "execution_count": 12,
   "metadata": {
    "ExecuteTime": {
     "end_time": "2020-12-17T14:24:14.908248Z",
     "start_time": "2020-12-17T14:24:14.904239Z"
    }
   },
   "outputs": [],
   "source": [
    "def solution(people, limit):\n",
    "    people  = sorted(people)\n",
    "    num_ppl = len(people)\n",
    "    i,cnt,k = 0,0,num_ppl-1\n",
    "    flag  = False\n",
    "    while True:\n",
    "        for j in range(k,i,-1):\n",
    "            if people[i] + people[j] > limit:\n",
    "                continue\n",
    "            else:\n",
    "                k = j - 1\n",
    "                cnt += 1\n",
    "                break\n",
    "            if i >= j:\n",
    "                break\n",
    "                flag = True\n",
    "        if flag == True or i>k:\n",
    "            break\n",
    "\n",
    "        i +=1\n",
    "    answer = num_ppl - cnt\n",
    "    return answer\n"
   ]
  },
  {
   "cell_type": "code",
   "execution_count": 41,
   "metadata": {
    "ExecuteTime": {
     "end_time": "2020-12-17T14:50:16.246513Z",
     "start_time": "2020-12-17T14:50:16.230510Z"
    }
   },
   "outputs": [
    {
     "data": {
      "text/plain": [
       "5"
      ]
     },
     "execution_count": 41,
     "metadata": {},
     "output_type": "execute_result"
    }
   ],
   "source": [
    "def solution1(people, limit):\n",
    "    count = 0\n",
    "    people.sort()\n",
    "    while len(people) > 0:\n",
    "        if len(people) == 1:\n",
    "            people.pop(0)\n",
    "            return count + 1\n",
    "        else: \n",
    "            if people[0] + people[-1] <= limit:\n",
    "                people.pop(0)\n",
    "                people.pop(-1)\n",
    "            else:\n",
    "                people.pop(-1)\n",
    "            count += 1\n",
    "    return count\n",
    "solution1(people,limit)"
   ]
  }
 ],
 "metadata": {
  "kernelspec": {
   "display_name": "Python 3",
   "language": "python",
   "name": "python3"
  },
  "language_info": {
   "codemirror_mode": {
    "name": "ipython",
    "version": 3
   },
   "file_extension": ".py",
   "mimetype": "text/x-python",
   "name": "python",
   "nbconvert_exporter": "python",
   "pygments_lexer": "ipython3",
   "version": "3.8.5"
  },
  "toc": {
   "base_numbering": 1,
   "nav_menu": {},
   "number_sections": true,
   "sideBar": true,
   "skip_h1_title": false,
   "title_cell": "Table of Contents",
   "title_sidebar": "Contents",
   "toc_cell": false,
   "toc_position": {},
   "toc_section_display": true,
   "toc_window_display": false
  }
 },
 "nbformat": 4,
 "nbformat_minor": 4
}
