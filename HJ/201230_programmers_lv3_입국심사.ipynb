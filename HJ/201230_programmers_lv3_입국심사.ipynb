{
 "cells": [
  {
   "cell_type": "code",
   "execution_count": 45,
   "metadata": {
    "ExecuteTime": {
     "end_time": "2020-12-30T16:57:32.887141Z",
     "start_time": "2020-12-30T16:57:32.872145Z"
    }
   },
   "outputs": [
    {
     "data": {
      "text/plain": [
       "{1: 1, 100: 3}"
      ]
     },
     "execution_count": 45,
     "metadata": {},
     "output_type": "execute_result"
    }
   ],
   "source": [
    "def solution(n,times):\n",
    "    answer=0\n",
    "    start=0\n",
    "    times=sorted(times)\n",
    "    end=n*times[-1]\n",
    "    mid=end+0\n",
    "    serviced=0\n",
    "    while True:\n",
    "        print(f'start : {start}, mid : {mid}, end : {end}')\n",
    "        serviced=sum([mid//i for i in times])\n",
    "        print('serviced : ',serviced)\n",
    "        if serviced<n : start=mid\n",
    "        elif serviced>n:end=mid\n",
    "        elif serviced==n: break\n",
    "        mid=(start+end)//2\n",
    "    while True:\n",
    "        if sum([mid//i for i in times])==sum([(mid-1)//i for i in times]):\n",
    "            mid-=1\n",
    "        else:\n",
    "            break\n",
    "    return mid\n",
    "\n",
    "def duplit(times):\n",
    "    dic=dict()\n",
    "    for i in times:\n",
    "        now=dic.get(i)\n",
    "        if now:\n",
    "            dic[i]+=1\n",
    "        else:\n",
    "            dic[i]=1\n",
    "        \n",
    "    return dic\n",
    "\n",
    "# n=100\n",
    "# times=[7,10]\n",
    "n = 1000000000\n",
    "times = [1,100, 100,100]\n",
    "duplit(times)\n",
    "# solution(n,times)\n",
    "    "
   ]
  },
  {
   "cell_type": "code",
   "execution_count": null,
   "metadata": {},
   "outputs": [],
   "source": []
  },
  {
   "cell_type": "code",
   "execution_count": null,
   "metadata": {},
   "outputs": [],
   "source": []
  },
  {
   "cell_type": "code",
   "execution_count": null,
   "metadata": {},
   "outputs": [],
   "source": []
  },
  {
   "cell_type": "code",
   "execution_count": null,
   "metadata": {},
   "outputs": [],
   "source": []
  },
  {
   "cell_type": "code",
   "execution_count": null,
   "metadata": {},
   "outputs": [],
   "source": []
  },
  {
   "cell_type": "code",
   "execution_count": 53,
   "metadata": {
    "ExecuteTime": {
     "end_time": "2020-12-30T17:10:40.616091Z",
     "start_time": "2020-12-30T17:10:40.601090Z"
    }
   },
   "outputs": [
    {
     "name": "stdout",
     "output_type": "stream",
     "text": [
      "30\n",
      "4\n",
      "7\n",
      "7\n",
      "15\n",
      "2\n",
      "3\n",
      "3\n",
      "22\n",
      "3\n",
      "5\n",
      "5\n",
      "26\n",
      "3\n",
      "5\n",
      "5\n",
      "28\n",
      "4\n",
      "6\n",
      "6\n",
      "27\n",
      "3\n",
      "5\n",
      "5\n"
     ]
    },
    {
     "data": {
      "text/plain": [
       "28"
      ]
     },
     "execution_count": 53,
     "metadata": {},
     "output_type": "execute_result"
    }
   ],
   "source": [
    "def solution(n,times):\n",
    "    answer=0\n",
    "    left=1\n",
    "    right=n * max(times)\n",
    "\n",
    "    while left<=right:\n",
    "        mid=(left+right)//2\n",
    "        print(mid)\n",
    "        served=0\n",
    "        for i in times:\n",
    "            served+=mid//i\n",
    "            print(served)\n",
    "            if served >= n:\n",
    "                right=mid-1\n",
    "                answer=mid\n",
    "                break\n",
    "        print(served)\n",
    "        if served < n:\n",
    "            left = mid+1\n",
    "\n",
    "    return answer\n",
    "solution(6,[7,10])"
   ]
  },
  {
   "cell_type": "code",
   "execution_count": null,
   "metadata": {},
   "outputs": [],
   "source": []
  },
  {
   "cell_type": "markdown",
   "metadata": {},
   "source": [
    "#### 공부해볼만한 코드"
   ]
  },
  {
   "cell_type": "code",
   "execution_count": 52,
   "metadata": {
    "ExecuteTime": {
     "end_time": "2020-12-30T17:10:20.589103Z",
     "start_time": "2020-12-30T17:10:20.584103Z"
    }
   },
   "outputs": [
    {
     "data": {
      "text/plain": [
       "28"
      ]
     },
     "execution_count": 52,
     "metadata": {},
     "output_type": "execute_result"
    }
   ],
   "source": [
    "def solution(n, times):\n",
    "    ## 최악의 경우: 가장 비효율적인 심사관에게 다 받는 경우의 시간.\n",
    "    left, right = 1, max(times) * n\n",
    "    answer = 0\n",
    "    while left <= right:\n",
    "        # 한 심사관에게 주어진 시간\n",
    "        mid = (left + right) // 2\n",
    "        people = 0\n",
    "        for i in times:\n",
    "          # 각 심사관마다, 주어진 시간 동안 몇 명의 사람을 심사할 수 있는지\n",
    "            people += mid // i\n",
    "            # 모든 사람을 심사할 수 있으면 시간을 줄여본다\n",
    "            if people >= n:        \n",
    "                answer = mid\n",
    "                right = mid - 1\n",
    "                break\n",
    "        # 모든 사람을 심사할 수 없는 경우\n",
    "        # 한 심사관에게 주어진 시간을 늘려본다.\n",
    "        if people < n :\n",
    "            left = mid + 1\n",
    "    return answer\n",
    "solution(6,[7,10])"
   ]
  },
  {
   "cell_type": "markdown",
   "metadata": {},
   "source": []
  }
 ],
 "metadata": {
  "kernelspec": {
   "display_name": "Python 3",
   "language": "python",
   "name": "python3"
  },
  "language_info": {
   "codemirror_mode": {
    "name": "ipython",
    "version": 3
   },
   "file_extension": ".py",
   "mimetype": "text/x-python",
   "name": "python",
   "nbconvert_exporter": "python",
   "pygments_lexer": "ipython3",
   "version": "3.8.3"
  },
  "toc": {
   "base_numbering": 1,
   "nav_menu": {},
   "number_sections": true,
   "sideBar": true,
   "skip_h1_title": false,
   "title_cell": "Table of Contents",
   "title_sidebar": "Contents",
   "toc_cell": false,
   "toc_position": {},
   "toc_section_display": true,
   "toc_window_display": false
  }
 },
 "nbformat": 4,
 "nbformat_minor": 4
}
