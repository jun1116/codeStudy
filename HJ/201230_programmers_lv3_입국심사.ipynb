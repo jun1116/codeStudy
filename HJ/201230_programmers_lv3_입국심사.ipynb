{
 "cells": [
  {
   "source": [
    "입국 심사를 기다리는 사람 수 n\n",
    "각 심사관이 한명을 심사하는데 걸리는 시간이 담긴 배열 times \n",
    "모든 사람이 심사를 받는데 걸리는 시간의 최솟값 return"
   ],
   "cell_type": "markdown",
   "metadata": {}
  },
  {
   "cell_type": "code",
   "execution_count": 45,
   "metadata": {
    "ExecuteTime": {
     "end_time": "2020-12-30T16:57:32.887141Z",
     "start_time": "2020-12-30T16:57:32.872145Z"
    }
   },
   "outputs": [
    {
     "data": {
      "text/plain": [
       "{1: 1, 100: 3}"
      ]
     },
     "execution_count": 45,
     "metadata": {},
     "output_type": "execute_result"
    }
   ],
   "source": [
    "def solution(n,times):\n",
    "    answer=0\n",
    "    start=0\n",
    "    times=sorted(times)\n",
    "    end=n*times[-1]\n",
    "    mid=end+0\n",
    "    serviced=0\n",
    "    while True:\n",
    "        print(f'start : {start}, mid : {mid}, end : {end}')\n",
    "        serviced=sum([mid//i for i in times])\n",
    "        print('serviced : ',serviced)\n",
    "        if serviced<n : start=mid\n",
    "        elif serviced>n:end=mid\n",
    "        elif serviced==n: break\n",
    "        mid=(start+end)//2\n",
    "    while True:\n",
    "        if sum([mid//i for i in times])==sum([(mid-1)//i for i in times]):\n",
    "            mid-=1\n",
    "        else:\n",
    "            break\n",
    "    return mid\n",
    "\n",
    "def duplit(times):\n",
    "    dic=dict()\n",
    "    for i in times:\n",
    "        now=dic.get(i)\n",
    "        if now:\n",
    "            dic[i]+=1\n",
    "        else:\n",
    "            dic[i]=1\n",
    "        \n",
    "    return dic\n",
    "\n",
    "# n=100\n",
    "# times=[7,10]\n",
    "n = 1000000000\n",
    "times = [1,100, 100,100]\n",
    "duplit(times)\n",
    "# solution(n,times)\n",
    "    "
   ]
  },
  {
   "cell_type": "code",
   "execution_count": null,
   "metadata": {},
   "outputs": [],
   "source": []
  },
  {
   "cell_type": "code",
   "execution_count": null,
   "metadata": {},
   "outputs": [],
   "source": []
  },
  {
   "cell_type": "code",
   "execution_count": null,
   "metadata": {},
   "outputs": [],
   "source": []
  },
  {
   "cell_type": "code",
   "execution_count": null,
   "metadata": {},
   "outputs": [],
   "source": []
  },
  {
   "cell_type": "code",
   "execution_count": null,
   "metadata": {},
   "outputs": [],
   "source": []
  },
  {
   "cell_type": "code",
   "execution_count": 12,
   "metadata": {
    "ExecuteTime": {
     "end_time": "2020-12-30T17:10:40.616091Z",
     "start_time": "2020-12-30T17:10:40.601090Z"
    }
   },
   "outputs": [
    {
     "output_type": "stream",
     "name": "stdout",
     "text": [
      "left : 7, right : 60\nmid 계산 :  33\n입국심사 받은사람 카운팅 7 4\n입국심사 받은사람 카운팅 10 7\nserved가 더 많아지므로 right 변경\nleft : 7, right : 32\nmid 계산 :  19\n입국심사 받은사람 카운팅 7 2\n입국심사 받은사람 카운팅 10 3\nserved가 더 부족해서 left변경\nleft : 20, right : 32\nmid 계산 :  26\n입국심사 받은사람 카운팅 7 3\n입국심사 받은사람 카운팅 10 5\nserved가 더 부족해서 left변경\nleft : 27, right : 32\nmid 계산 :  29\n입국심사 받은사람 카운팅 7 4\n입국심사 받은사람 카운팅 10 6\nserved가 더 많아지므로 right 변경\nleft : 27, right : 28\nmid 계산 :  27\n입국심사 받은사람 카운팅 7 3\n입국심사 받은사람 카운팅 10 5\nserved가 더 부족해서 left변경\nleft : 28, right : 28\nmid 계산 :  28\n입국심사 받은사람 카운팅 7 4\n입국심사 받은사람 카운팅 10 6\nserved가 더 많아지므로 right 변경\n"
     ]
    },
    {
     "output_type": "execute_result",
     "data": {
      "text/plain": [
       "28"
      ]
     },
     "metadata": {},
     "execution_count": 12
    }
   ],
   "source": [
    "def solution(n,times):\n",
    "    answer=0\n",
    "    left=min(times)*min(1,n)\n",
    "    right=n * max(times)\n",
    "\n",
    "    while left<=right:\n",
    "        mid=(left+right)//2\n",
    "        print(f\"left : {left}, right : {right}\")\n",
    "        print('mid 계산 : ',mid)\n",
    "        served=0\n",
    "        for i in times:\n",
    "            served+=mid//i\n",
    "            print('입국심사 받은사람 카운팅',i,served)\n",
    "            if served >= n:\n",
    "                print('served가 더 많아지므로 right 변경')\n",
    "                right=mid-1\n",
    "                answer=mid\n",
    "                break\n",
    "        # print(served)\n",
    "        if served < n:\n",
    "            print('served가 더 부족해서 left변경')\n",
    "            left = mid+1\n",
    "\n",
    "    return answer\n",
    "solution(6,[7,10])"
   ]
  },
  {
   "cell_type": "code",
   "execution_count": null,
   "metadata": {},
   "outputs": [],
   "source": []
  },
  {
   "cell_type": "code",
   "execution_count": null,
   "metadata": {},
   "outputs": [],
   "source": []
  },
  {
   "cell_type": "code",
   "execution_count": null,
   "metadata": {},
   "outputs": [],
   "source": []
  },
  {
   "cell_type": "code",
   "execution_count": null,
   "metadata": {},
   "outputs": [],
   "source": []
  },
  {
   "cell_type": "markdown",
   "metadata": {},
   "source": [
    "#### 공부해볼만한 코드"
   ]
  },
  {
   "cell_type": "code",
   "execution_count": 52,
   "metadata": {
    "ExecuteTime": {
     "end_time": "2020-12-30T17:10:20.589103Z",
     "start_time": "2020-12-30T17:10:20.584103Z"
    }
   },
   "outputs": [
    {
     "data": {
      "text/plain": [
       "28"
      ]
     },
     "execution_count": 52,
     "metadata": {},
     "output_type": "execute_result"
    }
   ],
   "source": [
    "def solution(n, times):\n",
    "    ## 최악의 경우: 가장 비효율적인 심사관에게 다 받는 경우의 시간.\n",
    "    left, right = 1, max(times) * n\n",
    "    answer = 0\n",
    "    while left <= right:\n",
    "        # 한 심사관에게 주어진 시간\n",
    "        mid = (left + right) // 2\n",
    "        people = 0\n",
    "        for i in times:\n",
    "          # 각 심사관마다, 주어진 시간 동안 몇 명의 사람을 심사할 수 있는지\n",
    "            people += mid // i\n",
    "            # 모든 사람을 심사할 수 있으면 시간을 줄여본다\n",
    "            if people >= n:        \n",
    "                answer = mid\n",
    "                right = mid - 1\n",
    "                break\n",
    "        # 모든 사람을 심사할 수 없는 경우\n",
    "        # 한 심사관에게 주어진 시간을 늘려본다.\n",
    "        if people < n :\n",
    "            left = mid + 1\n",
    "    return answer\n",
    "solution(6,[7,10])"
   ]
  },
  {
   "cell_type": "markdown",
   "metadata": {},
   "source": []
  }
 ],
 "metadata": {
  "kernelspec": {
   "name": "python385jvsc74a57bd039a3f6769e595a50e593a296d8b0c78e5171348aaba449e974344d6732d07a14",
   "display_name": "Python 3.8.5 64-bit ('base': conda)"
  },
  "language_info": {
   "codemirror_mode": {
    "name": "ipython",
    "version": 3
   },
   "file_extension": ".py",
   "mimetype": "text/x-python",
   "name": "python",
   "nbconvert_exporter": "python",
   "pygments_lexer": "ipython3",
   "version": "3.8.5"
  },
  "toc": {
   "base_numbering": 1,
   "nav_menu": {},
   "number_sections": true,
   "sideBar": true,
   "skip_h1_title": false,
   "title_cell": "Table of Contents",
   "title_sidebar": "Contents",
   "toc_cell": false,
   "toc_position": {},
   "toc_section_display": true,
   "toc_window_display": false
  }
 },
 "nbformat": 4,
 "nbformat_minor": 4
}