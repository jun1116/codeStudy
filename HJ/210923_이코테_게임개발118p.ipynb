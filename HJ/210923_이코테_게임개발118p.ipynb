{
 "cells": [
  {
   "cell_type": "code",
   "execution_count": 13,
   "source": [
    "n,m=4,4\n",
    "a,b,d=1,1,0\n",
    "maps=[\n",
    "    [1,1,1,1],\n",
    "    [1,0,0,1],\n",
    "    [1,1,0,1],\n",
    "    [1,1,1,1],\n",
    "]#1 : 바다 , 0 : 육지\n",
    "def lturn():\n",
    "    global direction\n",
    "    direction-=1\n",
    "    if direction==-1:\n",
    "        direction=3\n",
    "    return\n",
    "def check(length, x):\n",
    "    if x<-1 or x>=length:\n",
    "        return False\n",
    "    else:\n",
    "        return True\n",
    "def solution(n,m,a,b,d,maps):\n",
    "    answer=1\n",
    "    x=a\n",
    "    y=b\n",
    "    dx=[0,1,0,-1] #북,동,남,서\n",
    "    dy=[1,0,-1,0]\n",
    "    global direction\n",
    "    direction=d\n",
    "    cnt=0\n",
    "    while True:\n",
    "        lturn()\n",
    "        cnt+=1  \n",
    "        nx=x+dx[direction]\n",
    "        ny=y+dy[direction]\n",
    "        if maps[nx][ny]==0 and check(n,nx) and check(n,ny):\n",
    "            print(direction,nx,ny)\n",
    "            maps[nx][ny]=1\n",
    "            x=nx\n",
    "            y=ny\n",
    "            answer+=1\n",
    "            cnt=0\n",
    "            continue\n",
    "        else:\n",
    "            if cnt==4:\n",
    "                nx=x-dx[direction]\n",
    "                ny=y-dy[direction]\n",
    "                if maps[nx][ny]==0:\n",
    "                    x=nx\n",
    "                    y=ny\n",
    "                else:\n",
    "                    break\n",
    "                cnt=0\n",
    "\n",
    "    return answer\n",
    "solution(n,m,a,b,d,maps)"
   ],
   "outputs": [
    {
     "output_type": "stream",
     "name": "stdout",
     "text": [
      "0 1 2\n",
      "2 1 1\n"
     ]
    },
    {
     "output_type": "execute_result",
     "data": {
      "text/plain": [
       "3"
      ]
     },
     "metadata": {},
     "execution_count": 13
    }
   ],
   "metadata": {}
  }
 ],
 "metadata": {
  "orig_nbformat": 4,
  "language_info": {
   "name": "python",
   "version": "3.8.5",
   "mimetype": "text/x-python",
   "codemirror_mode": {
    "name": "ipython",
    "version": 3
   },
   "pygments_lexer": "ipython3",
   "nbconvert_exporter": "python",
   "file_extension": ".py"
  },
  "kernelspec": {
   "name": "python3",
   "display_name": "Python 3.8.5 64-bit ('codestates': conda)"
  },
  "interpreter": {
   "hash": "66725da8cd7a014ad20077260537a77858d60878c0d94adc7d9ed308e4bb2094"
  }
 },
 "nbformat": 4,
 "nbformat_minor": 2
}