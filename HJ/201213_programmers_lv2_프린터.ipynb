{
 "cells": [
  {
   "cell_type": "code",
   "execution_count": 1,
   "metadata": {
    "ExecuteTime": {
     "end_time": "2020-12-13T13:47:26.110626Z",
     "start_time": "2020-12-13T13:47:26.099109Z"
    }
   },
   "outputs": [],
   "source": [
    "priorities=[2, 1, 3, 2]\n",
    "location=2"
   ]
  },
  {
   "cell_type": "code",
   "execution_count": 24,
   "metadata": {
    "ExecuteTime": {
     "end_time": "2020-12-13T14:04:25.741092Z",
     "start_time": "2020-12-13T14:04:25.726774Z"
    }
   },
   "outputs": [
    {
     "name": "stdout",
     "output_type": "stream",
     "text": [
      "[[1, 0], [1, 1], [9, 2], [1, 3], [1, 4], [1, 5]]\n",
      "[[1, 1], [9, 2], [1, 3], [1, 4], [1, 5], [1, 0]]\n",
      "[[9, 2], [1, 3], [1, 4], [1, 5], [1, 0], [1, 1]]\n",
      "[[1, 3], [1, 4], [1, 5], [1, 0], [1, 1]]\n",
      "[[1, 4], [1, 5], [1, 0], [1, 1]]\n",
      "[[1, 5], [1, 0], [1, 1]]\n",
      "[[1, 0], [1, 1]]\n",
      "5\n"
     ]
    }
   ],
   "source": [
    "priorities=[1, 1, 9, 1, 1, 1]\n",
    "location=0\n",
    "def solution(priorities,location):\n",
    "    answer=0\n",
    "    tmp=[]\n",
    "    for i,v in enumerate(priorities):\n",
    "        tmp.append([v,i])\n",
    "    \n",
    "    printlist=[]\n",
    "    \n",
    "    while tmp:\n",
    "        print(tmp)\n",
    "        now=tmp[0]\n",
    "        if check(tmp[1:],now):\n",
    "            printlist.append(now)\n",
    "            tmp=tmp[1:]\n",
    "            if now[1]==location:\n",
    "                    break\n",
    "        else:\n",
    "            tmp=tmp[1:]\n",
    "            tmp.append(now)\n",
    "    return len(printlist)\n",
    "            \n",
    "            \n",
    "            \n",
    "    \n",
    "    \n",
    "def check(priorities,now): #now가 가장크면 True\n",
    "    for i in priorities:\n",
    "        if i[0]>now[0]:\n",
    "            return False\n",
    "    return True\n",
    "\n",
    "solution(priorities,location)\n",
    "    \n",
    "    "
   ]
  }
 ],
 "metadata": {
  "kernelspec": {
   "display_name": "Python 3",
   "language": "python",
   "name": "python3"
  },
  "language_info": {
   "codemirror_mode": {
    "name": "ipython",
    "version": 3
   },
   "file_extension": ".py",
   "mimetype": "text/x-python",
   "name": "python",
   "nbconvert_exporter": "python",
   "pygments_lexer": "ipython3",
   "version": "3.8.5"
  },
  "toc": {
   "base_numbering": 1,
   "nav_menu": {},
   "number_sections": true,
   "sideBar": true,
   "skip_h1_title": false,
   "title_cell": "Table of Contents",
   "title_sidebar": "Contents",
   "toc_cell": false,
   "toc_position": {},
   "toc_section_display": true,
   "toc_window_display": false
  }
 },
 "nbformat": 4,
 "nbformat_minor": 4
}
