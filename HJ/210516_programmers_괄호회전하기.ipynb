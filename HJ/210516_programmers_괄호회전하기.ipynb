{
 "metadata": {
  "language_info": {
   "codemirror_mode": {
    "name": "ipython",
    "version": 3
   },
   "file_extension": ".py",
   "mimetype": "text/x-python",
   "name": "python",
   "nbconvert_exporter": "python",
   "pygments_lexer": "ipython3",
   "version": 3
  },
  "orig_nbformat": 2
 },
 "nbformat": 4,
 "nbformat_minor": 2,
 "cells": [
  {
   "cell_type": "code",
   "execution_count": null,
   "metadata": {},
   "outputs": [],
   "source": []
  },
  {
   "cell_type": "code",
   "execution_count": null,
   "metadata": {},
   "outputs": [],
   "source": []
  },
  {
   "source": [
    "괄호를 회전해서 각각의 새로운 string에 대하여 매번 괄호배열이 맞는지 확인해줘야하므로, \n",
    "string인풋에 대한 괄호배열맞는지 확인하는 함수 선언 , for문을 사용하여 회전을 진행하며 체크"
   ],
   "cell_type": "markdown",
   "metadata": {}
  },
  {
   "cell_type": "code",
   "execution_count": null,
   "metadata": {},
   "outputs": [],
   "source": [
    "def solution(s):\n",
    "    answer = 0\n",
    "    for i in range(len(s)):\n",
    "        answer+=isright(s[i:] + s[:i])\n",
    "    return answer\n",
    "def isright(ss):\n",
    "    stk=[]\n",
    "    tmp={'[':']','(':')','{':'}'}\n",
    "    for s in ss:\n",
    "        # print(s)\n",
    "        if s=='[' or s=='(' or s=='{':\n",
    "            stk.append(s)\n",
    "        else:\n",
    "            if stk:\n",
    "                if s==tmp[stk[-1]]:\n",
    "                    stk.pop()\n",
    "            else:\n",
    "                return 0\n",
    "    if stk:\n",
    "        return 0\n",
    "    else:\n",
    "        return 1\n"
   ]
  },
  {
   "cell_type": "code",
   "execution_count": null,
   "metadata": {},
   "outputs": [],
   "source": []
  }
 ]
}