{
 "cells": [
  {
   "cell_type": "markdown",
   "id": "fallen-dance",
   "metadata": {},
   "source": [
    "# 이진변환 반복하기\n",
    "문제 설명\n",
    "0과 1로 이루어진 어떤 문자열 x에 대한 이진 변환을 다음과 같이 정의합니다.\n",
    "\n",
    "x의 모든 0을 제거합니다.\n",
    "x의 길이를 c라고 하면, x를 \"c를 2진법으로 표현한 문자열\"로 바꿉니다.\n",
    "예를 들어, x = \"0111010\"이라면, x에 이진 변환을 가하면 x = \"0111010\" -> \"1111\" -> \"100\" 이 됩니다.\n",
    "\n",
    "0과 1로 이루어진 문자열 s가 매개변수로 주어집니다. s가 \"1\"이 될 때까지 계속해서 s에 이진 변환을 가했을 때, 이진 변환의 횟수와 변환 과정에서 제거된 모든 0의 개수를 각각 배열에 담아 return 하도록 solution 함수를 완성해주세요.\n",
    "\n",
    "제한사항\n",
    "s의 길이는 1 이상 150,000 이하입니다.\n",
    "s에는 '1'이 최소 하나 이상 포함되어 있습니다.\n",
    "\n",
    "입출력|예\n",
    ":--:|:--:\n",
    "s|result\n",
    "\"110010101001\"|[3,8]\n",
    "\"01110\"|[3,3]\n",
    "\"1111111\"|[4,1]\n"
   ]
  },
  {
   "cell_type": "code",
   "execution_count": 63,
   "id": "desirable-sailing",
   "metadata": {
    "execution": {
     "iopub.execute_input": "2021-04-01T15:48:56.322532Z",
     "iopub.status.busy": "2021-04-01T15:48:56.322211Z",
     "iopub.status.idle": "2021-04-01T15:48:56.326228Z",
     "shell.execute_reply": "2021-04-01T15:48:56.325392Z",
     "shell.execute_reply.started": "2021-04-01T15:48:56.322495Z"
    },
    "tags": []
   },
   "outputs": [],
   "source": [
    "s1= \"110010101001\"\t\n",
    "s2= \"01110\"\n",
    "s3= \"1111111\""
   ]
  },
  {
   "cell_type": "code",
   "execution_count": 55,
   "id": "dense-triumph",
   "metadata": {
    "execution": {
     "iopub.execute_input": "2021-04-01T15:47:05.948123Z",
     "iopub.status.busy": "2021-04-01T15:47:05.947880Z",
     "iopub.status.idle": "2021-04-01T15:47:05.954528Z",
     "shell.execute_reply": "2021-04-01T15:47:05.953344Z",
     "shell.execute_reply.started": "2021-04-01T15:47:05.948098Z"
    },
    "tags": []
   },
   "outputs": [
    {
     "data": {
      "text/plain": [
       "'110'"
      ]
     },
     "execution_count": 55,
     "metadata": {},
     "output_type": "execute_result"
    }
   ],
   "source": [
    "def tobin(x):\n",
    "    ans = []\n",
    "    while x>1:\n",
    "        s = x%2\n",
    "        x = int(x/2)\n",
    "        ans.append(str(s))\n",
    "    ans.append(str(x))\n",
    "    ret=\"\"\n",
    "    while ans:\n",
    "        ret += ans.pop()\n",
    "    return ret\n",
    "tobin(6)\n",
    "# s1.replace('0','')"
   ]
  },
  {
   "cell_type": "code",
   "execution_count": 31,
   "id": "fallen-committee",
   "metadata": {
    "execution": {
     "iopub.execute_input": "2021-04-01T15:14:02.686264Z",
     "iopub.status.busy": "2021-04-01T15:14:02.686042Z",
     "iopub.status.idle": "2021-04-01T15:14:02.691806Z",
     "shell.execute_reply": "2021-04-01T15:14:02.690860Z",
     "shell.execute_reply.started": "2021-04-01T15:14:02.686239Z"
    },
    "tags": []
   },
   "outputs": [
    {
     "data": {
      "text/plain": [
       "6"
      ]
     },
     "execution_count": 31,
     "metadata": {},
     "output_type": "execute_result"
    }
   ],
   "source": [
    "temp=[0,0]\n",
    "after=''\n",
    "if '0' in s1:\n",
    "    temp[0]+=1\n",
    "    for i,v in enumerate(s1):\n",
    "        if v=='1':\n",
    "            after+=v\n",
    "        else: temp[1] +=1\n",
    "            \n",
    "len(after)\n",
    "    \n",
    "\n"
   ]
  },
  {
   "cell_type": "code",
   "execution_count": 73,
   "id": "crucial-salad",
   "metadata": {
    "execution": {
     "iopub.execute_input": "2021-04-01T15:51:47.010251Z",
     "iopub.status.busy": "2021-04-01T15:51:47.010014Z",
     "iopub.status.idle": "2021-04-01T15:51:47.014536Z",
     "shell.execute_reply": "2021-04-01T15:51:47.013921Z",
     "shell.execute_reply.started": "2021-04-01T15:51:47.010226Z"
    },
    "tags": []
   },
   "outputs": [
    {
     "data": {
      "text/plain": [
       "'101'"
      ]
     },
     "execution_count": 73,
     "metadata": {},
     "output_type": "execute_result"
    }
   ],
   "source": [
    "bin(5)[2:]"
   ]
  },
  {
   "cell_type": "code",
   "execution_count": 70,
   "id": "enhanced-foster",
   "metadata": {
    "execution": {
     "iopub.execute_input": "2021-04-01T15:50:41.573570Z",
     "iopub.status.busy": "2021-04-01T15:50:41.573341Z",
     "iopub.status.idle": "2021-04-01T15:50:41.583382Z",
     "shell.execute_reply": "2021-04-01T15:50:41.582356Z",
     "shell.execute_reply.started": "2021-04-01T15:50:41.573545Z"
    },
    "tags": []
   },
   "outputs": [
    {
     "name": "stdout",
     "output_type": "stream",
     "text": [
      "111\n",
      "11\n",
      "10\n",
      "1\n"
     ]
    },
    {
     "data": {
      "text/plain": [
       "[4, 1]"
      ]
     },
     "execution_count": 70,
     "metadata": {},
     "output_type": "execute_result"
    }
   ],
   "source": [
    "def solution(s):\n",
    "    answer = [0,0] #카운트 , 제거한0개수\n",
    "\n",
    "    def recur(answer, s):\n",
    "        answer[0]+=1\n",
    "        length=len(s)\n",
    "        if '0' in s:\n",
    "            for i in s:\n",
    "                if i!='1': # 0인것 -> 삭제 -> 삭제개수추가\n",
    "                    length -= 1\n",
    "                    answer[1]+=1\n",
    "                \n",
    "        after = tobin(length)\n",
    "        print(after)\n",
    "        if after =='1':\n",
    "            return\n",
    "        else:\n",
    "            return recur(answer,after)\n",
    "    ts = recur(answer, s)\n",
    "    return answer\n",
    "\n",
    "def tobin(x):\n",
    "    ans = []\n",
    "    \n",
    "    while x>1:\n",
    "#         print(x)\n",
    "        s = x%2\n",
    "        x = int(x/2)\n",
    "        ans.append(str(s))\n",
    "    ans.append(str(x))\n",
    "    ret=\"\"\n",
    "    while ans:\n",
    "        ret += ans.pop()\n",
    "    return ret\n",
    "\n",
    "solution(s3)\n"
   ]
  },
  {
   "cell_type": "markdown",
   "id": "geological-release",
   "metadata": {},
   "source": [
    "# 다른사람 코드 ... "
   ]
  },
  {
   "cell_type": "code",
   "execution_count": null,
   "id": "fixed-reading",
   "metadata": {},
   "outputs": [],
   "source": [
    "## 프로그래머스, 다른사람들 코드..... 이렇게 쉽게풀어버리다니 헐\n",
    "def solution(s):\n",
    "    iteration, count = 0, 0\n",
    "    while s != '1':\n",
    "        iteration += 1\n",
    "        count += s.count('0')\n",
    "        s = bin(s.count('1'))[2:]\n",
    "    return [iteration, count]"
   ]
  }
 ],
 "metadata": {
  "kernelspec": {
   "display_name": "Python 3",
   "language": "python",
   "name": "python3"
  },
  "language_info": {
   "codemirror_mode": {
    "name": "ipython",
    "version": 3
   },
   "file_extension": ".py",
   "mimetype": "text/x-python",
   "name": "python",
   "nbconvert_exporter": "python",
   "pygments_lexer": "ipython3",
   "version": "3.8.0"
  }
 },
 "nbformat": 4,
 "nbformat_minor": 5
}
