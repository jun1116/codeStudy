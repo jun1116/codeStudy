{
 "cells": [
  {
   "cell_type": "code",
   "execution_count": 1,
   "metadata": {
    "ExecuteTime": {
     "end_time": "2020-12-21T11:28:46.579873Z",
     "start_time": "2020-12-21T11:28:46.572114Z"
    }
   },
   "outputs": [],
   "source": [
    "tickets=[[\"ICN\", \"SFO\"], [\"ICN\", \"ATL\"], [\"SFO\", \"ATL\"], [\"ATL\", \"ICN\"], [\"ATL\", \"SFO\"]]"
   ]
  },
  {
   "cell_type": "code",
   "execution_count": 38,
   "metadata": {
    "ExecuteTime": {
     "end_time": "2020-12-21T12:41:53.070190Z",
     "start_time": "2020-12-21T12:41:53.054617Z"
    }
   },
   "outputs": [],
   "source": [
    "tickets=[['ICN','BOO' ], [ 'ICN', 'COO' ], [ 'COO', 'DOO' ], ['DOO', 'COO'], [ 'BOO', 'DOO'] ,['DOO', 'BOO'], ['BOO', 'ICN' ], ['COO', 'BOO']]\n",
    "#[[\"ICN\", \"JFK\"], [\"HND\", \"IAD\"], [\"JFK\", \"HND\"],[\"JFK\", \"HND\"]]"
   ]
  },
  {
   "cell_type": "code",
   "execution_count": 39,
   "metadata": {
    "ExecuteTime": {
     "end_time": "2020-12-21T12:41:53.874794Z",
     "start_time": "2020-12-21T12:41:53.863060Z"
    }
   },
   "outputs": [
    {
     "data": {
      "text/plain": [
       "{'ICN': ['BOO', 'COO'],\n",
       " 'COO': ['DOO', 'BOO'],\n",
       " 'DOO': ['COO', 'BOO'],\n",
       " 'BOO': ['DOO', 'ICN']}"
      ]
     },
     "execution_count": 39,
     "metadata": {},
     "output_type": "execute_result"
    }
   ],
   "source": [
    "def mkgraph(tickets):\n",
    "    dic=dict()\n",
    "    for f,t in tickets:\n",
    "        now=dic.get(f)\n",
    "        if now:\n",
    "            now.append(t)\n",
    "        else:\n",
    "            dic[f]=[t]\n",
    "    return dic\n",
    "dic=mkgraph(tickets)\n",
    "dic"
   ]
  },
  {
   "cell_type": "code",
   "execution_count": 5,
   "metadata": {
    "ExecuteTime": {
     "end_time": "2020-12-21T11:42:59.776475Z",
     "start_time": "2020-12-21T11:42:59.770448Z"
    }
   },
   "outputs": [
    {
     "data": {
      "text/plain": [
       "['ATL', 'SFO']"
      ]
     },
     "execution_count": 5,
     "metadata": {},
     "output_type": "execute_result"
    }
   ],
   "source": [
    "##  I-B-D-B-ICN-C-D-C-B\n",
    "sorted(dic['ICN'])"
   ]
  },
  {
   "cell_type": "code",
   "execution_count": 44,
   "metadata": {
    "ExecuteTime": {
     "end_time": "2020-12-21T13:23:09.419567Z",
     "start_time": "2020-12-21T13:23:09.404604Z"
    }
   },
   "outputs": [
    {
     "name": "stdout",
     "output_type": "stream",
     "text": [
      "VISITED :  ['ICN'] \n",
      "STACK :  ['COO', 'BOO']\n",
      "NOW ->  BOO\n",
      "VISITED :  ['ICN', 'BOO'] \n",
      "STACK :  ['COO', 'ICN', 'DOO']\n",
      "NOW ->  DOO\n",
      "VISITED :  ['ICN', 'BOO', 'DOO'] \n",
      "STACK :  ['COO', 'ICN', 'COO', 'BOO']\n",
      "NOW ->  BOO\n",
      "\t\tIS VISITED!!\n",
      "\n",
      "VISITED :  ['ICN', 'BOO', 'DOO'] \n",
      "STACK :  ['COO', 'ICN', 'COO']\n",
      "NOW ->  COO\n",
      "VISITED :  ['ICN', 'BOO', 'DOO', 'COO'] \n",
      "STACK :  ['COO', 'ICN', 'DOO', 'BOO']\n",
      "NOW ->  BOO\n",
      "\t\tIS VISITED!!\n",
      "\n",
      "VISITED :  ['ICN', 'BOO', 'DOO', 'COO'] \n",
      "STACK :  ['COO', 'ICN', 'DOO']\n",
      "NOW ->  DOO\n",
      "\t\tIS VISITED!!\n",
      "\n",
      "VISITED :  ['ICN', 'BOO', 'DOO', 'COO'] \n",
      "STACK :  ['COO', 'ICN']\n",
      "NOW ->  ICN\n",
      "\t\tIS VISITED!!\n",
      "\n",
      "VISITED :  ['ICN', 'BOO', 'DOO', 'COO'] \n",
      "STACK :  ['COO']\n",
      "NOW ->  COO\n",
      "\t\tIS VISITED!!\n",
      "\n"
     ]
    },
    {
     "data": {
      "text/plain": [
       "['ICN', 'BOO', 'DOO', 'BOO', 'COO', 'BOO', 'DOO', 'ICN', 'COO']"
      ]
     },
     "execution_count": 44,
     "metadata": {},
     "output_type": "execute_result"
    }
   ],
   "source": [
    "def DFS(graph):\n",
    "    order=['ICN']\n",
    "    visited=['ICN']\n",
    "    stack=sorted(graph['ICN'],reverse=True)\n",
    "    while stack:\n",
    "        print('VISITED : ',visited,'\\nSTACK : ' ,stack)\n",
    "        now=stack.pop()\n",
    "        print('NOW -> ',now )\n",
    "        order.append(now)\n",
    "        if now in visited : \n",
    "            print(\"\\t\\tIS VISITED!!\\n\")\n",
    "            continue\n",
    "        else:\n",
    "            visited.append(now)\n",
    "            tmp=graph.get(now)\n",
    "            if tmp:\n",
    "                stack.extend(sorted(tmp,reverse=True))\n",
    "            else:\n",
    "                print('END')\n",
    "                break\n",
    "    return order\n",
    "dic=mkgraph(tickets)\n",
    "DFS(dic)"
   ]
  },
  {
   "cell_type": "code",
   "execution_count": null,
   "metadata": {},
   "outputs": [],
   "source": [
    "#  ['ICN', 'BOO', 'DOO', 'BOO', 'ICN', 'COO', 'DOO', 'COO', 'BOO']"
   ]
  },
  {
   "cell_type": "code",
   "execution_count": null,
   "metadata": {},
   "outputs": [],
   "source": []
  },
  {
   "cell_type": "code",
   "execution_count": null,
   "metadata": {},
   "outputs": [],
   "source": []
  }
 ],
 "metadata": {
  "kernelspec": {
   "display_name": "Python 3",
   "language": "python",
   "name": "python3"
  },
  "language_info": {
   "codemirror_mode": {
    "name": "ipython",
    "version": 3
   },
   "file_extension": ".py",
   "mimetype": "text/x-python",
   "name": "python",
   "nbconvert_exporter": "python",
   "pygments_lexer": "ipython3",
   "version": "3.8.5"
  },
  "toc": {
   "base_numbering": 1,
   "nav_menu": {},
   "number_sections": true,
   "sideBar": true,
   "skip_h1_title": false,
   "title_cell": "Table of Contents",
   "title_sidebar": "Contents",
   "toc_cell": false,
   "toc_position": {},
   "toc_section_display": true,
   "toc_window_display": false
  }
 },
 "nbformat": 4,
 "nbformat_minor": 4
}
