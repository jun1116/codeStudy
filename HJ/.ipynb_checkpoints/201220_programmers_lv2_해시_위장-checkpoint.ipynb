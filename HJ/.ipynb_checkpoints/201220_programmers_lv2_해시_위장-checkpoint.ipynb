{
 "cells": [
  {
   "cell_type": "code",
   "execution_count": 96,
   "metadata": {
    "ExecuteTime": {
     "end_time": "2020-12-20T09:56:07.347067Z",
     "start_time": "2020-12-20T09:56:07.333078Z"
    }
   },
   "outputs": [],
   "source": [
    "p=\"()))((()\""
   ]
  },
  {
   "cell_type": "code",
   "execution_count": 75,
   "metadata": {
    "ExecuteTime": {
     "end_time": "2020-12-20T09:33:56.299735Z",
     "start_time": "2020-12-20T09:33:56.295735Z"
    }
   },
   "outputs": [
    {
     "data": {
      "text/plain": [
       "'()(())()'"
      ]
     },
     "execution_count": 75,
     "metadata": {},
     "output_type": "execute_result"
    }
   ],
   "source": [
    "def sol(p):\n",
    "    ans=''\n",
    "    if len(p)==0:return ''\n",
    "    tmp=div_uv(p)\n",
    "    u=tmp[0]\n",
    "    v=tmp[1]\n",
    "    if isgood(u):\n",
    "        ans+=u\n",
    "        ans+=sol(v)\n",
    "    else:\n",
    "        temp=flipPlus(u)\n",
    "        temp+=sol(v)\n",
    "        ans+=temp\n",
    "    return ans\n",
    "sol(p)"
   ]
  },
  {
   "cell_type": "code",
   "execution_count": 76,
   "metadata": {
    "ExecuteTime": {
     "end_time": "2020-12-20T09:34:06.154255Z",
     "start_time": "2020-12-20T09:34:06.134939Z"
    }
   },
   "outputs": [
    {
     "data": {
      "text/plain": [
       "('()', '))((()')"
      ]
     },
     "execution_count": 76,
     "metadata": {},
     "output_type": "execute_result"
    }
   ],
   "source": [
    "def div_uv(p):\n",
    "    if len(p)==0:return ''\n",
    "    up=0\n",
    "    down=0\n",
    "    for i,v in enumerate(p):\n",
    "        if v=='(':\n",
    "            up+=1\n",
    "        elif v==')':\n",
    "            down+=1\n",
    "        if up==down:\n",
    "            return p[:i+1], p[i+1:]\n",
    "div_uv(p)"
   ]
  },
  {
   "cell_type": "code",
   "execution_count": 62,
   "metadata": {
    "ExecuteTime": {
     "end_time": "2020-12-20T09:30:58.625268Z",
     "start_time": "2020-12-20T09:30:58.622203Z"
    }
   },
   "outputs": [],
   "source": [
    "def isgood(p):\n",
    "    if p[0]==')':return False\n",
    "    else:return True"
   ]
  },
  {
   "cell_type": "code",
   "execution_count": 82,
   "metadata": {
    "ExecuteTime": {
     "end_time": "2020-12-20T09:40:48.085558Z",
     "start_time": "2020-12-20T09:40:48.078271Z"
    }
   },
   "outputs": [
    {
     "data": {
      "text/plain": [
       "'((()))'"
      ]
     },
     "execution_count": 82,
     "metadata": {},
     "output_type": "execute_result"
    }
   ],
   "source": [
    "def flipPlus(u):\n",
    "    tmp=''\n",
    "    for i in u[1:-1]:\n",
    "        if i==')':tmp+='('\n",
    "        else: tmp+=')'\n",
    "    return '('+tmp+')'\n",
    "flipPlus(')))(((')"
   ]
  },
  {
   "cell_type": "code",
   "execution_count": 124,
   "metadata": {
    "ExecuteTime": {
     "end_time": "2020-12-20T10:04:16.450718Z",
     "start_time": "2020-12-20T10:04:16.436716Z"
    }
   },
   "outputs": [
    {
     "name": "stdout",
     "output_type": "stream",
     "text": [
      "()))((()\n"
     ]
    },
    {
     "data": {
      "text/plain": [
       "(<function __main__.<lambda>(x)>, ')))(((')"
      ]
     },
     "execution_count": 124,
     "metadata": {},
     "output_type": "execute_result"
    }
   ],
   "source": [
    "p=\"()))((()\"\n",
    "print(p)\n",
    "(lambda x:'(' if x==')' else '(', p[1:-1])"
   ]
  },
  {
   "cell_type": "code",
   "execution_count": 112,
   "metadata": {
    "ExecuteTime": {
     "end_time": "2020-12-20T09:58:37.638674Z",
     "start_time": "2020-12-20T09:58:37.629163Z"
    }
   },
   "outputs": [],
   "source": [
    "def solution(p):\n",
    "    ans=''\n",
    "    if len(p)==0:return ''\n",
    "    tmp=div_uv(p)\n",
    "    u=tmp[0]\n",
    "    v=tmp[1]\n",
    "    if isgood(u):\n",
    "        ans+=u\n",
    "        ans+=solution(v)\n",
    "    else:\n",
    "        temp='('\n",
    "        temp+=solution(v)\n",
    "        temp+=')'\n",
    "        temp+=flipPlus(u)\n",
    "        ans+=temp\n",
    "    return ans\n",
    "\n",
    "def div_uv(p):\n",
    "    if len(p)==0:return ''\n",
    "    up=0\n",
    "    down=0\n",
    "    for i,v in enumerate(p):\n",
    "        if v=='(':\n",
    "            up+=1\n",
    "        elif v==')':\n",
    "            down+=1\n",
    "        if up==down:\n",
    "            return p[:i+1], p[i+1:]\n",
    "def isgood(p):\n",
    "    if p[0]=='(' and p[-1]==')':return True\n",
    "    elif p[0]==')':return False\n",
    "    \n",
    "def flipPlus(p):\n",
    "    tmp=''\n",
    "    for i in p[1:-1]:\n",
    "        if i==')':\n",
    "            tmp+='('\n",
    "        else: \n",
    "            tmp+=')'\n",
    "    return tmp\n",
    "#     return '('+tmp+')'"
   ]
  },
  {
   "cell_type": "code",
   "execution_count": 113,
   "metadata": {
    "ExecuteTime": {
     "end_time": "2020-12-20T09:58:38.802458Z",
     "start_time": "2020-12-20T09:58:38.797464Z"
    }
   },
   "outputs": [
    {
     "name": "stdout",
     "output_type": "stream",
     "text": [
      "()))((()\n"
     ]
    },
    {
     "data": {
      "text/plain": [
       "'()(())()'"
      ]
     },
     "execution_count": 113,
     "metadata": {},
     "output_type": "execute_result"
    }
   ],
   "source": [
    "print(p)\n",
    "solution(p)"
   ]
  }
 ],
 "metadata": {
  "kernelspec": {
   "display_name": "Python 3",
   "language": "python",
   "name": "python3"
  },
  "language_info": {
   "codemirror_mode": {
    "name": "ipython",
    "version": 3
   },
   "file_extension": ".py",
   "mimetype": "text/x-python",
   "name": "python",
   "nbconvert_exporter": "python",
   "pygments_lexer": "ipython3",
   "version": "3.8.5"
  },
  "toc": {
   "base_numbering": 1,
   "nav_menu": {},
   "number_sections": true,
   "sideBar": true,
   "skip_h1_title": false,
   "title_cell": "Table of Contents",
   "title_sidebar": "Contents",
   "toc_cell": false,
   "toc_position": {},
   "toc_section_display": true,
   "toc_window_display": false
  }
 },
 "nbformat": 4,
 "nbformat_minor": 4
}
