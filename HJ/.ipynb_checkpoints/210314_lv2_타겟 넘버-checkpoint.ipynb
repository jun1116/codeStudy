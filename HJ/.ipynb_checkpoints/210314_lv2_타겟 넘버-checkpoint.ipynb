{
 "cells": [
  {
   "cell_type": "markdown",
   "metadata": {},
   "source": [
    "n개의 음이 아닌 정수가 있습니다. 이 수를 적절히 더하거나 빼서 타겟 넘버를 만들려고 합니다. 예를 들어 [1, 1, 1, 1, 1]로 숫자 3을 만들려면 다음 다섯 방법을 쓸 수 있습니다.\n",
    "```\n",
    "-1+1+1+1+1 = 3\n",
    "+1-1+1+1+1 = 3\n",
    "+1+1-1+1+1 = 3\n",
    "+1+1+1-1+1 = 3\n",
    "+1+1+1+1-1 = 3\n",
    "```\n",
    "사용할 수 있는 숫자가 담긴 배열 numbers, 타겟 넘버 target이 매개변수로 주어질 때 숫자를 적절히 더하고 빼서 타겟 넘버를 만드는 방법의 수를 return 하도록 solution 함수를 작성해주세요.\n",
    "\n",
    "제한사항\n",
    "주어지는 숫자의 개수는 2개 이상 20개 이하입니다.\n",
    "각 숫자는 1 이상 50 이하인 자연수입니다.\n",
    "타겟 넘버는 1 이상 1000 이하인 자연수입니다.\n",
    "입출력 예\n",
    "numbers|target|return\n",
    "---|---|---\n",
    "[1, 1, 1, 1, 1]|3|5\n",
    "\n"
   ]
  },
  {
   "cell_type": "code",
   "execution_count": 7,
   "metadata": {},
   "outputs": [],
   "source": [
    "def solution(numbers, target):\n",
    "    # 1. 트리만들기 -> 다음숫자를 더하거나 , 빼거나 , root = 0\n",
    "    tree = mktree(numbers)\n",
    "    \n",
    "    \n",
    "numbers=[1, 1, 1, 1, 1]\n",
    "solution([1, 1, 1, 1, 1], 3)"
   ]
  },
  {
   "cell_type": "code",
   "execution_count": 8,
   "metadata": {},
   "outputs": [
    {
     "name": "stdout",
     "output_type": "stream",
     "text": [
      "0\n"
     ]
    }
   ],
   "source": [
    "def mktree(numbers):\n",
    "    dic = {0:0}\n",
    "    print(dic[0])\n",
    "mktree(numbers)\n",
    "    "
   ]
  }
 ],
 "metadata": {
  "kernelspec": {
   "display_name": "Python 3",
   "language": "python",
   "name": "python3"
  },
  "language_info": {
   "codemirror_mode": {
    "name": "ipython",
    "version": 3
   },
   "file_extension": ".py",
   "mimetype": "text/x-python",
   "name": "python",
   "nbconvert_exporter": "python",
   "pygments_lexer": "ipython3",
   "version": "3.8.5"
  }
 },
 "nbformat": 4,
 "nbformat_minor": 4
}
