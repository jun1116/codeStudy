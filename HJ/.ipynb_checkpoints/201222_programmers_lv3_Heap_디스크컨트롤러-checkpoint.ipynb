{
 "cells": [
  {
   "cell_type": "code",
   "execution_count": 42,
   "metadata": {
    "ExecuteTime": {
     "end_time": "2020-12-22T03:20:18.413351Z",
     "start_time": "2020-12-22T03:20:18.409095Z"
    }
   },
   "outputs": [],
   "source": [
    "import heapq\n",
    "jobs = [[24, 10], [28, 39], [43, 20], [37, 5], [47, 22], [20, 47], [15, 34], [15, 2], [35, 43], [26, 1]]\n",
    "# 72, [[24, 10], [28, 39], [43, 20], [37, 5], [47, 22], [20, 47], [15, 2], [15, 34], [35, 43], [26, 1]]\n"
   ]
  },
  {
   "cell_type": "code",
   "execution_count": 11,
   "metadata": {
    "ExecuteTime": {
     "end_time": "2020-12-22T02:59:10.162375Z",
     "start_time": "2020-12-22T02:59:10.155374Z"
    }
   },
   "outputs": [
    {
     "name": "stdout",
     "output_type": "stream",
     "text": [
      "[[15, 2], [15, 34], [20, 47], [24, 10], [26, 1], [28, 39], [35, 43], [37, 5], [43, 20], [47, 22]]\n"
     ]
    }
   ],
   "source": [
    "print(sorted(jobs[:],key=lambda x:(x[0],x[1])))"
   ]
  },
  {
   "cell_type": "code",
   "execution_count": null,
   "metadata": {},
   "outputs": [],
   "source": []
  },
  {
   "cell_type": "code",
   "execution_count": 58,
   "metadata": {
    "ExecuteTime": {
     "end_time": "2020-12-22T05:16:23.785828Z",
     "start_time": "2020-12-22T05:16:23.769831Z"
    }
   },
   "outputs": [
    {
     "name": "stdout",
     "output_type": "stream",
     "text": [
      "[15, 2] 17\n",
      "[15, 34] 51\n",
      "[20, 47] 98\n",
      "[24, 10] 108\n",
      "[26, 1] 109\n",
      "[28, 39] 148\n",
      "[35, 43] 191\n",
      "[37, 5] 196\n",
      "[43, 20] 216\n",
      "[47, 22] 238\n",
      "[[15, 2]]\n"
     ]
    }
   ],
   "source": [
    "def solution(jobs):\n",
    "    answer=0\n",
    "    current=0\n",
    "    hq=[]\n",
    "    jobs=sorted(jobs[:],key=lambda x:(x[0],x[1]))\n",
    "    \n",
    "    current=jobs[0][0] # 15\n",
    "    heapq.heappush(hq,jobs[0]) \n",
    "    \n",
    "    \n",
    "    while jobs:\n",
    "        now=jobs.pop(0)\n",
    "        current+=now[1]\n",
    "        print(now,current)\n",
    "    print(hq)\n",
    "        \n",
    "jobs=[[24, 10], [28, 39], [43, 20], [37, 5], [47, 22], [20, 47], [15, 34], [15, 2], [35, 43], [26, 1]]            \n",
    "solution(jobs)"
   ]
  },
  {
   "cell_type": "code",
   "execution_count": null,
   "metadata": {},
   "outputs": [],
   "source": []
  },
  {
   "cell_type": "code",
   "execution_count": null,
   "metadata": {},
   "outputs": [],
   "source": []
  },
  {
   "cell_type": "code",
   "execution_count": null,
   "metadata": {},
   "outputs": [],
   "source": []
  }
 ],
 "metadata": {
  "kernelspec": {
   "display_name": "Python 3",
   "language": "python",
   "name": "python3"
  },
  "language_info": {
   "codemirror_mode": {
    "name": "ipython",
    "version": 3
   },
   "file_extension": ".py",
   "mimetype": "text/x-python",
   "name": "python",
   "nbconvert_exporter": "python",
   "pygments_lexer": "ipython3",
   "version": "3.8.5"
  },
  "toc": {
   "base_numbering": 1,
   "nav_menu": {},
   "number_sections": true,
   "sideBar": true,
   "skip_h1_title": false,
   "title_cell": "Table of Contents",
   "title_sidebar": "Contents",
   "toc_cell": false,
   "toc_position": {},
   "toc_section_display": true,
   "toc_window_display": false
  }
 },
 "nbformat": 4,
 "nbformat_minor": 4
}
