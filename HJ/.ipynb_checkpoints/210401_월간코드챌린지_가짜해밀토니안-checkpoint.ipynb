{
 "cells": [
  {
   "cell_type": "code",
   "execution_count": 48,
   "id": "inner-conference",
   "metadata": {
    "execution": {
     "iopub.execute_input": "2021-04-01T17:19:42.921914Z",
     "iopub.status.busy": "2021-04-01T17:19:42.921691Z",
     "iopub.status.idle": "2021-04-01T17:19:42.934721Z",
     "shell.execute_reply": "2021-04-01T17:19:42.934107Z",
     "shell.execute_reply.started": "2021-04-01T17:19:42.921890Z"
    },
    "tags": []
   },
   "outputs": [
    {
     "data": {
      "text/plain": [
       "({'5': ['1', '2', '3'],\n",
       "  '1': ['5'],\n",
       "  '2': ['5', '4'],\n",
       "  '3': ['5', '6'],\n",
       "  '6': ['3'],\n",
       "  '4': ['2', '0'],\n",
       "  '0': ['4']},\n",
       " ['1', '6', '0'])"
      ]
     },
     "execution_count": 48,
     "metadata": {},
     "output_type": "execute_result"
    }
   ],
   "source": [
    "def solution(t):\n",
    "    answer = 0\n",
    "    tree=mktree(t)\n",
    "    \n",
    "    for i in tree.keys():\n",
    "        answer = max(answer, dfs(tree,str(i)))\n",
    "        if len(tree.keys())==answer:\n",
    "            return answer\n",
    "        print(i, answer)\n",
    "    return answer\n",
    "\n",
    "def mktree(t):\n",
    "    dic = {}\n",
    "    terminals=[]\n",
    "    for v in t:\n",
    "        i = [str(tmp) for tmp in v]\n",
    "        now = dic.get(i[0])\n",
    "        if now:\n",
    "            now.append(i[1])\n",
    "        else:\n",
    "            dic[i[0]] = [i[1]]\n",
    "        now = dic.get(i[1])\n",
    "        if now:\n",
    "            now.append(i[0])\n",
    "        else:\n",
    "            dic[i[1]] = [i[0]]\n",
    "    for key in dic.keys():\n",
    "        if len(dic[key])==1:\n",
    "            terminals.append(key)\n",
    "    return dic, terminals\n",
    "\n",
    "def dfs(tree,st):\n",
    "    stack=[st,]\n",
    "    visited=[]\n",
    "    visitcount=[0 for i in tree.keys()]\n",
    "    while stack:\n",
    "        now = stack.pop()\n",
    "        visitcount[int(now)]+=1\n",
    "        if visitcount[int(now)] > 2:break\n",
    "        if now in visited:\n",
    "            continue\n",
    "        else:\n",
    "            visited.append(now)\n",
    "            apen=tree.get(now)\n",
    "            if apen:\n",
    "                stack.extend(apen)\n",
    "    return len(visited)\n",
    "t=[[5,1],[2,5],[3,5],[3,6],[2,4],[4,0]]\n",
    "# t=[[2,5],[2,0],[3,2],[4,2],[2,1]]\n",
    "# solution(t)\n",
    "mktree(t)"
   ]
  },
  {
   "cell_type": "code",
   "execution_count": 40,
   "id": "green-lewis",
   "metadata": {
    "execution": {
     "iopub.execute_input": "2021-04-01T17:04:15.107535Z",
     "iopub.status.busy": "2021-04-01T17:04:15.107271Z",
     "iopub.status.idle": "2021-04-01T17:04:15.112934Z",
     "shell.execute_reply": "2021-04-01T17:04:15.111749Z",
     "shell.execute_reply.started": "2021-04-01T17:04:15.107511Z"
    },
    "tags": []
   },
   "outputs": [
    {
     "data": {
      "text/plain": [
       "{'5': ['1', '2', '3'],\n",
       " '1': ['5'],\n",
       " '2': ['5', '4'],\n",
       " '3': ['5', '6'],\n",
       " '6': ['3'],\n",
       " '4': ['2', '0'],\n",
       " '0': ['4']}"
      ]
     },
     "execution_count": 40,
     "metadata": {},
     "output_type": "execute_result"
    }
   ],
   "source": [
    "mktree(t)"
   ]
  },
  {
   "cell_type": "code",
   "execution_count": null,
   "id": "vietnamese-evidence",
   "metadata": {},
   "outputs": [],
   "source": []
  },
  {
   "cell_type": "code",
   "execution_count": null,
   "id": "boxed-impact",
   "metadata": {},
   "outputs": [],
   "source": []
  }
 ],
 "metadata": {
  "kernelspec": {
   "display_name": "Python 3",
   "language": "python",
   "name": "python3"
  },
  "language_info": {
   "codemirror_mode": {
    "name": "ipython",
    "version": 3
   },
   "file_extension": ".py",
   "mimetype": "text/x-python",
   "name": "python",
   "nbconvert_exporter": "python",
   "pygments_lexer": "ipython3",
   "version": "3.8.0"
  }
 },
 "nbformat": 4,
 "nbformat_minor": 5
}
