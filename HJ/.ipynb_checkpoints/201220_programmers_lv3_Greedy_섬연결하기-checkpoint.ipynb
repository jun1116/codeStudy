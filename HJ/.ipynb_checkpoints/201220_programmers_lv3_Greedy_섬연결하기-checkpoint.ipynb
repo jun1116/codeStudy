{
 "cells": [
  {
   "cell_type": "code",
   "execution_count": 1,
   "metadata": {
    "ExecuteTime": {
     "end_time": "2020-12-20T10:36:23.493721Z",
     "start_time": "2020-12-20T10:36:23.483716Z"
    }
   },
   "outputs": [],
   "source": [
    "clothes=[[\"yellow_hat\", \"headgear\"], [\"blue_sunglasses\", \"eyewear\"], [\"green_turban\", \"headgear\"]]"
   ]
  },
  {
   "cell_type": "code",
   "execution_count": 24,
   "metadata": {
    "ExecuteTime": {
     "end_time": "2020-12-20T10:41:45.541559Z",
     "start_time": "2020-12-20T10:41:45.521716Z"
    }
   },
   "outputs": [
    {
     "data": {
      "text/plain": [
       "5"
      ]
     },
     "execution_count": 24,
     "metadata": {},
     "output_type": "execute_result"
    }
   ],
   "source": [
    "def solution(clothes):\n",
    "    answer = 0\n",
    "    dic={}\n",
    "    for item in clothes:\n",
    "        tmp=dic.get(item[1])\n",
    "        if tmp:\n",
    "            tmp.append(item[0])\n",
    "        else:\n",
    "            dic[item[1]]=[item[0]]\n",
    "    #2+1+2*1\n",
    "    comb=1\n",
    "    for i,v in dic.items():\n",
    "        answer+=len(v)\n",
    "        comb *=len(v)\n",
    "    if dic.keys()==1:comb=0\n",
    "    return answer+comb\n",
    "solution(clothes)"
   ]
  },
  {
   "cell_type": "code",
   "execution_count": 21,
   "metadata": {
    "ExecuteTime": {
     "end_time": "2020-12-20T10:41:10.199113Z",
     "start_time": "2020-12-20T10:41:10.194119Z"
    }
   },
   "outputs": [
    {
     "data": {
      "text/plain": [
       "2"
      ]
     },
     "execution_count": 21,
     "metadata": {},
     "output_type": "execute_result"
    }
   ],
   "source": [
    "len(dic.keys())\n"
   ]
  }
 ],
 "metadata": {
  "kernelspec": {
   "display_name": "Python 3",
   "language": "python",
   "name": "python3"
  },
  "language_info": {
   "codemirror_mode": {
    "name": "ipython",
    "version": 3
   },
   "file_extension": ".py",
   "mimetype": "text/x-python",
   "name": "python",
   "nbconvert_exporter": "python",
   "pygments_lexer": "ipython3",
   "version": "3.8.5"
  },
  "toc": {
   "base_numbering": 1,
   "nav_menu": {},
   "number_sections": true,
   "sideBar": true,
   "skip_h1_title": false,
   "title_cell": "Table of Contents",
   "title_sidebar": "Contents",
   "toc_cell": false,
   "toc_position": {},
   "toc_section_display": true,
   "toc_window_display": false
  }
 },
 "nbformat": 4,
 "nbformat_minor": 4
}
