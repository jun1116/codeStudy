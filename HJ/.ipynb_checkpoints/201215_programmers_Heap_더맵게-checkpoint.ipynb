{
 "cells": [
  {
   "cell_type": "code",
   "execution_count": 1,
   "metadata": {
    "ExecuteTime": {
     "end_time": "2020-12-15T16:37:25.283611Z",
     "start_time": "2020-12-15T16:37:25.258794Z"
    }
   },
   "outputs": [
    {
     "name": "stdout",
     "output_type": "stream",
     "text": [
      "[1, 2, 3, 9, 10, 12]\n"
     ]
    },
    {
     "data": {
      "text/plain": [
       "2"
      ]
     },
     "execution_count": 1,
     "metadata": {},
     "output_type": "execute_result"
    }
   ],
   "source": [
    "scoville=[1, 2, 3, 9, 10, 12]\t\n",
    "K=7\n",
    "def solution(scoville, K):\n",
    "    answer = 0\n",
    "    tmp=sorted(scoville)\n",
    "    print(tmp)\n",
    "    while forWhile(tmp,K)!=True:\n",
    "        answer+=1\n",
    "        sco=tmp[0]+tmp[1]*2\n",
    "        tmp.append(sco)\n",
    "        tmp=sorted(tmp[2:])\n",
    "    return answer\n",
    "\n",
    "def forWhile(list,k):\n",
    "    for i in list:\n",
    "        if i<k:return False\n",
    "    return True\n",
    "solution(scoville,K)"
   ]
  },
  {
   "cell_type": "code",
   "execution_count": 3,
   "metadata": {
    "ExecuteTime": {
     "end_time": "2020-12-15T16:37:33.490592Z",
     "start_time": "2020-12-15T16:37:33.479840Z"
    }
   },
   "outputs": [],
   "source": [
    "class Node:\n",
    "    def __init__(self):\n",
    "        self.value=None\n",
    "        self.left=None\n",
    "        self.right=None\n",
    "    def setNode(self,lis):\n",
    "        self.value=lis\n",
    "    def setLChild(self,node):\n",
    "        self.left=node\n",
    "    def setRChild(self,node):\n",
    "        self.right=node\n",
    "    def getleft(self):\n",
    "        return self.left\n",
    "    def getright(self):\n",
    "        return self.right\n",
    "    def inserted(self,node):\n",
    "        if self.value<node.value:\n",
    "            tmp=node\n",
    "            \n",
    "\n",
    "class minHeap:\n",
    "    def __init__(self):\n",
    "        self.root=None\n",
    "    \n",
    "    def insert(self,node):\n",
    "        if self.root==None:\n",
    "            self.root=node\n",
    "        else:\n",
    "            pass\n",
    "            \n",
    "        \n",
    "    "
   ]
  }
 ],
 "metadata": {
  "kernelspec": {
   "display_name": "Python 3",
   "language": "python",
   "name": "python3"
  },
  "language_info": {
   "codemirror_mode": {
    "name": "ipython",
    "version": 3
   },
   "file_extension": ".py",
   "mimetype": "text/x-python",
   "name": "python",
   "nbconvert_exporter": "python",
   "pygments_lexer": "ipython3",
   "version": "3.8.5"
  },
  "toc": {
   "base_numbering": 1,
   "nav_menu": {},
   "number_sections": true,
   "sideBar": true,
   "skip_h1_title": false,
   "title_cell": "Table of Contents",
   "title_sidebar": "Contents",
   "toc_cell": false,
   "toc_position": {},
   "toc_section_display": true,
   "toc_window_display": false
  }
 },
 "nbformat": 4,
 "nbformat_minor": 4
}
