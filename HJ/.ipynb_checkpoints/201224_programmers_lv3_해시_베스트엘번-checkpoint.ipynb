{
 "cells": [
  {
   "cell_type": "code",
   "execution_count": 1,
   "metadata": {
    "ExecuteTime": {
     "end_time": "2020-12-24T13:58:54.038152Z",
     "start_time": "2020-12-24T13:58:54.034151Z"
    }
   },
   "outputs": [],
   "source": [
    "genres=[\"classic\", \"pop\", \"classic\", \"classic\", \"pop\"]\n",
    "plays=[500, 600, 150, 800, 2500]"
   ]
  },
  {
   "cell_type": "code",
   "execution_count": 23,
   "metadata": {
    "ExecuteTime": {
     "end_time": "2020-12-24T14:18:54.285812Z",
     "start_time": "2020-12-24T14:18:54.267807Z"
    }
   },
   "outputs": [
    {
     "name": "stdout",
     "output_type": "stream",
     "text": [
      "{'classic': [[800, 3], [500, 0], [150, 2]], 'pop': [[2500, 4], [600, 1], [600, 6]], 'kk': [[1555, 5]]}\n",
      "[[3700, 'pop'], [1555, 'kk'], [1450, 'classic']]\n"
     ]
    },
    {
     "data": {
      "text/plain": [
       "[4, 1, 5, 3, 0]"
      ]
     },
     "execution_count": 23,
     "metadata": {},
     "output_type": "execute_result"
    }
   ],
   "source": [
    "def solution(genres, plays):\n",
    "    answer = []\n",
    "    dic=dict()\n",
    "    for i,v in enumerate(zip(genres,plays)):\n",
    "        tmp=dic.get(v[0])\n",
    "        if tmp:\n",
    "            tmp.append([v[1],i])\n",
    "        else:\n",
    "            dic[v[0]] = [[v[1],i]]\n",
    "    \n",
    "    keyorder=[]\n",
    "    \n",
    "    for key in dic.keys():\n",
    "        #sort\n",
    "        tmp=sorted(dic[key],key=lambda x:x[0],reverse=True)\n",
    "        #sum\n",
    "        summ=0\n",
    "        for i in tmp:\n",
    "            summ+=i[0]\n",
    "        dic[key]=tmp\n",
    "        keyorder.append([summ,key])\n",
    "    \n",
    "\n",
    "    keyorder=sorted(keyorder,reverse=True)\n",
    "    \n",
    "    for key in keyorder:\n",
    "        tmp=dic.get(key[1])\n",
    "        answer.append(tmp[0][1])\n",
    "        try:\n",
    "            answer.append(tmp[1][1])\n",
    "        except:\n",
    "            continue\n",
    "    print(dic)\n",
    "    print(keyorder)\n",
    "    return answer\n",
    "#           0        1        2          3       4     5     6\n",
    "genres=[\"classic\", \"pop\", \"classic\", \"classic\", \"pop\",'kk','pop']\n",
    "plays=  [500,       600,     150,       800,    2500, 1555, 600]\n",
    "solution(genres,plays)"
   ]
  },
  {
   "cell_type": "code",
   "execution_count": null,
   "metadata": {},
   "outputs": [],
   "source": []
  },
  {
   "cell_type": "code",
   "execution_count": null,
   "metadata": {},
   "outputs": [],
   "source": []
  },
  {
   "cell_type": "code",
   "execution_count": null,
   "metadata": {},
   "outputs": [],
   "source": []
  },
  {
   "cell_type": "code",
   "execution_count": null,
   "metadata": {},
   "outputs": [],
   "source": []
  },
  {
   "cell_type": "code",
   "execution_count": null,
   "metadata": {},
   "outputs": [],
   "source": []
  },
  {
   "cell_type": "code",
   "execution_count": null,
   "metadata": {},
   "outputs": [],
   "source": []
  },
  {
   "cell_type": "code",
   "execution_count": null,
   "metadata": {},
   "outputs": [],
   "source": []
  }
 ],
 "metadata": {
  "kernelspec": {
   "display_name": "Python 3",
   "language": "python",
   "name": "python3"
  },
  "language_info": {
   "codemirror_mode": {
    "name": "ipython",
    "version": 3
   },
   "file_extension": ".py",
   "mimetype": "text/x-python",
   "name": "python",
   "nbconvert_exporter": "python",
   "pygments_lexer": "ipython3",
   "version": "3.8.5"
  },
  "toc": {
   "base_numbering": 1,
   "nav_menu": {},
   "number_sections": true,
   "sideBar": true,
   "skip_h1_title": false,
   "title_cell": "Table of Contents",
   "title_sidebar": "Contents",
   "toc_cell": false,
   "toc_position": {},
   "toc_section_display": true,
   "toc_window_display": false
  }
 },
 "nbformat": 4,
 "nbformat_minor": 4
}
