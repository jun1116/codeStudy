{
 "cells": [
  {
   "cell_type": "code",
   "execution_count": 19,
   "metadata": {},
   "outputs": [
    {
     "name": "stdout",
     "output_type": "stream",
     "text": [
      "[0, 24, 24, None, 25, 25, None, None, 30, 30, None, 27, 27, None, None, None, 23, 23, None, 20, 20, None, None, 17, 17, None, 21, 21, None, None, None, None, 28, 28, None, 25, 25, None, None, 22, 22, None, 26, 26, None, None, None, 21, 21, None, 25, 25, None, None, 25, 25, None, 24, 24, None, None, None, None]\n"
     ]
    }
   ],
   "source": [
    "def solution(triangle):\n",
    "    answer = 0\n",
    "    # len(triangle) \n",
    "    table=[0 for i in triangle]\n",
    "    \n",
    "    def up2bot(triangle, now, lv, index, table):\n",
    "        if lv==len(triangle) : return now\n",
    "        \n",
    "        tmp=now+triangle[lv][index]\n",
    "        \n",
    "        # now+=triangle[lv][index]\n",
    "        # lv * (lv+1) / 2 -> 현재 레벨 인덱스 시작\n",
    "        \n",
    "        up2bot(triangle,tmp,lv+1, index, table)\n",
    "        up2bot(triangle,tmp,lv+1, index+1, table)\n",
    "        \n",
    "\n",
    "    up2bot(triangle,0,0,0,table)\n",
    "\n",
    "    print(table)\n",
    "    answer+=len(triangle)\n",
    "    return \n",
    "\n",
    "solution([[7], [3, 8], [8, 1, 0], [2, 7, 4, 4], [4, 5, 2, 6, 5]]) #30\n"
   ]
  }
 ],
 "metadata": {
  "kernelspec": {
   "display_name": "Python 3",
   "language": "python",
   "name": "python3"
  },
  "language_info": {
   "codemirror_mode": {
    "name": "ipython",
    "version": 3
   },
   "file_extension": ".py",
   "mimetype": "text/x-python",
   "name": "python",
   "nbconvert_exporter": "python",
   "pygments_lexer": "ipython3",
   "version": "3.8.5"
  }
 },
 "nbformat": 4,
 "nbformat_minor": 2
}
