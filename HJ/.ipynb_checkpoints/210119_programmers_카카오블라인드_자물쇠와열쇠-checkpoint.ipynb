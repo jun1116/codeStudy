{
 "cells": [
  {
   "cell_type": "code",
   "execution_count": 33,
   "metadata": {
    "scrolled": true
   },
   "outputs": [
    {
     "name": "stdout",
     "output_type": "stream",
     "text": [
      "[[0, 0, 0, 0, 0, 0, 0], [0, 0, 0, 0, 0, 0, 0], [0, 0, 1, 1, 1, 0, 0], [0, 0, 1, 1, 1, 0, 0], [0, 0, 1, 1, 1, 0, 0], [0, 0, 0, 1, 0, 0, 0], [0, 0, 0, 0, 0, 0, 0]]\n"
     ]
    },
    {
     "data": {
      "text/plain": [
       "True"
      ]
     },
     "execution_count": 33,
     "metadata": {},
     "output_type": "execute_result"
    }
   ],
   "source": [
    "def solution(key, lock):\n",
    "    space = mkspace(key,lock)\n",
    "    \n",
    "    for turn in range(4):\n",
    "        if turn==0:\n",
    "            if insertkey(key,lock) == True :\n",
    "                return True\n",
    "        else:\n",
    "            key=turn90key(key)\n",
    "            if insertkey(key,lock) == True :\n",
    "                return True\n",
    "    return False\n",
    "\n",
    "def mkspace(key,lock):\n",
    "    space=[[0 for i in range(2*(len(key)-1) + len(lock))] for _ in range(2*(len(key)-1) + len(lock))]\n",
    "    for i in range(len(lock)):\n",
    "        for j in range(len(lock)):\n",
    "            space[i+len(key)-1][j+len(key)-1] = lock[i][j]\n",
    "    return space\n",
    "\n",
    "def insert(space,index,key):\n",
    "    si=index[0]\n",
    "    sj=index[1]\n",
    "    for i in range(len(key)):\n",
    "        for j in range(len(key)):\n",
    "            space[si+i][sj+j]+=key[i][j]\n",
    "    return space\n",
    "    \n",
    "def insertkey(key, lock):\n",
    "    lenspace=2*(len(key)-1) + len(lock)\n",
    "    lenkey=len(key)\n",
    "    for i in range(0,lenspace-lenkey+1):\n",
    "        for j in range(0,lenspace-lenkey+1):\n",
    "            tmpspace=insert( mkspace(key,lock), [i,j], key )\n",
    "            if check(tmpspace,key,lock)== True:\n",
    "                return True\n",
    "    return False\n",
    "\n",
    "def turn90key(key):\n",
    "    lenkey=len(key)\n",
    "    tmp=[[0 for _ in range(lenkey)] for _ in range(lenkey)]\n",
    "    for i in range(lenkey):\n",
    "        for j in range(lenkey):\n",
    "            tmp[i][j] = key[lenkey-j-1][i]\n",
    "    return tmp\n",
    "\n",
    "def check(space,key,lock):\n",
    "    for i in range(len(lock)):\n",
    "        for j in range(len(lock)):\n",
    "            if space[i+len(key)-1][j+len(key)-1] == 0:\n",
    "                return False\n",
    "    return True\n",
    "\n",
    "key =[[0, 0, 0], [1, 0, 0], [0, 1, 1]]\n",
    "lock=[[1, 1, 1], [1, 1, 0], [1, 0, 1]]\n",
    "solution(key,lock)\n"
   ]
  },
  {
   "cell_type": "code",
   "execution_count": 9,
   "metadata": {},
   "outputs": [
    {
     "data": {
      "text/plain": [
       "([[1, 0, 0], [1, 0, 0], [0, 1, 1]], [[1, 0, 0], [1, 0, 0], [0, 1, 1]])"
      ]
     },
     "execution_count": 9,
     "metadata": {},
     "output_type": "execute_result"
    }
   ],
   "source": [
    "tmp=key[:]\n",
    "tmp[0][0]=1\n",
    "tmp,key"
   ]
  },
  {
   "cell_type": "code",
   "execution_count": null,
   "metadata": {},
   "outputs": [],
   "source": []
  },
  {
   "cell_type": "code",
   "execution_count": null,
   "metadata": {},
   "outputs": [],
   "source": []
  },
  {
   "cell_type": "code",
   "execution_count": null,
   "metadata": {},
   "outputs": [],
   "source": []
  },
  {
   "cell_type": "markdown",
   "metadata": {},
   "source": [
    "## 최종 제출 코드"
   ]
  },
  {
   "cell_type": "code",
   "execution_count": null,
   "metadata": {},
   "outputs": [],
   "source": []
  },
  {
   "cell_type": "code",
   "execution_count": null,
   "metadata": {},
   "outputs": [],
   "source": []
  },
  {
   "cell_type": "code",
   "execution_count": null,
   "metadata": {},
   "outputs": [],
   "source": []
  }
 ],
 "metadata": {
  "kernelspec": {
   "display_name": "Python 3",
   "language": "python",
   "name": "python3"
  },
  "language_info": {
   "codemirror_mode": {
    "name": "ipython",
    "version": 3
   },
   "file_extension": ".py",
   "mimetype": "text/x-python",
   "name": "python",
   "nbconvert_exporter": "python",
   "pygments_lexer": "ipython3",
   "version": "3.8.5"
  }
 },
 "nbformat": 4,
 "nbformat_minor": 2
}
