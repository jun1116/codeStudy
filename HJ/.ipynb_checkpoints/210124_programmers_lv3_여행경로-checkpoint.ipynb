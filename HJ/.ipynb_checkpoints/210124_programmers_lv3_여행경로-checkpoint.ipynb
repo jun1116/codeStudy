{
 "cells": [
  {
   "cell_type": "markdown",
   "metadata": {},
   "source": [
    "주어진 경로의 항공권을 모두 이용\n",
    "항공권정보 티켓을 통해 방문하는 공항의 경로를 담아 return\n",
    "[a,b] 는 a공항에서 b공항으로 가는 단일경로 하나를 의미\n",
    "모든도시를 방문할 수 없는 경우는 주어지지 않음\n",
    "가능한 경로가 2개이상일 때 알파벳 순서 앞서는공항으로 먼저 감"
   ]
  },
  {
   "cell_type": "code",
   "execution_count": 26,
   "metadata": {},
   "outputs": [
    {
     "data": {
      "text/plain": [
       "['ICN', 'ATL', 'ICN', 'SFO', 'ATL', 'SFO']"
      ]
     },
     "execution_count": 26,
     "metadata": {},
     "output_type": "execute_result"
    }
   ],
   "source": [
    "def solution(tickets):\n",
    "    answer = []\n",
    "    dic=mkgraph(tickets)\n",
    "    answer = DFS(dic)\n",
    "    return answer\n",
    "\n",
    "\n",
    "def DFS(graph):\n",
    "    order=['ICN']\n",
    "    visited=['ICN']\n",
    "    stack=sorted(graph['ICN'],reverse=True)\n",
    "    while stack:\n",
    "#         print(visited, stack)\n",
    "        now=stack.pop()\n",
    "#         print('NOW -> ',now )\n",
    "        order.append(now)\n",
    "        if now in visited : continue\n",
    "        else:\n",
    "            visited.append(now)\n",
    "            tmp=graph.get(now)\n",
    "            if tmp:\n",
    "                stack.extend(sorted(tmp,reverse=True))\n",
    "            else:break\n",
    "    return order\n",
    "\n",
    "def mkgraph(tickets):\n",
    "    dic=dict()\n",
    "    for f,t in tickets:\n",
    "        now=dic.get(f)\n",
    "        if now:\n",
    "            now.append(t)\n",
    "        else:\n",
    "            dic[f]=[t]\n",
    "    return dic\n",
    "# tickets=[[\"ICN\", \"JFK\"], [\"HND\", \"IAD\"], [\"JFK\", \"HND\"]]\n",
    "tickets=[[\"ICN\", \"SFO\"], [\"ICN\", \"ATL\"], [\"SFO\", \"ATL\"], [\"ATL\", \"ICN\"], [\"ATL\", \"SFO\"]]\n",
    "# solution([[\"ICN\", \"JFK\"], [\"HND\", \"IAD\"], [\"JFK\", \"HND\"]])\n",
    "solution([[\"ICN\", \"SFO\"], [\"ICN\", \"ATL\"], [\"SFO\", \"ATL\"], [\"ATL\", \"ICN\"], [\"ATL\", \"SFO\"]])\n",
    "# mkgraph(tickets)"
   ]
  },
  {
   "cell_type": "code",
   "execution_count": 24,
   "metadata": {
    "tags": []
   },
   "outputs": [
    {
     "name": "stdout",
     "output_type": "stream",
     "text": [
      "['ICN', 'ATL', 'SFO', 'ICN', 'SFO', 'ATL']\n"
     ]
    }
   ],
   "source": [
    "def BFS(graph, start='ICN'):\n",
    "    visited=[start]\n",
    "    order=[start]\n",
    "    que=sorted(graph[start])\n",
    "    while que:\n",
    "        now=que.pop(0)\n",
    "        order.append(now)\n",
    "        if now in visited:continue\n",
    "        visited.append(now)\n",
    "        tmp=graph.get(now)\n",
    "        if tmp:\n",
    "            que.extend(sorted(tmp))\n",
    "        # else: break\n",
    "    print(order)\n",
    "    # print(visited)\n",
    "\n",
    "\n",
    "BFS(mkgraph(tickets))"
   ]
  },
  {
   "cell_type": "code",
   "execution_count": null,
   "metadata": {},
   "outputs": [],
   "source": []
  },
  {
   "cell_type": "code",
   "execution_count": null,
   "metadata": {},
   "outputs": [],
   "source": []
  },
  {
   "cell_type": "code",
   "execution_count": 32,
   "metadata": {},
   "outputs": [
    {
     "name": "stdout",
     "output_type": "stream",
     "text": [
      "{'ICN': ['B', 'A'], 'B': ['ICN'], 'A': ['D'], 'D': ['A']}\n",
      "\n"
     ]
    },
    {
     "data": {
      "text/plain": [
       "['ICN', 'A', 'D', 'A']"
      ]
     },
     "execution_count": 32,
     "metadata": {},
     "output_type": "execute_result"
    }
   ],
   "source": [
    "# tickets = [[\"ICN\", \"SFO\"], [\"ICN\", \"ATL\"], [\"SFO\", \"ATL\"], [\"ATL\", \"ICN\"], [\"ATL\",\"SFO\"]]\n",
    "# tickets = [[\"ICN\", \"A\"], [\"A\", \"B\"], [\"B\", \"C\"], [\"C\", \"A\"], [\"A\",\"D\"],['D','ICN'],['D','Z'],['ICN','D']]\n",
    "# [[\"ICN\", \"JFK\"], [\"HND\", \"IAD\"], [\"JFK\", \"HND\"]]\n",
    "\n",
    "##반례 :: ICN > B > ICN > A > D > A 의 순서로 되어야함. 그러나 ICN > A > D > A 에서 끝나게되어버림 \n",
    "tickets = [['ICN','B'],['B','ICN'],['ICN','A'],['A','D'],['D','A']]\n",
    "\n",
    "def mkgraph(tickets):\n",
    "    dic = dict()\n",
    "    for fr,to in tickets:\n",
    "        now = dic.get(fr)\n",
    "        if now:\n",
    "            now.append(to)\n",
    "        else:\n",
    "            dic[fr] = [to]\n",
    "    return dic\n",
    "\n",
    "def dfs(tree, st='ICN'):\n",
    "    visited=[]\n",
    "    stack=[st,]\n",
    "    while stack:\n",
    "        now = stack.pop()\n",
    "        if now in visited:\n",
    "            continue\n",
    "        else:\n",
    "            visited.append(now)\n",
    "            new=tree.get(now)\n",
    "            if new:\n",
    "                stack.extend(sorted(new))\n",
    "    return visited\n",
    "\n",
    "def travel(tickets, st='ICN'):\n",
    "    graph = mkgraph(tickets)\n",
    "    visit=[st,]\n",
    "    fr=st\n",
    "    \n",
    "    while True:\n",
    "        try:\n",
    "            now = sorted(graph.get(fr)).pop(0)\n",
    "        except:\n",
    "            break\n",
    "        graph[fr].remove(now)\n",
    "        fr=now\n",
    "        visit.append(now)\n",
    "    return visit\n",
    "#         print(graph)\n",
    "#         print(visit)\n",
    "#         print()\n",
    "#     print(now)\n",
    "    \n",
    "        \n",
    "    \n",
    "    return \n",
    "print(mkgraph(tickets));print()\n",
    "travel(tickets)"
   ]
  },
  {
   "cell_type": "code",
   "execution_count": 41,
   "metadata": {},
   "outputs": [
    {
     "data": {
      "text/plain": [
       "['ICN', 'A', 'D', 'B']"
      ]
     },
     "execution_count": 41,
     "metadata": {},
     "output_type": "execute_result"
    }
   ],
   "source": [
    "global ticketNum\n",
    "ticketNum = len(tickets)\n",
    "tickets = [['ICN','B'],['B','ICN'],['ICN','A'],['A','D'],['D','A']]\n",
    "\n",
    "def dfs_recursive(graph, st='ICN', visited=[]):\n",
    "    visited.append(st)\n",
    "    for node in sorted(graph[st]):\n",
    "        if node not in visited:\n",
    "            dfs_recursive(graph,node,visited)\n",
    "        \n",
    "    return visited\n",
    "\n",
    "dfs_recursive(mkgraph(tickets))"
   ]
  },
  {
   "cell_type": "code",
   "execution_count": 81,
   "metadata": {},
   "outputs": [
    {
     "name": "stdout",
     "output_type": "stream",
     "text": [
      "{'ICN': ['A', 'B'], 'B': ['ICN'], 'A': ['D'], 'D': ['A']}\n",
      "ICN ['ICN']\n",
      "{'ICN': ['A'], 'B': ['ICN'], 'A': ['D'], 'D': ['A']}\n",
      "B ['ICN', 'B']\n",
      "{'ICN': ['A'], 'B': [], 'A': ['D'], 'D': ['A']}\n",
      "ICN ['ICN', 'B', 'ICN']\n",
      "{'ICN': [], 'B': [], 'A': ['D'], 'D': ['A']}\n",
      "A ['ICN', 'B', 'ICN', 'A']\n",
      "{'ICN': [], 'B': [], 'A': [], 'D': ['A']}\n",
      "D ['ICN', 'B', 'ICN', 'A', 'D']\n",
      "{'ICN': [], 'B': [], 'A': [], 'D': []}\n",
      "A ['ICN', 'B', 'ICN', 'A', 'D', 'A']\n",
      "{'ICN': [], 'B': [], 'A': [], 'D': []}\n",
      "D ['ICN', 'B', 'ICN', 'A', 'D']\n",
      "{'ICN': [], 'B': [], 'A': [], 'D': []}\n",
      "A ['ICN', 'B', 'ICN', 'A']\n",
      "{'ICN': [], 'B': [], 'A': [], 'D': []}\n",
      "ICN ['ICN', 'B', 'ICN']\n",
      "{'ICN': [], 'B': [], 'A': [], 'D': []}\n",
      "B ['ICN', 'B']\n",
      "{'ICN': [], 'B': [], 'A': [], 'D': []}\n",
      "ICN ['ICN']\n"
     ]
    },
    {
     "data": {
      "text/plain": [
       "['ICN', 'B', 'ICN', 'A', 'D', 'A']"
      ]
     },
     "execution_count": 81,
     "metadata": {},
     "output_type": "execute_result"
    }
   ],
   "source": [
    "def dfs(graph, st='ICN'):\n",
    "    stack=[st,]\n",
    "    path = []\n",
    "    while len(stack)>0:\n",
    "        top = stack[-1] ###의문 ::  알파벳 순서라서, sort되어있는거면 맨 처음거를 기준으로 체크해봐야하는것아닌가?\n",
    "        print(graph)\n",
    "        print(top, stack)\n",
    "        #특정 공항 출발표가 없다면 or 있지만 티켓을 다 써버린경우\n",
    "        if top not in graph or len(graph[top])==0 :\n",
    "            path.append(stack.pop())\n",
    "        else:\n",
    "#             print('->',top)\n",
    "            stack.append(graph[top].pop())\n",
    "    return path[::-1]\n",
    "\n",
    "tickets = [['ICN','B'],['B','ICN'],['ICN','A'],['A','D'],['D','A']]\n",
    "graph = mkgraph(tickets)\n",
    "for k in graph:\n",
    "    graph[k] = sorted(graph[k])\n",
    "# print(graph)\n",
    "dfs(graph)"
   ]
  },
  {
   "cell_type": "code",
   "execution_count": 52,
   "metadata": {},
   "outputs": [
    {
     "name": "stdout",
     "output_type": "stream",
     "text": [
      "{'ICN': ['B', 'A'], 'B': ['ICN'], 'A': ['D'], 'D': ['A', 'CC']}\n"
     ]
    },
    {
     "data": {
      "text/plain": [
       "False"
      ]
     },
     "execution_count": 52,
     "metadata": {},
     "output_type": "execute_result"
    }
   ],
   "source": [
    "tickets = [['ICN','B'],['B','ICN'],['ICN','A'],['A','D'],['D','A'],['D','CC']]\n",
    "print(mkgraph(tickets))\n",
    "'CC' in mkgraph(tickets)"
   ]
  },
  {
   "cell_type": "markdown",
   "metadata": {},
   "source": [
    "#### 공부해볼만한 코드"
   ]
  },
  {
   "cell_type": "code",
   "execution_count": 87,
   "metadata": {},
   "outputs": [
    {
     "name": "stdout",
     "output_type": "stream",
     "text": [
      "['ICN']\n",
      "['ICN', 'A']\n",
      "['ICN', 'A', 'D']\n",
      "['ICN', 'A', 'D', 'A']\n",
      "['ICN', 'B']\n",
      "['ICN', 'B', 'ICN']\n",
      "['ICN', 'B', 'ICN', 'A']\n",
      "['ICN', 'B', 'ICN', 'A', 'D']\n",
      "['ICN', 'B', 'ICN', 'A', 'D', 'A']\n"
     ]
    },
    {
     "data": {
      "text/plain": [
       "['ICN', 'B', 'ICN', 'A', 'D', 'A']"
      ]
     },
     "execution_count": 87,
     "metadata": {},
     "output_type": "execute_result"
    }
   ],
   "source": [
    "from collections import defaultdict \n",
    "\n",
    "def dfs(graph, N, key, footprint):\n",
    "    print(footprint)\n",
    "    \n",
    "    ## 발자취가 티켓 수 + 1과 같다면 -> return 이건 모든 티켓을 다 써서 노드들을 방문했다는것\n",
    "    if len(footprint) == N + 1: \n",
    "        return footprint\n",
    "\n",
    "    for idx, country in enumerate(graph[key]):\n",
    "        graph[key].pop(idx)\n",
    "\n",
    "        tmp = footprint[:]\n",
    "        tmp.append(country)\n",
    "\n",
    "        # graph에서 알파벳순으로 방문해보는 장소를 빼고, footprint에 방문해본다고 가정하여 다음 재귀\n",
    "        ret = dfs(graph, N, country, tmp) \n",
    "\n",
    "        graph[key].insert(idx, country) #다시 graph 원상복귀\n",
    "\n",
    "        if ret:\n",
    "            return ret\n",
    "\n",
    "\n",
    "def solution(tickets):\n",
    "    answer = []\n",
    "\n",
    "    graph = defaultdict(list)\n",
    "\n",
    "    N = len(tickets) # N 은 티켓의 수 \n",
    "    for ticket in tickets:\n",
    "        graph[ticket[0]].append(ticket[1])\n",
    "        graph[ticket[0]].sort()\n",
    "\n",
    "    answer = dfs(graph, N, \"ICN\", [\"ICN\"])\n",
    "\n",
    "    return answer\n",
    "solution(tickets)"
   ]
  },
  {
   "cell_type": "code",
   "execution_count": null,
   "metadata": {},
   "outputs": [],
   "source": []
  },
  {
   "cell_type": "code",
   "execution_count": null,
   "metadata": {},
   "outputs": [],
   "source": []
  }
 ],
 "metadata": {
  "kernelspec": {
   "display_name": "Python 3",
   "language": "python",
   "name": "python3"
  },
  "language_info": {
   "codemirror_mode": {
    "name": "ipython",
    "version": 3
   },
   "file_extension": ".py",
   "mimetype": "text/x-python",
   "name": "python",
   "nbconvert_exporter": "python",
   "pygments_lexer": "ipython3",
   "version": "3.8.5"
  },
  "toc": {
   "base_numbering": 1,
   "nav_menu": {},
   "number_sections": true,
   "sideBar": true,
   "skip_h1_title": false,
   "title_cell": "Table of Contents",
   "title_sidebar": "Contents",
   "toc_cell": false,
   "toc_position": {},
   "toc_section_display": true,
   "toc_window_display": false
  }
 },
 "nbformat": 4,
 "nbformat_minor": 4
}
