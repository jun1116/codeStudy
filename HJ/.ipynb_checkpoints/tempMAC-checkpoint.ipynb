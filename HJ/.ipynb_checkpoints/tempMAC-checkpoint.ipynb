{
 "cells": [
  {
   "cell_type": "code",
   "execution_count": 5,
   "metadata": {},
   "outputs": [
    {
     "data": {
      "text/plain": [
       "2"
      ]
     },
     "execution_count": 5,
     "metadata": {},
     "output_type": "execute_result"
    }
   ],
   "source": [
    "# 이코테 DP 219p.\n",
    "def solution(n):\n",
    "    d=[0]*30000\n",
    "    for i in range(2,n+1):\n",
    "        d[i] = d[i-1]+1\n",
    "        if i%5==0:\n",
    "            d[i] = min(d[i], d[i//5]+1)\n",
    "        if i%3==0:\n",
    "            d[i] = min(d[i], d[i//3]+1)\n",
    "        if i%2==0:\n",
    "            d[i] = min(d[i], d[i//2]+1)\n",
    "    return d[n]\n",
    "solution(10)\n"
   ]
  },
  {
   "cell_type": "code",
   "execution_count": 7,
   "metadata": {},
   "outputs": [
    {
     "data": {
      "text/plain": [
       "8"
      ]
     },
     "execution_count": 7,
     "metadata": {},
     "output_type": "execute_result"
    }
   ],
   "source": [
    "# 이코테 DP 220p\n",
    "def solution(arr):\n",
    "    dp=[0]*len(arr)\n",
    "    dp[0] = arr[0]\n",
    "    dp[1] = max(arr[0], arr[1])\n",
    "    for i in range(2,len(arr)):\n",
    "        dp[i] = max(dp[i-1], dp[i-2]+arr[i])\n",
    "    return dp[-1]\n",
    "solution([1,3,1,5])"
   ]
  },
  {
   "cell_type": "code",
   "execution_count": 33,
   "metadata": {},
   "outputs": [
    {
     "name": "stdout",
     "output_type": "stream",
     "text": [
      "2\n",
      "3\n",
      "5\n",
      "7\n"
     ]
    },
    {
     "data": {
      "text/plain": [
       "[0, 10000, 1, 1, 2, 1, 2, 1, 2, 2, 2, 3, 2, 3]"
      ]
     },
     "execution_count": 33,
     "metadata": {},
     "output_type": "execute_result"
    }
   ],
   "source": [
    "def solution(coins, m):\n",
    "    dp=[10000]*(m+1)\n",
    "    coins = sorted(coins)\n",
    "    dp[0]=0\n",
    "    for coin in coins:\n",
    "        print(coin)\n",
    "        for j in range(coin,m+1):\n",
    "            # if dp[j-coin]<10000:\n",
    "            dp[j] = min(dp[j], dp[j-coin]+1)\n",
    "        \n",
    "    return dp\n",
    "\n",
    "solution([2,3,5,7],13)"
   ]
  },
  {
   "cell_type": "code",
   "execution_count": 1,
   "metadata": {},
   "outputs": [],
   "source": [
    "# 마이다스 1\n",
    "N,mine=9,[ [1, 1], [1, 7], [2, 7], [3, 6], [4, 1], [4, 4], [4, 8], [8, 4], [8, 5], [9, 6] ]#[[-1, 1, 0, 0, 0, 2,-1, 2, 0],[ 1, 1, 0, 0, 1, 3,-1, 2, 0],[ 1, 1, 1, 1, 2,-1, 3, 2, 1],[-1, 1, 1,-1, 2, 1, 2,-1, 1],[ 1, 1, 1, 1, 1, 0, 1, 1, 1],[ 0, 0, 0, 0, 0, 0, 0, 0, 0],[ 0, 0, 1, 2, 2, 1, 0, 0, 0],[ 0, 0, 1,-1,-1, 2, 1, 0, 0],[ 0, 0, 1, 2, 3,-1, 1, 0, 0]]"
   ]
  },
  {
   "cell_type": "code",
   "execution_count": 11,
   "metadata": {},
   "outputs": [
    {
     "data": {
      "text/plain": [
       "[[-1, 1, 0, 0, 0, 2, -1, 2, 0],\n",
       " [1, 1, 0, 0, 1, 3, -1, 2, 0],\n",
       " [1, 1, 1, 1, 2, -1, 3, 2, 1],\n",
       " [-1, 1, 1, -1, 2, 1, 2, -1, 1],\n",
       " [1, 1, 1, 1, 1, 0, 1, 1, 1],\n",
       " [0, 0, 0, 0, 0, 0, 0, 0, 0],\n",
       " [0, 0, 1, 2, 2, 1, 0, 0, 0],\n",
       " [0, 0, 1, -1, -1, 2, 1, 0, 0],\n",
       " [0, 0, 1, 2, 3, -1, 1, 0, 0]]"
      ]
     },
     "execution_count": 11,
     "metadata": {},
     "output_type": "execute_result"
    }
   ],
   "source": [
    "def solution(N,mine):\n",
    "    mat = [[0 for j in range(N)] for i in range(N)]\n",
    "    for x,y in mine:\n",
    "        mat[x-1][y-1] = -1\n",
    "    # 왼쪽 위 (10시방향) 부터 시계방향으로 체크체크\n",
    "    dx=[-1,-1,-1,0,1,1,1,0] # 1,2,3 4,5,6 7,8,9 \n",
    "    dy=[-1,0,1,1,1,0,-1,-1]\n",
    "    \n",
    "    for x in range(N):\n",
    "        for y in range(N):\n",
    "            if mat[x][y]==-1:\n",
    "                continue\n",
    "            cnt=0\n",
    "            # print(x,y)\n",
    "            for d in range(8):\n",
    "                nx,ny = x+dx[d], y+dy[d]\n",
    "                if nx<0 or ny<0 or nx>=N or ny>=N: continue\n",
    "                if mat[nx][ny]==-1: cnt+=1\n",
    "\n",
    "            mat[x][y] = cnt\n",
    "    return mat\n",
    "\n",
    "solution(N,mine)"
   ]
  },
  {
   "cell_type": "code",
   "execution_count": 20,
   "metadata": {},
   "outputs": [],
   "source": [
    "# 2번\n",
    "# n\tv1\tv2\tnum\tamount\tanswer\n",
    "n,v1,v2,num,amount=10,[1, 10, 6, 5, 6, 9],[3, 7, 2, 8, 7, 3],[3, 4, 5, 1, 8, 7, 9, 2],[10, 5, 6, -6, -8, 2, -2, 5]#2\n",
    "# n,v1,v2,num,amount=10,[8, 4, 4, 1],[1, 10, 9, 4],[2, 5, 8, 6, 4, 1, 3, 10, 7, 4],[3, -1, 3, 3, 1, -2, -4, 1, 2, -5]#2\n",
    "# n,v1,v2,num,amount=4,[1, 3],[2, 4],[2, 2],[1, -2]#3\n",
    "# n,v1,v2,num,amount=6,[1, 5, 3, 6, 2],[5, 4, 6, 2, 3],[1, 5, 4, 3, 6, 2],[3, 6, -2, 2, 2, 2]#1"
   ]
  },
  {
   "cell_type": "code",
   "execution_count": 113,
   "metadata": {},
   "outputs": [
    {
     "name": "stdout",
     "output_type": "stream",
     "text": [
      "{1: 2, 2: 7, 4: 5, 5: -2}\n"
     ]
    },
    {
     "data": {
      "text/plain": [
       "2"
      ]
     },
     "execution_count": 113,
     "metadata": {},
     "output_type": "execute_result"
    }
   ],
   "source": [
    "def find(x):\n",
    "    global leader\n",
    "    if leader[x] == x:\n",
    "        return x\n",
    "    else:\n",
    "        leader[x] = find(leader[x])\n",
    "        return leader[x]\n",
    "\n",
    "def union(x,y):\n",
    "    global leader\n",
    "    x = find(x)\n",
    "    y = find(y)\n",
    "    if x==y: return\n",
    "    leader[max(x,y)] = min(x,y)\n",
    "\n",
    "def solution(n, v1, v2, num, amount):\n",
    "    global leader\n",
    "    leader = [i for i in range(n+1)] # 초기값 자기자신이 리더로 세팅, 계산의 편의를 위해 N+1만큼\n",
    "    for x,y in zip(v1,v2):# 합집합연산시행\n",
    "        union(x,y)   \n",
    "    for i in range(n+1): # union연산 순서에 따라, 나중에 입력된 학생의 경우 경로축소가 적용되지 않는 경우를 대비\n",
    "        find(i)\n",
    "    total = {i :0 for i in set(leader[1:])} # 세팅완료\n",
    "    \n",
    "    \n",
    "    for n,am in zip(num, amount): # 점수매겨주기 자기팀 리더의 점수로 찾아가서 계산떄려버리기\n",
    "        total[leader[n]] += am\n",
    "    \n",
    "    print(total)\n",
    "    \n",
    "    score = -int(1e9) # 음수의 점수를 갖고있는경우도 있으므로\n",
    "    team=int(1e9) # 리더번호는 같다면 작은순이므로\n",
    "    \n",
    "    for tot in total:\n",
    "        if total[tot]>score:\n",
    "            if total[tot]==score:\n",
    "                team = min(tot,team)\n",
    "            else:\n",
    "                team = tot\n",
    "            score = total[tot]\n",
    "    return team\n",
    "# Union-find알고리즘을 생각했고, 각각의 부모는 자기 팀 리더학생으로 세팅\n",
    "# \n",
    "n,v1,v2,num,amount=10,[1, 10, 6, 5, 6, 9],[3, 7, 2, 8, 7, 3],[3, 4, 5, 1, 8, 7, 9, 2],[10, 5, 6, -6, -8, 2, -2, 5]#2\n",
    "# n,v1,v2,num,amount=6,[1, 5, 3, 6, 2],[5, 4, 6, 2, 3],[1, 5, 4, 3, 6, 2],[3, 6, -2, 2, 2, 2]#1\n",
    "# n,v1,v2,num,amount=4,[1, 3],[2, 4],[2, 2],[1, -2]#3\n",
    "\n",
    "solution(n, v1, v2, num, amount)"
   ]
  },
  {
   "cell_type": "code",
   "execution_count": null,
   "metadata": {},
   "outputs": [],
   "source": []
  },
  {
   "cell_type": "code",
   "execution_count": 112,
   "metadata": {},
   "outputs": [
    {
     "data": {
      "text/plain": [
       "4"
      ]
     },
     "execution_count": 112,
     "metadata": {},
     "output_type": "execute_result"
    }
   ],
   "source": [
    "# 3번\n",
    "# N\tK\tT\tanswer\n",
    "N,K,T=4,4,[[1,3],[1,1],[2,3],[3,4]] #4\n",
    "# N,K,T=6,4,[ [1,3],[3,4],[2,4],[2,4],[2,3],[1,2] ] #4\n",
    "\n",
    "# 아이디어 : 그날그날, 가장 남은 가능일수가 적은 학생들 위주로 처리한다면, 매 순간의 최선의 선택일 것이다.\n",
    "\n",
    "from heapq import *\n",
    "def solution(N,K,T):\n",
    "    answer = 0\n",
    "    days = [[] for i in range(K+1)] # 계산의 편의를 위해 1일을 더 넣음\n",
    "\n",
    "    for i,t in enumerate(T):\n",
    "        for day in range(t[0],t[1]+1): # 학생의 상담가능일들에 대하여\n",
    "            heappush(days[day], [t[1]-day,i]) # 남은 상담가능일을 계산하여 heap으로 학생번호와 함께 넣어줌\n",
    "    # print(days)\n",
    "    checked=[] # 상담받은 학생인지 체크\n",
    "    for day in days[1:]:\n",
    "        while day:\n",
    "            _, student = heappop(day)\n",
    "            if student in checked: # 이미 상담받은 학생인가? -> 넘어가기\n",
    "                continue\n",
    "            else: # 새롭게 상담을 받는 학생 -> 상담 & answer+=1\n",
    "                checked.append(student) \n",
    "                answer+=1\n",
    "                break\n",
    "    return answer\n",
    "solution(N,K,T)"
   ]
  },
  {
   "cell_type": "code",
   "execution_count": 25,
   "metadata": {},
   "outputs": [
    {
     "name": "stdout",
     "output_type": "stream",
     "text": [
      "1 2\n"
     ]
    }
   ],
   "source": [
    "# 이코테 문자열뒤집기 - 313페이지\n",
    "# 1을 0으로 또는 0을 1으로 해서 모든 숫자를 같게 만들기 (0,1로만 이루어짐), \n",
    "# 한 카운트는 한번에 연속된 하나이상의 숫자를 잡고 모두 뒤집는것... 이때 카운트 수 return하기\n",
    "def solution(s):\n",
    "    def flip(ss, n):\n",
    "        cnt=0\n",
    "        s=ss[:]\n",
    "        l,r=0,0\n",
    "        while r < len(s):\n",
    "            if s[r]==n:\n",
    "                print(l,r,s[r],'Go')\n",
    "                r+=1\n",
    "                l+=1\n",
    "            else:\n",
    "                while r<len(s) and s[r]!=n:\n",
    "                    r+=1\n",
    "                print(l,r,'Cnt++')\n",
    "                cnt+=1\n",
    "                l=r\n",
    "        return cnt\n",
    "    answer=0\n",
    "    count = min(flip(s, '0'), flip(s,'1'))\n",
    "    return count\n",
    "\n",
    "def solution(s):\n",
    "    cnt0=0\n",
    "    cnt1=0\n",
    "    if s[0]=='1':\n",
    "        cnt0+=1\n",
    "    else:\n",
    "        cnt1+=1\n",
    "    for i in range(len(s)-1):\n",
    "        if s[i] != s[i+1]:\n",
    "            if s[i+1]=='1': cnt0+=1\n",
    "            else:cnt1+=1\n",
    "    print(cnt0, cnt1)\n",
    "\n",
    "s='0001100'\n",
    "solution(s)\n",
    "\n"
   ]
  },
  {
   "cell_type": "code",
   "execution_count": 69,
   "metadata": {},
   "outputs": [
    {
     "data": {
      "text/plain": [
       "8"
      ]
     },
     "execution_count": 69,
     "metadata": {},
     "output_type": "execute_result"
    }
   ],
   "source": [
    "# 만들 수 없는 금액 314p\n",
    "# coins들로 만들 수 없는 최소 금액 찾기\n",
    "def solution(coins):\n",
    "    coins = sorted(coins)\n",
    "    cnt=1\n",
    "    for i in coins:\n",
    "        if i>cnt:\n",
    "            break\n",
    "        cnt+=i\n",
    "    return cnt\n",
    "coins=[3,2,1,1,9]\n",
    "solution(coins)"
   ]
  },
  {
   "cell_type": "code",
   "execution_count": 74,
   "metadata": {},
   "outputs": [
    {
     "name": "stdout",
     "output_type": "stream",
     "text": [
      "{1: 1, 3: 2, 2: 2}\n"
     ]
    }
   ],
   "source": [
    "# 볼링공고르기 (315)\n",
    "# m:볼링공의 최대 무게\n",
    "# balls : 볼링공들 , 서로 무게가 다른 볼링공을 고르는 경우의수\n",
    "def solution(balls):\n",
    "    answer=0\n",
    "    for i in range(len(balls)):\n",
    "        for j in range(len(balls)):\n",
    "            if balls[i]!=balls[j] and i!=j:\n",
    "                answer+=1\n",
    "    return answer//2\n",
    "def solution(balls):\n",
    "    answer=0\n",
    "    balldic={}\n",
    "    for i in balls:\n",
    "        if i in balldic:\n",
    "            balldic[i]+=1\n",
    "        else:\n",
    "            balldic[i]=1\n",
    "    print(balldic)\n",
    "    \n",
    "\n",
    "m,balls=3,[1,3,2,3,2]\n",
    "# m,balls=5,[1,5,4,3,2,4,5,2]\n",
    "solution(balls)"
   ]
  },
  {
   "cell_type": "code",
   "execution_count": null,
   "metadata": {},
   "outputs": [],
   "source": []
  },
  {
   "cell_type": "code",
   "execution_count": 27,
   "metadata": {},
   "outputs": [
    {
     "name": "stdout",
     "output_type": "stream",
     "text": [
      "{'XY': 2, 'XZ': 1, 'YZ': 1, 'XW': 1, 'WY': 1, 'WX': 1, 'WA': 1, 'XA': 1} 2 ['XY']\n",
      "{'XYZ': 1, 'XWY': 1, 'WXA': 1} 2 []\n",
      "{} 2 []\n"
     ]
    },
    {
     "data": {
      "text/plain": [
       "['XY']"
      ]
     },
     "execution_count": 27,
     "metadata": {},
     "output_type": "execute_result"
    }
   ],
   "source": [
    "# orders, course = [\"ABCFG\", \"AC\", \"CDE\", \"ACDE\", \"BCFG\", \"ACDEH\"],[2,3,4]#[\"AC\", \"ACDE\", \"BCFG\", \"CDE\"]\n",
    "# orders, course = [\"ABCDE\", \"AB\", \"CD\", \"ADE\", \"XYZ\", \"XYZ\", \"ACD\"],[2,3,5]#[\"ACD\", \"AD\", \"ADE\", \"CD\", \"XYZ\"]\n",
    "orders, course = [\"XYZ\", \"XWY\", \"WXA\"],[2,3,4]#[\"WX\", \"XY\"]\n",
    "from itertools import combinations\n",
    "def solution(orders, course):\n",
    "    answer=[]\n",
    "    for cnt in course:\n",
    "        cntdic={}\n",
    "        maxi=2\n",
    "        maxc=[]\n",
    "        for order in orders:\n",
    "            # print(order,cnt)\n",
    "            a=[''.join(i) for i in list(combinations(order,cnt))]\n",
    "            for i in a:\n",
    "                if i in cntdic:\n",
    "                    cntdic[i]+=1\n",
    "                    if cntdic[i]>maxi:\n",
    "                        maxi=cntdic[i]\n",
    "                        maxc=[i]\n",
    "                    elif cntdic[i]==maxi:\n",
    "                        maxc.append(i)\n",
    "\n",
    "                else:\n",
    "                    cntdic[i]=1\n",
    "        print(cntdic, maxi, maxc)\n",
    "        answer.extend(maxc)\n",
    "    return sorted(answer)\n",
    "solution(orders, course)"
   ]
  },
  {
   "cell_type": "code",
   "execution_count": null,
   "metadata": {},
   "outputs": [],
   "source": []
  },
  {
   "cell_type": "code",
   "execution_count": 2,
   "metadata": {},
   "outputs": [],
   "source": [
    "import json"
   ]
  },
  {
   "cell_type": "code",
   "execution_count": 7,
   "metadata": {},
   "outputs": [],
   "source": [
    "false = False\n",
    "null = None\n",
    "true = True\n",
    "tmp = [{\"data\":{\"rests\":{\"businesses\":{\"total\":16,\"vaccineLastSave\":1627623896610,\"isUpdateDelayed\":false,\"items\":[{\"id\":\"1153047261\",\"name\":\"부천이비인후과의원\",\"dbType\":\"drt\",\"phone\":\"032-663-0207\",\"virtualPhone\":null,\"hasBooking\":false,\"hasNPay\":false,\"bookingReviewCount\":\"0\",\"description\":null,\"distance\":\"180m\",\"commonAddress\":\"경기 부천시\",\"roadAddress\":\"경기 부천시 중동로 48 대우프라자 402호\",\"address\":\"송내동 373\",\"imageUrl\":null,\"imageCount\":0,\"tags\":null,\"promotionTitle\":null,\"category\":\"이비인후과\",\"routeUrl\":\"https://m.search.naver.com/search.naver?where=m&query=%EB%B9%A0%EB%A5%B8%EA%B8%B8%EC%B0%BE%EA%B8%B0&nso_path=placeType%5Eplace%3Bname%5E%3Baddress%5E%3Blatitude%5E%3Blongitude%5E%3Bcode%5E%7Ctype%5Eplace%3Bname%5E%EB%B6%80%EC%B2%9C%EC%9D%B4%EB%B9%84%EC%9D%B8%ED%9B%84%EA%B3%BC%EC%9D%98%EC%9B%90%3Baddress%5E%3Bcode%5E1153047261%3Blongitude%5E126.7642226%3Blatitude%5E37.4843615%7Cobjtype%5Epath%3Bby%5Epubtrans\",\"businessHours\":\"평일 09:00~18:00 | 수요일 09:00~13:00 | 토요일 09:00~13:00 일요일 공휴일 휴무\",\"x\":\"126.7642226\",\"y\":\"37.4843615\",\"isDelivery\":null,\"isTakeOut\":null,\"isPreOrder\":null,\"isTableOrder\":null,\"naverBookingCategory\":null,\"bookingDisplayName\":null,\"bookingBusinessId\":null,\"bookingVisitId\":null,\"bookingPickupId\":null,\"vaccineOpeningHour\":{\"isDayOff\":true,\"standardTime\":\"7월 30일\",\"__typename\":\"VaccineOpeningHour\"},\"vaccineQuantity\":{\"totalQuantity\":0,\"totalQuantityStatus\":\"waiting\",\"startTime\":\"1000\",\"endTime\":\"1800\",\"vaccineOrganizationCode\":\"41305540\",\"list\":[{\"quantity\":0,\"quantityStatus\":\"waiting\",\"vaccineType\":\"화이자\",\"__typename\":\"VaccineQuantity\"},{\"quantity\":0,\"quantityStatus\":\"waiting\",\"vaccineType\":\"모더나\",\"__typename\":\"VaccineQuantity\"}],\"__typename\":\"VaccineQuantityListResult\"},\"__typename\":\"RestListItem\"},{\"id\":\"1793731095\",\"name\":\"메디홀스요양병원\",\"dbType\":\"drt\",\"phone\":\"032-667-0100\",\"virtualPhone\":null,\"hasBooking\":false,\"hasNPay\":false,\"bookingReviewCount\":\"0\",\"description\":null,\"distance\":\"180m\",\"commonAddress\":\"경기 부천시\",\"roadAddress\":\"경기 부천시 경인로110번길 14\",\"address\":\"송내동 385-4\",\"imageUrl\":null,\"imageCount\":0,\"tags\":null,\"promotionTitle\":null,\"category\":\"요양병원\",\"routeUrl\":\"https://m.search.naver.com/search.naver?where=m&query=%EB%B9%A0%EB%A5%B8%EA%B8%B8%EC%B0%BE%EA%B8%B0&nso_path=placeType%5Eplace%3Bname%5E%3Baddress%5E%3Blatitude%5E%3Blongitude%5E%3Bcode%5E%7Ctype%5Eplace%3Bname%5E%EB%A9%94%EB%94%94%ED%99%80%EC%8A%A4%EC%9A%94%EC%96%91%EB%B3%91%EC%9B%90%3Baddress%5E%3Bcode%5E1793731095%3Blongitude%5E126.7673934%3Blatitude%5E37.4835264%7Cobjtype%5Epath%3Bby%5Epubtrans\",\"businessHours\":\"평일 09:00~18:00 | 토요일 09:00~13:00 | 일요일 휴무 | 공휴일 휴무\",\"x\":\"126.7673934\",\"y\":\"37.4835264\",\"isDelivery\":null,\"isTakeOut\":null,\"isPreOrder\":null,\"isTableOrder\":null,\"naverBookingCategory\":null,\"bookingDisplayName\":null,\"bookingBusinessId\":null,\"bookingVisitId\":null,\"bookingPickupId\":null,\"vaccineOpeningHour\":{\"isDayOff\":false,\"standardTime\":\"7월 30일\",\"__typename\":\"VaccineOpeningHour\"},\"vaccineQuantity\":{\"totalQuantity\":0,\"totalQuantityStatus\":\"empty\",\"startTime\":\"1000\",\"endTime\":\"1600\",\"vaccineOrganizationCode\":\"31283861\",\"list\":[{\"quantity\":0,\"quantityStatus\":\"empty\",\"vaccineType\":\"화이자\",\"__typename\":\"VaccineQuantity\"},{\"quantity\":0,\"quantityStatus\":\"waiting\",\"vaccineType\":\"모더나\",\"__typename\":\"VaccineQuantity\"}],\"__typename\":\"VaccineQuantityListResult\"},\"__typename\":\"RestListItem\"},{\"id\":\"13451618\",\"name\":\"김종찬소아과의원\",\"dbType\":\"drt\",\"phone\":\"032-661-9348\",\"virtualPhone\":null,\"hasBooking\":false,\"hasNPay\":false,\"bookingReviewCount\":\"0\",\"description\":null,\"distance\":\"180m\",\"commonAddress\":\"경기 부천시\",\"roadAddress\":\"경기 부천시 중동로 48\",\"address\":\"송내동 373 대우프라자 502호\",\"imageUrl\":null,\"imageCount\":0,\"tags\":null,\"promotionTitle\":null,\"category\":\"소아청소년과\",\"routeUrl\":\"https://m.search.naver.com/search.naver?where=m&query=%EB%B9%A0%EB%A5%B8%EA%B8%B8%EC%B0%BE%EA%B8%B0&nso_path=placeType%5Eplace%3Bname%5E%3Baddress%5E%3Blatitude%5E%3Blongitude%5E%3Bcode%5E%7Ctype%5Eplace%3Bname%5E%EA%B9%80%EC%A2%85%EC%B0%AC%EC%86%8C%EC%95%84%EA%B3%BC%EC%9D%98%EC%9B%90%3Baddress%5E%3Bcode%5E13451618%3Blongitude%5E126.7642186%3Blatitude%5E37.4842969%7Cobjtype%5Epath%3Bby%5Epubtrans\",\"businessHours\":\"평일 08:30~19:00 점심시간13:00-14:00 | 토요일 08:30~16:00 | 일요일 휴무 | 공휴일 휴무 사정에 따라 진료 전화문의바람\",\"x\":\"126.7642186\",\"y\":\"37.4842969\",\"isDelivery\":null,\"isTakeOut\":null,\"isPreOrder\":null,\"isTableOrder\":null,\"naverBookingCategory\":null,\"bookingDisplayName\":null,\"bookingBusinessId\":null,\"bookingVisitId\":null,\"bookingPickupId\":null,\"vaccineOpeningHour\":{\"isDayOff\":false,\"standardTime\":\"7월 30일\",\"__typename\":\"VaccineOpeningHour\"},\"vaccineQuantity\":{\"totalQuantity\":0,\"totalQuantityStatus\":\"waiting\",\"startTime\":\"0900\",\"endTime\":\"1800\",\"vaccineOrganizationCode\":\"31334351\",\"list\":[{\"quantity\":0,\"quantityStatus\":\"waiting\",\"vaccineType\":\"화이자\",\"__typename\":\"VaccineQuantity\"},{\"quantity\":0,\"quantityStatus\":\"waiting\",\"vaccineType\":\"모더나\",\"__typename\":\"VaccineQuantity\"}],\"__typename\":\"VaccineQuantityListResult\"},\"__typename\":\"RestListItem\"},{\"id\":\"13240387\",\"name\":\"부천메디홀스\",\"dbType\":\"drt\",\"phone\":\"032-656-4114\",\"virtualPhone\":null,\"hasBooking\":false,\"hasNPay\":false,\"bookingReviewCount\":\"0\",\"description\":null,\"distance\":\"220m\",\"commonAddress\":\"경기 부천시\",\"roadAddress\":\"경기 부천시 경인로110번길 18\",\"address\":\"송내동 385-5\",\"imageUrl\":\"https://ldb-phinf.pstatic.net/20150831_252/14410104536682apRW_JPEG/SUBMIT_1352795857760_13240387.jpg\",\"imageCount\":5,\"tags\":null,\"promotionTitle\":null,\"category\":\"내과\",\"routeUrl\":\"https://m.search.naver.com/search.naver?where=m&query=%EB%B9%A0%EB%A5%B8%EA%B8%B8%EC%B0%BE%EA%B8%B0&nso_path=placeType%5Eplace%3Bname%5E%3Baddress%5E%3Blatitude%5E%3Blongitude%5E%3Bcode%5E%7Ctype%5Eplace%3Bname%5E%EB%B6%80%EC%B2%9C%EB%A9%94%EB%94%94%ED%99%80%EC%8A%A4%3Baddress%5E%3Bcode%5E13240387%3Blongitude%5E126.7675731%3Blatitude%5E37.4832511%7Cobjtype%5Epath%3Bby%5Epubtrans\",\"businessHours\":\"평일 09:00~18:00 | 토요일 09:00~13:00 | 일요일 휴무 | 공휴일 휴무\",\"x\":\"126.7675731\",\"y\":\"37.4832511\",\"isDelivery\":null,\"isTakeOut\":null,\"isPreOrder\":null,\"isTableOrder\":null,\"naverBookingCategory\":null,\"bookingDisplayName\":null,\"bookingBusinessId\":null,\"bookingVisitId\":null,\"bookingPickupId\":null,\"vaccineOpeningHour\":{\"isDayOff\":false,\"standardTime\":\"7월 30일\",\"__typename\":\"VaccineOpeningHour\"},\"vaccineQuantity\":{\"totalQuantity\":0,\"totalQuantityStatus\":\"waiting\",\"startTime\":\"0900\",\"endTime\":\"1700\",\"vaccineOrganizationCode\":\"31361196\",\"list\":[{\"quantity\":0,\"quantityStatus\":\"waiting\",\"vaccineType\":\"화이자\",\"__typename\":\"VaccineQuantity\"},{\"quantity\":0,\"quantityStatus\":\"waiting\",\"vaccineType\":\"모더나\",\"__typename\":\"VaccineQuantity\"}],\"__typename\":\"VaccineQuantityListResult\"},\"__typename\":\"RestListItem\"},{\"id\":\"1261998505\",\"name\":\"송내연합의원\",\"dbType\":\"drt\",\"phone\":\"032-651-0123\",\"virtualPhone\":null,\"hasBooking\":false,\"hasNPay\":false,\"bookingReviewCount\":\"0\",\"description\":null,\"distance\":\"300m\",\"commonAddress\":\"경기 부천시\",\"roadAddress\":\"경기 부천시 경인로 126 2층,3층\",\"address\":\"송내동 381-1 2층,3층\",\"imageUrl\":\"https://ldb-phinf.pstatic.net/20210430_270/16197812666092XiGG_JPEG/CCMLk2r_Xk7OEe8gxTHjbr8t.jpg\",\"imageCount\":5,\"tags\":null,\"promotionTitle\":null,\"category\":\"병원,의원\",\"routeUrl\":\"https://m.search.naver.com/search.naver?where=m&query=%EB%B9%A0%EB%A5%B8%EA%B8%B8%EC%B0%BE%EA%B8%B0&nso_path=placeType%5Eplace%3Bname%5E%3Baddress%5E%3Blatitude%5E%3Blongitude%5E%3Bcode%5E%7Ctype%5Eplace%3Bname%5E%EC%86%A1%EB%82%B4%EC%97%B0%ED%95%A9%EC%9D%98%EC%9B%90%3Baddress%5E%3Bcode%5E1261998505%3Blongitude%5E126.7693155%3Blatitude%5E37.4838844%7Cobjtype%5Epath%3Bby%5Epubtrans\",\"businessHours\":\"매일 08:40~21:30 | 주말 08:40~21:30 | 공휴일 08:40~21:30\",\"x\":\"126.7693155\",\"y\":\"37.4838844\",\"isDelivery\":null,\"isTakeOut\":null,\"isPreOrder\":null,\"isTableOrder\":null,\"naverBookingCategory\":null,\"bookingDisplayName\":null,\"bookingBusinessId\":null,\"bookingVisitId\":null,\"bookingPickupId\":null,\"vaccineOpeningHour\":{\"isDayOff\":false,\"standardTime\":\"7월 30일\",\"__typename\":\"VaccineOpeningHour\"},\"vaccineQuantity\":{\"totalQuantity\":0,\"totalQuantityStatus\":\"waiting\",\"startTime\":\"0900\",\"endTime\":\"2200\",\"vaccineOrganizationCode\":\"41375416\",\"list\":[{\"quantity\":0,\"quantityStatus\":\"waiting\",\"vaccineType\":\"화이자\",\"__typename\":\"VaccineQuantity\"},{\"quantity\":0,\"quantityStatus\":\"waiting\",\"vaccineType\":\"모더나\",\"__typename\":\"VaccineQuantity\"}],\"__typename\":\"VaccineQuantityListResult\"},\"__typename\":\"RestListItem\"},{\"id\":\"37005490\",\"name\":\"연세탑내과의원\",\"dbType\":\"drt\",\"phone\":\"032-212-0700\",\"virtualPhone\":null,\"hasBooking\":false,\"hasNPay\":false,\"bookingReviewCount\":\"0\",\"description\":null,\"distance\":\"330m\",\"commonAddress\":\"경기 부천시\",\"roadAddress\":\"경기 부천시 경인로 65\",\"address\":\"송내동 366-7\",\"imageUrl\":\"https://ldb-phinf.pstatic.net/20150917_40/1442472450985PMXvp_JPEG/SUBMIT_1442472388789_37005490.jpg\",\"imageCount\":5,\"tags\":null,\"promotionTitle\":null,\"category\":\"내과\",\"routeUrl\":\"https://m.search.naver.com/search.naver?where=m&query=%EB%B9%A0%EB%A5%B8%EA%B8%B8%EC%B0%BE%EA%B8%B0&nso_path=placeType%5Eplace%3Bname%5E%3Baddress%5E%3Blatitude%5E%3Blongitude%5E%3Bcode%5E%7Ctype%5Eplace%3Bname%5E%EC%97%B0%EC%84%B8%ED%83%91%EB%82%B4%EA%B3%BC%EC%9D%98%EC%9B%90%3Baddress%5E%3Bcode%5E37005490%3Blongitude%5E126.7626161%3Blatitude%5E37.4839476%7Cobjtype%5Epath%3Bby%5Epubtrans\",\"businessHours\":\"평일 08:30~18:30 | 토요일 08:30~14:00 토요일점심시간없음 | 일요일 휴무 | 공휴일 휴무\",\"x\":\"126.7626161\",\"y\":\"37.4839476\",\"isDelivery\":null,\"isTakeOut\":null,\"isPreOrder\":null,\"isTableOrder\":null,\"naverBookingCategory\":null,\"bookingDisplayName\":null,\"bookingBusinessId\":null,\"bookingVisitId\":null,\"bookingPickupId\":null,\"vaccineOpeningHour\":{\"isDayOff\":false,\"standardTime\":\"7월 30일\",\"__typename\":\"VaccineOpeningHour\"},\"vaccineQuantity\":{\"totalQuantity\":0,\"totalQuantityStatus\":\"empty\",\"startTime\":\"1100\",\"endTime\":\"1700\",\"vaccineOrganizationCode\":\"41351681\",\"list\":[{\"quantity\":0,\"quantityStatus\":\"empty\",\"vaccineType\":\"화이자\",\"__typename\":\"VaccineQuantity\"},{\"quantity\":0,\"quantityStatus\":\"waiting\",\"vaccineType\":\"모더나\",\"__typename\":\"VaccineQuantity\"}],\"__typename\":\"VaccineQuantityListResult\"},\"__typename\":\"RestListItem\"},{\"id\":\"32480987\",\"name\":\"허연무내과의원\",\"dbType\":\"drt\",\"phone\":\"032-667-9361\",\"virtualPhone\":null,\"hasBooking\":false,\"hasNPay\":false,\"bookingReviewCount\":\"0\",\"description\":null,\"distance\":\"380m\",\"commonAddress\":\"경기 부천시\",\"roadAddress\":\"경기 부천시 경인로 134\",\"address\":\"송내동 581\",\"imageUrl\":\"https://ldb-phinf.pstatic.net/20191025_180/1571990273037L8tGP_JPEG/rXKmR-0QP-GUwPHGBe8kfTQs.jpg\",\"imageCount\":3,\"tags\":null,\"promotionTitle\":null,\"category\":\"내과\",\"routeUrl\":\"https://m.search.naver.com/search.naver?where=m&query=%EB%B9%A0%EB%A5%B8%EA%B8%B8%EC%B0%BE%EA%B8%B0&nso_path=placeType%5Eplace%3Bname%5E%3Baddress%5E%3Blatitude%5E%3Blongitude%5E%3Bcode%5E%7Ctype%5Eplace%3Bname%5E%ED%97%88%EC%97%B0%EB%AC%B4%EB%82%B4%EA%B3%BC%EC%9D%98%EC%9B%90%3Baddress%5E%3Bcode%5E32480987%3Blongitude%5E126.7703208%3Blatitude%5E37.4838355%7Cobjtype%5Epath%3Bby%5Epubtrans\",\"businessHours\":\"평일 09:00~18:00 점심시간 1시~2시 | 공휴일 휴무 | 토요일 09:00~13:00 | 일요일 휴무\",\"x\":\"126.7703208\",\"y\":\"37.4838355\",\"isDelivery\":null,\"isTakeOut\":null,\"isPreOrder\":null,\"isTableOrder\":null,\"naverBookingCategory\":null,\"bookingDisplayName\":null,\"bookingBusinessId\":null,\"bookingVisitId\":null,\"bookingPickupId\":null,\"vaccineOpeningHour\":{\"isDayOff\":false,\"standardTime\":\"7월 30일\",\"__typename\":\"VaccineOpeningHour\"},\"vaccineQuantity\":{\"totalQuantity\":0,\"totalQuantityStatus\":\"waiting\",\"startTime\":\"1200\",\"endTime\":\"1700\",\"vaccineOrganizationCode\":\"31323936\",\"list\":[{\"quantity\":0,\"quantityStatus\":\"waiting\",\"vaccineType\":\"화이자\",\"__typename\":\"VaccineQuantity\"},{\"quantity\":0,\"quantityStatus\":\"waiting\",\"vaccineType\":\"모더나\",\"__typename\":\"VaccineQuantity\"}],\"__typename\":\"VaccineQuantityListResult\"},\"__typename\":\"RestListItem\"},{\"id\":\"13240509\",\"name\":\"조경숙이비인후과의원\",\"dbType\":\"drt\",\"phone\":\"032-668-5125\",\"virtualPhone\":null,\"hasBooking\":false,\"hasNPay\":false,\"bookingReviewCount\":\"0\",\"description\":null,\"distance\":\"430m\",\"commonAddress\":\"경기 부천시\",\"roadAddress\":\"경기 부천시 중동로 108 팰리스카운티 4층 406호\",\"address\":\"중동 1289\",\"imageUrl\":\"https://ldb-phinf.pstatic.net/20191031_173/1572531985260leFYR_JPEG/WMmixWEG9pWLH5-B3hVO-s6q.jpg\",\"imageCount\":1,\"tags\":null,\"promotionTitle\":null,\"category\":\"이비인후과\",\"routeUrl\":\"https://m.search.naver.com/search.naver?where=m&query=%EB%B9%A0%EB%A5%B8%EA%B8%B8%EC%B0%BE%EA%B8%B0&nso_path=placeType%5Eplace%3Bname%5E%3Baddress%5E%3Blatitude%5E%3Blongitude%5E%3Bcode%5E%7Ctype%5Eplace%3Bname%5E%EC%A1%B0%EA%B2%BD%EC%88%99%EC%9D%B4%EB%B9%84%EC%9D%B8%ED%9B%84%EA%B3%BC%EC%9D%98%EC%9B%90%3Baddress%5E%3Bcode%5E13240509%3Blongitude%5E126.7657303%3Blatitude%5E37.4886517%7Cobjtype%5Epath%3Bby%5Epubtrans\",\"businessHours\":\"평일 09:00~18:00 점심시간 13:00~14:00 | 화요일 09:00~13:00 | 토요일 09:00~12:00 | 일요일 휴무 | 공휴일 휴무\",\"x\":\"126.7657303\",\"y\":\"37.4886517\",\"isDelivery\":null,\"isTakeOut\":null,\"isPreOrder\":null,\"isTableOrder\":null,\"naverBookingCategory\":null,\"bookingDisplayName\":null,\"bookingBusinessId\":null,\"bookingVisitId\":null,\"bookingPickupId\":null,\"vaccineOpeningHour\":{\"isDayOff\":false,\"standardTime\":\"7월 30일\",\"__typename\":\"VaccineOpeningHour\"},\"vaccineQuantity\":{\"totalQuantity\":0,\"totalQuantityStatus\":\"waiting\",\"startTime\":\"1000\",\"endTime\":\"1800\",\"vaccineOrganizationCode\":\"31353096\",\"list\":[{\"quantity\":0,\"quantityStatus\":\"waiting\",\"vaccineType\":\"화이자\",\"__typename\":\"VaccineQuantity\"},{\"quantity\":0,\"quantityStatus\":\"waiting\",\"vaccineType\":\"모더나\",\"__typename\":\"VaccineQuantity\"}],\"__typename\":\"VaccineQuantityListResult\"},\"__typename\":\"RestListItem\"},{\"id\":\"19516314\",\"name\":\"신위경소아청소년과의원\",\"dbType\":\"drt\",\"phone\":\"032-656-7575\",\"virtualPhone\":null,\"hasBooking\":false,\"hasNPay\":false,\"bookingReviewCount\":\"0\",\"description\":null,\"distance\":\"430m\",\"commonAddress\":\"경기 부천시\",\"roadAddress\":\"경기 부천시 중동로 100 아이파크상가 210호\",\"address\":\"중동 1289\",\"imageUrl\":\"https://ldb-phinf.pstatic.net/20191101_213/1572583862932WcuOB_JPEG/F4_lOLMgm2GObb3fNSTacwim.jpg\",\"imageCount\":1,\"tags\":null,\"promotionTitle\":null,\"category\":\"소아청소년과\",\"routeUrl\":\"https://m.search.naver.com/search.naver?where=m&query=%EB%B9%A0%EB%A5%B8%EA%B8%B8%EC%B0%BE%EA%B8%B0&nso_path=placeType%5Eplace%3Bname%5E%3Baddress%5E%3Blatitude%5E%3Blongitude%5E%3Bcode%5E%7Ctype%5Eplace%3Bname%5E%EC%8B%A0%EC%9C%84%EA%B2%BD%EC%86%8C%EC%95%84%EC%B2%AD%EC%86%8C%EB%85%84%EA%B3%BC%EC%9D%98%EC%9B%90%3Baddress%5E%3Bcode%5E19516314%3Blongitude%5E126.7657920%3Blatitude%5E37.4886847%7Cobjtype%5Epath%3Bby%5Epubtrans\",\"businessHours\":\"평일 09:00~18:00 | 수요일 09:00~14:00 | 토요일 09:00~14:00 매월 셋째주 휴진 | 공휴일 휴무\",\"x\":\"126.7657920\",\"y\":\"37.4886847\",\"isDelivery\":null,\"isTakeOut\":null,\"isPreOrder\":null,\"isTableOrder\":null,\"naverBookingCategory\":null,\"bookingDisplayName\":null,\"bookingBusinessId\":null,\"bookingVisitId\":null,\"bookingPickupId\":null,\"vaccineOpeningHour\":{\"isDayOff\":false,\"standardTime\":\"7월 30일\",\"__typename\":\"VaccineOpeningHour\"},\"vaccineQuantity\":{\"totalQuantity\":0,\"totalQuantityStatus\":\"waiting\",\"startTime\":\"1000\",\"endTime\":\"1600\",\"vaccineOrganizationCode\":\"31330819\",\"list\":[{\"quantity\":0,\"quantityStatus\":\"waiting\",\"vaccineType\":\"화이자\",\"__typename\":\"VaccineQuantity\"},{\"quantity\":0,\"quantityStatus\":\"waiting\",\"vaccineType\":\"모더나\",\"__typename\":\"VaccineQuantity\"}],\"__typename\":\"VaccineQuantityListResult\"},\"__typename\":\"RestListItem\"},{\"id\":\"11669533\",\"name\":\"현내과의원\",\"dbType\":\"drt\",\"phone\":\"032-657-7522\",\"virtualPhone\":null,\"hasBooking\":false,\"hasNPay\":false,\"bookingReviewCount\":\"0\",\"description\":null,\"distance\":\"430m\",\"commonAddress\":\"경기 부천시\",\"roadAddress\":\"경기 부천시 부일로 302\",\"address\":\"상동 326-16 부림빌딩 2층\",\"imageUrl\":\"https://ldb-phinf.pstatic.net/20210504_27/1620094650705u2NK9_JPEG/QkBBumYigQYywvZ_umhI0xaW.jpg\",\"imageCount\":1,\"tags\":null,\"promotionTitle\":null,\"category\":\"내과\",\"routeUrl\":\"https://m.search.naver.com/search.naver?where=m&query=%EB%B9%A0%EB%A5%B8%EA%B8%B8%EC%B0%BE%EA%B8%B0&nso_path=placeType%5Eplace%3Bname%5E%3Baddress%5E%3Blatitude%5E%3Blongitude%5E%3Bcode%5E%7Ctype%5Eplace%3Bname%5E%ED%98%84%EB%82%B4%EA%B3%BC%EC%9D%98%EC%9B%90%3Baddress%5E%3Bcode%5E11669533%3Blongitude%5E126.7638029%3Blatitude%5E37.4882505%7Cobjtype%5Epath%3Bby%5Epubtrans\",\"businessHours\":\"평일 09:00~18:30 | 토요일 09:00~13:00 | 일요일 휴무 | 공휴일 휴무\",\"x\":\"126.7638029\",\"y\":\"37.4882505\",\"isDelivery\":null,\"isTakeOut\":null,\"isPreOrder\":null,\"isTableOrder\":null,\"naverBookingCategory\":null,\"bookingDisplayName\":null,\"bookingBusinessId\":null,\"bookingVisitId\":null,\"bookingPickupId\":null,\"vaccineOpeningHour\":{\"isDayOff\":false,\"standardTime\":\"7월 30일\",\"__typename\":\"VaccineOpeningHour\"},\"vaccineQuantity\":{\"totalQuantity\":0,\"totalQuantityStatus\":\"waiting\",\"startTime\":\"1100\",\"endTime\":\"1700\",\"vaccineOrganizationCode\":\"31378285\",\"list\":[{\"quantity\":0,\"quantityStatus\":\"waiting\",\"vaccineType\":\"화이자\",\"__typename\":\"VaccineQuantity\"},{\"quantity\":0,\"quantityStatus\":\"waiting\",\"vaccineType\":\"모더나\",\"__typename\":\"VaccineQuantity\"}],\"__typename\":\"VaccineQuantityListResult\"},\"__typename\":\"RestListItem\"},{\"id\":\"12023403\",\"name\":\"푸른정형외과의원\",\"dbType\":\"drt\",\"phone\":\"032-668-6600\",\"virtualPhone\":null,\"hasBooking\":false,\"hasNPay\":false,\"bookingReviewCount\":\"0\",\"description\":null,\"distance\":\"460m\",\"commonAddress\":\"경기 부천시\",\"roadAddress\":\"경기 부천시 부일로 362 푸른정형외과\",\"address\":\"중동 797-2 푸른정형외과\",\"imageUrl\":\"https://ldb-phinf.pstatic.net/20150831_9/14410022804324KJYP_JPEG/12023403_0.jpg\",\"imageCount\":3,\"tags\":null,\"promotionTitle\":null,\"category\":\"정형외과\",\"routeUrl\":\"https://m.search.naver.com/search.naver?where=m&query=%EB%B9%A0%EB%A5%B8%EA%B8%B8%EC%B0%BE%EA%B8%B0&nso_path=placeType%5Eplace%3Bname%5E%3Baddress%5E%3Blatitude%5E%3Blongitude%5E%3Bcode%5E%7Ctype%5Eplace%3Bname%5E%ED%91%B8%EB%A5%B8%EC%A0%95%ED%98%95%EC%99%B8%EA%B3%BC%EC%9D%98%EC%9B%90%3Baddress%5E%3Bcode%5E12023403%3Blongitude%5E126.7701848%3Blatitude%5E37.4875150%7Cobjtype%5Epath%3Bby%5Epubtrans\",\"businessHours\":\"평일 09:00~18:00 | 토요일 09:00~13:00 | 일요일 휴무 | 공휴일 휴무\",\"x\":\"126.7701848\",\"y\":\"37.4875150\",\"isDelivery\":null,\"isTakeOut\":null,\"isPreOrder\":null,\"isTableOrder\":null,\"naverBookingCategory\":null,\"bookingDisplayName\":null,\"bookingBusinessId\":null,\"bookingVisitId\":null,\"bookingPickupId\":null,\"vaccineOpeningHour\":{\"isDayOff\":false,\"standardTime\":\"7월 30일\",\"__typename\":\"VaccineOpeningHour\"},\"vaccineQuantity\":{\"totalQuantity\":0,\"totalQuantityStatus\":\"waiting\",\"startTime\":\"0900\",\"endTime\":\"1700\",\"vaccineOrganizationCode\":\"41349008\",\"list\":[{\"quantity\":0,\"quantityStatus\":\"waiting\",\"vaccineType\":\"화이자\",\"__typename\":\"VaccineQuantity\"},{\"quantity\":0,\"quantityStatus\":\"waiting\",\"vaccineType\":\"모더나\",\"__typename\":\"VaccineQuantity\"}],\"__typename\":\"VaccineQuantityListResult\"},\"__typename\":\"RestListItem\"},{\"id\":\"11828390\",\"name\":\"의료법인송하의료재단베스티안부천병원\",\"dbType\":\"drt\",\"phone\":\"032-653-8734\",\"virtualPhone\":null,\"hasBooking\":false,\"hasNPay\":false,\"bookingReviewCount\":\"0\",\"description\":null,\"distance\":\"560m\",\"commonAddress\":\"경기 부천시\",\"roadAddress\":\"경기 부천시 심곡로10번길 68\",\"address\":\"송내동 577-2\",\"imageUrl\":null,\"imageCount\":0,\"tags\":null,\"promotionTitle\":null,\"category\":\"치과\",\"routeUrl\":\"https://m.search.naver.com/search.naver?where=m&query=%EB%B9%A0%EB%A5%B8%EA%B8%B8%EC%B0%BE%EA%B8%B0&nso_path=placeType%5Eplace%3Bname%5E%3Baddress%5E%3Blatitude%5E%3Blongitude%5E%3Bcode%5E%7Ctype%5Eplace%3Bname%5E%EC%9D%98%EB%A3%8C%EB%B2%95%EC%9D%B8%EC%86%A1%ED%95%98%EC%9D%98%EB%A3%8C%EC%9E%AC%EB%8B%A8%EB%B2%A0%EC%8A%A4%ED%8B%B0%EC%95%88%EB%B6%80%EC%B2%9C%EB%B3%91%EC%9B%90%3Baddress%5E%3Bcode%5E11828390%3Blongitude%5E126.7722824%3Blatitude%5E37.4834440%7Cobjtype%5Epath%3Bby%5Epubtrans\",\"businessHours\":\"\",\"x\":\"126.7722824\",\"y\":\"37.4834440\",\"isDelivery\":null,\"isTakeOut\":null,\"isPreOrder\":null,\"isTableOrder\":null,\"naverBookingCategory\":null,\"bookingDisplayName\":null,\"bookingBusinessId\":null,\"bookingVisitId\":null,\"bookingPickupId\":null,\"vaccineOpeningHour\":{\"isDayOff\":false,\"standardTime\":\"7월 30일\",\"__typename\":\"VaccineOpeningHour\"},\"vaccineQuantity\":{\"totalQuantity\":0,\"totalQuantityStatus\":\"waiting\",\"startTime\":\"1000\",\"endTime\":\"1600\",\"vaccineOrganizationCode\":\"31204261\",\"list\":[{\"quantity\":0,\"quantityStatus\":\"waiting\",\"vaccineType\":\"화이자\",\"__typename\":\"VaccineQuantity\"},{\"quantity\":0,\"quantityStatus\":\"waiting\",\"vaccineType\":\"모더나\",\"__typename\":\"VaccineQuantity\"}],\"__typename\":\"VaccineQuantityListResult\"},\"__typename\":\"RestListItem\"},{\"id\":\"13240257\",\"name\":\"이정례의원\",\"dbType\":\"drt\",\"phone\":\"032-612-2164\",\"virtualPhone\":null,\"hasBooking\":false,\"hasNPay\":false,\"bookingReviewCount\":\"0\",\"description\":null,\"distance\":\"570m\",\"commonAddress\":\"경기 부천시\",\"roadAddress\":\"경기 부천시 성주로 74\",\"address\":\"송내동 453-12\",\"imageUrl\":\"https://ldb-phinf.pstatic.net/20190130_231/15488373818215YqSk_JPEG/g4IrIvF7m5atJaSfzHEa73mu.jpeg.jpg\",\"imageCount\":1,\"tags\":null,\"promotionTitle\":null,\"category\":\"병원,의원\",\"routeUrl\":\"https://m.search.naver.com/search.naver?where=m&query=%EB%B9%A0%EB%A5%B8%EA%B8%B8%EC%B0%BE%EA%B8%B0&nso_path=placeType%5Eplace%3Bname%5E%3Baddress%5E%3Blatitude%5E%3Blongitude%5E%3Bcode%5E%7Ctype%5Eplace%3Bname%5E%EC%9D%B4%EC%A0%95%EB%A1%80%EC%9D%98%EC%9B%90%3Baddress%5E%3Bcode%5E13240257%3Blongitude%5E126.7646172%3Blatitude%5E37.4798413%7Cobjtype%5Epath%3Bby%5Epubtrans\",\"businessHours\":\"평일 08:00~18:30 점심시간 없음 | 토요일 08:00~15:00 | 일요일 휴무 | 공휴일 휴무 전화 후 내원\",\"x\":\"126.7646172\",\"y\":\"37.4798413\",\"isDelivery\":null,\"isTakeOut\":null,\"isPreOrder\":null,\"isTableOrder\":null,\"naverBookingCategory\":null,\"bookingDisplayName\":null,\"bookingBusinessId\":null,\"bookingVisitId\":null,\"bookingPickupId\":null,\"vaccineOpeningHour\":{\"isDayOff\":false,\"standardTime\":\"7월 30일\",\"__typename\":\"VaccineOpeningHour\"},\"vaccineQuantity\":{\"totalQuantity\":0,\"totalQuantityStatus\":\"waiting\",\"startTime\":\"0800\",\"endTime\":\"1800\",\"vaccineOrganizationCode\":\"31325211\",\"list\":[{\"quantity\":0,\"quantityStatus\":\"waiting\",\"vaccineType\":\"화이자\",\"__typename\":\"VaccineQuantity\"},{\"quantity\":0,\"quantityStatus\":\"waiting\",\"vaccineType\":\"모더나\",\"__typename\":\"VaccineQuantity\"}],\"__typename\":\"VaccineQuantityListResult\"},\"__typename\":\"RestListItem\"},{\"id\":\"13240370\",\"name\":\"장메디의원\",\"dbType\":\"drt\",\"phone\":\"032-655-2332\",\"virtualPhone\":null,\"hasBooking\":false,\"hasNPay\":false,\"bookingReviewCount\":\"0\",\"description\":null,\"distance\":\"830m\",\"commonAddress\":\"경기 부천시\",\"roadAddress\":\"경기 부천시 부일로 403 2층\",\"address\":\"심곡동 352-9\",\"imageUrl\":null,\"imageCount\":0,\"tags\":null,\"promotionTitle\":null,\"category\":\"내과\",\"routeUrl\":\"https://m.search.naver.com/search.naver?where=m&query=%EB%B9%A0%EB%A5%B8%EA%B8%B8%EC%B0%BE%EA%B8%B0&nso_path=placeType%5Eplace%3Bname%5E%3Baddress%5E%3Blatitude%5E%3Blongitude%5E%3Bcode%5E%7Ctype%5Eplace%3Bname%5E%EC%9E%A5%EB%A9%94%EB%94%94%EC%9D%98%EC%9B%90%3Baddress%5E%3Bcode%5E13240370%3Blongitude%5E126.7751043%3Blatitude%5E37.4871726%7Cobjtype%5Epath%3Bby%5Epubtrans\",\"businessHours\":\"평일 09:00~18:00 | 수요일 09:00~13:00 | 토요일 09:00~13:00 | 일요일 휴무 | 공휴일 휴무\",\"x\":\"126.7751043\",\"y\":\"37.4871726\",\"isDelivery\":null,\"isTakeOut\":null,\"isPreOrder\":null,\"isTableOrder\":null,\"naverBookingCategory\":null,\"bookingDisplayName\":null,\"bookingBusinessId\":null,\"bookingVisitId\":null,\"bookingPickupId\":null,\"vaccineOpeningHour\":{\"isDayOff\":false,\"standardTime\":\"7월 30일\",\"__typename\":\"VaccineOpeningHour\"},\"vaccineQuantity\":{\"totalQuantity\":0,\"totalQuantityStatus\":\"empty\",\"startTime\":\"1000\",\"endTime\":\"1700\",\"vaccineOrganizationCode\":\"41302303\",\"list\":[{\"quantity\":0,\"quantityStatus\":\"empty\",\"vaccineType\":\"화이자\",\"__typename\":\"VaccineQuantity\"},{\"quantity\":0,\"quantityStatus\":\"waiting\",\"vaccineType\":\"모더나\",\"__typename\":\"VaccineQuantity\"}],\"__typename\":\"VaccineQuantityListResult\"},\"__typename\":\"RestListItem\"},{\"id\":\"13240342\",\"name\":\"마학기가정의학과의원\",\"dbType\":\"drt\",\"phone\":\"032-652-8275\",\"virtualPhone\":null,\"hasBooking\":false,\"hasNPay\":false,\"bookingReviewCount\":\"0\",\"description\":null,\"distance\":\"1.0km\",\"commonAddress\":\"경기 부천시\",\"roadAddress\":\"경기 부천시 장말로 290\",\"address\":\"심곡동 323-13\",\"imageUrl\":null,\"imageCount\":0,\"tags\":null,\"promotionTitle\":null,\"category\":\"가정의학과\",\"routeUrl\":\"https://m.search.naver.com/search.naver?where=m&query=%EB%B9%A0%EB%A5%B8%EA%B8%B8%EC%B0%BE%EA%B8%B0&nso_path=placeType%5Eplace%3Bname%5E%3Baddress%5E%3Blatitude%5E%3Blongitude%5E%3Bcode%5E%7Ctype%5Eplace%3Bname%5E%EB%A7%88%ED%95%99%EA%B8%B0%EA%B0%80%EC%A0%95%EC%9D%98%ED%95%99%EA%B3%BC%EC%9D%98%EC%9B%90%3Baddress%5E%3Bcode%5E13240342%3Blongitude%5E126.7740348%3Blatitude%5E37.4913119%7Cobjtype%5Epath%3Bby%5Epubtrans\",\"businessHours\":\"평일 09:00~19:00 점심시간 13:00~14:00 | 토요일 09:00~13:00 점심시간 없이 진료 | 일요일 휴무 공휴일 포함\",\"x\":\"126.7740348\",\"y\":\"37.4913119\",\"isDelivery\":null,\"isTakeOut\":null,\"isPreOrder\":null,\"isTableOrder\":null,\"naverBookingCategory\":null,\"bookingDisplayName\":null,\"bookingBusinessId\":null,\"bookingVisitId\":null,\"bookingPickupId\":null,\"vaccineOpeningHour\":{\"isDayOff\":false,\"standardTime\":\"7월 30일\",\"__typename\":\"VaccineOpeningHour\"},\"vaccineQuantity\":{\"totalQuantity\":0,\"totalQuantityStatus\":\"waiting\",\"startTime\":\"0900\",\"endTime\":\"1900\",\"vaccineOrganizationCode\":\"31367224\",\"list\":[{\"quantity\":0,\"quantityStatus\":\"waiting\",\"vaccineType\":\"화이자\",\"__typename\":\"VaccineQuantity\"},{\"quantity\":0,\"quantityStatus\":\"waiting\",\"vaccineType\":\"모더나\",\"__typename\":\"VaccineQuantity\"}],\"__typename\":\"VaccineQuantityListResult\"},\"__typename\":\"RestListItem\"},{\"id\":\"13240505\",\"name\":\"이수용소아청소년과의원\",\"dbType\":\"drt\",\"phone\":\"032-668-1782\",\"virtualPhone\":null,\"hasBooking\":false,\"hasNPay\":false,\"bookingReviewCount\":\"0\",\"description\":null,\"distance\":\"1.0km\",\"commonAddress\":\"경기 부천시\",\"roadAddress\":\"경기 부천시 장말로 294\",\"address\":\"심곡동 326\",\"imageUrl\":\"https://ldb-phinf.pstatic.net/20191030_209/1572418538575Ob8YC_JPEG/usMN0sT41kgFEjuQG86FBVJ4.jpg\",\"imageCount\":1,\"tags\":null,\"promotionTitle\":null,\"category\":\"소아청소년과\",\"routeUrl\":\"https://m.search.naver.com/search.naver?where=m&query=%EB%B9%A0%EB%A5%B8%EA%B8%B8%EC%B0%BE%EA%B8%B0&nso_path=placeType%5Eplace%3Bname%5E%3Baddress%5E%3Blatitude%5E%3Blongitude%5E%3Bcode%5E%7Ctype%5Eplace%3Bname%5E%EC%9D%B4%EC%88%98%EC%9A%A9%EC%86%8C%EC%95%84%EC%B2%AD%EC%86%8C%EB%85%84%EA%B3%BC%EC%9D%98%EC%9B%90%3Baddress%5E%3Bcode%5E13240505%3Blongitude%5E126.7746301%3Blatitude%5E37.4911892%7Cobjtype%5Epath%3Bby%5Epubtrans\",\"businessHours\":\"평일 09:00~19:00 점심시간 13:00~14:00 | 토요일 09:00~15:00 | 일요일 휴무 | 공휴일 휴무\",\"x\":\"126.7746301\",\"y\":\"37.4911892\",\"isDelivery\":null,\"isTakeOut\":null,\"isPreOrder\":null,\"isTableOrder\":null,\"naverBookingCategory\":null,\"bookingDisplayName\":null,\"bookingBusinessId\":null,\"bookingVisitId\":null,\"bookingPickupId\":null,\"vaccineOpeningHour\":{\"isDayOff\":false,\"standardTime\":\"7월 30일\",\"__typename\":\"VaccineOpeningHour\"},\"vaccineQuantity\":{\"totalQuantity\":0,\"totalQuantityStatus\":\"waiting\",\"startTime\":\"0900\",\"endTime\":\"1800\",\"vaccineOrganizationCode\":\"31394841\",\"list\":[{\"quantity\":0,\"quantityStatus\":\"waiting\",\"vaccineType\":\"화이자\",\"__typename\":\"VaccineQuantity\"},{\"quantity\":0,\"quantityStatus\":\"waiting\",\"vaccineType\":\"모더나\",\"__typename\":\"VaccineQuantity\"}],\"__typename\":\"VaccineQuantityListResult\"},\"__typename\":\"RestListItem\"}],\"__typename\":\"RestBusinesses\"},\"queryResult\":{\"keyword\":\"코로나백신위탁의료기관\",\"vaccineFilter\":null,\"categories\":[\"1004836\"],\"region\":null,\"isBrandList\":null,\"filterBooking\":null,\"hasNearQuery\":null,\"isPublicMask\":null,\"__typename\":\"AttractionListQueryResult\"},\"__typename\":\"RestListApiResult\"}}}]\n",
    "# tmp[0][0]"
   ]
  },
  {
   "cell_type": "code",
   "execution_count": 15,
   "metadata": {},
   "outputs": [
    {
     "data": {
      "text/plain": [
       "dict_keys(['businesses', 'queryResult', '__typename'])"
      ]
     },
     "execution_count": 15,
     "metadata": {},
     "output_type": "execute_result"
    }
   ],
   "source": [
    "tmp[0]['data']['rests'].keys()"
   ]
  },
  {
   "cell_type": "code",
   "execution_count": null,
   "metadata": {},
   "outputs": [],
   "source": []
  }
 ],
 "metadata": {
  "interpreter": {
   "hash": "66725da8cd7a014ad20077260537a77858d60878c0d94adc7d9ed308e4bb2094"
  },
  "kernelspec": {
   "display_name": "Python 3",
   "language": "python",
   "name": "python3"
  },
  "language_info": {
   "codemirror_mode": {
    "name": "ipython",
    "version": 3
   },
   "file_extension": ".py",
   "mimetype": "text/x-python",
   "name": "python",
   "nbconvert_exporter": "python",
   "pygments_lexer": "ipython3",
   "version": "3.9.4"
  }
 },
 "nbformat": 4,
 "nbformat_minor": 2
}
