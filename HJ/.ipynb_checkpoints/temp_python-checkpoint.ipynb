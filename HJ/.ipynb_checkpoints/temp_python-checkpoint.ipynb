{
 "cells": [
  {
   "cell_type": "code",
   "execution_count": 6,
   "metadata": {},
   "outputs": [
    {
     "data": {
      "text/plain": [
       "'A'"
      ]
     },
     "execution_count": 6,
     "metadata": {},
     "output_type": "execute_result"
    }
   ],
   "source": [
    "chr(97).upper()"
   ]
  },
  {
   "cell_type": "code",
   "execution_count": 3,
   "metadata": {},
   "outputs": [
    {
     "data": {
      "text/plain": [
       "65"
      ]
     },
     "execution_count": 3,
     "metadata": {},
     "output_type": "execute_result"
    }
   ],
   "source": [
    "ord('A')"
   ]
  },
  {
   "cell_type": "code",
   "execution_count": 7,
   "metadata": {},
   "outputs": [],
   "source": [
    "class Human:\n",
    "    def __init__(self, name, age):\n",
    "        self.name = name\n",
    "        self.age = age\n",
    "\n",
    "    def __repr__(self):\n",
    "        return f\"<Human: {self.name}, {self.age}>\"\n",
    "\n",
    "\n",
    "# 아래 humans에 할당된 list object는 다음과 같다.\n",
    "# Human(\"이름\", 연령)\n",
    "humans = [\n",
    "    Human(\"Abi\", 29),\n",
    "    Human(\"Batista\", 32),\n",
    "    Human(\"Charlse\", 37),\n",
    "    Human(\"Dolphine\", 30),\n",
    "    Human(\"Eva\", 26),\n",
    "    Human(\"Frin\", 18),\n",
    "    Human(\"Gless\", 42),\n",
    "    Human(\"Harby\", 12),\n",
    "    Human(\"Iris\", 41),\n",
    "    Human(\"David\", 31),\n",
    "]"
   ]
  },
  {
   "cell_type": "code",
   "execution_count": 23,
   "metadata": {},
   "outputs": [
    {
     "data": {
      "text/plain": [
       "[('ABI', 34),\n",
       " ('BATISTA', 37),\n",
       " ('CHARLSE', 42),\n",
       " ('DOLPHINE', 35),\n",
       " ('EVA', 31),\n",
       " ('FRIN', 23),\n",
       " ('GLESS', 47),\n",
       " ('HARBY', 17),\n",
       " ('IRIS', 46),\n",
       " ('DAVID', 36)]"
      ]
     },
     "execution_count": 23,
     "metadata": {},
     "output_type": "execute_result"
    }
   ],
   "source": [
    "g = [(i.name.upper(), i.age+5) for i in humans]\n",
    "g"
   ]
  },
  {
   "cell_type": "code",
   "execution_count": 26,
   "metadata": {},
   "outputs": [
    {
     "name": "stdout",
     "output_type": "stream",
     "text": [
      "0 점대 - : 2 명\n",
      "10 점대 - : 1 명\n",
      "20 점대 - : 2 명\n",
      "30 점대 - : 3 명\n",
      "40 점대 - : 4 명\n",
      "50 점대 - : 0 명\n",
      "60 점대 - : 2 명\n",
      "70 점대 - : 2 명\n",
      "80 점대 - : 1 명\n",
      "90 점대 - : 2 명\n",
      "100 점대 - : 1 명\n"
     ]
    }
   ],
   "source": [
    "def part3(score_list):\n",
    "    person=[0]*11\n",
    "    for score in score_list:\n",
    "        if score < 0: continue\n",
    "        person[int(score/10)] += 1\n",
    "\n",
    "    for i in range(len(person)): \n",
    "        print(\"{0} 점대 - : {1} 명\".format(i*10, person[i]))\n",
    "\n",
    "part3([75, 25, 6, 73, 43, 46, 31, 13, 60, 90, 5,\n",
    "               43, 35, 65, 100, 28, 83, 95, 35, 45, -1])\n",
    "\n",
    "    "
   ]
  },
  {
   "cell_type": "code",
   "execution_count": 49,
   "metadata": {},
   "outputs": [
    {
     "data": {
      "text/plain": [
       "1"
      ]
     },
     "execution_count": 49,
     "metadata": {},
     "output_type": "execute_result"
    }
   ],
   "source": [
    "# a=[1,2,5,3]\n",
    "# a.sort()\n",
    "# a.pop()\n",
    "# [i for i in range(1)]\n",
    "5//5"
   ]
  },
  {
   "cell_type": "code",
   "execution_count": 9,
   "metadata": {},
   "outputs": [
    {
     "name": "stdout",
     "output_type": "stream",
     "text": [
      "('d', 2)\n",
      "('b', 2)\n"
     ]
    }
   ],
   "source": [
    "from collections import Counter\n",
    "s='ddbbc'\n",
    "c = Counter(s)\n",
    "\n",
    "cm = c.most_common()\n",
    "for i in cm:\n",
    "    if i[1]==cm[0][1]:\n",
    "        print(i)\n",
    "    else: \n",
    "        break"
   ]
  },
  {
   "cell_type": "code",
   "execution_count": 17,
   "metadata": {},
   "outputs": [
    {
     "data": {
      "text/plain": [
       "[('b', 2), ('d', 2), ('c', 1)]"
      ]
     },
     "execution_count": 17,
     "metadata": {},
     "output_type": "execute_result"
    }
   ],
   "source": [
    "sorted(cm, key=(lambda x : (-x[1], x[0])))"
   ]
  },
  {
   "cell_type": "code",
   "execution_count": null,
   "metadata": {},
   "outputs": [],
   "source": []
  },
  {
   "cell_type": "code",
   "execution_count": 71,
   "metadata": {},
   "outputs": [
    {
     "name": "stdout",
     "output_type": "stream",
     "text": [
      "3 a 9 3\n",
      "ok\n",
      "3 tmplen :  2\n",
      "5 c 7 5\n",
      "ok\n",
      "ok\n",
      "ok\n",
      "ok\n",
      "ok\n",
      "5 tmplen :  12\n",
      "7 a 5 4\n",
      "7 tmplen :  2\n"
     ]
    },
    {
     "data": {
      "text/plain": [
       "12"
      ]
     },
     "execution_count": 71,
     "metadata": {},
     "output_type": "execute_result"
    }
   ],
   "source": [
    "#  012345678\n",
    "# s='aaccaadd'\n",
    "s='fdsaaccaasdf'\n",
    "# idx=0\n",
    "maxleng=1\n",
    "for i,v in enumerate(s):\n",
    "    if i<len(s)-1 and v == s[i+1]:\n",
    "        # 2칸씩체크\n",
    "        tmplen=2\n",
    "        check_range = min(i-0, len(s)-i-1)\n",
    "        print(i,v, len(s)-i, check_range)\n",
    "        if check_range > 0 and i+check_range < len(s)-1:\n",
    "            for cidx in range(1, check_range+1):\n",
    "                print('ok')\n",
    "                if s[i+cidx+1] == s[i-cidx]:\n",
    "                    \n",
    "                    tmplen+=2\n",
    "                else:\n",
    "                    break\n",
    "        maxleng = max(tmplen, maxleng)\n",
    "        print(i, 'tmplen : ',tmplen)\n",
    "    else:\n",
    "        tmplen=1\n",
    "        check_range = min(i-0, len(s)-i-1)\n",
    "        if check_range>0:\n",
    "            for cidx in range(1,check_range+1):\n",
    "                if s[i +cidx]==s[i-cidx]:\n",
    "                    tmplen+=2\n",
    "                else:\n",
    "                    break\n",
    "#             print(i, 'tmplen : ',tmplen)\n",
    "            maxleng = max(tmplen, maxleng)\n",
    "    \n",
    "maxleng\n",
    "    "
   ]
  }
 ],
 "metadata": {
  "kernelspec": {
   "display_name": "Python 3",
   "language": "python",
   "name": "python3"
  },
  "language_info": {
   "codemirror_mode": {
    "name": "ipython",
    "version": 3
   },
   "file_extension": ".py",
   "mimetype": "text/x-python",
   "name": "python",
   "nbconvert_exporter": "python",
   "pygments_lexer": "ipython3",
   "version": "3.8.5"
  }
 },
 "nbformat": 4,
 "nbformat_minor": 4
}
