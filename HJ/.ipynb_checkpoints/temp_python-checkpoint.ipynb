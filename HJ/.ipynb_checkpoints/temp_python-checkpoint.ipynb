{
 "cells": [
  {
   "cell_type": "code",
   "execution_count": 6,
   "metadata": {},
   "outputs": [
    {
     "data": {
      "text/plain": [
       "'A'"
      ]
     },
     "execution_count": 6,
     "metadata": {},
     "output_type": "execute_result"
    }
   ],
   "source": [
    "chr(97).upper()"
   ]
  },
  {
   "cell_type": "code",
   "execution_count": 3,
   "metadata": {},
   "outputs": [
    {
     "data": {
      "text/plain": [
       "65"
      ]
     },
     "execution_count": 3,
     "metadata": {},
     "output_type": "execute_result"
    }
   ],
   "source": [
    "ord('A')"
   ]
  },
  {
   "cell_type": "code",
   "execution_count": 7,
   "metadata": {},
   "outputs": [],
   "source": [
    "class Human:\n",
    "    def __init__(self, name, age):\n",
    "        self.name = name\n",
    "        self.age = age\n",
    "\n",
    "    def __repr__(self):\n",
    "        return f\"<Human: {self.name}, {self.age}>\"\n",
    "\n",
    "\n",
    "# 아래 humans에 할당된 list object는 다음과 같다.\n",
    "# Human(\"이름\", 연령)\n",
    "humans = [\n",
    "    Human(\"Abi\", 29),\n",
    "    Human(\"Batista\", 32),\n",
    "    Human(\"Charlse\", 37),\n",
    "    Human(\"Dolphine\", 30),\n",
    "    \n",
    "    Human(\"Eva\", 26),\n",
    "    Human(\"Frin\", 18),\n",
    "    Human(\"Gless\", 42),\n",
    "    Human(\"Harby\", 12),\n",
    "    Human(\"Iris\", 41),\n",
    "    Human(\"David\", 31),\n",
    "]"
   ]
  },
  {
   "cell_type": "code",
   "execution_count": 23,
   "metadata": {},
   "outputs": [
    {
     "data": {
      "text/plain": [
       "[('ABI', 34),\n",
       " ('BATISTA', 37),\n",
       " ('CHARLSE', 42),\n",
       " ('DOLPHINE', 35),\n",
       " ('EVA', 31),\n",
       " ('FRIN', 23),\n",
       " ('GLESS', 47),\n",
       " ('HARBY', 17),\n",
       " ('IRIS', 46),\n",
       " ('DAVID', 36)]"
      ]
     },
     "execution_count": 23,
     "metadata": {},
     "output_type": "execute_result"
    }
   ],
   "source": [
    "g = [(i.name.upper(), i.age+5) for i in humans]\n",
    "g"
   ]
  },
  {
   "cell_type": "code",
   "execution_count": 26,
   "metadata": {},
   "outputs": [
    {
     "name": "stdout",
     "output_type": "stream",
     "text": [
      "0 점대 - : 2 명\n",
      "10 점대 - : 1 명\n",
      "20 점대 - : 2 명\n",
      "30 점대 - : 3 명\n",
      "40 점대 - : 4 명\n",
      "50 점대 - : 0 명\n",
      "60 점대 - : 2 명\n",
      "70 점대 - : 2 명\n",
      "80 점대 - : 1 명\n",
      "90 점대 - : 2 명\n",
      "100 점대 - : 1 명\n"
     ]
    }
   ],
   "source": [
    "def part3(score_list):\n",
    "    person=[0]*11\n",
    "    for score in score_list:\n",
    "        if score < 0: continue\n",
    "        person[int(score/10)] += 1\n",
    "\n",
    "    for i in range(len(person)): \n",
    "        print(\"{0} 점대 - : {1} 명\".format(i*10, person[i]))\n",
    "\n",
    "part3([75, 25, 6, 73, 43, 46, 31, 13, 60, 90, 5,\n",
    "               43, 35, 65, 100, 28, 83, 95, 35, 45, -1])\n",
    "\n",
    "    "
   ]
  },
  {
   "cell_type": "code",
   "execution_count": 49,
   "metadata": {},
   "outputs": [
    {
     "data": {
      "text/plain": [
       "1"
      ]
     },
     "execution_count": 49,
     "metadata": {},
     "output_type": "execute_result"
    }
   ],
   "source": [
    "# a=[1,2,5,3]\n",
    "# a.sort()\n",
    "# a.pop()\n",
    "# [i for i in range(1)]\n",
    "5//5"
   ]
  },
  {
   "cell_type": "code",
   "execution_count": 9,
   "metadata": {},
   "outputs": [
    {
     "name": "stdout",
     "output_type": "stream",
     "text": [
      "('d', 2)\n",
      "('b', 2)\n"
     ]
    }
   ],
   "source": [
    "from collections import Counter\n",
    "s='ddbbc'\n",
    "c = Counter(s)\n",
    "\n",
    "cm = c.most_common()\n",
    "for i in cm:\n",
    "    if i[1]==cm[0][1]:\n",
    "        print(i)\n",
    "    else: \n",
    "        break"
   ]
  },
  {
   "cell_type": "code",
   "execution_count": 17,
   "metadata": {},
   "outputs": [
    {
     "data": {
      "text/plain": [
       "[('b', 2), ('d', 2), ('c', 1)]"
      ]
     },
     "execution_count": 17,
     "metadata": {},
     "output_type": "execute_result"
    }
   ],
   "source": [
    "sorted(cm, key=(lambda x : (-x[1], x[0])))"
   ]
  },
  {
   "cell_type": "code",
   "execution_count": 36,
   "metadata": {},
   "outputs": [
    {
     "data": {
      "text/plain": [
       "120"
      ]
     },
     "execution_count": 36,
     "metadata": {},
     "output_type": "execute_result"
    }
   ],
   "source": [
    "def memoize_factorial(f): \n",
    "    memory = {1:1,2:2} \n",
    "    def wrapper(*args, **kargs):\n",
    "        k=f(*args,**kargs)\n",
    "        i=2\n",
    "        while i<k:\n",
    "            i+=1\n",
    "            memory[i] = memory[i-1] * i\n",
    "        return memory[k]\n",
    "    return wrapper\n",
    "\n",
    "@memoize_factorial\n",
    "def facto(num): \n",
    "    return num\n",
    "facto(5)"
   ]
  },
  {
   "cell_type": "code",
   "execution_count": 35,
   "metadata": {},
   "outputs": [
    {
     "data": {
      "text/plain": [
       "(6, 120)"
      ]
     },
     "execution_count": 35,
     "metadata": {},
     "output_type": "execute_result"
    }
   ],
   "source": [
    "def memoize_factorial(func): \n",
    "    memory = {1:1,2:2}\n",
    "    def wrapper(*args, **kargs):\n",
    "        k=args[0]\n",
    "        if k in memory : return memory[k]\n",
    "        else:\n",
    "            i = len(memory)\n",
    "            while i<k:\n",
    "                memory[i+1] = memory[i]*(i+1)\n",
    "                i+=1\n",
    "        return memory[k]\n",
    "    return wrapper\n",
    "\n",
    "@memoize_factorial\n",
    "def facto(num):\n",
    "    if num==1: return 1\n",
    "    else: return num * facto(num-1)\n",
    "facto(3) , facto(5)"
   ]
  },
  {
   "cell_type": "code",
   "execution_count": 34,
   "metadata": {},
   "outputs": [
    {
     "data": {
      "text/plain": [
       "120"
      ]
     },
     "execution_count": 34,
     "metadata": {},
     "output_type": "execute_result"
    }
   ],
   "source": [
    "def memoize_factorial(f): \n",
    "    memory = {} \n",
    "    def wrap(args):\n",
    "        if args in memory:\n",
    "            return memory[args]\n",
    "        memory[args]=f(args)\n",
    "        return memory[args]\n",
    "    return wrap\n",
    "\n",
    "@memoize_factorial\n",
    "def facto(num): \n",
    "    if num==1:\n",
    "        return 1\n",
    "    else :\n",
    "        return num * facto(num-1)    \n",
    "facto(5)"
   ]
  },
  {
   "cell_type": "code",
   "execution_count": 71,
   "metadata": {},
   "outputs": [
    {
     "name": "stdout",
     "output_type": "stream",
     "text": [
      "3 a 9 3\n",
      "ok\n",
      "3 tmplen :  2\n",
      "5 c 7 5\n",
      "ok\n",
      "ok\n",
      "ok\n",
      "ok\n",
      "ok\n",
      "5 tmplen :  12\n",
      "7 a 5 4\n",
      "7 tmplen :  2\n"
     ]
    },
    {
     "data": {
      "text/plain": [
       "12"
      ]
     },
     "execution_count": 71,
     "metadata": {},
     "output_type": "execute_result"
    }
   ],
   "source": [
    "#  012345678\n",
    "# s='aaccaadd'\n",
    "s='fdsaaccaasdf'\n",
    "# idx=0\n",
    "maxleng=1\n",
    "for i,v in enumerate(s):\n",
    "    if i<len(s)-1 and v == s[i+1]:\n",
    "        # 2칸씩체크\n",
    "        tmplen=2\n",
    "        check_range = min(i-0, len(s)-i-1)\n",
    "        print(i,v, len(s)-i, check_range)\n",
    "        if check_range > 0 and i+check_range < len(s)-1:\n",
    "            for cidx in range(1, check_range+1):\n",
    "                print('ok')\n",
    "                if s[i+cidx+1] == s[i-cidx]:\n",
    "                    \n",
    "                    tmplen+=2\n",
    "                else:\n",
    "                    break\n",
    "        maxleng = max(tmplen, maxleng)\n",
    "        print(i, 'tmplen : ',tmplen)\n",
    "    else:\n",
    "        tmplen=1\n",
    "        check_range = min(i-0, len(s)-i-1)\n",
    "        if check_range>0:\n",
    "            for cidx in range(1,check_range+1):\n",
    "                if s[i +cidx]==s[i-cidx]:\n",
    "                    tmplen+=2\n",
    "                else:\n",
    "                    break\n",
    "#             print(i, 'tmplen : ',tmplen)\n",
    "            maxleng = max(tmplen, maxleng)\n",
    "    \n",
    "maxleng\n",
    "    "
   ]
  },
  {
   "cell_type": "code",
   "execution_count": null,
   "metadata": {},
   "outputs": [],
   "source": []
  },
  {
   "cell_type": "code",
   "execution_count": null,
   "metadata": {},
   "outputs": [],
   "source": []
  },
  {
   "cell_type": "code",
   "execution_count": null,
   "metadata": {},
   "outputs": [],
   "source": []
  },
  {
   "cell_type": "code",
   "execution_count": 278,
   "metadata": {},
   "outputs": [],
   "source": [
    "tmp=[\n",
    "    [1,1,1,1,1],\n",
    "    [1,1,1,0,1],\n",
    "    [1,1,1,1,1],\n",
    "    [1,1,1,1,1],\n",
    "    [1,1,1,1,1]]\n",
    "\n",
    "# x = 1  , y = 3\n",
    "# for x in range(0,len(tmp)):\n",
    "#     for y in range(0,len(tmp[0])):\n",
    "#         if tmp[x][y]==0:\n",
    "#             print(x,y)\n",
    "#             print([i[:] for i in tmp[:x]] ) # up\n",
    "#             print([i[:y] for i in tmp[:]]) # left\n",
    "#             print([i[y+1:] for i in tmp[:]]) # right\n",
    "#             print([i[:] for i in tmp[x+1:]]) # down\n"
   ]
  },
  {
   "cell_type": "code",
   "execution_count": 285,
   "metadata": {},
   "outputs": [
    {
     "name": "stdout",
     "output_type": "stream",
     "text": [
      "[[1, 1, 1, 1, 1], [1, 0, 1, 1, 1], [1, 1, 1, 1, 1], [1, 1, 1, 1, 1], [1, 1, 1, 1, 1]]\n",
      "width : 5 \thieght :  5\n",
      "for문 ::  x : 0 \ty : 0 \t 1\n",
      "for문 ::  x : 0 \ty : 1 \t 1\n",
      "for문 ::  x : 0 \ty : 2 \t 1\n",
      "for문 ::  x : 0 \ty : 3 \t 1\n",
      "for문 ::  x : 0 \ty : 4 \t 1\n",
      "for문 ::  x : 1 \ty : 0 \t 1\n",
      "for문 ::  x : 1 \ty : 1 \t 0\n",
      "[[1, 1, 1, 1, 1]]\n",
      "width : 5 \thieght :  1\n",
      "for문 ::  x : 0 \ty : 0 \t 1\n",
      "for문 ::  x : 0 \ty : 1 \t 1\n",
      "for문 ::  x : 0 \ty : 2 \t 1\n",
      "for문 ::  x : 0 \ty : 3 \t 1\n",
      "for문 ::  x : 0 \ty : 4 \t 1\n",
      "[[1], [1], [1], [1], [1]]\n",
      "width : 1 \thieght :  5\n",
      "for문 ::  x : 0 \ty : 0 \t 1\n",
      "for문 ::  x : 1 \ty : 0 \t 1\n",
      "for문 ::  x : 2 \ty : 0 \t 1\n",
      "for문 ::  x : 3 \ty : 0 \t 1\n",
      "for문 ::  x : 4 \ty : 0 \t 1\n",
      "[[1, 1, 1], [1, 1, 1], [1, 1, 1], [1, 1, 1], [1, 1, 1]]\n",
      "width : 3 \thieght :  5\n",
      "for문 ::  x : 0 \ty : 0 \t 1\n",
      "for문 ::  x : 0 \ty : 1 \t 1\n",
      "for문 ::  x : 0 \ty : 2 \t 1\n",
      "for문 ::  x : 1 \ty : 0 \t 1\n",
      "for문 ::  x : 1 \ty : 1 \t 1\n",
      "for문 ::  x : 1 \ty : 2 \t 1\n",
      "for문 ::  x : 2 \ty : 0 \t 1\n",
      "for문 ::  x : 2 \ty : 1 \t 1\n",
      "for문 ::  x : 2 \ty : 2 \t 1\n",
      "for문 ::  x : 3 \ty : 0 \t 1\n",
      "for문 ::  x : 3 \ty : 1 \t 1\n",
      "for문 ::  x : 3 \ty : 2 \t 1\n",
      "for문 ::  x : 4 \ty : 0 \t 1\n",
      "for문 ::  x : 4 \ty : 1 \t 1\n",
      "for문 ::  x : 4 \ty : 2 \t 1\n",
      "[[1, 1, 1, 1, 1], [1, 1, 1, 1, 1], [1, 1, 1, 1, 1]]\n",
      "width : 5 \thieght :  3\n",
      "for문 ::  x : 0 \ty : 0 \t 1\n",
      "for문 ::  x : 0 \ty : 1 \t 1\n",
      "for문 ::  x : 0 \ty : 2 \t 1\n",
      "for문 ::  x : 0 \ty : 3 \t 1\n",
      "for문 ::  x : 0 \ty : 4 \t 1\n",
      "for문 ::  x : 1 \ty : 0 \t 1\n",
      "for문 ::  x : 1 \ty : 1 \t 1\n",
      "for문 ::  x : 1 \ty : 2 \t 1\n",
      "for문 ::  x : 1 \ty : 3 \t 1\n",
      "for문 ::  x : 1 \ty : 4 \t 1\n",
      "for문 ::  x : 2 \ty : 0 \t 1\n",
      "for문 ::  x : 2 \ty : 1 \t 1\n",
      "for문 ::  x : 2 \ty : 2 \t 1\n",
      "for문 ::  x : 2 \ty : 3 \t 1\n",
      "for문 ::  x : 2 \ty : 4 \t 1\n",
      "15\n"
     ]
    }
   ],
   "source": [
    "# 가장 큰 사각형의 넓이\n",
    "def square(square_list):\n",
    "    if square_list:\n",
    "        width = len(square_list[0])\n",
    "        height = len(square_list)\n",
    "        space = 0\n",
    "        for x in range(0,height):\n",
    "            for y in range(0,width):\n",
    "                if square_list[x][y] == 1:\n",
    "                    space+=1\n",
    "                else:\n",
    "\n",
    "                    a=square([i[:] for i in square_list[:x]]) # up\n",
    "                    b=square([i[:y] for i in square_list[:]]) # left\n",
    "                    c=square([i[y+1:] for i in square_list[:]]) # right\n",
    "                    d=square([i[:] for i in square_list[x+1:]]) # down          \n",
    "                    return max(a,b,c,d)\n",
    "        return space\n",
    "    else:\n",
    "        return 0\n",
    "\n",
    "\n",
    "\n",
    "# square_list = [[0,1,1,1],[1,1,1,1]]\n",
    "# print(square(square_list))\n",
    "# 6\n",
    "# square_list = [[0,0,1,1],[1,1,1,1],[1,1,1,1],[1,1,1,1]]\t\n",
    "# print(square(square_list))\n",
    "# #12\n",
    "# square_list = [[0,1,1,1,1],[1,1,1,1,1],[1,1,1,1,1],[1,1,1,1,1],[1,1,1,1,1]]\n",
    "square_list = [[1,1,1,1,1],[1,0,1,1,1],[1,1,1,1,1],[1,1,1,1,1],[1,1,1,1,1]]\n",
    "print(square(square_list))\n",
    "#20"
   ]
  },
  {
   "cell_type": "code",
   "execution_count": null,
   "metadata": {},
   "outputs": [],
   "source": []
  },
  {
   "cell_type": "code",
   "execution_count": 19,
   "metadata": {},
   "outputs": [
    {
     "name": "stdout",
     "output_type": "stream",
     "text": [
      "['s2', 's10', 's12', 's5']\n",
      "['s10', 's12', 's5']\n",
      "['s12', 's5']\n",
      "['s5']\n",
      "[('s1', 's2'), ('s2', 's10'), ('s2', 's12'), ('s2', 's5')]\n"
     ]
    }
   ],
   "source": [
    "def graph_algorithm(graph, start):\n",
    "    \n",
    "    node_list = list(graph) \n",
    "    node_list.remove(start)\n",
    "        \n",
    "    visit_node = [start]\n",
    "    path_list = []\n",
    "    next_node = None\n",
    "\n",
    "    while node_list:\n",
    "        print(node_list)\n",
    "        distance_of_node = 10\n",
    "        for start_index in visit_node:\n",
    "            # print(\"start_idx : \",start_index)\n",
    "            for distance_index in graph[start_index]:\n",
    "                if distance_index in visit_node or start_index == distance_index:\n",
    "                    ##### 소스코드 작성 #####\n",
    "                    # pass # 문제를 푸실 때 pass를 지워주세요\n",
    "                    continue\n",
    "                elif graph[start_index][distance_index] < distance_of_node:\n",
    "                    # print(graph[start_index][distance_index] ,distance_index)\n",
    "                    ##### 소스코드 작성 #####\n",
    "                    pre_node = start_index\n",
    "                    next_node = distance_index\n",
    "                    distance_of_node = graph[start_index][distance_index]\n",
    "                    # continue\n",
    "        path_list.append((pre_node, next_node))\n",
    "        visit_node.append(next_node)\n",
    "        node_list.remove(next_node)\n",
    "\n",
    "    return path_list\n",
    "\n",
    "\n",
    "weighted_graph = {  \n",
    "    \"s1\":{\"s1\": 0, \"s2\": 2, \"s10\": 3, \"s12\": 4, \"s5\":3},\n",
    "    \"s2\":{\"s1\": 1, \"s2\": 0, \"s10\": 2, \"s12\": 2, \"s5\":2},\n",
    "    \"s10\":{\"s1\": 2, \"s2\": 6, \"s10\": 0, \"s12\":3, \"s5\":4},\n",
    "    \"s12\":{\"s1\": 3, \"s2\": 5, \"s10\": 2, \"s12\":0,\"s5\":2},\n",
    "    \"s5\":{\"s1\": 3, \"s2\": 5, \"s10\": 2, \"s12\":4,\"s5\":0},\n",
    "}\n",
    "\n",
    "path_list2 = graph_algorithm(weighted_graph, 's1')\n",
    "print(path_list2)"
   ]
  },
  {
   "cell_type": "code",
   "execution_count": null,
   "metadata": {},
   "outputs": [],
   "source": []
  },
  {
   "cell_type": "code",
   "execution_count": 66,
   "metadata": {},
   "outputs": [
    {
     "name": "stdout",
     "output_type": "stream",
     "text": [
      "1001\n"
     ]
    },
    {
     "data": {
      "text/plain": [
       "884"
      ]
     },
     "execution_count": 66,
     "metadata": {},
     "output_type": "execute_result"
    }
   ],
   "source": [
    "def coin_exchange(piece_price, piece_price_len, total_price):\n",
    "\n",
    "    way_of_number = [0 for temp in range(total_price + 1)]\n",
    "    print(len(way_of_number))\n",
    "    way_of_number[0] = 1\n",
    "    ##### 소스코드 작성 #####\n",
    "    for c,coin in enumerate(piece_price):\n",
    "        for price,way in enumerate(way_of_number):\n",
    "            if price >= coin:\n",
    "                way_of_number[price]+=way_of_number[price-coin]\n",
    "                # if price % coin ==0 :\n",
    "                #     if c==0:\n",
    "                #         way_of_number[price]+=1\n",
    "                #     else:\n",
    "                #         way_of_number[price]+= price//coin-1\n",
    "                # else:\n",
    "\n",
    "        \n",
    "        # print(coin)\n",
    "        # print(way_of_number)\n",
    "            # elif \n",
    "            \n",
    "            \n",
    "\n",
    "\n",
    "    \n",
    "\n",
    "    return way_of_number[total_price]\n",
    "# coin_exchange([10,20,30], 3, 40) # == 4 #, \"100원 200원 300원으로 400원을 만들 수 있는 방법은 4가지 입니다.\"\n",
    "# coin_exchange([100,200,300], 3, 400) # == 4 #, \"100원 200원 300원으로 400원을 만들 수 있는 방법은 4가지 입니다.\"\n",
    "# coin_exchange([10,20,30], 3, 50) # == 5 #, \"10원 20원 30원으로 50원을 만들 수 있는 방법은 5가지 입니다.\"\n",
    "coin_exchange([10,20,30], 3, 1000) # == 884 #, \"10원 20원 30원으로 1000원을 만들 수 있는 방법은 884가지 입니다.\"\n",
    "    \n"
   ]
  },
  {
   "cell_type": "code",
   "execution_count": 3,
   "metadata": {},
   "outputs": [
    {
     "data": {
      "text/plain": [
       "6"
      ]
     },
     "execution_count": 3,
     "metadata": {},
     "output_type": "execute_result"
    }
   ],
   "source": [
    "def solution(coins, N):\n",
    "    answer=0\n",
    "    coins = sorted(coins, reverse=True)\n",
    "    for coin in coins:\n",
    "        answer += N // coin\n",
    "        N = N % coin\n",
    "    return answer\n",
    "solution([10,50,100,500], 1260)"
   ]
  },
  {
   "cell_type": "code",
   "execution_count": 26,
   "metadata": {},
   "outputs": [
    {
     "name": "stdout",
     "output_type": "stream",
     "text": [
      "11475\n"
     ]
    }
   ],
   "source": [
    "def solution(n):\n",
    "    cnt=0\n",
    "    for h in range(n+1):\n",
    "        for m in range(60):\n",
    "            for s in range(60):\n",
    "                if '3' in str(h)+str(m)+str(s):cnt+=1\n",
    "    return cnt\n",
    "print(solution(5))\n",
    "\n",
    "def solution(n):\n",
    "    cnt=0\n",
    "    for h in range(n):\n",
    "        if '3' in str(h):\n",
    "            cnt+=1\n",
    "    cnt*=3600\n",
    "    for m in range(60):\n",
    "        if '3' in str(m):\n",
    "            cnt+=1\n",
    "    cnt*=60\n",
    "\n",
    "    \n",
    "    return cnt\n",
    "# solution(5)"
   ]
  },
  {
   "cell_type": "code",
   "execution_count": 37,
   "metadata": {},
   "outputs": [
    {
     "data": {
      "text/plain": [
       "[3, 2, 1]"
      ]
     },
     "execution_count": 37,
     "metadata": {},
     "output_type": "execute_result"
    }
   ],
   "source": [
    "list(reversed([1,2,3]))"
   ]
  },
  {
   "cell_type": "code",
   "execution_count": 123,
   "metadata": {},
   "outputs": [
    {
     "data": {
      "text/plain": [
       "[2, 4, -1]"
      ]
     },
     "execution_count": 123,
     "metadata": {},
     "output_type": "execute_result"
    }
   ],
   "source": [
    "def solution(truck, w):\n",
    "    answer = []\n",
    "    answerlen=0\n",
    "    trucks = {i+1 : v for i,v in enumerate(truck)}\n",
    "    for b in range(len(w)):\n",
    "        for key in trucks:\n",
    "            if trucks[key] >= w[b]:\n",
    "                answer.append(key)\n",
    "                answerlen+=1\n",
    "                if trucks[key]==w[b]:\n",
    "                    del(trucks[key])\n",
    "                else:\n",
    "                    trucks[key]-=w[b]\n",
    "                break\n",
    "        if answerlen == b: # 트럭에 넣은 박스\n",
    "            answer.append(-1)\n",
    "            answerlen+=1\n",
    "    return answer\n",
    "\n",
    "# solution([1,4,5,2,4], [2,4,4,3,2])\n",
    "# solution([2,7,4,9],[7,6,8])"
   ]
  },
  {
   "cell_type": "code",
   "execution_count": 161,
   "metadata": {},
   "outputs": [
    {
     "data": {
      "text/plain": [
       "(8, 0)"
      ]
     },
     "execution_count": 161,
     "metadata": {},
     "output_type": "execute_result"
    }
   ],
   "source": [
    "divmod(16,2)"
   ]
  },
  {
   "cell_type": "code",
   "execution_count": 201,
   "metadata": {},
   "outputs": [
    {
     "name": "stdout",
     "output_type": "stream",
     "text": [
      "0123456789ABCDEF101112131415161718191A1B1C1D1E1F\n"
     ]
    },
    {
     "data": {
      "text/plain": [
       "'13579BDF01234567'"
      ]
     },
     "execution_count": 201,
     "metadata": {},
     "output_type": "execute_result"
    }
   ],
   "source": [
    "# n진수 게임 (카카오 2018블라인드)\n",
    "def solution(n,t,m,p):\n",
    "    def getdiv(n, div):\n",
    "        words = \"0123456789ABCDEF\"\n",
    "        ans=\"\"\n",
    "        tmp=[]\n",
    "        while n>=div:\n",
    "            tmp.append(divmod(n,div)[1])\n",
    "            n=divmod(n,div)[0]\n",
    "        tmp.append(divmod(n,div)[1])\n",
    "        while tmp:\n",
    "            ans+=words[tmp.pop()]\n",
    "        return ans\n",
    "\n",
    "    start=0\n",
    "    tmp = ''\n",
    "    while len(tmp)< (t)*(m+1) :\n",
    "        tmp +=  getdiv(start,n)\n",
    "        start+=1\n",
    "    \n",
    "    answer = \"\"\n",
    "    idx = p-1\n",
    "    while len(answer) < t :\n",
    "        answer+=tmp[idx]\n",
    "        idx += m\n",
    "    return answer\n",
    "\n",
    "# n,t,m,p = 2,4,2,1\n",
    "# n,t,m,p = 16,16,2,1\n",
    "n,t,m,p = 16,16,2,2\n",
    "solution(n,t,m,p) # n진법, 미리구할 수 t, 게임인원 m , 튜브의 순서 p"
   ]
  },
  {
   "cell_type": "code",
   "execution_count": null,
   "metadata": {},
   "outputs": [],
   "source": []
  },
  {
   "cell_type": "code",
   "execution_count": null,
   "metadata": {},
   "outputs": [],
   "source": []
  },
  {
   "cell_type": "code",
   "execution_count": 46,
   "metadata": {},
   "outputs": [
    {
     "name": "stdout",
     "output_type": "stream",
     "text": [
      "0 5 11\n",
      "6 8 11\n",
      "9 10 11\n",
      "9 9 9\n"
     ]
    },
    {
     "data": {
      "text/plain": [
       "False"
      ]
     },
     "execution_count": 46,
     "metadata": {},
     "output_type": "execute_result"
    }
   ],
   "source": [
    "def bsearch(arr,target): # 이미 정렬되어있다고 가정\n",
    "    st=0\n",
    "    end=len(arr)-1\n",
    "    while st <= end:\n",
    "        mid = (st+end)//2\n",
    "        print(st,mid,end)\n",
    "        if target == arr[mid] : return True\n",
    "        elif target < arr[mid]:\n",
    "            end = mid-1\n",
    "        else : \n",
    "            st = mid+1\n",
    "    return False\n",
    "\n",
    "bsearch([1,2,3,4,5,6,7,8,9,20,300,500], 15)\n",
    "\n",
    "\n"
   ]
  },
  {
   "cell_type": "code",
   "execution_count": null,
   "metadata": {},
   "outputs": [],
   "source": []
  },
  {
   "cell_type": "code",
   "execution_count": null,
   "metadata": {},
   "outputs": [],
   "source": []
  },
  {
   "cell_type": "code",
   "execution_count": 30,
   "metadata": {},
   "outputs": [
    {
     "name": "stdout",
     "output_type": "stream",
     "text": [
      "ABC {'HELLO': ['C#DEFGABC#DEFG', 14, 0], 'WORLD': ['ABCDE', 5, 1]}\n",
      "[[5, 1, 'WORLD']]\n"
     ]
    },
    {
     "data": {
      "text/plain": [
       "'WORLD'"
      ]
     },
     "execution_count": 30,
     "metadata": {},
     "output_type": "execute_result"
    }
   ],
   "source": [
    "def solution(m, musicinfos):\n",
    "    answer = ''\n",
    "    melodys=['C','C#','D','D#','E','F','F#','G','G#','A','A#','B']\n",
    "    dic={}\n",
    "    songtime = len(m)\n",
    "    for index,i in enumerate(musicinfos):\n",
    "        st,end,name,melody=i.split(',')\n",
    "        dic[name]=[songExtend(melody,max(songtime,times(st,end))),times(st,end),index]\n",
    "    print(m,dic)\n",
    "    tmp=[]\n",
    "    for key in dic.keys():\n",
    "        song=dic[key]\n",
    "        # print(song)\n",
    "        temp = song[0].find(m)\n",
    "        if temp== -1 or song[0][(temp+songtime)%len(song[0])]=='#':\n",
    "            continue\n",
    "        tmp.append([song[1],song[2],key]) #음악길이 , 인덱스(들어온순서), 이름\n",
    "    print(tmp)\n",
    "    if tmp:\n",
    "        return sorted(tmp, key=lambda x : (-x[0],x[1]))[0][-1]\n",
    "    else:\n",
    "        return \"(None)\"\n",
    "\n",
    "def songExtend(melody,songtime):\n",
    "    mlen=len(melody)\n",
    "    tmp=\"\"\n",
    "    for i in range(songtime):\n",
    "        tmp+=melody[i%mlen]\n",
    "    return tmp\n",
    "    \n",
    "    \n",
    "def times(s,e):\n",
    "    st=s.split(':')\n",
    "    end=e.split(':')\n",
    "    starts=int(st[1])+ int(st[0])*60\n",
    "    ends=int(end[1]) + int(end[0])*60\n",
    "    return ends-starts \n",
    "    \n",
    "solution(m,musicinfos)"
   ]
  },
  {
   "cell_type": "code",
   "execution_count": null,
   "metadata": {},
   "outputs": [],
   "source": [
    "def mkdic(musicinfos):\n",
    "    def times(s,e):\n",
    "        st=s.split(':')\n",
    "        end=e.split(':')\n",
    "        starts=int(st[1])+ int(st[0])*60\n",
    "        ends=int(end[1]) + int(end[0])*60\n",
    "        return ends-starts\n",
    "    def mksong(mlen, code):\n",
    "        tmp=''\n",
    "        for i in range(mlen):\n",
    "            tmp += code[i%mlen]\n",
    "    mdic={}\n",
    "    for i in musicinfos:\n",
    "        st,end,name,code = i.split(',')\n",
    "        mlen = times(st,end)\n",
    "        mdic[name] = [mlen, ]\n",
    "    \n",
    "def solution(m, musicinfos):\n",
    "    codes = ['C', 'C#', 'D', 'D#', 'E', 'F', 'F#', 'G', 'G#', 'A', 'A#', 'B']\n",
    "    mdic = {name : [] for st,end,name,code in musicinfos}\n",
    "    "
   ]
  },
  {
   "cell_type": "code",
   "execution_count": null,
   "metadata": {},
   "outputs": [],
   "source": [
    "def solution(m,n,board):\n",
    "    answer=0\n",
    "    bd=[[i for i in row] for row in board]\n",
    "    while True:\n",
    "        bklist=[]\n",
    "        for i in range(m-1): # 맨오른쪽과, 맨아랫라인은 체크할 필요가 없음 \n",
    "            for j in range(n-1):\n",
    "                tf,_=check(bd,i,j,m,n,0)\n",
    "                if tf: # check\n",
    "                    bklist.append([i,j])\n",
    "        if bklist :\n",
    "            for i,j in bklist:\n",
    "                answer += check(bd,i,j,m,n,1)[1]\n",
    "            for col in range(n):\n",
    "                clearbd(bd,m,col)\n",
    "        else:\n",
    "            break\n",
    "    return answer\n",
    "\n",
    "def check(bd,i,j,m,n,breaking):\n",
    "    if bd[i][j]==0 and breaking!=1: return False, 0\n",
    "    adx=[0,0,1,1]\n",
    "    ady=[0,1,0,1]\n",
    "    bkcnt=0\n",
    "    for dx,dy in zip(adx,ady):\n",
    "        x=i+dx\n",
    "        y=j+dy\n",
    "        if breaking:\n",
    "            if bd[x][y]==0 : pass\n",
    "            else: \n",
    "                bd[x][y] = 0\n",
    "                bkcnt+=1\n",
    "        elif x<m and y<n:\n",
    "            if bd[x][y] != bd[i][j]: \n",
    "                return False, bkcnt\n",
    "    return True, bkcnt\n",
    "\n",
    "def clearbd(bd,m,col):\n",
    "    tmp=[]\n",
    "    tog=1\n",
    "    for row in range(m-1,-1,-1):\n",
    "        if bd[row][col]!=0:\n",
    "            tmp.append(bd[row][col])\n",
    "            bd[row][col]=0\n",
    "    for row in range(m-1 , m-len(tmp)-1 , -1):\n",
    "        bd[row][col] = tmp.pop(0)\n",
    "# m,n,board = 4,5,[\"CCBDE\", \"AAADE\", \"AAABF\", \"CCBBF\"]#14\n",
    "m,n,board = 6,6,[\"TTTANT\", \"RRFACC\", \"RRRFCC\", \"TRRRAA\", \"TTMMMF\", \"TMMTTJ\"]#15\n",
    "solution(m,n,board)"
   ]
  },
  {
   "cell_type": "code",
   "execution_count": null,
   "metadata": {},
   "outputs": [],
   "source": []
  },
  {
   "cell_type": "code",
   "execution_count": null,
   "metadata": {},
   "outputs": [],
   "source": []
  },
  {
   "cell_type": "code",
   "execution_count": 18,
   "metadata": {
    "tags": []
   },
   "outputs": [
    {
     "name": "stdout",
     "output_type": "stream",
     "text": [
      "0 9 19 20\n",
      "10 14 19 6\n",
      "15 17 19 2\n",
      "15 15 16 4\n",
      "4 15\n"
     ]
    }
   ],
   "source": [
    "def solution(ddocs,m):\n",
    "    st,end = 0,max(ddocs)\n",
    "    while st<=end:\n",
    "        mid=(st+end)//2\n",
    "        lent = sum(list(map(lambda x:x-mid if x>=mid else 0, ddocs)))\n",
    "        print(st,mid,end,lent)\n",
    "        if lent >= m:\n",
    "            st=mid+1\n",
    "        # elif lent == m: \n",
    "        #     st=mid\n",
    "        else:\n",
    "            end=mid-1\n",
    "        # break\n",
    "    print(lent,mid)\n",
    "ddoc,m=[19,15,10,7,8,12],6\n",
    "solution(ddoc,m)"
   ]
  },
  {
   "cell_type": "code",
   "execution_count": 23,
   "metadata": {},
   "outputs": [
    {
     "data": {
      "text/plain": [
       "77"
      ]
     },
     "execution_count": 23,
     "metadata": {},
     "output_type": "execute_result"
    }
   ],
   "source": [
    "def solution(arr):\n",
    "    answer = 0\n",
    "\n",
    "    return answer\n",
    "def gcd(a,b):\n",
    "    if b==0:return a\n",
    "    else: return gcd(b,a%b)\n",
    "    \n",
    "def lcm(a,b):\n",
    "    return a*b//gcd(a,b)\n",
    "\n"
   ]
  },
  {
   "cell_type": "code",
   "execution_count": null,
   "metadata": {},
   "outputs": [],
   "source": [
    "def find(arr):\n",
    "    maxx=1\n",
    "    for i in arr:\n",
    "        maxx*=i\n",
    "    \n",
    "    st,end=1,maxx\n",
    "    while st<end:\n",
    "        mid = (st+end)//2\n",
    "        tmp = list(filter(lambda x : mid%x!=0, arr))\n",
    "        if tmp:\n",
    "            "
   ]
  },
  {
   "cell_type": "code",
   "execution_count": 25,
   "metadata": {},
   "outputs": [],
   "source": [
    "record=[\"Enter uid1234 Muzi\", \"Enter uid4567 Prodo\",\"Leave uid1234\",\"Enter uid1234 Prodo\",\"Change uid4567 Ryan\"]\n",
    "result=[\"Prodo님이 들어왔습니다.\", \"Ryan님이 들어왔습니다.\", \"Prodo님이 나갔습니다.\", \"Prodo님이 들어왔습니다.\"]"
   ]
  },
  {
   "cell_type": "code",
   "execution_count": 36,
   "metadata": {},
   "outputs": [
    {
     "name": "stdout",
     "output_type": "stream",
     "text": [
      "[['uid1234', '님이 들어왔습니다.']]\n",
      "[['uid1234', '님이 들어왔습니다.'], ['uid4567', '님이 들어왔습니다.']]\n",
      "[['uid1234', '님이 들어왔습니다.'], ['uid4567', '님이 들어왔습니다.'], ['uid1234', '님이 나갔습니다.']]\n",
      "[['uid1234', '님이 들어왔습니다.'], ['uid4567', '님이 들어왔습니다.'], ['uid1234', '님이 나갔습니다.'], ['uid1234', '님이 들어왔습니다.']]\n",
      "[['uid1234', '님이 들어왔습니다.'], ['uid4567', '님이 들어왔습니다.'], ['uid1234', '님이 나갔습니다.'], ['uid1234', '님이 들어왔습니다.']]\n"
     ]
    },
    {
     "data": {
      "text/plain": [
       "['Prodo님이 들어왔습니다.', 'Ryan님이 들어왔습니다.', 'Prodo님이 나갔습니다.', 'Prodo님이 들어왔습니다.']"
      ]
     },
     "execution_count": 36,
     "metadata": {},
     "output_type": "execute_result"
    }
   ],
   "source": [
    "# from collections import defaultdict\n",
    "def solution(record=record):\n",
    "    dic=dict()\n",
    "    answer=[]\n",
    "    tmp=[]\n",
    "    for recd in record:\n",
    "        rec = recd.split()\n",
    "        if rec[0]=='Enter':\n",
    "            dic[rec[1]]=rec[2]\n",
    "            tmp.append([rec[1],'님이 들어왔습니다.'])\n",
    "        elif rec[0]=='Leave':\n",
    "            # del(dic[rec[1]])\n",
    "            dic.pop(rec[1])\n",
    "            tmp.append([rec[1],'님이 나갔습니다.'])\n",
    "        elif rec[0]=='Change':\n",
    "            dic[rec[1]]=rec[2]    \n",
    "    return list(map(lambda x : f'{dic[x[0]]}{x[1]}', tmp))\n",
    "solution()"
   ]
  },
  {
   "cell_type": "code",
   "execution_count": 38,
   "metadata": {},
   "outputs": [
    {
     "data": {
      "text/plain": [
       "['Prodo님이 들어왔습니다.', 'Ryan님이 들어왔습니다.', 'Prodo님이 나갔습니다.', 'Prodo님이 들어왔습니다.']"
      ]
     },
     "execution_count": 38,
     "metadata": {},
     "output_type": "execute_result"
    }
   ],
   "source": [
    "def solution(record):\n",
    "    user_id = {EC.split()[1]:EC.split()[-1] for EC in record if EC.startswith('E') or EC.startswith('C')}\n",
    "    return [f'{user_id[E_L.split()[1]]}님이 들어왔습니다.' if E_L.startswith('E') else f'{user_id[E_L.split()[1]]}님이 나갔습니다.' for E_L in record if not E_L.startswith('C')]\n",
    "solution(record)"
   ]
  },
  {
   "cell_type": "code",
   "execution_count": null,
   "metadata": {},
   "outputs": [],
   "source": [
    "def solution(record):\n",
    "    answer = []\n",
    "    userdict={}\n",
    "    ans=[]\n",
    "    for line in record:\n",
    "        i = line.split()\n",
    "        if i[0]=='Enter':\n",
    "            tmp = userdict.get(i[1])\n",
    "            if tmp : \n",
    "                userdict[i[1]] = i[2]\n",
    "            else:\n",
    "                userdict[i[1]] = i[2]\n",
    "            ans.append([i[1],'님이 들어왔습니다.'])\n",
    "        elif i[0]=='Leave':\n",
    "            ans.append([i[1], '님이 나갔습니다.'])\n",
    "        else:\n",
    "            print('change')\n",
    "            userdict[i[1]] = i[2]\n",
    "            \n",
    "    answer = list(map(lambda x : f'{userdict[x[0]]}{x[1]}' , ans))\n",
    "    return answer"
   ]
  },
  {
   "cell_type": "code",
   "execution_count": null,
   "metadata": {},
   "outputs": [],
   "source": []
  },
  {
   "cell_type": "code",
   "execution_count": null,
   "metadata": {},
   "outputs": [],
   "source": []
  },
  {
   "cell_type": "code",
   "execution_count": 77,
   "metadata": {},
   "outputs": [
    {
     "data": {
      "text/plain": [
       "[('frodo', 'fradi'),\n",
       " ('frodo', 'crodo'),\n",
       " ('frodo', 'abc123'),\n",
       " ('frodo', 'frodoc'),\n",
       " ('fradi', 'frodo'),\n",
       " ('fradi', 'crodo'),\n",
       " ('fradi', 'abc123'),\n",
       " ('fradi', 'frodoc'),\n",
       " ('crodo', 'frodo'),\n",
       " ('crodo', 'fradi'),\n",
       " ('crodo', 'abc123'),\n",
       " ('crodo', 'frodoc'),\n",
       " ('abc123', 'frodo'),\n",
       " ('abc123', 'fradi'),\n",
       " ('abc123', 'crodo'),\n",
       " ('abc123', 'frodoc'),\n",
       " ('frodoc', 'frodo'),\n",
       " ('frodoc', 'fradi'),\n",
       " ('frodoc', 'crodo'),\n",
       " ('frodoc', 'abc123')]"
      ]
     },
     "execution_count": 77,
     "metadata": {},
     "output_type": "execute_result"
    }
   ],
   "source": [
    "import itertools\n",
    "\n",
    "# print(list(map(''.join, itertools.combinations(['a','b','c','d'], 2)))) # 2개의 원소로 수열 만들기\n",
    "# list(itertools.combinations(['a','b','c','d'], 1))\n",
    "list(itertools.permutations([\"frodo\", \"fradi\", \"crodo\", \"abc123\", \"frodoc\"], 2))\n",
    "# {1:1,2:2}.keys()\n"
   ]
  },
  {
   "cell_type": "code",
   "execution_count": 3,
   "metadata": {},
   "outputs": [
    {
     "data": {
      "text/plain": [
       "3"
      ]
     },
     "execution_count": 3,
     "metadata": {},
     "output_type": "execute_result"
    }
   ],
   "source": [
    "stones=[2, 4, 5, 3, 2, 1, 4, 2, 5, 1]\n",
    "k=3\n",
    "def solution(stones, k):\n",
    "    if k==1: return min(stones)\n",
    "    st=1\n",
    "    end=1e9   \n",
    "    while st<=end:\n",
    "        mid = (st+end)//2\n",
    "        tmp = [i-mid for i in stones]\n",
    "        \n",
    "        cnt=0\n",
    "        check=False\n",
    "        for i in range(len(tmp)):\n",
    "            if tmp[i]<=0: cnt+=1\n",
    "            else: cnt=0\n",
    "\n",
    "            if cnt>=k:\n",
    "                check=True\n",
    "                break\n",
    "        if check: end=mid-1\n",
    "        else: st=mid+1\n",
    "    return int(st)\n",
    "\n",
    "solution(stones, k)<<<<<\n"
   ]
  },
  {
   "cell_type": "code",
   "execution_count": 7,
   "metadata": {},
   "outputs": [
    {
     "ename": "KeyboardInterrupt",
     "evalue": "",
     "output_type": "error",
     "traceback": [
      "\u001b[0;31m---------------------------------------------------------------------------\u001b[0m",
      "\u001b[0;31mKeyboardInterrupt\u001b[0m                         Traceback (most recent call last)",
      "\u001b[0;32m<ipython-input-7-6f46a4143dfe>\u001b[0m in \u001b[0;36m<module>\u001b[0;34m\u001b[0m\n\u001b[1;32m     19\u001b[0m         \u001b[0;32melse\u001b[0m\u001b[0;34m:\u001b[0m \u001b[0mr\u001b[0m\u001b[0;34m=\u001b[0m\u001b[0mmid\u001b[0m\u001b[0;34m\u001b[0m\u001b[0;34m\u001b[0m\u001b[0m\n\u001b[1;32m     20\u001b[0m     \u001b[0;32mreturn\u001b[0m \u001b[0ml\u001b[0m\u001b[0;34m\u001b[0m\u001b[0;34m\u001b[0m\u001b[0m\n\u001b[0;32m---> 21\u001b[0;31m \u001b[0msolution\u001b[0m\u001b[0;34m(\u001b[0m\u001b[0mstones\u001b[0m\u001b[0;34m,\u001b[0m\u001b[0mk\u001b[0m\u001b[0;34m)\u001b[0m\u001b[0;34m\u001b[0m\u001b[0;34m\u001b[0m\u001b[0m\n\u001b[0m",
      "\u001b[0;32m<ipython-input-7-6f46a4143dfe>\u001b[0m in \u001b[0;36msolution\u001b[0;34m(stones, k)\u001b[0m\n\u001b[1;32m     15\u001b[0m     \u001b[0;32mwhile\u001b[0m \u001b[0mleft\u001b[0m\u001b[0;34m<\u001b[0m\u001b[0mright\u001b[0m\u001b[0;34m-\u001b[0m\u001b[0;36m1\u001b[0m\u001b[0;34m:\u001b[0m\u001b[0;34m\u001b[0m\u001b[0;34m\u001b[0m\u001b[0m\n\u001b[1;32m     16\u001b[0m         \u001b[0mmid\u001b[0m\u001b[0;34m=\u001b[0m\u001b[0;34m(\u001b[0m\u001b[0mleft\u001b[0m\u001b[0;34m+\u001b[0m\u001b[0mright\u001b[0m\u001b[0;34m)\u001b[0m\u001b[0;34m//\u001b[0m\u001b[0;36m2\u001b[0m\u001b[0;34m\u001b[0m\u001b[0;34m\u001b[0m\u001b[0m\n\u001b[0;32m---> 17\u001b[0;31m         \u001b[0mcanjump\u001b[0m \u001b[0;34m=\u001b[0m \u001b[0mcheck\u001b[0m\u001b[0;34m(\u001b[0m\u001b[0mstones\u001b[0m\u001b[0;34m,\u001b[0m\u001b[0mk\u001b[0m\u001b[0;34m,\u001b[0m\u001b[0mmid\u001b[0m\u001b[0;34m)\u001b[0m\u001b[0;34m\u001b[0m\u001b[0;34m\u001b[0m\u001b[0m\n\u001b[0m\u001b[1;32m     18\u001b[0m         \u001b[0;32mif\u001b[0m \u001b[0mcanjump\u001b[0m \u001b[0;34m:\u001b[0m \u001b[0ml\u001b[0m\u001b[0;34m=\u001b[0m\u001b[0mmid\u001b[0m\u001b[0;34m\u001b[0m\u001b[0;34m\u001b[0m\u001b[0m\n\u001b[1;32m     19\u001b[0m         \u001b[0;32melse\u001b[0m\u001b[0;34m:\u001b[0m \u001b[0mr\u001b[0m\u001b[0;34m=\u001b[0m\u001b[0mmid\u001b[0m\u001b[0;34m\u001b[0m\u001b[0;34m\u001b[0m\u001b[0m\n",
      "\u001b[0;32m<ipython-input-7-6f46a4143dfe>\u001b[0m in \u001b[0;36mcheck\u001b[0;34m(stones, k, mid)\u001b[0m\n\u001b[1;32m      3\u001b[0m         \u001b[0mtemp\u001b[0m\u001b[0;34m=\u001b[0m\u001b[0mk\u001b[0m\u001b[0;34m\u001b[0m\u001b[0;34m\u001b[0m\u001b[0m\n\u001b[1;32m      4\u001b[0m         \u001b[0;32mfor\u001b[0m \u001b[0mstone\u001b[0m \u001b[0;32min\u001b[0m \u001b[0mstones\u001b[0m\u001b[0;34m:\u001b[0m\u001b[0;34m\u001b[0m\u001b[0;34m\u001b[0m\u001b[0m\n\u001b[0;32m----> 5\u001b[0;31m             \u001b[0;32mif\u001b[0m \u001b[0mstone\u001b[0m\u001b[0;34m<\u001b[0m\u001b[0mmid\u001b[0m\u001b[0;34m:\u001b[0m\u001b[0;34m\u001b[0m\u001b[0;34m\u001b[0m\u001b[0m\n\u001b[0m\u001b[1;32m      6\u001b[0m                 \u001b[0mtemp\u001b[0m\u001b[0;34m-=\u001b[0m\u001b[0;36m1\u001b[0m\u001b[0;34m\u001b[0m\u001b[0;34m\u001b[0m\u001b[0m\n\u001b[1;32m      7\u001b[0m             \u001b[0;32melse\u001b[0m\u001b[0;34m:\u001b[0m\u001b[0;34m\u001b[0m\u001b[0;34m\u001b[0m\u001b[0m\n",
      "\u001b[0;31mKeyboardInterrupt\u001b[0m: "
     ]
    }
   ],
   "source": [
    "def solution(stones, k):\n",
    "    def check(stones,k,mid):\n",
    "        temp=k\n",
    "        for stone in stones:\n",
    "            if stone<mid:\n",
    "                temp-=1\n",
    "            else:\n",
    "                temp=k\n",
    "            \n",
    "            if temp==0: return False\n",
    "        return True\n",
    "\n",
    "    left=0\n",
    "    right=1e9\n",
    "    while left<right-1:\n",
    "        mid=(left+right)//2\n",
    "        canjump = check(stones,k,mid)\n",
    "        if canjump : l=mid\n",
    "        else: r=mid\n",
    "    return l\n",
    "solution(stones,k)"
   ]
  },
  {
   "cell_type": "code",
   "execution_count": null,
   "metadata": {},
   "outputs": [],
   "source": [
    "def solution(stones, k):\n",
    "    answer = 0\n",
    "    lo = 1\n",
    "    hi = max(stones)\n",
    "\n",
    "    while lo <= hi:\n",
    "        mid = (lo + hi) // 2\n",
    "        cnt = 0\n",
    "        res = 0\n",
    "\n",
    "        for n in stones:\n",
    "            cnt = cnt + 1 if n - mid <= 0 else 0\n",
    "            res = max(res, cnt)\n",
    "\n",
    "        if res < k:\n",
    "            answer = max(answer, mid)\n",
    "            lo = mid + 1\n",
    "        else:\n",
    "            hi = mid -1\n",
    "\n",
    "    return answer + 1"
   ]
  },
  {
   "cell_type": "code",
   "execution_count": 86,
   "metadata": {},
   "outputs": [
    {
     "data": {
      "text/plain": [
       "125000"
      ]
     },
     "execution_count": 86,
     "metadata": {},
     "output_type": "execute_result"
    }
   ],
   "source": [
    "50*50*50"
   ]
  },
  {
   "cell_type": "code",
   "execution_count": 95,
   "metadata": {},
   "outputs": [],
   "source": [
    "board=[[0,0,0],[0,0,0],[0,0,0]]#900\n",
    "board=[[0,0,0,0,0,0,0,1],[0,0,0,0,0,0,0,0],[0,0,0,0,0,1,0,0],[0,0,0,0,1,0,0,0],[0,0,0,1,0,0,0,1],[0,0,1,0,0,0,1,0],[0,1,0,0,0,1,0,0],[1,0,0,0,0,0,0,0]]\t#3800\n",
    "board=[[0,0,1,0],[0,0,0,0],[0,1,0,1],[1,0,0,0]]#\t2100\n",
    "board=[[0,0,0,0,0,0],[0,1,1,1,1,0],[0,0,1,0,0,0],[1,0,0,1,0,1],[0,1,0,0,0,1],[0,0,0,0,0,0]]#\t3200"
   ]
  },
  {
   "cell_type": "code",
   "execution_count": 102,
   "metadata": {},
   "outputs": [
    {
     "data": {
      "text/plain": [
       "3200"
      ]
     },
     "execution_count": 102,
     "metadata": {},
     "output_type": "execute_result"
    }
   ],
   "source": [
    "# https://hose0728.tistory.com/76\n",
    "def solution(board):\n",
    "    n = len(board)\n",
    "    from collections import deque\n",
    "    dx = [-1, 0, 1, 0]\n",
    "    dy = [0, -1, 0, 1]\n",
    "    answer = float('inf')\n",
    "    queue = deque()\n",
    "    # x좌표 y좌표 방향 비용 순서로 큐에 넣습니다.(방향은 맨처음 시작할 때 -1로 설정)\n",
    "    queue.append((0, 0, -1, 0))\n",
    "    visit = {(0, 0, 0): 0, (0, 0, 1): 0, (0, 0, 2): 0, (0, 0, 3): 0}\n",
    "    while queue:\n",
    "        x, y, dir1, cost = queue.popleft()\n",
    "        for d in range(4):\n",
    "            nx = x + dx[d]\n",
    "            ny = y + dy[d]\n",
    "            if -1 < nx < n and -1 < ny < n and not board[nx][ny]:\n",
    "                newcost = cost\n",
    "                # 방향이 -1인 경우는 가장 처음에는 방향이 없으므로 비용에 100을 추가\n",
    "                if dir1 == -1:\n",
    "                    newcost += 100\n",
    "                # 기존 방향과 진행 방향이 평행한 경우\n",
    "                elif (dir1 - d) % 2 == 0:\n",
    "                    newcost += 100\n",
    "                # 기존 방향과 진행 방향이 수직인 경우\n",
    "                else:\n",
    "                    newcost += 600\n",
    "                # 목적지에 도착하였을 경우 정답 값과 비교하여 더 작은 것으로 정답 값을 경신\n",
    "                if nx == n - 1 and ny == n - 1:\n",
    "                    answer = min(answer, newcost)\n",
    "                # 기존에 방문하지 않았거나 방문하였을 때보다 비용이 적을 경우에만 큐에 넣습니다.\n",
    "                elif visit.get((nx, ny, d)) is None or visit.get((nx, ny, d)) > newcost:\n",
    "                    visit[(nx, ny, d)] = newcost\n",
    "                    queue.append((nx, ny, d, newcost))\n",
    "    return answer\n",
    "solution(board)"
   ]
  },
  {
   "cell_type": "code",
   "execution_count": 7,
   "metadata": {},
   "outputs": [
    {
     "data": {
      "text/plain": [
       "'1010'"
      ]
     },
     "execution_count": 7,
     "metadata": {},
     "output_type": "execute_result"
    }
   ],
   "source": [
    "def mkbin(N):\n",
    "    ans=[]\n",
    "    while N>1:\n",
    "        N,s=divmod(N,2)\n",
    "        ans.append(str(s))\n",
    "    ans.append(str(N))\n",
    "    answer=''\n",
    "    while ans:\n",
    "        answer+=ans.pop()\n",
    "    return answer\n",
    "mkbin(10)"
   ]
  },
  {
   "cell_type": "code",
   "execution_count": 1,
   "metadata": {},
   "outputs": [
    {
     "ename": "SyntaxError",
     "evalue": "unexpected EOF while parsing (<ipython-input-1-f2a2dd2b5769>, line 1)",
     "output_type": "error",
     "traceback": [
      "\u001b[0;36m  File \u001b[0;32m\"<ipython-input-1-f2a2dd2b5769>\"\u001b[0;36m, line \u001b[0;32m1\u001b[0m\n\u001b[0;31m    def solution(N):\u001b[0m\n\u001b[0m                    ^\u001b[0m\n\u001b[0;31mSyntaxError\u001b[0m\u001b[0;31m:\u001b[0m unexpected EOF while parsing\n"
     ]
    }
   ],
   "source": [
    "def solution(N):\n",
    "    def mkbin(N):\n",
    "        ans=[]\n",
    "        while N>1:\n",
    "            N,s=divmod(N,2)\n",
    "            ans.append(str(s))\n",
    "        ans.append(str(N))\n",
    "        answer=''\n",
    "        while ans:\n",
    "            answer+=ans.pop()\n",
    "        return answer\n",
    "    bins=mkbin(N)\n",
    "    "
   ]
  },
  {
   "cell_type": "code",
   "execution_count": null,
   "metadata": {},
   "outputs": [],
   "source": []
  }
 ],
 "metadata": {
  "interpreter": {
   "hash": "39a3f6769e595a50e593a296d8b0c78e5171348aaba449e974344d6732d07a14"
  },
  "kernelspec": {
   "display_name": "Python 3",
   "language": "python",
   "name": "python3"
  },
  "language_info": {
   "codemirror_mode": {
    "name": "ipython",
    "version": 3
   },
   "file_extension": ".py",
   "mimetype": "text/x-python",
   "name": "python",
   "nbconvert_exporter": "python",
   "pygments_lexer": "ipython3",
   "version": "3.8.5"
  },
  "metadata": {
   "interpreter": {
    "hash": "cb21448086e1b039f0143f4b6f3949a0ab18b782485cd082e49e693fdc0e34f1"
   }
  }
 },
 "nbformat": 4,
 "nbformat_minor": 4
}
