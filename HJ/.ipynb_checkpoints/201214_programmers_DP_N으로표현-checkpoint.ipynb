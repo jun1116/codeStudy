{
 "cells": [
  {
   "cell_type": "code",
   "execution_count": 1,
   "metadata": {
    "ExecuteTime": {
     "end_time": "2020-12-13T10:43:19.694738Z",
     "start_time": "2020-12-13T10:43:19.681732Z"
    }
   },
   "outputs": [],
   "source": [
    "numbers=[2,1,3,4,1]\n",
    "# numbers=[5,0,2,7]"
   ]
  },
  {
   "cell_type": "code",
   "execution_count": 2,
   "metadata": {
    "ExecuteTime": {
     "end_time": "2020-12-13T10:43:21.741995Z",
     "start_time": "2020-12-13T10:43:21.737995Z"
    }
   },
   "outputs": [],
   "source": [
    "def solution(numbers):\n",
    "    answer = []\n",
    "    tmpset=set()\n",
    "    for i,v in enumerate(numbers):\n",
    "        if i==len(numbers)-1:continue\n",
    "        for j in numbers[i+1:]:\n",
    "            tmpset.add(v+j)\n",
    "    answer=list(tmpset)\n",
    "    return sorted(answer)"
   ]
  },
  {
   "cell_type": "code",
   "execution_count": 3,
   "metadata": {
    "ExecuteTime": {
     "end_time": "2020-12-13T10:43:27.513755Z",
     "start_time": "2020-12-13T10:43:27.498752Z"
    }
   },
   "outputs": [
    {
     "data": {
      "text/plain": [
       "[2, 3, 4, 5, 6, 7]"
      ]
     },
     "execution_count": 3,
     "metadata": {},
     "output_type": "execute_result"
    }
   ],
   "source": [
    "solution(numbers)"
   ]
  }
 ],
 "metadata": {
  "kernelspec": {
   "display_name": "Python 3",
   "language": "python",
   "name": "python3"
  },
  "language_info": {
   "codemirror_mode": {
    "name": "ipython",
    "version": 3
   },
   "file_extension": ".py",
   "mimetype": "text/x-python",
   "name": "python",
   "nbconvert_exporter": "python",
   "pygments_lexer": "ipython3",
   "version": "3.8.5"
  },
  "toc": {
   "base_numbering": 1,
   "nav_menu": {},
   "number_sections": true,
   "sideBar": true,
   "skip_h1_title": false,
   "title_cell": "Table of Contents",
   "title_sidebar": "Contents",
   "toc_cell": false,
   "toc_position": {},
   "toc_section_display": true,
   "toc_window_display": false
  }
 },
 "nbformat": 4,
 "nbformat_minor": 4
}
