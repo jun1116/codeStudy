{
 "cells": [
  {
   "cell_type": "code",
   "execution_count": null,
   "metadata": {
    "ExecuteTime": {
     "start_time": "2020-12-06T14:24:35.280Z"
    }
   },
   "outputs": [],
   "source": [
    "bridge_length=2\n",
    "weight=10\n",
    "truck_weights=[7,4,5,6]"
   ]
  },
  {
   "cell_type": "code",
   "execution_count": null,
   "metadata": {
    "ExecuteTime": {
     "end_time": "2020-12-06T14:02:07.892743Z",
     "start_time": "2020-12-06T14:02:07.876393Z"
    }
   },
   "outputs": [],
   "source": [
    "bridge_length=100\n",
    "weight=100\n",
    "truck_weights=[10,10,10,10,10,10,10,10,10,10]"
   ]
  },
  {
   "cell_type": "code",
   "execution_count": null,
   "metadata": {
    "ExecuteTime": {
     "end_time": "2020-12-06T14:23:33.423390Z",
     "start_time": "2020-12-06T14:23:33.410585Z"
    }
   },
   "outputs": [],
   "source": [
    "##트럭리스트 뒤집기\n",
    "trucks=[]\n",
    "for i in reversed(truck_weights):\n",
    "    trucks.append(i) #trucks=[6,5,4,7]\n",
    "\n",
    "queue=[trucks.pop()]\n",
    "time=1\n",
    "truckTimes=[bridge_length]\n",
    "\n",
    "#무한루프\n",
    "while queue != []:\n",
    "    print(time,'--',queue,'-------------',trucks,truckTimes)\n",
    "#     time+=1\n",
    "    for i,v in enumerate(truckTimes):\n",
    "        truckTimes[i]=v-1\n",
    "        \n",
    "    try:\n",
    "        \n",
    "        if truckTimes[0]==0: #트럭 끝 도달?\n",
    "            queue=queue[1:]\n",
    "            truckTimes=truckTimes[1:]\n",
    "        time+=1\n",
    "        now=trucks.pop() #현재 차량은? 6\n",
    "        if weight>=sum(queue)+now: #진입가능? -> 진입시 10 > 7+4 --> X \n",
    "            queue.append(now) \n",
    "            truckTimes.append(bridge_length) \n",
    "        else : trucks.append(now) #진입불가\n",
    "    except:\n",
    "        continue\n",
    "    \n",
    "    \n",
    "    \n",
    "    \n",
    "print(time)\n"
   ]
  },
  {
   "cell_type": "code",
   "execution_count": null,
   "metadata": {},
   "outputs": [],
   "source": [
    "#공부해볼코드\n",
    "from collections import deque\n",
    "\n",
    "def solution(bridge_length, weight, truck_weights):\n",
    "    b, w, t = bridge_length, weight, truck_weights\n",
    "    time = deque([1])\n",
    "    wsum = deque([t[0]])\n",
    "    sec = 0\n",
    "    for v, i in enumerate(t[1:]):\n",
    "        if i <= weight - sum(wsum):\n",
    "                time.append(1)\n",
    "                wsum.append(i)\n",
    "                if sum(time) - time[0] == b:\n",
    "                    sec += time.popleft()\n",
    "                    wsum.popleft()\n",
    "                continue\n",
    "        if i <= weight - sum(wsum) + wsum[0]:\n",
    "            sec += time.popleft()\n",
    "            wsum.popleft()\n",
    "            time.append(b - sum(time))\n",
    "            wsum.append(i)\n",
    "            continue\n",
    "        while i > weight - sum(wsum):\n",
    "            sec += time.popleft()\n",
    "            wsum.popleft()\n",
    "        time.append(b - sum(time))\n",
    "        wsum.append(i)\n",
    "    for i in time:\n",
    "        sec += i\n",
    "    return sec + b"
   ]
  },
  {
   "cell_type": "code",
   "execution_count": null,
   "metadata": {},
   "outputs": [],
   "source": [
    "#공부해볼코드\n",
    "\n",
    "import collections\n",
    "\n",
    "DUMMY_TRUCK = 0\n",
    "\n",
    "\n",
    "class Bridge(object):\n",
    "\n",
    "    def __init__(self, length, weight):\n",
    "        self._max_length = length\n",
    "        self._max_weight = weight\n",
    "        self._queue = collections.deque()\n",
    "        self._current_weight = 0\n",
    "\n",
    "    def push(self, truck):\n",
    "        next_weight = self._current_weight + truck\n",
    "        if next_weight <= self._max_weight and len(self._queue) < self._max_length:\n",
    "            self._queue.append(truck)\n",
    "            self._current_weight = next_weight\n",
    "            return True\n",
    "        else:\n",
    "            return False\n",
    "\n",
    "    def pop(self):\n",
    "        item = self._queue.popleft()\n",
    "        self._current_weight -= item\n",
    "        return item\n",
    "\n",
    "    def __len__(self):\n",
    "        return len(self._queue)\n",
    "\n",
    "    def __repr__(self):\n",
    "        return 'Bridge({}/{} : [{}])'.format(self._current_weight, self._max_weight, list(self._queue))\n",
    "\n",
    "\n",
    "def solution(bridge_length, weight, truck_weights):\n",
    "    bridge = Bridge(bridge_length, weight)\n",
    "    trucks = collections.deque(w for w in truck_weights)\n",
    "\n",
    "    for _ in range(bridge_length):\n",
    "        bridge.push(DUMMY_TRUCK)\n",
    "\n",
    "    count = 0\n",
    "    while trucks:\n",
    "        bridge.pop()\n",
    "\n",
    "        if bridge.push(trucks[0]):\n",
    "            trucks.popleft()\n",
    "        else:\n",
    "            bridge.push(DUMMY_TRUCK)\n",
    "\n",
    "        count += 1\n",
    "\n",
    "    while bridge:\n",
    "        bridge.pop()\n",
    "        count += 1\n",
    "\n",
    "    return count\n",
    "\n",
    "\n",
    "def main():\n",
    "    print(solution(2, 10, [7, 4, 5, 6]), 8)\n",
    "    print(solution(100, 100, [10]), 101)\n",
    "    print(solution(100, 100, [10, 10, 10, 10, 10, 10, 10, 10, 10, 10]), 110)\n",
    "\n",
    "\n",
    "if __name__ == '__main__':\n",
    "    main()\n"
   ]
  }
 ],
 "metadata": {
  "kernelspec": {
   "display_name": "Python 3",
   "language": "python",
   "name": "python3"
  },
  "language_info": {
   "codemirror_mode": {
    "name": "ipython",
    "version": 3
   },
   "file_extension": ".py",
   "mimetype": "text/x-python",
   "name": "python",
   "nbconvert_exporter": "python",
   "pygments_lexer": "ipython3",
   "version": "3.8.5"
  },
  "toc": {
   "base_numbering": 1,
   "nav_menu": {},
   "number_sections": true,
   "sideBar": true,
   "skip_h1_title": false,
   "title_cell": "Table of Contents",
   "title_sidebar": "Contents",
   "toc_cell": false,
   "toc_position": {},
   "toc_section_display": true,
   "toc_window_display": false
  }
 },
 "nbformat": 4,
 "nbformat_minor": 4
}
