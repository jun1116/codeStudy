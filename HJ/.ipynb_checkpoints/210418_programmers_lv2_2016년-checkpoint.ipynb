{
 "cells": [
  {
   "cell_type": "code",
   "execution_count": 38,
   "metadata": {},
   "outputs": [
    {
     "data": {
      "text/plain": [
       "'TUE'"
      ]
     },
     "execution_count": 38,
     "metadata": {},
     "output_type": "execute_result"
    }
   ],
   "source": [
    "def solution(a, b):\n",
    "    answer = ''\n",
    "    days=b\n",
    "    m_days=[31,29,31,30,31,30,31,31,30,31,30,31]\n",
    "    weeks=['SUN','MON','TUE','WED','THU','FRI','SAT']\n",
    "    for i in range(a-1):\n",
    "        days+=m_days[i]\n",
    "    \n",
    "#     while days>7:\n",
    "#         days -=7\n",
    "#     print(days)\n",
    "#     print(days%7)\n",
    "    idx = days%7+4\n",
    "\n",
    "    return weeks[idx%7]\n",
    "# def getweek(a,b):\n",
    "#1,2,3,4,5,6,7,8,9,10,11,12\n",
    "# m_days=[31,28,31,30,31,30,31,31,30,31,30,31]\n",
    "solution(5,24)"
   ]
  },
  {
   "cell_type": "code",
   "execution_count": null,
   "metadata": {},
   "outputs": [],
   "source": [
    "1,8,15"
   ]
  },
  {
   "cell_type": "code",
   "execution_count": 3,
   "metadata": {},
   "outputs": [
    {
     "name": "stdout",
     "output_type": "stream",
     "text": [
      "55\n",
      "83\n",
      "114\n",
      "144\n",
      "175\n"
     ]
    }
   ],
   "source": [
    "m_days=[31,28,31,30,31,30,31,31,30,31,30,31]\n",
    "tmp=24\n",
    "for i in range(5):\n",
    "#     print(tmp)\n",
    "    tmp+=m_days[i]\n",
    "    print(tmp)\n",
    "while tmp"
   ]
  }
 ],
 "metadata": {
  "kernelspec": {
   "display_name": "Python 3",
   "language": "python",
   "name": "python3"
  },
  "language_info": {
   "codemirror_mode": {
    "name": "ipython",
    "version": 3
   },
   "file_extension": ".py",
   "mimetype": "text/x-python",
   "name": "python",
   "nbconvert_exporter": "python",
   "pygments_lexer": "ipython3",
   "version": "3.8.5"
  }
 },
 "nbformat": 4,
 "nbformat_minor": 4
}
