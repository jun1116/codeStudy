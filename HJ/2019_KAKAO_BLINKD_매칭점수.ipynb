{
 "metadata": {
  "language_info": {
   "codemirror_mode": {
    "name": "ipython",
    "version": 3
   },
   "file_extension": ".py",
   "mimetype": "text/x-python",
   "name": "python",
   "nbconvert_exporter": "python",
   "pygments_lexer": "ipython3",
   "version": "3.8.5"
  },
  "orig_nbformat": 2,
  "kernelspec": {
   "name": "python385jvsc74a57bd039a3f6769e595a50e593a296d8b0c78e5171348aaba449e974344d6732d07a14",
   "display_name": "Python 3.8.5 64-bit ('base': conda)"
  }
 },
 "nbformat": 4,
 "nbformat_minor": 2,
 "cells": [
  {
   "cell_type": "code",
   "execution_count": 203,
   "metadata": {},
   "outputs": [],
   "source": [
    "pages=[\n",
    "    \"<html lang=\\\"ko\\\" xml:lang=\\\"ko\\\" xmlns=\\\"http://www.w3.org/1999/xhtml\\\">\\n<head>\\n  <meta charset=\\\"utf-8\\\">\\n  <meta property=\\\"og:url\\\" content=\\\"https://a.com\\\"/>\\n</head>  \\n<body>\\nBlind Lorem Blind ipsum dolor Blind test sit amet, consectetur adipiscing elit. \\n<a href=\\\"https://b.com\\\"> Link to b </a>\\n</body>\\n</html>\", \n",
    "    \"<html lang=\\\"ko\\\" xml:lang=\\\"ko\\\" xmlns=\\\"http://www.w3.org/1999/xhtml\\\">\\n<head>\\n  <meta charset=\\\"utf-8\\\">\\n  <meta property=\\\"og:url\\\" content=\\\"https://b.com\\\"/>\\n</head>  \\n<body>\\nSuspendisse potenti. Vivamus venenatis tellus non turpis bibendum, \\n<a href=\\\"https://a.com\\\"> Link to a </a>\\nblind sed congue urna varius. Suspendisse feugiat nisl ligula, quis malesuada felis hendrerit ut.\\n<a href=\\\"https://c.com\\\"> Link to c </a>\\n</body>\\n</html>\", \n",
    "    \"<html lang=\\\"ko\\\" xml:lang=\\\"ko\\\" xmlns=\\\"http://www.w3.org/1999/xhtml\\\">\\n<head>\\n  <meta charset=\\\"utf-8\\\">\\n  <meta property=\\\"og:url\\\" content=\\\"https://c.com\\\"/>\\n</head>  \\n<body>\\nUt condimentum urna at felis sodales rutrum. Sed dapibus cursus diam, non interdum nulla tempor nec. Phasellus rutrum enim at orci consectetu blind\\n<a href=\\\"https://a.com\\\"> Link to a </a>\\n</body>\\n</html>\"\n",
    "    ]\n",
    "word = 'blind'\n",
    "\n",
    "pages2=[\"<html lang=\\\"ko\\\" xml:lang=\\\"ko\\\" xmlns=\\\"http://www.w3.org/1999/xhtml\\\">\\n<head>\\n  <meta charset=\\\"utf-8\\\">\\n  <meta property=\\\"og:url\\\" content=\\\"https://careers.kakao.com/interview/list\\\"/>\\n</head>  \\n<body>\\n<a href=\\\"https://programmers.co.kr/learn/courses/4673\\\"></a>#!MuziMuzi!)jayg07con&&\\n\\n</body>\\n</html>\", \"<html lang=\\\"ko\\\" xml:lang=\\\"ko\\\" xmlns=\\\"http://www.w3.org/1999/xhtml\\\">\\n<head>\\n  <meta charset=\\\"utf-8\\\">\\n  <meta property=\\\"og:url\\\" content=\\\"https://www.kakaocorp.com\\\"/>\\n</head>  \\n<body>\\ncon%\\tmuzI92apeach&2<a href=\\\"https://hashcode.co.kr/tos\\\"></a>\\n\\n\\t^\\n</body>\\n</html>\"]\n",
    "word2='Muzi'"
   ]
  },
  {
   "source": [
    "기본점수 : 각 웹페이지에서 word가 등장한 횟수   \n",
    "외부링크수 : 다른 웹페이지로 링크가 걸린 개수   \n",
    "링크점수 : 자기 페이지로 링크가 걸린 페이지의 링크점수를 더한것  \n",
    "매칭점수 : 기본점수 + 링크점수   \n",
    "\n",
    "- 한 웹페이지의 url은 HTML의 <head> 태그 내에 <meta> 태그의 값으로 주어진다.  \n",
    "- 예를들어, 아래와 같은 meta tag가 있으면 이 웹페이지의 url은 https://careers.kakao.com/index 이다.  \n",
    "- <meta property=\"og:url\" content=\"https://careers.kakao.com/index\" />  \n",
    "- 한 웹페이지에서 모든 외부 링크는 <a href=\"https://careers.kakao.com/index\"\\>의 형태를 가진다.  \n",
    "- <a> 내에 다른 attribute가 주어지는 경우는 없으며 항상 href로 연결할 사이트의 url만 포함된다.  \n",
    "- 위의 경우에서 해당 웹페이지는 https://careers.kakao.com/index 로 외부링크를 가지고 있다고 볼 수 있다.  \n",
    "- 모든 url은 https:// 로만 시작한다.  \n",
    "- 검색어 word는 하나의 영어 단어로만 주어지며 알파벳 소문자와 대문자로만 이루어져 있다.  \n",
    "- word의 길이는 1 이상 12 이하이다.  \n",
    "- 검색어를 찾을 때, 대소문자 구분은 무시하고 찾는다.  \n",
    "- 예를들어 검색어가 blind일 때, HTML 내에 Blind라는 단어가 있거나, BLIND라는 단어가 있으면 두 경우 모두 해당된다.  \n",
    "- 검색어는 단어 단위로 비교하며, 단어와 완전히 일치하는 경우에만 기본 점수에 반영한다.  \n",
    "- 단어는 알파벳을 제외한 다른 모든 문자로 구분한다.  \n",
    "- 예를들어 검색어가 \"aba\" 일 때, \"abab abababa\"는 단어 단위로 일치하는게 없으니, 기본 점수는 0점이 된다.  \n",
    "- 만약 검색어가 \"aba\" 라면, \"aba@aba aba\"는 단어 단위로 세개가 일치하므로, 기본 점수는 3점이다.  \n",
    "- 결과를 돌려줄때, 동일한 매칭점수를 가진 웹페이지가 여러 개라면 그중 index 번호가 가장 작은 것를 리턴한다  \n",
    "- 즉, 웹페이지가 세개이고, 각각 매칭점수가 3,1,3 이라면 제일 적은 index 번호인 0을 리턴하면 된다.  "
   ],
   "cell_type": "markdown",
   "metadata": {}
  },
  {
   "cell_type": "code",
   "execution_count": 235,
   "metadata": {},
   "outputs": [
    {
     "output_type": "stream",
     "name": "stdout",
     "text": [
      "<meta property=\"og:url\" content=\"https://www.kakaocorp.com\"/>\nMy Page name : https://www.kakaocorp.com\n"
     ]
    },
    {
     "output_type": "execute_result",
     "data": {
      "text/plain": [
       "('https://www.kakaocorp.com', ['https://hashcode.co.kr/tos'], 1)"
      ]
     },
     "metadata": {},
     "execution_count": 235
    }
   ],
   "source": [
    "import re\n",
    "# pages[0][250:]\n",
    "# re.search('<^$>', pages[0])\n",
    "# re.search(r'<a href=.*?>', pages[0])\n",
    "# rg=re.compile(r'<a href=.*?>')\n",
    "# rg.search(pages[0])\n",
    "# re.findall(r'<a href=.*?</a>', pages[0]) ## 외부링크수\n",
    "def getPage(page, word):\n",
    "    basic_score = 0\n",
    "    tmp = re.findall(r'<meta property.*?/>', page)[0] ## 자기 링크\n",
    "    print(tmp)\n",
    "    mypagename = re.findall(r'https://.*?\"',tmp)[0][:-1]\n",
    "    print('My Page name :',mypagename) ## My Page Name\n",
    "\n",
    "    external =  re.findall(r'<a href=.*?</a>', page) ## 외부링크수\n",
    "    extlist=[]\n",
    "    for ext in external:\n",
    "        tmp = ext.split('\"')[1]\n",
    "        extlist.append(tmp)\n",
    "    # print(\"External Page list :\",extlist)\n",
    "\n",
    "    tokens = re.sub(pattern=\"[0-9-=+,#/\\?:^$.@*\\\"※~&%ㆍ!』\\\\‘|\\(\\)\\[\\]\\<\\>`\\'…》]\", repl=' ',string=page).split()\n",
    "    for token in tokens:\n",
    "        # print(token)\n",
    "        if token == word.lower(): basic_score +=1\n",
    "    # print(basic_score)\n",
    "    return mypagename, extlist, basic_score\n",
    "\n",
    "\n",
    "# re.findall(r'<meta property.*?>', pages[0]) ## 자기 링크\n",
    "getPage(pages2[1].lower(), 'Muzi')\n",
    "# re.findall(r'<body>.*</body>', pages[0])\n",
    "# re.findall(r'blind', pages[2].lower())\n",
    "# text='<a href=\"https://programmers.co.kr/learn/courses/4673\"></a>#!MuziMuzi!)jayg07con&&'\n",
    "# re.sub(pattern=\"[0-9-=+,#/\\?:^$.@*\\\"※~&%ㆍ!』\\\\‘|\\(\\)\\[\\]\\<\\>`\\'…》]\", repl=' ',string=text.lower()).split()\n",
    "# re.sub(r'[0-9]',' ',text.lower())\n",
    "# re.findall(r'muzi',text.lower())\n"
   ]
  },
  {
   "cell_type": "code",
   "execution_count": 211,
   "metadata": {},
   "outputs": [
    {
     "output_type": "execute_result",
     "data": {
      "text/plain": [
       "{'https://careers.kakao.com/interview/list': [0,\n",
       "  0,\n",
       "  0,\n",
       "  ['https://programmers.co.kr/learn/courses/4673']],\n",
       " 'https://www.kakaocorp.com': [1, 0, 0, ['https://hashcode.co.kr/tos']]}"
      ]
     },
     "metadata": {},
     "execution_count": 211
    }
   ],
   "source": [
    "import re\n",
    "def solution(pages,word):\n",
    "    # answer = 0\n",
    "    rank = {}\n",
    "    for i,page in enumerate(pages):\n",
    "        myp, extlist, bs  = getPage(page.lower(), word)\n",
    "        rank[myp] = [i,bs, 0 ,extlist]\n",
    "    # print(rank)\n",
    "    for page in rank:\n",
    "        # print(page,'외부점수주기')\n",
    "        for ext in rank[page][3]:\n",
    "            if rank.get(ext):\n",
    "                # print(ext, rank[ext])\n",
    "                rank[ext][2] += rank[page][1] / len(rank[page][3]) # basicScore / link 개수\n",
    "    answer=[]\n",
    "    for page in rank:\n",
    "        answer.append([rank[page][1]+rank[page][2], rank[page][0]])\n",
    "    print(answer)\n",
    "    return sorted(answer, key=(lambda x: (x[0],-x[1])))[-1][-1]\n",
    "    \n",
    "    # return answer\n",
    "solution(pages2, word2)\n"
   ]
  },
  {
   "cell_type": "code",
   "execution_count": 225,
   "metadata": {},
   "outputs": [
    {
     "output_type": "stream",
     "name": "stdout",
     "text": [
      "My Page name : https://careers.kakao.com/interview/list\nMy Page name : https://www.kakaocorp.com\n"
     ]
    },
    {
     "output_type": "execute_result",
     "data": {
      "text/plain": [
       "1"
      ]
     },
     "metadata": {},
     "execution_count": 225
    }
   ],
   "source": [
    "## 최종 만점\n",
    "import re \n",
    "def getPage(page, word):\n",
    "    basic_score = 0\n",
    "    tmp = re.findall(r'<meta property.*?>', page) ## 자기 링크\n",
    "    mypagename = re.findall(r'https://.*?\"',tmp[0])[0].split('\"')[0]\n",
    "\n",
    "    # print('My Page name :',mypagename) ## My Page Name\n",
    "\n",
    "    external =  re.findall(r'<a href=.*?</a>', page) ## 외부링크수\n",
    "    extlist=[]\n",
    "    for ext in external:\n",
    "        tmp = ext.split('\"')[1]\n",
    "        extlist.append(tmp)\n",
    "    # print(\"External Page list :\",extlist)\n",
    "\n",
    "    tokens = re.sub(pattern=\"[0-9-=+,#/\\?:^$.@*\\\"※~&%ㆍ!』\\\\‘|\\(\\)\\[\\]\\<\\>`\\'…》]\", repl=' ',string=page).split()\n",
    "    for token in tokens:\n",
    "        if token == word.lower(): basic_score +=1\n",
    "    # print(basic_score)\n",
    "    return mypagename, extlist, basic_score\n",
    "\n",
    "def solution(pages , word):\n",
    "    # answer = 0\n",
    "    rank = {}\n",
    "    for i,page in enumerate(pages):\n",
    "        myp, extlist, bs  = getPage(page.lower(), word)\n",
    "        rank[myp] = [i,bs, 0 ,extlist]\n",
    "    # print(rank)\n",
    "    for page in rank:\n",
    "        # print(page,'외부점수주기')\n",
    "        for ext in rank[page][3]:\n",
    "            # print(ext, rank[ext])\n",
    "            if rank.get(ext):\n",
    "                rank[ext][2] += rank[page][1] / len(rank[page][3]) # basicScore / link 개수\n",
    "    answer=[]\n",
    "    for page in rank:\n",
    "        answer.append([rank[page][1]+rank[page][2], rank[page][0]])\n",
    "    return sorted(answer, key=(lambda x: (x[0],-x[1])))[-1][-1]\n",
    "\n",
    "solution(pages2,word2)\n",
    "\n",
    "\n",
    "\n"
   ]
  },
  {
   "cell_type": "code",
   "execution_count": 228,
   "metadata": {},
   "outputs": [
    {
     "output_type": "stream",
     "name": "stdout",
     "text": [
      "My Page name : https://careers.kakao.com/interview/list\n"
     ]
    },
    {
     "output_type": "execute_result",
     "data": {
      "text/plain": [
       "('https://careers.kakao.com/interview/list',\n",
       " ['https://programmers.co.kr/learn/courses/4673'],\n",
       " 0)"
      ]
     },
     "metadata": {},
     "execution_count": 228
    }
   ],
   "source": [
    "getPage(pages2[0], word2)"
   ]
  },
  {
   "cell_type": "code",
   "execution_count": null,
   "metadata": {},
   "outputs": [],
   "source": [
    "# def solution(word, pages):\n",
    "#     answer = 0\n",
    "#     rank={}\n",
    "#     for page in pages:\n",
    "#         basicScore=0\n",
    "#         b_start=page.find('<body>')\n",
    "#         b_end=page.find('</body>')\n",
    "#         bodys=page[b_start:b_end]\n",
    "#         pattern = '<[^>]*>'\n",
    "#         tmp=re.sub(pattern=pattern, repl='', string=bodys)\n",
    "#         tmp2=re.sub(pattern=\"[0-9]\", repl=' ',string=tmp)\n",
    "#         tmp3=re.sub(pattern=\"[-=+,#/\\?:^$.@*\\\"※~&%ㆍ!』\\\\‘|\\(\\)\\[\\]\\<\\>`\\'…》]\", repl=' ',string=tmp2)\n",
    "# #         print(tmp3.split())\n",
    "#         for i in tmp3.upper().split():\n",
    "#             # print(i)\n",
    "#             if word.upper()==i:\n",
    "#                 basicScore+=1\n",
    "                \n",
    "#         rank[getName(page)]={'totalScore':0,'basicScore':basicScore,'links':getAhref(page)}\n",
    "#     for i in rank.items():\n",
    "#         b_score=i[1]['basicScore']\n",
    "#         linkdivide=len(i[1]['links'])\n",
    "#         for link in i[1]['links']:\n",
    "#             try:\n",
    "#                 rank[link]['totalScore'] += b_score/linkdivide\n",
    "#             except:continue\n",
    "#         i[1]['totalScore']+=i[1]['basicScore']\n",
    "    \n",
    "#     maxlink=[]\n",
    "#     maxScore=0\n",
    "#     for i,v in enumerate(rank.items()):\n",
    "#         now=v[1]['totalScore']\n",
    "#         if now>=maxScore:\n",
    "#             maxScore=now\n",
    "#     for i,v in enumerate(rank.items()):\n",
    "#         if v[1]['totalScore']>=maxScore:\n",
    "#             maxlink.append(i)\n",
    "#     # print(rank)\n",
    "#     answer=maxlink[0]\n",
    "#     return answer\n",
    "\n",
    "# def getName(page):\n",
    "#     return page[page.find('content'):page.find('content')+page[page.find('content'):].find('\\n')].split('\\\"')[1]\n",
    "\n",
    "# def getAhref(page):\n",
    "#     tmp=[]\n",
    "#     for i in page.split('<a')[1:]:#a href 개수\n",
    "#         tmp.append(i.split('\\\"')[1])\n",
    "#     return tmp\n",
    "\n",
    "# def numSplit(sentence):\n",
    "#     tmp=\"\"\n",
    "#     num='0123456789'\n",
    "#     for i,v in enumerate(sentence):\n",
    "#         if v in num and sentence[i-1] not in num:\n",
    "#             tmp+=f' {v}'\n",
    "#         else:\n",
    "#             tmp+=v\n",
    "#     return tmp\n",
    "\n",
    "\n",
    "# def numSub(sentence):\n",
    "#     tmp=\"\"\n",
    "#     num='1234567890'\n",
    "#     for i in sentence:\n",
    "#         if i in num:\n",
    "#             tmp+=' '\n",
    "#         else:\n",
    "#             tmp+= i\n",
    "#     return tmp"
   ]
  }
 ]
}