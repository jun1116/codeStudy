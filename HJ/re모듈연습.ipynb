{
 "metadata": {
  "language_info": {
   "codemirror_mode": {
    "name": "ipython",
    "version": 3
   },
   "file_extension": ".py",
   "mimetype": "text/x-python",
   "name": "python",
   "nbconvert_exporter": "python",
   "pygments_lexer": "ipython3",
   "version": "3.8.5"
  },
  "orig_nbformat": 2,
  "kernelspec": {
   "name": "python385jvsc74a57bd066725da8cd7a014ad20077260537a77858d60878c0d94adc7d9ed308e4bb2094",
   "display_name": "Python 3.8.5 64-bit ('codestates': conda)"
  },
  "metadata": {
   "interpreter": {
    "hash": "66725da8cd7a014ad20077260537a77858d60878c0d94adc7d9ed308e4bb2094"
   }
  }
 },
 "nbformat": 4,
 "nbformat_minor": 2,
 "cells": [
  {
   "cell_type": "code",
   "execution_count": 6,
   "metadata": {},
   "outputs": [
    {
     "output_type": "execute_result",
     "data": {
      "text/plain": [
       "'A'"
      ]
     },
     "metadata": {},
     "execution_count": 6
    }
   ],
   "source": [
    "chr(97).upper()"
   ]
  },
  {
   "cell_type": "code",
   "execution_count": 3,
   "metadata": {},
   "outputs": [
    {
     "output_type": "execute_result",
     "data": {
      "text/plain": [
       "65"
      ]
     },
     "metadata": {},
     "execution_count": 3
    }
   ],
   "source": [
    "ord('A')"
   ]
  },
  {
   "cell_type": "code",
   "execution_count": 7,
   "metadata": {},
   "outputs": [],
   "source": [
    "class Human:\n",
    "    def __init__(self, name, age):\n",
    "        self.name = name\n",
    "        self.age = age\n",
    "\n",
    "    def __repr__(self):\n",
    "        return f\"<Human: {self.name}, {self.age}>\"\n",
    "\n",
    "\n",
    "# 아래 humans에 할당된 list object는 다음과 같다.\n",
    "# Human(\"이름\", 연령)\n",
    "humans = [\n",
    "    Human(\"Abi\", 29),\n",
    "    Human(\"Batista\", 32),\n",
    "    Human(\"Charlse\", 37),\n",
    "    Human(\"Dolphine\", 30),\n",
    "    Human(\"Eva\", 26),\n",
    "    Human(\"Frin\", 18),\n",
    "    Human(\"Gless\", 42),\n",
    "    Human(\"Harby\", 12),\n",
    "    Human(\"Iris\", 41),\n",
    "    Human(\"David\", 31),\n",
    "]"
   ]
  },
  {
   "cell_type": "code",
   "execution_count": 23,
   "metadata": {},
   "outputs": [
    {
     "output_type": "execute_result",
     "data": {
      "text/plain": [
       "[('ABI', 34),\n",
       " ('BATISTA', 37),\n",
       " ('CHARLSE', 42),\n",
       " ('DOLPHINE', 35),\n",
       " ('EVA', 31),\n",
       " ('FRIN', 23),\n",
       " ('GLESS', 47),\n",
       " ('HARBY', 17),\n",
       " ('IRIS', 46),\n",
       " ('DAVID', 36)]"
      ]
     },
     "metadata": {},
     "execution_count": 23
    }
   ],
   "source": [
    "g = [(i.name.upper(), i.age+5) for i in humans]\n",
    "g"
   ]
  },
  {
   "cell_type": "code",
   "execution_count": 26,
   "metadata": {},
   "outputs": [
    {
     "output_type": "stream",
     "name": "stdout",
     "text": [
      "0 점대 - : 2 명\n10 점대 - : 1 명\n20 점대 - : 2 명\n30 점대 - : 3 명\n40 점대 - : 4 명\n50 점대 - : 0 명\n60 점대 - : 2 명\n70 점대 - : 2 명\n80 점대 - : 1 명\n90 점대 - : 2 명\n100 점대 - : 1 명\n"
     ]
    }
   ],
   "source": [
    "def part3(score_list):\n",
    "    person=[0]*11\n",
    "    for score in score_list:\n",
    "        if score < 0: continue\n",
    "        person[int(score/10)] += 1\n",
    "\n",
    "    for i in range(len(person)): \n",
    "        print(\"{0} 점대 - : {1} 명\".format(i*10, person[i]))\n",
    "\n",
    "part3([75, 25, 6, 73, 43, 46, 31, 13, 60, 90, 5,\n",
    "               43, 35, 65, 100, 28, 83, 95, 35, 45, -1])\n",
    "\n",
    "    "
   ]
  },
  {
   "cell_type": "code",
   "execution_count": 49,
   "metadata": {},
   "outputs": [
    {
     "output_type": "execute_result",
     "data": {
      "text/plain": [
       "1"
      ]
     },
     "metadata": {},
     "execution_count": 49
    }
   ],
   "source": [
    "# a=[1,2,5,3]\n",
    "# a.sort()\n",
    "# a.pop()\n",
    "# [i for i in range(1)]\n",
    "5//5"
   ]
  },
  {
   "cell_type": "code",
   "execution_count": null,
   "metadata": {},
   "outputs": [],
   "source": []
  },
  {
   "source": [
    "# Quick Sort"
   ],
   "cell_type": "markdown",
   "metadata": {}
  },
  {
   "cell_type": "code",
   "execution_count": 22,
   "metadata": {
    "tags": []
   },
   "outputs": [
    {
     "output_type": "stream",
     "name": "stdout",
     "text": [
      "[5, 1, 3, 2, 8, 9, 10, 22, 6, 7, 28] 2 9\n[5, 1, 3, 2, 8, 9, 10, 22, 6, 7, 28] 4 3\n[2, 1, 3, 5, 8, 9, 10, 22, 6, 7, 28] 2 1\n[1, 2, 3, 5, 8, 7, 10, 22, 6, 9, 28] 5 9\n[1, 2, 3, 5, 8, 7, 6, 22, 10, 9, 28] 6 8\n[1, 2, 3, 5, 8, 7, 6, 22, 10, 9, 28] 7 6\n[1, 2, 3, 5, 6, 7, 8, 22, 10, 9, 28] 5 4\n[1, 2, 3, 5, 6, 7, 8, 22, 10, 9, 28] 10 9\n[1, 2, 3, 5, 6, 7, 8, 9, 10, 22, 28] 8 7\n"
     ]
    },
    {
     "output_type": "execute_result",
     "data": {
      "text/plain": [
       "[1, 2, 3, 5, 6, 7, 8, 9, 10, 22, 28]"
      ]
     },
     "metadata": {},
     "execution_count": 22
    }
   ],
   "source": [
    "def partition(arr,left,right):\n",
    "    pivot=arr[left]\n",
    "    low=left+1\n",
    "    high=right\n",
    "    while low<=high:\n",
    "        while arr[low]<pivot:\n",
    "            low+=1\n",
    "        while arr[high]>pivot:\n",
    "            high-=1\n",
    "        if low<=high:\n",
    "            arr[low],arr[high]=arr[high],arr[low]\n",
    "        print(arr,low,high)\n",
    "    \n",
    "    arr[high],arr[left] = arr[left],arr[high]\n",
    "    return high\n",
    "\n",
    "def quick_sort(arr,left,right):\n",
    "    if left<=right:\n",
    "        pivot = partition(arr,left,right)\n",
    "        quick_sort(arr, left, pivot-1)\n",
    "        quick_sort(arr, pivot+1,right)\n",
    "    return arr\n",
    "\n",
    "tmparr=[5,1,7,2,8,9,10,22,6,3,28]\n",
    "quick_sort(tmparr,0,len(tmparr)-1)\n"
   ]
  },
  {
   "cell_type": "code",
   "execution_count": 43,
   "metadata": {},
   "outputs": [
    {
     "output_type": "execute_result",
     "data": {
      "text/plain": [
       "[2, 1, 3]"
      ]
     },
     "metadata": {},
     "execution_count": 43
    }
   ],
   "source": [
    "def merge_sort(arr,left,right):\n",
    "    if left<right:\n",
    "        mid = (left+right)//2\n",
    "        merge_sort(arr,left,mid)\n",
    "        merge_sort(arr,mid+1,right)\n",
    "\n",
    "        merge_two_area(arr,left,mid,right)\n",
    "\n",
    "def merge_two_area(arr,left,mid,right):\n",
    "    "
   ]
  },
  {
   "cell_type": "code",
   "execution_count": 7,
   "metadata": {},
   "outputs": [
    {
     "output_type": "execute_result",
     "data": {
      "text/plain": [
       "([1], [2])"
      ]
     },
     "metadata": {},
     "execution_count": 7
    }
   ],
   "source": [
    "tmp=[1,2,]\n",
    "tmp[:len(tmp)//2] , tmp[len(tmp)//2:]"
   ]
  },
  {
   "source": [
    "[링크](https://zoom.us/j/98415809459?pwd=S0toYys0RXpQcVBBVDhHd3hTQTRrZz09)"
   ],
   "cell_type": "markdown",
   "metadata": {}
  },
  {
   "cell_type": "code",
   "execution_count": 99,
   "metadata": {
    "tags": []
   },
   "outputs": [
    {
     "output_type": "execute_result",
     "data": {
      "text/plain": [
       "3524578"
      ]
     },
     "metadata": {},
     "execution_count": 99
    }
   ],
   "source": [
    "\n",
    "def memo_fib(input_value, save_memo):\n",
    "    if input_value in save_memo:\n",
    "        #### 소스코드 구현 ####\n",
    "        # pass #### 문제 풀 때는 pass를 지워주세요 ####\n",
    "        value = save_memo[input_value]\n",
    "    elif input_value == 1:\n",
    "        #### 소스코드 구현 ####\n",
    "        # pass #### 문제 풀 때는 pass를 지워주세요 ####\n",
    "        save_memo[1]=0\n",
    "        value = save_memo[input_value]\n",
    "    elif input_value == 2:\n",
    "        #### 소스코드 구현 ####\n",
    "        save_memo[2]=1\n",
    "        value= save_memo[input_value]\n",
    "        # pass #### 문제 풀 때는 pass를 지워주세요 ####\n",
    "    elif input_value > 2:           \n",
    "        #### 소스코드 구현 ####\n",
    "        # pass #### 문제 풀 때는 pass를 지워주세요 ####\n",
    "        save_memo[1]=0\n",
    "        save_memo[2]=1\n",
    "        i=2\n",
    "        while i <= input_value:\n",
    "            i+=1\n",
    "            save_memo[i] = save_memo[i-2] + save_memo[i-1]\n",
    "        value = save_memo[i]\n",
    "    return value\n",
    "\n",
    "save_memo = {}\n",
    "# print(memo_fib(33, save_memo))\n",
    "memo_fib(33, save_memo)\n",
    "# memo_fib(10, save_memo)\n"
   ]
  },
  {
   "cell_type": "code",
   "execution_count": 1,
   "metadata": {},
   "outputs": [
    {
     "output_type": "execute_result",
     "data": {
      "text/plain": [
       "120"
      ]
     },
     "metadata": {},
     "execution_count": 1
    }
   ],
   "source": [
    "def memoize_factorial(f):\n",
    "    memory = {1:1,2:2} \n",
    "    def wrapper(*args, **kargs):\n",
    "        k=f(*args,**kargs)\n",
    "        if k in memory: return memory[k]\n",
    "        i=len(memory.keys())\n",
    "        while i<k:\n",
    "            i+=1\n",
    "            memory[i] = memory[i-1] * i\n",
    "        return memory[k]\n",
    "    return wrapper\n",
    "      \n",
    "@memoize_factorial\n",
    "def facto(num):\n",
    "    if num==1: return 1\n",
    "    else:\n",
    "        return num\n",
    "facto(5)"
   ]
  },
  {
   "cell_type": "code",
   "execution_count": 139,
   "metadata": {},
   "outputs": [
    {
     "output_type": "execute_result",
     "data": {
      "text/plain": [
       "120"
      ]
     },
     "metadata": {},
     "execution_count": 139
    }
   ],
   "source": [
    "from functools import reduce\n",
    "num=5\n",
    "reduce(lambda acc, cur: acc * cur, [n for n in range(1, num + 1)],1)\n"
   ]
  },
  {
   "cell_type": "code",
   "execution_count": 19,
   "metadata": {},
   "outputs": [
    {
     "output_type": "stream",
     "name": "stdout",
     "text": [
      "Wrapped -> 4\nRecursive function 4\nWrapped -> 3\nRecursive function 3\nWrapped -> 2\nRecursive function 3\nWrapped -> 2\nRecursive function 4\nWrapped -> 3\n"
     ]
    },
    {
     "output_type": "execute_result",
     "data": {
      "text/plain": [
       "24"
      ]
     },
     "metadata": {},
     "execution_count": 19
    }
   ],
   "source": [
    "def mydecorator(f):\n",
    "    memory={1:1,2:2}\n",
    "    def wrapped(*args, **kwargs):\n",
    "        input=args[0]\n",
    "        print(\"Wrapped ->\", input)\n",
    "        if input in memory:\n",
    "            return memory[input]\n",
    "        else:\n",
    "            memory[input] = f(input)\n",
    "        return f(input)\n",
    "    return wrapped\n",
    "\n",
    "@mydecorator\n",
    "def recursive_func(n):\n",
    "    print(\"Recursive function\",n)\n",
    "    if n == 1:\n",
    "        return 1\n",
    "    return n * recursive_func(n - 1)\n",
    "\n",
    "recursive_func(4)\n"
   ]
  },
  {
   "cell_type": "code",
   "execution_count": 24,
   "metadata": {},
   "outputs": [
    {
     "output_type": "execute_result",
     "data": {
      "text/plain": [
       "''"
      ]
     },
     "metadata": {},
     "execution_count": 24
    }
   ],
   "source": [
    "def added_word(test_str1, test_str2):\n",
    "    ##### 코드를 작성해주세요 #####\n",
    "    # answer=\"\"\n",
    "    # for i in test_str2.split():\n",
    "    #     if i in test_str1:\n",
    "    #         continue\n",
    "    #     else:\n",
    "    #         answer+=i\n",
    "    # if answer : \n",
    "    #     return answer\n",
    "    # else:\n",
    "    #     return None\n",
    "    ans= list(filter(lambda x : x if x not in test_str1.split() else None, test_str2.split()))\n",
    "    answer=''\n",
    "    for a in ans:\n",
    "        answer+=a\n",
    "    return answer\n",
    "\n",
    "t1='hi hj'\n",
    "t2='hi hj'\n",
    "added_word(t1,t2)"
   ]
  }
 ]
}