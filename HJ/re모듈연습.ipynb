{
 "metadata": {
  "language_info": {
   "codemirror_mode": {
    "name": "ipython",
    "version": 3
   },
   "file_extension": ".py",
   "mimetype": "text/x-python",
   "name": "python",
   "nbconvert_exporter": "python",
   "pygments_lexer": "ipython3",
   "version": "3.8.5"
  },
  "orig_nbformat": 2,
  "kernelspec": {
   "name": "python385jvsc74a57bd039a3f6769e595a50e593a296d8b0c78e5171348aaba449e974344d6732d07a14",
   "display_name": "Python 3.8.5 64-bit ('base': conda)"
  }
 },
 "nbformat": 4,
 "nbformat_minor": 2,
 "cells": [
  {
   "cell_type": "code",
   "execution_count": 6,
   "metadata": {},
   "outputs": [
    {
     "output_type": "execute_result",
     "data": {
      "text/plain": [
       "'A'"
      ]
     },
     "metadata": {},
     "execution_count": 6
    }
   ],
   "source": [
    "chr(97).upper()"
   ]
  },
  {
   "cell_type": "code",
   "execution_count": 3,
   "metadata": {},
   "outputs": [
    {
     "output_type": "execute_result",
     "data": {
      "text/plain": [
       "65"
      ]
     },
     "metadata": {},
     "execution_count": 3
    }
   ],
   "source": [
    "ord('A')"
   ]
  },
  {
   "cell_type": "code",
   "execution_count": 7,
   "metadata": {},
   "outputs": [],
   "source": [
    "class Human:\n",
    "    def __init__(self, name, age):\n",
    "        self.name = name\n",
    "        self.age = age\n",
    "\n",
    "    def __repr__(self):\n",
    "        return f\"<Human: {self.name}, {self.age}>\"\n",
    "\n",
    "\n",
    "# 아래 humans에 할당된 list object는 다음과 같다.\n",
    "# Human(\"이름\", 연령)\n",
    "humans = [\n",
    "    Human(\"Abi\", 29),\n",
    "    Human(\"Batista\", 32),\n",
    "    Human(\"Charlse\", 37),\n",
    "    Human(\"Dolphine\", 30),\n",
    "    Human(\"Eva\", 26),\n",
    "    Human(\"Frin\", 18),\n",
    "    Human(\"Gless\", 42),\n",
    "    Human(\"Harby\", 12),\n",
    "    Human(\"Iris\", 41),\n",
    "    Human(\"David\", 31),\n",
    "]"
   ]
  },
  {
   "cell_type": "code",
   "execution_count": 23,
   "metadata": {},
   "outputs": [
    {
     "output_type": "execute_result",
     "data": {
      "text/plain": [
       "[('ABI', 34),\n",
       " ('BATISTA', 37),\n",
       " ('CHARLSE', 42),\n",
       " ('DOLPHINE', 35),\n",
       " ('EVA', 31),\n",
       " ('FRIN', 23),\n",
       " ('GLESS', 47),\n",
       " ('HARBY', 17),\n",
       " ('IRIS', 46),\n",
       " ('DAVID', 36)]"
      ]
     },
     "metadata": {},
     "execution_count": 23
    }
   ],
   "source": [
    "g = [(i.name.upper(), i.age+5) for i in humans]\n",
    "g"
   ]
  },
  {
   "cell_type": "code",
   "execution_count": 26,
   "metadata": {},
   "outputs": [
    {
     "output_type": "stream",
     "name": "stdout",
     "text": [
      "0 점대 - : 2 명\n10 점대 - : 1 명\n20 점대 - : 2 명\n30 점대 - : 3 명\n40 점대 - : 4 명\n50 점대 - : 0 명\n60 점대 - : 2 명\n70 점대 - : 2 명\n80 점대 - : 1 명\n90 점대 - : 2 명\n100 점대 - : 1 명\n"
     ]
    }
   ],
   "source": [
    "def part3(score_list):\n",
    "    person=[0]*11\n",
    "    for score in score_list:\n",
    "        if score < 0: continue\n",
    "        person[int(score/10)] += 1\n",
    "\n",
    "    for i in range(len(person)): \n",
    "        print(\"{0} 점대 - : {1} 명\".format(i*10, person[i]))\n",
    "\n",
    "part3([75, 25, 6, 73, 43, 46, 31, 13, 60, 90, 5,\n",
    "               43, 35, 65, 100, 28, 83, 95, 35, 45, -1])\n",
    "\n",
    "    "
   ]
  },
  {
   "cell_type": "code",
   "execution_count": 49,
   "metadata": {},
   "outputs": [
    {
     "output_type": "execute_result",
     "data": {
      "text/plain": [
       "1"
      ]
     },
     "metadata": {},
     "execution_count": 49
    }
   ],
   "source": [
    "# a=[1,2,5,3]\n",
    "# a.sort()\n",
    "# a.pop()\n",
    "# [i for i in range(1)]\n",
    "5//5"
   ]
  },
  {
   "cell_type": "code",
   "execution_count": null,
   "metadata": {},
   "outputs": [],
   "source": []
  }
 ]
}