{
 "cells": [
  {
   "cell_type": "markdown",
   "metadata": {},
   "source": [
    "[링크](https://programmers.co.kr/learn/courses/30/lessons/42626)"
   ]
  },
  {
   "cell_type": "code",
   "execution_count": 1,
   "metadata": {
    "ExecuteTime": {
     "end_time": "2020-12-15T16:37:25.283611Z",
     "start_time": "2020-12-15T16:37:25.258794Z"
    }
   },
   "outputs": [
    {
     "name": "stdout",
     "output_type": "stream",
     "text": [
      "[1, 2, 3, 9, 10, 12]\n"
     ]
    },
    {
     "data": {
      "text/plain": [
       "2"
      ]
     },
     "execution_count": 1,
     "metadata": {},
     "output_type": "execute_result"
    }
   ],
   "source": [
    "scoville=[1, 2, 3, 9, 10, 12]\t\n",
    "K=7\n",
    "def solution(scoville, K):\n",
    "    answer = 0\n",
    "    tmp=sorted(scoville)\n",
    "    print(tmp)\n",
    "    while forWhile(tmp,K)!=True:\n",
    "        answer+=1\n",
    "        sco=tmp[0]+tmp[1]*2\n",
    "        tmp.append(sco)\n",
    "        tmp=sorted(tmp[2:])\n",
    "    return answer\n",
    "\n",
    "def forWhile(list,k):\n",
    "    for i in list:\n",
    "        if i<k:return False\n",
    "    return True\n",
    "solution(scoville,K)"
   ]
  },
  {
   "cell_type": "code",
   "execution_count": 104,
   "metadata": {
    "ExecuteTime": {
     "end_time": "2020-12-16T05:46:52.818853Z",
     "start_time": "2020-12-16T05:46:52.802848Z"
    }
   },
   "outputs": [],
   "source": [
    "def swap(i,n):\n",
    "    tmp = i\n",
    "    i = n \n",
    "    n = tmp\n",
    "    return\n",
    "class minHeap:\n",
    "    def __init__(self):\n",
    "        self.queue=[None]\n",
    "    def parent(self,index):\n",
    "        return int(index/2)\n",
    "    def forWhile(self,K):\n",
    "        if min(self.queue[1:])>K: return True\n",
    "        else: return False\n",
    "    def insert(self,n):\n",
    "        self.queue.append(n)\n",
    "        i=len(self.queue)-1\n",
    "        while i>1:\n",
    "            parent=self.parent(i)\n",
    "            if self.queue[i] < self.queue[parent]:\n",
    "                tmp=self.queue[i]\n",
    "                self.queue[i]=self.queue[parent]\n",
    "                self.queue[parent]=tmp\n",
    "                i=parent\n",
    "            else:\n",
    "                break\n",
    "    def delete(self):\n",
    "        tmp=self.queue[1]\n",
    "#         self.queue[1]=self.queue.pop(len(self.queue)-1)\n",
    "        self.queue[1]=self.queue[-1]\n",
    "        self.queue = self.queue[:-1]\n",
    "        self.minHeapify(1)\n",
    "        return tmp\n",
    "    def leftchild(self,index):\n",
    "        return index*2\n",
    "    def rightchild(self,index):\n",
    "        return index*2 + 1\n",
    "    def minHeapify(self,i):\n",
    "        left=self.leftchild(i)\n",
    "        right=self.rightchild(i)\n",
    "        smallest=i \n",
    "        if left<=len(self.queue)-1 and self.queue[left] < self.queue[smallest]:\n",
    "            smallest = left\n",
    "        if right<=len(self.queue)-1 and self.queue[right] < self.queue[smallest]:\n",
    "            smallest = right\n",
    "        if smallest!= i :\n",
    "            tmp=self.queue[i]\n",
    "            self.queue[i] = self.queue[smallest]\n",
    "            self.queue[smallest] = tmp\n",
    "            self.minHeapify(smallest)"
   ]
  },
  {
   "cell_type": "code",
   "execution_count": 111,
   "metadata": {
    "ExecuteTime": {
     "end_time": "2020-12-16T05:49:15.073069Z",
     "start_time": "2020-12-16T05:49:15.065067Z"
    }
   },
   "outputs": [
    {
     "data": {
      "text/plain": [
       "2"
      ]
     },
     "execution_count": 111,
     "metadata": {},
     "output_type": "execute_result"
    }
   ],
   "source": [
    "def solution(scoville, K):\n",
    "    answer = 0\n",
    "    minheap=minHeap()\n",
    "    for i in scoville:\n",
    "        minheap.insert(i)\n",
    "    while minheap.forWhile(K)==False:\n",
    "        answer+=1\n",
    "        fir=minheap.delete()\n",
    "        sec=minheap.delete()*2\n",
    "        minheap.insert(fir+sec)\n",
    "    return answer\n",
    "scoville=[1, 2, 3, 9, 10, 12]\t\n",
    "K=7\n",
    "solution(scoville,K)"
   ]
  },
  {
   "cell_type": "code",
   "execution_count": 109,
   "metadata": {
    "ExecuteTime": {
     "end_time": "2020-12-16T05:47:04.783668Z",
     "start_time": "2020-12-16T05:47:04.770151Z"
    }
   },
   "outputs": [
    {
     "data": {
      "text/plain": [
       "False"
      ]
     },
     "execution_count": 109,
     "metadata": {},
     "output_type": "execute_result"
    }
   ],
   "source": [
    "minheap.forWhile(44)"
   ]
  },
  {
   "cell_type": "code",
   "execution_count": 64,
   "metadata": {
    "ExecuteTime": {
     "end_time": "2020-12-16T05:38:35.971379Z",
     "start_time": "2020-12-16T05:38:35.954375Z"
    }
   },
   "outputs": [
    {
     "name": "stdout",
     "output_type": "stream",
     "text": [
      "1 [None, 3, 7, 6, 8, 36, 14, 36, 46, 10]\n",
      "3 [None, 6, 7, 10, 8, 36, 14, 36, 46]\n",
      "6 [None, 7, 8, 10, 46, 36, 14, 36]\n",
      "7 [None, 8, 36, 10, 46, 36, 14]\n",
      "8 [None, 10, 36, 14, 46, 36]\n",
      "10 [None, 14, 36, 36, 46]\n",
      "14 [None, 36, 46, 36]\n",
      "36 [None, 36, 46]\n",
      "36 [None, 46]\n",
      "46 [None]\n"
     ]
    }
   ],
   "source": [
    "for _ in range(10):\n",
    "    a=minheap.delete()\n",
    "    print(a,minheap.queue)"
   ]
  },
  {
   "cell_type": "code",
   "execution_count": null,
   "metadata": {},
   "outputs": [],
   "source": []
  },
  {
   "source": [
    "# 210520 재풀이\n",
    "test case 16번을 계속 통과하지 못하는것에 대하여 \n",
    "이전에는 while문의 조건이 `while hp[0]<k and len(hp)>2 : ` 였는데\n",
    "여러번 테스트해보니, 입력이 2개 들어가고, 한번만에 조건을 만족할 수 있다면, while문을 들어가서 진행해야하는것이므로, \n",
    "while문 조건을 `while hp[0]<k and len(hp)>=2 : ` 와 같이 바꿔주니 테케 16번 통과!"
   ],
   "cell_type": "markdown",
   "metadata": {}
  },
  {
   "cell_type": "code",
   "execution_count": 32,
   "metadata": {},
   "outputs": [
    {
     "output_type": "execute_result",
     "data": {
      "text/plain": [
       "1"
      ]
     },
     "metadata": {},
     "execution_count": 32
    }
   ],
   "source": [
    "import heapq\n",
    "scoville = [1,2,3,9,10,12]\n",
    "k=7\n",
    "def solution(scoville, k):\n",
    "    answer=0\n",
    "    hp=[]\n",
    "    for i in scoville:\n",
    "        heapq.heappush(hp, i)\n",
    "    if hp[0]>k:return 0\n",
    "    while hp[0] < k and len(hp)>=2:\n",
    "        a=heapq.heappop(hp)\n",
    "        b=heapq.heappop(hp)\n",
    "        new = a + (b*2)\n",
    "        if new==0 : return -1\n",
    "        heapq.heappush(hp, new)\n",
    "        answer+=1 \n",
    "    # print(hp)\n",
    "    if hp[0]<k : return -1\n",
    "    else:\n",
    "        return answer\n",
    "\n",
    "solution([1,33], 4)"
   ]
  },
  {
   "cell_type": "code",
   "execution_count": null,
   "metadata": {},
   "outputs": [],
   "source": []
  },
  {
   "cell_type": "code",
   "execution_count": null,
   "metadata": {},
   "outputs": [],
   "source": []
  }
 ],
 "metadata": {
  "kernelspec": {
   "name": "python385jvsc74a57bd039a3f6769e595a50e593a296d8b0c78e5171348aaba449e974344d6732d07a14",
   "display_name": "Python 3.8.5 64-bit ('base': conda)"
  },
  "language_info": {
   "codemirror_mode": {
    "name": "ipython",
    "version": 3
   },
   "file_extension": ".py",
   "mimetype": "text/x-python",
   "name": "python",
   "nbconvert_exporter": "python",
   "pygments_lexer": "ipython3",
   "version": "3.8.5"
  },
  "toc": {
   "base_numbering": 1,
   "nav_menu": {},
   "number_sections": true,
   "sideBar": true,
   "skip_h1_title": false,
   "title_cell": "Table of Contents",
   "title_sidebar": "Contents",
   "toc_cell": false,
   "toc_position": {},
   "toc_section_display": true,
   "toc_window_display": false
  }
 },
 "nbformat": 4,
 "nbformat_minor": 4
}