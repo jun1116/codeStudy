{
 "metadata": {
  "language_info": {
   "codemirror_mode": {
    "name": "ipython",
    "version": 3
   },
   "file_extension": ".py",
   "mimetype": "text/x-python",
   "name": "python",
   "nbconvert_exporter": "python",
   "pygments_lexer": "ipython3",
   "version": 3
  },
  "orig_nbformat": 2
 },
 "nbformat": 4,
 "nbformat_minor": 2,
 "cells": [
  {
   "cell_type": "code",
   "execution_count": null,
   "metadata": {},
   "outputs": [],
   "source": [
    "# N, stages = 5, [2, 1, 2, 6, 2, 4, 3, 3]\t\n",
    "N, stages = 4, [4,4,4,4,4]\t\n",
    "def solution(n,stages):\n",
    "    answer=[]\n",
    "    stgs = [[0,0] for i in range(N+1)]\n",
    "    \n",
    "    for plv in stages:\n",
    "        for i,stg in enumerate(stgs):\n",
    "            if plv > i:\n",
    "                stg[1]+=1\n",
    "            elif plv==i:\n",
    "                stg[0]+=1\n",
    "                stg[1]+=1\n",
    "            else:\n",
    "                break\n",
    "\n",
    "    ans = sorted(list(map(lambda x : [x[0],x[1][0]/x[1][1]] if x[1][1]!=0 else [x[0],0], enumerate(stgs))), key=(lambda x :x[1]), reverse=True)\n",
    "    \n",
    "    print(ans)\n",
    "    answer = [i[0] for i in ans if i[0]!=0]\n",
    "    return answer\n",
    "\n",
    "solution(n, stages)\n",
    "# 3,4,2,1,5"
   ]
  }
 ]
}