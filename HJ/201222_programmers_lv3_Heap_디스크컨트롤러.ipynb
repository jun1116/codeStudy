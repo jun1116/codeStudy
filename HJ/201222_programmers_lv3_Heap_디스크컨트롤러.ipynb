{
 "cells": [
  {
   "cell_type": "code",
   "execution_count": 1,
   "metadata": {
    "ExecuteTime": {
     "end_time": "2020-12-22T05:17:43.199498Z",
     "start_time": "2020-12-22T05:17:43.193497Z"
    }
   },
   "outputs": [],
   "source": [
    "import heapq\n",
    "jobs = [[24, 10], [28, 39], [43, 20], [37, 5], [47, 22], [20, 47], [15, 34], [15, 2], [35, 43], [26, 1]]\n",
    "# 72, [[24, 10], [28, 39], [43, 20], [37, 5], [47, 22], [20, 47], [15, 2], [15, 34], [35, 43], [26, 1]]\n",
    "# 13, [[0, 9], [0, 4], [0, 5], [0, 7], [0, 3]]\n"
   ]
  },
  {
   "cell_type": "code",
   "execution_count": 11,
   "metadata": {
    "ExecuteTime": {
     "end_time": "2020-12-22T02:59:10.162375Z",
     "start_time": "2020-12-22T02:59:10.155374Z"
    }
   },
   "outputs": [
    {
     "name": "stdout",
     "output_type": "stream",
     "text": [
      "[[15, 2], [15, 34], [20, 47], [24, 10], [26, 1], [28, 39], [35, 43], [37, 5], [43, 20], [47, 22]]\n"
     ]
    }
   ],
   "source": [
    "print(sorted(jobs[:],key=lambda x:(x[0],x[1])))"
   ]
  },
  {
   "cell_type": "code",
   "execution_count": null,
   "metadata": {},
   "outputs": [],
   "source": []
  },
  {
   "cell_type": "code",
   "execution_count": 54,
   "metadata": {
    "ExecuteTime": {
     "end_time": "2020-12-22T07:19:05.129575Z",
     "start_time": "2020-12-22T07:19:05.125573Z"
    }
   },
   "outputs": [],
   "source": [
    "def jobs2Heap(hq,jobs,current):\n",
    "    i=0\n",
    "    while True:\n",
    "        try:\n",
    "            if current>=jobs[i][0]:\n",
    "                hq.append(jobs[i])\n",
    "                jobs.pop(i)\n",
    "            else:\n",
    "                break\n",
    "        except:\n",
    "            break\n",
    "    return hq, jobs\n",
    "    \n",
    "            "
   ]
  },
  {
   "cell_type": "code",
   "execution_count": 62,
   "metadata": {
    "ExecuteTime": {
     "end_time": "2020-12-22T07:22:44.836390Z",
     "start_time": "2020-12-22T07:22:44.826049Z"
    }
   },
   "outputs": [
    {
     "name": "stdout",
     "output_type": "stream",
     "text": [
      "15 [[15, 34], [20, 47], [24, 10], [26, 1], [28, 39], [35, 43], [37, 5], [43, 20], [47, 22]]\n",
      "\n",
      "now:[15, 2],\tcurrent : 17 \n",
      " HQ : []\n",
      "NEW HQ : [[15, 34]]\n",
      "now:[15, 34],\tcurrent : 51 \n",
      " HQ : []\n",
      "NEW HQ : [[20, 47], [24, 10], [26, 1], [28, 39], [35, 43], [37, 5], [43, 20], [47, 22]]\n",
      "now:[26, 1],\tcurrent : 52 \n",
      " HQ : [[37, 5], [24, 10], [43, 20], [47, 22], [28, 39], [35, 43], [20, 47]]\n",
      "now:[37, 5],\tcurrent : 57 \n",
      " HQ : [[24, 10], [43, 20], [47, 22], [28, 39], [35, 43], [20, 47]]\n",
      "now:[24, 10],\tcurrent : 67 \n",
      " HQ : [[43, 20], [47, 22], [28, 39], [35, 43], [20, 47]]\n",
      "now:[43, 20],\tcurrent : 87 \n",
      " HQ : [[47, 22], [28, 39], [35, 43], [20, 47]]\n",
      "now:[47, 22],\tcurrent : 109 \n",
      " HQ : [[28, 39], [35, 43], [20, 47]]\n",
      "now:[28, 39],\tcurrent : 148 \n",
      " HQ : [[35, 43], [20, 47]]\n",
      "now:[35, 43],\tcurrent : 191 \n",
      " HQ : [[20, 47]]\n",
      "now:[20, 47],\tcurrent : 238 \n",
      " HQ : []\n"
     ]
    },
    {
     "data": {
      "text/plain": [
       "72"
      ]
     },
     "execution_count": 62,
     "metadata": {},
     "output_type": "execute_result"
    }
   ],
   "source": [
    "def solution(jobs):\n",
    "    n=len(jobs)\n",
    "    answer=0\n",
    "    current=0\n",
    "    hq=[]\n",
    "    jobs=sorted(jobs[:],key=lambda x:(x[0],x[1]))\n",
    "    current=jobs[0][0] # 15\n",
    "    heapq.heappush(hq,jobs.pop(0)) \n",
    "    while hq:\n",
    "        hq=sorted(hq,key=lambda x:x[1])\n",
    "        now=hq.pop(0)\n",
    "        current+=now[1]\n",
    "        answer+=current-now[0]\n",
    "        if len(jobs)==0:pass\n",
    "        else:\n",
    "            hq,jobs=jobs2Heap(hq,jobs,current)\n",
    "    return int(answer/n)\n",
    "    \n",
    "        \n",
    "    \n",
    "        \n",
    "jobs=[[24, 10], [28, 39], [43, 20], [37, 5], [47, 22], [20, 47], [15, 34], [15, 2], [35, 43], [26, 1]]            \n",
    "# jobs=[[15, 2], [15, 34], [20, 47], [24, 10], [26, 1], [28, 39], [35, 43], [37, 5], [43, 20], [47, 22]]\n",
    "# jobs=\t[[0, 3], [1, 9], [2, 6]]\n",
    "solution(jobs)"
   ]
  },
  {
   "cell_type": "code",
   "execution_count": null,
   "metadata": {},
   "outputs": [],
   "source": []
  },
  {
   "cell_type": "code",
   "execution_count": null,
   "metadata": {},
   "outputs": [],
   "source": []
  },
  {
   "cell_type": "code",
   "execution_count": null,
   "metadata": {},
   "outputs": [],
   "source": []
  }
 ],
 "metadata": {
  "kernelspec": {
   "display_name": "Python 3",
   "language": "python",
   "name": "python3"
  },
  "language_info": {
   "codemirror_mode": {
    "name": "ipython",
    "version": 3
   },
   "file_extension": ".py",
   "mimetype": "text/x-python",
   "name": "python",
   "nbconvert_exporter": "python",
   "pygments_lexer": "ipython3",
   "version": "3.8.5"
  },
  "toc": {
   "base_numbering": 1,
   "nav_menu": {},
   "number_sections": true,
   "sideBar": true,
   "skip_h1_title": false,
   "title_cell": "Table of Contents",
   "title_sidebar": "Contents",
   "toc_cell": false,
   "toc_position": {},
   "toc_section_display": true,
   "toc_window_display": false
  }
 },
 "nbformat": 4,
 "nbformat_minor": 4
}
