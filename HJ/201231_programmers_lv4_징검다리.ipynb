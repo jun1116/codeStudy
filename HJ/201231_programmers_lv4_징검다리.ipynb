{
 "cells": [
  {
   "source": [
    "# 2020년 12월 31일 풀이"
   ],
   "cell_type": "markdown",
   "metadata": {}
  },
  {
   "cell_type": "code",
   "execution_count": 11,
   "metadata": {
    "collapsed": true
   },
   "outputs": [
    {
     "output_type": "stream",
     "name": "stdout",
     "text": [
      "2 0 0\n11 0 1\n14 0 2\n\n17 14 2\n2 0 0\n11 0 1\n\n14 11 1\n17 11 2\n\n21 17 2\n2 0 0\n11 0 1\n\n14 11 1\n\n17 14 1\n\n21 17 1\n\n2 0 0\n11 0 1\n\n14 11 1\n17 11 2\n\n21 17 2\n\n2 0 0\n11 0 1\n\n14 11 1\n17 11 2\n\n21 17 2\n"
     ]
    },
    {
     "output_type": "execute_result",
     "data": {
      "text/plain": [
       "4"
      ]
     },
     "metadata": {},
     "execution_count": 11
    }
   ],
   "source": [
    "def solution(distance, rocks, n):\n",
    "    answer=0\n",
    "    left=1\n",
    "    right=distance\n",
    "    rocks.sort()\n",
    "    while left <= right:\n",
    "        mid=(left+right)//2 # set mid\n",
    "        \n",
    "        prev=0\n",
    "        removecnt=0\n",
    "        m_min=99999999\n",
    "        \n",
    "        for x in rocks:\n",
    "            print(x, prev, removecnt)\n",
    "            if x-prev < mid:\n",
    "                removecnt+=1\n",
    "                if(removecnt > n):break\n",
    "            else:\n",
    "                print()\n",
    "                m_min=min(m_min , x-prev)\n",
    "                prev=x\n",
    "        \n",
    "        if(removecnt > n) : \n",
    "            right = mid-1\n",
    "        else:\n",
    "            answer=m_min\n",
    "            left=mid+1\n",
    "            \n",
    "    return answer\n",
    "\n",
    "solution(25,[2, 14, 11, 21, 17], 2)"
   ]
  },
  {
   "cell_type": "code",
   "execution_count": null,
   "metadata": {},
   "outputs": [],
   "source": []
  },
  {
   "source": [
    "# 2021년 5월 11일 다시풀어보기\n",
    "어우; 너무어려운데?\n",
    "[블로그](https://taesan94.tistory.com/1540)"
   ],
   "cell_type": "markdown",
   "metadata": {}
  },
  {
   "cell_type": "code",
   "execution_count": null,
   "metadata": {},
   "outputs": [],
   "source": [
    "distance=25\n",
    "rocks=[2,14,11,21,17]\n",
    "n=2\n"
   ]
  },
  {
   "cell_type": "code",
   "execution_count": null,
   "metadata": {},
   "outputs": [],
   "source": []
  },
  {
   "cell_type": "code",
   "execution_count": null,
   "metadata": {},
   "outputs": [],
   "source": []
  },
  {
   "cell_type": "code",
   "execution_count": null,
   "metadata": {},
   "outputs": [],
   "source": []
  },
  {
   "cell_type": "code",
   "execution_count": null,
   "metadata": {},
   "outputs": [],
   "source": []
  },
  {
   "cell_type": "code",
   "execution_count": null,
   "metadata": {},
   "outputs": [],
   "source": []
  },
  {
   "cell_type": "code",
   "execution_count": null,
   "metadata": {},
   "outputs": [],
   "source": []
  },
  {
   "cell_type": "markdown",
   "metadata": {},
   "source": [
    "#### 공부해볼만한 코드"
   ]
  },
  {
   "cell_type": "code",
   "execution_count": 1,
   "metadata": {},
   "outputs": [
    {
     "data": {
      "text/plain": [
       "4"
      ]
     },
     "execution_count": 1,
     "metadata": {},
     "output_type": "execute_result"
    }
   ],
   "source": [
    "def solution(distance, rocks, n):\n",
    "    answer = 0\n",
    "    left = 1\n",
    "    right = distance\n",
    "    rocks.sort()\n",
    "    while left <= right:\n",
    "        mid = (left + right) // 2\n",
    "        prv = 0\n",
    "        removecnt = 0\n",
    "        m_min = 10000000001\n",
    "        for x in rocks:\n",
    "            if x - prv < mid:\n",
    "                removecnt += 1\n",
    "                if(removecnt > n): break\n",
    "            else: \n",
    "                m_min = min(m_min, x - prv)\n",
    "                prv = x\n",
    "        if(removecnt > n ): right = mid-1\n",
    "        else:\n",
    "            answer = m_min\n",
    "            left = mid + 1\n",
    "\n",
    "    return answer\n",
    "solution(25,[2, 14, 11, 21, 17], 2)"
   ]
  }
 ],
 "metadata": {
  "kernelspec": {
   "name": "python385jvsc74a57bd039a3f6769e595a50e593a296d8b0c78e5171348aaba449e974344d6732d07a14",
   "display_name": "Python 3.8.5 64-bit ('base': conda)"
  },
  "language_info": {
   "codemirror_mode": {
    "name": "ipython",
    "version": 3
   },
   "file_extension": ".py",
   "mimetype": "text/x-python",
   "name": "python",
   "nbconvert_exporter": "python",
   "pygments_lexer": "ipython3",
   "version": "3.8.5"
  },
  "toc": {
   "base_numbering": 1,
   "nav_menu": {},
   "number_sections": true,
   "sideBar": true,
   "skip_h1_title": false,
   "title_cell": "Table of Contents",
   "title_sidebar": "Contents",
   "toc_cell": false,
   "toc_position": {},
   "toc_section_display": true,
   "toc_window_display": false
  }
 },
 "nbformat": 4,
 "nbformat_minor": 4
}