{
 "cells": [
  {
   "cell_type": "code",
   "execution_count": null,
   "source": [],
   "outputs": [],
   "metadata": {}
  },
  {
   "cell_type": "code",
   "execution_count": null,
   "source": [],
   "outputs": [],
   "metadata": {}
  },
  {
   "cell_type": "code",
   "execution_count": null,
   "source": [],
   "outputs": [],
   "metadata": {}
  },
  {
   "cell_type": "markdown",
   "source": [],
   "metadata": {}
  },
  {
   "cell_type": "code",
   "execution_count": 29,
   "source": [
    "#2번\n",
    "arr=[1, 1, 3, 3, 2, 2, 4, 5, 1, 1, 1, 3, 3, 3]\t\n",
    "arr2= [2, 2, 2, 1, 1, 3, 3]\n",
    "# def solution(arr):\n",
    "def mkarr(arr):\n",
    "    tmp=[]\n",
    "    count=1\n",
    "    for i,v in enumerate(arr):\n",
    "        if i==0:continue\n",
    "        if arr[i-1]!=arr[i]:\n",
    "            tmp.append(count)\n",
    "            count=1\n",
    "        else:\n",
    "            count+=1\n",
    "    \n",
    "    tmp.append(count)\n",
    "    return tmp\n",
    "\n",
    "def solution(arr):\n",
    "    tmp=arr[:]\n",
    "    i=0\n",
    "    while True:\n",
    "        i+=1\n",
    "        tmp=mkarr(tmp)\n",
    "        if tmp==[1]:break\n",
    "    return i\n",
    "solution([2, 2, 1, 1, 2, 2, 1, 1, 2, 2, 2, 1, 2])"
   ],
   "outputs": [
    {
     "output_type": "execute_result",
     "data": {
      "text/plain": [
       "[2, 2, 2, 1, 1, 3, 3]"
      ]
     },
     "metadata": {},
     "execution_count": 29
    }
   ],
   "metadata": {
    "ExecuteTime": {
     "end_time": "2020-12-22T10:25:46.296619Z",
     "start_time": "2020-12-22T10:25:46.286614Z"
    }
   }
  },
  {
   "cell_type": "code",
   "execution_count": 17,
   "source": [
    "# 3번\n",
    "now=1\n",
    "ans=0\n",
    "for dest in [1,2,3,4,5]:\n",
    "    a=dest-now\n",
    "    b=now-dest\n",
    "    if a<0:a+=5\n",
    "    if b<0:b+=5\n",
    "    ans+=min(a,b)\n",
    "    print(now,dest,'\\t',a,b,'\\t',ans)\n",
    "    now=dest\n",
    "#     print(now,dest,'\\t',a,b,'\\t',ans)\n",
    "ans"
   ],
   "outputs": [
    {
     "output_type": "stream",
     "name": "stdout",
     "text": [
      "1 1 \t 0 0 \t 0\n",
      "1 2 \t 1 4 \t 1\n",
      "2 3 \t 1 4 \t 2\n",
      "3 4 \t 1 4 \t 3\n",
      "4 5 \t 1 4 \t 4\n"
     ]
    },
    {
     "output_type": "execute_result",
     "data": {
      "text/plain": [
       "4"
      ]
     },
     "metadata": {},
     "execution_count": 17
    }
   ],
   "metadata": {
    "ExecuteTime": {
     "end_time": "2020-12-22T10:16:18.829322Z",
     "start_time": "2020-12-22T10:16:18.823015Z"
    }
   }
  },
  {
   "cell_type": "markdown",
   "source": [],
   "metadata": {}
  },
  {
   "cell_type": "code",
   "execution_count": 135,
   "source": [
    "# 4번\n",
    "def solution(n):\n",
    "    answer=0\n",
    "    dp=set()\n",
    "    dp.add(2)\n",
    "    i=2\n",
    "    while True:\n",
    "        for k in range(1,i):\n",
    "            dp.add(k*(k+1))\n",
    "            dp.add(k*(k+1)*(k+2))\n",
    "#             dp.add(k*(k+1)*(k+3))\n",
    "\n",
    "        i+=1\n",
    "        if len(dp)>n:break\n",
    "\n",
    "    print(list(dp)[n])\n",
    "\n",
    "    return dp\n",
    "solution(2)\n"
   ],
   "outputs": [
    {
     "output_type": "stream",
     "name": "stdout",
     "text": [
      "6\n"
     ]
    },
    {
     "output_type": "execute_result",
     "data": {
      "text/plain": [
       "{2, 6, 24}"
      ]
     },
     "metadata": {},
     "execution_count": 135
    }
   ],
   "metadata": {
    "ExecuteTime": {
     "end_time": "2020-12-22T11:58:55.793292Z",
     "start_time": "2020-12-22T11:58:55.776577Z"
    }
   }
  },
  {
   "cell_type": "code",
   "execution_count": 62,
   "source": [
    "for i in range(1,1):\n",
    "    print(i==0)\n"
   ],
   "outputs": [
    {
     "output_type": "execute_result",
     "data": {
      "text/plain": [
       "123"
      ]
     },
     "metadata": {},
     "execution_count": 62
    }
   ],
   "metadata": {
    "ExecuteTime": {
     "end_time": "2020-12-22T10:53:19.200538Z",
     "start_time": "2020-12-22T10:53:19.196530Z"
    }
   }
  },
  {
   "cell_type": "code",
   "execution_count": 101,
   "source": [
    "# 5번\n",
    "def sol(n):\n",
    "    answer=0\n",
    "    dp=[]\n",
    "    tmp=mkbin(n).count('1')\n",
    "    for i in range(1,n):\n",
    "        if mkbin(i).count('1')==tmp:\n",
    "            answer+=1\n",
    "#         dp.append(mkbin(i),mkbin(i).count('1'))\n",
    "    return answer\n",
    "sol(10)\n",
    "\n"
   ],
   "outputs": [
    {
     "output_type": "execute_result",
     "data": {
      "text/plain": [
       "4"
      ]
     },
     "metadata": {},
     "execution_count": 101
    }
   ],
   "metadata": {
    "ExecuteTime": {
     "end_time": "2020-12-22T11:11:04.003661Z",
     "start_time": "2020-12-22T11:11:03.988303Z"
    }
   }
  },
  {
   "cell_type": "code",
   "execution_count": 98,
   "source": [
    "def mkbin(n):\n",
    "    tmp=''\n",
    "    while n>1:\n",
    "        s=n%2\n",
    "        n=n//2\n",
    "        tmp=str(s)+tmp\n",
    "    tmp=str(n)+tmp\n",
    "    return tmp\n",
    "# divmod(5,2)\n",
    "mkbin(1)#.count('1')\n"
   ],
   "outputs": [
    {
     "output_type": "execute_result",
     "data": {
      "text/plain": [
       "'1'"
      ]
     },
     "metadata": {},
     "execution_count": 98
    }
   ],
   "metadata": {
    "ExecuteTime": {
     "end_time": "2020-12-22T11:08:46.286122Z",
     "start_time": "2020-12-22T11:08:46.267566Z"
    }
   }
  },
  {
   "cell_type": "code",
   "execution_count": 78,
   "source": [
    "mkbin(5)"
   ],
   "outputs": [
    {
     "output_type": "stream",
     "name": "stdout",
     "text": [
      "1\n"
     ]
    },
    {
     "output_type": "execute_result",
     "data": {
      "text/plain": [
       "'211'"
      ]
     },
     "metadata": {},
     "execution_count": 78
    }
   ],
   "metadata": {
    "ExecuteTime": {
     "end_time": "2020-12-22T11:03:45.416695Z",
     "start_time": "2020-12-22T11:03:45.403358Z"
    }
   }
  },
  {
   "cell_type": "markdown",
   "source": [],
   "metadata": {}
  },
  {
   "cell_type": "code",
   "execution_count": null,
   "source": [
    "# 6 번"
   ],
   "outputs": [],
   "metadata": {}
  },
  {
   "cell_type": "code",
   "execution_count": null,
   "source": [
    "nums=[4, 1, 2, 3, 1, 0, 5]\t\n",
    "def mkgraph(nums):\n",
    "    dic=dict()\n",
    "    for i,num in enumerate(nums):\n",
    "        if i==0:\n",
    "            dic[i]=[i+num]\n",
    "        tmp=dic.get(i)\n",
    "        if tmp:\n",
    "            tmp.append()\n",
    "        else:\n",
    "            dic[i]=[i+num]"
   ],
   "outputs": [],
   "metadata": {}
  },
  {
   "cell_type": "code",
   "execution_count": null,
   "source": [
    "nums=[4, 1, 2, 3, 1, 0, 5]\t\n",
    "def mkgraph(nums):\n",
    "    dic=dict()\n",
    "    i=0\n",
    "    while i<len(nums):\n",
    "        tmp=dic.get(i)\n",
    "        if tmp:\n",
    "            up=i+dic[i]\n",
    "            down=i-dic[i]\n",
    "            if down>0 and up<len(nums):\n",
    "                tmp.extend([nums[down],nums[up]])\n",
    "            elif up<len(nums):\n",
    "                tmp.append(nums[up])\n",
    "            elif down>0:\n",
    "                tmp.append(num[down])\n",
    "            \n",
    "        else:\n",
    "            up=i+dic[i]\n",
    "            down=i-dic[i]\n",
    "            if down>0 and up<len(nums):\n",
    "                dic[i]=[nums[down],nums[up]]\n",
    "            elif up<len(nums):\n",
    "                dic[i]=nums[up]\n",
    "            elif down>0:\n",
    "                dic[i]=nums[down]\n",
    "                \n",
    "        i=i+1"
   ],
   "outputs": [],
   "metadata": {}
  },
  {
   "cell_type": "code",
   "execution_count": 5,
   "source": [
    "#6번\n",
    "def solution(nums):\n",
    "    visited=[]\n",
    "    stack=[0]\n",
    "    step=0\n",
    "    while stack:\n",
    "        step+=1\n",
    "        now=stack.pop()\n",
    "        if now in visited:\n",
    "            continue\n",
    "        else:\n",
    "            visited.append(now)\n",
    "        upidx=now+nums[now]\n",
    "        dnidx=now-nums[now]\n",
    "        if upidx<len(nums):\n",
    "            stack.append(upidx)\n",
    "        if dnidx>0:\n",
    "            stack.append(dnidx)\n",
    "        if upidx==len(nums)-1:\n",
    "            print(f'{step}\\t 도착 !! {upidx}')\n",
    "            return step\n",
    "        print(step,'\\t',stack, upidx,dnidx) \n",
    "    return -1\n",
    "solution([4, 1, 4, 3, 1, 0, 5, 1])    \n",
    "#         0  1  2  3  4  5  6  7"
   ],
   "outputs": [
    {
     "output_type": "stream",
     "name": "stdout",
     "text": [
      "1 \t [4] 4 -4\n",
      "2 \t [5, 3] 5 3\n",
      "3 \t [5, 6] 6 0\n",
      "4 \t [5, 1] 11 1\n",
      "5 \t [5, 2] 2 0\n",
      "6 \t [5, 6] 6 -2\n",
      "8 \t [5, 5] 5 5\n"
     ]
    },
    {
     "output_type": "execute_result",
     "data": {
      "text/plain": [
       "-1"
      ]
     },
     "metadata": {},
     "execution_count": 5
    }
   ],
   "metadata": {
    "ExecuteTime": {
     "end_time": "2020-12-22T12:08:55.801888Z",
     "start_time": "2020-12-22T12:08:55.793057Z"
    }
   }
  },
  {
   "cell_type": "code",
   "execution_count": null,
   "source": [],
   "outputs": [],
   "metadata": {}
  },
  {
   "cell_type": "code",
   "execution_count": null,
   "source": [],
   "outputs": [],
   "metadata": {}
  },
  {
   "cell_type": "code",
   "execution_count": null,
   "source": [],
   "outputs": [],
   "metadata": {}
  },
  {
   "cell_type": "code",
   "execution_count": null,
   "source": [],
   "outputs": [],
   "metadata": {}
  }
 ],
 "metadata": {
  "kernelspec": {
   "display_name": "Python 3",
   "language": "python",
   "name": "python3"
  },
  "language_info": {
   "codemirror_mode": {
    "name": "ipython",
    "version": 3
   },
   "file_extension": ".py",
   "mimetype": "text/x-python",
   "name": "python",
   "nbconvert_exporter": "python",
   "pygments_lexer": "ipython3",
   "version": "3.8.5"
  },
  "toc": {
   "base_numbering": 1,
   "nav_menu": {},
   "number_sections": true,
   "sideBar": true,
   "skip_h1_title": false,
   "title_cell": "Table of Contents",
   "title_sidebar": "Contents",
   "toc_cell": false,
   "toc_position": {},
   "toc_section_display": true,
   "toc_window_display": false
  }
 },
 "nbformat": 4,
 "nbformat_minor": 4
}