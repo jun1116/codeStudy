{
 "metadata": {
  "language_info": {
   "codemirror_mode": {
    "name": "ipython",
    "version": 3
   },
   "file_extension": ".py",
   "mimetype": "text/x-python",
   "name": "python",
   "nbconvert_exporter": "python",
   "pygments_lexer": "ipython3",
   "version": 3
  },
  "orig_nbformat": 4
 },
 "nbformat": 4,
 "nbformat_minor": 2,
 "cells": [
  {
   "cell_type": "code",
   "execution_count": null,
   "metadata": {},
   "outputs": [],
   "source": [
    "입력: [\"img12.png\", \"img10.png\", \"img02.png\", \"img1.png\", \"IMG01.GIF\", \"img2.JPG\"]\n",
    "출력: [\"img1.png\", \"IMG01.GIF\", \"img02.png\", \"img2.JPG\", \"img10.png\", \"img12.png\"]\n",
    "\n",
    "# 입력: [\"F-5 Freedom Fighter\", \"B-50 Superfortress\", \"A-10 Thunderbolt II\", \"F-14 Tomcat\"]\n",
    "# 출력: [\"A-10 Thunderbolt II\", \"B-50 Superfortress\", \"F-5 Freedom Fighter\", \"F-14 Tomcat\"]"
   ]
  },
  {
   "cell_type": "code",
   "execution_count": null,
   "metadata": {},
   "outputs": [],
   "source": [
    "def solution(files):\n",
    "    flist=[]\n",
    "    for i,file in enumerate(files):\n",
    "        flist.append(splitfilename(file))\n",
    "    flist = sorted(flist, key=(lambda x : (x[0].lower(), int(x[1]))))\n",
    "    answer=[]\n",
    "    for file in flist:\n",
    "        tmp=''\n",
    "        for i in file:\n",
    "            tmp+=str(i)\n",
    "        answer.append(tmp)\n",
    "    # print(answer)\n",
    "    return answer\n",
    "def splitfilename(file):\n",
    "    head,num,tail = '','',''\n",
    "    tog1,tog2 = 1,1\n",
    "    for i in range(len(file)):\n",
    "        if file[i].isdigit()==False and tog1:\n",
    "            head+=file[i]\n",
    "        elif file[i].isdigit() and tog2:\n",
    "            num+=file[i]\n",
    "            tog1 = 0\n",
    "        else:\n",
    "            tail+=file[i]\n",
    "            tog2 = 0\n",
    "    # print(head,num,tail)\n",
    "    return head, num, tail\n",
    "\n",
    "# splitfilename('foo010bar020.zip')\n",
    "\n",
    "files = [\"img12.png\", \"img10.png\", \"img02.png\", \"img1.png\", \"IMG01.GIF\", \"img2.JPG\"]\n",
    "# files = [\"F-5 Freedom Fighter\", \"B-50 Superfortress\", \"A-10 Thunderbolt II\", \"F-14 Tomcat\"]\n",
    "solution(files)"
   ]
  },
  {
   "cell_type": "code",
   "execution_count": null,
   "metadata": {},
   "outputs": [],
   "source": []
  },
  {
   "cell_type": "code",
   "execution_count": null,
   "metadata": {},
   "outputs": [],
   "source": []
  },
  {
   "cell_type": "code",
   "execution_count": null,
   "metadata": {},
   "outputs": [],
   "source": []
  },
  {
   "source": [
    "# 다른사람 코드 공부"
   ],
   "cell_type": "markdown",
   "metadata": {}
  },
  {
   "cell_type": "code",
   "execution_count": null,
   "metadata": {},
   "outputs": [],
   "source": [
    "import re\n",
    "\n",
    "def solution(files):\n",
    "    a = sorted(files, key=lambda file : int(re.findall('\\d+', file)[0]))\n",
    "    b = sorted(a, key=lambda file : re.split('\\d+', file.lower())[0])\n",
    "    return b\n",
    "\n",
    "import re\n",
    "\n",
    "def solution(files):\n",
    "\n",
    "    def key_function(fn):\n",
    "        head,number,tail = re.match(r'([a-z-. ]+)(\\d{,5})(.*)',fn).groups()\n",
    "        return [head,int(number)]\n",
    "\n",
    "    return sorted(files, key = lambda x: key_function(x.lower()))"
   ]
  }
 ]
}