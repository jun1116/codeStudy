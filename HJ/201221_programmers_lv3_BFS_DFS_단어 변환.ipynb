{
 "cells": [
  {
   "cell_type": "code",
   "execution_count": 1,
   "metadata": {
    "ExecuteTime": {
     "end_time": "2020-12-21T13:28:26.439562Z",
     "start_time": "2020-12-21T13:28:26.435561Z"
    }
   },
   "outputs": [],
   "source": [
    "begin='hit'\n",
    "target='cog'\n",
    "words=[\"hot\", \"dot\", \"dog\", \"lot\", \"log\", \"cog\"]\n",
    "# [\"hot\", \"dot\", \"dog\", \"lot\", \"log\"]"
   ]
  },
  {
   "cell_type": "code",
   "execution_count": 2,
   "metadata": {
    "ExecuteTime": {
     "end_time": "2020-12-21T13:29:05.620750Z",
     "start_time": "2020-12-21T13:29:05.603575Z"
    }
   },
   "outputs": [
    {
     "data": {
      "text/plain": [
       "0"
      ]
     },
     "execution_count": 2,
     "metadata": {},
     "output_type": "execute_result"
    }
   ],
   "source": [
    "def solution(begin,target,words):\n",
    "    answer=0\n",
    "    if target not in words:return 0\n",
    "    return answer\n",
    "solution(begin,target,words)"
   ]
  },
  {
   "cell_type": "code",
   "execution_count": 9,
   "metadata": {
    "ExecuteTime": {
     "end_time": "2020-12-21T13:53:54.377758Z",
     "start_time": "2020-12-21T13:53:54.369756Z"
    }
   },
   "outputs": [
    {
     "name": "stdout",
     "output_type": "stream",
     "text": [
      "[[1, 'hot'], [2, 'dot'], [2, 'lot'], [3, 'cog'], [3, 'dog'], [3, 'log']]\n"
     ]
    }
   ],
   "source": [
    "def mkgraph(begin,words):\n",
    "    dic=dict()\n",
    "    difflist=[]\n",
    "    for word in words:\n",
    "        difflist.append([diffCheck(begin,word),word])\n",
    "    print(sorted(difflist))\n",
    "    firsts=[]\n",
    "    \n",
    "    \n",
    "mkgraph(begin,words)"
   ]
  },
  {
   "cell_type": "code",
   "execution_count": 4,
   "metadata": {
    "ExecuteTime": {
     "end_time": "2020-12-21T13:50:31.225771Z",
     "start_time": "2020-12-21T13:50:31.218433Z"
    }
   },
   "outputs": [
    {
     "data": {
      "text/plain": [
       "1"
      ]
     },
     "execution_count": 4,
     "metadata": {},
     "output_type": "execute_result"
    }
   ],
   "source": [
    "def diffCheck(word1,word2):\n",
    "    tmp=0\n",
    "    for i,j in zip(word1,word2):\n",
    "        if i!=j:tmp+=1\n",
    "    return tmp\n",
    "diffCheck('hot','hit')"
   ]
  },
  {
   "cell_type": "code",
   "execution_count": null,
   "metadata": {},
   "outputs": [],
   "source": []
  },
  {
   "cell_type": "code",
   "execution_count": null,
   "metadata": {},
   "outputs": [],
   "source": []
  },
  {
   "cell_type": "code",
   "execution_count": null,
   "metadata": {},
   "outputs": [],
   "source": []
  }
 ],
 "metadata": {
  "kernelspec": {
   "display_name": "Python 3",
   "language": "python",
   "name": "python3"
  },
  "language_info": {
   "codemirror_mode": {
    "name": "ipython",
    "version": 3
   },
   "file_extension": ".py",
   "mimetype": "text/x-python",
   "name": "python",
   "nbconvert_exporter": "python",
   "pygments_lexer": "ipython3",
   "version": "3.8.5"
  },
  "toc": {
   "base_numbering": 1,
   "nav_menu": {},
   "number_sections": true,
   "sideBar": true,
   "skip_h1_title": false,
   "title_cell": "Table of Contents",
   "title_sidebar": "Contents",
   "toc_cell": false,
   "toc_position": {},
   "toc_section_display": true,
   "toc_window_display": false
  }
 },
 "nbformat": 4,
 "nbformat_minor": 4
}
