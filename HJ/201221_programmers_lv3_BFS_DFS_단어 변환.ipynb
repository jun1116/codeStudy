{
 "cells": [
  {
   "cell_type": "code",
   "execution_count": 1,
   "metadata": {
    "ExecuteTime": {
     "end_time": "2020-12-21T16:42:28.236380Z",
     "start_time": "2020-12-21T16:42:28.227398Z"
    }
   },
   "outputs": [],
   "source": [
    "begin='hit'\n",
    "target='cog'\n",
    "words=[\"hot\", \"dot\", \"dog\", \"lot\", \"log\", \"cog\"]\n",
    "# [\"hot\", \"dot\", \"dog\", \"lot\", \"log\"]"
   ]
  },
  {
   "cell_type": "code",
   "execution_count": 2,
   "metadata": {
    "ExecuteTime": {
     "end_time": "2020-12-21T16:42:30.076087Z",
     "start_time": "2020-12-21T16:42:30.067085Z"
    }
   },
   "outputs": [
    {
     "data": {
      "text/plain": [
       "0"
      ]
     },
     "execution_count": 2,
     "metadata": {},
     "output_type": "execute_result"
    }
   ],
   "source": [
    "def solution(begin,target,words):\n",
    "    answer=0\n",
    "    if target not in words:return 0\n",
    "    \n",
    "    return answer\n",
    "solution(begin,target,words)"
   ]
  },
  {
   "cell_type": "code",
   "execution_count": 4,
   "metadata": {
    "ExecuteTime": {
     "end_time": "2020-12-21T16:42:33.244906Z",
     "start_time": "2020-12-21T16:42:33.226910Z"
    }
   },
   "outputs": [
    {
     "data": {
      "text/plain": [
       "1"
      ]
     },
     "execution_count": 4,
     "metadata": {},
     "output_type": "execute_result"
    }
   ],
   "source": [
    "def diffCheck(word1,word2):\n",
    "    tmp=0\n",
    "    for i,j in zip(word1,word2):\n",
    "        if i!=j:tmp+=1\n",
    "    return tmp\n",
    "diffCheck('hot','hit')"
   ]
  },
  {
   "cell_type": "code",
   "execution_count": 22,
   "metadata": {
    "ExecuteTime": {
     "end_time": "2020-12-21T16:50:38.379085Z",
     "start_time": "2020-12-21T16:50:38.364081Z"
    }
   },
   "outputs": [
    {
     "data": {
      "text/plain": [
       "{'hit': ['hot'],\n",
       " 'hot': ['hit', 'dot', 'lot'],\n",
       " 'dot': ['hot', 'dog', 'lot'],\n",
       " 'dog': ['dot', 'log', 'cog'],\n",
       " 'lot': ['hot', 'dot', 'log'],\n",
       " 'log': ['dog', 'lot', 'cog'],\n",
       " 'cog': ['dog', 'log']}"
      ]
     },
     "execution_count": 22,
     "metadata": {},
     "output_type": "execute_result"
    }
   ],
   "source": [
    "def mkgraph(begin,words):\n",
    "    dic=dict()\n",
    "    dic[begin]=[]\n",
    "    for word in words:\n",
    "        dic[word]=[]\n",
    "    for i in dic.keys():\n",
    "        tmp=[j for j in dic.keys() if diffCheck(i,j)==1]\n",
    "        dic[i].extend(tmp)\n",
    "    return dic\n",
    "graph=mkgraph(begin,words)\n",
    "graph"
   ]
  },
  {
   "cell_type": "code",
   "execution_count": 27,
   "metadata": {
    "ExecuteTime": {
     "end_time": "2020-12-21T16:52:11.109026Z",
     "start_time": "2020-12-21T16:52:11.091031Z"
    }
   },
   "outputs": [
    {
     "name": "stdout",
     "output_type": "stream",
     "text": [
      "['hot']\n",
      "['hit', 'dot', 'lot']\n",
      "['hit', 'dot', 'hot', 'dot', 'log']\n",
      "['hit', 'dot', 'hot', 'dot', 'dog', 'lot', 'cog']\n"
     ]
    },
    {
     "data": {
      "text/plain": [
       "['hit', 'hot', 'lot', 'log']"
      ]
     },
     "execution_count": 27,
     "metadata": {},
     "output_type": "execute_result"
    }
   ],
   "source": [
    "def dfs(graph,start,end):\n",
    "    stack=graph[start]\n",
    "    visited=[start]\n",
    "    while stack:\n",
    "        print(stack)\n",
    "        now=stack.pop()\n",
    "        if now ==end:break\n",
    "        if now in visited:\n",
    "            continue\n",
    "        else:\n",
    "            visited.append(now)\n",
    "            stack.extend(graph[now])\n",
    "    return len(visited)\n",
    "\n",
    "graph=mkgraph(begin,words)\n",
    "dfs(graph,begin,target)"
   ]
  },
  {
   "cell_type": "code",
   "execution_count": null,
   "metadata": {},
   "outputs": [],
   "source": []
  },
  {
   "cell_type": "code",
   "execution_count": null,
   "metadata": {},
   "outputs": [],
   "source": []
  },
  {
   "cell_type": "code",
   "execution_count": null,
   "metadata": {},
   "outputs": [],
   "source": []
  },
  {
   "cell_type": "code",
   "execution_count": 24,
   "metadata": {
    "ExecuteTime": {
     "end_time": "2020-12-21T16:18:33.071043Z",
     "start_time": "2020-12-21T16:18:33.062047Z"
    }
   },
   "outputs": [
    {
     "data": {
      "text/plain": [
       "([[0, 1, 2, 3, 2, 3, 3],\n",
       "  [1, 0, 1, 2, 1, 2, 2],\n",
       "  [2, 1, 0, 1, 1, 2, 2],\n",
       "  [3, 2, 1, 0, 2, 1, 1],\n",
       "  [2, 1, 1, 2, 0, 1, 2],\n",
       "  [3, 2, 2, 1, 1, 0, 1],\n",
       "  [3, 2, 2, 1, 2, 1, 0]],\n",
       " 6)"
      ]
     },
     "execution_count": 24,
     "metadata": {},
     "output_type": "execute_result"
    }
   ],
   "source": [
    "def mkMatrix(begin,target,words):\n",
    "    temp=[begin]\n",
    "    temp.extend(words)\n",
    "    mat=[]\n",
    "    for i,word in enumerate(temp):\n",
    "        tmp=[]\n",
    "        for j in temp:\n",
    "            tmp.append(diffCheck(word,j))\n",
    "        mat.append(tmp)\n",
    "    return mat, temp.index(target)\n",
    "mat, targetNum = mkMatrix(begin,target,words)\n",
    "mat,targetNum"
   ]
  }
 ],
 "metadata": {
  "kernelspec": {
   "display_name": "Python 3",
   "language": "python",
   "name": "python3"
  },
  "language_info": {
   "codemirror_mode": {
    "name": "ipython",
    "version": 3
   },
   "file_extension": ".py",
   "mimetype": "text/x-python",
   "name": "python",
   "nbconvert_exporter": "python",
   "pygments_lexer": "ipython3",
   "version": "3.8.5"
  },
  "toc": {
   "base_numbering": 1,
   "nav_menu": {},
   "number_sections": true,
   "sideBar": true,
   "skip_h1_title": false,
   "title_cell": "Table of Contents",
   "title_sidebar": "Contents",
   "toc_cell": false,
   "toc_position": {},
   "toc_section_display": true,
   "toc_window_display": false
  }
 },
 "nbformat": 4,
 "nbformat_minor": 4
}
