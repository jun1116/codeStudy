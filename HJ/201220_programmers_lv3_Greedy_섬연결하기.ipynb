{
 "cells": [
  {
   "cell_type": "code",
   "execution_count": 71,
   "metadata": {
    "ExecuteTime": {
     "end_time": "2020-12-20T12:20:13.086046Z",
     "start_time": "2020-12-20T12:20:13.076514Z"
    }
   },
   "outputs": [],
   "source": [
    "n=4\n",
    "costs=[[0,1,1],[0,2,2],[1,2,5],[1,3,1],[2,3,8]]"
   ]
  },
  {
   "cell_type": "code",
   "execution_count": 65,
   "metadata": {
    "ExecuteTime": {
     "end_time": "2020-12-20T12:14:54.959428Z",
     "start_time": "2020-12-20T12:14:54.948714Z"
    }
   },
   "outputs": [
    {
     "data": {
      "text/plain": [
       "{0: [[1, 1], [2, 2]],\n",
       " 1: [[0, 1], [2, 5], [3, 1]],\n",
       " 2: [[0, 2], [1, 5], [3, 8]],\n",
       " 3: [[1, 1], [2, 8]]}"
      ]
     },
     "execution_count": 65,
     "metadata": {},
     "output_type": "execute_result"
    }
   ],
   "source": [
    "graph={}\n",
    "for c in costs:\n",
    "    now=graph.get(c[0])\n",
    "    now2=graph.get(c[1])\n",
    "    if now:\n",
    "        now.append([c[1],c[2]])\n",
    "    else:\n",
    "        graph[c[0]]=[[c[1],c[2]]]\n",
    "    \n",
    "    if now2:\n",
    "        now2.append([c[0],c[2]])\n",
    "    else:\n",
    "        graph[c[1]]=[[c[0],c[2]]]\n",
    "\n",
    "graph\n"
   ]
  },
  {
   "cell_type": "code",
   "execution_count": 78,
   "metadata": {
    "ExecuteTime": {
     "end_time": "2020-12-20T12:22:04.788039Z",
     "start_time": "2020-12-20T12:22:04.780037Z"
    }
   },
   "outputs": [
    {
     "name": "stdout",
     "output_type": "stream",
     "text": [
      "[[0, 1, 1], [2, 4, 1], [2, 3, 1], [3, 4, 1], [0, 4, 5]]\n",
      "[[2, 4, 1], [2, 3, 1], [3, 4, 1], [0, 4, 5]]\n",
      "[[2, 3, 1], [3, 4, 1], [0, 4, 5]]\n",
      "[[3, 4, 1], [0, 4, 5]]\n",
      "[[0, 4, 5]]\n",
      "[]\n",
      "8\n"
     ]
    }
   ],
   "source": [
    "p=[0]\n",
    "for i in range(1,n+1):\n",
    "    p.append(i)\n",
    "def find(u):\n",
    "    if u!=p[u]:\n",
    "        p[u]=find(p[u])\n",
    "    return p[u]\n",
    "def union(u,v):\n",
    "    root1=find(u)\n",
    "    root2=find(v)\n",
    "    p[root2]=root1\n",
    "tree_edges=0\n",
    "mincont=0\n",
    "tmpcosts=sorted(costs, key=lambda x:x[2])\n",
    "while True:\n",
    "    print(tmpcosts)\n",
    "    if tree_edges==n-1: break\n",
    "    u,v,wt=tmpcosts.pop(0)\n",
    "    if find(u) != find(v):\n",
    "        union(u,v)\n",
    "        mincont+=wt\n",
    "        tree_edges+=1\n",
    "print(mincont)    "
   ]
  },
  {
   "cell_type": "code",
   "execution_count": 82,
   "metadata": {
    "ExecuteTime": {
     "end_time": "2020-12-20T13:18:30.175292Z",
     "start_time": "2020-12-20T13:18:30.157792Z"
    }
   },
   "outputs": [
    {
     "name": "stdout",
     "output_type": "stream",
     "text": [
      "set() [] [[0, 1, 1], [2, 4, 1], [2, 3, 1], [3, 4, 1], [0, 4, 5]]\n"
     ]
    },
    {
     "ename": "TypeError",
     "evalue": "unhashable type: 'list'",
     "output_type": "error",
     "traceback": [
      "\u001b[1;31m---------------------------------------------------------------------------\u001b[0m",
      "\u001b[1;31mTypeError\u001b[0m                                 Traceback (most recent call last)",
      "\u001b[1;32m<ipython-input-82-4c692c318de2>\u001b[0m in \u001b[0;36m<module>\u001b[1;34m\u001b[0m\n\u001b[0;32m     11\u001b[0m     \u001b[0mprint\u001b[0m\u001b[1;33m(\u001b[0m\u001b[0mnodes\u001b[0m\u001b[1;33m,\u001b[0m \u001b[0medges\u001b[0m\u001b[1;33m,\u001b[0m\u001b[0mweights\u001b[0m\u001b[1;33m)\u001b[0m\u001b[1;33m\u001b[0m\u001b[1;33m\u001b[0m\u001b[0m\n\u001b[0;32m     12\u001b[0m     \u001b[0mf\u001b[0m\u001b[1;33m,\u001b[0m\u001b[0mt\u001b[0m\u001b[1;33m,\u001b[0m\u001b[0mcost\u001b[0m\u001b[1;33m=\u001b[0m\u001b[0mweights\u001b[0m\u001b[1;33m.\u001b[0m\u001b[0mpop\u001b[0m\u001b[1;33m(\u001b[0m\u001b[1;36m0\u001b[0m\u001b[1;33m)\u001b[0m\u001b[1;33m\u001b[0m\u001b[1;33m\u001b[0m\u001b[0m\n\u001b[1;32m---> 13\u001b[1;33m     \u001b[1;32mif\u001b[0m \u001b[0mnow\u001b[0m\u001b[1;33m[\u001b[0m\u001b[1;36m0\u001b[0m\u001b[1;33m]\u001b[0m \u001b[1;32min\u001b[0m \u001b[0mnodes\u001b[0m \u001b[1;32mand\u001b[0m \u001b[0mnow\u001b[0m\u001b[1;33m[\u001b[0m\u001b[1;36m1\u001b[0m\u001b[1;33m]\u001b[0m \u001b[1;32min\u001b[0m \u001b[0mnodes\u001b[0m\u001b[1;33m:\u001b[0m\u001b[1;33m\u001b[0m\u001b[1;33m\u001b[0m\u001b[0m\n\u001b[0m\u001b[0;32m     14\u001b[0m         \u001b[1;32mcontinue\u001b[0m\u001b[1;33m\u001b[0m\u001b[1;33m\u001b[0m\u001b[0m\n\u001b[0;32m     15\u001b[0m     \u001b[1;32melse\u001b[0m\u001b[1;33m:\u001b[0m\u001b[1;33m\u001b[0m\u001b[1;33m\u001b[0m\u001b[0m\n",
      "\u001b[1;31mTypeError\u001b[0m: unhashable type: 'list'"
     ]
    }
   ],
   "source": [
    "def roots(node,roots):\n",
    "    if roots[node]==node: return node\n",
    "    else: return roots(roots[node],roots)\n",
    "    \n",
    "weights=sorted(costs,key=lambda x:x[2])\n",
    "alls=len(graph.keys())\n",
    "nodes=set()\n",
    "visited=[]\n",
    "roots=[i for i in range(n)]\n",
    "while len(nodes)<alls:\n",
    "    print(nodes, edges,weights)\n",
    "    f,t,cost=weights.pop(0)\n",
    "    \n",
    "\n",
    "print()        \n",
    "print(nodes,edges)\n",
    "    \n",
    "    "
   ]
  },
  {
   "cell_type": "code",
   "execution_count": 81,
   "metadata": {
    "ExecuteTime": {
     "end_time": "2020-12-20T13:14:17.962205Z",
     "start_time": "2020-12-20T13:14:17.952200Z"
    }
   },
   "outputs": [
    {
     "data": {
      "text/plain": [
       "3"
      ]
     },
     "execution_count": 81,
     "metadata": {},
     "output_type": "execute_result"
    }
   ],
   "source": [
    "def roots(node,roots):\n",
    "    if roots[node]==node: return node\n",
    "    else: return roots(roots[node],roots)\n",
    "roots(3,[0,1,2,3])"
   ]
  },
  {
   "cell_type": "code",
   "execution_count": null,
   "metadata": {},
   "outputs": [],
   "source": []
  },
  {
   "cell_type": "code",
   "execution_count": null,
   "metadata": {},
   "outputs": [],
   "source": []
  },
  {
   "cell_type": "code",
   "execution_count": null,
   "metadata": {},
   "outputs": [],
   "source": []
  },
  {
   "cell_type": "code",
   "execution_count": null,
   "metadata": {},
   "outputs": [],
   "source": []
  },
  {
   "cell_type": "code",
   "execution_count": 75,
   "metadata": {
    "ExecuteTime": {
     "end_time": "2020-12-20T12:21:55.443773Z",
     "start_time": "2020-12-20T12:21:55.427675Z"
    }
   },
   "outputs": [],
   "source": [
    "n = 4\n",
    "costs = [[0, 1, 5], [1, 2, 3], [2, 3, 3], [3, 1, 2], [3, 0, 4]]\n",
    "# return 9"
   ]
  },
  {
   "cell_type": "code",
   "execution_count": 77,
   "metadata": {
    "ExecuteTime": {
     "end_time": "2020-12-20T12:22:01.711406Z",
     "start_time": "2020-12-20T12:22:01.708405Z"
    }
   },
   "outputs": [],
   "source": [
    "n = 5\n",
    "costs = [[0,1,1],[0,4,5],[2,4,1],[2,3,1],[3,4,1]]\n",
    "#return 8"
   ]
  },
  {
   "cell_type": "code",
   "execution_count": 63,
   "metadata": {
    "ExecuteTime": {
     "end_time": "2020-12-20T11:51:35.898064Z",
     "start_time": "2020-12-20T11:51:35.887069Z"
    }
   },
   "outputs": [
    {
     "name": "stdout",
     "output_type": "stream",
     "text": [
      "GRAPH : ------------------ {0: [[1, 1], [4, 5]], 1: [[0, 1]], 4: [[0, 5], [2, 1], [3, 1]], 2: [[4, 1], [3, 1]], 3: [[2, 1], [4, 1]]}\n",
      "\n",
      "\n",
      "NODES :  set()  \t EDGES :  []     \t WEIGHTS: [[0, 1, 1], [2, 4, 1], [2, 3, 1], [3, 4, 1], [0, 4, 5]]  \n",
      " NOW :  [0, 1, 1]\n",
      "\n",
      "NODES :  {0, 1}  \t EDGES :  [[0, 1, 1]]     \t WEIGHTS: [[2, 4, 1], [2, 3, 1], [3, 4, 1], [0, 4, 5]]  \n",
      " NOW :  [2, 4, 1]\n",
      "\n",
      "NODES :  {0, 1, 2, 4}  \t EDGES :  [[0, 1, 1], [2, 4, 1]]     \t WEIGHTS: [[2, 3, 1], [3, 4, 1], [0, 4, 5]]  \n",
      " NOW :  [2, 3, 1]\n",
      "\n",
      "NODES :  {0, 1, 2, 3, 4}  \t EDGES :  [[0, 1, 1], [2, 4, 1], [2, 3, 1]]     \t WEIGHTS: [[3, 4, 1], [0, 4, 5]]  \n",
      " NOW :  [3, 4, 1]\n"
     ]
    },
    {
     "data": {
      "text/plain": [
       "4"
      ]
     },
     "execution_count": 63,
     "metadata": {},
     "output_type": "execute_result"
    }
   ],
   "source": [
    "def solution(n, costs):\n",
    "    answer = 0\n",
    "    graph={}\n",
    "    for c in costs:\n",
    "        now=graph.get(c[0])\n",
    "        now2=graph.get(c[1])\n",
    "        if now:\n",
    "            now.append([c[1],c[2]])\n",
    "        else:\n",
    "            graph[c[0]]=[[c[1],c[2]]]\n",
    "\n",
    "        if now2:\n",
    "            now2.append([c[0],c[2]])\n",
    "        else:\n",
    "            graph[c[1]]=[[c[0],c[2]]]\n",
    "    weights=sorted(costs,key=lambda x:x[2])\n",
    "    alls=len(graph.keys())\n",
    "    nodes=set()\n",
    "    edges=[]\n",
    "    \n",
    "    while len(edges)+1<alls:\n",
    "        now=weights.pop(0)\n",
    "        if now[0] in nodes and now[1] in nodes: ## is cycle test !!\n",
    "            \n",
    "        else:        \n",
    "            nodes.add(now[0])\n",
    "            nodes.add(now[1])\n",
    "            edges.append(now)\n",
    "    \n",
    "    for i in edges:\n",
    "        answer+=i[2]\n",
    "    return answer\n",
    "solution(n,costs)"
   ]
  }
 ],
 "metadata": {
  "kernelspec": {
   "display_name": "Python 3",
   "language": "python",
   "name": "python3"
  },
  "language_info": {
   "codemirror_mode": {
    "name": "ipython",
    "version": 3
   },
   "file_extension": ".py",
   "mimetype": "text/x-python",
   "name": "python",
   "nbconvert_exporter": "python",
   "pygments_lexer": "ipython3",
   "version": "3.8.5"
  },
  "toc": {
   "base_numbering": 1,
   "nav_menu": {},
   "number_sections": true,
   "sideBar": true,
   "skip_h1_title": false,
   "title_cell": "Table of Contents",
   "title_sidebar": "Contents",
   "toc_cell": false,
   "toc_position": {},
   "toc_section_display": true,
   "toc_window_display": false
  }
 },
 "nbformat": 4,
 "nbformat_minor": 4
}
