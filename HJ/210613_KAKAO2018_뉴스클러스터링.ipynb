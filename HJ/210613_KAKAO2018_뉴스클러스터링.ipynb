{
 "metadata": {
  "language_info": {
   "codemirror_mode": {
    "name": "ipython",
    "version": 3
   },
   "file_extension": ".py",
   "mimetype": "text/x-python",
   "name": "python",
   "nbconvert_exporter": "python",
   "pygments_lexer": "ipython3",
   "version": 3
  },
  "orig_nbformat": 2
 },
 "nbformat": 4,
 "nbformat_minor": 2,
 "cells": [
  {
   "cell_type": "code",
   "execution_count": null,
   "metadata": {},
   "outputs": [],
   "source": [
    "import re\n",
    "# str1,str2,answer='FRANCE,french,16384'.split(',')\n",
    "# str1,str2,answer='handshake,shake hands,65536'.split(',')\n",
    "# str1,str2,answer='aa1+aa2,AAAA12,43690'.split(',')\n",
    "# str1,str2,answer='E=M*C^2,e=m*c^2,65536'.split(',')\n",
    "def mkstdic(str):\n",
    "    dic={}\n",
    "    for i in range(len(str)-1):\n",
    "        now = str[i]+str[i+1]\n",
    "        now = re.sub('[^a-z]','',now)\n",
    "        if len(now)<2: continue\n",
    "        if dic.get(now):\n",
    "            dic[now]+=1\n",
    "        else:\n",
    "            dic[now]=1\n",
    "    return dic\n",
    "\n",
    "def solution(str1,str2):\n",
    "    a,b = mkstdic(str1.lower()), mkstdic(str2.lower())\n",
    "    kyo={}\n",
    "    hap={}\n",
    "    for ak in a:\n",
    "        if ak in b:\n",
    "            kyo[ak] = min(a[ak],b[ak])\n",
    "            hap[ak] = max(a[ak],b[ak])\n",
    "        else:\n",
    "            hap[ak] = a[ak]\n",
    "    for bk in b:\n",
    "        if bk in a: continue\n",
    "        else: hap[bk] = b[bk]\n",
    "    oper = sum(map(lambda x : kyo[x], kyo))\n",
    "    div = sum(map(lambda x : hap[x], hap))\n",
    "    if div == 0 : return 65536\n",
    "        return int((oper/div)*65536)\n",
    "solution(str1,str2)"
   ]
  }
 ]
}