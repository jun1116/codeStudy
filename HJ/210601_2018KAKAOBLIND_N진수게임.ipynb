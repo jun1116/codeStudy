{
 "metadata": {
  "language_info": {
   "codemirror_mode": {
    "name": "ipython",
    "version": 3
   },
   "file_extension": ".py",
   "mimetype": "text/x-python",
   "name": "python",
   "nbconvert_exporter": "python",
   "pygments_lexer": "ipython3",
   "version": "3.8.5"
  },
  "orig_nbformat": 2,
  "kernelspec": {
   "name": "python385jvsc74a57bd066725da8cd7a014ad20077260537a77858d60878c0d94adc7d9ed308e4bb2094",
   "display_name": "Python 3.8.5 64-bit ('codestates': conda)"
  },
  "metadata": {
   "interpreter": {
    "hash": "66725da8cd7a014ad20077260537a77858d60878c0d94adc7d9ed308e4bb2094"
   }
  }
 },
 "nbformat": 4,
 "nbformat_minor": 2,
 "cells": [
  {
   "cell_type": "code",
   "execution_count": null,
   "metadata": {},
   "outputs": [],
   "source": [
    "# 언제인지 모를 내가 풀었던 풀이 \n",
    "def solution(n, t, m, p):\n",
    "    answer = ''\n",
    "    tmp=''\n",
    "    num=0\n",
    "    while(len(tmp)<t*m):\n",
    "        tmp+=getover10NotaNum(num,n)\n",
    "        num+=1\n",
    "        \n",
    "    for i in range(t):\n",
    "        answer+=tmp[m*i+p-1]\n",
    "    return answer\n",
    "def getover10NotaNum(num,nota):\n",
    "    ans=\"\"\n",
    "    over=\"ABCDEF\"\n",
    "    if num<nota:\n",
    "        tt=int(num%nota)\n",
    "        if tt>=10:\n",
    "            ans+=over[tt-10]\n",
    "        else:\n",
    "            ans+=str(tt)\n",
    "    else:\n",
    "        while num>=nota:\n",
    "            tt=int(num%nota)\n",
    "            if tt>=10:\n",
    "                ans+=over[tt-10]\n",
    "            else:\n",
    "                ans+=str(tt)\n",
    "            num=num/nota\n",
    "        ans+=str(int(num))\n",
    "        \n",
    "    tmp=\"\"\n",
    "    for i in range(len(ans)):\n",
    "        tmp+=ans[len(ans)-i-1]\n",
    "    return tmp"
   ]
  },
  {
   "cell_type": "code",
   "execution_count": 17,
   "metadata": {},
   "outputs": [
    {
     "output_type": "execute_result",
     "data": {
      "text/plain": [
       "'40'"
      ]
     },
     "metadata": {},
     "execution_count": 17
    }
   ],
   "source": [
    "def getover10NotaNum(num,nota):\n",
    "    ans=\"\"\n",
    "    over=\"ABCDEF\"\n",
    "    if num<nota:\n",
    "        tt=int(num%nota)\n",
    "        if tt>=10:\n",
    "            ans+=over[tt-10]\n",
    "        else:\n",
    "            ans+=str(tt)\n",
    "    else:\n",
    "        while num>=nota:\n",
    "            tt=int(num%nota)\n",
    "            if tt>=10:\n",
    "                ans+=over[tt-10]\n",
    "            else:\n",
    "                ans+=str(tt)\n",
    "            num=num/nota\n",
    "        ans+=str(int(num))\n",
    "        \n",
    "    tmp=\"\"\n",
    "    for i in range(len(ans)):\n",
    "        tmp+=ans[len(ans)-i-1]\n",
    "    return tmp\n",
    "getover10NotaNum(64,16)"
   ]
  },
  {
   "source": [
    "# 21년 6월 1일 풀이"
   ],
   "cell_type": "markdown",
   "metadata": {}
  },
  {
   "cell_type": "code",
   "execution_count": 11,
   "metadata": {},
   "outputs": [
    {
     "output_type": "stream",
     "name": "stdout",
     "text": [
      "['1', '0', '0', '0', '1']\n"
     ]
    },
    {
     "output_type": "execute_result",
     "data": {
      "text/plain": [
       "'10001'"
      ]
     },
     "metadata": {},
     "execution_count": 11
    }
   ],
   "source": [
    "def getdiv(n, div):\n",
    "    words = \"0123456789ABCDEF\"\n",
    "    ans=\"\"\n",
    "    tmp=[]\n",
    "    while n>=div:\n",
    "        tmp.append(words[divmod(n,div)[1]])\n",
    "        n=divmod(n,div)[0]\n",
    "    tmp.append(words[divmod(n,div)[1]])\n",
    "    return ''.join(tmp[::-1])\n",
    "getdiv(17,2)"
   ]
  },
  {
   "cell_type": "code",
   "execution_count": null,
   "metadata": {},
   "outputs": [],
   "source": [
    "import sys\n",
    "sys.setrecursionlimit(1000000)\n",
    "def solution(n,t,m,p):\n",
    "    def getdiv(n, div):\n",
    "        words = \"0123456789ABCDEF\"\n",
    "        ans=\"\"\n",
    "        tmp=[]\n",
    "        while n>=div:\n",
    "            tmp.append(words[divmod(n,div)[1]])\n",
    "            n=divmod(n,div)[0]\n",
    "        tmp.append(words[divmod(n,div)[1]])\n",
    "        return ''.join(tmp[::-1])\n",
    "\n",
    "    start=0\n",
    "    tmp = ''\n",
    "    while len(tmp)< (t)*(m+1) :\n",
    "        tmp +=  getdiv(start,n)\n",
    "        start+=1\n",
    "    answer = \"\"\n",
    "    idx = p-1\n",
    "    while len(answer) < t :\n",
    "        answer+=tmp[idx]\n",
    "        idx += m\n",
    "    return answer"
   ]
  },
  {
   "cell_type": "code",
   "execution_count": null,
   "metadata": {},
   "outputs": [],
   "source": []
  }
 ]
}