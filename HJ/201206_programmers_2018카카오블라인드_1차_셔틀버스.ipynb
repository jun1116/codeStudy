{
 "cells": [
  {
   "cell_type": "code",
   "execution_count": 1,
   "metadata": {
    "ExecuteTime": {
     "end_time": "2020-12-11T13:59:30.666867Z",
     "start_time": "2020-12-11T13:59:30.654865Z"
    }
   },
   "outputs": [],
   "source": [
    "def solution(n, t, m, timetable):\n",
    "\n",
    "    answer=\"\"\n",
    "    carTimes=getCarTime(n,t)\n",
    "    # for car in carTimes:\n",
    "    #     print(car)\n",
    "    # print()\n",
    "    crewTimes=[]\n",
    "    for crew in timetable:\n",
    "        if int(crew.split(':')[0])>=18 : continue\n",
    "        tmp=Time()\n",
    "        tmp.setTime(crew)\n",
    "        crewTimes.append(tmp)\n",
    "    crews=sorted(crewTimes,key=lambda x:(x.hour,x.minute)) #크루 시간순 정렬\n",
    "\n",
    "    crew_len=len(crews)\n",
    "    car_len=len(carTimes)\n",
    "\n",
    "    # for i in crewTimes:\n",
    "    #     print(i)\n",
    "    conn=Time()\n",
    "\n",
    "    if crew_len<n*m*t:\n",
    "        answer=str(carTimes[-1])\n",
    "    elif crew_len>=n*m*t:\n",
    "        tmp=crews[n*m*t-1]\n",
    "        h=tmp.hour\n",
    "        m=tmp.minute-1\n",
    "        conn.setTime(f'{h}:{m}')\n",
    "        answer=str(conn)\n",
    "    return answer\n",
    "\n",
    "#1. 마지막차까지 탑승가능\n",
    "#2. 중간에 비집고들어가야하는경우\n",
    "#3. 젤 앞에 와야하는경우\n",
    "class Time:\n",
    "    def __init__(self):\n",
    "        self.hour=None\n",
    "        self.minute=None\n",
    "    def setTime(self,time):\n",
    "        tmp=time.split(':')\n",
    "        h=int(tmp[0])\n",
    "        m=int(tmp[1])\n",
    "        if m<0:\n",
    "            h-=1\n",
    "            m+=60\n",
    "        self.hour=h+int(m/60)\n",
    "        self.minute=m%60\n",
    "    def __repr__(self):\n",
    "        h=\"\"\n",
    "        m=''\n",
    "        if self.minute<0:\n",
    "            self.minute+=60\n",
    "            self.hour-=1\n",
    "        if self.hour<10:\n",
    "            h+=f'0{self.hour}'\n",
    "        else:\n",
    "            h+=f'{self.hour}'\n",
    "        if self.minute<10:\n",
    "            m+=f'0{self.minute}'\n",
    "        else:\n",
    "            m+=f'{self.minute}'\n",
    "        return h+':'+m\n",
    "    def __str__(self):\n",
    "        h=\"\"\n",
    "        m=''\n",
    "        if self.minute<0:\n",
    "            self.minute+=60\n",
    "            self.hour-=1\n",
    "        if self.hour<10:\n",
    "            h+=f'0{self.hour}'\n",
    "        else:\n",
    "            h+=f'{self.hour}'\n",
    "        if self.minute<10:\n",
    "            m+=f'0{self.minute}'\n",
    "        else:\n",
    "            m+=f'{self.minute}'\n",
    "        return h+':'+m\n",
    "    \n",
    "def getCarTime(n,t):\n",
    "    tmp=[]\n",
    "    for i in range(n):\n",
    "        time1=Time()\n",
    "        time1.setTime(f'9:{0+i*t}')\n",
    "        tmp.append(time1)\n",
    "    return tmp\n"
   ]
  },
  {
   "cell_type": "code",
   "execution_count": 2,
   "metadata": {
    "ExecuteTime": {
     "end_time": "2020-12-11T13:59:59.303201Z",
     "start_time": "2020-12-11T13:59:59.290198Z"
    }
   },
   "outputs": [
    {
     "data": {
      "text/plain": [
       "'18:00'"
      ]
     },
     "execution_count": 2,
     "metadata": {},
     "output_type": "execute_result"
    }
   ],
   "source": [
    "timetable=['23:59','23:59','23:59','23:59','23:59','23:59','23:59','23:59','23:59','23:59','23:59','23:59','23:59','23:59','23:59','23:59']\n",
    "n=10 #셔틀운행수\n",
    "t=60 #셔틀간격\n",
    "m=45 #한셔틀인원\n",
    "solution(n, t, m, timetable)"
   ]
  },
  {
   "cell_type": "code",
   "execution_count": 3,
   "metadata": {
    "ExecuteTime": {
     "end_time": "2020-12-11T14:00:00.560213Z",
     "start_time": "2020-12-11T14:00:00.554211Z"
    }
   },
   "outputs": [
    {
     "data": {
      "text/plain": [
       "'09:10'"
      ]
     },
     "execution_count": 3,
     "metadata": {},
     "output_type": "execute_result"
    }
   ],
   "source": [
    "n=2\n",
    "t=10\n",
    "m=2\n",
    "timetable=['09:10', '09:09', '09:00', '09:00']\n",
    "solution(n, t, m, timetable)"
   ]
  },
  {
   "cell_type": "code",
   "execution_count": 4,
   "metadata": {
    "ExecuteTime": {
     "end_time": "2020-12-11T14:00:29.559818Z",
     "start_time": "2020-12-11T14:00:29.546277Z"
    }
   },
   "outputs": [
    {
     "data": {
      "text/plain": [
       "'09:09'"
      ]
     },
     "execution_count": 4,
     "metadata": {},
     "output_type": "execute_result"
    }
   ],
   "source": [
    "#뭘까이건\n",
    "def time_minus_one(time):\n",
    "    hh = int(time[0:2])\n",
    "    mm = int(time[3:])\n",
    "    mm = mm-1\n",
    "    if mm < 0:\n",
    "        mm = 59\n",
    "        hh -= 1\n",
    "    return str(hh).zfill(2)+\":\"+str(mm).zfill(2)\n",
    "\n",
    "def solution(n, t, m, timetable):\n",
    "    answer = \"\"\n",
    "    timetable.sort()\n",
    "    if n > 1:\n",
    "        hh = (n-1)*t // 60\n",
    "        mm = (n-1)*t % 60\n",
    "        hh = str(9+hh).zfill(2)\n",
    "        mm = str(mm).zfill(2)\n",
    "        lasttime = hh + \":\" + mm\n",
    "    else:\n",
    "        lasttime = \"09:00\"\n",
    "    lasttimetable = list()\n",
    "\n",
    "    for i in timetable:\n",
    "        if lasttime >= i:\n",
    "            if len(lasttimetable) >= m:\n",
    "                lasttimetable.pop(m-1)\n",
    "            lasttimetable.append(i)\n",
    "\n",
    "    answer = lasttime\n",
    "\n",
    "    if len(lasttimetable) > m:\n",
    "        pass\n",
    "    elif len(lasttimetable) < m:\n",
    "        pass\n",
    "    else:\n",
    "        if answer >= lasttimetable[-1]:\n",
    "            answer = time_minus_one(lasttimetable[-1])\n",
    "    return answer\n",
    "\n",
    "n=2\n",
    "t=10\n",
    "m=2\n",
    "timetable=['09:10', '09:09', '09:00', '09:00']\n",
    "solution(n, t, m, timetable)"
   ]
  }
 ],
 "metadata": {
  "kernelspec": {
   "display_name": "Python 3",
   "language": "python",
   "name": "python3"
  },
  "language_info": {
   "codemirror_mode": {
    "name": "ipython",
    "version": 3
   },
   "file_extension": ".py",
   "mimetype": "text/x-python",
   "name": "python",
   "nbconvert_exporter": "python",
   "pygments_lexer": "ipython3",
   "version": "3.8.5"
  },
  "toc": {
   "base_numbering": 1,
   "nav_menu": {},
   "number_sections": true,
   "sideBar": true,
   "skip_h1_title": false,
   "title_cell": "Table of Contents",
   "title_sidebar": "Contents",
   "toc_cell": false,
   "toc_position": {},
   "toc_section_display": true,
   "toc_window_display": false
  }
 },
 "nbformat": 4,
 "nbformat_minor": 4
}
