{
 "metadata": {
  "language_info": {
   "codemirror_mode": {
    "name": "ipython",
    "version": 3
   },
   "file_extension": ".py",
   "mimetype": "text/x-python",
   "name": "python",
   "nbconvert_exporter": "python",
   "pygments_lexer": "ipython3",
   "version": "3.8.5"
  },
  "orig_nbformat": 2,
  "kernelspec": {
   "name": "python385jvsc74a57bd039a3f6769e595a50e593a296d8b0c78e5171348aaba449e974344d6732d07a14",
   "display_name": "Python 3.8.5 64-bit ('base': conda)"
  }
 },
 "nbformat": 4,
 "nbformat_minor": 2,
 "cells": [
  {
   "cell_type": "code",
   "execution_count": 1,
   "metadata": {},
   "outputs": [
    {
     "output_type": "stream",
     "name": "stdout",
     "text": [
      "[[2], [2, 1], [1, 2, 3], [1, 2, 4, 3]]\n"
     ]
    },
    {
     "output_type": "execute_result",
     "data": {
      "text/plain": [
       "[2, 1, 3, 4]"
      ]
     },
     "metadata": {},
     "execution_count": 1
    }
   ],
   "source": [
    "# s=\"{{2},{2,1},{2,1,3},{2,1,3,4}}\"\n",
    "# s=\"{{20,111},{111}}\"\n",
    "# s=\"{{4,2,3},{3},{2,3,4,1},{2,3}}\"\t\n",
    "s=\"{{1,2,3},{2,1},{1,2,4,3},{2}}\"\t\n",
    "tmplist=[]\n",
    "tmplist2=[]\n",
    "tmp=''\n",
    "for i in s[1:-1]:\n",
    "    if i=='{' :\n",
    "        tmp=''\n",
    "    elif i=='}':\n",
    "        tmplist.append(list(map(lambda x : int(x),tmp.split(','))))\n",
    "    else:\n",
    "        tmp+=i\n",
    "# sorted(tmplist, reverse=True)\n",
    "print(sorted(tmplist, key=(lambda x : len(x))))\n",
    "for i in sorted(tmplist, key=(lambda x : len(x))):\n",
    "    for j in i:\n",
    "        if j in tmplist2:\n",
    "            continue\n",
    "        else:\n",
    "            tmplist2.append(j)\n",
    "\n",
    "tmplist2"
   ]
  },
  {
   "cell_type": "code",
   "execution_count": null,
   "metadata": {},
   "outputs": [],
   "source": []
  },
  {
   "cell_type": "code",
   "execution_count": null,
   "metadata": {},
   "outputs": [],
   "source": []
  },
  {
   "cell_type": "code",
   "execution_count": null,
   "metadata": {},
   "outputs": [],
   "source": []
  },
  {
   "source": [
    "# 공부해볼만한코드"
   ],
   "cell_type": "markdown",
   "metadata": {}
  },
  {
   "cell_type": "code",
   "execution_count": null,
   "metadata": {},
   "outputs": [],
   "source": [
    "def solution(s):\n",
    "    answer = []\n",
    "\n",
    "    s1 = s.lstrip('{').rstrip('}').split('},{')\n",
    "\n",
    "    new_s = []\n",
    "    for i in s1:\n",
    "        new_s.append(i.split(','))\n",
    "\n",
    "    new_s.sort(key = len)\n",
    "\n",
    "    for i in new_s:\n",
    "        for j in range(len(i)):\n",
    "            if int(i[j]) not in answer:\n",
    "                answer.append(int(i[j]))\n",
    "\n",
    "    return answer"
   ]
  }
 ]
}