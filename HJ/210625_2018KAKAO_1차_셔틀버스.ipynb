{
 "metadata": {
  "language_info": {
   "codemirror_mode": {
    "name": "ipython",
    "version": 3
   },
   "file_extension": ".py",
   "mimetype": "text/x-python",
   "name": "python",
   "nbconvert_exporter": "python",
   "pygments_lexer": "ipython3",
   "version": 3
  },
  "orig_nbformat": 4
 },
 "nbformat": 4,
 "nbformat_minor": 2,
 "cells": [
  {
   "source": [
    "[2018카카오블라인드](https://programmers.co.kr/learn/courses/30/lessons/17678)"
   ],
   "cell_type": "markdown",
   "metadata": {}
  },
  {
   "cell_type": "code",
   "execution_count": null,
   "metadata": {},
   "outputs": [],
   "source": [
    "from collections import deque\n",
    "def solution(n,t,m,timetable):\n",
    "    answer=\"\"\n",
    "    times=[]\n",
    "    for i in timetable:\n",
    "        tm=i.split(':')\n",
    "        times.append(int(tm[0])*3600 + int(tm[1])*60)\n",
    "    times=deque(list(filter(lambda x : x<=18*3600, sorted(times))))\n",
    "    carlists=deque([(9*3600+(t*i*60)) for i in range(n)])\n",
    "    # print(carlists)\n",
    "    while carlists:\n",
    "        now=carlists.popleft()\n",
    "        cnt=m\n",
    "        # print(f\"nowCar:{totime(now)}\")\n",
    "        answer=totime(now)\n",
    "        while times and times[0]<=now and cnt>0:\n",
    "            c=times.popleft()\n",
    "            # print(f\"Passenger:{totime(c)}\")\n",
    "            cnt-=1\n",
    "            if len(carlists)==0:\n",
    "                if cnt==0:\n",
    "                    # print(f'새치기ㄱㄱ{totime(c-60)}')\n",
    "                    answer=totime(c-60)\n",
    "                elif len(times)==0:\n",
    "                    answer=totime(now)\n",
    "    return answer\n",
    "def totime(sec):\n",
    "    h=sec//3600\n",
    "    m=(sec-3600*h)//60\n",
    "    hh=str(h).rjust(2,'0')\n",
    "    mm=str(m).rjust(2,'0')\n",
    "    return f'{hh}:{mm}'\n",
    "\n",
    "\n",
    "# n,t,m,timetable=1,1,5,[\"08:00\", \"08:01\", \"08:02\", \"08:03\"]#\"09:00\"\n",
    "# n,t,m,timetable=2,10,2,[\"09:10\", \"09:09\", \"08:00\"]#\"09:09\"\n",
    "# n,t,m,timetable=2,1,2,[\"09:00\", \"09:00\", \"09:00\", \"09:00\"]#\"08:59\"\n",
    "# n,t,m,timetable=1,1,5,[\"00:01\", \"00:01\", \"00:01\", \"00:01\", \"00:01\"]#\"00:00\"\n",
    "# n,t,m,timetable=1,1,1,[\"23:59\"]#\"09:00\"\n",
    "n,t,m,timetable=10,60,45,[\"23:59\",\"23:59\", \"23:59\", \"23:59\", \"23:59\", \"23:59\", \"23:59\", \"23:59\", \"23:59\", \"23:59\", \"23:59\", \"23:59\", \"23:59\", \"23:59\", \"23:59\", \"23:59\"]#\"18:00\"\n",
    "solution(n,t,m,timetable)"
   ]
  }
 ]
}