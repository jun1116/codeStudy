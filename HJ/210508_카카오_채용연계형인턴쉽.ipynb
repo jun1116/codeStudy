{
 "cells": [
  {
   "cell_type": "markdown",
   "metadata": {},
   "source": [
    "# 1번"
   ]
  },
  {
   "cell_type": "code",
   "execution_count": 5,
   "metadata": {},
   "outputs": [
    {
     "data": {
      "text/plain": [
       "'1478'"
      ]
     },
     "execution_count": 5,
     "metadata": {},
     "output_type": "execute_result"
    }
   ],
   "source": [
    "s = 'one4seveneight'\n",
    "def replacefunc(s):\n",
    "    ans=s\n",
    "    nums=['zero','one','two','three','four','five','six','seven','eight','nine']\n",
    "    for i,v in enumerate(nums):\n",
    "        ans = ans.replace(v , str(i))\n",
    "    return ans\n",
    "replacefunc(s)"
   ]
  },
  {
   "cell_type": "markdown",
   "metadata": {},
   "source": [
    "# 2번"
   ]
  },
  {
   "cell_type": "code",
   "execution_count": 6,
   "metadata": {},
   "outputs": [
    {
     "data": {
      "text/plain": [
       "[['POOOP', 'OXXOX', 'OPXPX', 'OOXOX', 'POXXP'],\n",
       " ['POOPX', 'OXPXP', 'PXXXO', 'OXXXO', 'OOOPP'],\n",
       " ['PXOPX', 'OXOXP', 'OXPXX', 'OXXXP', 'POOXX'],\n",
       " ['OOOXX', 'XOOOX', 'OOOXX', 'OXOOX', 'OOOOO'],\n",
       " ['PXPXP', 'XPXPX', 'PXPXP', 'XPXPX', 'PXPXP']]"
      ]
     },
     "execution_count": 6,
     "metadata": {},
     "output_type": "execute_result"
    }
   ],
   "source": [
    "places=[[\"POOOP\", \"OXXOX\", \"OPXPX\", \"OOXOX\", \"POXXP\"], [\"POOPX\", \"OXPXP\", \"PXXXO\", \"OXXXO\", \"OOOPP\"], [\"PXOPX\", \"OXOXP\", \"OXPXX\", \"OXXXP\", \"POOXX\"], [\"OOOXX\", \"XOOOX\", \"OOOXX\", \"OXOOX\", \"OOOOO\"], [\"PXPXP\", \"XPXPX\", \"PXPXP\", \"XPXPX\", \"PXPXP\"]]\n",
    "places"
   ]
  },
  {
   "cell_type": "code",
   "execution_count": 48,
   "metadata": {},
   "outputs": [
    {
     "data": {
      "text/plain": [
       "[1, 0, 1, 1, 1]"
      ]
     },
     "execution_count": 48,
     "metadata": {},
     "output_type": "execute_result"
    }
   ],
   "source": [
    "def check(room,i,j,fr,cnt):\n",
    "    if cnt ==3: return True\n",
    "    checklist=[[i-1,j],[i+1,j],[i,j-1],[i,j+1]]\n",
    "    \n",
    "    for x,y in checklist:# 4방향에 대해 진행\n",
    "        if x == fr[0] and y == fr[1]: continue #원점과 같은경우 -> 다른방향진행\n",
    "        if x<0 or y<0 or x>4 or y>4: continue #벽인경우 -> 다른방향진행\n",
    "        \n",
    "        now=room[x][y]\n",
    "        \n",
    "        # print(fr,x,y,'\\t', now)\n",
    "        \n",
    "        if now=='P':\n",
    "            return False\n",
    "        elif now=='X':\n",
    "            continue\n",
    "        elif now=='O':\n",
    "            if cnt+1 != 3:\n",
    "                check(room,x,y,[i,j],cnt+1)\n",
    "        \n",
    "def solution(places):\n",
    "    answer=[]\n",
    "    for room in places:\n",
    "        # answer.append(checkrooms(places))\n",
    "        tmp = checkrooms(room)\n",
    "        answer.append(tmp)\n",
    "    return answer\n",
    "\n",
    "def checkrooms(room):\n",
    "    for i in range(5):\n",
    "        for j in range(5):\n",
    "            if room[i][j]=='P':\n",
    "                tmp = check(room,i,j,[i,j],0) \n",
    "                # print(check(room,i,j,[i,j],0)) \n",
    "                if tmp==False:\n",
    "                    return 0\n",
    "    return 1\n",
    "# for room in places[1:]:\n",
    "#     for i in range(5):\n",
    "#         for j in range(5):\n",
    "#             if room[i][j]=='P':\n",
    "#                 print(check(room,i,j,[i,j],0)) \n",
    "#     break\n",
    "# checkrooms(places[1])\n",
    "solution(places)\n",
    "\n"
   ]
  },
  {
   "cell_type": "markdown",
   "metadata": {},
   "source": [
    "# 3번"
   ]
  },
  {
   "cell_type": "code",
   "execution_count": 51,
   "metadata": {},
   "outputs": [
    {
     "data": {
      "text/plain": [
       "[1, 2, 'd', 3, 4, 5]"
      ]
     },
     "execution_count": 51,
     "metadata": {},
     "output_type": "execute_result"
    }
   ],
   "source": [
    "tmp = [1,2,3,4,5,]\n",
    "tmp.insert(2,'d')\n",
    "tmp"
   ]
  },
  {
   "cell_type": "code",
   "execution_count": 85,
   "metadata": {},
   "outputs": [
    {
     "data": {
      "text/plain": [
       "'OOXOXOOO'"
      ]
     },
     "execution_count": 85,
     "metadata": {},
     "output_type": "execute_result"
    }
   ],
   "source": [
    "n=8\n",
    "k=2\n",
    "# cmd=[\"D 2\",\"C\",\"U 3\",\"C\",\"D 4\",\"C\",\"U 2\",\"Z\",\"Z\"]\n",
    "cmd =  [\"D 2\",\"C\",\"U 3\",\"C\",\"D 4\",\"C\",\"U 2\",\"Z\",\"Z\",\"U 1\",\"C\"]\n",
    "def solution(n,k,cmd):\n",
    "    answer=''\n",
    "    now=k\n",
    "    init_db = [chr(i) for i in range(65,65+n)]\n",
    "    db = [chr(i) for i in range(65,65+n)]\n",
    "    # init_db = ['무지','콘','어피치','제이지','프로도','네오','튜브','라이언']\n",
    "    # db = ['무지','콘','어피치','제이지','프로도','네오','튜브','라이언']\n",
    "    \n",
    "    stack=[]\n",
    "    # print(now, db)\n",
    "    for do in cmd:\n",
    "        if do[0]=='D':\n",
    "            now += int(do.split()[1])\n",
    "\n",
    "        elif do[0]=='U':\n",
    "            now -= int(do.split()[1])\n",
    "\n",
    "        elif do[0]=='C':\n",
    "            stack.append([now, db.pop(now)])\n",
    "            # print(stack)\n",
    "            if now >= len(db):\n",
    "                now -=1\n",
    "        elif do[0]=='Z':\n",
    "            tmp = stack.pop()\n",
    "            if tmp[0]<=now:\n",
    "                now+=1\n",
    "            db.insert(tmp[0],tmp[1])\n",
    "        # print(db[now],do)\n",
    "        # print(db)\n",
    "        # print()\n",
    "    \n",
    "    dbcnt=0\n",
    "    for i,v in enumerate(init_db):\n",
    "        if v in db:\n",
    "            answer+='O'\n",
    "        else:\n",
    "            answer+='X'\n",
    "    return answer\n",
    "solution(n,k,cmd)\n"
   ]
  },
  {
   "cell_type": "code",
   "execution_count": 58,
   "metadata": {},
   "outputs": [
    {
     "data": {
      "text/plain": [
       "['A', 'B', 0, 'C', 'D', 'E', 'F', 'G', 'H']"
      ]
     },
     "execution_count": 58,
     "metadata": {},
     "output_type": "execute_result"
    }
   ],
   "source": [
    "# []\n",
    "# chr(64)\n",
    "# ord(\"A\")\n",
    "pp = [chr(i) for i in range(65,65+8)]\n",
    "pp.insert(2,0)\n",
    "pp"
   ]
  },
  {
   "cell_type": "code",
   "execution_count": null,
   "metadata": {},
   "outputs": [],
   "source": []
  },
  {
   "cell_type": "markdown",
   "metadata": {},
   "source": [
    "# 4번"
   ]
  },
  {
   "cell_type": "code",
   "execution_count": 134,
   "metadata": {},
   "outputs": [
    {
     "name": "stdout",
     "output_type": "stream",
     "text": [
      "1\n",
      "3\n",
      "2\n"
     ]
    },
    {
     "data": {
      "text/plain": [
       "defaultdict(list, {2: [[1, 1], [3, 1]], 4: [[2, 1]]})"
      ]
     },
     "execution_count": 134,
     "metadata": {},
     "output_type": "execute_result"
    }
   ],
   "source": [
    "from collections import defaultdict\n",
    "roads=[[1, 2, 1], [3, 2, 1], [2, 4, 1]]\n",
    "n,start,end = 4,1,4\n",
    "traps=[2,3]\n",
    "def solution(n,start,end,roads,traps):\n",
    "    ans=0\n",
    "    return ans\n",
    "\n",
    "graph = defaultdict(list)\n",
    "for road in roads:\n",
    "    graph[road[0]].append([road[1],road[2]])\n",
    "\n",
    "def reverse(graph,trap):\n",
    "    tmp=defaultdict(list)\n",
    "    for key in graph:\n",
    "        print(key)\n",
    "        nows = graph[key]\n",
    "        for now in nows:\n",
    "            if now[0]==trap:\n",
    "                tmp[trap].append([key,now[1]])\n",
    "            else:\n",
    "                if key==trap:\n",
    "                    tmp[now[0]].append([key,now[1]])\n",
    "                else:\n",
    "                    tmp[key].append(now)\n",
    "    return tmp\n",
    "\n",
    "\n",
    "\n",
    "reverse(graph,2)\n"
   ]
  },
  {
   "cell_type": "code",
   "execution_count": 139,
   "metadata": {},
   "outputs": [
    {
     "data": {
      "text/plain": [
       "(defaultdict(list, {1: [[2, 1]], 3: [[2, 1]], 2: [[4, 1]]}), [2, 3])"
      ]
     },
     "execution_count": 139,
     "metadata": {},
     "output_type": "execute_result"
    }
   ],
   "source": [
    "graph, traps"
   ]
  },
  {
   "cell_type": "code",
   "execution_count": 147,
   "metadata": {},
   "outputs": [
    {
     "ename": "SyntaxError",
     "evalue": "non-default argument follows default argument (<ipython-input-147-14594a5ca684>, line 2)",
     "output_type": "error",
     "traceback": [
      "\u001b[0;36m  File \u001b[0;32m\"<ipython-input-147-14594a5ca684>\"\u001b[0;36m, line \u001b[0;32m2\u001b[0m\n\u001b[0;31m    def dfs(graph,st=1, fr=1 , money):\u001b[0m\n\u001b[0m            ^\u001b[0m\n\u001b[0;31mSyntaxError\u001b[0m\u001b[0;31m:\u001b[0m non-default argument follows default argument\n"
     ]
    }
   ],
   "source": [
    "# graph\n",
    "def dfs(graph,st=1, fr=1 , money):\n",
    "    if st == end: return money\n",
    "    cango = [i[0] for i in graph.get(st)]\n",
    "    cango = graph.get(st)\n",
    "    for cand in [i[0] for i in cango]:\n",
    "        if cand in traps:\n",
    "            reversed_graph = reverse(graph, cand)\n",
    "            dfs(reversed_graph , st = cand, fr = st , money+cand[1])\n",
    "        else:\n",
    "            dfs(graph, st=cand, fr=st, money+cand[1])\n",
    "\n",
    "dfs(graph, st=1, fr=1, money=0)    \n",
    "\n"
   ]
  },
  {
   "cell_type": "code",
   "execution_count": 1,
   "metadata": {},
   "outputs": [],
   "source": [
    "def dfs(graph,st=1, fr=0, money=0):\n",
    "    if st==end : return money\n",
    "    \n",
    "    \n",
    "    for node in graph[st]:\n",
    "    \n",
    "        if node[0] in traps:\n",
    "            tmp = reverse(graph,node[0])\n",
    "            dfs(tmp, st=node[0], fr=st , money=node[1])\n",
    "            # dfs(reverse(graph,node[0]),node[0],visited)\n",
    "    \n",
    "\n",
    "\n",
    "# dfs(graph)\n"
   ]
  },
  {
   "cell_type": "code",
   "execution_count": 117,
   "metadata": {},
   "outputs": [
    {
     "data": {
      "text/plain": [
       "[[2, 1]]"
      ]
     },
     "execution_count": 117,
     "metadata": {},
     "output_type": "execute_result"
    }
   ],
   "source": [
    "graph[3]"
   ]
  },
  {
   "cell_type": "markdown",
   "metadata": {},
   "source": [
    "# 5번"
   ]
  },
  {
   "cell_type": "code",
   "execution_count": 149,
   "metadata": {},
   "outputs": [
    {
     "data": {
      "text/plain": [
       "[[-1, -1],\n",
       " [-1, -1],\n",
       " [-1, -1],\n",
       " [-1, -1],\n",
       " [8, 5],\n",
       " [2, 10],\n",
       " [3, 0],\n",
       " [6, 1],\n",
       " [11, -1],\n",
       " [7, 4],\n",
       " [-1, -1],\n",
       " [-1, -1]]"
      ]
     },
     "execution_count": 149,
     "metadata": {},
     "output_type": "execute_result"
    }
   ],
   "source": [
    " k=3\t\n",
    " num=[12, 30, 1, 8, 8, 6, 20, 7, 5, 10, 4, 1]\t\n",
    " links=[[-1, -1], [-1, -1], [-1, -1], [-1, -1], [8, 5], [2, 10], [3, 0], [6, 1], [11, -1], [7, 4], [-1, -1], [-1, -1]]\n",
    "links"
   ]
  },
  {
   "cell_type": "code",
   "execution_count": 234,
   "metadata": {},
   "outputs": [
    {
     "data": {
      "text/plain": [
       "40"
      ]
     },
     "execution_count": 234,
     "metadata": {},
     "output_type": "execute_result"
    }
   ],
   "source": [
    "import heapq\n",
    "## 일단 트리 만들고\n",
    "def mktree(links):\n",
    "    tree = defaultdict(list)\n",
    "    for i,link in enumerate(links):\n",
    "        for lr in link:\n",
    "            if lr != -1:\n",
    "                # tree[i].append([lr,num[lr]])\n",
    "                tree[i].append(lr)\n",
    "    return tree\n",
    "#해당 트리와 노드를 주면 그녀석부터 아래에 포함된 녀석들의 합을 구해줌\n",
    "def carculchild(tree, start):\n",
    "    money=0\n",
    "    st=[start,]\n",
    "    while st:\n",
    "        now = st.pop()\n",
    "        # print(st, now)\n",
    "        money += num[now]\n",
    "        if tree.get(now):\n",
    "            st.extend(tree.get(now))\n",
    "    return money\n",
    "\n",
    "def solution(k,num,links):\n",
    "    tree = mktree(links)\n",
    "    \n",
    "    heap=[]\n",
    "    for key in tree.keys():\n",
    "        childs=tree[key]\n",
    "        for child in childs:\n",
    "            tmp = num[key] + carculchild(tree,child)\n",
    "            heapq.heappush(heap, [-tmp, key, child])\n",
    "\n",
    "    headlist=[]\n",
    "    for i in range(k-1):\n",
    "        now = heapq.heappop(heap)\n",
    "        headlist.extend(now[1:])\n",
    "        tree[now[1]].remove(now[2])\n",
    "    \n",
    "    headset = set(headlist)\n",
    "    ans=[]\n",
    "    for head in headset:\n",
    "        ans.append(carculchild(tree,head))\n",
    "    return max(ans)\n",
    "\n",
    "solution(k,num,links)"
   ]
  },
  {
   "cell_type": "code",
   "execution_count": 233,
   "metadata": {},
   "outputs": [
    {
     "data": {
      "text/plain": [
       "30"
      ]
     },
     "execution_count": 233,
     "metadata": {},
     "output_type": "execute_result"
    }
   ],
   "source": [
    "solution(2,[6,9,7,5],[[-1, -1], [-1, -1], [-1, 0], [2, 1]])"
   ]
  },
  {
   "cell_type": "code",
   "execution_count": 203,
   "metadata": {},
   "outputs": [
    {
     "data": {
      "text/plain": [
       "(dict_keys([4, 5, 6, 7, 8, 9]),\n",
       " defaultdict(list,\n",
       "             {4: [8, 5],\n",
       "              5: [2, 10],\n",
       "              6: [3, 0],\n",
       "              7: [6, 1],\n",
       "              8: [11],\n",
       "              9: [7, 4]}))"
      ]
     },
     "execution_count": 203,
     "metadata": {},
     "output_type": "execute_result"
    }
   ],
   "source": [
    "tree.keys(), tree"
   ]
  },
  {
   "cell_type": "code",
   "execution_count": 235,
   "metadata": {},
   "outputs": [
    {
     "name": "stdout",
     "output_type": "stream",
     "text": [
      "0\n"
     ]
    }
   ],
   "source": [
    "for i in range(1\n",
    "):\n",
    "    print(i)"
   ]
  },
  {
   "cell_type": "code",
   "execution_count": null,
   "metadata": {},
   "outputs": [],
   "source": []
  },
  {
   "cell_type": "code",
   "execution_count": null,
   "metadata": {},
   "outputs": [],
   "source": []
  }
 ],
 "metadata": {
  "interpreter": {
   "hash": "cb21448086e1b039f0143f4b6f3949a0ab18b782485cd082e49e693fdc0e34f1"
  },
  "kernelspec": {
   "display_name": "Python 3.9.4 64-bit ('base': conda)",
   "name": "python3"
  },
  "language_info": {
   "name": "python",
   "version": ""
  },
  "orig_nbformat": 2
 },
 "nbformat": 4,
 "nbformat_minor": 2
}