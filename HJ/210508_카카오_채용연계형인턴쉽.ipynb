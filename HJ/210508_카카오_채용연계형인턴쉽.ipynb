{
 "cells": [
  {
   "cell_type": "markdown",
   "source": [
    "# 1번"
   ],
   "metadata": {}
  },
  {
   "cell_type": "code",
   "execution_count": 5,
   "source": [
    "s = 'one4seveneight'\n",
    "def replacefunc(s):\n",
    "    ans=s\n",
    "    nums=['zero','one','two','three','four','five','six','seven','eight','nine']\n",
    "    for i,v in enumerate(nums):\n",
    "        ans = ans.replace(v , str(i))\n",
    "    return ans\n",
    "replacefunc(s)"
   ],
   "outputs": [
    {
     "output_type": "execute_result",
     "data": {
      "text/plain": [
       "'1478'"
      ]
     },
     "metadata": {},
     "execution_count": 5
    }
   ],
   "metadata": {}
  },
  {
   "cell_type": "markdown",
   "source": [
    "# 2번"
   ],
   "metadata": {}
  },
  {
   "cell_type": "code",
   "execution_count": 6,
   "source": [
    "places=[[\"POOOP\", \"OXXOX\", \"OPXPX\", \"OOXOX\", \"POXXP\"], [\"POOPX\", \"OXPXP\", \"PXXXO\", \"OXXXO\", \"OOOPP\"], [\"PXOPX\", \"OXOXP\", \"OXPXX\", \"OXXXP\", \"POOXX\"], [\"OOOXX\", \"XOOOX\", \"OOOXX\", \"OXOOX\", \"OOOOO\"], [\"PXPXP\", \"XPXPX\", \"PXPXP\", \"XPXPX\", \"PXPXP\"]]\n",
    "places"
   ],
   "outputs": [
    {
     "output_type": "execute_result",
     "data": {
      "text/plain": [
       "[['POOOP', 'OXXOX', 'OPXPX', 'OOXOX', 'POXXP'],\n",
       " ['POOPX', 'OXPXP', 'PXXXO', 'OXXXO', 'OOOPP'],\n",
       " ['PXOPX', 'OXOXP', 'OXPXX', 'OXXXP', 'POOXX'],\n",
       " ['OOOXX', 'XOOOX', 'OOOXX', 'OXOOX', 'OOOOO'],\n",
       " ['PXPXP', 'XPXPX', 'PXPXP', 'XPXPX', 'PXPXP']]"
      ]
     },
     "metadata": {},
     "execution_count": 6
    }
   ],
   "metadata": {}
  },
  {
   "cell_type": "code",
   "execution_count": 48,
   "source": [
    "### 80점짜리 답안\n",
    "def check(room,i,j,fr,cnt):\n",
    "    if cnt ==3: return True\n",
    "    checklist=[[i-1,j],[i+1,j],[i,j-1],[i,j+1]]\n",
    "    \n",
    "    for x,y in checklist:# 4방향에 대해 진행\n",
    "        if x == fr[0] and y == fr[1]: continue #원점과 같은경우 -> 다른방향진행\n",
    "        if x<0 or y<0 or x>4 or y>4: continue #벽인경우 -> 다른방향진행\n",
    "        \n",
    "        now=room[x][y]\n",
    "        \n",
    "        # print(fr,x,y,'\\t', now)\n",
    "        \n",
    "        if now=='P':\n",
    "            return False\n",
    "        elif now=='X':\n",
    "            continue\n",
    "        elif now=='O':\n",
    "            if cnt+1 != 3:\n",
    "                check(room,x,y,[i,j],cnt+1)\n",
    "        \n",
    "def solution(places):\n",
    "    answer=[]\n",
    "    for room in places:\n",
    "        # answer.append(checkrooms(places))\n",
    "        tmp = checkrooms(room)\n",
    "        answer.append(tmp)\n",
    "    return answer\n",
    "\n",
    "def checkrooms(room):\n",
    "    for i in range(5):\n",
    "        for j in range(5):\n",
    "            if room[i][j]=='P':\n",
    "                tmp = check(room,i,j,[i,j],0) \n",
    "                # print(check(room,i,j,[i,j],0)) \n",
    "                if tmp==False:\n",
    "                    return 0\n",
    "    return 1\n",
    "# for room in places[1:]:\n",
    "#     for i in range(5):\n",
    "#         for j in range(5):\n",
    "#             if room[i][j]=='P':\n",
    "#                 print(check(room,i,j,[i,j],0)) \n",
    "#     break\n",
    "# checkrooms(places[1])\n",
    "solution(places)\n",
    "###\n"
   ],
   "outputs": [
    {
     "output_type": "execute_result",
     "data": {
      "text/plain": [
       "[1, 0, 1, 1, 1]"
      ]
     },
     "metadata": {},
     "execution_count": 48
    }
   ],
   "metadata": {}
  },
  {
   "cell_type": "code",
   "execution_count": null,
   "source": [
    "###210927 다시풀이 100점짜리 답안\n",
    "def solution(places):\n",
    "    ans=[]\n",
    "    global dx, dy\n",
    "    dx=[0,0,1,-1]\n",
    "    dy=[1,-1,0,0]\n",
    "    for place in places:\n",
    "        ans.append(check(place))\n",
    "    return ans\n",
    "def check(place):\n",
    "    for i in range(5):\n",
    "        for j in range(5):\n",
    "            if place[i][j]=='P':\n",
    "                try:\n",
    "                    assert isManhatton(place,[i,j],[i,j+1])\n",
    "                    assert isManhatton(place,[i,j],[i+1,j])\n",
    "                    assert isManhatton(place,[i,j],[i,j-1])\n",
    "                    assert isManhatton(place,[i,j],[i-1,j])\n",
    "                except:\n",
    "                    return 0\n",
    "            else: continue\n",
    "    return 1\n",
    "def isManhatton(place, fr,to):# fr : 어디서왔는지 , to : 동서남북 중 어디서 3방향체크할지\n",
    "    global dx, dy\n",
    "    x,y=to\n",
    "    #to check\n",
    "    if x<0 or x>=5 or y<0 or y>=5: return True #가장자리라면? 검사ㄴㄴ\n",
    "    else:\n",
    "        if place[x][y]=='X': return True\n",
    "        elif place[x][y]=='P':return False\n",
    "\n",
    "        #to 부터 3방향 체크\n",
    "        else:\n",
    "            for i in range(4):\n",
    "                nx = x+dx[i]\n",
    "                if nx<0 or nx>=5 : continue\n",
    "\n",
    "                ny = y+dy[i]\n",
    "                if ny<0 or ny>=5 : continue\n",
    "                if [nx,ny]==fr: continue\n",
    "\n",
    "                if place[nx][ny]=='P':\n",
    "                    return False\n",
    "        return True\n"
   ],
   "outputs": [],
   "metadata": {}
  },
  {
   "cell_type": "markdown",
   "source": [
    "# 3번"
   ],
   "metadata": {}
  },
  {
   "cell_type": "code",
   "execution_count": 51,
   "source": [
    "tmp = [1,2,3,4,5,]\n",
    "tmp.insert(2,'d')\n",
    "tmp"
   ],
   "outputs": [
    {
     "output_type": "execute_result",
     "data": {
      "text/plain": [
       "[1, 2, 'd', 3, 4, 5]"
      ]
     },
     "metadata": {},
     "execution_count": 51
    }
   ],
   "metadata": {}
  },
  {
   "cell_type": "code",
   "execution_count": 85,
   "source": [
    "n=8\n",
    "k=2\n",
    "# cmd=[\"D 2\",\"C\",\"U 3\",\"C\",\"D 4\",\"C\",\"U 2\",\"Z\",\"Z\"]\n",
    "cmd =  [\"D 2\",\"C\",\"U 3\",\"C\",\"D 4\",\"C\",\"U 2\",\"Z\",\"Z\",\"U 1\",\"C\"]\n",
    "def solution(n,k,cmd):\n",
    "    answer=''\n",
    "    now=k\n",
    "    init_db = [chr(i) for i in range(65,65+n)]\n",
    "    db = [chr(i) for i in range(65,65+n)]\n",
    "    # init_db = ['무지','콘','어피치','제이지','프로도','네오','튜브','라이언']\n",
    "    # db = ['무지','콘','어피치','제이지','프로도','네오','튜브','라이언']\n",
    "    \n",
    "    stack=[]\n",
    "    # print(now, db)\n",
    "    for do in cmd:\n",
    "        if do[0]=='D':\n",
    "            now += int(do.split()[1])\n",
    "\n",
    "        elif do[0]=='U':\n",
    "            now -= int(do.split()[1])\n",
    "\n",
    "        elif do[0]=='C':\n",
    "            stack.append([now, db.pop(now)])\n",
    "            # print(stack)\n",
    "            if now >= len(db):\n",
    "                now -=1\n",
    "        elif do[0]=='Z':\n",
    "            tmp = stack.pop()\n",
    "            if tmp[0]<=now:\n",
    "                now+=1\n",
    "            db.insert(tmp[0],tmp[1])\n",
    "        # print(db[now],do)\n",
    "        # print(db)\n",
    "        # print()\n",
    "    \n",
    "    dbcnt=0\n",
    "    for i,v in enumerate(init_db):\n",
    "        if v in db:\n",
    "            answer+='O'\n",
    "        else:\n",
    "            answer+='X'\n",
    "    return answer\n",
    "solution(n,k,cmd)\n"
   ],
   "outputs": [
    {
     "output_type": "execute_result",
     "data": {
      "text/plain": [
       "'OOXOXOOO'"
      ]
     },
     "metadata": {},
     "execution_count": 85
    }
   ],
   "metadata": {}
  },
  {
   "cell_type": "code",
   "execution_count": 58,
   "source": [
    "# []\n",
    "# chr(64)\n",
    "# ord(\"A\")\n",
    "pp = [chr(i) for i in range(65,65+8)]\n",
    "pp.insert(2,0)\n",
    "pp"
   ],
   "outputs": [
    {
     "output_type": "execute_result",
     "data": {
      "text/plain": [
       "['A', 'B', 0, 'C', 'D', 'E', 'F', 'G', 'H']"
      ]
     },
     "metadata": {},
     "execution_count": 58
    }
   ],
   "metadata": {}
  },
  {
   "cell_type": "code",
   "execution_count": null,
   "source": [],
   "outputs": [],
   "metadata": {}
  },
  {
   "cell_type": "markdown",
   "source": [
    "# 4번"
   ],
   "metadata": {}
  },
  {
   "cell_type": "code",
   "execution_count": 134,
   "source": [
    "from collections import defaultdict\n",
    "roads=[[1, 2, 1], [3, 2, 1], [2, 4, 1]]\n",
    "n,start,end = 4,1,4\n",
    "traps=[2,3]\n",
    "def solution(n,start,end,roads,traps):\n",
    "    ans=0\n",
    "    return ans\n",
    "\n",
    "graph = defaultdict(list)\n",
    "for road in roads:\n",
    "    graph[road[0]].append([road[1],road[2]])\n",
    "\n",
    "def reverse(graph,trap):\n",
    "    tmp=defaultdict(list)\n",
    "    for key in graph:\n",
    "        print(key)\n",
    "        nows = graph[key]\n",
    "        for now in nows:\n",
    "            if now[0]==trap:\n",
    "                tmp[trap].append([key,now[1]])\n",
    "            else:\n",
    "                if key==trap:\n",
    "                    tmp[now[0]].append([key,now[1]])\n",
    "                else:\n",
    "                    tmp[key].append(now)\n",
    "    return tmp\n",
    "\n",
    "\n",
    "\n",
    "reverse(graph,2)\n"
   ],
   "outputs": [
    {
     "output_type": "stream",
     "name": "stdout",
     "text": [
      "1\n",
      "3\n",
      "2\n"
     ]
    },
    {
     "output_type": "execute_result",
     "data": {
      "text/plain": [
       "defaultdict(list, {2: [[1, 1], [3, 1]], 4: [[2, 1]]})"
      ]
     },
     "metadata": {},
     "execution_count": 134
    }
   ],
   "metadata": {}
  },
  {
   "cell_type": "code",
   "execution_count": 139,
   "source": [
    "graph, traps"
   ],
   "outputs": [
    {
     "output_type": "execute_result",
     "data": {
      "text/plain": [
       "(defaultdict(list, {1: [[2, 1]], 3: [[2, 1]], 2: [[4, 1]]}), [2, 3])"
      ]
     },
     "metadata": {},
     "execution_count": 139
    }
   ],
   "metadata": {}
  },
  {
   "cell_type": "code",
   "execution_count": 147,
   "source": [
    "# graph\n",
    "def dfs(graph,st=1, fr=1 , money):\n",
    "    if st == end: return money\n",
    "    cango = [i[0] for i in graph.get(st)]\n",
    "    cango = graph.get(st)\n",
    "    for cand in [i[0] for i in cango]:\n",
    "        if cand in traps:\n",
    "            reversed_graph = reverse(graph, cand)\n",
    "            dfs(reversed_graph , st = cand, fr = st , money+cand[1])\n",
    "        else:\n",
    "            dfs(graph, st=cand, fr=st, money+cand[1])\n",
    "\n",
    "dfs(graph, st=1, fr=1, money=0)    \n",
    "\n"
   ],
   "outputs": [
    {
     "output_type": "error",
     "ename": "SyntaxError",
     "evalue": "non-default argument follows default argument (<ipython-input-147-14594a5ca684>, line 2)",
     "traceback": [
      "\u001b[0;36m  File \u001b[0;32m\"<ipython-input-147-14594a5ca684>\"\u001b[0;36m, line \u001b[0;32m2\u001b[0m\n\u001b[0;31m    def dfs(graph,st=1, fr=1 , money):\u001b[0m\n\u001b[0m            ^\u001b[0m\n\u001b[0;31mSyntaxError\u001b[0m\u001b[0;31m:\u001b[0m non-default argument follows default argument\n"
     ]
    }
   ],
   "metadata": {}
  },
  {
   "cell_type": "code",
   "execution_count": 1,
   "source": [
    "def dfs(graph,st=1, fr=0, money=0):\n",
    "    if st==end : return money\n",
    "    \n",
    "    \n",
    "    for node in graph[st]:\n",
    "    \n",
    "        if node[0] in traps:\n",
    "            tmp = reverse(graph,node[0])\n",
    "            dfs(tmp, st=node[0], fr=st , money=node[1])\n",
    "            # dfs(reverse(graph,node[0]),node[0],visited)\n",
    "    \n",
    "\n",
    "\n",
    "# dfs(graph)\n"
   ],
   "outputs": [],
   "metadata": {}
  },
  {
   "cell_type": "code",
   "execution_count": 117,
   "source": [
    "graph[3]"
   ],
   "outputs": [
    {
     "output_type": "execute_result",
     "data": {
      "text/plain": [
       "[[2, 1]]"
      ]
     },
     "metadata": {},
     "execution_count": 117
    }
   ],
   "metadata": {}
  },
  {
   "cell_type": "markdown",
   "source": [
    "# 5번"
   ],
   "metadata": {}
  },
  {
   "cell_type": "code",
   "execution_count": 149,
   "source": [
    " k=3\t\n",
    " num=[12, 30, 1, 8, 8, 6, 20, 7, 5, 10, 4, 1]\t\n",
    " links=[[-1, -1], [-1, -1], [-1, -1], [-1, -1], [8, 5], [2, 10], [3, 0], [6, 1], [11, -1], [7, 4], [-1, -1], [-1, -1]]\n",
    "links"
   ],
   "outputs": [
    {
     "output_type": "execute_result",
     "data": {
      "text/plain": [
       "[[-1, -1],\n",
       " [-1, -1],\n",
       " [-1, -1],\n",
       " [-1, -1],\n",
       " [8, 5],\n",
       " [2, 10],\n",
       " [3, 0],\n",
       " [6, 1],\n",
       " [11, -1],\n",
       " [7, 4],\n",
       " [-1, -1],\n",
       " [-1, -1]]"
      ]
     },
     "metadata": {},
     "execution_count": 149
    }
   ],
   "metadata": {}
  },
  {
   "cell_type": "code",
   "execution_count": 234,
   "source": [
    "import heapq\n",
    "## 일단 트리 만들고\n",
    "def mktree(links):\n",
    "    tree = defaultdict(list)\n",
    "    for i,link in enumerate(links):\n",
    "        for lr in link:\n",
    "            if lr != -1:\n",
    "                # tree[i].append([lr,num[lr]])\n",
    "                tree[i].append(lr)\n",
    "    return tree\n",
    "#해당 트리와 노드를 주면 그녀석부터 아래에 포함된 녀석들의 합을 구해줌\n",
    "def carculchild(tree, start):\n",
    "    money=0\n",
    "    st=[start,]\n",
    "    while st:\n",
    "        now = st.pop()\n",
    "        # print(st, now)\n",
    "        money += num[now]\n",
    "        if tree.get(now):\n",
    "            st.extend(tree.get(now))\n",
    "    return money\n",
    "\n",
    "def solution(k,num,links):\n",
    "    tree = mktree(links)\n",
    "    \n",
    "    heap=[]\n",
    "    for key in tree.keys():\n",
    "        childs=tree[key]\n",
    "        for child in childs:\n",
    "            tmp = num[key] + carculchild(tree,child)\n",
    "            heapq.heappush(heap, [-tmp, key, child])\n",
    "\n",
    "    headlist=[]\n",
    "    for i in range(k-1):\n",
    "        now = heapq.heappop(heap)\n",
    "        headlist.extend(now[1:])\n",
    "        tree[now[1]].remove(now[2])\n",
    "    \n",
    "    headset = set(headlist)\n",
    "    ans=[]\n",
    "    for head in headset:\n",
    "        ans.append(carculchild(tree,head))\n",
    "    return max(ans)\n",
    "\n",
    "solution(k,num,links)"
   ],
   "outputs": [
    {
     "output_type": "execute_result",
     "data": {
      "text/plain": [
       "40"
      ]
     },
     "metadata": {},
     "execution_count": 234
    }
   ],
   "metadata": {}
  },
  {
   "cell_type": "code",
   "execution_count": 233,
   "source": [
    "solution(2,[6,9,7,5],[[-1, -1], [-1, -1], [-1, 0], [2, 1]])"
   ],
   "outputs": [
    {
     "output_type": "execute_result",
     "data": {
      "text/plain": [
       "30"
      ]
     },
     "metadata": {},
     "execution_count": 233
    }
   ],
   "metadata": {}
  },
  {
   "cell_type": "code",
   "execution_count": 203,
   "source": [
    "tree.keys(), tree"
   ],
   "outputs": [
    {
     "output_type": "execute_result",
     "data": {
      "text/plain": [
       "(dict_keys([4, 5, 6, 7, 8, 9]),\n",
       " defaultdict(list,\n",
       "             {4: [8, 5],\n",
       "              5: [2, 10],\n",
       "              6: [3, 0],\n",
       "              7: [6, 1],\n",
       "              8: [11],\n",
       "              9: [7, 4]}))"
      ]
     },
     "metadata": {},
     "execution_count": 203
    }
   ],
   "metadata": {}
  },
  {
   "cell_type": "code",
   "execution_count": 235,
   "source": [
    "for i in range(1\n",
    "):\n",
    "    print(i)"
   ],
   "outputs": [
    {
     "output_type": "stream",
     "name": "stdout",
     "text": [
      "0\n"
     ]
    }
   ],
   "metadata": {}
  },
  {
   "cell_type": "code",
   "execution_count": null,
   "source": [],
   "outputs": [],
   "metadata": {}
  },
  {
   "cell_type": "code",
   "execution_count": null,
   "source": [],
   "outputs": [],
   "metadata": {}
  }
 ],
 "metadata": {
  "interpreter": {
   "hash": "cb21448086e1b039f0143f4b6f3949a0ab18b782485cd082e49e693fdc0e34f1"
  },
  "kernelspec": {
   "display_name": "Python 3.9.4 64-bit ('base': conda)",
   "name": "python3"
  },
  "language_info": {
   "name": "python",
   "version": ""
  },
  "orig_nbformat": 2
 },
 "nbformat": 4,
 "nbformat_minor": 2
}