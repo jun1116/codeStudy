{
 "cells": [
  {
   "cell_type": "code",
   "execution_count": 20,
   "metadata": {
    "ExecuteTime": {
     "end_time": "2020-12-13T15:44:27.158638Z",
     "start_time": "2020-12-13T15:44:27.149022Z"
    }
   },
   "outputs": [],
   "source": [
    "W=11\n",
    "H=5"
   ]
  },
  {
   "cell_type": "code",
   "execution_count": 21,
   "metadata": {
    "ExecuteTime": {
     "end_time": "2020-12-13T15:44:27.999228Z",
     "start_time": "2020-12-13T15:44:27.988097Z"
    }
   },
   "outputs": [
    {
     "name": "stdout",
     "output_type": "stream",
     "text": [
      "0.0\n",
      "0.45454545454545453\n",
      "0.9090909090909091\n",
      "1.3636363636363635\n",
      "1.8181818181818181\n",
      "2.2727272727272725\n",
      "2.727272727272727\n",
      "3.1818181818181817\n",
      "3.6363636363636362\n",
      "4.090909090909091\n",
      "4.545454545454545\n"
     ]
    }
   ],
   "source": [
    "y=H/W\n",
    "count=1\n",
    "for w in range(W):\n",
    "    cur=y*w\n",
    "    print(cur)"
   ]
  },
  {
   "cell_type": "code",
   "execution_count": 17,
   "metadata": {
    "ExecuteTime": {
     "end_time": "2020-12-13T15:36:52.003416Z",
     "start_time": "2020-12-13T15:36:51.997882Z"
    }
   },
   "outputs": [],
   "source": [
    "y=H/W\n",
    "count=0\n",
    "for w in range(W):\n",
    "    cur=y*w\n",
    "    if cur>int(cur):\n",
    "        count+=3\n",
    "    else:\n",
    "        count+=1"
   ]
  },
  {
   "cell_type": "markdown",
   "metadata": {},
   "source": [
    "### 코딩테스트 연습 연습문제 124 나라의 숫자 \n",
    "1 2 3  4 5 6  7 8 9  10 11 12  13 14 15"
   ]
  },
  {
   "cell_type": "code",
   "execution_count": 69,
   "metadata": {
    "ExecuteTime": {
     "end_time": "2020-12-13T16:20:22.565865Z",
     "start_time": "2020-12-13T16:20:22.554360Z"
    }
   },
   "outputs": [
    {
     "name": "stdout",
     "output_type": "stream",
     "text": [
      "0 ----- 0\n",
      "1 ----- 1\n",
      "2 ----- 2\n",
      "3 ----- 4\n",
      "4 ----- 11\n",
      "5 ----- 12\n",
      "6 ----- 14\n",
      "7 ----- 21\n",
      "8 ----- 22\n",
      "9 ----- 24\n",
      "10 ----- 41\n",
      "11 ----- 42\n",
      "12 ----- 44\n",
      "13 ----- 111\n",
      "14 ----- 112\n"
     ]
    }
   ],
   "source": [
    "def mod3(n):\n",
    "    ans=''\n",
    "    while n>3:\n",
    "        tmp=n%3\n",
    "        n=int(n/3)\n",
    "        if tmp==0:\n",
    "            n-=1\n",
    "            ans+='4'\n",
    "        else:\n",
    "            ans+=str(tmp)\n",
    "    ans+=str(n)\n",
    "    \n",
    "    ans\n",
    "    tmp=''\n",
    "    for i in range(len(ans)):\n",
    "        now=ans[len(ans)-i-1]\n",
    "        if now=='3':\n",
    "            tmp+='4'\n",
    "        else:\n",
    "            tmp+=now\n",
    "#         tmp+=ans[len(ans)-i-1]\n",
    "    return tmp\n",
    "for i in range(15):\n",
    "    print(i,'-----',mod3(i))"
   ]
  },
  {
   "cell_type": "markdown",
   "metadata": {},
   "source": [
    "### 다른사람"
   ]
  },
  {
   "cell_type": "code",
   "execution_count": 72,
   "metadata": {
    "ExecuteTime": {
     "end_time": "2020-12-13T16:24:12.938616Z",
     "start_time": "2020-12-13T16:24:12.930052Z"
    }
   },
   "outputs": [
    {
     "name": "stdout",
     "output_type": "stream",
     "text": [
      "41\n"
     ]
    }
   ],
   "source": [
    "def change124(n):\n",
    "    if n<=3:\n",
    "        return '124'[n-1]\n",
    "    else:\n",
    "        q, r = divmod(n-1, 3) \n",
    "        return change124(q) + '124'[r]\n",
    "# 아래는 테스트로 출력해 보기 위한 코드입니다.\n",
    "print(change124(10))"
   ]
  },
  {
   "cell_type": "code",
   "execution_count": 73,
   "metadata": {
    "ExecuteTime": {
     "end_time": "2020-12-13T16:24:13.828385Z",
     "start_time": "2020-12-13T16:24:13.817054Z"
    }
   },
   "outputs": [
    {
     "name": "stdout",
     "output_type": "stream",
     "text": [
      "41\n"
     ]
    }
   ],
   "source": [
    "def change124(n):\n",
    "    num = ['1','2','4']\n",
    "    answer = \"\"\n",
    "    while n > 0:\n",
    "        n -= 1\n",
    "        answer = num[n % 3] + answer\n",
    "        n //= 3\n",
    "    return answer\n",
    "print(change124(10))"
   ]
  }
 ],
 "metadata": {
  "kernelspec": {
   "display_name": "Python 3",
   "language": "python",
   "name": "python3"
  },
  "language_info": {
   "codemirror_mode": {
    "name": "ipython",
    "version": 3
   },
   "file_extension": ".py",
   "mimetype": "text/x-python",
   "name": "python",
   "nbconvert_exporter": "python",
   "pygments_lexer": "ipython3",
   "version": "3.8.5"
  },
  "toc": {
   "base_numbering": 1,
   "nav_menu": {},
   "number_sections": true,
   "sideBar": true,
   "skip_h1_title": false,
   "title_cell": "Table of Contents",
   "title_sidebar": "Contents",
   "toc_cell": false,
   "toc_position": {},
   "toc_section_display": true,
   "toc_window_display": false
  }
 },
 "nbformat": 4,
 "nbformat_minor": 4
}
