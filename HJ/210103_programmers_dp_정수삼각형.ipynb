{
 "cells": [
  {
   "cell_type": "code",
   "execution_count": 19,
   "metadata": {},
   "outputs": [
    {
     "name": "stdout",
     "output_type": "stream",
     "text": [
      "[0, 24, 24, None, 25, 25, None, None, 30, 30, None, 27, 27, None, None, None, 23, 23, None, 20, 20, None, None, 17, 17, None, 21, 21, None, None, None, None, 28, 28, None, 25, 25, None, None, 22, 22, None, 26, 26, None, None, None, 21, 21, None, 25, 25, None, None, 25, 25, None, 24, 24, None, None, None, None]\n"
     ]
    }
   ],
   "source": [
    "def solution(triangle):\n",
    "    answer = 0\n",
    "    # len(triangle) \n",
    "    table=[0 for i in triangle]\n",
    "    \n",
    "    def up2bot(triangle, now, lv, index, table):\n",
    "        if lv==len(triangle) : return now\n",
    "        \n",
    "        tmp=now+triangle[lv][index]\n",
    "        \n",
    "        # now+=triangle[lv][index]\n",
    "        # lv * (lv+1) / 2 -> 현재 레벨 인덱스 시작\n",
    "        \n",
    "        up2bot(triangle,tmp,lv+1, index, table)\n",
    "        up2bot(triangle,tmp,lv+1, index+1, table)\n",
    "        \n",
    "\n",
    "    up2bot(triangle,0,0,0,table)\n",
    "\n",
    "    print(table)\n",
    "    answer+=len(triangle)\n",
    "    return \n",
    "\n",
    "solution([[7], [3, 8], [8, 1, 0], [2, 7, 4, 4], [4, 5, 2, 6, 5]]) #30\n"
   ]
  },
  {
   "cell_type": "code",
   "execution_count": 14,
   "metadata": {},
   "outputs": [
    {
     "name": "stdout",
     "output_type": "stream",
     "text": [
      "[[7], [10, 15], [23, 16, 15], [25, 30, 20, 19], [29, 35, 32, 26, 24]]\n"
     ]
    }
   ],
   "source": [
    "triangle=[[7], [3, 8], [8, 1, 0], [2, 7, 4, 4], [4, 5, 2, 6, 5]]\n",
    "\n",
    "tri=triangle[:]\n",
    "for lv in range(len(tri)):\n",
    "    if lv==0: continue\n",
    "    for index in range(lv+1):\n",
    "        if index==lv : \n",
    "            tri[lv][index] += tri[lv-1][index-1]\n",
    "        else:\n",
    "            tri[lv][index] += max( tri[lv-1][index], tri[lv-1][index-1])\n",
    "print(tri)"
   ]
  },
  {
   "cell_type": "code",
   "execution_count": null,
   "metadata": {},
   "outputs": [],
   "source": []
  },
  {
   "cell_type": "markdown",
   "metadata": {},
   "source": [
    "## 최종 제출 코드"
   ]
  },
  {
   "cell_type": "code",
   "execution_count": 31,
   "metadata": {},
   "outputs": [
    {
     "name": "stdout",
     "output_type": "stream",
     "text": [
      "[[30], [23, 21], [20, 13, 10], [7, 12, 10, 10], [4, 5, 2, 6, 5]]\n"
     ]
    }
   ],
   "source": [
    "tri = [[7], [3, 8], [8, 1, 0], [2, 7, 4, 4], [4, 5, 2, 6, 5]]\n",
    "def solution(tri):\n",
    "    for lv in range( len(tri)-2, -1, -1):\n",
    "        for index in range( lv+1 ):\n",
    "            tri[ lv ][ index ] += max( tri [ lv+1 ][ index ], tri[ lv+1 ][ index+1 ] )\n",
    "    return  tri[0][0]\n",
    "solution(tri)"
   ]
  },
  {
   "cell_type": "code",
   "execution_count": null,
   "metadata": {},
   "outputs": [],
   "source": [
    "#다른사람 코드\n",
    "solution = lambda t, l = []: max(l) if not t else solution(t[1:], [max(x,y)+z for x,y,z in zip([0]+l, l+[0], t[0])])\n"
   ]
  },
  {
   "cell_type": "code",
   "execution_count": null,
   "metadata": {},
   "outputs": [],
   "source": [
    "\n",
    "def solution(triangle):\n",
    "    dp = []\n",
    "    for t in range(1, len(triangle)):\n",
    "        for i in range(t+1):\n",
    "            if i == 0:\n",
    "                triangle[t][0] += triangle[t-1][0]\n",
    "            elif i == t:\n",
    "                triangle[t][-1] += triangle[t-1][-1]\n",
    "            else:\n",
    "                triangle[t][i] += max(triangle[t-1][i-1], triangle[t-1][i])\n",
    "    return max(triangle[-1])"
   ]
  }
 ],
 "metadata": {
  "kernelspec": {
   "display_name": "Python 3",
   "language": "python",
   "name": "python3"
  },
  "language_info": {
   "codemirror_mode": {
    "name": "ipython",
    "version": 3
   },
   "file_extension": ".py",
   "mimetype": "text/x-python",
   "name": "python",
   "nbconvert_exporter": "python",
   "pygments_lexer": "ipython3",
   "version": "3.8.5"
  }
 },
 "nbformat": 4,
 "nbformat_minor": 2
}
