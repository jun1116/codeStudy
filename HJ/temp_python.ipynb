{
 "cells": [
  {
   "cell_type": "code",
   "execution_count": 6,
   "metadata": {},
   "outputs": [
    {
     "data": {
      "text/plain": [
       "'A'"
      ]
     },
     "execution_count": 6,
     "metadata": {},
     "output_type": "execute_result"
    }
   ],
   "source": [
    "chr(97).upper()"
   ]
  },
  {
   "cell_type": "code",
   "execution_count": 3,
   "metadata": {},
   "outputs": [
    {
     "data": {
      "text/plain": [
       "65"
      ]
     },
     "execution_count": 3,
     "metadata": {},
     "output_type": "execute_result"
    }
   ],
   "source": [
    "ord('A')"
   ]
  },
  {
   "cell_type": "code",
   "execution_count": 7,
   "metadata": {},
   "outputs": [],
   "source": [
    "class Human:\n",
    "    def __init__(self, name, age):\n",
    "        self.name = name\n",
    "        self.age = age\n",
    "\n",
    "    def __repr__(self):\n",
    "        return f\"<Human: {self.name}, {self.age}>\"\n",
    "\n",
    "\n",
    "# 아래 humans에 할당된 list object는 다음과 같다.\n",
    "# Human(\"이름\", 연령)\n",
    "humans = [\n",
    "    Human(\"Abi\", 29),\n",
    "    Human(\"Batista\", 32),\n",
    "    Human(\"Charlse\", 37),\n",
    "    Human(\"Dolphine\", 30),\n",
    "    Human(\"Eva\", 26),\n",
    "    Human(\"Frin\", 18),\n",
    "    Human(\"Gless\", 42),\n",
    "    Human(\"Harby\", 12),\n",
    "    Human(\"Iris\", 41),\n",
    "    Human(\"David\", 31),\n",
    "]"
   ]
  },
  {
   "cell_type": "code",
   "execution_count": 23,
   "metadata": {},
   "outputs": [
    {
     "data": {
      "text/plain": [
       "[('ABI', 34),\n",
       " ('BATISTA', 37),\n",
       " ('CHARLSE', 42),\n",
       " ('DOLPHINE', 35),\n",
       " ('EVA', 31),\n",
       " ('FRIN', 23),\n",
       " ('GLESS', 47),\n",
       " ('HARBY', 17),\n",
       " ('IRIS', 46),\n",
       " ('DAVID', 36)]"
      ]
     },
     "execution_count": 23,
     "metadata": {},
     "output_type": "execute_result"
    }
   ],
   "source": [
    "g = [(i.name.upper(), i.age+5) for i in humans]\n",
    "g"
   ]
  },
  {
   "cell_type": "code",
   "execution_count": 26,
   "metadata": {},
   "outputs": [
    {
     "name": "stdout",
     "output_type": "stream",
     "text": [
      "0 점대 - : 2 명\n",
      "10 점대 - : 1 명\n",
      "20 점대 - : 2 명\n",
      "30 점대 - : 3 명\n",
      "40 점대 - : 4 명\n",
      "50 점대 - : 0 명\n",
      "60 점대 - : 2 명\n",
      "70 점대 - : 2 명\n",
      "80 점대 - : 1 명\n",
      "90 점대 - : 2 명\n",
      "100 점대 - : 1 명\n"
     ]
    }
   ],
   "source": [
    "def part3(score_list):\n",
    "    person=[0]*11\n",
    "    for score in score_list:\n",
    "        if score < 0: continue\n",
    "        person[int(score/10)] += 1\n",
    "\n",
    "    for i in range(len(person)): \n",
    "        print(\"{0} 점대 - : {1} 명\".format(i*10, person[i]))\n",
    "\n",
    "part3([75, 25, 6, 73, 43, 46, 31, 13, 60, 90, 5,\n",
    "               43, 35, 65, 100, 28, 83, 95, 35, 45, -1])\n",
    "\n",
    "    "
   ]
  },
  {
   "cell_type": "code",
   "execution_count": 49,
   "metadata": {},
   "outputs": [
    {
     "data": {
      "text/plain": [
       "1"
      ]
     },
     "execution_count": 49,
     "metadata": {},
     "output_type": "execute_result"
    }
   ],
   "source": [
    "# a=[1,2,5,3]\n",
    "# a.sort()\n",
    "# a.pop()\n",
    "# [i for i in range(1)]\n",
    "5//5"
   ]
  },
  {
   "cell_type": "code",
   "execution_count": 9,
   "metadata": {},
   "outputs": [
    {
     "name": "stdout",
     "output_type": "stream",
     "text": [
      "('d', 2)\n",
      "('b', 2)\n"
     ]
    }
   ],
   "source": [
    "from collections import Counter\n",
    "s='ddbbc'\n",
    "c = Counter(s)\n",
    "\n",
    "cm = c.most_common()\n",
    "for i in cm:\n",
    "    if i[1]==cm[0][1]:\n",
    "        print(i)\n",
    "    else: \n",
    "        break"
   ]
  },
  {
   "cell_type": "code",
   "execution_count": 17,
   "metadata": {},
   "outputs": [
    {
     "data": {
      "text/plain": [
       "[('b', 2), ('d', 2), ('c', 1)]"
      ]
     },
     "execution_count": 17,
     "metadata": {},
     "output_type": "execute_result"
    }
   ],
   "source": [
    "sorted(cm, key=(lambda x : (-x[1], x[0])))"
   ]
  },
  {
   "cell_type": "code",
   "execution_count": null,
   "metadata": {},
   "outputs": [],
   "source": []
  },
  {
   "cell_type": "code",
   "execution_count": 71,
   "metadata": {},
   "outputs": [
    {
     "name": "stdout",
     "output_type": "stream",
     "text": [
      "3 a 9 3\n",
      "ok\n",
      "3 tmplen :  2\n",
      "5 c 7 5\n",
      "ok\n",
      "ok\n",
      "ok\n",
      "ok\n",
      "ok\n",
      "5 tmplen :  12\n",
      "7 a 5 4\n",
      "7 tmplen :  2\n"
     ]
    },
    {
     "data": {
      "text/plain": [
       "12"
      ]
     },
     "execution_count": 71,
     "metadata": {},
     "output_type": "execute_result"
    }
   ],
   "source": [
    "#  012345678\n",
    "# s='aaccaadd'\n",
    "s='fdsaaccaasdf'\n",
    "# idx=0\n",
    "maxleng=1\n",
    "for i,v in enumerate(s):\n",
    "    if i<len(s)-1 and v == s[i+1]:\n",
    "        # 2칸씩체크\n",
    "        tmplen=2\n",
    "        check_range = min(i-0, len(s)-i-1)\n",
    "        print(i,v, len(s)-i, check_range)\n",
    "        if check_range > 0 and i+check_range < len(s)-1:\n",
    "            for cidx in range(1, check_range+1):\n",
    "                print('ok')\n",
    "                if s[i+cidx+1] == s[i-cidx]:\n",
    "                    \n",
    "                    tmplen+=2\n",
    "                else:\n",
    "                    break\n",
    "        maxleng = max(tmplen, maxleng)\n",
    "        print(i, 'tmplen : ',tmplen)\n",
    "    else:\n",
    "        tmplen=1\n",
    "        check_range = min(i-0, len(s)-i-1)\n",
    "        if check_range>0:\n",
    "            for cidx in range(1,check_range+1):\n",
    "                if s[i +cidx]==s[i-cidx]:\n",
    "                    tmplen+=2\n",
    "                else:\n",
    "                    break\n",
    "#             print(i, 'tmplen : ',tmplen)\n",
    "            maxleng = max(tmplen, maxleng)\n",
    "    \n",
    "maxleng\n",
    "    "
   ]
  },
  {
   "cell_type": "code",
   "execution_count": null,
   "metadata": {},
   "outputs": [],
   "source": []
  },
  {
   "cell_type": "code",
   "execution_count": null,
   "metadata": {},
   "outputs": [],
   "source": []
  },
  {
   "cell_type": "code",
   "execution_count": null,
   "metadata": {},
   "outputs": [],
   "source": []
  },
  {
   "cell_type": "code",
   "execution_count": 278,
   "metadata": {},
   "outputs": [],
   "source": [
    "tmp=[\n",
    "    [1,1,1,1,1],\n",
    "    [1,1,1,0,1],\n",
    "    [1,1,1,1,1],\n",
    "    [1,1,1,1,1],\n",
    "    [1,1,1,1,1]]\n",
    "\n",
    "# x = 1  , y = 3\n",
    "# for x in range(0,len(tmp)):\n",
    "#     for y in range(0,len(tmp[0])):\n",
    "#         if tmp[x][y]==0:\n",
    "#             print(x,y)\n",
    "#             print([i[:] for i in tmp[:x]] ) # up\n",
    "#             print([i[:y] for i in tmp[:]]) # left\n",
    "#             print([i[y+1:] for i in tmp[:]]) # right\n",
    "#             print([i[:] for i in tmp[x+1:]]) # down\n"
   ]
  },
  {
   "cell_type": "code",
   "execution_count": 285,
   "metadata": {},
   "outputs": [
    {
     "output_type": "stream",
     "name": "stdout",
     "text": [
      "[[1, 1, 1, 1, 1], [1, 0, 1, 1, 1], [1, 1, 1, 1, 1], [1, 1, 1, 1, 1], [1, 1, 1, 1, 1]]\nwidth : 5 \thieght :  5\nfor문 ::  x : 0 \ty : 0 \t 1\nfor문 ::  x : 0 \ty : 1 \t 1\nfor문 ::  x : 0 \ty : 2 \t 1\nfor문 ::  x : 0 \ty : 3 \t 1\nfor문 ::  x : 0 \ty : 4 \t 1\nfor문 ::  x : 1 \ty : 0 \t 1\nfor문 ::  x : 1 \ty : 1 \t 0\n[[1, 1, 1, 1, 1]]\nwidth : 5 \thieght :  1\nfor문 ::  x : 0 \ty : 0 \t 1\nfor문 ::  x : 0 \ty : 1 \t 1\nfor문 ::  x : 0 \ty : 2 \t 1\nfor문 ::  x : 0 \ty : 3 \t 1\nfor문 ::  x : 0 \ty : 4 \t 1\n[[1], [1], [1], [1], [1]]\nwidth : 1 \thieght :  5\nfor문 ::  x : 0 \ty : 0 \t 1\nfor문 ::  x : 1 \ty : 0 \t 1\nfor문 ::  x : 2 \ty : 0 \t 1\nfor문 ::  x : 3 \ty : 0 \t 1\nfor문 ::  x : 4 \ty : 0 \t 1\n[[1, 1, 1], [1, 1, 1], [1, 1, 1], [1, 1, 1], [1, 1, 1]]\nwidth : 3 \thieght :  5\nfor문 ::  x : 0 \ty : 0 \t 1\nfor문 ::  x : 0 \ty : 1 \t 1\nfor문 ::  x : 0 \ty : 2 \t 1\nfor문 ::  x : 1 \ty : 0 \t 1\nfor문 ::  x : 1 \ty : 1 \t 1\nfor문 ::  x : 1 \ty : 2 \t 1\nfor문 ::  x : 2 \ty : 0 \t 1\nfor문 ::  x : 2 \ty : 1 \t 1\nfor문 ::  x : 2 \ty : 2 \t 1\nfor문 ::  x : 3 \ty : 0 \t 1\nfor문 ::  x : 3 \ty : 1 \t 1\nfor문 ::  x : 3 \ty : 2 \t 1\nfor문 ::  x : 4 \ty : 0 \t 1\nfor문 ::  x : 4 \ty : 1 \t 1\nfor문 ::  x : 4 \ty : 2 \t 1\n[[1, 1, 1, 1, 1], [1, 1, 1, 1, 1], [1, 1, 1, 1, 1]]\nwidth : 5 \thieght :  3\nfor문 ::  x : 0 \ty : 0 \t 1\nfor문 ::  x : 0 \ty : 1 \t 1\nfor문 ::  x : 0 \ty : 2 \t 1\nfor문 ::  x : 0 \ty : 3 \t 1\nfor문 ::  x : 0 \ty : 4 \t 1\nfor문 ::  x : 1 \ty : 0 \t 1\nfor문 ::  x : 1 \ty : 1 \t 1\nfor문 ::  x : 1 \ty : 2 \t 1\nfor문 ::  x : 1 \ty : 3 \t 1\nfor문 ::  x : 1 \ty : 4 \t 1\nfor문 ::  x : 2 \ty : 0 \t 1\nfor문 ::  x : 2 \ty : 1 \t 1\nfor문 ::  x : 2 \ty : 2 \t 1\nfor문 ::  x : 2 \ty : 3 \t 1\nfor문 ::  x : 2 \ty : 4 \t 1\n15\n"
     ]
    }
   ],
   "source": [
    "# 가장 큰 사각형의 넓이\n",
    "def square(square_list):\n",
    "    if square_list:\n",
    "        width = len(square_list[0])\n",
    "        height = len(square_list)\n",
    "        space = 0\n",
    "        for x in range(0,height):\n",
    "            for y in range(0,width):\n",
    "                if square_list[x][y] == 1:\n",
    "                    space+=1\n",
    "                else:\n",
    "\n",
    "                    a=square([i[:] for i in square_list[:x]]) # up\n",
    "                    b=square([i[:y] for i in square_list[:]]) # left\n",
    "                    c=square([i[y+1:] for i in square_list[:]]) # right\n",
    "                    d=square([i[:] for i in square_list[x+1:]]) # down          \n",
    "                    return max(a,b,c,d)\n",
    "        return space\n",
    "    else:\n",
    "        return 0\n",
    "\n",
    "\n",
    "\n",
    "# square_list = [[0,1,1,1],[1,1,1,1]]\n",
    "# print(square(square_list))\n",
    "# 6\n",
    "# square_list = [[0,0,1,1],[1,1,1,1],[1,1,1,1],[1,1,1,1]]\t\n",
    "# print(square(square_list))\n",
    "# #12\n",
    "# square_list = [[0,1,1,1,1],[1,1,1,1,1],[1,1,1,1,1],[1,1,1,1,1],[1,1,1,1,1]]\n",
    "square_list = [[1,1,1,1,1],[1,0,1,1,1],[1,1,1,1,1],[1,1,1,1,1],[1,1,1,1,1]]\n",
    "print(square(square_list))\n",
    "#20"
   ]
  },
  {
   "cell_type": "code",
   "execution_count": null,
   "metadata": {},
   "outputs": [],
   "source": []
  },
  {
   "cell_type": "code",
   "execution_count": 19,
   "metadata": {},
   "outputs": [
    {
     "output_type": "stream",
     "name": "stdout",
     "text": [
      "['s2', 's10', 's12', 's5']\n['s10', 's12', 's5']\n['s12', 's5']\n['s5']\n[('s1', 's2'), ('s2', 's10'), ('s2', 's12'), ('s2', 's5')]\n"
     ]
    }
   ],
   "source": [
    "def graph_algorithm(graph, start):\n",
    "    \n",
    "    node_list = list(graph) \n",
    "    node_list.remove(start)\n",
    "        \n",
    "    visit_node = [start]\n",
    "    path_list = []\n",
    "    next_node = None\n",
    "\n",
    "    while node_list:\n",
    "        print(node_list)\n",
    "        distance_of_node = 10\n",
    "        for start_index in visit_node:\n",
    "            # print(\"start_idx : \",start_index)\n",
    "            for distance_index in graph[start_index]:\n",
    "                if distance_index in visit_node or start_index == distance_index:\n",
    "                    ##### 소스코드 작성 #####\n",
    "                    # pass # 문제를 푸실 때 pass를 지워주세요\n",
    "                    continue\n",
    "                elif graph[start_index][distance_index] < distance_of_node:\n",
    "                    # print(graph[start_index][distance_index] ,distance_index)\n",
    "                    ##### 소스코드 작성 #####\n",
    "                    pre_node = start_index\n",
    "                    next_node = distance_index\n",
    "                    distance_of_node = graph[start_index][distance_index]\n",
    "                    # continue\n",
    "        path_list.append((pre_node, next_node))\n",
    "        visit_node.append(next_node)\n",
    "        node_list.remove(next_node)\n",
    "\n",
    "    return path_list\n",
    "\n",
    "\n",
    "weighted_graph = {  \n",
    "    \"s1\":{\"s1\": 0, \"s2\": 2, \"s10\": 3, \"s12\": 4, \"s5\":3},\n",
    "    \"s2\":{\"s1\": 1, \"s2\": 0, \"s10\": 2, \"s12\": 2, \"s5\":2},\n",
    "    \"s10\":{\"s1\": 2, \"s2\": 6, \"s10\": 0, \"s12\":3, \"s5\":4},\n",
    "    \"s12\":{\"s1\": 3, \"s2\": 5, \"s10\": 2, \"s12\":0,\"s5\":2},\n",
    "    \"s5\":{\"s1\": 3, \"s2\": 5, \"s10\": 2, \"s12\":4,\"s5\":0},\n",
    "}\n",
    "\n",
    "path_list2 = graph_algorithm(weighted_graph, 's1')\n",
    "print(path_list2)"
   ]
  },
  {
   "cell_type": "code",
   "execution_count": null,
   "metadata": {},
   "outputs": [],
   "source": []
  },
  {
   "cell_type": "code",
   "execution_count": 66,
   "metadata": {},
   "outputs": [
    {
     "output_type": "stream",
     "name": "stdout",
     "text": [
      "1001\n"
     ]
    },
    {
     "output_type": "execute_result",
     "data": {
      "text/plain": [
       "884"
      ]
     },
     "metadata": {},
     "execution_count": 66
    }
   ],
   "source": [
    "def coin_exchange(piece_price, piece_price_len, total_price):\n",
    "\n",
    "    way_of_number = [0 for temp in range(total_price + 1)]\n",
    "    print(len(way_of_number))\n",
    "    way_of_number[0] = 1\n",
    "    ##### 소스코드 작성 #####\n",
    "    for c,coin in enumerate(piece_price):\n",
    "        for price,way in enumerate(way_of_number):\n",
    "            if price >= coin:\n",
    "                way_of_number[price]+=way_of_number[price-coin]\n",
    "                # if price % coin ==0 :\n",
    "                #     if c==0:\n",
    "                #         way_of_number[price]+=1\n",
    "                #     else:\n",
    "                #         way_of_number[price]+= price//coin-1\n",
    "                # else:\n",
    "\n",
    "        \n",
    "        # print(coin)\n",
    "        # print(way_of_number)\n",
    "            # elif \n",
    "            \n",
    "            \n",
    "\n",
    "\n",
    "    \n",
    "\n",
    "    return way_of_number[total_price]\n",
    "# coin_exchange([10,20,30], 3, 40) # == 4 #, \"100원 200원 300원으로 400원을 만들 수 있는 방법은 4가지 입니다.\"\n",
    "# coin_exchange([100,200,300], 3, 400) # == 4 #, \"100원 200원 300원으로 400원을 만들 수 있는 방법은 4가지 입니다.\"\n",
    "# coin_exchange([10,20,30], 3, 50) # == 5 #, \"10원 20원 30원으로 50원을 만들 수 있는 방법은 5가지 입니다.\"\n",
    "coin_exchange([10,20,30], 3, 1000) # == 884 #, \"10원 20원 30원으로 1000원을 만들 수 있는 방법은 884가지 입니다.\"\n",
    "    \n"
   ]
  },
  {
   "cell_type": "code",
   "execution_count": 3,
   "metadata": {},
   "outputs": [
    {
     "output_type": "execute_result",
     "data": {
      "text/plain": [
       "6"
      ]
     },
     "metadata": {},
     "execution_count": 3
    }
   ],
   "source": [
    "def solution(coins, N):\n",
    "    answer=0\n",
    "    coins = sorted(coins, reverse=True)\n",
    "    for coin in coins:\n",
    "        answer += N // coin\n",
    "        N = N % coin\n",
    "    return answer\n",
    "solution([10,50,100,500], 1260)"
   ]
  },
  {
   "cell_type": "code",
   "execution_count": 26,
   "metadata": {},
   "outputs": [
    {
     "output_type": "stream",
     "name": "stdout",
     "text": [
      "11475\n"
     ]
    }
   ],
   "source": [
    "def solution(n):\n",
    "    cnt=0\n",
    "    for h in range(n+1):\n",
    "        for m in range(60):\n",
    "            for s in range(60):\n",
    "                if '3' in str(h)+str(m)+str(s):cnt+=1\n",
    "    return cnt\n",
    "print(solution(5))\n",
    "\n",
    "def solution(n):\n",
    "    cnt=0\n",
    "    for h in range(n):\n",
    "        if '3' in str(h):\n",
    "            cnt+=1\n",
    "    cnt*=3600\n",
    "    for m in range(60):\n",
    "        if '3' in str(m):\n",
    "            cnt+=1\n",
    "    cnt*=60\n",
    "\n",
    "    \n",
    "    return cnt\n",
    "# solution(5)"
   ]
  },
  {
   "cell_type": "code",
   "execution_count": 33,
   "metadata": {},
   "outputs": [
    {
     "output_type": "execute_result",
     "data": {
      "text/plain": [
       "6"
      ]
     },
     "metadata": {},
     "execution_count": 33
    }
   ],
   "source": [
    "def solution(n,m,k):\n",
    "    answer = 0\n",
    "    # table = {i:0 for i in range(1,n+1)}\n",
    "    table = [0 for i in range(n)]\n",
    "    bomb=1\n",
    "    while True:\n",
    "        table[bomb] += 1\n",
    "        if table[bomb] == m : break\n",
    "        elif table[bomb] % 2 == 0: #짝수번받음\n",
    "            bomb=(bomb + k) % n\n",
    "        else:\n",
    "            bomb=(bomb - k) % n\n",
    "        answer+=1\n",
    "    return answer\n",
    "solution(3,3,2)"
   ]
  },
  {
   "cell_type": "code",
   "execution_count": 37,
   "metadata": {},
   "outputs": [
    {
     "output_type": "execute_result",
     "data": {
      "text/plain": [
       "[3, 2, 1]"
      ]
     },
     "metadata": {},
     "execution_count": 37
    }
   ],
   "source": [
    "list(reversed([1,2,3]))"
   ]
  },
  {
   "cell_type": "code",
   "execution_count": 105,
   "metadata": {},
   "outputs": [
    {
     "output_type": "execute_result",
     "data": {
      "text/plain": [
       "{1, 2}"
      ]
     },
     "metadata": {},
     "execution_count": 105
    }
   ],
   "source": [
    "\n",
    "# c,k  = [[1,1],[2,1],[3,1],[2,0],[2,1]]\t,2\t#[1,3]\n",
    "# c,k = [[2,1],[1,1],[3,1],[1,0],[1,1],[2,0],[2,1]],1  #[3]\n",
    "# c,k=[[4, 1], [3, 1], [2, 1], [4, 0], [1, 1], [1, 0], [4, 1], [4, 0]],3 #[2,3]\n",
    "# c,k=[[2, 1], [3, 1], [4, 1], [3, 0], [1, 1], [2, 0], [4, 0], [2, 1]],3 #[1,2]\n",
    "# c,k=[[3, 1], [4, 1], [4, 0], [3, 0], [2, 1], [1, 1]],3 #[1,2]\n",
    "\n",
    "def solution(customer=c, K=k):\n",
    "    rooms=set()\n",
    "    que=[]\n",
    "    for cus, order in customer:\n",
    "        if order: # 1 :예약의 경우\n",
    "            if len(rooms)<K: \n",
    "                rooms.add(cus)\n",
    "            else:\n",
    "                que.append(cus)\n",
    "        else: # 0 : 취소의 경우\n",
    "            if cus in rooms:\n",
    "                rooms.discard(cus)                \n",
    "                if que:\n",
    "                    rooms.add(que[0])\n",
    "                    que = que[1:]\n",
    "            else:\n",
    "                que.remove(cus)\n",
    "    return rooms\n",
    "    # return sorted(rooms)\n",
    "solution()"
   ]
  },
  {
   "cell_type": "code",
   "execution_count": 65,
   "metadata": {},
   "outputs": [
    {
     "output_type": "stream",
     "name": "stdout",
     "text": [
      "1 1\n{1: 1} []\n2 1\n{1: 1, 2: 1} []\n3 1\n{1: 1, 2: 1} [3]\n2 0\n{1: 1, 3: 1} []\n2 1\n{1: 1, 3: 1} [2]\n"
     ]
    },
    {
     "output_type": "execute_result",
     "data": {
      "text/plain": [
       "[1, 3]"
      ]
     },
     "metadata": {},
     "execution_count": 65
    }
   ],
   "source": [
    "def solution(customer=c, K=k):\n",
    "    rooms={}\n",
    "    que=[]\n",
    "    for cus, order in customer:\n",
    "        print(cus,order)\n",
    "        if order: # 1 :예약의 경우\n",
    "            if len(rooms)<K: \n",
    "                rooms[cus]=1\n",
    "            else:\n",
    "                que.append(cus)\n",
    "        else: # 0 : 취소의 경우\n",
    "            if cus in rooms:\n",
    "                if que:\n",
    "                    rooms[que[0]]=1\n",
    "                    que = que[1:]\n",
    "                del(rooms[cus])\n",
    "            else:\n",
    "                idx=que.index(cus)\n",
    "                que.pop(idx)\n",
    "        print(rooms, que)\n",
    "    return sorted(rooms)\n",
    "    \n",
    "c,k  = [[1,1],[2,1],[3,1],[2,0],[2,1]]\t,2\t#[1,3]\n",
    "# c,k = [[2,1],[1,1],[3,1],[1,0],[1,1],[2,0],[2,1]],1  #[3]    \n",
    "solution(c,k)"
   ]
  },
  {
   "cell_type": "code",
   "execution_count": 108,
   "metadata": {},
   "outputs": [
    {
     "output_type": "execute_result",
     "data": {
      "text/plain": [
       "[2, 3]"
      ]
     },
     "metadata": {},
     "execution_count": 108
    }
   ],
   "source": [
    "from collections import deque\n",
    "def solution(customer, K):\n",
    "    rooms={}\n",
    "    que=deque([])\n",
    "    for cus, order in customer:\n",
    "        if order: # 1 :예약의 경우\n",
    "            if len(rooms)<K: \n",
    "                rooms[cus]=1\n",
    "            else:\n",
    "                que.append(cus)\n",
    "        else: # 0 : 취소의 경우\n",
    "            if cus in rooms:\n",
    "                # if que:\n",
    "                #     rooms[que.popleft()]=1\n",
    "                del(rooms[cus])\n",
    "            else:\n",
    "                que.remove(cus)\n",
    "    return sorted(rooms)\n",
    "c,k=[[4, 1], [3, 1], [2, 1], [4, 0], [1, 1], [1, 0], [4, 1], [4, 0]],3  #[2,3]\n",
    "solution(c,k)"
   ]
  },
  {
   "cell_type": "code",
   "execution_count": 72,
   "metadata": {},
   "outputs": [
    {
     "output_type": "stream",
     "name": "stdout",
     "text": [
      "2\n1\n0\n"
     ]
    }
   ],
   "source": [
    "\n",
    "for b in range(3-1,-1,-1):\n",
    "    print(b)"
   ]
  },
  {
   "cell_type": "code",
   "execution_count": 110,
   "metadata": {},
   "outputs": [
    {
     "output_type": "execute_result",
     "data": {
      "text/plain": [
       "[2, 3, 5, -1, 2]"
      ]
     },
     "metadata": {},
     "execution_count": 110
    }
   ],
   "source": [
    "def solution(truck, w):\n",
    "    answer = []\n",
    "    # trucks = {i:v for i in truck}\n",
    "    for b in range(len(w)):\n",
    "        for i in range(len(truck)):\n",
    "            if truck[i] >= w[b]:\n",
    "                answer.append(i+1)\n",
    "                truck[i]-=w[b]\n",
    "                break\n",
    "        if len(answer) ==b: # 트럭에 넣은 박스\n",
    "            answer.append(-1)\n",
    "    return answer\n",
    "\n",
    "solution([1,4,5,2,4], [2,4,4,3,2])\n",
    "# solution([2,7,4,9],[7,6,8])"
   ]
  },
  {
   "cell_type": "code",
   "execution_count": 123,
   "metadata": {},
   "outputs": [
    {
     "output_type": "execute_result",
     "data": {
      "text/plain": [
       "[2, 4, -1]"
      ]
     },
     "metadata": {},
     "execution_count": 123
    }
   ],
   "source": [
    "def solution(truck, w):\n",
    "    answer = []\n",
    "    answerlen=0\n",
    "    trucks = {i+1 : v for i,v in enumerate(truck)}\n",
    "    for b in range(len(w)):\n",
    "        for key in trucks:\n",
    "            if trucks[key] >= w[b]:\n",
    "                answer.append(key)\n",
    "                answerlen+=1\n",
    "                if trucks[key]==w[b]:\n",
    "                    del(trucks[key])\n",
    "                else:\n",
    "                    trucks[key]-=w[b]\n",
    "                break\n",
    "        if answerlen == b: # 트럭에 넣은 박스\n",
    "            answer.append(-1)\n",
    "            answerlen+=1\n",
    "    return answer\n",
    "\n",
    "# solution([1,4,5,2,4], [2,4,4,3,2])\n",
    "# solution([2,7,4,9],[7,6,8])"
   ]
  },
  {
   "cell_type": "code",
   "execution_count": 161,
   "metadata": {},
   "outputs": [
    {
     "output_type": "execute_result",
     "data": {
      "text/plain": [
       "(8, 0)"
      ]
     },
     "metadata": {},
     "execution_count": 161
    }
   ],
   "source": [
    "divmod(16,2)"
   ]
  },
  {
   "cell_type": "code",
   "execution_count": 189,
   "metadata": {},
   "outputs": [
    {
     "output_type": "execute_result",
     "data": {
      "text/plain": [
       "'10'"
      ]
     },
     "metadata": {},
     "execution_count": 189
    }
   ],
   "source": [
    "# int('16',8)\n",
    "# int(str(divmod(50,8)[0]) + str(divmod(50,8)[1]) , 8)\n",
    "def divdp(n, div):\n",
    "    words = \"0123456789ABCDEF\"\n",
    "    ans=\"\"\n",
    "    tmp=[]\n",
    "    while n>=div:\n",
    "        tmp.append(divmod(n,div)[1])\n",
    "        n=divmod(n,div)[0]\n",
    "    # tmp.append(divmod(n,div)[0])\n",
    "    tmp.append(divmod(n,div)[1])\n",
    "    while tmp:\n",
    "        ans+=words[tmp.pop()]\n",
    "    return ans\n",
    "\n",
    "divdp(16,16)\n"
   ]
  },
  {
   "cell_type": "code",
   "execution_count": 201,
   "metadata": {},
   "outputs": [
    {
     "output_type": "stream",
     "name": "stdout",
     "text": [
      "0123456789ABCDEF101112131415161718191A1B1C1D1E1F\n"
     ]
    },
    {
     "output_type": "execute_result",
     "data": {
      "text/plain": [
       "'13579BDF01234567'"
      ]
     },
     "metadata": {},
     "execution_count": 201
    }
   ],
   "source": [
    "# n진수 게임 (카카오 2018블라인드)\n",
    "def solution(n,t,m,p):\n",
    "    def getdiv(n, div):\n",
    "        words = \"0123456789ABCDEF\"\n",
    "        ans=\"\"\n",
    "        tmp=[]\n",
    "        while n>=div:\n",
    "            tmp.append(divmod(n,div)[1])\n",
    "            n=divmod(n,div)[0]\n",
    "        tmp.append(divmod(n,div)[1])\n",
    "        while tmp:\n",
    "            ans+=words[tmp.pop()]\n",
    "        return ans\n",
    "    start=0\n",
    "    tmp = ''\n",
    "    while len(tmp)< (t)*(m+1) :\n",
    "        tmp +=  getdiv(start,n)\n",
    "        start+=1\n",
    "    answer = \"\"\n",
    "    idx = p-1\n",
    "    while len(answer) < t :\n",
    "        answer+=tmp[idx]\n",
    "        idx += m\n",
    "    return answer\n",
    "# n,t,m,p = 2,4,2,1\n",
    "# n,t,m,p = 16,16,2,1\n",
    "n,t,m,p = 16,16,2,2\n",
    "solution(n,t,m,p) # n진법, 미리구할 수 t, 게임인원 m , 튜브의 순서 p"
   ]
  }
 ],
 "metadata": {
  "kernelspec": {
   "name": "python394jvsc74a57bd0cb21448086e1b039f0143f4b6f3949a0ab18b782485cd082e49e693fdc0e34f1",
   "display_name": "Python 3.9.4 64-bit ('base': conda)"
  },
  "language_info": {
   "codemirror_mode": {
    "name": "ipython",
    "version": 3
   },
   "file_extension": ".py",
   "mimetype": "text/x-python",
   "name": "python",
   "nbconvert_exporter": "python",
   "pygments_lexer": "ipython3",
   "version": "3.9.4"
  },
  "metadata": {
   "interpreter": {
    "hash": "cb21448086e1b039f0143f4b6f3949a0ab18b782485cd082e49e693fdc0e34f1"
   }
  }
 },
 "nbformat": 4,
 "nbformat_minor": 4
}