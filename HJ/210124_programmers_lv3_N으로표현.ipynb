{
 "cells": [
  {
   "cell_type": "code",
   "execution_count": 39,
   "metadata": {},
   "outputs": [
    {
     "output_type": "stream",
     "name": "stdout",
     "text": [
      "1 [set(), {2}, {22}, {222}, {2222}, {22222}, {222222}, {2222222}]\n2 [set(), {2}, {22}, {222}, {2222}, {22222}, {222222}, {2222222}]\n2 [set(), {2}, {0, 1, 4, 22}, {222}, {2222}, {22222}, {222222}, {2222222}]\n3 [set(), {2}, {0, 1, 4, 22}, {222}, {2222}, {22222}, {222222}, {2222222}]\n3 [set(), {2}, {0, 1, 4, 22}, {0, 1, 2, 3, 6, 8, -20, 44, -2, 24, 222}, {2222}, {22222}, {222222}, {2222222}]\n3 [set(), {2}, {0, 1, 4, 22}, {0, 1, 2, 3, 6, 8, 11, -20, 44, 20, -2, -1, 24, 222}, {2222}, {22222}, {222222}, {2222222}]\n"
     ]
    },
    {
     "output_type": "execute_result",
     "data": {
      "text/plain": [
       "3"
      ]
     },
     "metadata": {},
     "execution_count": 39
    }
   ],
   "source": [
    "def solution(n,num):\n",
    "    answer=0\n",
    "\n",
    "    if n==num: return 1\n",
    "    s=[set() for _ in range(8)]\n",
    "    \n",
    "    for i,v in enumerate(s):\n",
    "        if i==0:continue\n",
    "        v.add(int(str(n)*i))\n",
    "    \n",
    "    for i in range(1,8):\n",
    "        for j in range(i):\n",
    "            for op1 in s[j]:\n",
    "                for op2 in s[i-j]:\n",
    "                    s[i].add(op1+op2)\n",
    "                    s[i].add(op1-op2)\n",
    "                    s[i].add(op1*op2)\n",
    "                    if op2 !=0: s[i].add(op1//op2)\n",
    "            print(i,s)\n",
    "        if num in s[i]:return i\n",
    "\n",
    "    return -1\n",
    "\n",
    "solution(2,11)"
   ]
  },
  {
   "cell_type": "code",
   "execution_count": null,
   "metadata": {},
   "outputs": [],
   "source": []
  },
  {
   "cell_type": "code",
   "execution_count": 40,
   "metadata": {},
   "outputs": [
    {
     "output_type": "execute_result",
     "data": {
      "text/plain": [
       "3"
      ]
     },
     "metadata": {},
     "execution_count": 40
    }
   ],
   "source": [
    "# SOLUTION\n",
    "def solution(n,num):\n",
    "    answer=0\n",
    "    if n==num: return 1\n",
    "    s=[set() for _ in range(9)]\n",
    "    for i,v in enumerate(s):\n",
    "        if i==0:continue\n",
    "        v.add(int(str(n)*i))\n",
    "    for i in range(1,9):\n",
    "        for j in range(i):\n",
    "            for x in s[j]:\n",
    "                for y in s[i-j]:\n",
    "                    s[i].add(x+y)\n",
    "                    s[i].add(x-y)\n",
    "                    s[i].add(x*y)\n",
    "                    if y !=0: s[i].add(x//y)\n",
    "            if num in s[i]:return i\n",
    "    return -1\n",
    "solution(2,11)"
   ]
  },
  {
   "cell_type": "code",
   "execution_count": null,
   "metadata": {},
   "outputs": [],
   "source": []
  },
  {
   "cell_type": "code",
   "execution_count": null,
   "metadata": {},
   "outputs": [],
   "source": []
  },
  {
   "cell_type": "code",
   "execution_count": null,
   "metadata": {},
   "outputs": [],
   "source": []
  },
  {
   "cell_type": "code",
   "execution_count": null,
   "metadata": {},
   "outputs": [],
   "source": []
  },
  {
   "cell_type": "code",
   "execution_count": null,
   "metadata": {},
   "outputs": [],
   "source": []
  },
  {
   "cell_type": "code",
   "execution_count": null,
   "metadata": {},
   "outputs": [],
   "source": []
  },
  {
   "source": [
    "def solution(N, number):\n",
    "    answer = -1\n",
    "    DP = []\n",
    "\n",
    "    for i in range(1, 9):\n",
    "        numbers = set()\n",
    "        numbers.add( int(str(N) * i) )\n",
    "        \n",
    "        for j in range(0, i-1):\n",
    "            for x in DP[j]:\n",
    "                for y in DP[-j-1]:\n",
    "                    numbers.add(x + y)\n",
    "                    numbers.add(x - y)\n",
    "                    numbers.add(x * y)\n",
    "                    \n",
    "                    if y != 0:\n",
    "                        numbers.add(x // y)\n",
    "\n",
    "        if number in numbers:\n",
    "            answer = i\n",
    "            break\n",
    "        \n",
    "        DP.append(numbers)\n",
    "\n",
    "    return answer"
   ],
   "cell_type": "code",
   "metadata": {},
   "execution_count": null,
   "outputs": []
  },
  {
   "cell_type": "code",
   "execution_count": null,
   "metadata": {},
   "outputs": [],
   "source": []
  },
  {
   "cell_type": "code",
   "execution_count": null,
   "metadata": {},
   "outputs": [],
   "source": []
  },
  {
   "cell_type": "code",
   "execution_count": null,
   "metadata": {},
   "outputs": [],
   "source": []
  },
  {
   "cell_type": "markdown",
   "metadata": {},
   "source": [
    "#### 공부해볼만한 코드"
   ]
  },
  {
   "cell_type": "code",
   "execution_count": null,
   "metadata": {},
   "outputs": [],
   "source": [
    "# 문제가 개편되었습니다. 이로 인해 함수 구성이나 테스트케이스가 변경되어, 과거의 코드는 동작하지 않을 수 있습니다.\n",
    "# 새로운 함수 구성을 적용하려면 [코드 초기화] 버튼을 누르세요. 단, [코드 초기화] 버튼을 누르면 작성 중인 코드는 사라집니다.\n",
    "answer = -1\n",
    "\n",
    "def DFS(n, pos, num, number, s):\n",
    "    global answer\n",
    "    if pos > 8:\n",
    "        return\n",
    "    if num == number:\n",
    "        if pos < answer or answer == -1:\n",
    "            #print(s)            \n",
    "            answer=pos\n",
    "        return\n",
    "\n",
    "    nn=0\n",
    "    for i in range(8):\n",
    "        nn=nn*10+n\n",
    "        DFS(n, pos+1+i, num+nn, number, s+'+')\n",
    "        DFS(n, pos+1+i, num-nn, number, s+'-')\n",
    "        DFS(n, pos+1+i, num*nn, number, s+'*')\n",
    "        DFS(n, pos+1+i, num/nn, number, s+'/')\n",
    "\n",
    "def solution(N, number):    \n",
    "    DFS(N, 0, 0, number, '')    \n",
    "    return answer"
   ]
  },
  {
   "cell_type": "code",
   "execution_count": null,
   "metadata": {},
   "outputs": [],
   "source": []
  }
 ],
 "metadata": {
  "kernelspec": {
   "display_name": "Python 3",
   "language": "python",
   "name": "python3"
  },
  "language_info": {
   "codemirror_mode": {
    "name": "ipython",
    "version": 3
   },
   "file_extension": ".py",
   "mimetype": "text/x-python",
   "name": "python",
   "nbconvert_exporter": "python",
   "pygments_lexer": "ipython3",
   "version": "3.8.3-final"
  },
  "toc": {
   "base_numbering": 1,
   "nav_menu": {},
   "number_sections": true,
   "sideBar": true,
   "skip_h1_title": false,
   "title_cell": "Table of Contents",
   "title_sidebar": "Contents",
   "toc_cell": false,
   "toc_position": {},
   "toc_section_display": true,
   "toc_window_display": false
  }
 },
 "nbformat": 4,
 "nbformat_minor": 4
}