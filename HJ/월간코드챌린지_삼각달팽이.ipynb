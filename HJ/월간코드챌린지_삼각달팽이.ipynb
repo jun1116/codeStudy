{
 "cells": [
  {
   "cell_type": "markdown",
   "metadata": {},
   "source": [
    "문제 설명\n",
    "정수 n이 매개변수로 주어집니다. 다음 그림과 같이 밑변의 길이와 높이가 n인 삼각형에서 맨 위 꼭짓점부터 반시계 방향으로 달팽이 채우기를 진행한 후, 첫 행부터 마지막 행까지 모두 순서대로 합친 새로운 배열을 return 하도록 solution 함수를 완성해주세요.\n",
    "<!-- ![image.png](attachment:image.png) -->\n",
    "\n",
    "n\tresult\n",
    "4\t[1,2,9,3,10,8,4,5,6,7]\n",
    "5\t[1,2,12,3,13,11,4,14,15,10,5,6,7,8,9]\n",
    "6\t[1,2,15,3,16,14,4,17,21,13,5,18,19,20,12,6,7,8,9,10,11]\n"
   ]
  },
  {
   "cell_type": "markdown",
   "metadata": {},
   "source": [
    "일단, "
   ]
  },
  {
   "cell_type": "code",
   "execution_count": 139,
   "metadata": {},
   "outputs": [
    {
     "data": {
      "text/plain": [
       "[[1, 0, 0, 0, 0],\n",
       " [2, 12, 0, 0, 0],\n",
       " [3, 13, 11, 0, 0],\n",
       " [4, 14, 18, 10, 0],\n",
       " [5, 6, 7, 8, 9]]"
      ]
     },
     "execution_count": 139,
     "metadata": {},
     "output_type": "execute_result"
    }
   ],
   "source": [
    "# 처음 작성했던 코드로, 이 코드는 실패\n",
    "def solution(n):\n",
    "    answer=[]\n",
    "    mat = [[0 for j in range(n)] for i in range(n)]\n",
    "    def recur(mat, x, y, startvalue, n):\n",
    "        if mat[x][y]==0:\n",
    "            try:\n",
    "                for i in range(n):\n",
    "                    startvalue += 1\n",
    "                    if mat[x][y] == 0:\n",
    "                        mat[x][y] = startvalue\n",
    "                        x+=1\n",
    "            except:\n",
    "                startvalue-=1\n",
    "            x-=1\n",
    "            y+=1\n",
    "            try:\n",
    "                for i in range(n-1):\n",
    "                    startvalue+=1\n",
    "                    if mat[x][y]==0:\n",
    "                        mat[x][y]=startvalue\n",
    "                        y+=1\n",
    "            except: \n",
    "                startvalue-=1\n",
    "            y-=2\n",
    "            x-=1\n",
    "            try:\n",
    "                for i in range(n-2):\n",
    "                    if mat[x][y]==0:\n",
    "                        startvalue+=1\n",
    "                        mat[x][y]= startvalue\n",
    "#                         startvalue+=1\n",
    "                        x-=1\n",
    "                        y-=1\n",
    "            except: \n",
    "                startvalue-=1\n",
    "            \n",
    "            return recur(mat, x+2, y+1, startvalue, n)\n",
    "        else:\n",
    "            return mat\n",
    "    ans = recur(mat, x=0, y=0, startvalue=0, n=n)\n",
    "    for a in ans:\n",
    "        for b in a:\n",
    "            if b!=0:answer.append(b)\n",
    "    return mat\n",
    "solution(5)"
   ]
  },
  {
   "cell_type": "code",
   "execution_count": 160,
   "metadata": {},
   "outputs": [
    {
     "data": {
      "text/plain": [
       "[1]"
      ]
     },
     "execution_count": 160,
     "metadata": {},
     "output_type": "execute_result"
    }
   ],
   "source": [
    "# 놓쳤던 테스트 케이스를 찾아가며, n이 1,2일때의 보완 + recursive하게 진행될 때 처리\n",
    "def solution(n):\n",
    "    answer=[]\n",
    "    mat = [[0 for j in range(n)] for i in range(n)]\n",
    "    if n==1:return[1]\n",
    "    if n==2:return[1,2,3]\n",
    "    def recur(mat, x, y, startvalue, n):\n",
    "        if mat[x][y]==0:\n",
    "            try:\n",
    "                for i in range(n):\n",
    "                    if mat[x][y] == 0:\n",
    "                        mat[x][y] = startvalue\n",
    "                        x+=1\n",
    "                        startvalue += 1\n",
    "            except:pass\n",
    "            x-=1\n",
    "            y+=1\n",
    "            try:\n",
    "                for i in range(n-1):\n",
    "                    if mat[x][y]==0:\n",
    "                        mat[x][y]=startvalue\n",
    "                        startvalue+=1\n",
    "                        y+=1\n",
    "            except: \n",
    "                pass\n",
    "            y-=2\n",
    "            x-=1\n",
    "            try:\n",
    "                for i in range(n-2):\n",
    "                    if mat[x][y]==0:\n",
    "                        mat[x][y]= startvalue\n",
    "                        startvalue+=1\n",
    "                        x-=1\n",
    "                        y-=1\n",
    "            except: \n",
    "                pass\n",
    "            \n",
    "            return recur(mat, x+2, y+1, startvalue, n)\n",
    "        else:\n",
    "            return mat\n",
    "    ans = recur(mat, x=0, y=0, startvalue=1, n=n)\n",
    "    for a in ans:\n",
    "        for b in a:\n",
    "            if b!=0:answer.append(b)\n",
    "    return answer\n",
    "solution(1)"
   ]
  },
  {
   "cell_type": "code",
   "execution_count": null,
   "metadata": {},
   "outputs": [],
   "source": []
  }
 ],
 "metadata": {
  "kernelspec": {
   "display_name": "Python 3",
   "language": "python",
   "name": "python3"
  },
  "language_info": {
   "codemirror_mode": {
    "name": "ipython",
    "version": 3
   },
   "file_extension": ".py",
   "mimetype": "text/x-python",
   "name": "python",
   "nbconvert_exporter": "python",
   "pygments_lexer": "ipython3",
   "version": "3.8.5"
  }
 },
 "nbformat": 4,
 "nbformat_minor": 4
}
