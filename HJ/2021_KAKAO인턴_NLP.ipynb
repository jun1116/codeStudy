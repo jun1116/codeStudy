{
 "metadata": {
  "language_info": {
   "codemirror_mode": {
    "name": "ipython",
    "version": 3
   },
   "file_extension": ".py",
   "mimetype": "text/x-python",
   "name": "python",
   "nbconvert_exporter": "python",
   "pygments_lexer": "ipython3",
   "version": "3.8.5"
  },
  "orig_nbformat": 2,
  "kernelspec": {
   "name": "python385jvsc74a57bd066725da8cd7a014ad20077260537a77858d60878c0d94adc7d9ed308e4bb2094",
   "display_name": "Python 3.8.5 64-bit ('codestates': conda)"
  },
  "metadata": {
   "interpreter": {
    "hash": "66725da8cd7a014ad20077260537a77858d60878c0d94adc7d9ed308e4bb2094"
   }
  }
 },
 "nbformat": 4,
 "nbformat_minor": 2,
 "cells": [
  {
   "cell_type": "code",
   "execution_count": 19,
   "metadata": {},
   "outputs": [
    {
     "output_type": "stream",
     "name": "stdout",
     "text": [
      "{'f': [2, 0], 'a': [3, 1], 'l': [2, 2]}\n"
     ]
    },
    {
     "output_type": "execute_result",
     "data": {
      "text/plain": [
       "-1"
      ]
     },
     "metadata": {},
     "execution_count": 19
    }
   ],
   "source": [
    "# 1. \n",
    "# s = 'statistics'\n",
    "s = 'hackthegame'\n",
    "s='falafal'\n",
    "def solution(s):\n",
    "    ans={}\n",
    "    for i,v in enumerate(s):\n",
    "        if v in ans:\n",
    "            ans[v][0]+=1\n",
    "        else:\n",
    "            ans[v]=[1,i]\n",
    "    print(ans)\n",
    "    # print(ans['s'][0])\n",
    "    answer=[]\n",
    "    for i in ans:\n",
    "        if ans[i][0]>1:\n",
    "            pass\n",
    "        else:\n",
    "            answer.append(ans[i])\n",
    "    # print(answer)\n",
    "    if answer:\n",
    "        answer = sorted(answer)\n",
    "        return answer[0][1]+1\n",
    "    else:\n",
    "        return -1\n",
    "solution(s)"
   ]
  },
  {
   "cell_type": "code",
   "execution_count": 94,
   "metadata": {},
   "outputs": [
    {
     "output_type": "stream",
     "name": "stdout",
     "text": [
      "5 120\n[5]\n5\n"
     ]
    },
    {
     "output_type": "execute_result",
     "data": {
      "text/plain": [
       "5"
      ]
     },
     "metadata": {},
     "execution_count": 94
    }
   ],
   "source": [
    "def solution(n):\n",
    "    def getfacto(n):\n",
    "        if n==0:return 1\n",
    "        lenfacto = len(facto)\n",
    "        while len(facto) < n : \n",
    "            lenfacto += 1\n",
    "            facto.append(facto[-1]*lenfacto)\n",
    "\n",
    "        return facto[n-1]\n",
    "\n",
    "    def getteam(n):\n",
    "        tmp=0\n",
    "        while n>0:\n",
    "            tmp += getfacto(n%10)\n",
    "            n = n//10\n",
    "        return tmp\n",
    "    \n",
    "    facto = [1,2,6]\n",
    "    teamlist = [n,]\n",
    "    teamleader = n\n",
    "\n",
    "    while True:\n",
    "        now = getteam(teamlist[-1])\n",
    "        print(teamlist)\n",
    "        break\n",
    "        teamleader = max(teamleader, now)\n",
    "        if now in teamlist:\n",
    "            break\n",
    "        else:\n",
    "            teamlist.append(now)\n",
    "    print(teamleader)\n",
    "    return teamleader * len(teamlist)\n",
    "\n",
    "solution(5)"
   ]
  },
  {
   "source": [
    "3번 케로와 베로니의 책 사진 찍기\n"
   ],
   "cell_type": "markdown",
   "metadata": {}
  },
  {
   "cell_type": "code",
   "execution_count": 140,
   "metadata": {
    "tags": []
   },
   "outputs": [
    {
     "output_type": "stream",
     "name": "stdout",
     "text": [
      "0 0 1 [1]\n0 1 2 [1, 2]\n0 2 3 [1, 2, 3]\n0 3 4 [1, 2, 3, 4]\n0 4 5 [1, 2, 3, 4, 4]\n0 5 6 [1, 2, 3, 4, 4, 8]\n0 5 7 [1, 2, 3, 4, 4, 8, 2]\n0 5 7 [[1, 2, 3, 4, 4, 8, 2]]\n"
     ]
    }
   ],
   "source": [
    "def solution(arr):\n",
    "    if len(arr)<=2:return len(arr)\n",
    "    s,m,e=0,0,1\n",
    "    answerlist=[]\n",
    "    tmp=[arr[0],]\n",
    "    while s<len(arr) and e<len(arr):\n",
    "        print(s,m,e,tmp)\n",
    "        if arr[e]>=arr[m] : \n",
    "            tmp.append(arr[e])\n",
    "            m=e\n",
    "            e+=1\n",
    "        else:\n",
    "            if arr[e-1]>=arr[e]:\n",
    "                tmp.append(arr[e])\n",
    "                e+=1\n",
    "            else:\n",
    "                answerlist.append(tmp)\n",
    "                s=m\n",
    "                tmp=[]\n",
    "                \n",
    "                break\n",
    "            \n",
    "\n",
    "\n",
    "    print(s,m,e , answerlist)\n",
    "\n",
    "        \n",
    "\n",
    "\n",
    "# solution([7, 3, 4, 4, 8, 2, 5, 1])\n",
    "solution([1, 2, 3, 4, 4, 8, 2 ,5, 1])"
   ]
  },
  {
   "cell_type": "code",
   "execution_count": null,
   "metadata": {},
   "outputs": [],
   "source": []
  },
  {
   "cell_type": "code",
   "execution_count": null,
   "metadata": {},
   "outputs": [],
   "source": []
  }
 ]
}