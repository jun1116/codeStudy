{
 "cells": [
  {
   "cell_type": "code",
   "execution_count": 53,
   "metadata": {},
   "outputs": [
    {
     "output_type": "stream",
     "name": "stdout",
     "text": [
      "[[1, 1, 0, 0], [1, 1, 1, 1], [0, 1, 1, 1]]\n[[1, 1, 0, 0], [1, 2, 2, 2], [0, 2, 4, 6]]\n"
     ]
    },
    {
     "output_type": "execute_result",
     "data": {
      "text/plain": [
       "6"
      ]
     },
     "metadata": {},
     "execution_count": 53
    }
   ],
   "source": [
    "def solution(m, n, puddles):\n",
    "    answer = 0\n",
    "    mat=[[1]*m for _ in range(n)]\n",
    "    for y,x in puddles:\n",
    "        i=x-1\n",
    "        j=y-1\n",
    "        mat[i][j]=0\n",
    "        if i==0:\n",
    "            for k in range(j,m):\n",
    "                mat[0][k]=0\n",
    "        if j==0:\n",
    "            for k in range(i,n):\n",
    "                mat[k][0]=0\n",
    "    # print(mat)\n",
    "    for i in range(1,n):\n",
    "        for j in range(1,m):\n",
    "            if mat[i][j] > 0 :\n",
    "                mat[i][j] = mat[i-1][j] + mat[i][j-1]\n",
    "    # print(mat)\n",
    "    return mat[n-1][m-1]\n",
    "\n",
    "\n",
    "m=4\n",
    "n=3\n",
    "puddles=[[1,3],[3,1]]\n",
    "solution(m,n,puddles)"
   ]
  },
  {
   "cell_type": "code",
   "execution_count": null,
   "metadata": {},
   "outputs": [],
   "source": []
  },
  {
   "cell_type": "code",
   "execution_count": null,
   "metadata": {},
   "outputs": [],
   "source": [
    "def solution(m, n, puddles):\n",
    "    dp = [[1]*m for _i in range(n)]\n",
    "    \n",
    "    for x,y in puddles:\n",
    "        dp[y-1][x-1] = 0\n",
    "        if x-1 == 0:\n",
    "            for k in range(y-1,n):\n",
    "                dp[k][0]=0\n",
    "        if y-1 == 0:\n",
    "            for k in range(x-1,m):\n",
    "                dp[0][k]=0\n",
    "\n",
    "    for i in range(1,n):\n",
    "        for j in range(1,m):\n",
    "            if i*j != 0:\n",
    "                if dp[i][j] != 0:\n",
    "                    dp[i][j] = dp[i-1][j] + dp[i][j-1]\n",
    "    answer = dp[n-1][m-1]\n",
    "    return answer%1000000007"
   ]
  },
  {
   "cell_type": "code",
   "execution_count": null,
   "metadata": {},
   "outputs": [],
   "source": []
  },
  {
   "cell_type": "code",
   "execution_count": null,
   "metadata": {},
   "outputs": [],
   "source": []
  },
  {
   "cell_type": "code",
   "execution_count": null,
   "metadata": {},
   "outputs": [],
   "source": []
  },
  {
   "cell_type": "markdown",
   "metadata": {},
   "source": [
    "#### 공부해볼만한 코드"
   ]
  },
  {
   "cell_type": "code",
   "execution_count": null,
   "metadata": {},
   "outputs": [],
   "source": []
  },
  {
   "cell_type": "code",
   "execution_count": null,
   "metadata": {},
   "outputs": [],
   "source": []
  },
  {
   "cell_type": "code",
   "execution_count": null,
   "metadata": {},
   "outputs": [],
   "source": []
  }
 ],
 "metadata": {
  "kernelspec": {
   "display_name": "Python 3",
   "language": "python",
   "name": "python3"
  },
  "language_info": {
   "codemirror_mode": {
    "name": "ipython",
    "version": 3
   },
   "file_extension": ".py",
   "mimetype": "text/x-python",
   "name": "python",
   "nbconvert_exporter": "python",
   "pygments_lexer": "ipython3",
   "version": "3.8.3-final"
  },
  "toc": {
   "base_numbering": 1,
   "nav_menu": {},
   "number_sections": true,
   "sideBar": true,
   "skip_h1_title": false,
   "title_cell": "Table of Contents",
   "title_sidebar": "Contents",
   "toc_cell": false,
   "toc_position": {},
   "toc_section_display": true,
   "toc_window_display": false
  }
 },
 "nbformat": 4,
 "nbformat_minor": 4
}