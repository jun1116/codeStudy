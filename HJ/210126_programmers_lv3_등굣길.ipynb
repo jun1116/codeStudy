{
 "cells": [
  {
   "cell_type": "code",
   "execution_count": 33,
   "metadata": {},
   "outputs": [
    {
     "output_type": "stream",
     "name": "stdout",
     "text": [
      "[[0, 0, 0, 0], [0, -1, -1, -1], [0, 0, 0, 0], [0, 0, 0, 0]]\n0 0\n1 0\n2 0\n3 0\n0 1\n1 1\n2 1\n3 1\n0 2\n1 2\n2 2\n3 2\n0 3\n1 3\n2 3\n3 3\n"
     ]
    },
    {
     "output_type": "execute_result",
     "data": {
      "text/plain": [
       "4"
      ]
     },
     "metadata": {},
     "execution_count": 33
    }
   ],
   "source": [
    "def solution(m, n, puddles):\n",
    "    answer = 0\n",
    "    mat=[[0]*m for _ in range(n)]\n",
    "    for pud in puddles:\n",
    "        mat[pud[0]-1][pud[1]-1]=-1\n",
    "    print(mat)\n",
    "    for j in range(m):\n",
    "        for i in range(n):\n",
    "            print(i,j)\n",
    "            if mat[i][j] == -1: continue\n",
    "            if i==0 or j==0 : \n",
    "                mat[i][j]=1\n",
    "                continue\n",
    "            elif mat[i][j-1]== -1 : mat[i][j]=mat[i-1][j]\n",
    "            elif mat[i-1][j]== -1 : mat[i][j]=mat[i][j-1]\n",
    "            else: mat[i][j]=mat[i-1][j]+mat[i][j-1]\n",
    "    return mat[n-1][m-1]\n",
    "\n",
    "\n",
    "m=4\n",
    "n=4\n",
    "puddles=[[2,2],[2,3],[2,4]]\n",
    "solution(m,n,puddles)"
   ]
  },
  {
   "cell_type": "code",
   "execution_count": null,
   "metadata": {},
   "outputs": [],
   "source": []
  },
  {
   "cell_type": "code",
   "execution_count": null,
   "metadata": {},
   "outputs": [],
   "source": []
  },
  {
   "cell_type": "code",
   "execution_count": null,
   "metadata": {},
   "outputs": [],
   "source": []
  },
  {
   "cell_type": "code",
   "execution_count": null,
   "metadata": {},
   "outputs": [],
   "source": []
  },
  {
   "cell_type": "code",
   "execution_count": null,
   "metadata": {},
   "outputs": [],
   "source": []
  },
  {
   "cell_type": "markdown",
   "metadata": {},
   "source": [
    "#### 공부해볼만한 코드"
   ]
  },
  {
   "cell_type": "code",
   "execution_count": null,
   "metadata": {},
   "outputs": [],
   "source": []
  },
  {
   "cell_type": "code",
   "execution_count": null,
   "metadata": {},
   "outputs": [],
   "source": []
  },
  {
   "cell_type": "code",
   "execution_count": null,
   "metadata": {},
   "outputs": [],
   "source": []
  }
 ],
 "metadata": {
  "kernelspec": {
   "display_name": "Python 3",
   "language": "python",
   "name": "python3"
  },
  "language_info": {
   "codemirror_mode": {
    "name": "ipython",
    "version": 3
   },
   "file_extension": ".py",
   "mimetype": "text/x-python",
   "name": "python",
   "nbconvert_exporter": "python",
   "pygments_lexer": "ipython3",
   "version": "3.8.3-final"
  },
  "toc": {
   "base_numbering": 1,
   "nav_menu": {},
   "number_sections": true,
   "sideBar": true,
   "skip_h1_title": false,
   "title_cell": "Table of Contents",
   "title_sidebar": "Contents",
   "toc_cell": false,
   "toc_position": {},
   "toc_section_display": true,
   "toc_window_display": false
  }
 },
 "nbformat": 4,
 "nbformat_minor": 4
}