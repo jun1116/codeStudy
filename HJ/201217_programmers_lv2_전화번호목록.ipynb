{
 "cells": [
  {
   "cell_type": "code",
   "execution_count": 5,
   "metadata": {
    "ExecuteTime": {
     "end_time": "2020-12-17T13:18:52.090863Z",
     "start_time": "2020-12-17T13:18:52.084549Z"
    }
   },
   "outputs": [
    {
     "data": {
      "text/plain": [
       "[4, 3]"
      ]
     },
     "execution_count": 5,
     "metadata": {},
     "output_type": "execute_result"
    }
   ],
   "source": [
    "def solution(phone_book):\n",
    "    answer = True\n",
    "    phones=sorted(phone_book)\n",
    "    for i,v in enumerate(phones):\n",
    "        for j in range(1+i,len(phones)):\n",
    "            if phones[j].startswith(v):\n",
    "                return False\n",
    "    return answer\n"
   ]
  },
  {
   "cell_type": "code",
   "execution_count": null,
   "metadata": {},
   "outputs": [],
   "source": [
    "['119', '97674223', '1195524421']\t"
   ]
  },
  {
   "cell_type": "code",
   "execution_count": null,
   "metadata": {},
   "outputs": [],
   "source": [
    "##정규식 공부하자\n",
    "\n",
    "import re\n",
    "def solution(phoneBook):\n",
    "\n",
    "    for b in phoneBook:\n",
    "        p = re.compile(\"^\"+b)\n",
    "        for b2 in phoneBook:\n",
    "            if b != b2 and p.match(b2):\n",
    "                return False\n",
    "    return True"
   ]
  },
  {
   "cell_type": "code",
   "execution_count": null,
   "metadata": {},
   "outputs": [],
   "source": []
  }
 ],
 "metadata": {
  "kernelspec": {
   "display_name": "Python 3",
   "language": "python",
   "name": "python3"
  },
  "language_info": {
   "codemirror_mode": {
    "name": "ipython",
    "version": 3
   },
   "file_extension": ".py",
   "mimetype": "text/x-python",
   "name": "python",
   "nbconvert_exporter": "python",
   "pygments_lexer": "ipython3",
   "version": "3.8.5"
  },
  "toc": {
   "base_numbering": 1,
   "nav_menu": {},
   "number_sections": true,
   "sideBar": true,
   "skip_h1_title": false,
   "title_cell": "Table of Contents",
   "title_sidebar": "Contents",
   "toc_cell": false,
   "toc_position": {},
   "toc_section_display": true,
   "toc_window_display": false
  }
 },
 "nbformat": 4,
 "nbformat_minor": 4
}
