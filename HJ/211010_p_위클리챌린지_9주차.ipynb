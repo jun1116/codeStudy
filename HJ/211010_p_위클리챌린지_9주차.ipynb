{
 "cells": [
  {
   "cell_type": "markdown",
   "source": [
    "[프로그래머스 링크](https://programmers.co.kr/learn/courses/30/lessons/86971)"
   ],
   "metadata": {}
  },
  {
   "cell_type": "code",
   "execution_count": 1,
   "source": [
    "# n,wires=9,[[1,3],[2,3],[3,4],[4,5],[4,6],[4,7],[7,8],[7,9]] #3\n",
    "n,wires=7,[[1,2],[2,7],[3,7],[3,4],[4,5],[6,7]] #1\n",
    "def solution(n,wires):\n",
    "    # global parent\n",
    "    tree=edgeToTree(wires)\n",
    "    rootCnt,answer=dfscnt(tree,wires[0][0]),int(1e9)\n",
    "    for node in tree:\n",
    "        answer = min(answer, abs(rootCnt-2*dfscnt(tree,node)))\n",
    "    return answer\n",
    "\n",
    "def edgeToTree(edges):\n",
    "    graph={i+1:[] for i in range(len(edges)+1)}\n",
    "    for a,b in edges:\n",
    "        graph[a].append(b)\n",
    "        graph[b].append(a)    \n",
    "    tree={}\n",
    "    visited=[]\n",
    "    stack=[edges[0][0]]\n",
    "    while stack:\n",
    "        now=stack.pop()\n",
    "        if now in visited:continue\n",
    "        visited.append(now)\n",
    "        tree[now]=[i for i in graph[now] if i not in visited]\n",
    "        stack.extend(graph.get(now))\n",
    "    return tree\n",
    "\n",
    "def dfscnt(tree,start):\n",
    "    cnt=0\n",
    "    visited=[]\n",
    "    stack=[start]\n",
    "    while stack:\n",
    "        now=stack.pop()\n",
    "        if now in visited:continue\n",
    "        cnt+=1\n",
    "        visited.append(now)\n",
    "        stack.extend(tree[now])\n",
    "    return cnt\n",
    "solution(n,wires)"
   ],
   "outputs": [
    {
     "output_type": "execute_result",
     "data": {
      "text/plain": [
       "1"
      ]
     },
     "metadata": {},
     "execution_count": 1
    }
   ],
   "metadata": {}
  },
  {
   "cell_type": "markdown",
   "source": [
    "sub 를 계속 만들면서(1대 엣지씩 뺴면서) 해당 sub로 만들어진 개수를 체크하는것"
   ],
   "metadata": {}
  },
  {
   "cell_type": "code",
   "execution_count": null,
   "source": [
    "def solution(n,wires):\n",
    "    ans=n\n",
    "    for sub in (wires[i+1:] + wires[:i] for i in range(len(wires))):\n",
    "        s = set(sub[0])\n",
    "        [s.update(v) for _ in sub for v in sub if set(v) & s]\n",
    "        ans=min(ans, abs(2*len(s)-n))\n",
    "    return ans"
   ],
   "outputs": [],
   "metadata": {}
  },
  {
   "cell_type": "code",
   "execution_count": null,
   "source": [
    "def find(a):\n",
    "    global uf\n",
    "    if uf[a]<0: return a\n",
    "    uf[a]=find(uf[a])\n",
    "    return uf[a]\n",
    "\n",
    "def merge(a,b):\n",
    "    global uf\n",
    "    pa=find(a)\n",
    "    pb=find(b)\n",
    "    if pa==pb:return\n",
    "    uf[pa]+=uf[pb]\n",
    "    uf[pb]=pa\n",
    "\n",
    "def solution(n,wires):\n",
    "    global uf\n",
    "    uf=[]\n",
    "    alswer = int(1e9)\n",
    "    k=len(wires)\n",
    "    for i in range(k):\n",
    "        uf=[-1 for _ in range(n+1)]\n",
    "        tmp=[wires[x] for x in range(k) if x != i]\n",
    "        for a,b in tmp: merge(a,b)\n",
    "        v=[x for x in uf[1:] if x<0]\n",
    "        answer=min(answer, abs(v[0]-v[1]))\n",
    "    return answer\n"
   ],
   "outputs": [],
   "metadata": {}
  }
 ],
 "metadata": {
  "orig_nbformat": 4,
  "language_info": {
   "name": "python",
   "version": "3.9.4",
   "mimetype": "text/x-python",
   "codemirror_mode": {
    "name": "ipython",
    "version": 3
   },
   "pygments_lexer": "ipython3",
   "nbconvert_exporter": "python",
   "file_extension": ".py"
  },
  "kernelspec": {
   "name": "python3",
   "display_name": "Python 3.9.4 64-bit ('base': conda)"
  },
  "interpreter": {
   "hash": "cb21448086e1b039f0143f4b6f3949a0ab18b782485cd082e49e693fdc0e34f1"
  }
 },
 "nbformat": 4,
 "nbformat_minor": 2
}