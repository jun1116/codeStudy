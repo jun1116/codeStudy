{
 "metadata": {
  "language_info": {
   "codemirror_mode": {
    "name": "ipython",
    "version": 3
   },
   "file_extension": ".py",
   "mimetype": "text/x-python",
   "name": "python",
   "nbconvert_exporter": "python",
   "pygments_lexer": "ipython3",
   "version": "3.8.5"
  },
  "orig_nbformat": 4,
  "kernelspec": {
   "name": "python3",
   "display_name": "Python 3.8.5 64-bit ('base': conda)"
  },
  "interpreter": {
   "hash": "39a3f6769e595a50e593a296d8b0c78e5171348aaba449e974344d6732d07a14"
  }
 },
 "nbformat": 4,
 "nbformat_minor": 2,
 "cells": [
  {
   "cell_type": "code",
   "execution_count": 3,
   "metadata": {},
   "outputs": [
    {
     "output_type": "execute_result",
     "data": {
      "text/plain": [
       "15"
      ]
     },
     "metadata": {},
     "execution_count": 3
    }
   ],
   "source": [
    "n=6\n",
    "m=[19,15,10,17]\n",
    "def solution(n,m):\n",
    "    st=0\n",
    "    end=max(m)\n",
    "    ans=0\n",
    "    while st<=end:\n",
    "        tmp=0\n",
    "        mid = (st+end)//2\n",
    "        for i in m:\n",
    "            tmp+=max(0,i-mid)\n",
    "        if tmp<n:\n",
    "            end=mid-1\n",
    "        else:\n",
    "            ans=mid\n",
    "            st=mid+1\n",
    "    return ans\n",
    "solution(n,m)\n"
   ]
  }
 ]
}