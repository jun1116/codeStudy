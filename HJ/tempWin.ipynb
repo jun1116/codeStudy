{
 "metadata": {
  "language_info": {
   "codemirror_mode": {
    "name": "ipython",
    "version": 3
   },
   "file_extension": ".py",
   "mimetype": "text/x-python",
   "name": "python",
   "nbconvert_exporter": "python",
   "pygments_lexer": "ipython3",
   "version": "3.8.5"
  },
  "orig_nbformat": 4,
  "kernelspec": {
   "name": "python3",
   "display_name": "Python 3.8.5 64-bit ('base': conda)"
  },
  "interpreter": {
   "hash": "39a3f6769e595a50e593a296d8b0c78e5171348aaba449e974344d6732d07a14"
  }
 },
 "nbformat": 4,
 "nbformat_minor": 2,
 "cells": [
  {
   "cell_type": "code",
   "execution_count": 2,
   "metadata": {},
   "outputs": [
    {
     "output_type": "execute_result",
     "data": {
      "text/plain": [
       "defaultdict(list,\n",
       "            {1: [[2, 2], [4, 1], [3, 5]],\n",
       "             2: [[3, 3], [4, 2]],\n",
       "             4: [[3, 3], [5, 1]],\n",
       "             3: [[2, 3], [6, 5]],\n",
       "             6: [],\n",
       "             5: [[3, 1], [6, 2]]})"
      ]
     },
     "metadata": {},
     "execution_count": 2
    }
   ],
   "source": [
    "def mkgraph(ss):\n",
    "    from collections import defaultdict\n",
    "    dic=defaultdict(list)\n",
    "    for fr,to,cost in ss:\n",
    "        dic[fr].append([to,cost])\n",
    "        dic[to]\n",
    "    return dic\n",
    "costs=[\n",
    "    [1,2,2],[1,4,1],[1,3,5],[2,3,3],[2,4,2],[3,2,3],[3,6,5],[4,3,3],[4,5,1],[5,3,1],[5,6,2]\n",
    "]\n",
    "# dijkstra(mkgraph(costs),1)\n",
    "mkgraph(costs)"
   ]
  },
  {
   "cell_type": "code",
   "execution_count": 14,
   "metadata": {},
   "outputs": [
    {
     "output_type": "execute_result",
     "data": {
      "text/plain": [
       "[1, 4, 5]"
      ]
     },
     "metadata": {},
     "execution_count": 14
    }
   ],
   "source": [
    "from heapq import *\n",
    "def dijkstra(graph,start):\n",
    "    INF = int(1e9)\n",
    "    distances={i : INF for i in graph}\n",
    "    frt={i:0 for i in graph}\n",
    "    distances[start]=0\n",
    "    frt[start]=start\n",
    "    q = [[0,start]]\n",
    "    while q:\n",
    "        dist,now = heappop(q)\n",
    "        if dist> distances[now]: continue\n",
    "        for node,n_dist in graph[now]:\n",
    "            new_dist = dist+n_dist\n",
    "            if new_dist<distances[node]:\n",
    "                distances[node] = new_dist\n",
    "                frt[node] = now\n",
    "                heappush(q, [new_dist,node])\n",
    "    return distances, frt\n",
    "\n",
    "def getRoute(frtable,st,fr):\n",
    "    tmp=[]\n",
    "    while st!=fr:\n",
    "        tmp.append(fr)\n",
    "        fr=frtable[fr]\n",
    "    ans=[st,]\n",
    "    while tmp:\n",
    "        ans.append(tmp.pop())\n",
    "    return ans\n",
    "\n",
    "graph = mkgraph(costs)\n",
    "dist, frtable = dijkstra(graph,1)\n",
    "getRoute(frtable,1,5)"
   ]
  },
  {
   "cell_type": "code",
   "execution_count": 19,
   "metadata": {},
   "outputs": [
    {
     "output_type": "stream",
     "name": "stdout",
     "text": [
      "{1: 0, 2: 1, 3: 1, 4: 1, 5: 2} {1: 1, 2: 1, 3: 1, 4: 1, 5: 3}\n"
     ]
    },
    {
     "output_type": "execute_result",
     "data": {
      "text/plain": [
       "3"
      ]
     },
     "metadata": {},
     "execution_count": 19
    }
   ],
   "source": [
    "from collections import defaultdict\n",
    "from heapq import *\n",
    "# 미래도시\n",
    "def solution(links,start,mid,end):\n",
    "    def mkgraph(links):\n",
    "        dic=defaultdict(list)\n",
    "        for fr,to in links:\n",
    "            dic[fr].append([to,1])\n",
    "            dic[to].append([fr,1])\n",
    "        return dic\n",
    "    def dijkstra(graph,start):\n",
    "        INF=int(1e9)\n",
    "        distances={i:INF for i in graph}\n",
    "        frt = {i:False for i in graph}\n",
    "        distances[start]=0\n",
    "        frt[start]=start\n",
    "        q=[[0,start]]\n",
    "        while q:\n",
    "            dist, now = heappop(q)\n",
    "            if dist>distances[now]:continue\n",
    "            for new_node, new_dist in graph[now]:\n",
    "                new_distance = dist+new_dist\n",
    "                if distances[new_node] > new_distance:\n",
    "                    distances[new_node] = new_distance\n",
    "                    frt[new_node] = now\n",
    "                    heappush(q, [new_distance,new_node])\n",
    "        return distances, frt\n",
    "    \n",
    "    graph = mkgraph(links)\n",
    "    dist, frt = dijkstra(graph,1)\n",
    "    mdist, mfrt = dijkstra(graph,mid)\n",
    "    print(dist,frt)\n",
    "    return dist[mid]+mdist[end]\n",
    "\n",
    "\n",
    "links = [[1,2],[1,3],[1,4],[2,4],[3,4],[3,5],[4,5]]\n",
    "solution(links, 1, 5, 4)"
   ]
  },
  {
   "cell_type": "code",
   "execution_count": 34,
   "metadata": {},
   "outputs": [
    {
     "output_type": "stream",
     "name": "stdout",
     "text": [
      "[[0, 1000000000, 1, 1000000000], [1000000000, 0, 1000000000, 1], [1, 1000000000, 0, 1000000000], [1000000000, 1, 1000000000, 0]]\n"
     ]
    },
    {
     "output_type": "execute_result",
     "data": {
      "text/plain": [
       "-1"
      ]
     },
     "metadata": {},
     "execution_count": 34
    }
   ],
   "source": [
    "# 미래도시 (중간에 거쳐가는 장소 발생)\n",
    "def solution(links,start,mid,end):\n",
    "    def mkmat(links):\n",
    "        nodecnt=set()\n",
    "        for fr,t in links:\n",
    "            nodecnt.add(fr)\n",
    "            nodecnt.add(t)\n",
    "        mat=[[int(1e9)]*len(nodecnt) for _ in range(len(nodecnt))]\n",
    "        for fr,to in links:\n",
    "            mat[fr-1][to-1]=1\n",
    "            mat[to-1][fr-1]=1\n",
    "        for i in range(len(nodecnt)):\n",
    "            mat[i][i]=0\n",
    "        return mat\n",
    "    def floyd(mat):\n",
    "        for mid in range(len(mat)):\n",
    "            for fr in range(len(mat)):\n",
    "                for to in range(len(mat)):\n",
    "                    mat[fr][to] = min(mat[fr][to], mat[fr][mid]+mat[mid][to])\n",
    "        return mat\n",
    "    \n",
    "    mat=mkmat(links)\n",
    "    mat = floyd(mat)\n",
    "    print(mat)\n",
    "\n",
    "    dist= mat[start-1][mid-1] + mat[mid-1][end-1]\n",
    "    return dist if dist<int(1e9) else -1\n",
    "\n",
    "# links = [[1,2],[1,3],[1,4],[2,4],[3,4],[3,5]]\n",
    "# x,k = 4,5\n",
    "# solution(links, 1, 5, 4)\n",
    "links = [[4,2],[1,3],[2,4]]\n",
    "#x,k = 3,4 # k를 거쳐서 x를 가는것 \n",
    "solution(links, 1, 4, 3)"
   ]
  },
  {
   "cell_type": "code",
   "execution_count": 46,
   "metadata": {},
   "outputs": [
    {
     "output_type": "stream",
     "name": "stdout",
     "text": [
      "{0: 1000000000, 1: 0, 2: 4, 3: 2} {0: False, 1: 1, 2: 1, 3: 1}\n"
     ]
    },
    {
     "output_type": "execute_result",
     "data": {
      "text/plain": [
       "4"
      ]
     },
     "metadata": {},
     "execution_count": 46
    }
   ],
   "source": [
    "# 전보\n",
    "n,m,c=3,2,1 # 도시개수,통로개수,메시지를보내고자하는도시C (출발지)\n",
    "links=[[1,2,4],[1,3,2]]\n",
    "from heapq import *\n",
    "def solution(links,n,m,c):\n",
    "    # def mkgraph(links):\n",
    "    #     dic={}\n",
    "    #     for fr,to,dist in links:\n",
    "    #         if dic.get(fr):\n",
    "    #             dic[fr].append([to,dist])\n",
    "    #         else:\n",
    "    #             dic[fr]=[[to,dist]]\n",
    "    #     return dic\n",
    "    \n",
    "    def dijkstra(graph,start):\n",
    "        q=[[0,start]]\n",
    "        distances={i:int(1e9) for i in range(len(graph))}\n",
    "        frt={i:False for i in range(len(graph))}\n",
    "        distances[start]=0\n",
    "        frt[start]=start\n",
    "\n",
    "        while q:\n",
    "            dist, now = heappop(q)\n",
    "            if distances[now]<dist: continue\n",
    "            for to, todist in graph[now]:\n",
    "                new_dist = dist+todist\n",
    "                if new_dist < distances[to]:\n",
    "                    distances[to] = new_dist\n",
    "                    frt[to]=now\n",
    "                    heappush(q, [new_dist,to])\n",
    "        return distances, frt\n",
    "    graph=[[] for i in range(n+1)]\n",
    "    for fr,to,dist in links:\n",
    "        graph[fr].append([to,dist])\n",
    "    dist,frt = dijkstra(graph,c)\n",
    "    print(dist,frt)\n",
    "    cities = list(filter(lambda x : dist[x]<int(1e9) and x != c, dist))\n",
    "    return max(list(map(lambda x : dist[x], cities)))\n",
    "    # return cities\n",
    "solution(links,n,m,c)"
   ]
  },
  {
   "cell_type": "code",
   "execution_count": null,
   "metadata": {},
   "outputs": [],
   "source": []
  },
  {
   "cell_type": "code",
   "execution_count": null,
   "metadata": {},
   "outputs": [],
   "source": []
  },
  {
   "cell_type": "code",
   "execution_count": 47,
   "metadata": {},
   "outputs": [],
   "source": [
    "# n,t,m,timetable#\tanswer\n",
    "n,t,m,timetable=1,1,5,[\"08:00\", \"08:01\", \"08:02\", \"08:03\"]#\"09:00\"\n",
    "# n,t,m,timetable=2,10,2,[\"09:10\", \"09:09\", \"08:00\"]#\"09:09\"\n",
    "# n,t,m,timetable=2,1,2,[\"09:00\", \"09:00\", \"09:00\", \"09:00\"]#\"08:59\"\n",
    "# n,t,m,timetable=1,1,5,[\"00:01\", \"00:01\", \"00:01\", \"00:01\", \"00:01\"]#\"00:00\"\n",
    "# n,t,m,timetable=1,1,1,[\"23:59\"]#\"09:00\"\n",
    "# n,t,m,timetable=10,60,45,[\"23:59\",\"23:59\", \"23:59\", \"23:59\", \"23:59\", \"23:59\", \"23:59\", \"23:59\", \"23:59\", \"23:59\", \"23:59\", \"23:59\", \"23:59\", \"23:59\", \"23:59\", \"23:59\"]#\"18:00\""
   ]
  },
  {
   "cell_type": "code",
   "execution_count": 65,
   "metadata": {},
   "outputs": [
    {
     "output_type": "execute_result",
     "data": {
      "text/plain": [
       "3600"
      ]
     },
     "metadata": {},
     "execution_count": 65
    }
   ],
   "source": [
    "from datetime import datetime\n",
    "a=datetime(2020,1,1,18,30)-datetime(2020,1,1,17,30)\n",
    "a.seconds"
   ]
  },
  {
   "cell_type": "code",
   "execution_count": 134,
   "metadata": {
    "tags": []
   },
   "outputs": [
    {
     "output_type": "stream",
     "name": "stdout",
     "text": [
      "deque([])\n"
     ]
    },
    {
     "output_type": "execute_result",
     "data": {
      "text/plain": [
       "'18:00'"
      ]
     },
     "metadata": {},
     "execution_count": 134
    }
   ],
   "source": [
    "from collections import deque\n",
    "def solution(n,t,m,timetable):\n",
    "    answer=\"\"\n",
    "    times=[]\n",
    "    for i in timetable:\n",
    "        tm=i.split(':')\n",
    "        times.append(int(tm[0])*3600 + int(tm[1])*60)\n",
    "    times=deque(list(filter(lambda x : x<=18*3600, sorted(times))))\n",
    "    carlists=deque([(9*3600+(t*i*60)) for i in range(n)])\n",
    "    # print(carlists)\n",
    "    while carlists:\n",
    "        now=carlists.popleft()\n",
    "        cnt=m\n",
    "        # print(f\"nowCar:{totime(now)}\")\n",
    "        answer=totime(now)\n",
    "        while times and times[0]<=now and cnt>0:\n",
    "            c=times.popleft()\n",
    "            # print(f\"Passenger:{totime(c)}\")\n",
    "            cnt-=1\n",
    "            if len(carlists)==0:\n",
    "                if cnt==0:\n",
    "                    # print(f'새치기ㄱㄱ{totime(c-60)}')\n",
    "                    answer=totime(c-60)\n",
    "                elif len(times)==0:\n",
    "                    answer=totime(now)\n",
    "    return answer\n",
    "def totime(sec):\n",
    "    h=sec//3600\n",
    "    m=(sec-3600*h)//60\n",
    "    hh=str(h).rjust(2,'0')\n",
    "    mm=str(m).rjust(2,'0')\n",
    "    return f'{hh}:{mm}'\n",
    "\n",
    "\n",
    "# n,t,m,timetable=1,1,5,[\"08:00\", \"08:01\", \"08:02\", \"08:03\"]#\"09:00\"\n",
    "# n,t,m,timetable=2,10,2,[\"09:10\", \"09:09\", \"08:00\"]#\"09:09\"\n",
    "# n,t,m,timetable=2,1,2,[\"09:00\", \"09:00\", \"09:00\", \"09:00\"]#\"08:59\"\n",
    "# n,t,m,timetable=1,1,5,[\"00:01\", \"00:01\", \"00:01\", \"00:01\", \"00:01\"]#\"00:00\"\n",
    "# n,t,m,timetable=1,1,1,[\"23:59\"]#\"09:00\"\n",
    "n,t,m,timetable=10,60,45,[\"23:59\",\"23:59\", \"23:59\", \"23:59\", \"23:59\", \"23:59\", \"23:59\", \"23:59\", \"23:59\", \"23:59\", \"23:59\", \"23:59\", \"23:59\", \"23:59\", \"23:59\", \"23:59\"]#\"18:00\"\n",
    "solution(n,t,m,timetable)"
   ]
  }
 ]
}