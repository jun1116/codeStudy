{
 "cells": [
  {
   "cell_type": "code",
   "execution_count": 2,
   "source": [
    "def mkgraph(ss):\n",
    "    from collections import defaultdict\n",
    "    dic=defaultdict(list)\n",
    "    for fr,to,cost in ss:\n",
    "        dic[fr].append([to,cost])\n",
    "        dic[to]\n",
    "    return dic\n",
    "costs=[\n",
    "    [1,2,2],[1,4,1],[1,3,5],[2,3,3],[2,4,2],[3,2,3],[3,6,5],[4,3,3],[4,5,1],[5,3,1],[5,6,2]\n",
    "]\n",
    "# dijkstra(mkgraph(costs),1)\n",
    "mkgraph(costs)"
   ],
   "outputs": [
    {
     "output_type": "execute_result",
     "data": {
      "text/plain": [
       "defaultdict(list,\n",
       "            {1: [[2, 2], [4, 1], [3, 5]],\n",
       "             2: [[3, 3], [4, 2]],\n",
       "             4: [[3, 3], [5, 1]],\n",
       "             3: [[2, 3], [6, 5]],\n",
       "             6: [],\n",
       "             5: [[3, 1], [6, 2]]})"
      ]
     },
     "metadata": {},
     "execution_count": 2
    }
   ],
   "metadata": {}
  },
  {
   "cell_type": "code",
   "execution_count": 14,
   "source": [
    "from heapq import *\n",
    "def dijkstra(graph,start):\n",
    "    INF = int(1e9)\n",
    "    distances={i : INF for i in graph}\n",
    "    frt={i:0 for i in graph}\n",
    "    distances[start]=0\n",
    "    frt[start]=start\n",
    "    q = [[0,start]]\n",
    "    while q:\n",
    "        dist,now = heappop(q)\n",
    "        if dist> distances[now]: continue\n",
    "        for node,n_dist in graph[now]:\n",
    "            new_dist = dist+n_dist\n",
    "            if new_dist<distances[node]:\n",
    "                distances[node] = new_dist\n",
    "                frt[node] = now\n",
    "                heappush(q, [new_dist,node])\n",
    "    return distances, frt\n",
    "\n",
    "def getRoute(frtable,st,fr):\n",
    "    tmp=[]\n",
    "    while st!=fr:\n",
    "        tmp.append(fr)\n",
    "        fr=frtable[fr]\n",
    "    ans=[st,]\n",
    "    while tmp:\n",
    "        ans.append(tmp.pop())\n",
    "    return ans\n",
    "\n",
    "graph = mkgraph(costs)\n",
    "dist, frtable = dijkstra(graph,1)\n",
    "getRoute(frtable,1,5)"
   ],
   "outputs": [
    {
     "output_type": "execute_result",
     "data": {
      "text/plain": [
       "[1, 4, 5]"
      ]
     },
     "metadata": {},
     "execution_count": 14
    }
   ],
   "metadata": {}
  },
  {
   "cell_type": "code",
   "execution_count": 19,
   "source": [
    "from collections import defaultdict\n",
    "from heapq import *\n",
    "# 미래도시\n",
    "def solution(links,start,mid,end):\n",
    "    def mkgraph(links):\n",
    "        dic=defaultdict(list)\n",
    "        for fr,to in links:\n",
    "            dic[fr].append([to,1])\n",
    "            dic[to].append([fr,1])\n",
    "        return dic\n",
    "    def dijkstra(graph,start):\n",
    "        INF=int(1e9)\n",
    "        distances={i:INF for i in graph}\n",
    "        frt = {i:False for i in graph}\n",
    "        distances[start]=0\n",
    "        frt[start]=start\n",
    "        q=[[0,start]]\n",
    "        while q:\n",
    "            dist, now = heappop(q)\n",
    "            if dist>distances[now]:continue\n",
    "            for new_node, new_dist in graph[now]:\n",
    "                new_distance = dist+new_dist\n",
    "                if distances[new_node] > new_distance:\n",
    "                    distances[new_node] = new_distance\n",
    "                    frt[new_node] = now\n",
    "                    heappush(q, [new_distance,new_node])\n",
    "        return distances, frt\n",
    "    \n",
    "    graph = mkgraph(links)\n",
    "    dist, frt = dijkstra(graph,1)\n",
    "    mdist, mfrt = dijkstra(graph,mid)\n",
    "    print(dist,frt)\n",
    "    return dist[mid]+mdist[end]\n",
    "\n",
    "\n",
    "links = [[1,2],[1,3],[1,4],[2,4],[3,4],[3,5],[4,5]]\n",
    "solution(links, 1, 5, 4)"
   ],
   "outputs": [
    {
     "output_type": "stream",
     "name": "stdout",
     "text": [
      "{1: 0, 2: 1, 3: 1, 4: 1, 5: 2} {1: 1, 2: 1, 3: 1, 4: 1, 5: 3}\n"
     ]
    },
    {
     "output_type": "execute_result",
     "data": {
      "text/plain": [
       "3"
      ]
     },
     "metadata": {},
     "execution_count": 19
    }
   ],
   "metadata": {}
  },
  {
   "cell_type": "code",
   "execution_count": 34,
   "source": [
    "# 미래도시 (중간에 거쳐가는 장소 발생)\n",
    "def solution(links,start,mid,end):\n",
    "    def mkmat(links):\n",
    "        nodecnt=set()\n",
    "        for fr,t in links:\n",
    "            nodecnt.add(fr)\n",
    "            nodecnt.add(t)\n",
    "        mat=[[int(1e9)]*len(nodecnt) for _ in range(len(nodecnt))]\n",
    "        for fr,to in links:\n",
    "            mat[fr-1][to-1]=1\n",
    "            mat[to-1][fr-1]=1\n",
    "        for i in range(len(nodecnt)):\n",
    "            mat[i][i]=0\n",
    "        return mat\n",
    "    def floyd(mat):\n",
    "        for mid in range(len(mat)):\n",
    "            for fr in range(len(mat)):\n",
    "                for to in range(len(mat)):\n",
    "                    mat[fr][to] = min(mat[fr][to], mat[fr][mid]+mat[mid][to])\n",
    "        return mat\n",
    "    \n",
    "    mat=mkmat(links)\n",
    "    mat = floyd(mat)\n",
    "    print(mat)\n",
    "\n",
    "    dist= mat[start-1][mid-1] + mat[mid-1][end-1]\n",
    "    return dist if dist<int(1e9) else -1\n",
    "\n",
    "# links = [[1,2],[1,3],[1,4],[2,4],[3,4],[3,5]]\n",
    "# x,k = 4,5\n",
    "# solution(links, 1, 5, 4)\n",
    "links = [[4,2],[1,3],[2,4]]\n",
    "#x,k = 3,4 # k를 거쳐서 x를 가는것 \n",
    "solution(links, 1, 4, 3)"
   ],
   "outputs": [
    {
     "output_type": "stream",
     "name": "stdout",
     "text": [
      "[[0, 1000000000, 1, 1000000000], [1000000000, 0, 1000000000, 1], [1, 1000000000, 0, 1000000000], [1000000000, 1, 1000000000, 0]]\n"
     ]
    },
    {
     "output_type": "execute_result",
     "data": {
      "text/plain": [
       "-1"
      ]
     },
     "metadata": {},
     "execution_count": 34
    }
   ],
   "metadata": {}
  },
  {
   "cell_type": "code",
   "execution_count": 46,
   "source": [
    "# 전보\n",
    "n,m,c=3,2,1 # 도시개수,통로개수,메시지를보내고자하는도시C (출발지)\n",
    "links=[[1,2,4],[1,3,2]]\n",
    "from heapq import *\n",
    "def solution(links,n,m,c):\n",
    "    # def mkgraph(links):\n",
    "    #     dic={}\n",
    "    #     for fr,to,dist in links:\n",
    "    #         if dic.get(fr):\n",
    "    #             dic[fr].append([to,dist])\n",
    "    #         else:\n",
    "    #             dic[fr]=[[to,dist]]\n",
    "    #     return dic\n",
    "    \n",
    "    def dijkstra(graph,start):\n",
    "        q=[[0,start]]\n",
    "        distances={i:int(1e9) for i in range(len(graph))}\n",
    "        frt={i:False for i in range(len(graph))}\n",
    "        distances[start]=0\n",
    "        frt[start]=start\n",
    "\n",
    "        while q:\n",
    "            dist, now = heappop(q)\n",
    "            if distances[now]<dist: continue\n",
    "            for to, todist in graph[now]:\n",
    "                new_dist = dist+todist\n",
    "                if new_dist < distances[to]:\n",
    "                    distances[to] = new_dist\n",
    "                    frt[to]=now\n",
    "                    heappush(q, [new_dist,to])\n",
    "        return distances, frt\n",
    "    graph=[[] for i in range(n+1)]\n",
    "    for fr,to,dist in links:\n",
    "        graph[fr].append([to,dist])\n",
    "    dist,frt = dijkstra(graph,c)\n",
    "    print(dist,frt)\n",
    "    cities = list(filter(lambda x : dist[x]<int(1e9) and x != c, dist))\n",
    "    return max(list(map(lambda x : dist[x], cities)))\n",
    "    # return cities\n",
    "solution(links,n,m,c)"
   ],
   "outputs": [
    {
     "output_type": "stream",
     "name": "stdout",
     "text": [
      "{0: 1000000000, 1: 0, 2: 4, 3: 2} {0: False, 1: 1, 2: 1, 3: 1}\n"
     ]
    },
    {
     "output_type": "execute_result",
     "data": {
      "text/plain": [
       "4"
      ]
     },
     "metadata": {},
     "execution_count": 46
    }
   ],
   "metadata": {}
  },
  {
   "cell_type": "code",
   "execution_count": null,
   "source": [],
   "outputs": [],
   "metadata": {}
  },
  {
   "cell_type": "code",
   "execution_count": null,
   "source": [],
   "outputs": [],
   "metadata": {}
  },
  {
   "cell_type": "code",
   "execution_count": 47,
   "source": [
    "# n,t,m,timetable#\tanswer\n",
    "n,t,m,timetable=1,1,5,[\"08:00\", \"08:01\", \"08:02\", \"08:03\"]#\"09:00\"\n",
    "# n,t,m,timetable=2,10,2,[\"09:10\", \"09:09\", \"08:00\"]#\"09:09\"\n",
    "# n,t,m,timetable=2,1,2,[\"09:00\", \"09:00\", \"09:00\", \"09:00\"]#\"08:59\"\n",
    "# n,t,m,timetable=1,1,5,[\"00:01\", \"00:01\", \"00:01\", \"00:01\", \"00:01\"]#\"00:00\"\n",
    "# n,t,m,timetable=1,1,1,[\"23:59\"]#\"09:00\"\n",
    "# n,t,m,timetable=10,60,45,[\"23:59\",\"23:59\", \"23:59\", \"23:59\", \"23:59\", \"23:59\", \"23:59\", \"23:59\", \"23:59\", \"23:59\", \"23:59\", \"23:59\", \"23:59\", \"23:59\", \"23:59\", \"23:59\"]#\"18:00\""
   ],
   "outputs": [],
   "metadata": {}
  },
  {
   "cell_type": "code",
   "execution_count": 65,
   "source": [
    "from datetime import datetime\n",
    "a=datetime(2020,1,1,18,30)-datetime(2020,1,1,17,30)\n",
    "a.seconds"
   ],
   "outputs": [
    {
     "output_type": "execute_result",
     "data": {
      "text/plain": [
       "3600"
      ]
     },
     "metadata": {},
     "execution_count": 65
    }
   ],
   "metadata": {}
  },
  {
   "cell_type": "code",
   "execution_count": 134,
   "source": [
    "from collections import deque\n",
    "def solution(n,t,m,timetable):\n",
    "    answer=\"\"\n",
    "    times=[]\n",
    "    for i in timetable:\n",
    "        tm=i.split(':')\n",
    "        times.append(int(tm[0])*3600 + int(tm[1])*60)\n",
    "    times=deque(list(filter(lambda x : x<=18*3600, sorted(times))))\n",
    "    carlists=deque([(9*3600+(t*i*60)) for i in range(n)])\n",
    "    # print(carlists)\n",
    "    while carlists:\n",
    "        now=carlists.popleft()\n",
    "        cnt=m\n",
    "        # print(f\"nowCar:{totime(now)}\")\n",
    "        answer=totime(now)\n",
    "        while times and times[0]<=now and cnt>0:\n",
    "            c=times.popleft()\n",
    "            # print(f\"Passenger:{totime(c)}\")\n",
    "            cnt-=1\n",
    "            if len(carlists)==0:\n",
    "                if cnt==0:\n",
    "                    # print(f'새치기ㄱㄱ{totime(c-60)}')\n",
    "                    answer=totime(c-60)\n",
    "                elif len(times)==0:\n",
    "                    answer=totime(now)\n",
    "    return answer\n",
    "def totime(sec):\n",
    "    h=sec//3600\n",
    "    m=(sec-3600*h)//60\n",
    "    hh=str(h).rjust(2,'0')\n",
    "    mm=str(m).rjust(2,'0')\n",
    "    return f'{hh}:{mm}'\n",
    "\n",
    "\n",
    "# n,t,m,timetable=1,1,5,[\"08:00\", \"08:01\", \"08:02\", \"08:03\"]#\"09:00\"\n",
    "# n,t,m,timetable=2,10,2,[\"09:10\", \"09:09\", \"08:00\"]#\"09:09\"\n",
    "# n,t,m,timetable=2,1,2,[\"09:00\", \"09:00\", \"09:00\", \"09:00\"]#\"08:59\"\n",
    "# n,t,m,timetable=1,1,5,[\"00:01\", \"00:01\", \"00:01\", \"00:01\", \"00:01\"]#\"00:00\"\n",
    "# n,t,m,timetable=1,1,1,[\"23:59\"]#\"09:00\"\n",
    "n,t,m,timetable=10,60,45,[\"23:59\",\"23:59\", \"23:59\", \"23:59\", \"23:59\", \"23:59\", \"23:59\", \"23:59\", \"23:59\", \"23:59\", \"23:59\", \"23:59\", \"23:59\", \"23:59\", \"23:59\", \"23:59\"]#\"18:00\"\n",
    "solution(n,t,m,timetable)"
   ],
   "outputs": [
    {
     "output_type": "stream",
     "name": "stdout",
     "text": [
      "deque([])\n"
     ]
    },
    {
     "output_type": "execute_result",
     "data": {
      "text/plain": [
       "'18:00'"
      ]
     },
     "metadata": {},
     "execution_count": 134
    }
   ],
   "metadata": {
    "tags": []
   }
  },
  {
   "cell_type": "code",
   "execution_count": 9,
   "source": [
    "def solution(stats):\n",
    "    def check(stats):\n",
    "        \n",
    "        pass\n",
    "    \n",
    "    answer=''\n",
    "    sets=set()\n",
    "    for i in stats:\n",
    "        sets.add(i[0])\n",
    "        sets.add(i[1])\n",
    "    sets= {v:i for i,v in enumerate(sorted(sets))}\n",
    "    parents = [sets[i] for i in sets]\n",
    "\n",
    "    \n",
    "\n",
    "    return parents, sets\n",
    "stats = ['ab','bc','ca','fg','gt']\n",
    "solution(stats)"
   ],
   "outputs": [
    {
     "output_type": "execute_result",
     "data": {
      "text/plain": [
       "([0, 1, 2, 3, 4, 5], {'a': 0, 'b': 1, 'c': 2, 'f': 3, 'g': 4, 't': 5})"
      ]
     },
     "metadata": {},
     "execution_count": 9
    }
   ],
   "metadata": {}
  },
  {
   "cell_type": "code",
   "execution_count": 13,
   "source": [
    "# 이코테 - 팀결성\n",
    "n,teams = 7,[[0,1,3],[1,1,7],[0,7,6],[1,7,1],[0,3,7],[0,4,2],[0,1,1],[1,1,1]]\n",
    "def solution(teams=teams):\n",
    "    def union(lead,a,b):\n",
    "        fa=find(lead,a)\n",
    "        fb=find(lead,b)\n",
    "        if a>b:\n",
    "            lead[a] = fb\n",
    "        else:\n",
    "            lead[b] = fa \n",
    "    def find(lead, a):\n",
    "        if lead[a] != a:\n",
    "            lead[a] = find(lead, lead[a])\n",
    "        else:\n",
    "            return a\n",
    "    # teams[0]의 0:합치기연산 , 1:같은 집합인지 체크\n",
    "    answer=[]\n",
    "    lead=[i for i in range(n+1)]\n",
    "    for check, a,b in teams:\n",
    "        if check: # 같은집합인지체크\n",
    "            if find(lead,a)==find(lead,b): answer.append('YES')\n",
    "            else: answer.append('NO')\n",
    "        else: # 같은집합으로 합치기\n",
    "            union(lead,a,b)\n",
    "\n",
    "    return answer\n",
    "\n",
    "solution()"
   ],
   "outputs": [
    {
     "output_type": "execute_result",
     "data": {
      "text/plain": [
       "['NO', 'NO', 'YES']"
      ]
     },
     "metadata": {},
     "execution_count": 13
    }
   ],
   "metadata": {}
  },
  {
   "cell_type": "code",
   "execution_count": 43,
   "source": [
    "# 이코테 - 도시분할계획 (300p)\n",
    "# def mkgraph(roads):\n",
    "#     graph={}\n",
    "#     return graph\n",
    "def solution(n,m,roads):\n",
    "    def find(parents,x):\n",
    "        if x==parents[x]:\n",
    "            return x\n",
    "        else:\n",
    "            parents[x] = find(parents, parents[x])\n",
    "            return parents[x]\n",
    "    def union(parents, a,b):\n",
    "        a=find(parents,a)\n",
    "        b=find(parents,b)\n",
    "        if a>b: parents[a]=b\n",
    "        else:parents[b]=a\n",
    "    # 어짜피 스패닝트리를 만들어놓고, 그 스패닝트리 안에서 가장 비싼 간선 하나 삭제하면, 두 그룹으로 나뉜다!\n",
    "    parents=[i for i in range(n+1)]\n",
    "    roads = sorted(roads, key=(lambda x: x[-1]), reverse=True)\n",
    "    answer=0\n",
    "    last=0\n",
    "    while roads:\n",
    "        a,b,cost = roads.pop()\n",
    "        if find(parents,a) != find(parents,b):\n",
    "            print(a,b,cost)\n",
    "            union(parents,a,b)\n",
    "            answer+=cost\n",
    "            last = cost\n",
    "        else:\n",
    "            continue\n",
    "    # print(parents[1:])\n",
    "    return answer - last\n",
    "# n개의 집, m개의 길(양방향), [from, to, cost]\n",
    "# 집의 그룹을 2개로 나눔 (각 그룹내 집은 서로 오갈수있는 경로가 존재, 각 그룹 집들 사이의 최소 경로로 )\n",
    "n,m,roads=7,12,[[1,2,3],[1,3,2],[3,2,1],[2,5,2],[3,4,4],[7,3,6],[5,1,5],[1,6,2],[6,4,1],[6,5,3],[4,5,3],[6,7,4]]\n",
    "solution(n,m,roads)"
   ],
   "outputs": [
    {
     "output_type": "stream",
     "name": "stdout",
     "text": [
      "6 4 1\n",
      "3 2 1\n",
      "1 6 2\n",
      "2 5 2\n",
      "1 3 2\n",
      "6 7 4\n"
     ]
    },
    {
     "output_type": "execute_result",
     "data": {
      "text/plain": [
       "8"
      ]
     },
     "metadata": {},
     "execution_count": 43
    }
   ],
   "metadata": {}
  },
  {
   "cell_type": "code",
   "execution_count": 53,
   "source": [
    "from collections import deque\n",
    "# Topology Sort (위상정렬)\n",
    "\n",
    "nodes, edges = 7,[[1,2],[1,5],[2,3],[2,6],[3,4],[4,7],[5,6],[6,4]]\n",
    "def Topology_Sort(nodes,edges):\n",
    "    # 진입차수별 소팅, 매 iter마다 진입차수 0 인 노드 꺼내기\n",
    "    result = [] # 진행결과\n",
    "    graph={i:[] for i in range(nodes+1)} # 실제 그래프로 사용할 부분\n",
    "    indegree = [0 for i in range(nodes+1)] # 진입차수를 기록\n",
    "    q = deque() # Queue로 사용\n",
    "    for edge in edges: # 그래프, 진입차수 초기화\n",
    "        indegree[edge[1]]+=1 \n",
    "        graph[edge[0]].append(edge[1])\n",
    "    for i in range(1,nodes+1): # 진입차수 0인것 queue에 추가\n",
    "        if indegree[i]==0:\n",
    "            q.append(i)\n",
    "    \n",
    "    while q: \n",
    "        # 매 순간 q에서 뽑아서, 결과에 붙이고, \n",
    "        now = q.popleft()\n",
    "        result.append(now)\n",
    "\n",
    "        # now에서 진입하는 녀석 graph[now] 들 차수 1 감소,  \n",
    "        # 그녀석의 진입차수가 0이 되었다면 q에 추가\n",
    "        for i in graph[now]:\n",
    "            indegree[i]-=1\n",
    "            if indegree[i]==0: q.append(i)\n",
    "\n",
    "    print(result)\n",
    "    return indegree, graph\n",
    "\n",
    "\n",
    "Topology_Sort(nodes,edges)"
   ],
   "outputs": [
    {
     "output_type": "stream",
     "name": "stdout",
     "text": [
      "[1, 2, 5, 3, 6, 4, 7]\n"
     ]
    },
    {
     "output_type": "execute_result",
     "data": {
      "text/plain": [
       "([0, 0, 0, 0, 0, 0, 0, 0],\n",
       " {0: [], 1: [2, 5], 2: [3, 6], 3: [4], 4: [7], 5: [6], 6: [4], 7: []})"
      ]
     },
     "metadata": {},
     "execution_count": 53
    }
   ],
   "metadata": {}
  },
  {
   "cell_type": "code",
   "execution_count": 78,
   "source": [
    "# 이코테 - 커리큘럼 (303p)\n",
    "# 강의시간, 선수과목s, -1 (끝)\n",
    "from collections import deque\n",
    "N, subjects=5,[[10,-1],[10,1,-1],[4,1,-1],[4,3,1,-1],[3,3,-1]] # 1번부터 5번까지인 강의들을 뜻함\n",
    "\n",
    "def solution(N,subjects):\n",
    "    answer=0\n",
    "    # costs={(i+1):subjects[i][0] for i in range(N)}\n",
    "    costs=[0]+[subjects[i][0] for i in range(N)]\n",
    "    indegree=[0 for i in range(N+1)]\n",
    "    graph={(i+1):[] for i in range(N)}\n",
    "    for i in range(N):\n",
    "        prep=subjects[i][1:-1]\n",
    "        for pre in prep:\n",
    "            graph[pre].append(i+1)\n",
    "            indegree[i+1]+=1\n",
    "    q = deque()\n",
    "    for i in range(N+1):\n",
    "        if i==0: continue\n",
    "        if indegree[i]==0:\n",
    "            q.append(i)\n",
    "    \n",
    "    results=costs[:]\n",
    "\n",
    "    while q:\n",
    "        now = q.popleft()\n",
    "        if graph.get(now):\n",
    "            for i in graph[now]:\n",
    "                results[i] = max(results[i], results[now] + costs[i])\n",
    "                indegree[i] -= 1\n",
    "                if indegree[i]==0:\n",
    "                    q.append(i)\n",
    "    return results[1:]\n",
    "solution(N,subjects)\n"
   ],
   "outputs": [
    {
     "output_type": "execute_result",
     "data": {
      "text/plain": [
       "[10, 20, 14, 18, 17]"
      ]
     },
     "metadata": {},
     "execution_count": 78
    }
   ],
   "metadata": {}
  },
  {
   "cell_type": "code",
   "execution_count": 91,
   "source": [
    "def solution(N,subjects): # 이코테 커리큘럼 달리풀어보기 -> 오답됨..\n",
    "    def dfs_st(graph, costs, start):\n",
    "        stack=[start]\n",
    "        answer=0\n",
    "        while stack:\n",
    "            now = stack.pop()\n",
    "            answer+=costs[now]\n",
    "            if graph.get(now):\n",
    "                stack.extend(graph[now])\n",
    "        return answer\n",
    "    answers=[0 for i in range(N+1)]\n",
    "    costs=[0]+[subjects[i][0] for i in range(N)]\n",
    "    graph={(i+1):[] for i in range(N)}\n",
    "    \n",
    "    for i in range(N):\n",
    "        prep=subjects[i][1:-1]\n",
    "        for pre in prep:\n",
    "            graph[i+1].append(pre)\n",
    "\n",
    "    for i in range(N+1):\n",
    "        if i==0:continue\n",
    "        print(i, 'start')\n",
    "        tmp = [i]\n",
    "        if graph.get(i):\n",
    "            tmp.extend(graph[i])\n",
    "        for pre in tmp:\n",
    "            print(pre)\n",
    "            # answers[i]+=costs[pre]\n",
    "            answers[i] = dfs_st(graph,costs,i)\n",
    "    print(answers)\n",
    "    return graph, costs\n",
    "solution(N,subjects)\n"
   ],
   "outputs": [
    {
     "output_type": "stream",
     "name": "stdout",
     "text": [
      "1 start\n",
      "1\n",
      "2 start\n",
      "2\n",
      "1\n",
      "3 start\n",
      "3\n",
      "1\n",
      "4 start\n",
      "4\n",
      "3\n",
      "1\n",
      "5 start\n",
      "5\n",
      "3\n",
      "[0, 10, 20, 14, 28, 17]\n"
     ]
    },
    {
     "output_type": "execute_result",
     "data": {
      "text/plain": [
       "({1: [], 2: [1], 3: [1], 4: [3, 1], 5: [3]}, [0, 10, 10, 4, 4, 3])"
      ]
     },
     "metadata": {},
     "execution_count": 91
    }
   ],
   "metadata": {}
  },
  {
   "cell_type": "code",
   "execution_count": 68,
   "source": [
    "from heapq import *\n",
    "from collections import deque\n",
    "def solution(jobs):\n",
    "    jobs = deque(sorted(jobs))\n",
    "    waited=0\n",
    "    n=0\n",
    "    cnt=jobs[0][0] # 첫 작업 도착시간으로 세팅\n",
    "    a,b = jobs.popleft()\n",
    "    hq=[[b,a]]\n",
    "    time=0\n",
    "    while hq or jobs:\n",
    "        if hq:\n",
    "            n+=1 # job개수카운트\n",
    "            jobtime,come = heappop(hq) # 작업시간 , 도착시간\n",
    "            cnt += jobtime \n",
    "            waited+=(cnt-come)\n",
    "        else:\n",
    "            cnt+=1\n",
    "        while jobs:\n",
    "            if jobs[0][0]<=cnt:\n",
    "                nextjob = jobs.popleft()\n",
    "                heappush(hq, [nextjob[1], nextjob[0]])\n",
    "            else:\n",
    "                break\n",
    "        \n",
    "        print(jobs, hq, cnt)\n",
    "    return waited//n\n",
    "\n",
    "# jobs=[[24, 10], [28, 39], [43, 20], [37, 5], [47, 22], [20, 47], [15, 34], [15, 2], [35, 43], [26, 1]]\n",
    "jobs=[[0,3],[1,9],[2,6]]\n",
    "solution(jobs)"
   ],
   "outputs": [
    {
     "output_type": "stream",
     "name": "stdout",
     "text": [
      "deque([]) [[6, 2], [9, 1]] 3\n",
      "deque([]) [[9, 1]] 9\n",
      "deque([]) [] 18\n"
     ]
    },
    {
     "output_type": "execute_result",
     "data": {
      "text/plain": [
       "9"
      ]
     },
     "metadata": {},
     "execution_count": 68
    }
   ],
   "metadata": {}
  },
  {
   "cell_type": "code",
   "execution_count": null,
   "source": [],
   "outputs": [],
   "metadata": {}
  },
  {
   "cell_type": "code",
   "execution_count": null,
   "source": [],
   "outputs": [],
   "metadata": {}
  },
  {
   "cell_type": "code",
   "execution_count": 30,
   "source": [
    "# https://programmers.co.kr/learn/courses/30/lessons/12904\n",
    "# 프로그래머스 가장긴펠린드롬\n",
    "\n",
    "def solution(s):\n",
    "    n=len(s)\n",
    "    if n==1: return 1\n",
    "    elif ispalin2(s) : return len(s)\n",
    "    maxlen=1\n",
    "    for i in range(len(s)-1):\n",
    "        # print(i)\n",
    "        for j in range(i,len(s)):\n",
    "            # print('change i , j ',i,j,s[i:j])\n",
    "            chk=ispalin2(s[i:j])\n",
    "            if chk>=maxlen:\n",
    "                maxlen = chk    \n",
    "    return maxlen\n",
    "\n",
    "def ispalin2(ss):\n",
    "    for i in range(len(ss)//2):\n",
    "        if ss[i]!=ss[-1-i]: return 0\n",
    "    return len(ss)\n",
    "\n",
    "def ispalin(ss):\n",
    "    p=0\n",
    "    while p < len(ss)//2:\n",
    "        if ss[p]==ss[-1-p]:\n",
    "            p+=1\n",
    "        else:\n",
    "            return 0\n",
    "    return len(ss)\n",
    "\n",
    "# s = 'abcdabdcba'\n",
    "# s = 'abacde'\n",
    "solution('abcabcdcbae')\n",
    "# ispalin2('abcdcba')\n",
    "# 5//2"
   ],
   "outputs": [
    {
     "output_type": "execute_result",
     "data": {
      "text/plain": [
       "7"
      ]
     },
     "metadata": {},
     "execution_count": 30
    }
   ],
   "metadata": {}
  },
  {
   "cell_type": "code",
   "execution_count": 58,
   "source": [
    "#https://programmers.co.kr/learn/courses/30/lessons/82612\n",
    "\n",
    "def solution(price, money, count):\n",
    "    tmp=money - price*(count*(count+1)//2)\n",
    "    # for cnt in range(1,count+1):\n",
    "        # money-=price*cnt \n",
    "    return tmp\n",
    "\n",
    "\n",
    "solution(3,20,4)"
   ],
   "outputs": [
    {
     "output_type": "execute_result",
     "data": {
      "text/plain": [
       "-10"
      ]
     },
     "metadata": {},
     "execution_count": 58
    }
   ],
   "metadata": {}
  },
  {
   "cell_type": "code",
   "execution_count": null,
   "source": [
    "# https://programmers.co.kr/learn/courses/30/lessons/86052?language=python3 빛의경로사이클\n",
    "def solution(grid):\n",
    "    answer=[]\n",
    "    # 동,남,서,북\n",
    "    dx=[0,1,0,-1]\n",
    "    dy=[1,0,-1,0]\n",
    "    \n"
   ],
   "outputs": [],
   "metadata": {}
  }
 ],
 "metadata": {
  "interpreter": {
   "hash": "fadc0cf148511e913432907e7552089c1c0a3aee5ad75d70a741eb25cd3cd508"
  },
  "kernelspec": {
   "name": "python3",
   "display_name": "Python 3.8.0 64-bit ('codestates': conda)"
  },
  "language_info": {
   "codemirror_mode": {
    "name": "ipython",
    "version": 3
   },
   "file_extension": ".py",
   "mimetype": "text/x-python",
   "name": "python",
   "nbconvert_exporter": "python",
   "pygments_lexer": "ipython3",
   "version": "3.8.0"
  },
  "orig_nbformat": 4
 },
 "nbformat": 4,
 "nbformat_minor": 2
}