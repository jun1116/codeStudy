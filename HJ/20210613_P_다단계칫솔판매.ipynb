{
 "metadata": {
  "language_info": {
   "codemirror_mode": {
    "name": "ipython",
    "version": 3
   },
   "file_extension": ".py",
   "mimetype": "text/x-python",
   "name": "python",
   "nbconvert_exporter": "python",
   "pygments_lexer": "ipython3",
   "version": "3.8.5"
  },
  "orig_nbformat": 2,
  "kernelspec": {
   "name": "python385jvsc74a57bd039a3f6769e595a50e593a296d8b0c78e5171348aaba449e974344d6732d07a14",
   "display_name": "Python 3.8.5 64-bit ('base': conda)"
  }
 },
 "nbformat": 4,
 "nbformat_minor": 2,
 "cells": [
  {
   "cell_type": "code",
   "execution_count": 1,
   "metadata": {},
   "outputs": [
    {
     "output_type": "execute_result",
     "data": {
      "text/plain": [
       "True"
      ]
     },
     "metadata": {},
     "execution_count": 1
    }
   ],
   "source": [
    "from collections import defaultdict\n",
    "def mktree(enroll, referral):\n",
    "    dic=defaultdict()\n",
    "    for ee, ref in zip(enroll,referral):\n",
    "        if ref==\"-\":\n",
    "            dic[ee] = ['',0]\n",
    "        else:\n",
    "            dic[ee]=[ref,0]\n",
    "    return dic\n",
    "def solution(enroll, referral, seller, amount):\n",
    "    dic=mktree(enroll,referral)\n",
    "    # print(dic)\n",
    "    for sell,amou in zip(seller,amount):\n",
    "        coin = amou*100\n",
    "        forparent=coin//10\n",
    "        \n",
    "        if dic[sell][0]=='':# 부모가센터\n",
    "            dic[sell][1] += coin-forparent\n",
    "        \n",
    "        else: # 다른추천자가있어 -> DFS\n",
    "            que=[]\n",
    "            que.append(sell)\n",
    "            while que:\n",
    "                now = que.pop()\n",
    "                # print(now, coin, forparent)\n",
    "                if now in dic:\n",
    "                    if coin >= 1:\n",
    "                        # print(now,':',dic[now][1],'+',round(coin-forparent))\n",
    "                        dic[now][1] += round(coin-forparent)\n",
    "                        que.append(dic[now][0])\n",
    "                        coin = forparent\n",
    "                        forparent = coin//10\n",
    "                    else:\n",
    "                        dic[now][1] += coin\n",
    "    answer = [int(i[1][1]) for i in dic.items()]\n",
    "    return answer\n",
    "\n",
    "\n",
    "# enroll,referral,seller,amount=[\"john\", \"mary\", \"edward\", \"sam\", \"emily\", \"jaimie\", \"tod\", \"young\"],[\"-\", \"-\", \"mary\", \"edward\", \"mary\", \"mary\", \"jaimie\", \"edward\"],[\"sam\", \"emily\", \"jaimie\", \"edward\"],[2, 3, 5, 4]\n",
    "# #[0, 110, 378, 180, 270, 450, 0, 0]\n",
    "\n",
    "enroll,referral,seller,amount = [\"john\", \"mary\", \"edward\", \"sam\", \"emily\", \"jaimie\", \"tod\", \"young\"],[\"-\", \"-\", \"mary\", \"edward\", \"mary\", \"mary\", \"jaimie\", \"edward\"],[\"young\", \"john\", \"tod\", \"emily\", \"mary\"],[12, 4, 2, 5, 10]\n",
    "[360, 958, 108, 0, 450, 18, 180, 1080] == solution(enroll,referral,seller,amount)    "
   ]
  }
 ]
}