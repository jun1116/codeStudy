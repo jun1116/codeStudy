{
 "cells": [
  {
   "cell_type": "code",
   "execution_count": 1,
   "metadata": {
    "ExecuteTime": {
     "end_time": "2020-12-14T15:30:48.800727Z",
     "start_time": "2020-12-14T15:30:48.793724Z"
    }
   },
   "outputs": [],
   "source": [
    "name='JEROEN'"
   ]
  },
  {
   "cell_type": "code",
   "execution_count": 2,
   "metadata": {
    "ExecuteTime": {
     "end_time": "2020-12-14T15:33:31.952650Z",
     "start_time": "2020-12-14T15:33:31.940646Z"
    }
   },
   "outputs": [],
   "source": [
    "#     J E  R  O  E  N\n",
    "#     9,5,10, 3  5  9\n",
    "alp='ABCDEFGHIJKLMNOPQRSTUVWXYZ'"
   ]
  },
  {
   "cell_type": "code",
   "execution_count": 7,
   "metadata": {
    "ExecuteTime": {
     "end_time": "2020-12-14T15:36:41.703123Z",
     "start_time": "2020-12-14T15:36:41.692313Z"
    }
   },
   "outputs": [
    {
     "name": "stdout",
     "output_type": "stream",
     "text": [
      "0 A\n",
      "1 B\n",
      "2 C\n",
      "3 D\n",
      "4 E\n",
      "5 F\n",
      "6 G\n",
      "7 H\n",
      "8 I\n",
      "9 J\n",
      "10 K\n",
      "11 L\n",
      "12 M\n",
      "13 N\n",
      "14 O\n",
      "15 P\n",
      "16 Q\n",
      "17 R\n",
      "18 S\n",
      "19 T\n",
      "20 U\n",
      "21 V\n",
      "22 W\n",
      "23 X\n",
      "24 Y\n",
      "25 Z\n"
     ]
    }
   ],
   "source": [
    "dic={}\n",
    "for i,v in enumerate(alp):\n",
    "    dic[v]=i"
   ]
  },
  {
   "cell_type": "code",
   "execution_count": 10,
   "metadata": {
    "ExecuteTime": {
     "end_time": "2020-12-14T15:44:17.162964Z",
     "start_time": "2020-12-14T15:44:17.155347Z"
    }
   },
   "outputs": [],
   "source": [
    "dic={}\n",
    "for i,v in enumerate(alp):\n",
    "    dic[v]=i"
   ]
  },
  {
   "cell_type": "markdown",
   "metadata": {},
   "source": [
    "JAZ\n"
   ]
  },
  {
   "cell_type": "code",
   "execution_count": 24,
   "metadata": {
    "ExecuteTime": {
     "end_time": "2020-12-14T15:56:03.183453Z",
     "start_time": "2020-12-14T15:56:03.178682Z"
    }
   },
   "outputs": [],
   "source": [
    "def sub(st,dest):\n",
    "    if dic[st]>dic[dest]:\n",
    "        return dic[st]-dic[dest]\n",
    "    else:\n",
    "        return dic[dest]-dic[st]"
   ]
  },
  {
   "cell_type": "code",
   "execution_count": 70,
   "metadata": {
    "ExecuteTime": {
     "end_time": "2020-12-14T16:56:39.337747Z",
     "start_time": "2020-12-14T16:56:39.320022Z"
    }
   },
   "outputs": [
    {
     "name": "stdout",
     "output_type": "stream",
     "text": [
      "0 J 9\n",
      "1 E 14\n",
      "2 R 24\n",
      "3 O 37\n",
      "4 E 42\n",
      "5 N 56\n",
      "56 [9, 4, 9, 12, 4, 13]\n"
     ]
    }
   ],
   "source": [
    "def find(dest):\n",
    "    a=sub('A',dest)\n",
    "    b=sub('Z',dest)+1\n",
    "    return min(a,b)\n",
    "ans=0\n",
    "name='JEROEN'\n",
    "tmp=[]\n",
    "lenn=len(name)\n",
    "for i,v in enumerate(name):\n",
    "    if i==0:\n",
    "        ans+=find(v)\n",
    "        print(i,v,ans)\n",
    "        tmp.append(find(v))\n",
    "    else:\n",
    "        ans+=1\n",
    "        ans+=find(v)\n",
    "        tmp.append(find(v))\n",
    "        print(i,v,ans)\n",
    "print(ans, tmp)"
   ]
  },
  {
   "cell_type": "code",
   "execution_count": 53,
   "metadata": {
    "ExecuteTime": {
     "end_time": "2020-12-14T16:42:24.509113Z",
     "start_time": "2020-12-14T16:42:24.495590Z"
    }
   },
   "outputs": [
    {
     "data": {
      "text/plain": [
       "[9, 4, 9, 12, 4, 13]"
      ]
     },
     "execution_count": 53,
     "metadata": {},
     "output_type": "execute_result"
    }
   ],
   "source": [
    "tmp"
   ]
  },
  {
   "cell_type": "code",
   "execution_count": 88,
   "metadata": {
    "ExecuteTime": {
     "end_time": "2020-12-14T17:03:28.054923Z",
     "start_time": "2020-12-14T17:03:28.038926Z"
    }
   },
   "outputs": [
    {
     "name": "stdout",
     "output_type": "stream",
     "text": [
      "0 J 9 ------- 10\n",
      "1 N 13 ------- 24\n",
      "2 E 4 ------- 29\n",
      "3 O 12 ------- 42\n",
      "4 R 9 ------- 52\n",
      "5 E 4 ------- 56\n",
      "56\n"
     ]
    }
   ],
   "source": [
    "name='JEROEN'\n",
    "reans=0\n",
    "lenn=len(name)\n",
    "rename = name[0]\n",
    "for i in reversed(name[1:]):\n",
    "    rename+=i\n",
    "for i,v in enumerate(rename):\n",
    "    if i==0:\n",
    "        reans+=find(v)+1\n",
    "    else:\n",
    "        if i+1==len(rename):\n",
    "            if find(v)==0:\n",
    "                reans-=1\n",
    "                continue\n",
    "            else: reans+=find(v)\n",
    "        else:\n",
    "            reans+=1\n",
    "            reans+=find(v)\n",
    "            \n",
    "print(reans)\n"
   ]
  },
  {
   "cell_type": "code",
   "execution_count": null,
   "metadata": {},
   "outputs": [],
   "source": []
  },
  {
   "cell_type": "code",
   "execution_count": null,
   "metadata": {},
   "outputs": [],
   "source": []
  },
  {
   "cell_type": "code",
   "execution_count": null,
   "metadata": {},
   "outputs": [],
   "source": []
  },
  {
   "cell_type": "code",
   "execution_count": null,
   "metadata": {},
   "outputs": [],
   "source": []
  },
  {
   "cell_type": "code",
   "execution_count": null,
   "metadata": {},
   "outputs": [],
   "source": []
  },
  {
   "cell_type": "markdown",
   "metadata": {},
   "source": [
    "## 제출코드 : "
   ]
  },
  {
   "cell_type": "code",
   "execution_count": null,
   "metadata": {},
   "outputs": [],
   "source": [
    "def solution(name):\n",
    "    ans = 0\n",
    "    for i,v in enumerate(name):\n",
    "        if i==0:\n",
    "            ans+=find(v)\n",
    "        else:\n",
    "            ans+=1\n",
    "            ans+=find(v)\n",
    "    reans=0\n",
    "    lenn=len(name)\n",
    "    rename = name[0]\n",
    "    for i in reversed(name[1:]):\n",
    "        rename+=i\n",
    "    for i,v in enumerate(rename):\n",
    "        if i==0:\n",
    "            reans+=find(v)+1\n",
    "        else:\n",
    "            if i+1==len(rename):\n",
    "                if find(v)==0:\n",
    "                    reans-=1\n",
    "                    continue\n",
    "                else: reans+=find(v)\n",
    "            else:\n",
    "                reans+=1\n",
    "                reans+=find(v)\n",
    "    \n",
    "    return min(ans,reans)\n",
    "alp='ABCDEFGHIJKLMNOPQRSTUVWXYZ'\n",
    "dic={}\n",
    "for i,v in enumerate(alp):\n",
    "    dic[v]=i\n",
    "def sub(st,dest):\n",
    "    if dic[st]>dic[dest]:\n",
    "        return dic[st]-dic[dest]\n",
    "    else:\n",
    "        return dic[dest]-dic[st]\n",
    "    \n",
    "def find(dest):\n",
    "    a=sub('A',dest)\n",
    "    b=sub('Z',dest)+1\n",
    "    return min(a,b)"
   ]
  }
 ],
 "metadata": {
  "kernelspec": {
   "display_name": "Python 3",
   "language": "python",
   "name": "python3"
  },
  "language_info": {
   "codemirror_mode": {
    "name": "ipython",
    "version": 3
   },
   "file_extension": ".py",
   "mimetype": "text/x-python",
   "name": "python",
   "nbconvert_exporter": "python",
   "pygments_lexer": "ipython3",
   "version": "3.8.5"
  },
  "toc": {
   "base_numbering": 1,
   "nav_menu": {},
   "number_sections": true,
   "sideBar": true,
   "skip_h1_title": false,
   "title_cell": "Table of Contents",
   "title_sidebar": "Contents",
   "toc_cell": false,
   "toc_position": {},
   "toc_section_display": true,
   "toc_window_display": false
  }
 },
 "nbformat": 4,
 "nbformat_minor": 4
}
