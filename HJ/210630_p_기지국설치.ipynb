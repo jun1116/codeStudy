{
 "cells": [
  {
   "cell_type": "code",
   "execution_count": 2,
   "metadata": {},
   "outputs": [],
   "source": [
    "# N\tstations\tW\tanswer\n",
    "N,stations, w = 11,[4, 11],1#3\n",
    "# N,stations, w = 16,[9],2#3"
   ]
  },
  {
   "cell_type": "code",
   "execution_count": 6,
   "metadata": {},
   "outputs": [
    {
     "data": {
      "text/plain": [
       "3"
      ]
     },
     "execution_count": 6,
     "metadata": {},
     "output_type": "execute_result"
    }
   ],
   "source": [
    "# 첫번쨰 풀이 \n",
    "def solution(n, stations, w):\n",
    "    answer=0\n",
    "    segs=[]\n",
    "    for i,v in enumerate(stations):\n",
    "        if i==0: #처음\n",
    "            segs.append(v-w-1)\n",
    "        else: # 중간\n",
    "            segs.append(v-w-1-(stations[i-1]+w))\n",
    "    if stations[-1]+w < n : #마지막\n",
    "        segs.append(n-(stations[-1]+w))\n",
    "    \n",
    "    for seg in segs:\n",
    "        if seg%(2*w+1)==0:\n",
    "            answer += seg//(2*w+1)\n",
    "        else:\n",
    "            answer += seg//(2*w+1)+1\n",
    "    return answer\n",
    "solution(N,stations,w)"
   ]
  },
  {
   "cell_type": "code",
   "execution_count": 5,
   "metadata": {},
   "outputs": [
    {
     "data": {
      "text/plain": [
       "3"
      ]
     },
     "execution_count": 5,
     "metadata": {},
     "output_type": "execute_result"
    }
   ],
   "source": [
    "# 두번째 풀이\n",
    "def solution(n, stations, w):\n",
    "    def getneeds(seg):\n",
    "        if seg%(2*w+1)==0:\n",
    "            return seg//(2*w+1)\n",
    "        else:\n",
    "            return seg//(2*w+1)+1\n",
    "    answer=0\n",
    "    for i,v in enumerate(stations):\n",
    "        if i==0: #처음\n",
    "            answer+=getneeds(v-w-1)\n",
    "        else: # 중간\n",
    "            answer+=getneeds((v-w-1-(stations[i-1]+w)))\n",
    "    if stations[-1]+w < n : #마지막\n",
    "        answer+= getneeds(n-(stations[-1]+w))\n",
    "    return answer\n",
    "solution(N,stations,w)"
   ]
  }
 ],
 "metadata": {
  "interpreter": {
   "hash": "39a3f6769e595a50e593a296d8b0c78e5171348aaba449e974344d6732d07a14"
  },
  "kernelspec": {
   "display_name": "Python 3.8.5 64-bit ('base': conda)",
   "name": "python3"
  },
  "language_info": {
   "codemirror_mode": {
    "name": "ipython",
    "version": 3
   },
   "file_extension": ".py",
   "mimetype": "text/x-python",
   "name": "python",
   "nbconvert_exporter": "python",
   "pygments_lexer": "ipython3",
   "version": "3.8.5"
  },
  "orig_nbformat": 4
 },
 "nbformat": 4,
 "nbformat_minor": 2
}