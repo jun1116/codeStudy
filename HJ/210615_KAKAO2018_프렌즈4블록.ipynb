{
 "metadata": {
  "language_info": {
   "codemirror_mode": {
    "name": "ipython",
    "version": 3
   },
   "file_extension": ".py",
   "mimetype": "text/x-python",
   "name": "python",
   "nbconvert_exporter": "python",
   "pygments_lexer": "ipython3",
   "version": "3.8.5"
  },
  "orig_nbformat": 4,
  "kernelspec": {
   "name": "python3",
   "display_name": "Python 3.8.5 64-bit ('base': conda)"
  },
  "interpreter": {
   "hash": "39a3f6769e595a50e593a296d8b0c78e5171348aaba449e974344d6732d07a14"
  }
 },
 "nbformat": 4,
 "nbformat_minor": 2,
 "cells": [
  {
   "cell_type": "code",
   "execution_count": 1,
   "metadata": {},
   "outputs": [
    {
     "output_type": "execute_result",
     "data": {
      "text/plain": [
       "15"
      ]
     },
     "metadata": {},
     "execution_count": 1
    }
   ],
   "source": [
    "def solution(m,n,board):\n",
    "    answer=0\n",
    "    bd=[[i for i in row] for row in board]\n",
    "    while True:\n",
    "        bklist=[]\n",
    "        for i in range(m-1): # 맨오른쪽과, 맨아랫라인은 체크할 필요가 없음 \n",
    "            for j in range(n-1):\n",
    "                tf,_=check(bd,i,j,m,n,0)\n",
    "                if tf: # check\n",
    "                    bklist.append([i,j])\n",
    "        if bklist :\n",
    "            for i,j in bklist:\n",
    "                answer += check(bd,i,j,m,n,1)[1]\n",
    "            for col in range(n):\n",
    "                clearbd(bd,m,col)\n",
    "        else:\n",
    "            break\n",
    "    return answer\n",
    "\n",
    "def check(bd,i,j,m,n,breaking):\n",
    "    if bd[i][j]==0 and breaking!=1: return False, 0\n",
    "    adx=[0,0,1,1]\n",
    "    ady=[0,1,0,1]\n",
    "    bkcnt=0\n",
    "    for dx,dy in zip(adx,ady):\n",
    "        x=i+dx\n",
    "        y=j+dy\n",
    "        if breaking:\n",
    "            if bd[x][y]==0 : pass\n",
    "            else: \n",
    "                bd[x][y] = 0\n",
    "                bkcnt+=1\n",
    "        elif x<m and y<n:\n",
    "            if bd[x][y] != bd[i][j]: \n",
    "                return False, bkcnt\n",
    "    return True, bkcnt\n",
    "\n",
    "def clearbd(bd,m,col):\n",
    "    tmp=[]\n",
    "    tog=1\n",
    "    for row in range(m-1,-1,-1):\n",
    "        if bd[row][col]!=0:\n",
    "            tmp.append(bd[row][col])\n",
    "            bd[row][col]=0\n",
    "    for row in range(m-1 , m-len(tmp)-1 , -1):\n",
    "        bd[row][col] = tmp.pop(0)\n",
    "# m,n,board = 4,5,[\"CCBDE\", \"AAADE\", \"AAABF\", \"CCBBF\"]#14\n",
    "m,n,board = 6,6,[\"TTTANT\", \"RRFACC\", \"RRRFCC\", \"TRRRAA\", \"TTMMMF\", \"TMMTTJ\"]#15\n",
    "solution(m,n,board)"
   ]
  },
  {
   "cell_type": "code",
   "execution_count": null,
   "metadata": {},
   "outputs": [],
   "source": []
  }
 ]
}