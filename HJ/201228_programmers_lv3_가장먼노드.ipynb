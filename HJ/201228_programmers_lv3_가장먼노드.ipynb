{
 "cells": [
  {
   "cell_type": "code",
   "execution_count": 1,
   "metadata": {
    "ExecuteTime": {
     "end_time": "2020-12-28T11:46:49.931904Z",
     "start_time": "2020-12-28T11:46:49.928902Z"
    }
   },
   "outputs": [],
   "source": [
    "vertex=[[3, 6], [4, 3], [3, 2], [1, 3], [1, 2], [2, 4], [5, 2]]\t"
   ]
  },
  {
   "cell_type": "code",
   "execution_count": 2,
   "metadata": {
    "ExecuteTime": {
     "end_time": "2020-12-28T11:47:51.852760Z",
     "start_time": "2020-12-28T11:47:51.846695Z"
    }
   },
   "outputs": [],
   "source": [
    "def solution(n,edges):\n",
    "    answer=0\n",
    "    \n",
    "    return answer"
   ]
  },
  {
   "cell_type": "code",
   "execution_count": 5,
   "metadata": {
    "ExecuteTime": {
     "end_time": "2020-12-28T12:09:52.740045Z",
     "start_time": "2020-12-28T12:09:52.720220Z"
    }
   },
   "outputs": [
    {
     "data": {
      "text/plain": [
       "{3: [6, 4, 2, 1], 6: [3], 4: [3, 2], 2: [3, 1, 4, 5], 1: [3, 2], 5: [2]}"
      ]
     },
     "execution_count": 5,
     "metadata": {},
     "output_type": "execute_result"
    }
   ],
   "source": [
    "def mkgraph(edges):\n",
    "    dic=dict()\n",
    "    for i in edges:\n",
    "        now=dic.get(i[0])\n",
    "        if now:\n",
    "            now.append(i[1])\n",
    "        else:\n",
    "            dic[i[0]]=[i[1]]\n",
    "        now=dic.get(i[1])\n",
    "        if now:\n",
    "            now.append(i[0])\n",
    "        else:\n",
    "            dic[i[1]]=[i[0]]\n",
    "    return dic\n",
    "graph=mkgraph(vertex)\n",
    "graph"
   ]
  },
  {
   "cell_type": "code",
   "execution_count": 47,
   "metadata": {
    "ExecuteTime": {
     "end_time": "2020-12-28T13:48:55.436459Z",
     "start_time": "2020-12-28T13:48:55.423007Z"
    }
   },
   "outputs": [],
   "source": [
    "tmp=[1,2,3,4,0,5]\n",
    "stmp=set(tmp)"
   ]
  },
  {
   "cell_type": "code",
   "execution_count": 54,
   "metadata": {
    "ExecuteTime": {
     "end_time": "2020-12-28T13:50:02.352525Z",
     "start_time": "2020-12-28T13:50:02.335044Z"
    }
   },
   "outputs": [
    {
     "ename": "TypeError",
     "evalue": "add() takes exactly one argument (3 given)",
     "output_type": "error",
     "traceback": [
      "\u001b[1;31m---------------------------------------------------------------------------\u001b[0m",
      "\u001b[1;31mTypeError\u001b[0m                                 Traceback (most recent call last)",
      "\u001b[1;32m<ipython-input-54-c4d333007b81>\u001b[0m in \u001b[0;36m<module>\u001b[1;34m\u001b[0m\n\u001b[1;32m----> 1\u001b[1;33m \u001b[0mstmp\u001b[0m\u001b[1;33m.\u001b[0m\u001b[0madd\u001b[0m\u001b[1;33m(\u001b[0m\u001b[1;36m1\u001b[0m\u001b[1;33m,\u001b[0m\u001b[1;36m2\u001b[0m\u001b[1;33m,\u001b[0m\u001b[1;36m3\u001b[0m\u001b[1;33m)\u001b[0m\u001b[1;33m\u001b[0m\u001b[1;33m\u001b[0m\u001b[0m\n\u001b[0m",
      "\u001b[1;31mTypeError\u001b[0m: add() takes exactly one argument (3 given)"
     ]
    }
   ],
   "source": [
    "# stmp.add(1,2,3)"
   ]
  },
  {
   "cell_type": "code",
   "execution_count": 56,
   "metadata": {
    "ExecuteTime": {
     "end_time": "2020-12-28T13:50:50.838637Z",
     "start_time": "2020-12-28T13:50:50.830643Z"
    }
   },
   "outputs": [
    {
     "name": "stdout",
     "output_type": "stream",
     "text": [
      "[] 1 0\n",
      "[3] 2 1\n",
      "[3, 3, 1, 4] 5 2\n",
      "[3, 3, 1, 4] 2 3\n",
      "[3, 3, 1] 4 2\n",
      "[3, 3, 1, 3] 2 3\n",
      "[3, 3, 1] 3 2\n",
      "[3, 3, 1, 6, 4, 2] 1 3\n",
      "[3, 3, 1, 6, 4] 2 2\n",
      "[3, 3, 1, 6] 4 1\n",
      "[3, 3, 1] 6 0\n",
      "[3, 3, 1] 3 1\n",
      "[3, 3] 1 0\n",
      "[3] 3 -1\n",
      "[] 3 -2\n"
     ]
    },
    {
     "data": {
      "text/plain": [
       "([1, 2, 5, 4, 3, 6], [0, 1, 2, 2, 2, 0])"
      ]
     },
     "execution_count": 56,
     "metadata": {},
     "output_type": "execute_result"
    }
   ],
   "source": [
    "def dfsDepth(graph,start):\n",
    "    visited=[]\n",
    "    dep=[]\n",
    "    stack=[start]\n",
    "    depth=0\n",
    "    while stack:\n",
    "        now=stack.pop()\n",
    "        print(stack, now , depth)\n",
    "        if now in visited:\n",
    "            depth-=1\n",
    "        else:\n",
    "            visited.append(now)\n",
    "            dep.append(depth)\n",
    "            stack.extend(graph[now])\n",
    "            depth+=1\n",
    "    return visited , dep\n",
    "dfsDepth(graph,1)"
   ]
  },
  {
   "cell_type": "code",
   "execution_count": 25,
   "metadata": {
    "ExecuteTime": {
     "end_time": "2020-12-28T13:22:44.194998Z",
     "start_time": "2020-12-28T13:22:44.184649Z"
    }
   },
   "outputs": [
    {
     "data": {
      "text/plain": [
       "({1: 0, 3: 1, 6: 2, 4: 2, 2: 1, 5: 2}, {1: None, 3: 1, 6: 3, 4: 2, 2: 1, 5: 2})"
      ]
     },
     "execution_count": 25,
     "metadata": {},
     "output_type": "execute_result"
    }
   ],
   "source": [
    "import heapq\n",
    "def dijkstra(graph,start):\n",
    "    pq=[]\n",
    "    dist={}\n",
    "    prev={}\n",
    "    dist[start]=0\n",
    "    prev[start]=None\n",
    "    visited=[start,]\n",
    "    for i in graph.keys():\n",
    "        if i!=start:\n",
    "            dist[i]=float('inf')\n",
    "            prev[i]=None\n",
    "        heapq.heappush(pq, [ dist[i] , i ] ) ## 거리 , 노드번호\n",
    "        \n",
    "    while pq:\n",
    "        distance, node = heapq.heappop(pq) # distance : 0 , node : 1\n",
    "        \n",
    "        for vertex in graph[node]: # vertex => 3 , 2 \n",
    "            newdistance=dist[node] + 1 # if weight -> graph.get(node)[1]\n",
    "            if newdistance<dist[vertex]:\n",
    "                dist[vertex]=newdistance\n",
    "                prev[vertex]=node\n",
    "                pq.append([dist[vertex],vertex])\n",
    "    return dist,prev\n",
    "\n",
    "\n",
    "dijkstra(graph,1)"
   ]
  },
  {
   "cell_type": "code",
   "execution_count": 57,
   "metadata": {
    "ExecuteTime": {
     "end_time": "2020-12-28T16:07:14.591511Z",
     "start_time": "2020-12-28T16:07:14.577423Z"
    }
   },
   "outputs": [],
   "source": [
    "class Node:\n",
    "    def __init__(self):\n",
    "        self.value=None\n",
    "        self.left=None\n",
    "        self.right=None\n",
    "class meanHeap:\n",
    "    def __init__(self):\n",
    "        self.queue=[None]\n",
    "    def swap(self,i,j):\n",
    "        tmp=self.queue[i]\n",
    "        self.queue[i]=self.queue[j]\n",
    "        self.queue[j]=tmp\n",
    "    def parent(self,index):\n",
    "        return int(index/2)\n",
    "    \n",
    "    def insert(self,n):\n",
    "        self.queue.append(n)\n",
    "        i=len(self.queue)-1\n",
    "        while i>1:\n",
    "            parent=self.parent(i)\n",
    "            if self.queue[i]<self.queue[parent]:\n",
    "                self.swap(i,parent)\n",
    "            else: break\n",
    "    \n",
    "    def delete(self):\n",
    "        self.swap(1,len(self.queue)-1) #마지막원소와 root의 swap\n",
    "        tmp = self.queue.pop(len(self.queue)-1) #마지막원소 제거\n",
    "        self.minHeapify(1) # root에서부터 heapify를 시작\n",
    "        return tmp\n",
    "    \n",
    "    def minHeapify(self,i):\n",
    "        left=i*2\n",
    "        right=i*2+1\n",
    "        smallest = i\n",
    "        #왼쪽자식이 존재하고, 가장작은것보다 더 작으면 -> 가장작은건 왼쪽자식이 된다. \n",
    "        if left<=len(self.queue)-1 and self.queue[left] < self.queue[smallest]:\n",
    "            smallest=left\n",
    "        #만약 오른쪽자식도 존재하고, 그게 현재까지의 최소보다 작으면 -> 가장작은것은 오른쪽자식\n",
    "        if right <= len(self.queue)-1 and self.queue[right] < self.queue[smallest]:\n",
    "            smallest=right\n",
    "        #만약 자신이 가장 작은 것이 아니라면 -> 자식들 중 가장작은것과 바꾸고, 그 밑으로 recursive\n",
    "        if smallest!=i:\n",
    "            self.swap(i,smallest)\n",
    "            self.minHeapify(smallest)"
   ]
  },
  {
   "cell_type": "code",
   "execution_count": 59,
   "metadata": {
    "ExecuteTime": {
     "end_time": "2020-12-28T16:08:19.792566Z",
     "start_time": "2020-12-28T16:08:19.781175Z"
    }
   },
   "outputs": [
    {
     "name": "stdout",
     "output_type": "stream",
     "text": [
      "[None, 0, 5, 10, 15, 20, 25, 30, 35, 40, 45]\n"
     ]
    },
    {
     "data": {
      "text/plain": [
       "0"
      ]
     },
     "execution_count": 59,
     "metadata": {},
     "output_type": "execute_result"
    }
   ],
   "source": [
    "minheap=meanHeap()\n",
    "for _  in range(10):\n",
    "    minheap.insert(_*5)\n",
    "print(minheap.queue)\n",
    "minheap.delete()"
   ]
  },
  {
   "cell_type": "code",
   "execution_count": 10,
   "metadata": {
    "ExecuteTime": {
     "end_time": "2020-12-28T12:12:31.738195Z",
     "start_time": "2020-12-28T12:12:31.724664Z"
    }
   },
   "outputs": [
    {
     "data": {
      "text/plain": [
       "False"
      ]
     },
     "execution_count": 10,
     "metadata": {},
     "output_type": "execute_result"
    }
   ],
   "source": [
    "# float('inf')<100"
   ]
  },
  {
   "cell_type": "code",
   "execution_count": null,
   "metadata": {},
   "outputs": [],
   "source": [
    "# class node:\n",
    "    \n",
    "class graph:\n",
    "    def __init__(self):\n",
    "        self.node=None\n",
    "        self.edge=None\n",
    "        "
   ]
  },
  {
   "cell_type": "code",
   "execution_count": null,
   "metadata": {},
   "outputs": [],
   "source": []
  },
  {
   "cell_type": "code",
   "execution_count": null,
   "metadata": {},
   "outputs": [],
   "source": []
  },
  {
   "cell_type": "code",
   "execution_count": null,
   "metadata": {},
   "outputs": [],
   "source": []
  },
  {
   "cell_type": "markdown",
   "metadata": {},
   "source": [
    "#### 공부해볼만한 코드"
   ]
  },
  {
   "cell_type": "markdown",
   "metadata": {},
   "source": []
  },
  {
   "cell_type": "markdown",
   "metadata": {},
   "source": []
  }
 ],
 "metadata": {
  "kernelspec": {
   "display_name": "Python 3",
   "language": "python",
   "name": "python3"
  },
  "language_info": {
   "codemirror_mode": {
    "name": "ipython",
    "version": 3
   },
   "file_extension": ".py",
   "mimetype": "text/x-python",
   "name": "python",
   "nbconvert_exporter": "python",
   "pygments_lexer": "ipython3",
   "version": "3.8.5"
  },
  "toc": {
   "base_numbering": 1,
   "nav_menu": {},
   "number_sections": true,
   "sideBar": true,
   "skip_h1_title": false,
   "title_cell": "Table of Contents",
   "title_sidebar": "Contents",
   "toc_cell": false,
   "toc_position": {},
   "toc_section_display": true,
   "toc_window_display": false
  }
 },
 "nbformat": 4,
 "nbformat_minor": 4
}
