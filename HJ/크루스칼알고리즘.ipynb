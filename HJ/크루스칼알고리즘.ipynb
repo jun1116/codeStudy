{
 "cells": [
  {
   "cell_type": "code",
   "execution_count": 1,
   "metadata": {},
   "outputs": [
    {
     "output_type": "stream",
     "name": "stdout",
     "text": [
      "최소신장트리:  [(4, 5), (5, 6), (3, 5), (1, 3), (2, 4)]\n최소신장트리 가중치: 20\n"
     ]
    }
   ],
   "source": [
    "graph=[(1,2,13),(1,3,5),(2,4,9),(3,4,15),(3,5,3),(4,5,1),(4,6,7),(5,6,2)]\n",
    "\n",
    "graph.sort(key = lambda x: x[2]) # 가중치로 간선 정렬 (정점1, 정점2, 가중치)\n",
    "\n",
    "mst=[]\n",
    "n=6 # 정점 개수\n",
    "p=[0] # 상호배타적 집합\n",
    "\n",
    "for i in range(1,n+1):\n",
    "    p.append(i) # 각 정점 자신이 집합의 대표\n",
    "\n",
    "def find(u):\n",
    "    if u != p[u]:\n",
    "        p[u] = find(p[u]) # 경로압축\n",
    "    return p[u]\n",
    "\n",
    "def union(u, v):\n",
    "    root1 = find(u)\n",
    "    root2 = find(v)\n",
    "    p[root2] = root1 # 임의로 root2가 root1의 부모\n",
    "\n",
    "tree_edges = 0 # 간선 개수\n",
    "mst_cost = 0 # 가중치 합\n",
    "\n",
    "while True:\n",
    "    if tree_edges == n-1:\n",
    "        break\n",
    "    u, v, wt =graph.pop(0)\n",
    "    if find(u) != find(v): # u와 v가 서로 다른 집합에 속해 있으면\n",
    "        union(u, v)\n",
    "        mst.append((u, v)) \n",
    "        mst_cost += wt\n",
    "        tree_edges += 1\n",
    "\n",
    "# 출력>>최소신장트리:  [(4, 5), (5, 6), (3, 5), (1, 3), (2, 4)]\n",
    "print('최소신장트리: ',mst)\n",
    "\n",
    "# 출력>>최소신장트리 가중치: 20\n",
    "print('최소신장트리 가중치:', mst_cost)"
   ]
  },
  {
   "cell_type": "code",
   "execution_count": null,
   "metadata": {},
   "outputs": [],
   "source": []
  },
  {
   "cell_type": "code",
   "execution_count": 5,
   "metadata": {},
   "outputs": [
    {
     "output_type": "error",
     "ename": "ValueError",
     "evalue": "not enough values to unpack (expected 2, got 0)",
     "traceback": [
      "\u001b[0;31m---------------------------------------------------------------------------\u001b[0m",
      "\u001b[0;31mValueError\u001b[0m                                Traceback (most recent call last)",
      "\u001b[0;32m<ipython-input-5-fd00ee15f83f>\u001b[0m in \u001b[0;36m<module>\u001b[0;34m\u001b[0m\n\u001b[1;32m     17\u001b[0m \u001b[0;34m\u001b[0m\u001b[0m\n\u001b[1;32m     18\u001b[0m \u001b[0;31m#노드 개수와 간선(Union연산)의 개수 입력 받기\u001b[0m\u001b[0;34m\u001b[0m\u001b[0;34m\u001b[0m\u001b[0;34m\u001b[0m\u001b[0m\n\u001b[0;32m---> 19\u001b[0;31m \u001b[0mv\u001b[0m\u001b[0;34m,\u001b[0m \u001b[0me\u001b[0m \u001b[0;34m=\u001b[0m \u001b[0mmap\u001b[0m\u001b[0;34m(\u001b[0m\u001b[0mint\u001b[0m\u001b[0;34m,\u001b[0m \u001b[0minput\u001b[0m\u001b[0;34m(\u001b[0m\u001b[0;34m)\u001b[0m\u001b[0;34m.\u001b[0m\u001b[0msplit\u001b[0m\u001b[0;34m(\u001b[0m\u001b[0;34m)\u001b[0m\u001b[0;34m)\u001b[0m\u001b[0;34m\u001b[0m\u001b[0;34m\u001b[0m\u001b[0m\n\u001b[0m\u001b[1;32m     20\u001b[0m \u001b[0mparent\u001b[0m \u001b[0;34m=\u001b[0m \u001b[0;34m[\u001b[0m\u001b[0;36m0\u001b[0m\u001b[0;34m]\u001b[0m \u001b[0;34m*\u001b[0m \u001b[0;34m(\u001b[0m\u001b[0mv\u001b[0m\u001b[0;34m+\u001b[0m\u001b[0;36m1\u001b[0m\u001b[0;34m)\u001b[0m \u001b[0;31m## 부모 테이블 초기화하기\u001b[0m\u001b[0;34m\u001b[0m\u001b[0;34m\u001b[0m\u001b[0m\n\u001b[1;32m     21\u001b[0m \u001b[0;34m\u001b[0m\u001b[0m\n",
      "\u001b[0;31mValueError\u001b[0m: not enough values to unpack (expected 2, got 0)"
     ]
    }
   ],
   "source": [
    "## 유튜브 나동빈님 크루스칼 영상\n",
    "#특정 원소가 속한 집합 찾기\n",
    "def fint_parent(parent, x):\n",
    "    # 루트 노드를 찾을 때 까지 재귀 호출\n",
    "    if parent[x] != x:\n",
    "        parent[x] = fint_parent(parent, parent[x])\n",
    "    return parent[x]\n",
    "\n",
    "#두 원소가 속한 집합을 합치기\n",
    "def union_parent(parent,a,b):\n",
    "    a = find_parent(parent,a)\n",
    "    b = fint_parent(parent,b)\n",
    "    if a<b:\n",
    "        parent[b] = a\n",
    "    else:\n",
    "        parent[a] = b\n",
    "\n",
    "#노드 개수와 간선(Union연산)의 개수 입력 받기\n",
    "v, e = map(int, input().split())\n",
    "parent = [0] * (v+1) ## 부모 테이블 초기화하기\n",
    "\n",
    "#모든 간선을 담을 리스트와, 최종 비용을 담을 변수\n",
    "edges = []\n",
    "result = 0\n",
    "\n",
    "#부모 테이블상에서, 부모를 자기 자신으로 초기화\n",
    "for i in range(1,v+1):\n",
    "    parent[i] = i\n",
    "\n",
    "#모든 간선에 대한 정보를 입력 받기\n",
    "for _ in range(e):\n",
    "    a, b, cost = map(int, input().split())\n",
    "    #이 때 cost를 0번으로 놓음으로써 sort를 할때 더 편하게 해버림\n",
    "    edges.append((cost, a, b))\n",
    "\n",
    "#간선을 비용 순으로 정렬\n",
    "edges.sort()\n",
    "\n",
    "for edge in edges:\n",
    "    cost, a, b = edge\n",
    "    #사이클이 발생하지 않는 경우에만 집합에 포함\n",
    "    if find_parent(parent, a) != find_parent(parent,b):\n",
    "        union_parent(parent, a, b)\n",
    "        result += cost\n",
    "print(result)"
   ]
  }
 ],
 "metadata": {
  "kernelspec": {
   "display_name": "Python 3",
   "language": "python",
   "name": "python3"
  }
 },
 "nbformat": 4,
 "nbformat_minor": 4
}