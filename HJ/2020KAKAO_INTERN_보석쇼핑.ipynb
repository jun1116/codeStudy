{
 "metadata": {
  "language_info": {
   "codemirror_mode": {
    "name": "ipython",
    "version": 3
   },
   "file_extension": ".py",
   "mimetype": "text/x-python",
   "name": "python",
   "nbconvert_exporter": "python",
   "pygments_lexer": "ipython3",
   "version": "3.8.5"
  },
  "orig_nbformat": 2,
  "kernelspec": {
   "name": "python385jvsc74a57bd039a3f6769e595a50e593a296d8b0c78e5171348aaba449e974344d6732d07a14",
   "display_name": "Python 3.8.5 64-bit ('base': conda)"
  }
 },
 "nbformat": 4,
 "nbformat_minor": 2,
 "cells": [
  {
   "source": [
    "첫번째 시도 \n",
    "O(N^2)"
   ],
   "cell_type": "markdown",
   "metadata": {}
  },
  {
   "cell_type": "code",
   "execution_count": 1,
   "metadata": {},
   "outputs": [
    {
     "output_type": "execute_result",
     "data": {
      "text/plain": [
       "[3, 7]"
      ]
     },
     "metadata": {},
     "execution_count": 1
    }
   ],
   "source": [
    "gems = [\"DIA\", \"RUBY\", \"RUBY\", \"DIA\", \"DIA\", \"EMERALD\", \"SAPPHIRE\", \"DIA\"] #[3, 7]\n",
    "# gems = [\"AA\", \"AB\", \"AC\", \"AA\", \"AC\"] #\t[1, 3]\n",
    "# gems = [\"XYZ\", \"XYZ\", \"XYZ\"]#\t[1, 1]\n",
    "# gems = [\"ZZZ\", \"YYY\", \"NNNN\", \"YYY\", \"BBB\"]#\t[1, 5]\n",
    "def solution(gems = gems):# 진열된 모든 종류의 보석을 적어도 1개 이상 포함하는 가장 짧은 구간을 찾아 구매하기\n",
    "    answer = []\n",
    "    gemkind=set(gems) ## O(n)\n",
    "    anslist=[]\n",
    "    for i,v in enumerate(gems): # 어짜피 한번은 다 돌아야해\n",
    "        tmp=[v,]\n",
    "        tmpidx=[i+1,]\n",
    "        for j,vv in enumerate(gems[i+1:]):\n",
    "            ## 나랑 같은게 뒤에도 있는데, 아직 보석을 다 담지 못했어 -> 해당 인덱스부터 시작하는조합은 X야\n",
    "            if vv == v and len(tmp)<len(gemkind): break \n",
    "\n",
    "            if vv not in tmp:\n",
    "                tmp.append(vv)\n",
    "                tmpidx.append(i+j+1+1)\n",
    "        if len(tmp) == len(gemkind) : \n",
    "            # tmpidx[-1] - tmpidx[0]\n",
    "            anslist.append([tmpidx[-1] - tmpidx[0],tmpidx])\n",
    "    anslist = sorted(anslist, key=(lambda x : (x[0], x[1][0])))\n",
    "    # print(anslist)\n",
    "    if len(anslist[0][1])==1:\n",
    "        ans = [anslist[0][1][0] , anslist[0][1][0]]\n",
    "    else:\n",
    "        ans = [anslist[0][1][0], anslist[0][1][-1]]\n",
    "    return ans\n",
    "\n",
    "solution()"
   ]
  },
  {
   "source": [
    "## Two Pointer\n",
    "1차원 배열에서 사용가능, O(N^2)보다 작은 시간복잡도로 풀어야할 때\n",
    "\n",
    "ex :  N칸의 1차원 배열이 있을 때, 부분 배열 중 그 원소 합이 M이 되는 경우의 수를 구하기\n",
    "> 1. start , end = 0,0으로 시작 , 언제나 start <= end 이어야함\n",
    "2. start와 end는 현재 부분배열의 시작과 끝 \n",
    "3-1. 현재 부분합이 M 이상이거나 , 이미 end = N 이라면 :: start ++\n",
    "3-2. 그렇지 않다면 end ++\n",
    "3-3. 현재 부분합이 M과 같다면 결과 ++\n"
   ],
   "cell_type": "markdown",
   "metadata": {}
  },
  {
   "cell_type": "code",
   "execution_count": 73,
   "metadata": {
    "tags": []
   },
   "outputs": [
    {
     "output_type": "stream",
     "name": "stdout",
     "text": [
      "gemkind = {'RUBY', 'SAPPHIRE', 'DIA', 'EMERALD'}\nbasket에 보석종류 다 참, 0, 7 , [[0, 7]]\nbasket에 보석종류 다 참, 1, 7 , [[0, 7]]\nbasket에 보석종류 다 참, 2, 7 , [[2, 7]]\n(3, 8) ['DIA', 'DIA', 'EMERALD', 'SAPPHIRE', 'DIA'] {'DIA': 3, 'EMERALD': 1, 'SAPPHIRE': 1} 3\n"
     ]
    },
    {
     "output_type": "execute_result",
     "data": {
      "text/plain": [
       "[2, 7]"
      ]
     },
     "metadata": {},
     "execution_count": 73
    }
   ],
   "source": [
    "################ 실패 #################\n",
    "gems = [\"DIA\", \"RUBY\", \"RUBY\", \"DIA\", \"DIA\", \"EMERALD\", \"SAPPHIRE\", \"DIA\"] #[3, 7]\n",
    "# gems = ['SSS','BB','C']\n",
    "def solution(gems):\n",
    "    gemkind = set(gems)\n",
    "    gemkind_num = len(gemkind)\n",
    "    gemlen = len(gems)\n",
    "    if gemkind_num==1 : return[1,1]\n",
    "    if gemkind_num==2 and gemlen ==2 : return [1,2]\n",
    "    s, e = 0, 0\n",
    "    answer = [s,gemlen-1]\n",
    "\n",
    "    basket={}\n",
    "    basketlen=0\n",
    "    print(f\"gemkind = {gemkind}\")\n",
    "    \n",
    "    while s < gemlen and e < gemlen:\n",
    "        # print(\"\\ns , e :: \",s,e)\n",
    "        if basketlen < gemkind_num: # e 를 이동하는 과정\n",
    "            # print(f'end : {e} to {e+1}')\n",
    "            if basket.get(gems[e]): # 이미 존재하는것 -> 바스켓에 1 더하기\n",
    "                basket[gems[e]] += 1\n",
    "            else: # 처음보는것 -> 바스켓에 추가\n",
    "                basket[gems[e]] = 1\n",
    "                basketlen+=1\n",
    "            e+=1\n",
    "        else:# basketlen == gemkind_num: # s 를 이동하는 과정\n",
    "            print(f\"basket에 보석종류 다 참, {s}, {e} , [{answer}]\")\n",
    "            if answer[1]-answer[0] > e-s : answer=[s+1,e]\n",
    "            if basket[gems[s]] == 1: # 어떤 보석이 딱 하나 남아있는상황 -> 빼야지\n",
    "                # print('tlf')\n",
    "                del(basket[gems[s]])\n",
    "                basketlen -=1\n",
    "            else:\n",
    "                # print('tlf')\n",
    "                basket[gems[s]] -= 1\n",
    "            s+=1\n",
    "    print((s,e),gems[s:e], basket, len(basket))\n",
    "    return answer\n",
    "solution(gems)\n"
   ]
  },
  {
   "source": [
    "## 새롭게 적용시켜서 풀어본것 -> 성공!! (210528)"
   ],
   "cell_type": "markdown",
   "metadata": {}
  },
  {
   "cell_type": "code",
   "execution_count": 91,
   "metadata": {},
   "outputs": [
    {
     "output_type": "execute_result",
     "data": {
      "text/plain": [
       "[1, 1]"
      ]
     },
     "metadata": {},
     "execution_count": 91
    }
   ],
   "source": [
    "# gems = [\"DIA\", \"RUBY\", \"RUBY\", \"DIA\", \"DIA\", \"EMERALD\", \"SAPPHIRE\", \"DIA\"] #[3, 7]\n",
    "gems = ['ddd','ddd','ddd']\n",
    "def solution(gems):\n",
    "    answer = [1,len(gems)]\n",
    "    s,e = 0,0\n",
    "    lengem = len(gems)\n",
    "    gemkind = set(gems)\n",
    "    if len(gemkind) == 1: return [1,1]\n",
    "    basket = {gems[0]:0}\n",
    "    while s<lengem and e<lengem:\n",
    "        if len(basket) < len(gemkind): # e 이동\n",
    "            if basket.get(gems[e]):\n",
    "                basket[gems[e]] +=1\n",
    "            else:\n",
    "                basket[gems[e]] = 1\n",
    "            e+=1\n",
    "        while len(basket) == len(gemkind): # s이동\n",
    "            if basket[gems[s]] > 1:\n",
    "                basket[gems[s]] -=1\n",
    "            else:\n",
    "                del(basket[gems[s]])\n",
    "            s += 1\n",
    "            if answer[1]- answer[0] > e-s:\n",
    "                print(s,e)\n",
    "                answer = [s, e]\n",
    "    return answer\n",
    "solution(gems)\n"
   ]
  },
  {
   "cell_type": "code",
   "execution_count": null,
   "metadata": {},
   "outputs": [],
   "source": []
  },
  {
   "source": [
    "## 공부할 풀이... ㅠㅠㅡ"
   ],
   "cell_type": "markdown",
   "metadata": {}
  },
  {
   "cell_type": "code",
   "execution_count": 19,
   "metadata": {},
   "outputs": [
    {
     "output_type": "execute_result",
     "data": {
      "text/plain": [
       "[3, 7]"
      ]
     },
     "metadata": {},
     "execution_count": 19
    }
   ],
   "source": [
    "def solution(gems):\n",
    "    n = len(set(gems))\n",
    "    gemlen = len(gems)\n",
    "    answer = [0, len(gems) - 1]\n",
    "    start , end = 0,0\n",
    "    dic = {gems[0]:1}\n",
    "    while start < gemlen and end < gemlen:\n",
    "        if len(dic) == n : \n",
    "            if answer[1] - answer[0] > end - start : \n",
    "                answer = [start, end]\n",
    "            if dic[gems[start]] == 1:\n",
    "                del dic[gems[start]]\n",
    "            else:\n",
    "                dic[gems[start]] -=1\n",
    "            start +=1\n",
    "        else:\n",
    "            end+=1\n",
    "            if end==gemlen:break\n",
    "            else:\n",
    "                if dic.get(gems[end]):\n",
    "                    dic[gems[end]] +=1\n",
    "                else:\n",
    "                    dic[gems[end]] = 1\n",
    "    return [answer[0]+1 , answer[1]+1]\n",
    "solution(gems)"
   ]
  },
  {
   "cell_type": "code",
   "execution_count": 45,
   "metadata": {},
   "outputs": [
    {
     "output_type": "execute_result",
     "data": {
      "text/plain": [
       "[3, 5]"
      ]
     },
     "metadata": {},
     "execution_count": 45
    }
   ],
   "source": [
    "def solution(gems):\n",
    "    answer=[]\n",
    "    shortest = len(gems)+1\n",
    "\n",
    "    start_p , end_p = 0,0\n",
    "    check_len = len(set(gems))\n",
    "    contained ={}\n",
    "\n",
    "    while end_p < len(gems):\n",
    "        if gems[end_p] not in contained :\n",
    "            contained[gems[end_p]] = 1\n",
    "        else:\n",
    "            contained[gems[end_p]] += 1\n",
    "        end_p +=1\n",
    "\n",
    "        if len(contained) == check_len:\n",
    "            while start_p < end_p:\n",
    "                if contained[gems[start_p]] > 1:\n",
    "                    contained[gems[start_p]] -=1\n",
    "                    start_p +=1\n",
    "                elif shortest > end_p - start_p:\n",
    "                    shortest = end_p - start_p\n",
    "                    answer = [start_p+1 , end_p]\n",
    "                    break\n",
    "                else: break\n",
    "    return answer\n",
    "# gems = [\"DIA\", \"RUBY\", \"RUBY\", \"DIA\", \"DIA\", \"EMERALD\", \"SAPPHIRE\", \"DIA\"] #[3, 7]\n",
    "gems = [\"DIA\", \"RUBY\", \"RUBY\", \"DIA\",  \"SAPPHIRE\", \"DIA\"] #[3, 7]\n",
    "solution(gems)"
   ]
  }
 ]
}