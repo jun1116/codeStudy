{
 "metadata": {
  "language_info": {
   "codemirror_mode": {
    "name": "ipython",
    "version": 3
   },
   "file_extension": ".py",
   "mimetype": "text/x-python",
   "name": "python",
   "nbconvert_exporter": "python",
   "pygments_lexer": "ipython3",
   "version": "3.8.0-final"
  },
  "orig_nbformat": 2,
  "kernelspec": {
   "name": "python3",
   "display_name": "Python 3.8.0 64-bit ('codestates': conda)",
   "metadata": {
    "interpreter": {
     "hash": "fadc0cf148511e913432907e7552089c1c0a3aee5ad75d70a741eb25cd3cd508"
    }
   }
  }
 },
 "nbformat": 4,
 "nbformat_minor": 2,
 "cells": [
  {
   "cell_type": "code",
   "execution_count": 31,
   "metadata": {},
   "outputs": [
    {
     "output_type": "stream",
     "name": "stdout",
     "text": [
      "['1', '2', '4', '5', '7', '8']\n\n\n['4', '1', '7', '7', '2', '5', '2', '8', '4', '1']\n['4', '7', '7', '2', '5', '2', '8', '4', '1']\n\n['4', '7', '7', '2', '5', '2', '8', '4']\n['4', '7', '7', '5', '2', '8', '4']\n\n"
     ]
    },
    {
     "output_type": "execute_result",
     "data": {
      "text/plain": [
       "['4', '7', '7', '5', '8', '4']"
      ]
     },
     "metadata": {},
     "execution_count": 31
    }
   ],
   "source": [
    "#210404_Greedy_큰수만들기\n",
    "num=\"4177252841\"\n",
    "k=4\n",
    "def solution(num,k):\n",
    "    ans=list(num)\n",
    "    nums = sorted(set(num))\n",
    "    print(nums)\n",
    "    print()\n",
    "    for i,v in enumerate(nums):\n",
    "        print()\n",
    "        \n",
    "        if len(ans)+4 == len(num):\n",
    "            break\n",
    "        while v in ans and len(num)-len(ans) < 4:\n",
    "            print(ans)\n",
    "            ans.remove(v)\n",
    "            \n",
    "        \n",
    "\n",
    "    return ans\n",
    "solution(num,k)\n",
    "\n"
   ]
  },
  {
   "cell_type": "code",
   "execution_count": 9,
   "metadata": {},
   "outputs": [
    {
     "output_type": "stream",
     "name": "stdout",
     "text": [
      "77252841\n\n['7', '7', '2', '5', '2', '8', '4'] 1\n\n['7', '7', '5', '2', '8', '4'] 2\n\n"
     ]
    },
    {
     "output_type": "execute_result",
     "data": {
      "text/plain": [
       "['7', '7', '5', '2', '8', '4']"
      ]
     },
     "metadata": {},
     "execution_count": 9
    }
   ],
   "source": [
    "num=\"4177252841\"\n",
    "k=4\n",
    "def solution(num,k):\n",
    "    # nums = sorted(set(num))\n",
    "    first=0\n",
    "\n",
    "    for i in range(k):\n",
    "        if num[i]<num[i+1]:\n",
    "            first = i+1\n",
    "        else:\n",
    "            pass\n",
    "    num = num[first:]\n",
    "    ans=list(num)\n",
    "    after_k = k-first\n",
    "    nums = sorted(set(num))\n",
    "    removed=0\n",
    "    print(num)\n",
    "    for i,v in enumerate(nums):\n",
    "        print()\n",
    "        if after_k+removed == k:\n",
    "            break\n",
    "        while v in ans and after_k + removed < k:\n",
    "            ans.remove(v)\n",
    "            removed+=1\n",
    "            print(ans , v)\n",
    "        \n",
    "\n",
    "    return ans\n",
    "solution(num,k)\n"
   ]
  },
  {
   "cell_type": "code",
   "execution_count": null,
   "metadata": {},
   "outputs": [],
   "source": []
  }
 ]
}