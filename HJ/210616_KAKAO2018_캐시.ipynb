{
 "metadata": {
  "language_info": {
   "codemirror_mode": {
    "name": "ipython",
    "version": 3
   },
   "file_extension": ".py",
   "mimetype": "text/x-python",
   "name": "python",
   "nbconvert_exporter": "python",
   "pygments_lexer": "ipython3",
   "version": "3.8.5"
  },
  "orig_nbformat": 4,
  "kernelspec": {
   "name": "python3",
   "display_name": "Python 3.8.5 64-bit ('base': conda)"
  },
  "interpreter": {
   "hash": "39a3f6769e595a50e593a296d8b0c78e5171348aaba449e974344d6732d07a14"
  }
 },
 "nbformat": 4,
 "nbformat_minor": 2,
 "cells": [
  {
   "cell_type": "code",
   "execution_count": null,
   "metadata": {},
   "outputs": [],
   "source": [
    "cacheSize, cities=3,[\"Jeju\", \"Pangyo\", \"Seoul\", \"NewYork\", \"LA\", \"Jeju\", \"Pangyo\", \"Seoul\", \"NewYork\", \"LA\"]#50\n",
    "# cacheSize, cities=3,[\"Jeju\", \"Pangyo\", \"Seoul\", \"Jeju\", \"Pangyo\", \"Seoul\", \"Jeju\", \"Pangyo\", \"Seoul\"]#21\n",
    "# cacheSize, cities=2,[\"Jeju\", \"Pangyo\", \"Seoul\", \"NewYork\", \"LA\", \"SanFrancisco\", \"Seoul\", \"Rome\", \"Paris\", \"Jeju\", \"NewYork\", \"Rome\"]#60\n",
    "# cacheSize, cities=5,[\"Jeju\", \"Pangyo\", \"Seoul\", \"NewYork\", \"LA\", \"SanFrancisco\", \"Seoul\", \"Rome\", \"Paris\", \"Jeju\", \"NewYork\", \"Rome\"]#52\n",
    "# cacheSize, cities=2,[\"Jeju\", \"Pangyo\", \"NewYork\", \"newyork\"]#16\n",
    "# cacheSize, cities=0,[\"Jeju\", \"Pangyo\", \"Seoul\", \"NewYork\", \"LA\"]#25"
   ]
  },
  {
   "cell_type": "code",
   "execution_count": 4,
   "metadata": {},
   "outputs": [
    {
     "output_type": "execute_result",
     "data": {
      "text/plain": [
       "7"
      ]
     },
     "metadata": {},
     "execution_count": 4
    }
   ],
   "source": [
    "import heapq\n",
    "def findNidx(lru, city):\n",
    "    idx=-1\n",
    "    for i,v in enumerate(lru):\n",
    "        lru[i][0]-=1\n",
    "        time,ct = v\n",
    "        if ct==city:\n",
    "            idx = i\n",
    "            lru[i][0]=0\n",
    "    return idx\n",
    "\n",
    "def solution(cacheSize, cities):\n",
    "    answer = 0\n",
    "    if cacheSize:\n",
    "        lru = [[0,i] for i in range(cacheSize)]\n",
    "        for city_ in cities:\n",
    "            city=city_.lower()\n",
    "            idx = findNidx(lru,city)\n",
    "            if idx == -1: # Not in Cache\n",
    "                # print(lru, 'NOhit', city)\n",
    "                answer+=5\n",
    "                heapq.heappop(lru)\n",
    "                heapq.heappush(lru,[0,city])\n",
    "            else: # In Cache\n",
    "                # print(lru, 'hit', city)\n",
    "                answer+=1\n",
    "        return answer\n",
    "    else:\n",
    "        return 5*len(cities)\n",
    "\n",
    "cacheSize, cities=6,[\"Jeju\", \"Jeju\", \"Jeju\"] #7\n",
    "# cacheSize, cities=0,[\"Jeju\", \"Pangyo\", \"Seoul\", \"NewYork\", \"LA\"]#25    \n",
    "solution(cacheSize, cities)"
   ]
  },
  {
   "cell_type": "code",
   "execution_count": null,
   "metadata": {},
   "outputs": [],
   "source": []
  },
  {
   "cell_type": "code",
   "execution_count": null,
   "metadata": {},
   "outputs": [],
   "source": []
  },
  {
   "cell_type": "code",
   "execution_count": null,
   "metadata": {},
   "outputs": [],
   "source": []
  },
  {
   "cell_type": "code",
   "execution_count": null,
   "metadata": {},
   "outputs": [],
   "source": []
  },
  {
   "cell_type": "code",
   "execution_count": null,
   "metadata": {},
   "outputs": [],
   "source": []
  },
  {
   "cell_type": "code",
   "execution_count": null,
   "metadata": {},
   "outputs": [],
   "source": [
    "# 공부할코드\n",
    "def solution(cacheSize, cities):\n",
    "    import collections\n",
    "    cache = collections.deque(maxlen=cacheSize)\n",
    "    time = 0\n",
    "    for i in cities:\n",
    "        print(i,'\\n',cache)\n",
    "        s = i.lower()\n",
    "        if s in cache:\n",
    "            cache.remove(s)\n",
    "            cache.append(s)\n",
    "            time += 1\n",
    "        else:\n",
    "            cache.append(s)\n",
    "            time += 5\n",
    "    return time\n",
    "cacheSize, cities=5,[\"Jeju\", \"Pangyo\", \"Seoul\", \"NewYork\", \"LA\", \"SanFrancisco\", \"Seoul\", \"Rome\", \"Paris\", \"Jeju\", \"NewYork\", \"Rome\"]#52\n",
    "solution(cacheSize, cities)"
   ]
  }
 ]
}